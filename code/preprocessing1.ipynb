{
 "cells": [
  {
   "cell_type": "code",
   "execution_count": 120,
   "id": "bb6f07f0",
   "metadata": {},
   "outputs": [],
   "source": [
    "from IPython.core.interactiveshell import InteractiveShell\n",
    "InteractiveShell.ast_node_interactivity = \"all\""
   ]
  },
  {
   "cell_type": "code",
   "execution_count": 121,
   "id": "c3593767",
   "metadata": {},
   "outputs": [],
   "source": [
    "import os\n",
    "import pandas as pd\n",
    "import numpy as np\n",
    "import matplotlib.pyplot as plt\n",
    "import seaborn as sns\n",
    "from sklearn.impute import SimpleImputer\n",
    "from sklearn.compose import ColumnTransformer\n",
    "from sklearn.preprocessing import OneHotEncoder\n",
    "from sklearn.model_selection import train_test_split"
   ]
  },
  {
   "cell_type": "code",
   "execution_count": 122,
   "id": "ccd56923",
   "metadata": {},
   "outputs": [
    {
     "name": "stdout",
     "output_type": "stream",
     "text": [
      "<class 'pandas.core.frame.DataFrame'>\n",
      "RangeIndex: 18654 entries, 0 to 18653\n",
      "Data columns (total 11 columns):\n",
      " #   Column      Non-Null Count  Dtype  \n",
      "---  ------      --------------  -----  \n",
      " 0   area        18654 non-null  int64  \n",
      " 1   region      18654 non-null  int64  \n",
      " 2   company_ad  18654 non-null  int64  \n",
      " 3   images      18654 non-null  object \n",
      " 4   brand       18654 non-null  object \n",
      " 5   model       18654 non-null  object \n",
      " 6   year        18654 non-null  int64  \n",
      " 7   km          18654 non-null  float64\n",
      " 8   type        18654 non-null  object \n",
      " 9   capacity    18654 non-null  object \n",
      " 10  price       18654 non-null  int64  \n",
      "dtypes: float64(1), int64(5), object(5)\n",
      "memory usage: 1.6+ MB\n"
     ]
    }
   ],
   "source": [
    "filename = \"C:/Users/khanh/code/DATA_SCIENCE/data/fill-blank.csv\"\n",
    "df = pd.read_csv(filename)\n",
    "df.info()\n",
    "df = df.values"
   ]
  },
  {
   "cell_type": "code",
   "execution_count": 138,
   "id": "99055208",
   "metadata": {},
   "outputs": [],
   "source": [
    "links_path = \"C:/Users/khanh/code/DATA_SCIENCE/data/clean_images/links/\"\n",
    "link_path_list = os.listdir(links_path)\n",
    "link_list = []\n",
    "for i in link_path_list:\n",
    "    with open(links_path+i) as f:\n",
    "        link_list.append(f.read())"
   ]
  },
  {
   "cell_type": "code",
   "execution_count": 124,
   "id": "2c227ef2",
   "metadata": {},
   "outputs": [],
   "source": [
    "for row in df:\n",
    "    links = []\n",
    "    for link in row[3][2:-2].split('\",\"'):\n",
    "        if link in link_list:\n",
    "            links.append(link)\n",
    "    row[3] = links"
   ]
  },
  {
   "cell_type": "code",
   "execution_count": 125,
   "id": "6e7bb72c",
   "metadata": {
    "scrolled": true
   },
   "outputs": [],
   "source": [
    "df = pd.DataFrame(df, columns=['area', 'region', 'company_ad', 'images', 'brand', 'model', 'year', 'km', 'type', 'capacity', 'price'])"
   ]
  },
  {
   "cell_type": "code",
   "execution_count": 126,
   "id": "93f84365",
   "metadata": {},
   "outputs": [],
   "source": [
    "df = df[df['images'].apply(bool)]"
   ]
  },
  {
   "cell_type": "code",
   "execution_count": 127,
   "id": "9028f16a",
   "metadata": {
    "scrolled": false
   },
   "outputs": [
    {
     "name": "stderr",
     "output_type": "stream",
     "text": [
      "C:\\Users\\khanh\\anaconda3\\envs\\my-conda-env\\lib\\site-packages\\category_encoders\\one_hot.py:145: FutureWarning: iteritems is deprecated and will be removed in a future version. Use .items instead.\n",
      "  for cat_name, class_ in values.iteritems():\n",
      "C:\\Users\\khanh\\anaconda3\\envs\\my-conda-env\\lib\\site-packages\\category_encoders\\one_hot.py:145: FutureWarning: iteritems is deprecated and will be removed in a future version. Use .items instead.\n",
      "  for cat_name, class_ in values.iteritems():\n",
      "C:\\Users\\khanh\\anaconda3\\envs\\my-conda-env\\lib\\site-packages\\category_encoders\\one_hot.py:145: FutureWarning: iteritems is deprecated and will be removed in a future version. Use .items instead.\n",
      "  for cat_name, class_ in values.iteritems():\n",
      "C:\\Users\\khanh\\anaconda3\\envs\\my-conda-env\\lib\\site-packages\\category_encoders\\one_hot.py:145: FutureWarning: iteritems is deprecated and will be removed in a future version. Use .items instead.\n",
      "  for cat_name, class_ in values.iteritems():\n",
      "C:\\Users\\khanh\\anaconda3\\envs\\my-conda-env\\lib\\site-packages\\category_encoders\\one_hot.py:145: FutureWarning: iteritems is deprecated and will be removed in a future version. Use .items instead.\n",
      "  for cat_name, class_ in values.iteritems():\n",
      "C:\\Users\\khanh\\anaconda3\\envs\\my-conda-env\\lib\\site-packages\\category_encoders\\one_hot.py:145: FutureWarning: iteritems is deprecated and will be removed in a future version. Use .items instead.\n",
      "  for cat_name, class_ in values.iteritems():\n"
     ]
    },
    {
     "data": {
      "text/html": [
       "<div>\n",
       "<style scoped>\n",
       "    .dataframe tbody tr th:only-of-type {\n",
       "        vertical-align: middle;\n",
       "    }\n",
       "\n",
       "    .dataframe tbody tr th {\n",
       "        vertical-align: top;\n",
       "    }\n",
       "\n",
       "    .dataframe thead th {\n",
       "        text-align: right;\n",
       "    }\n",
       "</style>\n",
       "<table border=\"1\" class=\"dataframe\">\n",
       "  <thead>\n",
       "    <tr style=\"text-align: right;\">\n",
       "      <th></th>\n",
       "      <th>area_119.0</th>\n",
       "      <th>area_110.0</th>\n",
       "      <th>area_36.0</th>\n",
       "      <th>area_11.0</th>\n",
       "      <th>area_129.0</th>\n",
       "      <th>area_86.0</th>\n",
       "      <th>area_73.0</th>\n",
       "      <th>area_74.0</th>\n",
       "      <th>area_10.0</th>\n",
       "      <th>area_100.0</th>\n",
       "      <th>...</th>\n",
       "      <th>km</th>\n",
       "      <th>type_Tay ga</th>\n",
       "      <th>type_Xe số</th>\n",
       "      <th>type_Tay côn/Moto</th>\n",
       "      <th>capacity_100 - 175 cc</th>\n",
       "      <th>capacity_Không biết</th>\n",
       "      <th>capacity_50 - 100 cc</th>\n",
       "      <th>capacity_Dưới 50 cc</th>\n",
       "      <th>capacity_Trên 175 cc</th>\n",
       "      <th>price</th>\n",
       "    </tr>\n",
       "  </thead>\n",
       "  <tbody>\n",
       "    <tr>\n",
       "      <th>0</th>\n",
       "      <td>1.0</td>\n",
       "      <td>0.0</td>\n",
       "      <td>0.0</td>\n",
       "      <td>0.0</td>\n",
       "      <td>0.0</td>\n",
       "      <td>0.0</td>\n",
       "      <td>0.0</td>\n",
       "      <td>0.0</td>\n",
       "      <td>0.0</td>\n",
       "      <td>0.0</td>\n",
       "      <td>...</td>\n",
       "      <td>35240.49862</td>\n",
       "      <td>1.0</td>\n",
       "      <td>0.0</td>\n",
       "      <td>0.0</td>\n",
       "      <td>1.0</td>\n",
       "      <td>0.0</td>\n",
       "      <td>0.0</td>\n",
       "      <td>0.0</td>\n",
       "      <td>0.0</td>\n",
       "      <td>59000000</td>\n",
       "    </tr>\n",
       "    <tr>\n",
       "      <th>1</th>\n",
       "      <td>1.0</td>\n",
       "      <td>0.0</td>\n",
       "      <td>0.0</td>\n",
       "      <td>0.0</td>\n",
       "      <td>0.0</td>\n",
       "      <td>0.0</td>\n",
       "      <td>0.0</td>\n",
       "      <td>0.0</td>\n",
       "      <td>0.0</td>\n",
       "      <td>0.0</td>\n",
       "      <td>...</td>\n",
       "      <td>38437.46218</td>\n",
       "      <td>1.0</td>\n",
       "      <td>0.0</td>\n",
       "      <td>0.0</td>\n",
       "      <td>1.0</td>\n",
       "      <td>0.0</td>\n",
       "      <td>0.0</td>\n",
       "      <td>0.0</td>\n",
       "      <td>0.0</td>\n",
       "      <td>53000000</td>\n",
       "    </tr>\n",
       "    <tr>\n",
       "      <th>2</th>\n",
       "      <td>0.0</td>\n",
       "      <td>1.0</td>\n",
       "      <td>0.0</td>\n",
       "      <td>0.0</td>\n",
       "      <td>0.0</td>\n",
       "      <td>0.0</td>\n",
       "      <td>0.0</td>\n",
       "      <td>0.0</td>\n",
       "      <td>0.0</td>\n",
       "      <td>0.0</td>\n",
       "      <td>...</td>\n",
       "      <td>30000.0</td>\n",
       "      <td>0.0</td>\n",
       "      <td>1.0</td>\n",
       "      <td>0.0</td>\n",
       "      <td>1.0</td>\n",
       "      <td>0.0</td>\n",
       "      <td>0.0</td>\n",
       "      <td>0.0</td>\n",
       "      <td>0.0</td>\n",
       "      <td>26000000</td>\n",
       "    </tr>\n",
       "    <tr>\n",
       "      <th>3</th>\n",
       "      <td>1.0</td>\n",
       "      <td>0.0</td>\n",
       "      <td>0.0</td>\n",
       "      <td>0.0</td>\n",
       "      <td>0.0</td>\n",
       "      <td>0.0</td>\n",
       "      <td>0.0</td>\n",
       "      <td>0.0</td>\n",
       "      <td>0.0</td>\n",
       "      <td>0.0</td>\n",
       "      <td>...</td>\n",
       "      <td>3500.0</td>\n",
       "      <td>0.0</td>\n",
       "      <td>0.0</td>\n",
       "      <td>1.0</td>\n",
       "      <td>0.0</td>\n",
       "      <td>1.0</td>\n",
       "      <td>0.0</td>\n",
       "      <td>0.0</td>\n",
       "      <td>0.0</td>\n",
       "      <td>48000000</td>\n",
       "    </tr>\n",
       "    <tr>\n",
       "      <th>4</th>\n",
       "      <td>1.0</td>\n",
       "      <td>0.0</td>\n",
       "      <td>0.0</td>\n",
       "      <td>0.0</td>\n",
       "      <td>0.0</td>\n",
       "      <td>0.0</td>\n",
       "      <td>0.0</td>\n",
       "      <td>0.0</td>\n",
       "      <td>0.0</td>\n",
       "      <td>0.0</td>\n",
       "      <td>...</td>\n",
       "      <td>33337.24211</td>\n",
       "      <td>1.0</td>\n",
       "      <td>0.0</td>\n",
       "      <td>0.0</td>\n",
       "      <td>1.0</td>\n",
       "      <td>0.0</td>\n",
       "      <td>0.0</td>\n",
       "      <td>0.0</td>\n",
       "      <td>0.0</td>\n",
       "      <td>63000000</td>\n",
       "    </tr>\n",
       "    <tr>\n",
       "      <th>...</th>\n",
       "      <td>...</td>\n",
       "      <td>...</td>\n",
       "      <td>...</td>\n",
       "      <td>...</td>\n",
       "      <td>...</td>\n",
       "      <td>...</td>\n",
       "      <td>...</td>\n",
       "      <td>...</td>\n",
       "      <td>...</td>\n",
       "      <td>...</td>\n",
       "      <td>...</td>\n",
       "      <td>...</td>\n",
       "      <td>...</td>\n",
       "      <td>...</td>\n",
       "      <td>...</td>\n",
       "      <td>...</td>\n",
       "      <td>...</td>\n",
       "      <td>...</td>\n",
       "      <td>...</td>\n",
       "      <td>...</td>\n",
       "      <td>...</td>\n",
       "    </tr>\n",
       "    <tr>\n",
       "      <th>10289</th>\n",
       "      <td>0.0</td>\n",
       "      <td>0.0</td>\n",
       "      <td>0.0</td>\n",
       "      <td>0.0</td>\n",
       "      <td>0.0</td>\n",
       "      <td>0.0</td>\n",
       "      <td>0.0</td>\n",
       "      <td>0.0</td>\n",
       "      <td>0.0</td>\n",
       "      <td>0.0</td>\n",
       "      <td>...</td>\n",
       "      <td>9000.0</td>\n",
       "      <td>0.0</td>\n",
       "      <td>0.0</td>\n",
       "      <td>1.0</td>\n",
       "      <td>0.0</td>\n",
       "      <td>1.0</td>\n",
       "      <td>0.0</td>\n",
       "      <td>0.0</td>\n",
       "      <td>0.0</td>\n",
       "      <td>26700000</td>\n",
       "    </tr>\n",
       "    <tr>\n",
       "      <th>10290</th>\n",
       "      <td>0.0</td>\n",
       "      <td>0.0</td>\n",
       "      <td>1.0</td>\n",
       "      <td>0.0</td>\n",
       "      <td>0.0</td>\n",
       "      <td>0.0</td>\n",
       "      <td>0.0</td>\n",
       "      <td>0.0</td>\n",
       "      <td>0.0</td>\n",
       "      <td>0.0</td>\n",
       "      <td>...</td>\n",
       "      <td>5000.0</td>\n",
       "      <td>1.0</td>\n",
       "      <td>0.0</td>\n",
       "      <td>0.0</td>\n",
       "      <td>1.0</td>\n",
       "      <td>0.0</td>\n",
       "      <td>0.0</td>\n",
       "      <td>0.0</td>\n",
       "      <td>0.0</td>\n",
       "      <td>33800000</td>\n",
       "    </tr>\n",
       "    <tr>\n",
       "      <th>10291</th>\n",
       "      <td>0.0</td>\n",
       "      <td>0.0</td>\n",
       "      <td>0.0</td>\n",
       "      <td>0.0</td>\n",
       "      <td>0.0</td>\n",
       "      <td>0.0</td>\n",
       "      <td>0.0</td>\n",
       "      <td>0.0</td>\n",
       "      <td>0.0</td>\n",
       "      <td>0.0</td>\n",
       "      <td>...</td>\n",
       "      <td>50000.0</td>\n",
       "      <td>0.0</td>\n",
       "      <td>0.0</td>\n",
       "      <td>1.0</td>\n",
       "      <td>1.0</td>\n",
       "      <td>0.0</td>\n",
       "      <td>0.0</td>\n",
       "      <td>0.0</td>\n",
       "      <td>0.0</td>\n",
       "      <td>11000000</td>\n",
       "    </tr>\n",
       "    <tr>\n",
       "      <th>10292</th>\n",
       "      <td>0.0</td>\n",
       "      <td>0.0</td>\n",
       "      <td>0.0</td>\n",
       "      <td>0.0</td>\n",
       "      <td>0.0</td>\n",
       "      <td>0.0</td>\n",
       "      <td>0.0</td>\n",
       "      <td>0.0</td>\n",
       "      <td>0.0</td>\n",
       "      <td>0.0</td>\n",
       "      <td>...</td>\n",
       "      <td>53755.66515</td>\n",
       "      <td>0.0</td>\n",
       "      <td>1.0</td>\n",
       "      <td>0.0</td>\n",
       "      <td>0.0</td>\n",
       "      <td>1.0</td>\n",
       "      <td>0.0</td>\n",
       "      <td>0.0</td>\n",
       "      <td>0.0</td>\n",
       "      <td>32500000</td>\n",
       "    </tr>\n",
       "    <tr>\n",
       "      <th>18601</th>\n",
       "      <td>0.0</td>\n",
       "      <td>0.0</td>\n",
       "      <td>0.0</td>\n",
       "      <td>0.0</td>\n",
       "      <td>0.0</td>\n",
       "      <td>0.0</td>\n",
       "      <td>0.0</td>\n",
       "      <td>0.0</td>\n",
       "      <td>1.0</td>\n",
       "      <td>0.0</td>\n",
       "      <td>...</td>\n",
       "      <td>10000.0</td>\n",
       "      <td>1.0</td>\n",
       "      <td>0.0</td>\n",
       "      <td>0.0</td>\n",
       "      <td>1.0</td>\n",
       "      <td>0.0</td>\n",
       "      <td>0.0</td>\n",
       "      <td>0.0</td>\n",
       "      <td>0.0</td>\n",
       "      <td>38000000</td>\n",
       "    </tr>\n",
       "  </tbody>\n",
       "</table>\n",
       "<p>7830 rows × 314 columns</p>\n",
       "</div>"
      ],
      "text/plain": [
       "       area_119.0  area_110.0  area_36.0  area_11.0  area_129.0  area_86.0  \\\n",
       "0             1.0         0.0        0.0        0.0         0.0        0.0   \n",
       "1             1.0         0.0        0.0        0.0         0.0        0.0   \n",
       "2             0.0         1.0        0.0        0.0         0.0        0.0   \n",
       "3             1.0         0.0        0.0        0.0         0.0        0.0   \n",
       "4             1.0         0.0        0.0        0.0         0.0        0.0   \n",
       "...           ...         ...        ...        ...         ...        ...   \n",
       "10289         0.0         0.0        0.0        0.0         0.0        0.0   \n",
       "10290         0.0         0.0        1.0        0.0         0.0        0.0   \n",
       "10291         0.0         0.0        0.0        0.0         0.0        0.0   \n",
       "10292         0.0         0.0        0.0        0.0         0.0        0.0   \n",
       "18601         0.0         0.0        0.0        0.0         0.0        0.0   \n",
       "\n",
       "       area_73.0  area_74.0  area_10.0  area_100.0  ...           km  \\\n",
       "0            0.0        0.0        0.0         0.0  ...  35240.49862   \n",
       "1            0.0        0.0        0.0         0.0  ...  38437.46218   \n",
       "2            0.0        0.0        0.0         0.0  ...      30000.0   \n",
       "3            0.0        0.0        0.0         0.0  ...       3500.0   \n",
       "4            0.0        0.0        0.0         0.0  ...  33337.24211   \n",
       "...          ...        ...        ...         ...  ...          ...   \n",
       "10289        0.0        0.0        0.0         0.0  ...       9000.0   \n",
       "10290        0.0        0.0        0.0         0.0  ...       5000.0   \n",
       "10291        0.0        0.0        0.0         0.0  ...      50000.0   \n",
       "10292        0.0        0.0        0.0         0.0  ...  53755.66515   \n",
       "18601        0.0        0.0        1.0         0.0  ...      10000.0   \n",
       "\n",
       "       type_Tay ga  type_Xe số  type_Tay côn/Moto  capacity_100 - 175 cc  \\\n",
       "0              1.0         0.0                0.0                    1.0   \n",
       "1              1.0         0.0                0.0                    1.0   \n",
       "2              0.0         1.0                0.0                    1.0   \n",
       "3              0.0         0.0                1.0                    0.0   \n",
       "4              1.0         0.0                0.0                    1.0   \n",
       "...            ...         ...                ...                    ...   \n",
       "10289          0.0         0.0                1.0                    0.0   \n",
       "10290          1.0         0.0                0.0                    1.0   \n",
       "10291          0.0         0.0                1.0                    1.0   \n",
       "10292          0.0         1.0                0.0                    0.0   \n",
       "18601          1.0         0.0                0.0                    1.0   \n",
       "\n",
       "       capacity_Không biết  capacity_50 - 100 cc  capacity_Dưới 50 cc  \\\n",
       "0                      0.0                   0.0                  0.0   \n",
       "1                      0.0                   0.0                  0.0   \n",
       "2                      0.0                   0.0                  0.0   \n",
       "3                      1.0                   0.0                  0.0   \n",
       "4                      0.0                   0.0                  0.0   \n",
       "...                    ...                   ...                  ...   \n",
       "10289                  1.0                   0.0                  0.0   \n",
       "10290                  0.0                   0.0                  0.0   \n",
       "10291                  0.0                   0.0                  0.0   \n",
       "10292                  1.0                   0.0                  0.0   \n",
       "18601                  0.0                   0.0                  0.0   \n",
       "\n",
       "       capacity_Trên 175 cc     price  \n",
       "0                       0.0  59000000  \n",
       "1                       0.0  53000000  \n",
       "2                       0.0  26000000  \n",
       "3                       0.0  48000000  \n",
       "4                       0.0  63000000  \n",
       "...                     ...       ...  \n",
       "10289                   0.0  26700000  \n",
       "10290                   0.0  33800000  \n",
       "10291                   0.0  11000000  \n",
       "10292                   0.0  32500000  \n",
       "18601                   0.0  38000000  \n",
       "\n",
       "[7830 rows x 314 columns]"
      ]
     },
     "execution_count": 127,
     "metadata": {},
     "output_type": "execute_result"
    }
   ],
   "source": [
    "import category_encoders as ce\n",
    "import pandas as pd\n",
    "encoder=ce.OneHotEncoder(cols=['area', 'region', 'brand', 'model', 'type', 'capacity'],handle_unknown='return_nan',return_df=True,use_cat_names=True)\n",
    "#Fit and transform Data\n",
    "data_encoded = encoder.fit_transform(df)\n",
    "data_encoded"
   ]
  },
  {
   "cell_type": "code",
   "execution_count": 128,
   "id": "c00650d4",
   "metadata": {},
   "outputs": [],
   "source": [
    "train_set, test_set = train_test_split(data_encoded, test_size=0.2)"
   ]
  },
  {
   "cell_type": "code",
   "execution_count": 172,
   "id": "e66cd6fd",
   "metadata": {},
   "outputs": [
    {
     "data": {
      "text/plain": [
       "list"
      ]
     },
     "execution_count": 172,
     "metadata": {},
     "output_type": "execute_result"
    }
   ],
   "source": [
    "test_set[0,101]"
   ]
  },
  {
   "cell_type": "code",
   "execution_count": 159,
   "id": "7d5bf85a",
   "metadata": {
    "scrolled": true
   },
   "outputs": [
    {
     "name": "stdout",
     "output_type": "stream",
     "text": [
      "['https://cdn.chotot.com/XyvKrBfOkU7Rd3WeH5e9YPM_hvsEl-Vv87zFqzSRRCM/preset:view/plain/4c6801833af3d7e0823edbd573abdc28-2788693885554533646.jpg', 'https://cdn.chotot.com/xI-VhQf-D7blyypoWlP7m2MAnspk48odR2qOB_-Rfic/preset:view/plain/e784ccefe4f9386ac0bf7bb317c804d5-2788693885534123814.jpg', 'https://cdn.chotot.com/rY1pEGye6g-9ZtGtio_7SudQ4eViCwpcrtM_Rr-UAh8/preset:view/plain/96c3a02fa820b53e228bb356a9af57e3-2805379775922664092.jpg', 'https://cdn.chotot.com/7GH3RrViwcZ0cl4e9j8Y8y4DTAdXsj8laIcK8NMnhVc/preset:view/plain/6d1079c18d2d66cccfb2934728a23e12-2801729488086528376.jpg', 'https://cdn.chotot.com/BkUYtZGpeqPXjJfaC_ICBLvOOtNez40PJYk-5Ist0Zk/preset:view/plain/4b78fdbc8fc23c0249feead170f9c2ae-2801729488072158436.jpg', 'https://cdn.chotot.com/5CxmpyzZZHtOC5WXErla_DBQag0yG8k_zYOMeUHRwhQ/preset:view/plain/5d312eb16048482b6e44852629ddbf4b-2802468938437238277.jpg', 'https://cdn.chotot.com/31Qhbv13qmuZ3-hb6i1Hj24oppb4nlbaUCWwcr0MbJA/preset:view/plain/dac4954c8d9b4345c3f78e107e1cf42e-2802468938901429459.jpg', 'https://cdn.chotot.com/aoGgpWJ95UVeY6q3uKbDLGTpOlGwGxlJwIt9vY87PlU/preset:view/plain/a05f92a63a48695eae32a52e867ac36a-2802468938363461744.jpg', 'https://cdn.chotot.com/rI7c6FL2atz4Yvoc33FLtLQSCxgp9Vm-A0SKz_E4sOM/preset:view/plain/890c3ca7cf3dc159c30d31cde8f4bf95-2802468938274796605.jpg', 'https://cdn.chotot.com/c4QTS7gDJrpmRCfVKroThw5TwnxZ46H2utsXRd5lk9s/preset:view/plain/04f400ba2be534eccbbeabfa6ee9d78d-2807532141499608778.jpg']\n",
      "4189\n"
     ]
    }
   ],
   "source": [
    "test_image_link = []\n",
    "for i in range(len(test_set)):\n",
    "    for j in test_set.iloc[i, 101]:\n",
    "        test_image_link.append(j)\n",
    "print(test_image_link[:10])\n",
    "print(len(test_image_link))"
   ]
  },
  {
   "cell_type": "code",
   "execution_count": 162,
   "id": "5d2fd3b5",
   "metadata": {},
   "outputs": [
    {
     "name": "stdout",
     "output_type": "stream",
     "text": [
      "4189\n"
     ]
    }
   ],
   "source": [
    "print(len(test_image_link))"
   ]
  },
  {
   "cell_type": "code",
   "execution_count": 161,
   "id": "9b766643",
   "metadata": {
    "scrolled": true
   },
   "outputs": [
    {
     "data": {
      "text/plain": [
       "'C:/Users/khanh/code/DATA_SCIENCE/data/clean_images/test/images/52150.jpg'"
      ]
     },
     "execution_count": 161,
     "metadata": {},
     "output_type": "execute_result"
    },
    {
     "data": {
      "text/plain": [
       "'C:/Users/khanh/code/DATA_SCIENCE/data/clean_images/test/labels/52150.txt'"
      ]
     },
     "execution_count": 161,
     "metadata": {},
     "output_type": "execute_result"
    },
    {
     "data": {
      "text/plain": [
       "'C:/Users/khanh/code/DATA_SCIENCE/data/clean_images/test/images/6533.jpg'"
      ]
     },
     "execution_count": 161,
     "metadata": {},
     "output_type": "execute_result"
    },
    {
     "data": {
      "text/plain": [
       "'C:/Users/khanh/code/DATA_SCIENCE/data/clean_images/test/labels/6533.txt'"
      ]
     },
     "execution_count": 161,
     "metadata": {},
     "output_type": "execute_result"
    },
    {
     "data": {
      "text/plain": [
       "'C:/Users/khanh/code/DATA_SCIENCE/data/clean_images/test/images/6535.jpg'"
      ]
     },
     "execution_count": 161,
     "metadata": {},
     "output_type": "execute_result"
    },
    {
     "data": {
      "text/plain": [
       "'C:/Users/khanh/code/DATA_SCIENCE/data/clean_images/test/labels/6535.txt'"
      ]
     },
     "execution_count": 161,
     "metadata": {},
     "output_type": "execute_result"
    },
    {
     "data": {
      "text/plain": [
       "'C:/Users/khanh/code/DATA_SCIENCE/data/clean_images/test/images/50417.jpg'"
      ]
     },
     "execution_count": 161,
     "metadata": {},
     "output_type": "execute_result"
    },
    {
     "data": {
      "text/plain": [
       "'C:/Users/khanh/code/DATA_SCIENCE/data/clean_images/test/labels/50417.txt'"
      ]
     },
     "execution_count": 161,
     "metadata": {},
     "output_type": "execute_result"
    },
    {
     "data": {
      "text/plain": [
       "'C:/Users/khanh/code/DATA_SCIENCE/data/clean_images/test/images/50421.jpg'"
      ]
     },
     "execution_count": 161,
     "metadata": {},
     "output_type": "execute_result"
    },
    {
     "data": {
      "text/plain": [
       "'C:/Users/khanh/code/DATA_SCIENCE/data/clean_images/test/labels/50421.txt'"
      ]
     },
     "execution_count": 161,
     "metadata": {},
     "output_type": "execute_result"
    },
    {
     "data": {
      "text/plain": [
       "'C:/Users/khanh/code/DATA_SCIENCE/data/clean_images/test/images/4703.jpg'"
      ]
     },
     "execution_count": 161,
     "metadata": {},
     "output_type": "execute_result"
    },
    {
     "data": {
      "text/plain": [
       "'C:/Users/khanh/code/DATA_SCIENCE/data/clean_images/test/labels/4703.txt'"
      ]
     },
     "execution_count": 161,
     "metadata": {},
     "output_type": "execute_result"
    },
    {
     "data": {
      "text/plain": [
       "'C:/Users/khanh/code/DATA_SCIENCE/data/clean_images/test/images/27660.jpg'"
      ]
     },
     "execution_count": 161,
     "metadata": {},
     "output_type": "execute_result"
    },
    {
     "data": {
      "text/plain": [
       "'C:/Users/khanh/code/DATA_SCIENCE/data/clean_images/test/labels/27660.txt'"
      ]
     },
     "execution_count": 161,
     "metadata": {},
     "output_type": "execute_result"
    },
    {
     "data": {
      "text/plain": [
       "'C:/Users/khanh/code/DATA_SCIENCE/data/clean_images/test/images/6061.jpg'"
      ]
     },
     "execution_count": 161,
     "metadata": {},
     "output_type": "execute_result"
    },
    {
     "data": {
      "text/plain": [
       "'C:/Users/khanh/code/DATA_SCIENCE/data/clean_images/test/labels/6061.txt'"
      ]
     },
     "execution_count": 161,
     "metadata": {},
     "output_type": "execute_result"
    },
    {
     "data": {
      "text/plain": [
       "'C:/Users/khanh/code/DATA_SCIENCE/data/clean_images/test/images/6063.jpg'"
      ]
     },
     "execution_count": 161,
     "metadata": {},
     "output_type": "execute_result"
    },
    {
     "data": {
      "text/plain": [
       "'C:/Users/khanh/code/DATA_SCIENCE/data/clean_images/test/labels/6063.txt'"
      ]
     },
     "execution_count": 161,
     "metadata": {},
     "output_type": "execute_result"
    },
    {
     "data": {
      "text/plain": [
       "'C:/Users/khanh/code/DATA_SCIENCE/data/clean_images/test/images/6065.jpg'"
      ]
     },
     "execution_count": 161,
     "metadata": {},
     "output_type": "execute_result"
    },
    {
     "data": {
      "text/plain": [
       "'C:/Users/khanh/code/DATA_SCIENCE/data/clean_images/test/labels/6065.txt'"
      ]
     },
     "execution_count": 161,
     "metadata": {},
     "output_type": "execute_result"
    },
    {
     "data": {
      "text/plain": [
       "'C:/Users/khanh/code/DATA_SCIENCE/data/clean_images/test/images/19713.jpg'"
      ]
     },
     "execution_count": 161,
     "metadata": {},
     "output_type": "execute_result"
    },
    {
     "data": {
      "text/plain": [
       "'C:/Users/khanh/code/DATA_SCIENCE/data/clean_images/test/labels/19713.txt'"
      ]
     },
     "execution_count": 161,
     "metadata": {},
     "output_type": "execute_result"
    },
    {
     "data": {
      "text/plain": [
       "'C:/Users/khanh/code/DATA_SCIENCE/data/clean_images/test/images/19714.jpg'"
      ]
     },
     "execution_count": 161,
     "metadata": {},
     "output_type": "execute_result"
    },
    {
     "data": {
      "text/plain": [
       "'C:/Users/khanh/code/DATA_SCIENCE/data/clean_images/test/labels/19714.txt'"
      ]
     },
     "execution_count": 161,
     "metadata": {},
     "output_type": "execute_result"
    },
    {
     "data": {
      "text/plain": [
       "'C:/Users/khanh/code/DATA_SCIENCE/data/clean_images/test/images/19715.jpg'"
      ]
     },
     "execution_count": 161,
     "metadata": {},
     "output_type": "execute_result"
    },
    {
     "data": {
      "text/plain": [
       "'C:/Users/khanh/code/DATA_SCIENCE/data/clean_images/test/labels/19715.txt'"
      ]
     },
     "execution_count": 161,
     "metadata": {},
     "output_type": "execute_result"
    },
    {
     "data": {
      "text/plain": [
       "'C:/Users/khanh/code/DATA_SCIENCE/data/clean_images/test/images/19716.jpg'"
      ]
     },
     "execution_count": 161,
     "metadata": {},
     "output_type": "execute_result"
    },
    {
     "data": {
      "text/plain": [
       "'C:/Users/khanh/code/DATA_SCIENCE/data/clean_images/test/labels/19716.txt'"
      ]
     },
     "execution_count": 161,
     "metadata": {},
     "output_type": "execute_result"
    },
    {
     "data": {
      "text/plain": [
       "'C:/Users/khanh/code/DATA_SCIENCE/data/clean_images/test/images/3546.jpg'"
      ]
     },
     "execution_count": 161,
     "metadata": {},
     "output_type": "execute_result"
    },
    {
     "data": {
      "text/plain": [
       "'C:/Users/khanh/code/DATA_SCIENCE/data/clean_images/test/labels/3546.txt'"
      ]
     },
     "execution_count": 161,
     "metadata": {},
     "output_type": "execute_result"
    },
    {
     "data": {
      "text/plain": [
       "'C:/Users/khanh/code/DATA_SCIENCE/data/clean_images/test/images/3547.jpg'"
      ]
     },
     "execution_count": 161,
     "metadata": {},
     "output_type": "execute_result"
    },
    {
     "data": {
      "text/plain": [
       "'C:/Users/khanh/code/DATA_SCIENCE/data/clean_images/test/labels/3547.txt'"
      ]
     },
     "execution_count": 161,
     "metadata": {},
     "output_type": "execute_result"
    },
    {
     "data": {
      "text/plain": [
       "'C:/Users/khanh/code/DATA_SCIENCE/data/clean_images/test/images/3548.jpg'"
      ]
     },
     "execution_count": 161,
     "metadata": {},
     "output_type": "execute_result"
    },
    {
     "data": {
      "text/plain": [
       "'C:/Users/khanh/code/DATA_SCIENCE/data/clean_images/test/labels/3548.txt'"
      ]
     },
     "execution_count": 161,
     "metadata": {},
     "output_type": "execute_result"
    },
    {
     "data": {
      "text/plain": [
       "'C:/Users/khanh/code/DATA_SCIENCE/data/clean_images/test/images/3551.jpg'"
      ]
     },
     "execution_count": 161,
     "metadata": {},
     "output_type": "execute_result"
    },
    {
     "data": {
      "text/plain": [
       "'C:/Users/khanh/code/DATA_SCIENCE/data/clean_images/test/labels/3551.txt'"
      ]
     },
     "execution_count": 161,
     "metadata": {},
     "output_type": "execute_result"
    },
    {
     "data": {
      "text/plain": [
       "'C:/Users/khanh/code/DATA_SCIENCE/data/clean_images/test/images/33612.jpg'"
      ]
     },
     "execution_count": 161,
     "metadata": {},
     "output_type": "execute_result"
    },
    {
     "data": {
      "text/plain": [
       "'C:/Users/khanh/code/DATA_SCIENCE/data/clean_images/test/labels/33612.txt'"
      ]
     },
     "execution_count": 161,
     "metadata": {},
     "output_type": "execute_result"
    },
    {
     "data": {
      "text/plain": [
       "'C:/Users/khanh/code/DATA_SCIENCE/data/clean_images/test/images/33613.jpg'"
      ]
     },
     "execution_count": 161,
     "metadata": {},
     "output_type": "execute_result"
    },
    {
     "data": {
      "text/plain": [
       "'C:/Users/khanh/code/DATA_SCIENCE/data/clean_images/test/labels/33613.txt'"
      ]
     },
     "execution_count": 161,
     "metadata": {},
     "output_type": "execute_result"
    },
    {
     "data": {
      "text/plain": [
       "'C:/Users/khanh/code/DATA_SCIENCE/data/clean_images/test/images/41910.jpg'"
      ]
     },
     "execution_count": 161,
     "metadata": {},
     "output_type": "execute_result"
    },
    {
     "data": {
      "text/plain": [
       "'C:/Users/khanh/code/DATA_SCIENCE/data/clean_images/test/labels/41910.txt'"
      ]
     },
     "execution_count": 161,
     "metadata": {},
     "output_type": "execute_result"
    },
    {
     "data": {
      "text/plain": [
       "'C:/Users/khanh/code/DATA_SCIENCE/data/clean_images/test/images/41911.jpg'"
      ]
     },
     "execution_count": 161,
     "metadata": {},
     "output_type": "execute_result"
    },
    {
     "data": {
      "text/plain": [
       "'C:/Users/khanh/code/DATA_SCIENCE/data/clean_images/test/labels/41911.txt'"
      ]
     },
     "execution_count": 161,
     "metadata": {},
     "output_type": "execute_result"
    },
    {
     "data": {
      "text/plain": [
       "'C:/Users/khanh/code/DATA_SCIENCE/data/clean_images/test/images/41913.jpg'"
      ]
     },
     "execution_count": 161,
     "metadata": {},
     "output_type": "execute_result"
    },
    {
     "data": {
      "text/plain": [
       "'C:/Users/khanh/code/DATA_SCIENCE/data/clean_images/test/labels/41913.txt'"
      ]
     },
     "execution_count": 161,
     "metadata": {},
     "output_type": "execute_result"
    },
    {
     "data": {
      "text/plain": [
       "'C:/Users/khanh/code/DATA_SCIENCE/data/clean_images/test/images/41914.jpg'"
      ]
     },
     "execution_count": 161,
     "metadata": {},
     "output_type": "execute_result"
    },
    {
     "data": {
      "text/plain": [
       "'C:/Users/khanh/code/DATA_SCIENCE/data/clean_images/test/labels/41914.txt'"
      ]
     },
     "execution_count": 161,
     "metadata": {},
     "output_type": "execute_result"
    },
    {
     "data": {
      "text/plain": [
       "'C:/Users/khanh/code/DATA_SCIENCE/data/clean_images/test/images/9393.jpg'"
      ]
     },
     "execution_count": 161,
     "metadata": {},
     "output_type": "execute_result"
    },
    {
     "data": {
      "text/plain": [
       "'C:/Users/khanh/code/DATA_SCIENCE/data/clean_images/test/labels/9393.txt'"
      ]
     },
     "execution_count": 161,
     "metadata": {},
     "output_type": "execute_result"
    },
    {
     "data": {
      "text/plain": [
       "'C:/Users/khanh/code/DATA_SCIENCE/data/clean_images/test/images/11349.jpg'"
      ]
     },
     "execution_count": 161,
     "metadata": {},
     "output_type": "execute_result"
    },
    {
     "data": {
      "text/plain": [
       "'C:/Users/khanh/code/DATA_SCIENCE/data/clean_images/test/labels/11349.txt'"
      ]
     },
     "execution_count": 161,
     "metadata": {},
     "output_type": "execute_result"
    },
    {
     "data": {
      "text/plain": [
       "'C:/Users/khanh/code/DATA_SCIENCE/data/clean_images/test/images/11350.jpg'"
      ]
     },
     "execution_count": 161,
     "metadata": {},
     "output_type": "execute_result"
    },
    {
     "data": {
      "text/plain": [
       "'C:/Users/khanh/code/DATA_SCIENCE/data/clean_images/test/labels/11350.txt'"
      ]
     },
     "execution_count": 161,
     "metadata": {},
     "output_type": "execute_result"
    },
    {
     "data": {
      "text/plain": [
       "'C:/Users/khanh/code/DATA_SCIENCE/data/clean_images/test/images/11354.jpg'"
      ]
     },
     "execution_count": 161,
     "metadata": {},
     "output_type": "execute_result"
    },
    {
     "data": {
      "text/plain": [
       "'C:/Users/khanh/code/DATA_SCIENCE/data/clean_images/test/labels/11354.txt'"
      ]
     },
     "execution_count": 161,
     "metadata": {},
     "output_type": "execute_result"
    },
    {
     "data": {
      "text/plain": [
       "'C:/Users/khanh/code/DATA_SCIENCE/data/clean_images/test/images/34754.jpg'"
      ]
     },
     "execution_count": 161,
     "metadata": {},
     "output_type": "execute_result"
    },
    {
     "data": {
      "text/plain": [
       "'C:/Users/khanh/code/DATA_SCIENCE/data/clean_images/test/labels/34754.txt'"
      ]
     },
     "execution_count": 161,
     "metadata": {},
     "output_type": "execute_result"
    },
    {
     "data": {
      "text/plain": [
       "'C:/Users/khanh/code/DATA_SCIENCE/data/clean_images/test/images/50736.jpg'"
      ]
     },
     "execution_count": 161,
     "metadata": {},
     "output_type": "execute_result"
    },
    {
     "data": {
      "text/plain": [
       "'C:/Users/khanh/code/DATA_SCIENCE/data/clean_images/test/labels/50736.txt'"
      ]
     },
     "execution_count": 161,
     "metadata": {},
     "output_type": "execute_result"
    },
    {
     "data": {
      "text/plain": [
       "'C:/Users/khanh/code/DATA_SCIENCE/data/clean_images/test/images/50737.jpg'"
      ]
     },
     "execution_count": 161,
     "metadata": {},
     "output_type": "execute_result"
    },
    {
     "data": {
      "text/plain": [
       "'C:/Users/khanh/code/DATA_SCIENCE/data/clean_images/test/labels/50737.txt'"
      ]
     },
     "execution_count": 161,
     "metadata": {},
     "output_type": "execute_result"
    },
    {
     "data": {
      "text/plain": [
       "'C:/Users/khanh/code/DATA_SCIENCE/data/clean_images/test/images/50738.jpg'"
      ]
     },
     "execution_count": 161,
     "metadata": {},
     "output_type": "execute_result"
    },
    {
     "data": {
      "text/plain": [
       "'C:/Users/khanh/code/DATA_SCIENCE/data/clean_images/test/labels/50738.txt'"
      ]
     },
     "execution_count": 161,
     "metadata": {},
     "output_type": "execute_result"
    },
    {
     "data": {
      "text/plain": [
       "'C:/Users/khanh/code/DATA_SCIENCE/data/clean_images/test/images/50739.jpg'"
      ]
     },
     "execution_count": 161,
     "metadata": {},
     "output_type": "execute_result"
    },
    {
     "data": {
      "text/plain": [
       "'C:/Users/khanh/code/DATA_SCIENCE/data/clean_images/test/labels/50739.txt'"
      ]
     },
     "execution_count": 161,
     "metadata": {},
     "output_type": "execute_result"
    },
    {
     "data": {
      "text/plain": [
       "'C:/Users/khanh/code/DATA_SCIENCE/data/clean_images/test/images/35309.jpg'"
      ]
     },
     "execution_count": 161,
     "metadata": {},
     "output_type": "execute_result"
    },
    {
     "data": {
      "text/plain": [
       "'C:/Users/khanh/code/DATA_SCIENCE/data/clean_images/test/labels/35309.txt'"
      ]
     },
     "execution_count": 161,
     "metadata": {},
     "output_type": "execute_result"
    },
    {
     "data": {
      "text/plain": [
       "'C:/Users/khanh/code/DATA_SCIENCE/data/clean_images/test/images/47048.jpg'"
      ]
     },
     "execution_count": 161,
     "metadata": {},
     "output_type": "execute_result"
    },
    {
     "data": {
      "text/plain": [
       "'C:/Users/khanh/code/DATA_SCIENCE/data/clean_images/test/labels/47048.txt'"
      ]
     },
     "execution_count": 161,
     "metadata": {},
     "output_type": "execute_result"
    },
    {
     "data": {
      "text/plain": [
       "'C:/Users/khanh/code/DATA_SCIENCE/data/clean_images/test/images/50992.jpg'"
      ]
     },
     "execution_count": 161,
     "metadata": {},
     "output_type": "execute_result"
    },
    {
     "data": {
      "text/plain": [
       "'C:/Users/khanh/code/DATA_SCIENCE/data/clean_images/test/labels/50992.txt'"
      ]
     },
     "execution_count": 161,
     "metadata": {},
     "output_type": "execute_result"
    },
    {
     "data": {
      "text/plain": [
       "'C:/Users/khanh/code/DATA_SCIENCE/data/clean_images/test/images/23073.jpg'"
      ]
     },
     "execution_count": 161,
     "metadata": {},
     "output_type": "execute_result"
    },
    {
     "data": {
      "text/plain": [
       "'C:/Users/khanh/code/DATA_SCIENCE/data/clean_images/test/labels/23073.txt'"
      ]
     },
     "execution_count": 161,
     "metadata": {},
     "output_type": "execute_result"
    },
    {
     "data": {
      "text/plain": [
       "'C:/Users/khanh/code/DATA_SCIENCE/data/clean_images/test/images/23074.jpg'"
      ]
     },
     "execution_count": 161,
     "metadata": {},
     "output_type": "execute_result"
    },
    {
     "data": {
      "text/plain": [
       "'C:/Users/khanh/code/DATA_SCIENCE/data/clean_images/test/labels/23074.txt'"
      ]
     },
     "execution_count": 161,
     "metadata": {},
     "output_type": "execute_result"
    },
    {
     "data": {
      "text/plain": [
       "'C:/Users/khanh/code/DATA_SCIENCE/data/clean_images/test/images/23076.jpg'"
      ]
     },
     "execution_count": 161,
     "metadata": {},
     "output_type": "execute_result"
    },
    {
     "data": {
      "text/plain": [
       "'C:/Users/khanh/code/DATA_SCIENCE/data/clean_images/test/labels/23076.txt'"
      ]
     },
     "execution_count": 161,
     "metadata": {},
     "output_type": "execute_result"
    },
    {
     "data": {
      "text/plain": [
       "'C:/Users/khanh/code/DATA_SCIENCE/data/clean_images/test/images/23077.jpg'"
      ]
     },
     "execution_count": 161,
     "metadata": {},
     "output_type": "execute_result"
    },
    {
     "data": {
      "text/plain": [
       "'C:/Users/khanh/code/DATA_SCIENCE/data/clean_images/test/labels/23077.txt'"
      ]
     },
     "execution_count": 161,
     "metadata": {},
     "output_type": "execute_result"
    },
    {
     "data": {
      "text/plain": [
       "'C:/Users/khanh/code/DATA_SCIENCE/data/clean_images/test/images/51648.jpg'"
      ]
     },
     "execution_count": 161,
     "metadata": {},
     "output_type": "execute_result"
    },
    {
     "data": {
      "text/plain": [
       "'C:/Users/khanh/code/DATA_SCIENCE/data/clean_images/test/labels/51648.txt'"
      ]
     },
     "execution_count": 161,
     "metadata": {},
     "output_type": "execute_result"
    },
    {
     "data": {
      "text/plain": [
       "'C:/Users/khanh/code/DATA_SCIENCE/data/clean_images/test/images/51650.jpg'"
      ]
     },
     "execution_count": 161,
     "metadata": {},
     "output_type": "execute_result"
    },
    {
     "data": {
      "text/plain": [
       "'C:/Users/khanh/code/DATA_SCIENCE/data/clean_images/test/labels/51650.txt'"
      ]
     },
     "execution_count": 161,
     "metadata": {},
     "output_type": "execute_result"
    },
    {
     "data": {
      "text/plain": [
       "'C:/Users/khanh/code/DATA_SCIENCE/data/clean_images/test/images/51651.jpg'"
      ]
     },
     "execution_count": 161,
     "metadata": {},
     "output_type": "execute_result"
    },
    {
     "data": {
      "text/plain": [
       "'C:/Users/khanh/code/DATA_SCIENCE/data/clean_images/test/labels/51651.txt'"
      ]
     },
     "execution_count": 161,
     "metadata": {},
     "output_type": "execute_result"
    },
    {
     "data": {
      "text/plain": [
       "'C:/Users/khanh/code/DATA_SCIENCE/data/clean_images/test/images/51652.jpg'"
      ]
     },
     "execution_count": 161,
     "metadata": {},
     "output_type": "execute_result"
    },
    {
     "data": {
      "text/plain": [
       "'C:/Users/khanh/code/DATA_SCIENCE/data/clean_images/test/labels/51652.txt'"
      ]
     },
     "execution_count": 161,
     "metadata": {},
     "output_type": "execute_result"
    },
    {
     "data": {
      "text/plain": [
       "'C:/Users/khanh/code/DATA_SCIENCE/data/clean_images/test/images/51653.jpg'"
      ]
     },
     "execution_count": 161,
     "metadata": {},
     "output_type": "execute_result"
    },
    {
     "data": {
      "text/plain": [
       "'C:/Users/khanh/code/DATA_SCIENCE/data/clean_images/test/labels/51653.txt'"
      ]
     },
     "execution_count": 161,
     "metadata": {},
     "output_type": "execute_result"
    },
    {
     "data": {
      "text/plain": [
       "'C:/Users/khanh/code/DATA_SCIENCE/data/clean_images/test/images/22424.jpg'"
      ]
     },
     "execution_count": 161,
     "metadata": {},
     "output_type": "execute_result"
    },
    {
     "data": {
      "text/plain": [
       "'C:/Users/khanh/code/DATA_SCIENCE/data/clean_images/test/labels/22424.txt'"
      ]
     },
     "execution_count": 161,
     "metadata": {},
     "output_type": "execute_result"
    },
    {
     "data": {
      "text/plain": [
       "'C:/Users/khanh/code/DATA_SCIENCE/data/clean_images/test/images/22426.jpg'"
      ]
     },
     "execution_count": 161,
     "metadata": {},
     "output_type": "execute_result"
    },
    {
     "data": {
      "text/plain": [
       "'C:/Users/khanh/code/DATA_SCIENCE/data/clean_images/test/labels/22426.txt'"
      ]
     },
     "execution_count": 161,
     "metadata": {},
     "output_type": "execute_result"
    },
    {
     "data": {
      "text/plain": [
       "'C:/Users/khanh/code/DATA_SCIENCE/data/clean_images/test/images/5999.jpg'"
      ]
     },
     "execution_count": 161,
     "metadata": {},
     "output_type": "execute_result"
    },
    {
     "data": {
      "text/plain": [
       "'C:/Users/khanh/code/DATA_SCIENCE/data/clean_images/test/labels/5999.txt'"
      ]
     },
     "execution_count": 161,
     "metadata": {},
     "output_type": "execute_result"
    },
    {
     "data": {
      "text/plain": [
       "'C:/Users/khanh/code/DATA_SCIENCE/data/clean_images/test/images/6000.jpg'"
      ]
     },
     "execution_count": 161,
     "metadata": {},
     "output_type": "execute_result"
    },
    {
     "data": {
      "text/plain": [
       "'C:/Users/khanh/code/DATA_SCIENCE/data/clean_images/test/labels/6000.txt'"
      ]
     },
     "execution_count": 161,
     "metadata": {},
     "output_type": "execute_result"
    },
    {
     "data": {
      "text/plain": [
       "'C:/Users/khanh/code/DATA_SCIENCE/data/clean_images/test/images/6001.jpg'"
      ]
     },
     "execution_count": 161,
     "metadata": {},
     "output_type": "execute_result"
    },
    {
     "data": {
      "text/plain": [
       "'C:/Users/khanh/code/DATA_SCIENCE/data/clean_images/test/labels/6001.txt'"
      ]
     },
     "execution_count": 161,
     "metadata": {},
     "output_type": "execute_result"
    },
    {
     "data": {
      "text/plain": [
       "'C:/Users/khanh/code/DATA_SCIENCE/data/clean_images/test/images/6002.jpg'"
      ]
     },
     "execution_count": 161,
     "metadata": {},
     "output_type": "execute_result"
    },
    {
     "data": {
      "text/plain": [
       "'C:/Users/khanh/code/DATA_SCIENCE/data/clean_images/test/labels/6002.txt'"
      ]
     },
     "execution_count": 161,
     "metadata": {},
     "output_type": "execute_result"
    },
    {
     "data": {
      "text/plain": [
       "'C:/Users/khanh/code/DATA_SCIENCE/data/clean_images/test/images/2684.jpg'"
      ]
     },
     "execution_count": 161,
     "metadata": {},
     "output_type": "execute_result"
    },
    {
     "data": {
      "text/plain": [
       "'C:/Users/khanh/code/DATA_SCIENCE/data/clean_images/test/labels/2684.txt'"
      ]
     },
     "execution_count": 161,
     "metadata": {},
     "output_type": "execute_result"
    },
    {
     "data": {
      "text/plain": [
       "'C:/Users/khanh/code/DATA_SCIENCE/data/clean_images/test/images/2685.jpg'"
      ]
     },
     "execution_count": 161,
     "metadata": {},
     "output_type": "execute_result"
    },
    {
     "data": {
      "text/plain": [
       "'C:/Users/khanh/code/DATA_SCIENCE/data/clean_images/test/labels/2685.txt'"
      ]
     },
     "execution_count": 161,
     "metadata": {},
     "output_type": "execute_result"
    },
    {
     "data": {
      "text/plain": [
       "'C:/Users/khanh/code/DATA_SCIENCE/data/clean_images/test/images/2686.jpg'"
      ]
     },
     "execution_count": 161,
     "metadata": {},
     "output_type": "execute_result"
    },
    {
     "data": {
      "text/plain": [
       "'C:/Users/khanh/code/DATA_SCIENCE/data/clean_images/test/labels/2686.txt'"
      ]
     },
     "execution_count": 161,
     "metadata": {},
     "output_type": "execute_result"
    },
    {
     "data": {
      "text/plain": [
       "'C:/Users/khanh/code/DATA_SCIENCE/data/clean_images/test/images/2688.jpg'"
      ]
     },
     "execution_count": 161,
     "metadata": {},
     "output_type": "execute_result"
    },
    {
     "data": {
      "text/plain": [
       "'C:/Users/khanh/code/DATA_SCIENCE/data/clean_images/test/labels/2688.txt'"
      ]
     },
     "execution_count": 161,
     "metadata": {},
     "output_type": "execute_result"
    },
    {
     "data": {
      "text/plain": [
       "'C:/Users/khanh/code/DATA_SCIENCE/data/clean_images/test/images/37251.jpg'"
      ]
     },
     "execution_count": 161,
     "metadata": {},
     "output_type": "execute_result"
    },
    {
     "data": {
      "text/plain": [
       "'C:/Users/khanh/code/DATA_SCIENCE/data/clean_images/test/labels/37251.txt'"
      ]
     },
     "execution_count": 161,
     "metadata": {},
     "output_type": "execute_result"
    },
    {
     "data": {
      "text/plain": [
       "'C:/Users/khanh/code/DATA_SCIENCE/data/clean_images/test/images/37254.jpg'"
      ]
     },
     "execution_count": 161,
     "metadata": {},
     "output_type": "execute_result"
    },
    {
     "data": {
      "text/plain": [
       "'C:/Users/khanh/code/DATA_SCIENCE/data/clean_images/test/labels/37254.txt'"
      ]
     },
     "execution_count": 161,
     "metadata": {},
     "output_type": "execute_result"
    },
    {
     "data": {
      "text/plain": [
       "'C:/Users/khanh/code/DATA_SCIENCE/data/clean_images/test/images/37255.jpg'"
      ]
     },
     "execution_count": 161,
     "metadata": {},
     "output_type": "execute_result"
    },
    {
     "data": {
      "text/plain": [
       "'C:/Users/khanh/code/DATA_SCIENCE/data/clean_images/test/labels/37255.txt'"
      ]
     },
     "execution_count": 161,
     "metadata": {},
     "output_type": "execute_result"
    },
    {
     "data": {
      "text/plain": [
       "'C:/Users/khanh/code/DATA_SCIENCE/data/clean_images/test/images/42150.jpg'"
      ]
     },
     "execution_count": 161,
     "metadata": {},
     "output_type": "execute_result"
    },
    {
     "data": {
      "text/plain": [
       "'C:/Users/khanh/code/DATA_SCIENCE/data/clean_images/test/labels/42150.txt'"
      ]
     },
     "execution_count": 161,
     "metadata": {},
     "output_type": "execute_result"
    },
    {
     "data": {
      "text/plain": [
       "'C:/Users/khanh/code/DATA_SCIENCE/data/clean_images/test/images/42153.jpg'"
      ]
     },
     "execution_count": 161,
     "metadata": {},
     "output_type": "execute_result"
    },
    {
     "data": {
      "text/plain": [
       "'C:/Users/khanh/code/DATA_SCIENCE/data/clean_images/test/labels/42153.txt'"
      ]
     },
     "execution_count": 161,
     "metadata": {},
     "output_type": "execute_result"
    },
    {
     "data": {
      "text/plain": [
       "'C:/Users/khanh/code/DATA_SCIENCE/data/clean_images/test/images/42154.jpg'"
      ]
     },
     "execution_count": 161,
     "metadata": {},
     "output_type": "execute_result"
    },
    {
     "data": {
      "text/plain": [
       "'C:/Users/khanh/code/DATA_SCIENCE/data/clean_images/test/labels/42154.txt'"
      ]
     },
     "execution_count": 161,
     "metadata": {},
     "output_type": "execute_result"
    },
    {
     "data": {
      "text/plain": [
       "'C:/Users/khanh/code/DATA_SCIENCE/data/clean_images/test/images/42155.jpg'"
      ]
     },
     "execution_count": 161,
     "metadata": {},
     "output_type": "execute_result"
    },
    {
     "data": {
      "text/plain": [
       "'C:/Users/khanh/code/DATA_SCIENCE/data/clean_images/test/labels/42155.txt'"
      ]
     },
     "execution_count": 161,
     "metadata": {},
     "output_type": "execute_result"
    },
    {
     "data": {
      "text/plain": [
       "'C:/Users/khanh/code/DATA_SCIENCE/data/clean_images/test/images/4566.jpg'"
      ]
     },
     "execution_count": 161,
     "metadata": {},
     "output_type": "execute_result"
    },
    {
     "data": {
      "text/plain": [
       "'C:/Users/khanh/code/DATA_SCIENCE/data/clean_images/test/labels/4566.txt'"
      ]
     },
     "execution_count": 161,
     "metadata": {},
     "output_type": "execute_result"
    },
    {
     "data": {
      "text/plain": [
       "'C:/Users/khanh/code/DATA_SCIENCE/data/clean_images/test/images/34780.jpg'"
      ]
     },
     "execution_count": 161,
     "metadata": {},
     "output_type": "execute_result"
    },
    {
     "data": {
      "text/plain": [
       "'C:/Users/khanh/code/DATA_SCIENCE/data/clean_images/test/labels/34780.txt'"
      ]
     },
     "execution_count": 161,
     "metadata": {},
     "output_type": "execute_result"
    },
    {
     "data": {
      "text/plain": [
       "'C:/Users/khanh/code/DATA_SCIENCE/data/clean_images/test/images/34781.jpg'"
      ]
     },
     "execution_count": 161,
     "metadata": {},
     "output_type": "execute_result"
    },
    {
     "data": {
      "text/plain": [
       "'C:/Users/khanh/code/DATA_SCIENCE/data/clean_images/test/labels/34781.txt'"
      ]
     },
     "execution_count": 161,
     "metadata": {},
     "output_type": "execute_result"
    },
    {
     "data": {
      "text/plain": [
       "'C:/Users/khanh/code/DATA_SCIENCE/data/clean_images/test/images/34782.jpg'"
      ]
     },
     "execution_count": 161,
     "metadata": {},
     "output_type": "execute_result"
    },
    {
     "data": {
      "text/plain": [
       "'C:/Users/khanh/code/DATA_SCIENCE/data/clean_images/test/labels/34782.txt'"
      ]
     },
     "execution_count": 161,
     "metadata": {},
     "output_type": "execute_result"
    },
    {
     "data": {
      "text/plain": [
       "'C:/Users/khanh/code/DATA_SCIENCE/data/clean_images/test/images/34783.jpg'"
      ]
     },
     "execution_count": 161,
     "metadata": {},
     "output_type": "execute_result"
    },
    {
     "data": {
      "text/plain": [
       "'C:/Users/khanh/code/DATA_SCIENCE/data/clean_images/test/labels/34783.txt'"
      ]
     },
     "execution_count": 161,
     "metadata": {},
     "output_type": "execute_result"
    },
    {
     "data": {
      "text/plain": [
       "'C:/Users/khanh/code/DATA_SCIENCE/data/clean_images/test/images/34784.jpg'"
      ]
     },
     "execution_count": 161,
     "metadata": {},
     "output_type": "execute_result"
    },
    {
     "data": {
      "text/plain": [
       "'C:/Users/khanh/code/DATA_SCIENCE/data/clean_images/test/labels/34784.txt'"
      ]
     },
     "execution_count": 161,
     "metadata": {},
     "output_type": "execute_result"
    },
    {
     "data": {
      "text/plain": [
       "'C:/Users/khanh/code/DATA_SCIENCE/data/clean_images/test/images/6791.jpg'"
      ]
     },
     "execution_count": 161,
     "metadata": {},
     "output_type": "execute_result"
    },
    {
     "data": {
      "text/plain": [
       "'C:/Users/khanh/code/DATA_SCIENCE/data/clean_images/test/labels/6791.txt'"
      ]
     },
     "execution_count": 161,
     "metadata": {},
     "output_type": "execute_result"
    },
    {
     "data": {
      "text/plain": [
       "'C:/Users/khanh/code/DATA_SCIENCE/data/clean_images/test/images/6793.jpg'"
      ]
     },
     "execution_count": 161,
     "metadata": {},
     "output_type": "execute_result"
    },
    {
     "data": {
      "text/plain": [
       "'C:/Users/khanh/code/DATA_SCIENCE/data/clean_images/test/labels/6793.txt'"
      ]
     },
     "execution_count": 161,
     "metadata": {},
     "output_type": "execute_result"
    },
    {
     "data": {
      "text/plain": [
       "'C:/Users/khanh/code/DATA_SCIENCE/data/clean_images/test/images/6794.jpg'"
      ]
     },
     "execution_count": 161,
     "metadata": {},
     "output_type": "execute_result"
    },
    {
     "data": {
      "text/plain": [
       "'C:/Users/khanh/code/DATA_SCIENCE/data/clean_images/test/labels/6794.txt'"
      ]
     },
     "execution_count": 161,
     "metadata": {},
     "output_type": "execute_result"
    },
    {
     "data": {
      "text/plain": [
       "'C:/Users/khanh/code/DATA_SCIENCE/data/clean_images/test/images/19725.jpg'"
      ]
     },
     "execution_count": 161,
     "metadata": {},
     "output_type": "execute_result"
    },
    {
     "data": {
      "text/plain": [
       "'C:/Users/khanh/code/DATA_SCIENCE/data/clean_images/test/labels/19725.txt'"
      ]
     },
     "execution_count": 161,
     "metadata": {},
     "output_type": "execute_result"
    },
    {
     "data": {
      "text/plain": [
       "'C:/Users/khanh/code/DATA_SCIENCE/data/clean_images/test/images/25271.jpg'"
      ]
     },
     "execution_count": 161,
     "metadata": {},
     "output_type": "execute_result"
    },
    {
     "data": {
      "text/plain": [
       "'C:/Users/khanh/code/DATA_SCIENCE/data/clean_images/test/labels/25271.txt'"
      ]
     },
     "execution_count": 161,
     "metadata": {},
     "output_type": "execute_result"
    },
    {
     "data": {
      "text/plain": [
       "'C:/Users/khanh/code/DATA_SCIENCE/data/clean_images/test/images/25273.jpg'"
      ]
     },
     "execution_count": 161,
     "metadata": {},
     "output_type": "execute_result"
    },
    {
     "data": {
      "text/plain": [
       "'C:/Users/khanh/code/DATA_SCIENCE/data/clean_images/test/labels/25273.txt'"
      ]
     },
     "execution_count": 161,
     "metadata": {},
     "output_type": "execute_result"
    },
    {
     "data": {
      "text/plain": [
       "'C:/Users/khanh/code/DATA_SCIENCE/data/clean_images/test/images/6149.jpg'"
      ]
     },
     "execution_count": 161,
     "metadata": {},
     "output_type": "execute_result"
    },
    {
     "data": {
      "text/plain": [
       "'C:/Users/khanh/code/DATA_SCIENCE/data/clean_images/test/labels/6149.txt'"
      ]
     },
     "execution_count": 161,
     "metadata": {},
     "output_type": "execute_result"
    },
    {
     "data": {
      "text/plain": [
       "'C:/Users/khanh/code/DATA_SCIENCE/data/clean_images/test/images/6151.jpg'"
      ]
     },
     "execution_count": 161,
     "metadata": {},
     "output_type": "execute_result"
    },
    {
     "data": {
      "text/plain": [
       "'C:/Users/khanh/code/DATA_SCIENCE/data/clean_images/test/labels/6151.txt'"
      ]
     },
     "execution_count": 161,
     "metadata": {},
     "output_type": "execute_result"
    },
    {
     "data": {
      "text/plain": [
       "'C:/Users/khanh/code/DATA_SCIENCE/data/clean_images/test/images/6152.jpg'"
      ]
     },
     "execution_count": 161,
     "metadata": {},
     "output_type": "execute_result"
    },
    {
     "data": {
      "text/plain": [
       "'C:/Users/khanh/code/DATA_SCIENCE/data/clean_images/test/labels/6152.txt'"
      ]
     },
     "execution_count": 161,
     "metadata": {},
     "output_type": "execute_result"
    },
    {
     "data": {
      "text/plain": [
       "'C:/Users/khanh/code/DATA_SCIENCE/data/clean_images/test/images/6153.jpg'"
      ]
     },
     "execution_count": 161,
     "metadata": {},
     "output_type": "execute_result"
    },
    {
     "data": {
      "text/plain": [
       "'C:/Users/khanh/code/DATA_SCIENCE/data/clean_images/test/labels/6153.txt'"
      ]
     },
     "execution_count": 161,
     "metadata": {},
     "output_type": "execute_result"
    },
    {
     "data": {
      "text/plain": [
       "'C:/Users/khanh/code/DATA_SCIENCE/data/clean_images/test/images/6154.jpg'"
      ]
     },
     "execution_count": 161,
     "metadata": {},
     "output_type": "execute_result"
    },
    {
     "data": {
      "text/plain": [
       "'C:/Users/khanh/code/DATA_SCIENCE/data/clean_images/test/labels/6154.txt'"
      ]
     },
     "execution_count": 161,
     "metadata": {},
     "output_type": "execute_result"
    },
    {
     "data": {
      "text/plain": [
       "'C:/Users/khanh/code/DATA_SCIENCE/data/clean_images/test/images/2359.jpg'"
      ]
     },
     "execution_count": 161,
     "metadata": {},
     "output_type": "execute_result"
    },
    {
     "data": {
      "text/plain": [
       "'C:/Users/khanh/code/DATA_SCIENCE/data/clean_images/test/labels/2359.txt'"
      ]
     },
     "execution_count": 161,
     "metadata": {},
     "output_type": "execute_result"
    },
    {
     "data": {
      "text/plain": [
       "'C:/Users/khanh/code/DATA_SCIENCE/data/clean_images/test/images/2360.jpg'"
      ]
     },
     "execution_count": 161,
     "metadata": {},
     "output_type": "execute_result"
    },
    {
     "data": {
      "text/plain": [
       "'C:/Users/khanh/code/DATA_SCIENCE/data/clean_images/test/labels/2360.txt'"
      ]
     },
     "execution_count": 161,
     "metadata": {},
     "output_type": "execute_result"
    },
    {
     "data": {
      "text/plain": [
       "'C:/Users/khanh/code/DATA_SCIENCE/data/clean_images/test/images/2361.jpg'"
      ]
     },
     "execution_count": 161,
     "metadata": {},
     "output_type": "execute_result"
    },
    {
     "data": {
      "text/plain": [
       "'C:/Users/khanh/code/DATA_SCIENCE/data/clean_images/test/labels/2361.txt'"
      ]
     },
     "execution_count": 161,
     "metadata": {},
     "output_type": "execute_result"
    },
    {
     "data": {
      "text/plain": [
       "'C:/Users/khanh/code/DATA_SCIENCE/data/clean_images/test/images/2362.jpg'"
      ]
     },
     "execution_count": 161,
     "metadata": {},
     "output_type": "execute_result"
    },
    {
     "data": {
      "text/plain": [
       "'C:/Users/khanh/code/DATA_SCIENCE/data/clean_images/test/labels/2362.txt'"
      ]
     },
     "execution_count": 161,
     "metadata": {},
     "output_type": "execute_result"
    },
    {
     "data": {
      "text/plain": [
       "'C:/Users/khanh/code/DATA_SCIENCE/data/clean_images/test/images/2363.jpg'"
      ]
     },
     "execution_count": 161,
     "metadata": {},
     "output_type": "execute_result"
    },
    {
     "data": {
      "text/plain": [
       "'C:/Users/khanh/code/DATA_SCIENCE/data/clean_images/test/labels/2363.txt'"
      ]
     },
     "execution_count": 161,
     "metadata": {},
     "output_type": "execute_result"
    },
    {
     "data": {
      "text/plain": [
       "'C:/Users/khanh/code/DATA_SCIENCE/data/clean_images/test/images/2364.jpg'"
      ]
     },
     "execution_count": 161,
     "metadata": {},
     "output_type": "execute_result"
    },
    {
     "data": {
      "text/plain": [
       "'C:/Users/khanh/code/DATA_SCIENCE/data/clean_images/test/labels/2364.txt'"
      ]
     },
     "execution_count": 161,
     "metadata": {},
     "output_type": "execute_result"
    },
    {
     "data": {
      "text/plain": [
       "'C:/Users/khanh/code/DATA_SCIENCE/data/clean_images/test/images/9837.jpg'"
      ]
     },
     "execution_count": 161,
     "metadata": {},
     "output_type": "execute_result"
    },
    {
     "data": {
      "text/plain": [
       "'C:/Users/khanh/code/DATA_SCIENCE/data/clean_images/test/labels/9837.txt'"
      ]
     },
     "execution_count": 161,
     "metadata": {},
     "output_type": "execute_result"
    },
    {
     "data": {
      "text/plain": [
       "'C:/Users/khanh/code/DATA_SCIENCE/data/clean_images/test/images/9841.jpg'"
      ]
     },
     "execution_count": 161,
     "metadata": {},
     "output_type": "execute_result"
    },
    {
     "data": {
      "text/plain": [
       "'C:/Users/khanh/code/DATA_SCIENCE/data/clean_images/test/labels/9841.txt'"
      ]
     },
     "execution_count": 161,
     "metadata": {},
     "output_type": "execute_result"
    },
    {
     "data": {
      "text/plain": [
       "'C:/Users/khanh/code/DATA_SCIENCE/data/clean_images/test/images/6501.jpg'"
      ]
     },
     "execution_count": 161,
     "metadata": {},
     "output_type": "execute_result"
    },
    {
     "data": {
      "text/plain": [
       "'C:/Users/khanh/code/DATA_SCIENCE/data/clean_images/test/labels/6501.txt'"
      ]
     },
     "execution_count": 161,
     "metadata": {},
     "output_type": "execute_result"
    },
    {
     "data": {
      "text/plain": [
       "'C:/Users/khanh/code/DATA_SCIENCE/data/clean_images/test/images/6504.jpg'"
      ]
     },
     "execution_count": 161,
     "metadata": {},
     "output_type": "execute_result"
    },
    {
     "data": {
      "text/plain": [
       "'C:/Users/khanh/code/DATA_SCIENCE/data/clean_images/test/labels/6504.txt'"
      ]
     },
     "execution_count": 161,
     "metadata": {},
     "output_type": "execute_result"
    },
    {
     "data": {
      "text/plain": [
       "'C:/Users/khanh/code/DATA_SCIENCE/data/clean_images/test/images/6505.jpg'"
      ]
     },
     "execution_count": 161,
     "metadata": {},
     "output_type": "execute_result"
    },
    {
     "data": {
      "text/plain": [
       "'C:/Users/khanh/code/DATA_SCIENCE/data/clean_images/test/labels/6505.txt'"
      ]
     },
     "execution_count": 161,
     "metadata": {},
     "output_type": "execute_result"
    },
    {
     "data": {
      "text/plain": [
       "'C:/Users/khanh/code/DATA_SCIENCE/data/clean_images/test/images/27367.jpg'"
      ]
     },
     "execution_count": 161,
     "metadata": {},
     "output_type": "execute_result"
    },
    {
     "data": {
      "text/plain": [
       "'C:/Users/khanh/code/DATA_SCIENCE/data/clean_images/test/labels/27367.txt'"
      ]
     },
     "execution_count": 161,
     "metadata": {},
     "output_type": "execute_result"
    },
    {
     "data": {
      "text/plain": [
       "'C:/Users/khanh/code/DATA_SCIENCE/data/clean_images/test/images/27368.jpg'"
      ]
     },
     "execution_count": 161,
     "metadata": {},
     "output_type": "execute_result"
    },
    {
     "data": {
      "text/plain": [
       "'C:/Users/khanh/code/DATA_SCIENCE/data/clean_images/test/labels/27368.txt'"
      ]
     },
     "execution_count": 161,
     "metadata": {},
     "output_type": "execute_result"
    },
    {
     "data": {
      "text/plain": [
       "'C:/Users/khanh/code/DATA_SCIENCE/data/clean_images/test/images/35235.jpg'"
      ]
     },
     "execution_count": 161,
     "metadata": {},
     "output_type": "execute_result"
    },
    {
     "data": {
      "text/plain": [
       "'C:/Users/khanh/code/DATA_SCIENCE/data/clean_images/test/labels/35235.txt'"
      ]
     },
     "execution_count": 161,
     "metadata": {},
     "output_type": "execute_result"
    },
    {
     "data": {
      "text/plain": [
       "'C:/Users/khanh/code/DATA_SCIENCE/data/clean_images/test/images/35236.jpg'"
      ]
     },
     "execution_count": 161,
     "metadata": {},
     "output_type": "execute_result"
    },
    {
     "data": {
      "text/plain": [
       "'C:/Users/khanh/code/DATA_SCIENCE/data/clean_images/test/labels/35236.txt'"
      ]
     },
     "execution_count": 161,
     "metadata": {},
     "output_type": "execute_result"
    },
    {
     "data": {
      "text/plain": [
       "'C:/Users/khanh/code/DATA_SCIENCE/data/clean_images/test/images/25452.jpg'"
      ]
     },
     "execution_count": 161,
     "metadata": {},
     "output_type": "execute_result"
    },
    {
     "data": {
      "text/plain": [
       "'C:/Users/khanh/code/DATA_SCIENCE/data/clean_images/test/labels/25452.txt'"
      ]
     },
     "execution_count": 161,
     "metadata": {},
     "output_type": "execute_result"
    },
    {
     "data": {
      "text/plain": [
       "'C:/Users/khanh/code/DATA_SCIENCE/data/clean_images/test/images/25453.jpg'"
      ]
     },
     "execution_count": 161,
     "metadata": {},
     "output_type": "execute_result"
    },
    {
     "data": {
      "text/plain": [
       "'C:/Users/khanh/code/DATA_SCIENCE/data/clean_images/test/labels/25453.txt'"
      ]
     },
     "execution_count": 161,
     "metadata": {},
     "output_type": "execute_result"
    },
    {
     "data": {
      "text/plain": [
       "'C:/Users/khanh/code/DATA_SCIENCE/data/clean_images/test/images/25454.jpg'"
      ]
     },
     "execution_count": 161,
     "metadata": {},
     "output_type": "execute_result"
    },
    {
     "data": {
      "text/plain": [
       "'C:/Users/khanh/code/DATA_SCIENCE/data/clean_images/test/labels/25454.txt'"
      ]
     },
     "execution_count": 161,
     "metadata": {},
     "output_type": "execute_result"
    },
    {
     "data": {
      "text/plain": [
       "'C:/Users/khanh/code/DATA_SCIENCE/data/clean_images/test/images/25455.jpg'"
      ]
     },
     "execution_count": 161,
     "metadata": {},
     "output_type": "execute_result"
    },
    {
     "data": {
      "text/plain": [
       "'C:/Users/khanh/code/DATA_SCIENCE/data/clean_images/test/labels/25455.txt'"
      ]
     },
     "execution_count": 161,
     "metadata": {},
     "output_type": "execute_result"
    },
    {
     "data": {
      "text/plain": [
       "'C:/Users/khanh/code/DATA_SCIENCE/data/clean_images/test/images/25456.jpg'"
      ]
     },
     "execution_count": 161,
     "metadata": {},
     "output_type": "execute_result"
    },
    {
     "data": {
      "text/plain": [
       "'C:/Users/khanh/code/DATA_SCIENCE/data/clean_images/test/labels/25456.txt'"
      ]
     },
     "execution_count": 161,
     "metadata": {},
     "output_type": "execute_result"
    },
    {
     "data": {
      "text/plain": [
       "'C:/Users/khanh/code/DATA_SCIENCE/data/clean_images/test/images/25457.jpg'"
      ]
     },
     "execution_count": 161,
     "metadata": {},
     "output_type": "execute_result"
    },
    {
     "data": {
      "text/plain": [
       "'C:/Users/khanh/code/DATA_SCIENCE/data/clean_images/test/labels/25457.txt'"
      ]
     },
     "execution_count": 161,
     "metadata": {},
     "output_type": "execute_result"
    },
    {
     "data": {
      "text/plain": [
       "'C:/Users/khanh/code/DATA_SCIENCE/data/clean_images/test/images/5808.jpg'"
      ]
     },
     "execution_count": 161,
     "metadata": {},
     "output_type": "execute_result"
    },
    {
     "data": {
      "text/plain": [
       "'C:/Users/khanh/code/DATA_SCIENCE/data/clean_images/test/labels/5808.txt'"
      ]
     },
     "execution_count": 161,
     "metadata": {},
     "output_type": "execute_result"
    },
    {
     "data": {
      "text/plain": [
       "'C:/Users/khanh/code/DATA_SCIENCE/data/clean_images/test/images/5810.jpg'"
      ]
     },
     "execution_count": 161,
     "metadata": {},
     "output_type": "execute_result"
    },
    {
     "data": {
      "text/plain": [
       "'C:/Users/khanh/code/DATA_SCIENCE/data/clean_images/test/labels/5810.txt'"
      ]
     },
     "execution_count": 161,
     "metadata": {},
     "output_type": "execute_result"
    },
    {
     "data": {
      "text/plain": [
       "'C:/Users/khanh/code/DATA_SCIENCE/data/clean_images/test/images/5811.jpg'"
      ]
     },
     "execution_count": 161,
     "metadata": {},
     "output_type": "execute_result"
    },
    {
     "data": {
      "text/plain": [
       "'C:/Users/khanh/code/DATA_SCIENCE/data/clean_images/test/labels/5811.txt'"
      ]
     },
     "execution_count": 161,
     "metadata": {},
     "output_type": "execute_result"
    },
    {
     "data": {
      "text/plain": [
       "'C:/Users/khanh/code/DATA_SCIENCE/data/clean_images/test/images/11541.jpg'"
      ]
     },
     "execution_count": 161,
     "metadata": {},
     "output_type": "execute_result"
    },
    {
     "data": {
      "text/plain": [
       "'C:/Users/khanh/code/DATA_SCIENCE/data/clean_images/test/labels/11541.txt'"
      ]
     },
     "execution_count": 161,
     "metadata": {},
     "output_type": "execute_result"
    },
    {
     "data": {
      "text/plain": [
       "'C:/Users/khanh/code/DATA_SCIENCE/data/clean_images/test/images/24468.jpg'"
      ]
     },
     "execution_count": 161,
     "metadata": {},
     "output_type": "execute_result"
    },
    {
     "data": {
      "text/plain": [
       "'C:/Users/khanh/code/DATA_SCIENCE/data/clean_images/test/labels/24468.txt'"
      ]
     },
     "execution_count": 161,
     "metadata": {},
     "output_type": "execute_result"
    },
    {
     "data": {
      "text/plain": [
       "'C:/Users/khanh/code/DATA_SCIENCE/data/clean_images/test/images/29315.jpg'"
      ]
     },
     "execution_count": 161,
     "metadata": {},
     "output_type": "execute_result"
    },
    {
     "data": {
      "text/plain": [
       "'C:/Users/khanh/code/DATA_SCIENCE/data/clean_images/test/labels/29315.txt'"
      ]
     },
     "execution_count": 161,
     "metadata": {},
     "output_type": "execute_result"
    },
    {
     "data": {
      "text/plain": [
       "'C:/Users/khanh/code/DATA_SCIENCE/data/clean_images/test/images/2565.jpg'"
      ]
     },
     "execution_count": 161,
     "metadata": {},
     "output_type": "execute_result"
    },
    {
     "data": {
      "text/plain": [
       "'C:/Users/khanh/code/DATA_SCIENCE/data/clean_images/test/labels/2565.txt'"
      ]
     },
     "execution_count": 161,
     "metadata": {},
     "output_type": "execute_result"
    },
    {
     "data": {
      "text/plain": [
       "'C:/Users/khanh/code/DATA_SCIENCE/data/clean_images/test/images/2567.jpg'"
      ]
     },
     "execution_count": 161,
     "metadata": {},
     "output_type": "execute_result"
    },
    {
     "data": {
      "text/plain": [
       "'C:/Users/khanh/code/DATA_SCIENCE/data/clean_images/test/labels/2567.txt'"
      ]
     },
     "execution_count": 161,
     "metadata": {},
     "output_type": "execute_result"
    },
    {
     "data": {
      "text/plain": [
       "'C:/Users/khanh/code/DATA_SCIENCE/data/clean_images/test/images/2568.jpg'"
      ]
     },
     "execution_count": 161,
     "metadata": {},
     "output_type": "execute_result"
    },
    {
     "data": {
      "text/plain": [
       "'C:/Users/khanh/code/DATA_SCIENCE/data/clean_images/test/labels/2568.txt'"
      ]
     },
     "execution_count": 161,
     "metadata": {},
     "output_type": "execute_result"
    },
    {
     "data": {
      "text/plain": [
       "'C:/Users/khanh/code/DATA_SCIENCE/data/clean_images/test/images/2569.jpg'"
      ]
     },
     "execution_count": 161,
     "metadata": {},
     "output_type": "execute_result"
    },
    {
     "data": {
      "text/plain": [
       "'C:/Users/khanh/code/DATA_SCIENCE/data/clean_images/test/labels/2569.txt'"
      ]
     },
     "execution_count": 161,
     "metadata": {},
     "output_type": "execute_result"
    },
    {
     "data": {
      "text/plain": [
       "'C:/Users/khanh/code/DATA_SCIENCE/data/clean_images/test/images/2570.jpg'"
      ]
     },
     "execution_count": 161,
     "metadata": {},
     "output_type": "execute_result"
    },
    {
     "data": {
      "text/plain": [
       "'C:/Users/khanh/code/DATA_SCIENCE/data/clean_images/test/labels/2570.txt'"
      ]
     },
     "execution_count": 161,
     "metadata": {},
     "output_type": "execute_result"
    },
    {
     "data": {
      "text/plain": [
       "'C:/Users/khanh/code/DATA_SCIENCE/data/clean_images/test/images/50183.jpg'"
      ]
     },
     "execution_count": 161,
     "metadata": {},
     "output_type": "execute_result"
    },
    {
     "data": {
      "text/plain": [
       "'C:/Users/khanh/code/DATA_SCIENCE/data/clean_images/test/labels/50183.txt'"
      ]
     },
     "execution_count": 161,
     "metadata": {},
     "output_type": "execute_result"
    },
    {
     "data": {
      "text/plain": [
       "'C:/Users/khanh/code/DATA_SCIENCE/data/clean_images/test/images/50184.jpg'"
      ]
     },
     "execution_count": 161,
     "metadata": {},
     "output_type": "execute_result"
    },
    {
     "data": {
      "text/plain": [
       "'C:/Users/khanh/code/DATA_SCIENCE/data/clean_images/test/labels/50184.txt'"
      ]
     },
     "execution_count": 161,
     "metadata": {},
     "output_type": "execute_result"
    },
    {
     "data": {
      "text/plain": [
       "'C:/Users/khanh/code/DATA_SCIENCE/data/clean_images/test/images/50185.jpg'"
      ]
     },
     "execution_count": 161,
     "metadata": {},
     "output_type": "execute_result"
    },
    {
     "data": {
      "text/plain": [
       "'C:/Users/khanh/code/DATA_SCIENCE/data/clean_images/test/labels/50185.txt'"
      ]
     },
     "execution_count": 161,
     "metadata": {},
     "output_type": "execute_result"
    },
    {
     "data": {
      "text/plain": [
       "'C:/Users/khanh/code/DATA_SCIENCE/data/clean_images/test/images/49289.jpg'"
      ]
     },
     "execution_count": 161,
     "metadata": {},
     "output_type": "execute_result"
    },
    {
     "data": {
      "text/plain": [
       "'C:/Users/khanh/code/DATA_SCIENCE/data/clean_images/test/labels/49289.txt'"
      ]
     },
     "execution_count": 161,
     "metadata": {},
     "output_type": "execute_result"
    },
    {
     "data": {
      "text/plain": [
       "'C:/Users/khanh/code/DATA_SCIENCE/data/clean_images/test/images/49291.jpg'"
      ]
     },
     "execution_count": 161,
     "metadata": {},
     "output_type": "execute_result"
    },
    {
     "data": {
      "text/plain": [
       "'C:/Users/khanh/code/DATA_SCIENCE/data/clean_images/test/labels/49291.txt'"
      ]
     },
     "execution_count": 161,
     "metadata": {},
     "output_type": "execute_result"
    },
    {
     "data": {
      "text/plain": [
       "'C:/Users/khanh/code/DATA_SCIENCE/data/clean_images/test/images/49292.jpg'"
      ]
     },
     "execution_count": 161,
     "metadata": {},
     "output_type": "execute_result"
    },
    {
     "data": {
      "text/plain": [
       "'C:/Users/khanh/code/DATA_SCIENCE/data/clean_images/test/labels/49292.txt'"
      ]
     },
     "execution_count": 161,
     "metadata": {},
     "output_type": "execute_result"
    },
    {
     "data": {
      "text/plain": [
       "'C:/Users/khanh/code/DATA_SCIENCE/data/clean_images/test/images/22718.jpg'"
      ]
     },
     "execution_count": 161,
     "metadata": {},
     "output_type": "execute_result"
    },
    {
     "data": {
      "text/plain": [
       "'C:/Users/khanh/code/DATA_SCIENCE/data/clean_images/test/labels/22718.txt'"
      ]
     },
     "execution_count": 161,
     "metadata": {},
     "output_type": "execute_result"
    },
    {
     "data": {
      "text/plain": [
       "'C:/Users/khanh/code/DATA_SCIENCE/data/clean_images/test/images/22719.jpg'"
      ]
     },
     "execution_count": 161,
     "metadata": {},
     "output_type": "execute_result"
    },
    {
     "data": {
      "text/plain": [
       "'C:/Users/khanh/code/DATA_SCIENCE/data/clean_images/test/labels/22719.txt'"
      ]
     },
     "execution_count": 161,
     "metadata": {},
     "output_type": "execute_result"
    },
    {
     "data": {
      "text/plain": [
       "'C:/Users/khanh/code/DATA_SCIENCE/data/clean_images/test/images/22720.jpg'"
      ]
     },
     "execution_count": 161,
     "metadata": {},
     "output_type": "execute_result"
    },
    {
     "data": {
      "text/plain": [
       "'C:/Users/khanh/code/DATA_SCIENCE/data/clean_images/test/labels/22720.txt'"
      ]
     },
     "execution_count": 161,
     "metadata": {},
     "output_type": "execute_result"
    },
    {
     "data": {
      "text/plain": [
       "'C:/Users/khanh/code/DATA_SCIENCE/data/clean_images/test/images/22721.jpg'"
      ]
     },
     "execution_count": 161,
     "metadata": {},
     "output_type": "execute_result"
    },
    {
     "data": {
      "text/plain": [
       "'C:/Users/khanh/code/DATA_SCIENCE/data/clean_images/test/labels/22721.txt'"
      ]
     },
     "execution_count": 161,
     "metadata": {},
     "output_type": "execute_result"
    },
    {
     "data": {
      "text/plain": [
       "'C:/Users/khanh/code/DATA_SCIENCE/data/clean_images/test/images/22673.jpg'"
      ]
     },
     "execution_count": 161,
     "metadata": {},
     "output_type": "execute_result"
    },
    {
     "data": {
      "text/plain": [
       "'C:/Users/khanh/code/DATA_SCIENCE/data/clean_images/test/labels/22673.txt'"
      ]
     },
     "execution_count": 161,
     "metadata": {},
     "output_type": "execute_result"
    },
    {
     "data": {
      "text/plain": [
       "'C:/Users/khanh/code/DATA_SCIENCE/data/clean_images/test/images/22674.jpg'"
      ]
     },
     "execution_count": 161,
     "metadata": {},
     "output_type": "execute_result"
    },
    {
     "data": {
      "text/plain": [
       "'C:/Users/khanh/code/DATA_SCIENCE/data/clean_images/test/labels/22674.txt'"
      ]
     },
     "execution_count": 161,
     "metadata": {},
     "output_type": "execute_result"
    },
    {
     "data": {
      "text/plain": [
       "'C:/Users/khanh/code/DATA_SCIENCE/data/clean_images/test/images/22677.jpg'"
      ]
     },
     "execution_count": 161,
     "metadata": {},
     "output_type": "execute_result"
    },
    {
     "data": {
      "text/plain": [
       "'C:/Users/khanh/code/DATA_SCIENCE/data/clean_images/test/labels/22677.txt'"
      ]
     },
     "execution_count": 161,
     "metadata": {},
     "output_type": "execute_result"
    },
    {
     "data": {
      "text/plain": [
       "'C:/Users/khanh/code/DATA_SCIENCE/data/clean_images/test/images/51538.jpg'"
      ]
     },
     "execution_count": 161,
     "metadata": {},
     "output_type": "execute_result"
    },
    {
     "data": {
      "text/plain": [
       "'C:/Users/khanh/code/DATA_SCIENCE/data/clean_images/test/labels/51538.txt'"
      ]
     },
     "execution_count": 161,
     "metadata": {},
     "output_type": "execute_result"
    },
    {
     "data": {
      "text/plain": [
       "'C:/Users/khanh/code/DATA_SCIENCE/data/clean_images/test/images/51539.jpg'"
      ]
     },
     "execution_count": 161,
     "metadata": {},
     "output_type": "execute_result"
    },
    {
     "data": {
      "text/plain": [
       "'C:/Users/khanh/code/DATA_SCIENCE/data/clean_images/test/labels/51539.txt'"
      ]
     },
     "execution_count": 161,
     "metadata": {},
     "output_type": "execute_result"
    },
    {
     "data": {
      "text/plain": [
       "'C:/Users/khanh/code/DATA_SCIENCE/data/clean_images/test/images/45395.jpg'"
      ]
     },
     "execution_count": 161,
     "metadata": {},
     "output_type": "execute_result"
    },
    {
     "data": {
      "text/plain": [
       "'C:/Users/khanh/code/DATA_SCIENCE/data/clean_images/test/labels/45395.txt'"
      ]
     },
     "execution_count": 161,
     "metadata": {},
     "output_type": "execute_result"
    },
    {
     "data": {
      "text/plain": [
       "'C:/Users/khanh/code/DATA_SCIENCE/data/clean_images/test/images/45396.jpg'"
      ]
     },
     "execution_count": 161,
     "metadata": {},
     "output_type": "execute_result"
    },
    {
     "data": {
      "text/plain": [
       "'C:/Users/khanh/code/DATA_SCIENCE/data/clean_images/test/labels/45396.txt'"
      ]
     },
     "execution_count": 161,
     "metadata": {},
     "output_type": "execute_result"
    },
    {
     "data": {
      "text/plain": [
       "'C:/Users/khanh/code/DATA_SCIENCE/data/clean_images/test/images/45397.jpg'"
      ]
     },
     "execution_count": 161,
     "metadata": {},
     "output_type": "execute_result"
    },
    {
     "data": {
      "text/plain": [
       "'C:/Users/khanh/code/DATA_SCIENCE/data/clean_images/test/labels/45397.txt'"
      ]
     },
     "execution_count": 161,
     "metadata": {},
     "output_type": "execute_result"
    },
    {
     "data": {
      "text/plain": [
       "'C:/Users/khanh/code/DATA_SCIENCE/data/clean_images/test/images/45399.jpg'"
      ]
     },
     "execution_count": 161,
     "metadata": {},
     "output_type": "execute_result"
    },
    {
     "data": {
      "text/plain": [
       "'C:/Users/khanh/code/DATA_SCIENCE/data/clean_images/test/labels/45399.txt'"
      ]
     },
     "execution_count": 161,
     "metadata": {},
     "output_type": "execute_result"
    },
    {
     "data": {
      "text/plain": [
       "'C:/Users/khanh/code/DATA_SCIENCE/data/clean_images/test/images/24596.jpg'"
      ]
     },
     "execution_count": 161,
     "metadata": {},
     "output_type": "execute_result"
    },
    {
     "data": {
      "text/plain": [
       "'C:/Users/khanh/code/DATA_SCIENCE/data/clean_images/test/labels/24596.txt'"
      ]
     },
     "execution_count": 161,
     "metadata": {},
     "output_type": "execute_result"
    },
    {
     "data": {
      "text/plain": [
       "'C:/Users/khanh/code/DATA_SCIENCE/data/clean_images/test/images/8209.jpg'"
      ]
     },
     "execution_count": 161,
     "metadata": {},
     "output_type": "execute_result"
    },
    {
     "data": {
      "text/plain": [
       "'C:/Users/khanh/code/DATA_SCIENCE/data/clean_images/test/labels/8209.txt'"
      ]
     },
     "execution_count": 161,
     "metadata": {},
     "output_type": "execute_result"
    },
    {
     "data": {
      "text/plain": [
       "'C:/Users/khanh/code/DATA_SCIENCE/data/clean_images/test/images/8210.jpg'"
      ]
     },
     "execution_count": 161,
     "metadata": {},
     "output_type": "execute_result"
    },
    {
     "data": {
      "text/plain": [
       "'C:/Users/khanh/code/DATA_SCIENCE/data/clean_images/test/labels/8210.txt'"
      ]
     },
     "execution_count": 161,
     "metadata": {},
     "output_type": "execute_result"
    },
    {
     "data": {
      "text/plain": [
       "'C:/Users/khanh/code/DATA_SCIENCE/data/clean_images/test/images/20767.jpg'"
      ]
     },
     "execution_count": 161,
     "metadata": {},
     "output_type": "execute_result"
    },
    {
     "data": {
      "text/plain": [
       "'C:/Users/khanh/code/DATA_SCIENCE/data/clean_images/test/labels/20767.txt'"
      ]
     },
     "execution_count": 161,
     "metadata": {},
     "output_type": "execute_result"
    },
    {
     "data": {
      "text/plain": [
       "'C:/Users/khanh/code/DATA_SCIENCE/data/clean_images/test/images/20769.jpg'"
      ]
     },
     "execution_count": 161,
     "metadata": {},
     "output_type": "execute_result"
    },
    {
     "data": {
      "text/plain": [
       "'C:/Users/khanh/code/DATA_SCIENCE/data/clean_images/test/labels/20769.txt'"
      ]
     },
     "execution_count": 161,
     "metadata": {},
     "output_type": "execute_result"
    },
    {
     "data": {
      "text/plain": [
       "'C:/Users/khanh/code/DATA_SCIENCE/data/clean_images/test/images/20771.jpg'"
      ]
     },
     "execution_count": 161,
     "metadata": {},
     "output_type": "execute_result"
    },
    {
     "data": {
      "text/plain": [
       "'C:/Users/khanh/code/DATA_SCIENCE/data/clean_images/test/labels/20771.txt'"
      ]
     },
     "execution_count": 161,
     "metadata": {},
     "output_type": "execute_result"
    },
    {
     "data": {
      "text/plain": [
       "'C:/Users/khanh/code/DATA_SCIENCE/data/clean_images/test/images/20772.jpg'"
      ]
     },
     "execution_count": 161,
     "metadata": {},
     "output_type": "execute_result"
    },
    {
     "data": {
      "text/plain": [
       "'C:/Users/khanh/code/DATA_SCIENCE/data/clean_images/test/labels/20772.txt'"
      ]
     },
     "execution_count": 161,
     "metadata": {},
     "output_type": "execute_result"
    },
    {
     "data": {
      "text/plain": [
       "'C:/Users/khanh/code/DATA_SCIENCE/data/clean_images/test/images/42797.jpg'"
      ]
     },
     "execution_count": 161,
     "metadata": {},
     "output_type": "execute_result"
    },
    {
     "data": {
      "text/plain": [
       "'C:/Users/khanh/code/DATA_SCIENCE/data/clean_images/test/labels/42797.txt'"
      ]
     },
     "execution_count": 161,
     "metadata": {},
     "output_type": "execute_result"
    },
    {
     "data": {
      "text/plain": [
       "'C:/Users/khanh/code/DATA_SCIENCE/data/clean_images/test/images/42798.jpg'"
      ]
     },
     "execution_count": 161,
     "metadata": {},
     "output_type": "execute_result"
    },
    {
     "data": {
      "text/plain": [
       "'C:/Users/khanh/code/DATA_SCIENCE/data/clean_images/test/labels/42798.txt'"
      ]
     },
     "execution_count": 161,
     "metadata": {},
     "output_type": "execute_result"
    },
    {
     "data": {
      "text/plain": [
       "'C:/Users/khanh/code/DATA_SCIENCE/data/clean_images/test/images/27471.jpg'"
      ]
     },
     "execution_count": 161,
     "metadata": {},
     "output_type": "execute_result"
    },
    {
     "data": {
      "text/plain": [
       "'C:/Users/khanh/code/DATA_SCIENCE/data/clean_images/test/labels/27471.txt'"
      ]
     },
     "execution_count": 161,
     "metadata": {},
     "output_type": "execute_result"
    },
    {
     "data": {
      "text/plain": [
       "'C:/Users/khanh/code/DATA_SCIENCE/data/clean_images/test/images/27474.jpg'"
      ]
     },
     "execution_count": 161,
     "metadata": {},
     "output_type": "execute_result"
    },
    {
     "data": {
      "text/plain": [
       "'C:/Users/khanh/code/DATA_SCIENCE/data/clean_images/test/labels/27474.txt'"
      ]
     },
     "execution_count": 161,
     "metadata": {},
     "output_type": "execute_result"
    },
    {
     "data": {
      "text/plain": [
       "'C:/Users/khanh/code/DATA_SCIENCE/data/clean_images/test/images/20964.jpg'"
      ]
     },
     "execution_count": 161,
     "metadata": {},
     "output_type": "execute_result"
    },
    {
     "data": {
      "text/plain": [
       "'C:/Users/khanh/code/DATA_SCIENCE/data/clean_images/test/labels/20964.txt'"
      ]
     },
     "execution_count": 161,
     "metadata": {},
     "output_type": "execute_result"
    },
    {
     "data": {
      "text/plain": [
       "'C:/Users/khanh/code/DATA_SCIENCE/data/clean_images/test/images/20965.jpg'"
      ]
     },
     "execution_count": 161,
     "metadata": {},
     "output_type": "execute_result"
    },
    {
     "data": {
      "text/plain": [
       "'C:/Users/khanh/code/DATA_SCIENCE/data/clean_images/test/labels/20965.txt'"
      ]
     },
     "execution_count": 161,
     "metadata": {},
     "output_type": "execute_result"
    },
    {
     "data": {
      "text/plain": [
       "'C:/Users/khanh/code/DATA_SCIENCE/data/clean_images/test/images/35550.jpg'"
      ]
     },
     "execution_count": 161,
     "metadata": {},
     "output_type": "execute_result"
    },
    {
     "data": {
      "text/plain": [
       "'C:/Users/khanh/code/DATA_SCIENCE/data/clean_images/test/labels/35550.txt'"
      ]
     },
     "execution_count": 161,
     "metadata": {},
     "output_type": "execute_result"
    },
    {
     "data": {
      "text/plain": [
       "'C:/Users/khanh/code/DATA_SCIENCE/data/clean_images/test/images/35552.jpg'"
      ]
     },
     "execution_count": 161,
     "metadata": {},
     "output_type": "execute_result"
    },
    {
     "data": {
      "text/plain": [
       "'C:/Users/khanh/code/DATA_SCIENCE/data/clean_images/test/labels/35552.txt'"
      ]
     },
     "execution_count": 161,
     "metadata": {},
     "output_type": "execute_result"
    },
    {
     "data": {
      "text/plain": [
       "'C:/Users/khanh/code/DATA_SCIENCE/data/clean_images/test/images/18531.jpg'"
      ]
     },
     "execution_count": 161,
     "metadata": {},
     "output_type": "execute_result"
    },
    {
     "data": {
      "text/plain": [
       "'C:/Users/khanh/code/DATA_SCIENCE/data/clean_images/test/labels/18531.txt'"
      ]
     },
     "execution_count": 161,
     "metadata": {},
     "output_type": "execute_result"
    },
    {
     "data": {
      "text/plain": [
       "'C:/Users/khanh/code/DATA_SCIENCE/data/clean_images/test/images/35588.jpg'"
      ]
     },
     "execution_count": 161,
     "metadata": {},
     "output_type": "execute_result"
    },
    {
     "data": {
      "text/plain": [
       "'C:/Users/khanh/code/DATA_SCIENCE/data/clean_images/test/labels/35588.txt'"
      ]
     },
     "execution_count": 161,
     "metadata": {},
     "output_type": "execute_result"
    },
    {
     "data": {
      "text/plain": [
       "'C:/Users/khanh/code/DATA_SCIENCE/data/clean_images/test/images/35592.jpg'"
      ]
     },
     "execution_count": 161,
     "metadata": {},
     "output_type": "execute_result"
    },
    {
     "data": {
      "text/plain": [
       "'C:/Users/khanh/code/DATA_SCIENCE/data/clean_images/test/labels/35592.txt'"
      ]
     },
     "execution_count": 161,
     "metadata": {},
     "output_type": "execute_result"
    },
    {
     "data": {
      "text/plain": [
       "'C:/Users/khanh/code/DATA_SCIENCE/data/clean_images/test/images/35583.jpg'"
      ]
     },
     "execution_count": 161,
     "metadata": {},
     "output_type": "execute_result"
    },
    {
     "data": {
      "text/plain": [
       "'C:/Users/khanh/code/DATA_SCIENCE/data/clean_images/test/labels/35583.txt'"
      ]
     },
     "execution_count": 161,
     "metadata": {},
     "output_type": "execute_result"
    },
    {
     "data": {
      "text/plain": [
       "'C:/Users/khanh/code/DATA_SCIENCE/data/clean_images/test/images/35584.jpg'"
      ]
     },
     "execution_count": 161,
     "metadata": {},
     "output_type": "execute_result"
    },
    {
     "data": {
      "text/plain": [
       "'C:/Users/khanh/code/DATA_SCIENCE/data/clean_images/test/labels/35584.txt'"
      ]
     },
     "execution_count": 161,
     "metadata": {},
     "output_type": "execute_result"
    },
    {
     "data": {
      "text/plain": [
       "'C:/Users/khanh/code/DATA_SCIENCE/data/clean_images/test/images/35585.jpg'"
      ]
     },
     "execution_count": 161,
     "metadata": {},
     "output_type": "execute_result"
    },
    {
     "data": {
      "text/plain": [
       "'C:/Users/khanh/code/DATA_SCIENCE/data/clean_images/test/labels/35585.txt'"
      ]
     },
     "execution_count": 161,
     "metadata": {},
     "output_type": "execute_result"
    },
    {
     "data": {
      "text/plain": [
       "'C:/Users/khanh/code/DATA_SCIENCE/data/clean_images/test/images/35586.jpg'"
      ]
     },
     "execution_count": 161,
     "metadata": {},
     "output_type": "execute_result"
    },
    {
     "data": {
      "text/plain": [
       "'C:/Users/khanh/code/DATA_SCIENCE/data/clean_images/test/labels/35586.txt'"
      ]
     },
     "execution_count": 161,
     "metadata": {},
     "output_type": "execute_result"
    },
    {
     "data": {
      "text/plain": [
       "'C:/Users/khanh/code/DATA_SCIENCE/data/clean_images/test/images/897.jpg'"
      ]
     },
     "execution_count": 161,
     "metadata": {},
     "output_type": "execute_result"
    },
    {
     "data": {
      "text/plain": [
       "'C:/Users/khanh/code/DATA_SCIENCE/data/clean_images/test/labels/897.txt'"
      ]
     },
     "execution_count": 161,
     "metadata": {},
     "output_type": "execute_result"
    },
    {
     "data": {
      "text/plain": [
       "'C:/Users/khanh/code/DATA_SCIENCE/data/clean_images/test/images/37652.jpg'"
      ]
     },
     "execution_count": 161,
     "metadata": {},
     "output_type": "execute_result"
    },
    {
     "data": {
      "text/plain": [
       "'C:/Users/khanh/code/DATA_SCIENCE/data/clean_images/test/labels/37652.txt'"
      ]
     },
     "execution_count": 161,
     "metadata": {},
     "output_type": "execute_result"
    },
    {
     "data": {
      "text/plain": [
       "'C:/Users/khanh/code/DATA_SCIENCE/data/clean_images/test/images/37653.jpg'"
      ]
     },
     "execution_count": 161,
     "metadata": {},
     "output_type": "execute_result"
    },
    {
     "data": {
      "text/plain": [
       "'C:/Users/khanh/code/DATA_SCIENCE/data/clean_images/test/labels/37653.txt'"
      ]
     },
     "execution_count": 161,
     "metadata": {},
     "output_type": "execute_result"
    },
    {
     "data": {
      "text/plain": [
       "'C:/Users/khanh/code/DATA_SCIENCE/data/clean_images/test/images/37654.jpg'"
      ]
     },
     "execution_count": 161,
     "metadata": {},
     "output_type": "execute_result"
    },
    {
     "data": {
      "text/plain": [
       "'C:/Users/khanh/code/DATA_SCIENCE/data/clean_images/test/labels/37654.txt'"
      ]
     },
     "execution_count": 161,
     "metadata": {},
     "output_type": "execute_result"
    },
    {
     "data": {
      "text/plain": [
       "'C:/Users/khanh/code/DATA_SCIENCE/data/clean_images/test/images/37655.jpg'"
      ]
     },
     "execution_count": 161,
     "metadata": {},
     "output_type": "execute_result"
    },
    {
     "data": {
      "text/plain": [
       "'C:/Users/khanh/code/DATA_SCIENCE/data/clean_images/test/labels/37655.txt'"
      ]
     },
     "execution_count": 161,
     "metadata": {},
     "output_type": "execute_result"
    },
    {
     "data": {
      "text/plain": [
       "'C:/Users/khanh/code/DATA_SCIENCE/data/clean_images/test/images/4570.jpg'"
      ]
     },
     "execution_count": 161,
     "metadata": {},
     "output_type": "execute_result"
    },
    {
     "data": {
      "text/plain": [
       "'C:/Users/khanh/code/DATA_SCIENCE/data/clean_images/test/labels/4570.txt'"
      ]
     },
     "execution_count": 161,
     "metadata": {},
     "output_type": "execute_result"
    },
    {
     "data": {
      "text/plain": [
       "'C:/Users/khanh/code/DATA_SCIENCE/data/clean_images/test/images/4572.jpg'"
      ]
     },
     "execution_count": 161,
     "metadata": {},
     "output_type": "execute_result"
    },
    {
     "data": {
      "text/plain": [
       "'C:/Users/khanh/code/DATA_SCIENCE/data/clean_images/test/labels/4572.txt'"
      ]
     },
     "execution_count": 161,
     "metadata": {},
     "output_type": "execute_result"
    },
    {
     "data": {
      "text/plain": [
       "'C:/Users/khanh/code/DATA_SCIENCE/data/clean_images/test/images/4573.jpg'"
      ]
     },
     "execution_count": 161,
     "metadata": {},
     "output_type": "execute_result"
    },
    {
     "data": {
      "text/plain": [
       "'C:/Users/khanh/code/DATA_SCIENCE/data/clean_images/test/labels/4573.txt'"
      ]
     },
     "execution_count": 161,
     "metadata": {},
     "output_type": "execute_result"
    },
    {
     "data": {
      "text/plain": [
       "'C:/Users/khanh/code/DATA_SCIENCE/data/clean_images/test/images/4574.jpg'"
      ]
     },
     "execution_count": 161,
     "metadata": {},
     "output_type": "execute_result"
    },
    {
     "data": {
      "text/plain": [
       "'C:/Users/khanh/code/DATA_SCIENCE/data/clean_images/test/labels/4574.txt'"
      ]
     },
     "execution_count": 161,
     "metadata": {},
     "output_type": "execute_result"
    },
    {
     "data": {
      "text/plain": [
       "'C:/Users/khanh/code/DATA_SCIENCE/data/clean_images/test/images/4575.jpg'"
      ]
     },
     "execution_count": 161,
     "metadata": {},
     "output_type": "execute_result"
    },
    {
     "data": {
      "text/plain": [
       "'C:/Users/khanh/code/DATA_SCIENCE/data/clean_images/test/labels/4575.txt'"
      ]
     },
     "execution_count": 161,
     "metadata": {},
     "output_type": "execute_result"
    },
    {
     "data": {
      "text/plain": [
       "'C:/Users/khanh/code/DATA_SCIENCE/data/clean_images/test/images/40922.jpg'"
      ]
     },
     "execution_count": 161,
     "metadata": {},
     "output_type": "execute_result"
    },
    {
     "data": {
      "text/plain": [
       "'C:/Users/khanh/code/DATA_SCIENCE/data/clean_images/test/labels/40922.txt'"
      ]
     },
     "execution_count": 161,
     "metadata": {},
     "output_type": "execute_result"
    },
    {
     "data": {
      "text/plain": [
       "'C:/Users/khanh/code/DATA_SCIENCE/data/clean_images/test/images/40923.jpg'"
      ]
     },
     "execution_count": 161,
     "metadata": {},
     "output_type": "execute_result"
    },
    {
     "data": {
      "text/plain": [
       "'C:/Users/khanh/code/DATA_SCIENCE/data/clean_images/test/labels/40923.txt'"
      ]
     },
     "execution_count": 161,
     "metadata": {},
     "output_type": "execute_result"
    },
    {
     "data": {
      "text/plain": [
       "'C:/Users/khanh/code/DATA_SCIENCE/data/clean_images/test/images/30359.jpg'"
      ]
     },
     "execution_count": 161,
     "metadata": {},
     "output_type": "execute_result"
    },
    {
     "data": {
      "text/plain": [
       "'C:/Users/khanh/code/DATA_SCIENCE/data/clean_images/test/labels/30359.txt'"
      ]
     },
     "execution_count": 161,
     "metadata": {},
     "output_type": "execute_result"
    },
    {
     "data": {
      "text/plain": [
       "'C:/Users/khanh/code/DATA_SCIENCE/data/clean_images/test/images/45419.jpg'"
      ]
     },
     "execution_count": 161,
     "metadata": {},
     "output_type": "execute_result"
    },
    {
     "data": {
      "text/plain": [
       "'C:/Users/khanh/code/DATA_SCIENCE/data/clean_images/test/labels/45419.txt'"
      ]
     },
     "execution_count": 161,
     "metadata": {},
     "output_type": "execute_result"
    },
    {
     "data": {
      "text/plain": [
       "'C:/Users/khanh/code/DATA_SCIENCE/data/clean_images/test/images/45422.jpg'"
      ]
     },
     "execution_count": 161,
     "metadata": {},
     "output_type": "execute_result"
    },
    {
     "data": {
      "text/plain": [
       "'C:/Users/khanh/code/DATA_SCIENCE/data/clean_images/test/labels/45422.txt'"
      ]
     },
     "execution_count": 161,
     "metadata": {},
     "output_type": "execute_result"
    },
    {
     "data": {
      "text/plain": [
       "'C:/Users/khanh/code/DATA_SCIENCE/data/clean_images/test/images/45423.jpg'"
      ]
     },
     "execution_count": 161,
     "metadata": {},
     "output_type": "execute_result"
    },
    {
     "data": {
      "text/plain": [
       "'C:/Users/khanh/code/DATA_SCIENCE/data/clean_images/test/labels/45423.txt'"
      ]
     },
     "execution_count": 161,
     "metadata": {},
     "output_type": "execute_result"
    },
    {
     "data": {
      "text/plain": [
       "'C:/Users/khanh/code/DATA_SCIENCE/data/clean_images/test/images/42270.jpg'"
      ]
     },
     "execution_count": 161,
     "metadata": {},
     "output_type": "execute_result"
    },
    {
     "data": {
      "text/plain": [
       "'C:/Users/khanh/code/DATA_SCIENCE/data/clean_images/test/labels/42270.txt'"
      ]
     },
     "execution_count": 161,
     "metadata": {},
     "output_type": "execute_result"
    },
    {
     "data": {
      "text/plain": [
       "'C:/Users/khanh/code/DATA_SCIENCE/data/clean_images/test/images/42271.jpg'"
      ]
     },
     "execution_count": 161,
     "metadata": {},
     "output_type": "execute_result"
    },
    {
     "data": {
      "text/plain": [
       "'C:/Users/khanh/code/DATA_SCIENCE/data/clean_images/test/labels/42271.txt'"
      ]
     },
     "execution_count": 161,
     "metadata": {},
     "output_type": "execute_result"
    },
    {
     "data": {
      "text/plain": [
       "'C:/Users/khanh/code/DATA_SCIENCE/data/clean_images/test/images/42272.jpg'"
      ]
     },
     "execution_count": 161,
     "metadata": {},
     "output_type": "execute_result"
    },
    {
     "data": {
      "text/plain": [
       "'C:/Users/khanh/code/DATA_SCIENCE/data/clean_images/test/labels/42272.txt'"
      ]
     },
     "execution_count": 161,
     "metadata": {},
     "output_type": "execute_result"
    },
    {
     "data": {
      "text/plain": [
       "'C:/Users/khanh/code/DATA_SCIENCE/data/clean_images/test/images/28277.jpg'"
      ]
     },
     "execution_count": 161,
     "metadata": {},
     "output_type": "execute_result"
    },
    {
     "data": {
      "text/plain": [
       "'C:/Users/khanh/code/DATA_SCIENCE/data/clean_images/test/labels/28277.txt'"
      ]
     },
     "execution_count": 161,
     "metadata": {},
     "output_type": "execute_result"
    },
    {
     "data": {
      "text/plain": [
       "'C:/Users/khanh/code/DATA_SCIENCE/data/clean_images/test/images/28279.jpg'"
      ]
     },
     "execution_count": 161,
     "metadata": {},
     "output_type": "execute_result"
    },
    {
     "data": {
      "text/plain": [
       "'C:/Users/khanh/code/DATA_SCIENCE/data/clean_images/test/labels/28279.txt'"
      ]
     },
     "execution_count": 161,
     "metadata": {},
     "output_type": "execute_result"
    },
    {
     "data": {
      "text/plain": [
       "'C:/Users/khanh/code/DATA_SCIENCE/data/clean_images/test/images/52710.jpg'"
      ]
     },
     "execution_count": 161,
     "metadata": {},
     "output_type": "execute_result"
    },
    {
     "data": {
      "text/plain": [
       "'C:/Users/khanh/code/DATA_SCIENCE/data/clean_images/test/labels/52710.txt'"
      ]
     },
     "execution_count": 161,
     "metadata": {},
     "output_type": "execute_result"
    },
    {
     "data": {
      "text/plain": [
       "'C:/Users/khanh/code/DATA_SCIENCE/data/clean_images/test/images/52711.jpg'"
      ]
     },
     "execution_count": 161,
     "metadata": {},
     "output_type": "execute_result"
    },
    {
     "data": {
      "text/plain": [
       "'C:/Users/khanh/code/DATA_SCIENCE/data/clean_images/test/labels/52711.txt'"
      ]
     },
     "execution_count": 161,
     "metadata": {},
     "output_type": "execute_result"
    },
    {
     "data": {
      "text/plain": [
       "'C:/Users/khanh/code/DATA_SCIENCE/data/clean_images/test/images/52713.jpg'"
      ]
     },
     "execution_count": 161,
     "metadata": {},
     "output_type": "execute_result"
    },
    {
     "data": {
      "text/plain": [
       "'C:/Users/khanh/code/DATA_SCIENCE/data/clean_images/test/labels/52713.txt'"
      ]
     },
     "execution_count": 161,
     "metadata": {},
     "output_type": "execute_result"
    },
    {
     "data": {
      "text/plain": [
       "'C:/Users/khanh/code/DATA_SCIENCE/data/clean_images/test/images/16026.jpg'"
      ]
     },
     "execution_count": 161,
     "metadata": {},
     "output_type": "execute_result"
    },
    {
     "data": {
      "text/plain": [
       "'C:/Users/khanh/code/DATA_SCIENCE/data/clean_images/test/labels/16026.txt'"
      ]
     },
     "execution_count": 161,
     "metadata": {},
     "output_type": "execute_result"
    },
    {
     "data": {
      "text/plain": [
       "'C:/Users/khanh/code/DATA_SCIENCE/data/clean_images/test/images/16027.jpg'"
      ]
     },
     "execution_count": 161,
     "metadata": {},
     "output_type": "execute_result"
    },
    {
     "data": {
      "text/plain": [
       "'C:/Users/khanh/code/DATA_SCIENCE/data/clean_images/test/labels/16027.txt'"
      ]
     },
     "execution_count": 161,
     "metadata": {},
     "output_type": "execute_result"
    },
    {
     "data": {
      "text/plain": [
       "'C:/Users/khanh/code/DATA_SCIENCE/data/clean_images/test/images/16029.jpg'"
      ]
     },
     "execution_count": 161,
     "metadata": {},
     "output_type": "execute_result"
    },
    {
     "data": {
      "text/plain": [
       "'C:/Users/khanh/code/DATA_SCIENCE/data/clean_images/test/labels/16029.txt'"
      ]
     },
     "execution_count": 161,
     "metadata": {},
     "output_type": "execute_result"
    },
    {
     "data": {
      "text/plain": [
       "'C:/Users/khanh/code/DATA_SCIENCE/data/clean_images/test/images/16031.jpg'"
      ]
     },
     "execution_count": 161,
     "metadata": {},
     "output_type": "execute_result"
    },
    {
     "data": {
      "text/plain": [
       "'C:/Users/khanh/code/DATA_SCIENCE/data/clean_images/test/labels/16031.txt'"
      ]
     },
     "execution_count": 161,
     "metadata": {},
     "output_type": "execute_result"
    },
    {
     "data": {
      "text/plain": [
       "'C:/Users/khanh/code/DATA_SCIENCE/data/clean_images/test/images/31813.jpg'"
      ]
     },
     "execution_count": 161,
     "metadata": {},
     "output_type": "execute_result"
    },
    {
     "data": {
      "text/plain": [
       "'C:/Users/khanh/code/DATA_SCIENCE/data/clean_images/test/labels/31813.txt'"
      ]
     },
     "execution_count": 161,
     "metadata": {},
     "output_type": "execute_result"
    },
    {
     "data": {
      "text/plain": [
       "'C:/Users/khanh/code/DATA_SCIENCE/data/clean_images/test/images/30354.jpg'"
      ]
     },
     "execution_count": 161,
     "metadata": {},
     "output_type": "execute_result"
    },
    {
     "data": {
      "text/plain": [
       "'C:/Users/khanh/code/DATA_SCIENCE/data/clean_images/test/labels/30354.txt'"
      ]
     },
     "execution_count": 161,
     "metadata": {},
     "output_type": "execute_result"
    },
    {
     "data": {
      "text/plain": [
       "'C:/Users/khanh/code/DATA_SCIENCE/data/clean_images/test/images/30355.jpg'"
      ]
     },
     "execution_count": 161,
     "metadata": {},
     "output_type": "execute_result"
    },
    {
     "data": {
      "text/plain": [
       "'C:/Users/khanh/code/DATA_SCIENCE/data/clean_images/test/labels/30355.txt'"
      ]
     },
     "execution_count": 161,
     "metadata": {},
     "output_type": "execute_result"
    },
    {
     "data": {
      "text/plain": [
       "'C:/Users/khanh/code/DATA_SCIENCE/data/clean_images/test/images/24019.jpg'"
      ]
     },
     "execution_count": 161,
     "metadata": {},
     "output_type": "execute_result"
    },
    {
     "data": {
      "text/plain": [
       "'C:/Users/khanh/code/DATA_SCIENCE/data/clean_images/test/labels/24019.txt'"
      ]
     },
     "execution_count": 161,
     "metadata": {},
     "output_type": "execute_result"
    },
    {
     "data": {
      "text/plain": [
       "'C:/Users/khanh/code/DATA_SCIENCE/data/clean_images/test/images/24020.jpg'"
      ]
     },
     "execution_count": 161,
     "metadata": {},
     "output_type": "execute_result"
    },
    {
     "data": {
      "text/plain": [
       "'C:/Users/khanh/code/DATA_SCIENCE/data/clean_images/test/labels/24020.txt'"
      ]
     },
     "execution_count": 161,
     "metadata": {},
     "output_type": "execute_result"
    },
    {
     "data": {
      "text/plain": [
       "'C:/Users/khanh/code/DATA_SCIENCE/data/clean_images/test/images/24021.jpg'"
      ]
     },
     "execution_count": 161,
     "metadata": {},
     "output_type": "execute_result"
    },
    {
     "data": {
      "text/plain": [
       "'C:/Users/khanh/code/DATA_SCIENCE/data/clean_images/test/labels/24021.txt'"
      ]
     },
     "execution_count": 161,
     "metadata": {},
     "output_type": "execute_result"
    },
    {
     "data": {
      "text/plain": [
       "'C:/Users/khanh/code/DATA_SCIENCE/data/clean_images/test/images/24022.jpg'"
      ]
     },
     "execution_count": 161,
     "metadata": {},
     "output_type": "execute_result"
    },
    {
     "data": {
      "text/plain": [
       "'C:/Users/khanh/code/DATA_SCIENCE/data/clean_images/test/labels/24022.txt'"
      ]
     },
     "execution_count": 161,
     "metadata": {},
     "output_type": "execute_result"
    },
    {
     "data": {
      "text/plain": [
       "'C:/Users/khanh/code/DATA_SCIENCE/data/clean_images/test/images/31710.jpg'"
      ]
     },
     "execution_count": 161,
     "metadata": {},
     "output_type": "execute_result"
    },
    {
     "data": {
      "text/plain": [
       "'C:/Users/khanh/code/DATA_SCIENCE/data/clean_images/test/labels/31710.txt'"
      ]
     },
     "execution_count": 161,
     "metadata": {},
     "output_type": "execute_result"
    },
    {
     "data": {
      "text/plain": [
       "'C:/Users/khanh/code/DATA_SCIENCE/data/clean_images/test/images/31711.jpg'"
      ]
     },
     "execution_count": 161,
     "metadata": {},
     "output_type": "execute_result"
    },
    {
     "data": {
      "text/plain": [
       "'C:/Users/khanh/code/DATA_SCIENCE/data/clean_images/test/labels/31711.txt'"
      ]
     },
     "execution_count": 161,
     "metadata": {},
     "output_type": "execute_result"
    },
    {
     "data": {
      "text/plain": [
       "'C:/Users/khanh/code/DATA_SCIENCE/data/clean_images/test/images/31712.jpg'"
      ]
     },
     "execution_count": 161,
     "metadata": {},
     "output_type": "execute_result"
    },
    {
     "data": {
      "text/plain": [
       "'C:/Users/khanh/code/DATA_SCIENCE/data/clean_images/test/labels/31712.txt'"
      ]
     },
     "execution_count": 161,
     "metadata": {},
     "output_type": "execute_result"
    },
    {
     "data": {
      "text/plain": [
       "'C:/Users/khanh/code/DATA_SCIENCE/data/clean_images/test/images/31713.jpg'"
      ]
     },
     "execution_count": 161,
     "metadata": {},
     "output_type": "execute_result"
    },
    {
     "data": {
      "text/plain": [
       "'C:/Users/khanh/code/DATA_SCIENCE/data/clean_images/test/labels/31713.txt'"
      ]
     },
     "execution_count": 161,
     "metadata": {},
     "output_type": "execute_result"
    },
    {
     "data": {
      "text/plain": [
       "'C:/Users/khanh/code/DATA_SCIENCE/data/clean_images/test/images/31715.jpg'"
      ]
     },
     "execution_count": 161,
     "metadata": {},
     "output_type": "execute_result"
    },
    {
     "data": {
      "text/plain": [
       "'C:/Users/khanh/code/DATA_SCIENCE/data/clean_images/test/labels/31715.txt'"
      ]
     },
     "execution_count": 161,
     "metadata": {},
     "output_type": "execute_result"
    },
    {
     "data": {
      "text/plain": [
       "'C:/Users/khanh/code/DATA_SCIENCE/data/clean_images/test/images/33004.jpg'"
      ]
     },
     "execution_count": 161,
     "metadata": {},
     "output_type": "execute_result"
    },
    {
     "data": {
      "text/plain": [
       "'C:/Users/khanh/code/DATA_SCIENCE/data/clean_images/test/labels/33004.txt'"
      ]
     },
     "execution_count": 161,
     "metadata": {},
     "output_type": "execute_result"
    },
    {
     "data": {
      "text/plain": [
       "'C:/Users/khanh/code/DATA_SCIENCE/data/clean_images/test/images/33005.jpg'"
      ]
     },
     "execution_count": 161,
     "metadata": {},
     "output_type": "execute_result"
    },
    {
     "data": {
      "text/plain": [
       "'C:/Users/khanh/code/DATA_SCIENCE/data/clean_images/test/labels/33005.txt'"
      ]
     },
     "execution_count": 161,
     "metadata": {},
     "output_type": "execute_result"
    },
    {
     "data": {
      "text/plain": [
       "'C:/Users/khanh/code/DATA_SCIENCE/data/clean_images/test/images/22078.jpg'"
      ]
     },
     "execution_count": 161,
     "metadata": {},
     "output_type": "execute_result"
    },
    {
     "data": {
      "text/plain": [
       "'C:/Users/khanh/code/DATA_SCIENCE/data/clean_images/test/labels/22078.txt'"
      ]
     },
     "execution_count": 161,
     "metadata": {},
     "output_type": "execute_result"
    },
    {
     "data": {
      "text/plain": [
       "'C:/Users/khanh/code/DATA_SCIENCE/data/clean_images/test/images/47004.jpg'"
      ]
     },
     "execution_count": 161,
     "metadata": {},
     "output_type": "execute_result"
    },
    {
     "data": {
      "text/plain": [
       "'C:/Users/khanh/code/DATA_SCIENCE/data/clean_images/test/labels/47004.txt'"
      ]
     },
     "execution_count": 161,
     "metadata": {},
     "output_type": "execute_result"
    },
    {
     "data": {
      "text/plain": [
       "'C:/Users/khanh/code/DATA_SCIENCE/data/clean_images/test/images/2078.jpg'"
      ]
     },
     "execution_count": 161,
     "metadata": {},
     "output_type": "execute_result"
    },
    {
     "data": {
      "text/plain": [
       "'C:/Users/khanh/code/DATA_SCIENCE/data/clean_images/test/labels/2078.txt'"
      ]
     },
     "execution_count": 161,
     "metadata": {},
     "output_type": "execute_result"
    },
    {
     "data": {
      "text/plain": [
       "'C:/Users/khanh/code/DATA_SCIENCE/data/clean_images/test/images/2080.jpg'"
      ]
     },
     "execution_count": 161,
     "metadata": {},
     "output_type": "execute_result"
    },
    {
     "data": {
      "text/plain": [
       "'C:/Users/khanh/code/DATA_SCIENCE/data/clean_images/test/labels/2080.txt'"
      ]
     },
     "execution_count": 161,
     "metadata": {},
     "output_type": "execute_result"
    },
    {
     "data": {
      "text/plain": [
       "'C:/Users/khanh/code/DATA_SCIENCE/data/clean_images/test/images/2083.jpg'"
      ]
     },
     "execution_count": 161,
     "metadata": {},
     "output_type": "execute_result"
    },
    {
     "data": {
      "text/plain": [
       "'C:/Users/khanh/code/DATA_SCIENCE/data/clean_images/test/labels/2083.txt'"
      ]
     },
     "execution_count": 161,
     "metadata": {},
     "output_type": "execute_result"
    },
    {
     "data": {
      "text/plain": [
       "'C:/Users/khanh/code/DATA_SCIENCE/data/clean_images/test/images/54284.jpg'"
      ]
     },
     "execution_count": 161,
     "metadata": {},
     "output_type": "execute_result"
    },
    {
     "data": {
      "text/plain": [
       "'C:/Users/khanh/code/DATA_SCIENCE/data/clean_images/test/labels/54284.txt'"
      ]
     },
     "execution_count": 161,
     "metadata": {},
     "output_type": "execute_result"
    },
    {
     "data": {
      "text/plain": [
       "'C:/Users/khanh/code/DATA_SCIENCE/data/clean_images/test/images/54285.jpg'"
      ]
     },
     "execution_count": 161,
     "metadata": {},
     "output_type": "execute_result"
    },
    {
     "data": {
      "text/plain": [
       "'C:/Users/khanh/code/DATA_SCIENCE/data/clean_images/test/labels/54285.txt'"
      ]
     },
     "execution_count": 161,
     "metadata": {},
     "output_type": "execute_result"
    },
    {
     "data": {
      "text/plain": [
       "'C:/Users/khanh/code/DATA_SCIENCE/data/clean_images/test/images/54288.jpg'"
      ]
     },
     "execution_count": 161,
     "metadata": {},
     "output_type": "execute_result"
    },
    {
     "data": {
      "text/plain": [
       "'C:/Users/khanh/code/DATA_SCIENCE/data/clean_images/test/labels/54288.txt'"
      ]
     },
     "execution_count": 161,
     "metadata": {},
     "output_type": "execute_result"
    },
    {
     "data": {
      "text/plain": [
       "'C:/Users/khanh/code/DATA_SCIENCE/data/clean_images/test/images/50798.jpg'"
      ]
     },
     "execution_count": 161,
     "metadata": {},
     "output_type": "execute_result"
    },
    {
     "data": {
      "text/plain": [
       "'C:/Users/khanh/code/DATA_SCIENCE/data/clean_images/test/labels/50798.txt'"
      ]
     },
     "execution_count": 161,
     "metadata": {},
     "output_type": "execute_result"
    },
    {
     "data": {
      "text/plain": [
       "'C:/Users/khanh/code/DATA_SCIENCE/data/clean_images/test/images/50799.jpg'"
      ]
     },
     "execution_count": 161,
     "metadata": {},
     "output_type": "execute_result"
    },
    {
     "data": {
      "text/plain": [
       "'C:/Users/khanh/code/DATA_SCIENCE/data/clean_images/test/labels/50799.txt'"
      ]
     },
     "execution_count": 161,
     "metadata": {},
     "output_type": "execute_result"
    },
    {
     "data": {
      "text/plain": [
       "'C:/Users/khanh/code/DATA_SCIENCE/data/clean_images/test/images/37006.jpg'"
      ]
     },
     "execution_count": 161,
     "metadata": {},
     "output_type": "execute_result"
    },
    {
     "data": {
      "text/plain": [
       "'C:/Users/khanh/code/DATA_SCIENCE/data/clean_images/test/labels/37006.txt'"
      ]
     },
     "execution_count": 161,
     "metadata": {},
     "output_type": "execute_result"
    },
    {
     "data": {
      "text/plain": [
       "'C:/Users/khanh/code/DATA_SCIENCE/data/clean_images/test/images/37007.jpg'"
      ]
     },
     "execution_count": 161,
     "metadata": {},
     "output_type": "execute_result"
    },
    {
     "data": {
      "text/plain": [
       "'C:/Users/khanh/code/DATA_SCIENCE/data/clean_images/test/labels/37007.txt'"
      ]
     },
     "execution_count": 161,
     "metadata": {},
     "output_type": "execute_result"
    },
    {
     "data": {
      "text/plain": [
       "'C:/Users/khanh/code/DATA_SCIENCE/data/clean_images/test/images/37010.jpg'"
      ]
     },
     "execution_count": 161,
     "metadata": {},
     "output_type": "execute_result"
    },
    {
     "data": {
      "text/plain": [
       "'C:/Users/khanh/code/DATA_SCIENCE/data/clean_images/test/labels/37010.txt'"
      ]
     },
     "execution_count": 161,
     "metadata": {},
     "output_type": "execute_result"
    },
    {
     "data": {
      "text/plain": [
       "'C:/Users/khanh/code/DATA_SCIENCE/data/clean_images/test/images/37011.jpg'"
      ]
     },
     "execution_count": 161,
     "metadata": {},
     "output_type": "execute_result"
    },
    {
     "data": {
      "text/plain": [
       "'C:/Users/khanh/code/DATA_SCIENCE/data/clean_images/test/labels/37011.txt'"
      ]
     },
     "execution_count": 161,
     "metadata": {},
     "output_type": "execute_result"
    },
    {
     "data": {
      "text/plain": [
       "'C:/Users/khanh/code/DATA_SCIENCE/data/clean_images/test/images/35450.jpg'"
      ]
     },
     "execution_count": 161,
     "metadata": {},
     "output_type": "execute_result"
    },
    {
     "data": {
      "text/plain": [
       "'C:/Users/khanh/code/DATA_SCIENCE/data/clean_images/test/labels/35450.txt'"
      ]
     },
     "execution_count": 161,
     "metadata": {},
     "output_type": "execute_result"
    },
    {
     "data": {
      "text/plain": [
       "'C:/Users/khanh/code/DATA_SCIENCE/data/clean_images/test/images/35453.jpg'"
      ]
     },
     "execution_count": 161,
     "metadata": {},
     "output_type": "execute_result"
    },
    {
     "data": {
      "text/plain": [
       "'C:/Users/khanh/code/DATA_SCIENCE/data/clean_images/test/labels/35453.txt'"
      ]
     },
     "execution_count": 161,
     "metadata": {},
     "output_type": "execute_result"
    },
    {
     "data": {
      "text/plain": [
       "'C:/Users/khanh/code/DATA_SCIENCE/data/clean_images/test/images/20010.jpg'"
      ]
     },
     "execution_count": 161,
     "metadata": {},
     "output_type": "execute_result"
    },
    {
     "data": {
      "text/plain": [
       "'C:/Users/khanh/code/DATA_SCIENCE/data/clean_images/test/labels/20010.txt'"
      ]
     },
     "execution_count": 161,
     "metadata": {},
     "output_type": "execute_result"
    },
    {
     "data": {
      "text/plain": [
       "'C:/Users/khanh/code/DATA_SCIENCE/data/clean_images/test/images/20011.jpg'"
      ]
     },
     "execution_count": 161,
     "metadata": {},
     "output_type": "execute_result"
    },
    {
     "data": {
      "text/plain": [
       "'C:/Users/khanh/code/DATA_SCIENCE/data/clean_images/test/labels/20011.txt'"
      ]
     },
     "execution_count": 161,
     "metadata": {},
     "output_type": "execute_result"
    },
    {
     "data": {
      "text/plain": [
       "'C:/Users/khanh/code/DATA_SCIENCE/data/clean_images/test/images/20012.jpg'"
      ]
     },
     "execution_count": 161,
     "metadata": {},
     "output_type": "execute_result"
    },
    {
     "data": {
      "text/plain": [
       "'C:/Users/khanh/code/DATA_SCIENCE/data/clean_images/test/labels/20012.txt'"
      ]
     },
     "execution_count": 161,
     "metadata": {},
     "output_type": "execute_result"
    },
    {
     "data": {
      "text/plain": [
       "'C:/Users/khanh/code/DATA_SCIENCE/data/clean_images/test/images/20013.jpg'"
      ]
     },
     "execution_count": 161,
     "metadata": {},
     "output_type": "execute_result"
    },
    {
     "data": {
      "text/plain": [
       "'C:/Users/khanh/code/DATA_SCIENCE/data/clean_images/test/labels/20013.txt'"
      ]
     },
     "execution_count": 161,
     "metadata": {},
     "output_type": "execute_result"
    },
    {
     "data": {
      "text/plain": [
       "'C:/Users/khanh/code/DATA_SCIENCE/data/clean_images/test/images/32185.jpg'"
      ]
     },
     "execution_count": 161,
     "metadata": {},
     "output_type": "execute_result"
    },
    {
     "data": {
      "text/plain": [
       "'C:/Users/khanh/code/DATA_SCIENCE/data/clean_images/test/labels/32185.txt'"
      ]
     },
     "execution_count": 161,
     "metadata": {},
     "output_type": "execute_result"
    },
    {
     "data": {
      "text/plain": [
       "'C:/Users/khanh/code/DATA_SCIENCE/data/clean_images/test/images/32187.jpg'"
      ]
     },
     "execution_count": 161,
     "metadata": {},
     "output_type": "execute_result"
    },
    {
     "data": {
      "text/plain": [
       "'C:/Users/khanh/code/DATA_SCIENCE/data/clean_images/test/labels/32187.txt'"
      ]
     },
     "execution_count": 161,
     "metadata": {},
     "output_type": "execute_result"
    },
    {
     "data": {
      "text/plain": [
       "'C:/Users/khanh/code/DATA_SCIENCE/data/clean_images/test/images/10860.jpg'"
      ]
     },
     "execution_count": 161,
     "metadata": {},
     "output_type": "execute_result"
    },
    {
     "data": {
      "text/plain": [
       "'C:/Users/khanh/code/DATA_SCIENCE/data/clean_images/test/labels/10860.txt'"
      ]
     },
     "execution_count": 161,
     "metadata": {},
     "output_type": "execute_result"
    },
    {
     "data": {
      "text/plain": [
       "'C:/Users/khanh/code/DATA_SCIENCE/data/clean_images/test/images/10862.jpg'"
      ]
     },
     "execution_count": 161,
     "metadata": {},
     "output_type": "execute_result"
    },
    {
     "data": {
      "text/plain": [
       "'C:/Users/khanh/code/DATA_SCIENCE/data/clean_images/test/labels/10862.txt'"
      ]
     },
     "execution_count": 161,
     "metadata": {},
     "output_type": "execute_result"
    },
    {
     "data": {
      "text/plain": [
       "'C:/Users/khanh/code/DATA_SCIENCE/data/clean_images/test/images/10863.jpg'"
      ]
     },
     "execution_count": 161,
     "metadata": {},
     "output_type": "execute_result"
    },
    {
     "data": {
      "text/plain": [
       "'C:/Users/khanh/code/DATA_SCIENCE/data/clean_images/test/labels/10863.txt'"
      ]
     },
     "execution_count": 161,
     "metadata": {},
     "output_type": "execute_result"
    },
    {
     "data": {
      "text/plain": [
       "'C:/Users/khanh/code/DATA_SCIENCE/data/clean_images/test/images/2585.jpg'"
      ]
     },
     "execution_count": 161,
     "metadata": {},
     "output_type": "execute_result"
    },
    {
     "data": {
      "text/plain": [
       "'C:/Users/khanh/code/DATA_SCIENCE/data/clean_images/test/labels/2585.txt'"
      ]
     },
     "execution_count": 161,
     "metadata": {},
     "output_type": "execute_result"
    },
    {
     "data": {
      "text/plain": [
       "'C:/Users/khanh/code/DATA_SCIENCE/data/clean_images/test/images/12285.jpg'"
      ]
     },
     "execution_count": 161,
     "metadata": {},
     "output_type": "execute_result"
    },
    {
     "data": {
      "text/plain": [
       "'C:/Users/khanh/code/DATA_SCIENCE/data/clean_images/test/labels/12285.txt'"
      ]
     },
     "execution_count": 161,
     "metadata": {},
     "output_type": "execute_result"
    },
    {
     "data": {
      "text/plain": [
       "'C:/Users/khanh/code/DATA_SCIENCE/data/clean_images/test/images/12286.jpg'"
      ]
     },
     "execution_count": 161,
     "metadata": {},
     "output_type": "execute_result"
    },
    {
     "data": {
      "text/plain": [
       "'C:/Users/khanh/code/DATA_SCIENCE/data/clean_images/test/labels/12286.txt'"
      ]
     },
     "execution_count": 161,
     "metadata": {},
     "output_type": "execute_result"
    },
    {
     "data": {
      "text/plain": [
       "'C:/Users/khanh/code/DATA_SCIENCE/data/clean_images/test/images/12287.jpg'"
      ]
     },
     "execution_count": 161,
     "metadata": {},
     "output_type": "execute_result"
    },
    {
     "data": {
      "text/plain": [
       "'C:/Users/khanh/code/DATA_SCIENCE/data/clean_images/test/labels/12287.txt'"
      ]
     },
     "execution_count": 161,
     "metadata": {},
     "output_type": "execute_result"
    },
    {
     "data": {
      "text/plain": [
       "'C:/Users/khanh/code/DATA_SCIENCE/data/clean_images/test/images/12288.jpg'"
      ]
     },
     "execution_count": 161,
     "metadata": {},
     "output_type": "execute_result"
    },
    {
     "data": {
      "text/plain": [
       "'C:/Users/khanh/code/DATA_SCIENCE/data/clean_images/test/labels/12288.txt'"
      ]
     },
     "execution_count": 161,
     "metadata": {},
     "output_type": "execute_result"
    },
    {
     "data": {
      "text/plain": [
       "'C:/Users/khanh/code/DATA_SCIENCE/data/clean_images/test/images/12290.jpg'"
      ]
     },
     "execution_count": 161,
     "metadata": {},
     "output_type": "execute_result"
    },
    {
     "data": {
      "text/plain": [
       "'C:/Users/khanh/code/DATA_SCIENCE/data/clean_images/test/labels/12290.txt'"
      ]
     },
     "execution_count": 161,
     "metadata": {},
     "output_type": "execute_result"
    },
    {
     "data": {
      "text/plain": [
       "'C:/Users/khanh/code/DATA_SCIENCE/data/clean_images/test/images/46603.jpg'"
      ]
     },
     "execution_count": 161,
     "metadata": {},
     "output_type": "execute_result"
    },
    {
     "data": {
      "text/plain": [
       "'C:/Users/khanh/code/DATA_SCIENCE/data/clean_images/test/labels/46603.txt'"
      ]
     },
     "execution_count": 161,
     "metadata": {},
     "output_type": "execute_result"
    },
    {
     "data": {
      "text/plain": [
       "'C:/Users/khanh/code/DATA_SCIENCE/data/clean_images/test/images/46604.jpg'"
      ]
     },
     "execution_count": 161,
     "metadata": {},
     "output_type": "execute_result"
    },
    {
     "data": {
      "text/plain": [
       "'C:/Users/khanh/code/DATA_SCIENCE/data/clean_images/test/labels/46604.txt'"
      ]
     },
     "execution_count": 161,
     "metadata": {},
     "output_type": "execute_result"
    },
    {
     "data": {
      "text/plain": [
       "'C:/Users/khanh/code/DATA_SCIENCE/data/clean_images/test/images/14730.jpg'"
      ]
     },
     "execution_count": 161,
     "metadata": {},
     "output_type": "execute_result"
    },
    {
     "data": {
      "text/plain": [
       "'C:/Users/khanh/code/DATA_SCIENCE/data/clean_images/test/labels/14730.txt'"
      ]
     },
     "execution_count": 161,
     "metadata": {},
     "output_type": "execute_result"
    },
    {
     "data": {
      "text/plain": [
       "'C:/Users/khanh/code/DATA_SCIENCE/data/clean_images/test/images/35696.jpg'"
      ]
     },
     "execution_count": 161,
     "metadata": {},
     "output_type": "execute_result"
    },
    {
     "data": {
      "text/plain": [
       "'C:/Users/khanh/code/DATA_SCIENCE/data/clean_images/test/labels/35696.txt'"
      ]
     },
     "execution_count": 161,
     "metadata": {},
     "output_type": "execute_result"
    },
    {
     "data": {
      "text/plain": [
       "'C:/Users/khanh/code/DATA_SCIENCE/data/clean_images/test/images/35698.jpg'"
      ]
     },
     "execution_count": 161,
     "metadata": {},
     "output_type": "execute_result"
    },
    {
     "data": {
      "text/plain": [
       "'C:/Users/khanh/code/DATA_SCIENCE/data/clean_images/test/labels/35698.txt'"
      ]
     },
     "execution_count": 161,
     "metadata": {},
     "output_type": "execute_result"
    },
    {
     "data": {
      "text/plain": [
       "'C:/Users/khanh/code/DATA_SCIENCE/data/clean_images/test/images/35699.jpg'"
      ]
     },
     "execution_count": 161,
     "metadata": {},
     "output_type": "execute_result"
    },
    {
     "data": {
      "text/plain": [
       "'C:/Users/khanh/code/DATA_SCIENCE/data/clean_images/test/labels/35699.txt'"
      ]
     },
     "execution_count": 161,
     "metadata": {},
     "output_type": "execute_result"
    },
    {
     "data": {
      "text/plain": [
       "'C:/Users/khanh/code/DATA_SCIENCE/data/clean_images/test/images/26145.jpg'"
      ]
     },
     "execution_count": 161,
     "metadata": {},
     "output_type": "execute_result"
    },
    {
     "data": {
      "text/plain": [
       "'C:/Users/khanh/code/DATA_SCIENCE/data/clean_images/test/labels/26145.txt'"
      ]
     },
     "execution_count": 161,
     "metadata": {},
     "output_type": "execute_result"
    },
    {
     "data": {
      "text/plain": [
       "'C:/Users/khanh/code/DATA_SCIENCE/data/clean_images/test/images/26148.jpg'"
      ]
     },
     "execution_count": 161,
     "metadata": {},
     "output_type": "execute_result"
    },
    {
     "data": {
      "text/plain": [
       "'C:/Users/khanh/code/DATA_SCIENCE/data/clean_images/test/labels/26148.txt'"
      ]
     },
     "execution_count": 161,
     "metadata": {},
     "output_type": "execute_result"
    },
    {
     "data": {
      "text/plain": [
       "'C:/Users/khanh/code/DATA_SCIENCE/data/clean_images/test/images/7544.jpg'"
      ]
     },
     "execution_count": 161,
     "metadata": {},
     "output_type": "execute_result"
    },
    {
     "data": {
      "text/plain": [
       "'C:/Users/khanh/code/DATA_SCIENCE/data/clean_images/test/labels/7544.txt'"
      ]
     },
     "execution_count": 161,
     "metadata": {},
     "output_type": "execute_result"
    },
    {
     "data": {
      "text/plain": [
       "'C:/Users/khanh/code/DATA_SCIENCE/data/clean_images/test/images/28366.jpg'"
      ]
     },
     "execution_count": 161,
     "metadata": {},
     "output_type": "execute_result"
    },
    {
     "data": {
      "text/plain": [
       "'C:/Users/khanh/code/DATA_SCIENCE/data/clean_images/test/labels/28366.txt'"
      ]
     },
     "execution_count": 161,
     "metadata": {},
     "output_type": "execute_result"
    },
    {
     "data": {
      "text/plain": [
       "'C:/Users/khanh/code/DATA_SCIENCE/data/clean_images/test/images/18118.jpg'"
      ]
     },
     "execution_count": 161,
     "metadata": {},
     "output_type": "execute_result"
    },
    {
     "data": {
      "text/plain": [
       "'C:/Users/khanh/code/DATA_SCIENCE/data/clean_images/test/labels/18118.txt'"
      ]
     },
     "execution_count": 161,
     "metadata": {},
     "output_type": "execute_result"
    },
    {
     "data": {
      "text/plain": [
       "'C:/Users/khanh/code/DATA_SCIENCE/data/clean_images/test/images/35579.jpg'"
      ]
     },
     "execution_count": 161,
     "metadata": {},
     "output_type": "execute_result"
    },
    {
     "data": {
      "text/plain": [
       "'C:/Users/khanh/code/DATA_SCIENCE/data/clean_images/test/labels/35579.txt'"
      ]
     },
     "execution_count": 161,
     "metadata": {},
     "output_type": "execute_result"
    },
    {
     "data": {
      "text/plain": [
       "'C:/Users/khanh/code/DATA_SCIENCE/data/clean_images/test/images/43890.jpg'"
      ]
     },
     "execution_count": 161,
     "metadata": {},
     "output_type": "execute_result"
    },
    {
     "data": {
      "text/plain": [
       "'C:/Users/khanh/code/DATA_SCIENCE/data/clean_images/test/labels/43890.txt'"
      ]
     },
     "execution_count": 161,
     "metadata": {},
     "output_type": "execute_result"
    },
    {
     "data": {
      "text/plain": [
       "'C:/Users/khanh/code/DATA_SCIENCE/data/clean_images/test/images/43891.jpg'"
      ]
     },
     "execution_count": 161,
     "metadata": {},
     "output_type": "execute_result"
    },
    {
     "data": {
      "text/plain": [
       "'C:/Users/khanh/code/DATA_SCIENCE/data/clean_images/test/labels/43891.txt'"
      ]
     },
     "execution_count": 161,
     "metadata": {},
     "output_type": "execute_result"
    },
    {
     "data": {
      "text/plain": [
       "'C:/Users/khanh/code/DATA_SCIENCE/data/clean_images/test/images/30368.jpg'"
      ]
     },
     "execution_count": 161,
     "metadata": {},
     "output_type": "execute_result"
    },
    {
     "data": {
      "text/plain": [
       "'C:/Users/khanh/code/DATA_SCIENCE/data/clean_images/test/labels/30368.txt'"
      ]
     },
     "execution_count": 161,
     "metadata": {},
     "output_type": "execute_result"
    },
    {
     "data": {
      "text/plain": [
       "'C:/Users/khanh/code/DATA_SCIENCE/data/clean_images/test/images/30369.jpg'"
      ]
     },
     "execution_count": 161,
     "metadata": {},
     "output_type": "execute_result"
    },
    {
     "data": {
      "text/plain": [
       "'C:/Users/khanh/code/DATA_SCIENCE/data/clean_images/test/labels/30369.txt'"
      ]
     },
     "execution_count": 161,
     "metadata": {},
     "output_type": "execute_result"
    },
    {
     "data": {
      "text/plain": [
       "'C:/Users/khanh/code/DATA_SCIENCE/data/clean_images/test/images/24774.jpg'"
      ]
     },
     "execution_count": 161,
     "metadata": {},
     "output_type": "execute_result"
    },
    {
     "data": {
      "text/plain": [
       "'C:/Users/khanh/code/DATA_SCIENCE/data/clean_images/test/labels/24774.txt'"
      ]
     },
     "execution_count": 161,
     "metadata": {},
     "output_type": "execute_result"
    },
    {
     "data": {
      "text/plain": [
       "'C:/Users/khanh/code/DATA_SCIENCE/data/clean_images/test/images/24777.jpg'"
      ]
     },
     "execution_count": 161,
     "metadata": {},
     "output_type": "execute_result"
    },
    {
     "data": {
      "text/plain": [
       "'C:/Users/khanh/code/DATA_SCIENCE/data/clean_images/test/labels/24777.txt'"
      ]
     },
     "execution_count": 161,
     "metadata": {},
     "output_type": "execute_result"
    },
    {
     "data": {
      "text/plain": [
       "'C:/Users/khanh/code/DATA_SCIENCE/data/clean_images/test/images/24778.jpg'"
      ]
     },
     "execution_count": 161,
     "metadata": {},
     "output_type": "execute_result"
    },
    {
     "data": {
      "text/plain": [
       "'C:/Users/khanh/code/DATA_SCIENCE/data/clean_images/test/labels/24778.txt'"
      ]
     },
     "execution_count": 161,
     "metadata": {},
     "output_type": "execute_result"
    },
    {
     "data": {
      "text/plain": [
       "'C:/Users/khanh/code/DATA_SCIENCE/data/clean_images/test/images/11426.jpg'"
      ]
     },
     "execution_count": 161,
     "metadata": {},
     "output_type": "execute_result"
    },
    {
     "data": {
      "text/plain": [
       "'C:/Users/khanh/code/DATA_SCIENCE/data/clean_images/test/labels/11426.txt'"
      ]
     },
     "execution_count": 161,
     "metadata": {},
     "output_type": "execute_result"
    },
    {
     "data": {
      "text/plain": [
       "'C:/Users/khanh/code/DATA_SCIENCE/data/clean_images/test/images/11428.jpg'"
      ]
     },
     "execution_count": 161,
     "metadata": {},
     "output_type": "execute_result"
    },
    {
     "data": {
      "text/plain": [
       "'C:/Users/khanh/code/DATA_SCIENCE/data/clean_images/test/labels/11428.txt'"
      ]
     },
     "execution_count": 161,
     "metadata": {},
     "output_type": "execute_result"
    },
    {
     "data": {
      "text/plain": [
       "'C:/Users/khanh/code/DATA_SCIENCE/data/clean_images/test/images/29582.jpg'"
      ]
     },
     "execution_count": 161,
     "metadata": {},
     "output_type": "execute_result"
    },
    {
     "data": {
      "text/plain": [
       "'C:/Users/khanh/code/DATA_SCIENCE/data/clean_images/test/labels/29582.txt'"
      ]
     },
     "execution_count": 161,
     "metadata": {},
     "output_type": "execute_result"
    },
    {
     "data": {
      "text/plain": [
       "'C:/Users/khanh/code/DATA_SCIENCE/data/clean_images/test/images/29583.jpg'"
      ]
     },
     "execution_count": 161,
     "metadata": {},
     "output_type": "execute_result"
    },
    {
     "data": {
      "text/plain": [
       "'C:/Users/khanh/code/DATA_SCIENCE/data/clean_images/test/labels/29583.txt'"
      ]
     },
     "execution_count": 161,
     "metadata": {},
     "output_type": "execute_result"
    },
    {
     "data": {
      "text/plain": [
       "'C:/Users/khanh/code/DATA_SCIENCE/data/clean_images/test/images/48987.jpg'"
      ]
     },
     "execution_count": 161,
     "metadata": {},
     "output_type": "execute_result"
    },
    {
     "data": {
      "text/plain": [
       "'C:/Users/khanh/code/DATA_SCIENCE/data/clean_images/test/labels/48987.txt'"
      ]
     },
     "execution_count": 161,
     "metadata": {},
     "output_type": "execute_result"
    },
    {
     "data": {
      "text/plain": [
       "'C:/Users/khanh/code/DATA_SCIENCE/data/clean_images/test/images/48988.jpg'"
      ]
     },
     "execution_count": 161,
     "metadata": {},
     "output_type": "execute_result"
    },
    {
     "data": {
      "text/plain": [
       "'C:/Users/khanh/code/DATA_SCIENCE/data/clean_images/test/labels/48988.txt'"
      ]
     },
     "execution_count": 161,
     "metadata": {},
     "output_type": "execute_result"
    },
    {
     "data": {
      "text/plain": [
       "'C:/Users/khanh/code/DATA_SCIENCE/data/clean_images/test/images/23594.jpg'"
      ]
     },
     "execution_count": 161,
     "metadata": {},
     "output_type": "execute_result"
    },
    {
     "data": {
      "text/plain": [
       "'C:/Users/khanh/code/DATA_SCIENCE/data/clean_images/test/labels/23594.txt'"
      ]
     },
     "execution_count": 161,
     "metadata": {},
     "output_type": "execute_result"
    },
    {
     "data": {
      "text/plain": [
       "'C:/Users/khanh/code/DATA_SCIENCE/data/clean_images/test/images/23595.jpg'"
      ]
     },
     "execution_count": 161,
     "metadata": {},
     "output_type": "execute_result"
    },
    {
     "data": {
      "text/plain": [
       "'C:/Users/khanh/code/DATA_SCIENCE/data/clean_images/test/labels/23595.txt'"
      ]
     },
     "execution_count": 161,
     "metadata": {},
     "output_type": "execute_result"
    },
    {
     "data": {
      "text/plain": [
       "'C:/Users/khanh/code/DATA_SCIENCE/data/clean_images/test/images/49894.jpg'"
      ]
     },
     "execution_count": 161,
     "metadata": {},
     "output_type": "execute_result"
    },
    {
     "data": {
      "text/plain": [
       "'C:/Users/khanh/code/DATA_SCIENCE/data/clean_images/test/labels/49894.txt'"
      ]
     },
     "execution_count": 161,
     "metadata": {},
     "output_type": "execute_result"
    },
    {
     "data": {
      "text/plain": [
       "'C:/Users/khanh/code/DATA_SCIENCE/data/clean_images/test/images/49896.jpg'"
      ]
     },
     "execution_count": 161,
     "metadata": {},
     "output_type": "execute_result"
    },
    {
     "data": {
      "text/plain": [
       "'C:/Users/khanh/code/DATA_SCIENCE/data/clean_images/test/labels/49896.txt'"
      ]
     },
     "execution_count": 161,
     "metadata": {},
     "output_type": "execute_result"
    },
    {
     "data": {
      "text/plain": [
       "'C:/Users/khanh/code/DATA_SCIENCE/data/clean_images/test/images/42144.jpg'"
      ]
     },
     "execution_count": 161,
     "metadata": {},
     "output_type": "execute_result"
    },
    {
     "data": {
      "text/plain": [
       "'C:/Users/khanh/code/DATA_SCIENCE/data/clean_images/test/labels/42144.txt'"
      ]
     },
     "execution_count": 161,
     "metadata": {},
     "output_type": "execute_result"
    },
    {
     "data": {
      "text/plain": [
       "'C:/Users/khanh/code/DATA_SCIENCE/data/clean_images/test/images/42145.jpg'"
      ]
     },
     "execution_count": 161,
     "metadata": {},
     "output_type": "execute_result"
    },
    {
     "data": {
      "text/plain": [
       "'C:/Users/khanh/code/DATA_SCIENCE/data/clean_images/test/labels/42145.txt'"
      ]
     },
     "execution_count": 161,
     "metadata": {},
     "output_type": "execute_result"
    },
    {
     "data": {
      "text/plain": [
       "'C:/Users/khanh/code/DATA_SCIENCE/data/clean_images/test/images/42146.jpg'"
      ]
     },
     "execution_count": 161,
     "metadata": {},
     "output_type": "execute_result"
    },
    {
     "data": {
      "text/plain": [
       "'C:/Users/khanh/code/DATA_SCIENCE/data/clean_images/test/labels/42146.txt'"
      ]
     },
     "execution_count": 161,
     "metadata": {},
     "output_type": "execute_result"
    },
    {
     "data": {
      "text/plain": [
       "'C:/Users/khanh/code/DATA_SCIENCE/data/clean_images/test/images/27500.jpg'"
      ]
     },
     "execution_count": 161,
     "metadata": {},
     "output_type": "execute_result"
    },
    {
     "data": {
      "text/plain": [
       "'C:/Users/khanh/code/DATA_SCIENCE/data/clean_images/test/labels/27500.txt'"
      ]
     },
     "execution_count": 161,
     "metadata": {},
     "output_type": "execute_result"
    },
    {
     "data": {
      "text/plain": [
       "'C:/Users/khanh/code/DATA_SCIENCE/data/clean_images/test/images/27502.jpg'"
      ]
     },
     "execution_count": 161,
     "metadata": {},
     "output_type": "execute_result"
    },
    {
     "data": {
      "text/plain": [
       "'C:/Users/khanh/code/DATA_SCIENCE/data/clean_images/test/labels/27502.txt'"
      ]
     },
     "execution_count": 161,
     "metadata": {},
     "output_type": "execute_result"
    },
    {
     "data": {
      "text/plain": [
       "'C:/Users/khanh/code/DATA_SCIENCE/data/clean_images/test/images/43770.jpg'"
      ]
     },
     "execution_count": 161,
     "metadata": {},
     "output_type": "execute_result"
    },
    {
     "data": {
      "text/plain": [
       "'C:/Users/khanh/code/DATA_SCIENCE/data/clean_images/test/labels/43770.txt'"
      ]
     },
     "execution_count": 161,
     "metadata": {},
     "output_type": "execute_result"
    },
    {
     "data": {
      "text/plain": [
       "'C:/Users/khanh/code/DATA_SCIENCE/data/clean_images/test/images/37019.jpg'"
      ]
     },
     "execution_count": 161,
     "metadata": {},
     "output_type": "execute_result"
    },
    {
     "data": {
      "text/plain": [
       "'C:/Users/khanh/code/DATA_SCIENCE/data/clean_images/test/labels/37019.txt'"
      ]
     },
     "execution_count": 161,
     "metadata": {},
     "output_type": "execute_result"
    },
    {
     "data": {
      "text/plain": [
       "'C:/Users/khanh/code/DATA_SCIENCE/data/clean_images/test/images/8164.jpg'"
      ]
     },
     "execution_count": 161,
     "metadata": {},
     "output_type": "execute_result"
    },
    {
     "data": {
      "text/plain": [
       "'C:/Users/khanh/code/DATA_SCIENCE/data/clean_images/test/labels/8164.txt'"
      ]
     },
     "execution_count": 161,
     "metadata": {},
     "output_type": "execute_result"
    },
    {
     "data": {
      "text/plain": [
       "'C:/Users/khanh/code/DATA_SCIENCE/data/clean_images/test/images/8165.jpg'"
      ]
     },
     "execution_count": 161,
     "metadata": {},
     "output_type": "execute_result"
    },
    {
     "data": {
      "text/plain": [
       "'C:/Users/khanh/code/DATA_SCIENCE/data/clean_images/test/labels/8165.txt'"
      ]
     },
     "execution_count": 161,
     "metadata": {},
     "output_type": "execute_result"
    },
    {
     "data": {
      "text/plain": [
       "'C:/Users/khanh/code/DATA_SCIENCE/data/clean_images/test/images/8166.jpg'"
      ]
     },
     "execution_count": 161,
     "metadata": {},
     "output_type": "execute_result"
    },
    {
     "data": {
      "text/plain": [
       "'C:/Users/khanh/code/DATA_SCIENCE/data/clean_images/test/labels/8166.txt'"
      ]
     },
     "execution_count": 161,
     "metadata": {},
     "output_type": "execute_result"
    },
    {
     "data": {
      "text/plain": [
       "'C:/Users/khanh/code/DATA_SCIENCE/data/clean_images/test/images/4930.jpg'"
      ]
     },
     "execution_count": 161,
     "metadata": {},
     "output_type": "execute_result"
    },
    {
     "data": {
      "text/plain": [
       "'C:/Users/khanh/code/DATA_SCIENCE/data/clean_images/test/labels/4930.txt'"
      ]
     },
     "execution_count": 161,
     "metadata": {},
     "output_type": "execute_result"
    },
    {
     "data": {
      "text/plain": [
       "'C:/Users/khanh/code/DATA_SCIENCE/data/clean_images/test/images/4931.jpg'"
      ]
     },
     "execution_count": 161,
     "metadata": {},
     "output_type": "execute_result"
    },
    {
     "data": {
      "text/plain": [
       "'C:/Users/khanh/code/DATA_SCIENCE/data/clean_images/test/labels/4931.txt'"
      ]
     },
     "execution_count": 161,
     "metadata": {},
     "output_type": "execute_result"
    },
    {
     "data": {
      "text/plain": [
       "'C:/Users/khanh/code/DATA_SCIENCE/data/clean_images/test/images/4934.jpg'"
      ]
     },
     "execution_count": 161,
     "metadata": {},
     "output_type": "execute_result"
    },
    {
     "data": {
      "text/plain": [
       "'C:/Users/khanh/code/DATA_SCIENCE/data/clean_images/test/labels/4934.txt'"
      ]
     },
     "execution_count": 161,
     "metadata": {},
     "output_type": "execute_result"
    },
    {
     "data": {
      "text/plain": [
       "'C:/Users/khanh/code/DATA_SCIENCE/data/clean_images/test/images/16549.jpg'"
      ]
     },
     "execution_count": 161,
     "metadata": {},
     "output_type": "execute_result"
    },
    {
     "data": {
      "text/plain": [
       "'C:/Users/khanh/code/DATA_SCIENCE/data/clean_images/test/labels/16549.txt'"
      ]
     },
     "execution_count": 161,
     "metadata": {},
     "output_type": "execute_result"
    },
    {
     "data": {
      "text/plain": [
       "'C:/Users/khanh/code/DATA_SCIENCE/data/clean_images/test/images/35628.jpg'"
      ]
     },
     "execution_count": 161,
     "metadata": {},
     "output_type": "execute_result"
    },
    {
     "data": {
      "text/plain": [
       "'C:/Users/khanh/code/DATA_SCIENCE/data/clean_images/test/labels/35628.txt'"
      ]
     },
     "execution_count": 161,
     "metadata": {},
     "output_type": "execute_result"
    },
    {
     "data": {
      "text/plain": [
       "'C:/Users/khanh/code/DATA_SCIENCE/data/clean_images/test/images/35629.jpg'"
      ]
     },
     "execution_count": 161,
     "metadata": {},
     "output_type": "execute_result"
    },
    {
     "data": {
      "text/plain": [
       "'C:/Users/khanh/code/DATA_SCIENCE/data/clean_images/test/labels/35629.txt'"
      ]
     },
     "execution_count": 161,
     "metadata": {},
     "output_type": "execute_result"
    },
    {
     "data": {
      "text/plain": [
       "'C:/Users/khanh/code/DATA_SCIENCE/data/clean_images/test/images/35631.jpg'"
      ]
     },
     "execution_count": 161,
     "metadata": {},
     "output_type": "execute_result"
    },
    {
     "data": {
      "text/plain": [
       "'C:/Users/khanh/code/DATA_SCIENCE/data/clean_images/test/labels/35631.txt'"
      ]
     },
     "execution_count": 161,
     "metadata": {},
     "output_type": "execute_result"
    },
    {
     "data": {
      "text/plain": [
       "'C:/Users/khanh/code/DATA_SCIENCE/data/clean_images/test/images/8212.jpg'"
      ]
     },
     "execution_count": 161,
     "metadata": {},
     "output_type": "execute_result"
    },
    {
     "data": {
      "text/plain": [
       "'C:/Users/khanh/code/DATA_SCIENCE/data/clean_images/test/labels/8212.txt'"
      ]
     },
     "execution_count": 161,
     "metadata": {},
     "output_type": "execute_result"
    },
    {
     "data": {
      "text/plain": [
       "'C:/Users/khanh/code/DATA_SCIENCE/data/clean_images/test/images/8213.jpg'"
      ]
     },
     "execution_count": 161,
     "metadata": {},
     "output_type": "execute_result"
    },
    {
     "data": {
      "text/plain": [
       "'C:/Users/khanh/code/DATA_SCIENCE/data/clean_images/test/labels/8213.txt'"
      ]
     },
     "execution_count": 161,
     "metadata": {},
     "output_type": "execute_result"
    },
    {
     "data": {
      "text/plain": [
       "'C:/Users/khanh/code/DATA_SCIENCE/data/clean_images/test/images/34368.jpg'"
      ]
     },
     "execution_count": 161,
     "metadata": {},
     "output_type": "execute_result"
    },
    {
     "data": {
      "text/plain": [
       "'C:/Users/khanh/code/DATA_SCIENCE/data/clean_images/test/labels/34368.txt'"
      ]
     },
     "execution_count": 161,
     "metadata": {},
     "output_type": "execute_result"
    },
    {
     "data": {
      "text/plain": [
       "'C:/Users/khanh/code/DATA_SCIENCE/data/clean_images/test/images/44995.jpg'"
      ]
     },
     "execution_count": 161,
     "metadata": {},
     "output_type": "execute_result"
    },
    {
     "data": {
      "text/plain": [
       "'C:/Users/khanh/code/DATA_SCIENCE/data/clean_images/test/labels/44995.txt'"
      ]
     },
     "execution_count": 161,
     "metadata": {},
     "output_type": "execute_result"
    },
    {
     "data": {
      "text/plain": [
       "'C:/Users/khanh/code/DATA_SCIENCE/data/clean_images/test/images/17313.jpg'"
      ]
     },
     "execution_count": 161,
     "metadata": {},
     "output_type": "execute_result"
    },
    {
     "data": {
      "text/plain": [
       "'C:/Users/khanh/code/DATA_SCIENCE/data/clean_images/test/labels/17313.txt'"
      ]
     },
     "execution_count": 161,
     "metadata": {},
     "output_type": "execute_result"
    },
    {
     "data": {
      "text/plain": [
       "'C:/Users/khanh/code/DATA_SCIENCE/data/clean_images/test/images/17315.jpg'"
      ]
     },
     "execution_count": 161,
     "metadata": {},
     "output_type": "execute_result"
    },
    {
     "data": {
      "text/plain": [
       "'C:/Users/khanh/code/DATA_SCIENCE/data/clean_images/test/labels/17315.txt'"
      ]
     },
     "execution_count": 161,
     "metadata": {},
     "output_type": "execute_result"
    },
    {
     "data": {
      "text/plain": [
       "'C:/Users/khanh/code/DATA_SCIENCE/data/clean_images/test/images/42456.jpg'"
      ]
     },
     "execution_count": 161,
     "metadata": {},
     "output_type": "execute_result"
    },
    {
     "data": {
      "text/plain": [
       "'C:/Users/khanh/code/DATA_SCIENCE/data/clean_images/test/labels/42456.txt'"
      ]
     },
     "execution_count": 161,
     "metadata": {},
     "output_type": "execute_result"
    },
    {
     "data": {
      "text/plain": [
       "'C:/Users/khanh/code/DATA_SCIENCE/data/clean_images/test/images/42457.jpg'"
      ]
     },
     "execution_count": 161,
     "metadata": {},
     "output_type": "execute_result"
    },
    {
     "data": {
      "text/plain": [
       "'C:/Users/khanh/code/DATA_SCIENCE/data/clean_images/test/labels/42457.txt'"
      ]
     },
     "execution_count": 161,
     "metadata": {},
     "output_type": "execute_result"
    },
    {
     "data": {
      "text/plain": [
       "'C:/Users/khanh/code/DATA_SCIENCE/data/clean_images/test/images/42459.jpg'"
      ]
     },
     "execution_count": 161,
     "metadata": {},
     "output_type": "execute_result"
    },
    {
     "data": {
      "text/plain": [
       "'C:/Users/khanh/code/DATA_SCIENCE/data/clean_images/test/labels/42459.txt'"
      ]
     },
     "execution_count": 161,
     "metadata": {},
     "output_type": "execute_result"
    },
    {
     "data": {
      "text/plain": [
       "'C:/Users/khanh/code/DATA_SCIENCE/data/clean_images/test/images/27305.jpg'"
      ]
     },
     "execution_count": 161,
     "metadata": {},
     "output_type": "execute_result"
    },
    {
     "data": {
      "text/plain": [
       "'C:/Users/khanh/code/DATA_SCIENCE/data/clean_images/test/labels/27305.txt'"
      ]
     },
     "execution_count": 161,
     "metadata": {},
     "output_type": "execute_result"
    },
    {
     "data": {
      "text/plain": [
       "'C:/Users/khanh/code/DATA_SCIENCE/data/clean_images/test/images/27306.jpg'"
      ]
     },
     "execution_count": 161,
     "metadata": {},
     "output_type": "execute_result"
    },
    {
     "data": {
      "text/plain": [
       "'C:/Users/khanh/code/DATA_SCIENCE/data/clean_images/test/labels/27306.txt'"
      ]
     },
     "execution_count": 161,
     "metadata": {},
     "output_type": "execute_result"
    },
    {
     "data": {
      "text/plain": [
       "'C:/Users/khanh/code/DATA_SCIENCE/data/clean_images/test/images/27307.jpg'"
      ]
     },
     "execution_count": 161,
     "metadata": {},
     "output_type": "execute_result"
    },
    {
     "data": {
      "text/plain": [
       "'C:/Users/khanh/code/DATA_SCIENCE/data/clean_images/test/labels/27307.txt'"
      ]
     },
     "execution_count": 161,
     "metadata": {},
     "output_type": "execute_result"
    },
    {
     "data": {
      "text/plain": [
       "'C:/Users/khanh/code/DATA_SCIENCE/data/clean_images/test/images/27308.jpg'"
      ]
     },
     "execution_count": 161,
     "metadata": {},
     "output_type": "execute_result"
    },
    {
     "data": {
      "text/plain": [
       "'C:/Users/khanh/code/DATA_SCIENCE/data/clean_images/test/labels/27308.txt'"
      ]
     },
     "execution_count": 161,
     "metadata": {},
     "output_type": "execute_result"
    },
    {
     "data": {
      "text/plain": [
       "'C:/Users/khanh/code/DATA_SCIENCE/data/clean_images/test/images/4546.jpg'"
      ]
     },
     "execution_count": 161,
     "metadata": {},
     "output_type": "execute_result"
    },
    {
     "data": {
      "text/plain": [
       "'C:/Users/khanh/code/DATA_SCIENCE/data/clean_images/test/labels/4546.txt'"
      ]
     },
     "execution_count": 161,
     "metadata": {},
     "output_type": "execute_result"
    },
    {
     "data": {
      "text/plain": [
       "'C:/Users/khanh/code/DATA_SCIENCE/data/clean_images/test/images/4549.jpg'"
      ]
     },
     "execution_count": 161,
     "metadata": {},
     "output_type": "execute_result"
    },
    {
     "data": {
      "text/plain": [
       "'C:/Users/khanh/code/DATA_SCIENCE/data/clean_images/test/labels/4549.txt'"
      ]
     },
     "execution_count": 161,
     "metadata": {},
     "output_type": "execute_result"
    },
    {
     "data": {
      "text/plain": [
       "'C:/Users/khanh/code/DATA_SCIENCE/data/clean_images/test/images/4550.jpg'"
      ]
     },
     "execution_count": 161,
     "metadata": {},
     "output_type": "execute_result"
    },
    {
     "data": {
      "text/plain": [
       "'C:/Users/khanh/code/DATA_SCIENCE/data/clean_images/test/labels/4550.txt'"
      ]
     },
     "execution_count": 161,
     "metadata": {},
     "output_type": "execute_result"
    },
    {
     "data": {
      "text/plain": [
       "'C:/Users/khanh/code/DATA_SCIENCE/data/clean_images/test/images/54642.jpg'"
      ]
     },
     "execution_count": 161,
     "metadata": {},
     "output_type": "execute_result"
    },
    {
     "data": {
      "text/plain": [
       "'C:/Users/khanh/code/DATA_SCIENCE/data/clean_images/test/labels/54642.txt'"
      ]
     },
     "execution_count": 161,
     "metadata": {},
     "output_type": "execute_result"
    },
    {
     "data": {
      "text/plain": [
       "'C:/Users/khanh/code/DATA_SCIENCE/data/clean_images/test/images/54644.jpg'"
      ]
     },
     "execution_count": 161,
     "metadata": {},
     "output_type": "execute_result"
    },
    {
     "data": {
      "text/plain": [
       "'C:/Users/khanh/code/DATA_SCIENCE/data/clean_images/test/labels/54644.txt'"
      ]
     },
     "execution_count": 161,
     "metadata": {},
     "output_type": "execute_result"
    },
    {
     "data": {
      "text/plain": [
       "'C:/Users/khanh/code/DATA_SCIENCE/data/clean_images/test/images/54645.jpg'"
      ]
     },
     "execution_count": 161,
     "metadata": {},
     "output_type": "execute_result"
    },
    {
     "data": {
      "text/plain": [
       "'C:/Users/khanh/code/DATA_SCIENCE/data/clean_images/test/labels/54645.txt'"
      ]
     },
     "execution_count": 161,
     "metadata": {},
     "output_type": "execute_result"
    },
    {
     "data": {
      "text/plain": [
       "'C:/Users/khanh/code/DATA_SCIENCE/data/clean_images/test/images/54646.jpg'"
      ]
     },
     "execution_count": 161,
     "metadata": {},
     "output_type": "execute_result"
    },
    {
     "data": {
      "text/plain": [
       "'C:/Users/khanh/code/DATA_SCIENCE/data/clean_images/test/labels/54646.txt'"
      ]
     },
     "execution_count": 161,
     "metadata": {},
     "output_type": "execute_result"
    },
    {
     "data": {
      "text/plain": [
       "'C:/Users/khanh/code/DATA_SCIENCE/data/clean_images/test/images/44521.jpg'"
      ]
     },
     "execution_count": 161,
     "metadata": {},
     "output_type": "execute_result"
    },
    {
     "data": {
      "text/plain": [
       "'C:/Users/khanh/code/DATA_SCIENCE/data/clean_images/test/labels/44521.txt'"
      ]
     },
     "execution_count": 161,
     "metadata": {},
     "output_type": "execute_result"
    },
    {
     "data": {
      "text/plain": [
       "'C:/Users/khanh/code/DATA_SCIENCE/data/clean_images/test/images/44522.jpg'"
      ]
     },
     "execution_count": 161,
     "metadata": {},
     "output_type": "execute_result"
    },
    {
     "data": {
      "text/plain": [
       "'C:/Users/khanh/code/DATA_SCIENCE/data/clean_images/test/labels/44522.txt'"
      ]
     },
     "execution_count": 161,
     "metadata": {},
     "output_type": "execute_result"
    },
    {
     "data": {
      "text/plain": [
       "'C:/Users/khanh/code/DATA_SCIENCE/data/clean_images/test/images/44523.jpg'"
      ]
     },
     "execution_count": 161,
     "metadata": {},
     "output_type": "execute_result"
    },
    {
     "data": {
      "text/plain": [
       "'C:/Users/khanh/code/DATA_SCIENCE/data/clean_images/test/labels/44523.txt'"
      ]
     },
     "execution_count": 161,
     "metadata": {},
     "output_type": "execute_result"
    },
    {
     "data": {
      "text/plain": [
       "'C:/Users/khanh/code/DATA_SCIENCE/data/clean_images/test/images/44526.jpg'"
      ]
     },
     "execution_count": 161,
     "metadata": {},
     "output_type": "execute_result"
    },
    {
     "data": {
      "text/plain": [
       "'C:/Users/khanh/code/DATA_SCIENCE/data/clean_images/test/labels/44526.txt'"
      ]
     },
     "execution_count": 161,
     "metadata": {},
     "output_type": "execute_result"
    },
    {
     "data": {
      "text/plain": [
       "'C:/Users/khanh/code/DATA_SCIENCE/data/clean_images/test/images/29692.jpg'"
      ]
     },
     "execution_count": 161,
     "metadata": {},
     "output_type": "execute_result"
    },
    {
     "data": {
      "text/plain": [
       "'C:/Users/khanh/code/DATA_SCIENCE/data/clean_images/test/labels/29692.txt'"
      ]
     },
     "execution_count": 161,
     "metadata": {},
     "output_type": "execute_result"
    },
    {
     "data": {
      "text/plain": [
       "'C:/Users/khanh/code/DATA_SCIENCE/data/clean_images/test/images/29693.jpg'"
      ]
     },
     "execution_count": 161,
     "metadata": {},
     "output_type": "execute_result"
    },
    {
     "data": {
      "text/plain": [
       "'C:/Users/khanh/code/DATA_SCIENCE/data/clean_images/test/labels/29693.txt'"
      ]
     },
     "execution_count": 161,
     "metadata": {},
     "output_type": "execute_result"
    },
    {
     "data": {
      "text/plain": [
       "'C:/Users/khanh/code/DATA_SCIENCE/data/clean_images/test/images/29694.jpg'"
      ]
     },
     "execution_count": 161,
     "metadata": {},
     "output_type": "execute_result"
    },
    {
     "data": {
      "text/plain": [
       "'C:/Users/khanh/code/DATA_SCIENCE/data/clean_images/test/labels/29694.txt'"
      ]
     },
     "execution_count": 161,
     "metadata": {},
     "output_type": "execute_result"
    },
    {
     "data": {
      "text/plain": [
       "'C:/Users/khanh/code/DATA_SCIENCE/data/clean_images/test/images/29695.jpg'"
      ]
     },
     "execution_count": 161,
     "metadata": {},
     "output_type": "execute_result"
    },
    {
     "data": {
      "text/plain": [
       "'C:/Users/khanh/code/DATA_SCIENCE/data/clean_images/test/labels/29695.txt'"
      ]
     },
     "execution_count": 161,
     "metadata": {},
     "output_type": "execute_result"
    },
    {
     "data": {
      "text/plain": [
       "'C:/Users/khanh/code/DATA_SCIENCE/data/clean_images/test/images/29697.jpg'"
      ]
     },
     "execution_count": 161,
     "metadata": {},
     "output_type": "execute_result"
    },
    {
     "data": {
      "text/plain": [
       "'C:/Users/khanh/code/DATA_SCIENCE/data/clean_images/test/labels/29697.txt'"
      ]
     },
     "execution_count": 161,
     "metadata": {},
     "output_type": "execute_result"
    },
    {
     "data": {
      "text/plain": [
       "'C:/Users/khanh/code/DATA_SCIENCE/data/clean_images/test/images/52091.jpg'"
      ]
     },
     "execution_count": 161,
     "metadata": {},
     "output_type": "execute_result"
    },
    {
     "data": {
      "text/plain": [
       "'C:/Users/khanh/code/DATA_SCIENCE/data/clean_images/test/labels/52091.txt'"
      ]
     },
     "execution_count": 161,
     "metadata": {},
     "output_type": "execute_result"
    },
    {
     "data": {
      "text/plain": [
       "'C:/Users/khanh/code/DATA_SCIENCE/data/clean_images/test/images/52092.jpg'"
      ]
     },
     "execution_count": 161,
     "metadata": {},
     "output_type": "execute_result"
    },
    {
     "data": {
      "text/plain": [
       "'C:/Users/khanh/code/DATA_SCIENCE/data/clean_images/test/labels/52092.txt'"
      ]
     },
     "execution_count": 161,
     "metadata": {},
     "output_type": "execute_result"
    },
    {
     "data": {
      "text/plain": [
       "'C:/Users/khanh/code/DATA_SCIENCE/data/clean_images/test/images/38665.jpg'"
      ]
     },
     "execution_count": 161,
     "metadata": {},
     "output_type": "execute_result"
    },
    {
     "data": {
      "text/plain": [
       "'C:/Users/khanh/code/DATA_SCIENCE/data/clean_images/test/labels/38665.txt'"
      ]
     },
     "execution_count": 161,
     "metadata": {},
     "output_type": "execute_result"
    },
    {
     "data": {
      "text/plain": [
       "'C:/Users/khanh/code/DATA_SCIENCE/data/clean_images/test/images/38666.jpg'"
      ]
     },
     "execution_count": 161,
     "metadata": {},
     "output_type": "execute_result"
    },
    {
     "data": {
      "text/plain": [
       "'C:/Users/khanh/code/DATA_SCIENCE/data/clean_images/test/labels/38666.txt'"
      ]
     },
     "execution_count": 161,
     "metadata": {},
     "output_type": "execute_result"
    },
    {
     "data": {
      "text/plain": [
       "'C:/Users/khanh/code/DATA_SCIENCE/data/clean_images/test/images/38668.jpg'"
      ]
     },
     "execution_count": 161,
     "metadata": {},
     "output_type": "execute_result"
    },
    {
     "data": {
      "text/plain": [
       "'C:/Users/khanh/code/DATA_SCIENCE/data/clean_images/test/labels/38668.txt'"
      ]
     },
     "execution_count": 161,
     "metadata": {},
     "output_type": "execute_result"
    },
    {
     "data": {
      "text/plain": [
       "'C:/Users/khanh/code/DATA_SCIENCE/data/clean_images/test/images/38669.jpg'"
      ]
     },
     "execution_count": 161,
     "metadata": {},
     "output_type": "execute_result"
    },
    {
     "data": {
      "text/plain": [
       "'C:/Users/khanh/code/DATA_SCIENCE/data/clean_images/test/labels/38669.txt'"
      ]
     },
     "execution_count": 161,
     "metadata": {},
     "output_type": "execute_result"
    },
    {
     "data": {
      "text/plain": [
       "'C:/Users/khanh/code/DATA_SCIENCE/data/clean_images/test/images/43850.jpg'"
      ]
     },
     "execution_count": 161,
     "metadata": {},
     "output_type": "execute_result"
    },
    {
     "data": {
      "text/plain": [
       "'C:/Users/khanh/code/DATA_SCIENCE/data/clean_images/test/labels/43850.txt'"
      ]
     },
     "execution_count": 161,
     "metadata": {},
     "output_type": "execute_result"
    },
    {
     "data": {
      "text/plain": [
       "'C:/Users/khanh/code/DATA_SCIENCE/data/clean_images/test/images/43852.jpg'"
      ]
     },
     "execution_count": 161,
     "metadata": {},
     "output_type": "execute_result"
    },
    {
     "data": {
      "text/plain": [
       "'C:/Users/khanh/code/DATA_SCIENCE/data/clean_images/test/labels/43852.txt'"
      ]
     },
     "execution_count": 161,
     "metadata": {},
     "output_type": "execute_result"
    },
    {
     "data": {
      "text/plain": [
       "'C:/Users/khanh/code/DATA_SCIENCE/data/clean_images/test/images/3659.jpg'"
      ]
     },
     "execution_count": 161,
     "metadata": {},
     "output_type": "execute_result"
    },
    {
     "data": {
      "text/plain": [
       "'C:/Users/khanh/code/DATA_SCIENCE/data/clean_images/test/labels/3659.txt'"
      ]
     },
     "execution_count": 161,
     "metadata": {},
     "output_type": "execute_result"
    },
    {
     "data": {
      "text/plain": [
       "'C:/Users/khanh/code/DATA_SCIENCE/data/clean_images/test/images/3660.jpg'"
      ]
     },
     "execution_count": 161,
     "metadata": {},
     "output_type": "execute_result"
    },
    {
     "data": {
      "text/plain": [
       "'C:/Users/khanh/code/DATA_SCIENCE/data/clean_images/test/labels/3660.txt'"
      ]
     },
     "execution_count": 161,
     "metadata": {},
     "output_type": "execute_result"
    },
    {
     "data": {
      "text/plain": [
       "'C:/Users/khanh/code/DATA_SCIENCE/data/clean_images/test/images/3662.jpg'"
      ]
     },
     "execution_count": 161,
     "metadata": {},
     "output_type": "execute_result"
    },
    {
     "data": {
      "text/plain": [
       "'C:/Users/khanh/code/DATA_SCIENCE/data/clean_images/test/labels/3662.txt'"
      ]
     },
     "execution_count": 161,
     "metadata": {},
     "output_type": "execute_result"
    },
    {
     "data": {
      "text/plain": [
       "'C:/Users/khanh/code/DATA_SCIENCE/data/clean_images/test/images/3663.jpg'"
      ]
     },
     "execution_count": 161,
     "metadata": {},
     "output_type": "execute_result"
    },
    {
     "data": {
      "text/plain": [
       "'C:/Users/khanh/code/DATA_SCIENCE/data/clean_images/test/labels/3663.txt'"
      ]
     },
     "execution_count": 161,
     "metadata": {},
     "output_type": "execute_result"
    },
    {
     "data": {
      "text/plain": [
       "'C:/Users/khanh/code/DATA_SCIENCE/data/clean_images/test/images/5014.jpg'"
      ]
     },
     "execution_count": 161,
     "metadata": {},
     "output_type": "execute_result"
    },
    {
     "data": {
      "text/plain": [
       "'C:/Users/khanh/code/DATA_SCIENCE/data/clean_images/test/labels/5014.txt'"
      ]
     },
     "execution_count": 161,
     "metadata": {},
     "output_type": "execute_result"
    },
    {
     "data": {
      "text/plain": [
       "'C:/Users/khanh/code/DATA_SCIENCE/data/clean_images/test/images/43855.jpg'"
      ]
     },
     "execution_count": 161,
     "metadata": {},
     "output_type": "execute_result"
    },
    {
     "data": {
      "text/plain": [
       "'C:/Users/khanh/code/DATA_SCIENCE/data/clean_images/test/labels/43855.txt'"
      ]
     },
     "execution_count": 161,
     "metadata": {},
     "output_type": "execute_result"
    },
    {
     "data": {
      "text/plain": [
       "'C:/Users/khanh/code/DATA_SCIENCE/data/clean_images/test/images/20775.jpg'"
      ]
     },
     "execution_count": 161,
     "metadata": {},
     "output_type": "execute_result"
    },
    {
     "data": {
      "text/plain": [
       "'C:/Users/khanh/code/DATA_SCIENCE/data/clean_images/test/labels/20775.txt'"
      ]
     },
     "execution_count": 161,
     "metadata": {},
     "output_type": "execute_result"
    },
    {
     "data": {
      "text/plain": [
       "'C:/Users/khanh/code/DATA_SCIENCE/data/clean_images/test/images/20778.jpg'"
      ]
     },
     "execution_count": 161,
     "metadata": {},
     "output_type": "execute_result"
    },
    {
     "data": {
      "text/plain": [
       "'C:/Users/khanh/code/DATA_SCIENCE/data/clean_images/test/labels/20778.txt'"
      ]
     },
     "execution_count": 161,
     "metadata": {},
     "output_type": "execute_result"
    },
    {
     "data": {
      "text/plain": [
       "'C:/Users/khanh/code/DATA_SCIENCE/data/clean_images/test/images/19373.jpg'"
      ]
     },
     "execution_count": 161,
     "metadata": {},
     "output_type": "execute_result"
    },
    {
     "data": {
      "text/plain": [
       "'C:/Users/khanh/code/DATA_SCIENCE/data/clean_images/test/labels/19373.txt'"
      ]
     },
     "execution_count": 161,
     "metadata": {},
     "output_type": "execute_result"
    },
    {
     "data": {
      "text/plain": [
       "'C:/Users/khanh/code/DATA_SCIENCE/data/clean_images/test/images/19374.jpg'"
      ]
     },
     "execution_count": 161,
     "metadata": {},
     "output_type": "execute_result"
    },
    {
     "data": {
      "text/plain": [
       "'C:/Users/khanh/code/DATA_SCIENCE/data/clean_images/test/labels/19374.txt'"
      ]
     },
     "execution_count": 161,
     "metadata": {},
     "output_type": "execute_result"
    },
    {
     "data": {
      "text/plain": [
       "'C:/Users/khanh/code/DATA_SCIENCE/data/clean_images/test/images/10744.jpg'"
      ]
     },
     "execution_count": 161,
     "metadata": {},
     "output_type": "execute_result"
    },
    {
     "data": {
      "text/plain": [
       "'C:/Users/khanh/code/DATA_SCIENCE/data/clean_images/test/labels/10744.txt'"
      ]
     },
     "execution_count": 161,
     "metadata": {},
     "output_type": "execute_result"
    },
    {
     "data": {
      "text/plain": [
       "'C:/Users/khanh/code/DATA_SCIENCE/data/clean_images/test/images/10745.jpg'"
      ]
     },
     "execution_count": 161,
     "metadata": {},
     "output_type": "execute_result"
    },
    {
     "data": {
      "text/plain": [
       "'C:/Users/khanh/code/DATA_SCIENCE/data/clean_images/test/labels/10745.txt'"
      ]
     },
     "execution_count": 161,
     "metadata": {},
     "output_type": "execute_result"
    },
    {
     "data": {
      "text/plain": [
       "'C:/Users/khanh/code/DATA_SCIENCE/data/clean_images/test/images/10746.jpg'"
      ]
     },
     "execution_count": 161,
     "metadata": {},
     "output_type": "execute_result"
    },
    {
     "data": {
      "text/plain": [
       "'C:/Users/khanh/code/DATA_SCIENCE/data/clean_images/test/labels/10746.txt'"
      ]
     },
     "execution_count": 161,
     "metadata": {},
     "output_type": "execute_result"
    },
    {
     "data": {
      "text/plain": [
       "'C:/Users/khanh/code/DATA_SCIENCE/data/clean_images/test/images/10747.jpg'"
      ]
     },
     "execution_count": 161,
     "metadata": {},
     "output_type": "execute_result"
    },
    {
     "data": {
      "text/plain": [
       "'C:/Users/khanh/code/DATA_SCIENCE/data/clean_images/test/labels/10747.txt'"
      ]
     },
     "execution_count": 161,
     "metadata": {},
     "output_type": "execute_result"
    },
    {
     "data": {
      "text/plain": [
       "'C:/Users/khanh/code/DATA_SCIENCE/data/clean_images/test/images/10748.jpg'"
      ]
     },
     "execution_count": 161,
     "metadata": {},
     "output_type": "execute_result"
    },
    {
     "data": {
      "text/plain": [
       "'C:/Users/khanh/code/DATA_SCIENCE/data/clean_images/test/labels/10748.txt'"
      ]
     },
     "execution_count": 161,
     "metadata": {},
     "output_type": "execute_result"
    },
    {
     "data": {
      "text/plain": [
       "'C:/Users/khanh/code/DATA_SCIENCE/data/clean_images/test/images/10749.jpg'"
      ]
     },
     "execution_count": 161,
     "metadata": {},
     "output_type": "execute_result"
    },
    {
     "data": {
      "text/plain": [
       "'C:/Users/khanh/code/DATA_SCIENCE/data/clean_images/test/labels/10749.txt'"
      ]
     },
     "execution_count": 161,
     "metadata": {},
     "output_type": "execute_result"
    },
    {
     "data": {
      "text/plain": [
       "'C:/Users/khanh/code/DATA_SCIENCE/data/clean_images/test/images/51416.jpg'"
      ]
     },
     "execution_count": 161,
     "metadata": {},
     "output_type": "execute_result"
    },
    {
     "data": {
      "text/plain": [
       "'C:/Users/khanh/code/DATA_SCIENCE/data/clean_images/test/labels/51416.txt'"
      ]
     },
     "execution_count": 161,
     "metadata": {},
     "output_type": "execute_result"
    },
    {
     "data": {
      "text/plain": [
       "'C:/Users/khanh/code/DATA_SCIENCE/data/clean_images/test/images/51417.jpg'"
      ]
     },
     "execution_count": 161,
     "metadata": {},
     "output_type": "execute_result"
    },
    {
     "data": {
      "text/plain": [
       "'C:/Users/khanh/code/DATA_SCIENCE/data/clean_images/test/labels/51417.txt'"
      ]
     },
     "execution_count": 161,
     "metadata": {},
     "output_type": "execute_result"
    },
    {
     "data": {
      "text/plain": [
       "'C:/Users/khanh/code/DATA_SCIENCE/data/clean_images/test/images/37817.jpg'"
      ]
     },
     "execution_count": 161,
     "metadata": {},
     "output_type": "execute_result"
    },
    {
     "data": {
      "text/plain": [
       "'C:/Users/khanh/code/DATA_SCIENCE/data/clean_images/test/labels/37817.txt'"
      ]
     },
     "execution_count": 161,
     "metadata": {},
     "output_type": "execute_result"
    },
    {
     "data": {
      "text/plain": [
       "'C:/Users/khanh/code/DATA_SCIENCE/data/clean_images/test/images/37819.jpg'"
      ]
     },
     "execution_count": 161,
     "metadata": {},
     "output_type": "execute_result"
    },
    {
     "data": {
      "text/plain": [
       "'C:/Users/khanh/code/DATA_SCIENCE/data/clean_images/test/labels/37819.txt'"
      ]
     },
     "execution_count": 161,
     "metadata": {},
     "output_type": "execute_result"
    },
    {
     "data": {
      "text/plain": [
       "'C:/Users/khanh/code/DATA_SCIENCE/data/clean_images/test/images/38198.jpg'"
      ]
     },
     "execution_count": 161,
     "metadata": {},
     "output_type": "execute_result"
    },
    {
     "data": {
      "text/plain": [
       "'C:/Users/khanh/code/DATA_SCIENCE/data/clean_images/test/labels/38198.txt'"
      ]
     },
     "execution_count": 161,
     "metadata": {},
     "output_type": "execute_result"
    },
    {
     "data": {
      "text/plain": [
       "'C:/Users/khanh/code/DATA_SCIENCE/data/clean_images/test/images/45233.jpg'"
      ]
     },
     "execution_count": 161,
     "metadata": {},
     "output_type": "execute_result"
    },
    {
     "data": {
      "text/plain": [
       "'C:/Users/khanh/code/DATA_SCIENCE/data/clean_images/test/labels/45233.txt'"
      ]
     },
     "execution_count": 161,
     "metadata": {},
     "output_type": "execute_result"
    },
    {
     "data": {
      "text/plain": [
       "'C:/Users/khanh/code/DATA_SCIENCE/data/clean_images/test/images/30088.jpg'"
      ]
     },
     "execution_count": 161,
     "metadata": {},
     "output_type": "execute_result"
    },
    {
     "data": {
      "text/plain": [
       "'C:/Users/khanh/code/DATA_SCIENCE/data/clean_images/test/labels/30088.txt'"
      ]
     },
     "execution_count": 161,
     "metadata": {},
     "output_type": "execute_result"
    },
    {
     "data": {
      "text/plain": [
       "'C:/Users/khanh/code/DATA_SCIENCE/data/clean_images/test/images/30090.jpg'"
      ]
     },
     "execution_count": 161,
     "metadata": {},
     "output_type": "execute_result"
    },
    {
     "data": {
      "text/plain": [
       "'C:/Users/khanh/code/DATA_SCIENCE/data/clean_images/test/labels/30090.txt'"
      ]
     },
     "execution_count": 161,
     "metadata": {},
     "output_type": "execute_result"
    },
    {
     "data": {
      "text/plain": [
       "'C:/Users/khanh/code/DATA_SCIENCE/data/clean_images/test/images/30091.jpg'"
      ]
     },
     "execution_count": 161,
     "metadata": {},
     "output_type": "execute_result"
    },
    {
     "data": {
      "text/plain": [
       "'C:/Users/khanh/code/DATA_SCIENCE/data/clean_images/test/labels/30091.txt'"
      ]
     },
     "execution_count": 161,
     "metadata": {},
     "output_type": "execute_result"
    },
    {
     "data": {
      "text/plain": [
       "'C:/Users/khanh/code/DATA_SCIENCE/data/clean_images/test/images/14347.jpg'"
      ]
     },
     "execution_count": 161,
     "metadata": {},
     "output_type": "execute_result"
    },
    {
     "data": {
      "text/plain": [
       "'C:/Users/khanh/code/DATA_SCIENCE/data/clean_images/test/labels/14347.txt'"
      ]
     },
     "execution_count": 161,
     "metadata": {},
     "output_type": "execute_result"
    },
    {
     "data": {
      "text/plain": [
       "'C:/Users/khanh/code/DATA_SCIENCE/data/clean_images/test/images/14348.jpg'"
      ]
     },
     "execution_count": 161,
     "metadata": {},
     "output_type": "execute_result"
    },
    {
     "data": {
      "text/plain": [
       "'C:/Users/khanh/code/DATA_SCIENCE/data/clean_images/test/labels/14348.txt'"
      ]
     },
     "execution_count": 161,
     "metadata": {},
     "output_type": "execute_result"
    },
    {
     "data": {
      "text/plain": [
       "'C:/Users/khanh/code/DATA_SCIENCE/data/clean_images/test/images/34947.jpg'"
      ]
     },
     "execution_count": 161,
     "metadata": {},
     "output_type": "execute_result"
    },
    {
     "data": {
      "text/plain": [
       "'C:/Users/khanh/code/DATA_SCIENCE/data/clean_images/test/labels/34947.txt'"
      ]
     },
     "execution_count": 161,
     "metadata": {},
     "output_type": "execute_result"
    },
    {
     "data": {
      "text/plain": [
       "'C:/Users/khanh/code/DATA_SCIENCE/data/clean_images/test/images/34949.jpg'"
      ]
     },
     "execution_count": 161,
     "metadata": {},
     "output_type": "execute_result"
    },
    {
     "data": {
      "text/plain": [
       "'C:/Users/khanh/code/DATA_SCIENCE/data/clean_images/test/labels/34949.txt'"
      ]
     },
     "execution_count": 161,
     "metadata": {},
     "output_type": "execute_result"
    },
    {
     "data": {
      "text/plain": [
       "'C:/Users/khanh/code/DATA_SCIENCE/data/clean_images/test/images/34950.jpg'"
      ]
     },
     "execution_count": 161,
     "metadata": {},
     "output_type": "execute_result"
    },
    {
     "data": {
      "text/plain": [
       "'C:/Users/khanh/code/DATA_SCIENCE/data/clean_images/test/labels/34950.txt'"
      ]
     },
     "execution_count": 161,
     "metadata": {},
     "output_type": "execute_result"
    },
    {
     "data": {
      "text/plain": [
       "'C:/Users/khanh/code/DATA_SCIENCE/data/clean_images/test/images/34951.jpg'"
      ]
     },
     "execution_count": 161,
     "metadata": {},
     "output_type": "execute_result"
    },
    {
     "data": {
      "text/plain": [
       "'C:/Users/khanh/code/DATA_SCIENCE/data/clean_images/test/labels/34951.txt'"
      ]
     },
     "execution_count": 161,
     "metadata": {},
     "output_type": "execute_result"
    },
    {
     "data": {
      "text/plain": [
       "'C:/Users/khanh/code/DATA_SCIENCE/data/clean_images/test/images/34952.jpg'"
      ]
     },
     "execution_count": 161,
     "metadata": {},
     "output_type": "execute_result"
    },
    {
     "data": {
      "text/plain": [
       "'C:/Users/khanh/code/DATA_SCIENCE/data/clean_images/test/labels/34952.txt'"
      ]
     },
     "execution_count": 161,
     "metadata": {},
     "output_type": "execute_result"
    },
    {
     "data": {
      "text/plain": [
       "'C:/Users/khanh/code/DATA_SCIENCE/data/clean_images/test/images/37850.jpg'"
      ]
     },
     "execution_count": 161,
     "metadata": {},
     "output_type": "execute_result"
    },
    {
     "data": {
      "text/plain": [
       "'C:/Users/khanh/code/DATA_SCIENCE/data/clean_images/test/labels/37850.txt'"
      ]
     },
     "execution_count": 161,
     "metadata": {},
     "output_type": "execute_result"
    },
    {
     "data": {
      "text/plain": [
       "'C:/Users/khanh/code/DATA_SCIENCE/data/clean_images/test/images/37851.jpg'"
      ]
     },
     "execution_count": 161,
     "metadata": {},
     "output_type": "execute_result"
    },
    {
     "data": {
      "text/plain": [
       "'C:/Users/khanh/code/DATA_SCIENCE/data/clean_images/test/labels/37851.txt'"
      ]
     },
     "execution_count": 161,
     "metadata": {},
     "output_type": "execute_result"
    },
    {
     "data": {
      "text/plain": [
       "'C:/Users/khanh/code/DATA_SCIENCE/data/clean_images/test/images/37853.jpg'"
      ]
     },
     "execution_count": 161,
     "metadata": {},
     "output_type": "execute_result"
    },
    {
     "data": {
      "text/plain": [
       "'C:/Users/khanh/code/DATA_SCIENCE/data/clean_images/test/labels/37853.txt'"
      ]
     },
     "execution_count": 161,
     "metadata": {},
     "output_type": "execute_result"
    },
    {
     "data": {
      "text/plain": [
       "'C:/Users/khanh/code/DATA_SCIENCE/data/clean_images/test/images/12896.jpg'"
      ]
     },
     "execution_count": 161,
     "metadata": {},
     "output_type": "execute_result"
    },
    {
     "data": {
      "text/plain": [
       "'C:/Users/khanh/code/DATA_SCIENCE/data/clean_images/test/labels/12896.txt'"
      ]
     },
     "execution_count": 161,
     "metadata": {},
     "output_type": "execute_result"
    },
    {
     "data": {
      "text/plain": [
       "'C:/Users/khanh/code/DATA_SCIENCE/data/clean_images/test/images/53698.jpg'"
      ]
     },
     "execution_count": 161,
     "metadata": {},
     "output_type": "execute_result"
    },
    {
     "data": {
      "text/plain": [
       "'C:/Users/khanh/code/DATA_SCIENCE/data/clean_images/test/labels/53698.txt'"
      ]
     },
     "execution_count": 161,
     "metadata": {},
     "output_type": "execute_result"
    },
    {
     "data": {
      "text/plain": [
       "'C:/Users/khanh/code/DATA_SCIENCE/data/clean_images/test/images/13290.jpg'"
      ]
     },
     "execution_count": 161,
     "metadata": {},
     "output_type": "execute_result"
    },
    {
     "data": {
      "text/plain": [
       "'C:/Users/khanh/code/DATA_SCIENCE/data/clean_images/test/labels/13290.txt'"
      ]
     },
     "execution_count": 161,
     "metadata": {},
     "output_type": "execute_result"
    },
    {
     "data": {
      "text/plain": [
       "'C:/Users/khanh/code/DATA_SCIENCE/data/clean_images/test/images/13294.jpg'"
      ]
     },
     "execution_count": 161,
     "metadata": {},
     "output_type": "execute_result"
    },
    {
     "data": {
      "text/plain": [
       "'C:/Users/khanh/code/DATA_SCIENCE/data/clean_images/test/labels/13294.txt'"
      ]
     },
     "execution_count": 161,
     "metadata": {},
     "output_type": "execute_result"
    },
    {
     "data": {
      "text/plain": [
       "'C:/Users/khanh/code/DATA_SCIENCE/data/clean_images/test/images/46688.jpg'"
      ]
     },
     "execution_count": 161,
     "metadata": {},
     "output_type": "execute_result"
    },
    {
     "data": {
      "text/plain": [
       "'C:/Users/khanh/code/DATA_SCIENCE/data/clean_images/test/labels/46688.txt'"
      ]
     },
     "execution_count": 161,
     "metadata": {},
     "output_type": "execute_result"
    },
    {
     "data": {
      "text/plain": [
       "'C:/Users/khanh/code/DATA_SCIENCE/data/clean_images/test/images/24275.jpg'"
      ]
     },
     "execution_count": 161,
     "metadata": {},
     "output_type": "execute_result"
    },
    {
     "data": {
      "text/plain": [
       "'C:/Users/khanh/code/DATA_SCIENCE/data/clean_images/test/labels/24275.txt'"
      ]
     },
     "execution_count": 161,
     "metadata": {},
     "output_type": "execute_result"
    },
    {
     "data": {
      "text/plain": [
       "'C:/Users/khanh/code/DATA_SCIENCE/data/clean_images/test/images/24276.jpg'"
      ]
     },
     "execution_count": 161,
     "metadata": {},
     "output_type": "execute_result"
    },
    {
     "data": {
      "text/plain": [
       "'C:/Users/khanh/code/DATA_SCIENCE/data/clean_images/test/labels/24276.txt'"
      ]
     },
     "execution_count": 161,
     "metadata": {},
     "output_type": "execute_result"
    },
    {
     "data": {
      "text/plain": [
       "'C:/Users/khanh/code/DATA_SCIENCE/data/clean_images/test/images/24277.jpg'"
      ]
     },
     "execution_count": 161,
     "metadata": {},
     "output_type": "execute_result"
    },
    {
     "data": {
      "text/plain": [
       "'C:/Users/khanh/code/DATA_SCIENCE/data/clean_images/test/labels/24277.txt'"
      ]
     },
     "execution_count": 161,
     "metadata": {},
     "output_type": "execute_result"
    },
    {
     "data": {
      "text/plain": [
       "'C:/Users/khanh/code/DATA_SCIENCE/data/clean_images/test/images/16651.jpg'"
      ]
     },
     "execution_count": 161,
     "metadata": {},
     "output_type": "execute_result"
    },
    {
     "data": {
      "text/plain": [
       "'C:/Users/khanh/code/DATA_SCIENCE/data/clean_images/test/labels/16651.txt'"
      ]
     },
     "execution_count": 161,
     "metadata": {},
     "output_type": "execute_result"
    },
    {
     "data": {
      "text/plain": [
       "'C:/Users/khanh/code/DATA_SCIENCE/data/clean_images/test/images/24167.jpg'"
      ]
     },
     "execution_count": 161,
     "metadata": {},
     "output_type": "execute_result"
    },
    {
     "data": {
      "text/plain": [
       "'C:/Users/khanh/code/DATA_SCIENCE/data/clean_images/test/labels/24167.txt'"
      ]
     },
     "execution_count": 161,
     "metadata": {},
     "output_type": "execute_result"
    },
    {
     "data": {
      "text/plain": [
       "'C:/Users/khanh/code/DATA_SCIENCE/data/clean_images/test/images/24168.jpg'"
      ]
     },
     "execution_count": 161,
     "metadata": {},
     "output_type": "execute_result"
    },
    {
     "data": {
      "text/plain": [
       "'C:/Users/khanh/code/DATA_SCIENCE/data/clean_images/test/labels/24168.txt'"
      ]
     },
     "execution_count": 161,
     "metadata": {},
     "output_type": "execute_result"
    },
    {
     "data": {
      "text/plain": [
       "'C:/Users/khanh/code/DATA_SCIENCE/data/clean_images/test/images/24169.jpg'"
      ]
     },
     "execution_count": 161,
     "metadata": {},
     "output_type": "execute_result"
    },
    {
     "data": {
      "text/plain": [
       "'C:/Users/khanh/code/DATA_SCIENCE/data/clean_images/test/labels/24169.txt'"
      ]
     },
     "execution_count": 161,
     "metadata": {},
     "output_type": "execute_result"
    },
    {
     "data": {
      "text/plain": [
       "'C:/Users/khanh/code/DATA_SCIENCE/data/clean_images/test/images/24170.jpg'"
      ]
     },
     "execution_count": 161,
     "metadata": {},
     "output_type": "execute_result"
    },
    {
     "data": {
      "text/plain": [
       "'C:/Users/khanh/code/DATA_SCIENCE/data/clean_images/test/labels/24170.txt'"
      ]
     },
     "execution_count": 161,
     "metadata": {},
     "output_type": "execute_result"
    },
    {
     "data": {
      "text/plain": [
       "'C:/Users/khanh/code/DATA_SCIENCE/data/clean_images/test/images/24171.jpg'"
      ]
     },
     "execution_count": 161,
     "metadata": {},
     "output_type": "execute_result"
    },
    {
     "data": {
      "text/plain": [
       "'C:/Users/khanh/code/DATA_SCIENCE/data/clean_images/test/labels/24171.txt'"
      ]
     },
     "execution_count": 161,
     "metadata": {},
     "output_type": "execute_result"
    },
    {
     "data": {
      "text/plain": [
       "'C:/Users/khanh/code/DATA_SCIENCE/data/clean_images/test/images/24172.jpg'"
      ]
     },
     "execution_count": 161,
     "metadata": {},
     "output_type": "execute_result"
    },
    {
     "data": {
      "text/plain": [
       "'C:/Users/khanh/code/DATA_SCIENCE/data/clean_images/test/labels/24172.txt'"
      ]
     },
     "execution_count": 161,
     "metadata": {},
     "output_type": "execute_result"
    },
    {
     "data": {
      "text/plain": [
       "'C:/Users/khanh/code/DATA_SCIENCE/data/clean_images/test/images/23884.jpg'"
      ]
     },
     "execution_count": 161,
     "metadata": {},
     "output_type": "execute_result"
    },
    {
     "data": {
      "text/plain": [
       "'C:/Users/khanh/code/DATA_SCIENCE/data/clean_images/test/labels/23884.txt'"
      ]
     },
     "execution_count": 161,
     "metadata": {},
     "output_type": "execute_result"
    },
    {
     "data": {
      "text/plain": [
       "'C:/Users/khanh/code/DATA_SCIENCE/data/clean_images/test/images/23886.jpg'"
      ]
     },
     "execution_count": 161,
     "metadata": {},
     "output_type": "execute_result"
    },
    {
     "data": {
      "text/plain": [
       "'C:/Users/khanh/code/DATA_SCIENCE/data/clean_images/test/labels/23886.txt'"
      ]
     },
     "execution_count": 161,
     "metadata": {},
     "output_type": "execute_result"
    },
    {
     "data": {
      "text/plain": [
       "'C:/Users/khanh/code/DATA_SCIENCE/data/clean_images/test/images/3457.jpg'"
      ]
     },
     "execution_count": 161,
     "metadata": {},
     "output_type": "execute_result"
    },
    {
     "data": {
      "text/plain": [
       "'C:/Users/khanh/code/DATA_SCIENCE/data/clean_images/test/labels/3457.txt'"
      ]
     },
     "execution_count": 161,
     "metadata": {},
     "output_type": "execute_result"
    },
    {
     "data": {
      "text/plain": [
       "'C:/Users/khanh/code/DATA_SCIENCE/data/clean_images/test/images/3458.jpg'"
      ]
     },
     "execution_count": 161,
     "metadata": {},
     "output_type": "execute_result"
    },
    {
     "data": {
      "text/plain": [
       "'C:/Users/khanh/code/DATA_SCIENCE/data/clean_images/test/labels/3458.txt'"
      ]
     },
     "execution_count": 161,
     "metadata": {},
     "output_type": "execute_result"
    },
    {
     "data": {
      "text/plain": [
       "'C:/Users/khanh/code/DATA_SCIENCE/data/clean_images/test/images/37530.jpg'"
      ]
     },
     "execution_count": 161,
     "metadata": {},
     "output_type": "execute_result"
    },
    {
     "data": {
      "text/plain": [
       "'C:/Users/khanh/code/DATA_SCIENCE/data/clean_images/test/labels/37530.txt'"
      ]
     },
     "execution_count": 161,
     "metadata": {},
     "output_type": "execute_result"
    },
    {
     "data": {
      "text/plain": [
       "'C:/Users/khanh/code/DATA_SCIENCE/data/clean_images/test/images/37531.jpg'"
      ]
     },
     "execution_count": 161,
     "metadata": {},
     "output_type": "execute_result"
    },
    {
     "data": {
      "text/plain": [
       "'C:/Users/khanh/code/DATA_SCIENCE/data/clean_images/test/labels/37531.txt'"
      ]
     },
     "execution_count": 161,
     "metadata": {},
     "output_type": "execute_result"
    },
    {
     "data": {
      "text/plain": [
       "'C:/Users/khanh/code/DATA_SCIENCE/data/clean_images/test/images/37532.jpg'"
      ]
     },
     "execution_count": 161,
     "metadata": {},
     "output_type": "execute_result"
    },
    {
     "data": {
      "text/plain": [
       "'C:/Users/khanh/code/DATA_SCIENCE/data/clean_images/test/labels/37532.txt'"
      ]
     },
     "execution_count": 161,
     "metadata": {},
     "output_type": "execute_result"
    },
    {
     "data": {
      "text/plain": [
       "'C:/Users/khanh/code/DATA_SCIENCE/data/clean_images/test/images/37533.jpg'"
      ]
     },
     "execution_count": 161,
     "metadata": {},
     "output_type": "execute_result"
    },
    {
     "data": {
      "text/plain": [
       "'C:/Users/khanh/code/DATA_SCIENCE/data/clean_images/test/labels/37533.txt'"
      ]
     },
     "execution_count": 161,
     "metadata": {},
     "output_type": "execute_result"
    },
    {
     "data": {
      "text/plain": [
       "'C:/Users/khanh/code/DATA_SCIENCE/data/clean_images/test/images/37534.jpg'"
      ]
     },
     "execution_count": 161,
     "metadata": {},
     "output_type": "execute_result"
    },
    {
     "data": {
      "text/plain": [
       "'C:/Users/khanh/code/DATA_SCIENCE/data/clean_images/test/labels/37534.txt'"
      ]
     },
     "execution_count": 161,
     "metadata": {},
     "output_type": "execute_result"
    },
    {
     "data": {
      "text/plain": [
       "'C:/Users/khanh/code/DATA_SCIENCE/data/clean_images/test/images/37535.jpg'"
      ]
     },
     "execution_count": 161,
     "metadata": {},
     "output_type": "execute_result"
    },
    {
     "data": {
      "text/plain": [
       "'C:/Users/khanh/code/DATA_SCIENCE/data/clean_images/test/labels/37535.txt'"
      ]
     },
     "execution_count": 161,
     "metadata": {},
     "output_type": "execute_result"
    },
    {
     "data": {
      "text/plain": [
       "'C:/Users/khanh/code/DATA_SCIENCE/data/clean_images/test/images/5249.jpg'"
      ]
     },
     "execution_count": 161,
     "metadata": {},
     "output_type": "execute_result"
    },
    {
     "data": {
      "text/plain": [
       "'C:/Users/khanh/code/DATA_SCIENCE/data/clean_images/test/labels/5249.txt'"
      ]
     },
     "execution_count": 161,
     "metadata": {},
     "output_type": "execute_result"
    },
    {
     "data": {
      "text/plain": [
       "'C:/Users/khanh/code/DATA_SCIENCE/data/clean_images/test/images/12951.jpg'"
      ]
     },
     "execution_count": 161,
     "metadata": {},
     "output_type": "execute_result"
    },
    {
     "data": {
      "text/plain": [
       "'C:/Users/khanh/code/DATA_SCIENCE/data/clean_images/test/labels/12951.txt'"
      ]
     },
     "execution_count": 161,
     "metadata": {},
     "output_type": "execute_result"
    },
    {
     "data": {
      "text/plain": [
       "'C:/Users/khanh/code/DATA_SCIENCE/data/clean_images/test/images/12952.jpg'"
      ]
     },
     "execution_count": 161,
     "metadata": {},
     "output_type": "execute_result"
    },
    {
     "data": {
      "text/plain": [
       "'C:/Users/khanh/code/DATA_SCIENCE/data/clean_images/test/labels/12952.txt'"
      ]
     },
     "execution_count": 161,
     "metadata": {},
     "output_type": "execute_result"
    },
    {
     "data": {
      "text/plain": [
       "'C:/Users/khanh/code/DATA_SCIENCE/data/clean_images/test/images/12954.jpg'"
      ]
     },
     "execution_count": 161,
     "metadata": {},
     "output_type": "execute_result"
    },
    {
     "data": {
      "text/plain": [
       "'C:/Users/khanh/code/DATA_SCIENCE/data/clean_images/test/labels/12954.txt'"
      ]
     },
     "execution_count": 161,
     "metadata": {},
     "output_type": "execute_result"
    },
    {
     "data": {
      "text/plain": [
       "'C:/Users/khanh/code/DATA_SCIENCE/data/clean_images/test/images/12955.jpg'"
      ]
     },
     "execution_count": 161,
     "metadata": {},
     "output_type": "execute_result"
    },
    {
     "data": {
      "text/plain": [
       "'C:/Users/khanh/code/DATA_SCIENCE/data/clean_images/test/labels/12955.txt'"
      ]
     },
     "execution_count": 161,
     "metadata": {},
     "output_type": "execute_result"
    },
    {
     "data": {
      "text/plain": [
       "'C:/Users/khanh/code/DATA_SCIENCE/data/clean_images/test/images/12956.jpg'"
      ]
     },
     "execution_count": 161,
     "metadata": {},
     "output_type": "execute_result"
    },
    {
     "data": {
      "text/plain": [
       "'C:/Users/khanh/code/DATA_SCIENCE/data/clean_images/test/labels/12956.txt'"
      ]
     },
     "execution_count": 161,
     "metadata": {},
     "output_type": "execute_result"
    },
    {
     "data": {
      "text/plain": [
       "'C:/Users/khanh/code/DATA_SCIENCE/data/clean_images/test/images/48420.jpg'"
      ]
     },
     "execution_count": 161,
     "metadata": {},
     "output_type": "execute_result"
    },
    {
     "data": {
      "text/plain": [
       "'C:/Users/khanh/code/DATA_SCIENCE/data/clean_images/test/labels/48420.txt'"
      ]
     },
     "execution_count": 161,
     "metadata": {},
     "output_type": "execute_result"
    },
    {
     "data": {
      "text/plain": [
       "'C:/Users/khanh/code/DATA_SCIENCE/data/clean_images/test/images/48423.jpg'"
      ]
     },
     "execution_count": 161,
     "metadata": {},
     "output_type": "execute_result"
    },
    {
     "data": {
      "text/plain": [
       "'C:/Users/khanh/code/DATA_SCIENCE/data/clean_images/test/labels/48423.txt'"
      ]
     },
     "execution_count": 161,
     "metadata": {},
     "output_type": "execute_result"
    },
    {
     "data": {
      "text/plain": [
       "'C:/Users/khanh/code/DATA_SCIENCE/data/clean_images/test/images/48424.jpg'"
      ]
     },
     "execution_count": 161,
     "metadata": {},
     "output_type": "execute_result"
    },
    {
     "data": {
      "text/plain": [
       "'C:/Users/khanh/code/DATA_SCIENCE/data/clean_images/test/labels/48424.txt'"
      ]
     },
     "execution_count": 161,
     "metadata": {},
     "output_type": "execute_result"
    },
    {
     "data": {
      "text/plain": [
       "'C:/Users/khanh/code/DATA_SCIENCE/data/clean_images/test/images/48425.jpg'"
      ]
     },
     "execution_count": 161,
     "metadata": {},
     "output_type": "execute_result"
    },
    {
     "data": {
      "text/plain": [
       "'C:/Users/khanh/code/DATA_SCIENCE/data/clean_images/test/labels/48425.txt'"
      ]
     },
     "execution_count": 161,
     "metadata": {},
     "output_type": "execute_result"
    },
    {
     "data": {
      "text/plain": [
       "'C:/Users/khanh/code/DATA_SCIENCE/data/clean_images/test/images/16944.jpg'"
      ]
     },
     "execution_count": 161,
     "metadata": {},
     "output_type": "execute_result"
    },
    {
     "data": {
      "text/plain": [
       "'C:/Users/khanh/code/DATA_SCIENCE/data/clean_images/test/labels/16944.txt'"
      ]
     },
     "execution_count": 161,
     "metadata": {},
     "output_type": "execute_result"
    },
    {
     "data": {
      "text/plain": [
       "'C:/Users/khanh/code/DATA_SCIENCE/data/clean_images/test/images/16946.jpg'"
      ]
     },
     "execution_count": 161,
     "metadata": {},
     "output_type": "execute_result"
    },
    {
     "data": {
      "text/plain": [
       "'C:/Users/khanh/code/DATA_SCIENCE/data/clean_images/test/labels/16946.txt'"
      ]
     },
     "execution_count": 161,
     "metadata": {},
     "output_type": "execute_result"
    },
    {
     "data": {
      "text/plain": [
       "'C:/Users/khanh/code/DATA_SCIENCE/data/clean_images/test/images/27399.jpg'"
      ]
     },
     "execution_count": 161,
     "metadata": {},
     "output_type": "execute_result"
    },
    {
     "data": {
      "text/plain": [
       "'C:/Users/khanh/code/DATA_SCIENCE/data/clean_images/test/labels/27399.txt'"
      ]
     },
     "execution_count": 161,
     "metadata": {},
     "output_type": "execute_result"
    },
    {
     "data": {
      "text/plain": [
       "'C:/Users/khanh/code/DATA_SCIENCE/data/clean_images/test/images/27400.jpg'"
      ]
     },
     "execution_count": 161,
     "metadata": {},
     "output_type": "execute_result"
    },
    {
     "data": {
      "text/plain": [
       "'C:/Users/khanh/code/DATA_SCIENCE/data/clean_images/test/labels/27400.txt'"
      ]
     },
     "execution_count": 161,
     "metadata": {},
     "output_type": "execute_result"
    },
    {
     "data": {
      "text/plain": [
       "'C:/Users/khanh/code/DATA_SCIENCE/data/clean_images/test/images/27402.jpg'"
      ]
     },
     "execution_count": 161,
     "metadata": {},
     "output_type": "execute_result"
    },
    {
     "data": {
      "text/plain": [
       "'C:/Users/khanh/code/DATA_SCIENCE/data/clean_images/test/labels/27402.txt'"
      ]
     },
     "execution_count": 161,
     "metadata": {},
     "output_type": "execute_result"
    },
    {
     "data": {
      "text/plain": [
       "'C:/Users/khanh/code/DATA_SCIENCE/data/clean_images/test/images/30424.jpg'"
      ]
     },
     "execution_count": 161,
     "metadata": {},
     "output_type": "execute_result"
    },
    {
     "data": {
      "text/plain": [
       "'C:/Users/khanh/code/DATA_SCIENCE/data/clean_images/test/labels/30424.txt'"
      ]
     },
     "execution_count": 161,
     "metadata": {},
     "output_type": "execute_result"
    },
    {
     "data": {
      "text/plain": [
       "'C:/Users/khanh/code/DATA_SCIENCE/data/clean_images/test/images/4860.jpg'"
      ]
     },
     "execution_count": 161,
     "metadata": {},
     "output_type": "execute_result"
    },
    {
     "data": {
      "text/plain": [
       "'C:/Users/khanh/code/DATA_SCIENCE/data/clean_images/test/labels/4860.txt'"
      ]
     },
     "execution_count": 161,
     "metadata": {},
     "output_type": "execute_result"
    },
    {
     "data": {
      "text/plain": [
       "'C:/Users/khanh/code/DATA_SCIENCE/data/clean_images/test/images/4864.jpg'"
      ]
     },
     "execution_count": 161,
     "metadata": {},
     "output_type": "execute_result"
    },
    {
     "data": {
      "text/plain": [
       "'C:/Users/khanh/code/DATA_SCIENCE/data/clean_images/test/labels/4864.txt'"
      ]
     },
     "execution_count": 161,
     "metadata": {},
     "output_type": "execute_result"
    },
    {
     "data": {
      "text/plain": [
       "'C:/Users/khanh/code/DATA_SCIENCE/data/clean_images/test/images/44230.jpg'"
      ]
     },
     "execution_count": 161,
     "metadata": {},
     "output_type": "execute_result"
    },
    {
     "data": {
      "text/plain": [
       "'C:/Users/khanh/code/DATA_SCIENCE/data/clean_images/test/labels/44230.txt'"
      ]
     },
     "execution_count": 161,
     "metadata": {},
     "output_type": "execute_result"
    },
    {
     "data": {
      "text/plain": [
       "'C:/Users/khanh/code/DATA_SCIENCE/data/clean_images/test/images/44231.jpg'"
      ]
     },
     "execution_count": 161,
     "metadata": {},
     "output_type": "execute_result"
    },
    {
     "data": {
      "text/plain": [
       "'C:/Users/khanh/code/DATA_SCIENCE/data/clean_images/test/labels/44231.txt'"
      ]
     },
     "execution_count": 161,
     "metadata": {},
     "output_type": "execute_result"
    },
    {
     "data": {
      "text/plain": [
       "'C:/Users/khanh/code/DATA_SCIENCE/data/clean_images/test/images/44233.jpg'"
      ]
     },
     "execution_count": 161,
     "metadata": {},
     "output_type": "execute_result"
    },
    {
     "data": {
      "text/plain": [
       "'C:/Users/khanh/code/DATA_SCIENCE/data/clean_images/test/labels/44233.txt'"
      ]
     },
     "execution_count": 161,
     "metadata": {},
     "output_type": "execute_result"
    },
    {
     "data": {
      "text/plain": [
       "'C:/Users/khanh/code/DATA_SCIENCE/data/clean_images/test/images/44234.jpg'"
      ]
     },
     "execution_count": 161,
     "metadata": {},
     "output_type": "execute_result"
    },
    {
     "data": {
      "text/plain": [
       "'C:/Users/khanh/code/DATA_SCIENCE/data/clean_images/test/labels/44234.txt'"
      ]
     },
     "execution_count": 161,
     "metadata": {},
     "output_type": "execute_result"
    },
    {
     "data": {
      "text/plain": [
       "'C:/Users/khanh/code/DATA_SCIENCE/data/clean_images/test/images/44235.jpg'"
      ]
     },
     "execution_count": 161,
     "metadata": {},
     "output_type": "execute_result"
    },
    {
     "data": {
      "text/plain": [
       "'C:/Users/khanh/code/DATA_SCIENCE/data/clean_images/test/labels/44235.txt'"
      ]
     },
     "execution_count": 161,
     "metadata": {},
     "output_type": "execute_result"
    },
    {
     "data": {
      "text/plain": [
       "'C:/Users/khanh/code/DATA_SCIENCE/data/clean_images/test/images/39494.jpg'"
      ]
     },
     "execution_count": 161,
     "metadata": {},
     "output_type": "execute_result"
    },
    {
     "data": {
      "text/plain": [
       "'C:/Users/khanh/code/DATA_SCIENCE/data/clean_images/test/labels/39494.txt'"
      ]
     },
     "execution_count": 161,
     "metadata": {},
     "output_type": "execute_result"
    },
    {
     "data": {
      "text/plain": [
       "'C:/Users/khanh/code/DATA_SCIENCE/data/clean_images/test/images/39495.jpg'"
      ]
     },
     "execution_count": 161,
     "metadata": {},
     "output_type": "execute_result"
    },
    {
     "data": {
      "text/plain": [
       "'C:/Users/khanh/code/DATA_SCIENCE/data/clean_images/test/labels/39495.txt'"
      ]
     },
     "execution_count": 161,
     "metadata": {},
     "output_type": "execute_result"
    },
    {
     "data": {
      "text/plain": [
       "'C:/Users/khanh/code/DATA_SCIENCE/data/clean_images/test/images/39497.jpg'"
      ]
     },
     "execution_count": 161,
     "metadata": {},
     "output_type": "execute_result"
    },
    {
     "data": {
      "text/plain": [
       "'C:/Users/khanh/code/DATA_SCIENCE/data/clean_images/test/labels/39497.txt'"
      ]
     },
     "execution_count": 161,
     "metadata": {},
     "output_type": "execute_result"
    },
    {
     "data": {
      "text/plain": [
       "'C:/Users/khanh/code/DATA_SCIENCE/data/clean_images/test/images/13468.jpg'"
      ]
     },
     "execution_count": 161,
     "metadata": {},
     "output_type": "execute_result"
    },
    {
     "data": {
      "text/plain": [
       "'C:/Users/khanh/code/DATA_SCIENCE/data/clean_images/test/labels/13468.txt'"
      ]
     },
     "execution_count": 161,
     "metadata": {},
     "output_type": "execute_result"
    },
    {
     "data": {
      "text/plain": [
       "'C:/Users/khanh/code/DATA_SCIENCE/data/clean_images/test/images/13472.jpg'"
      ]
     },
     "execution_count": 161,
     "metadata": {},
     "output_type": "execute_result"
    },
    {
     "data": {
      "text/plain": [
       "'C:/Users/khanh/code/DATA_SCIENCE/data/clean_images/test/labels/13472.txt'"
      ]
     },
     "execution_count": 161,
     "metadata": {},
     "output_type": "execute_result"
    },
    {
     "data": {
      "text/plain": [
       "'C:/Users/khanh/code/DATA_SCIENCE/data/clean_images/test/images/7108.jpg'"
      ]
     },
     "execution_count": 161,
     "metadata": {},
     "output_type": "execute_result"
    },
    {
     "data": {
      "text/plain": [
       "'C:/Users/khanh/code/DATA_SCIENCE/data/clean_images/test/labels/7108.txt'"
      ]
     },
     "execution_count": 161,
     "metadata": {},
     "output_type": "execute_result"
    },
    {
     "data": {
      "text/plain": [
       "'C:/Users/khanh/code/DATA_SCIENCE/data/clean_images/test/images/201.jpg'"
      ]
     },
     "execution_count": 161,
     "metadata": {},
     "output_type": "execute_result"
    },
    {
     "data": {
      "text/plain": [
       "'C:/Users/khanh/code/DATA_SCIENCE/data/clean_images/test/labels/201.txt'"
      ]
     },
     "execution_count": 161,
     "metadata": {},
     "output_type": "execute_result"
    },
    {
     "data": {
      "text/plain": [
       "'C:/Users/khanh/code/DATA_SCIENCE/data/clean_images/test/images/202.jpg'"
      ]
     },
     "execution_count": 161,
     "metadata": {},
     "output_type": "execute_result"
    },
    {
     "data": {
      "text/plain": [
       "'C:/Users/khanh/code/DATA_SCIENCE/data/clean_images/test/labels/202.txt'"
      ]
     },
     "execution_count": 161,
     "metadata": {},
     "output_type": "execute_result"
    },
    {
     "data": {
      "text/plain": [
       "'C:/Users/khanh/code/DATA_SCIENCE/data/clean_images/test/images/203.jpg'"
      ]
     },
     "execution_count": 161,
     "metadata": {},
     "output_type": "execute_result"
    },
    {
     "data": {
      "text/plain": [
       "'C:/Users/khanh/code/DATA_SCIENCE/data/clean_images/test/labels/203.txt'"
      ]
     },
     "execution_count": 161,
     "metadata": {},
     "output_type": "execute_result"
    },
    {
     "data": {
      "text/plain": [
       "'C:/Users/khanh/code/DATA_SCIENCE/data/clean_images/test/images/204.jpg'"
      ]
     },
     "execution_count": 161,
     "metadata": {},
     "output_type": "execute_result"
    },
    {
     "data": {
      "text/plain": [
       "'C:/Users/khanh/code/DATA_SCIENCE/data/clean_images/test/labels/204.txt'"
      ]
     },
     "execution_count": 161,
     "metadata": {},
     "output_type": "execute_result"
    },
    {
     "data": {
      "text/plain": [
       "'C:/Users/khanh/code/DATA_SCIENCE/data/clean_images/test/images/6155.jpg'"
      ]
     },
     "execution_count": 161,
     "metadata": {},
     "output_type": "execute_result"
    },
    {
     "data": {
      "text/plain": [
       "'C:/Users/khanh/code/DATA_SCIENCE/data/clean_images/test/labels/6155.txt'"
      ]
     },
     "execution_count": 161,
     "metadata": {},
     "output_type": "execute_result"
    },
    {
     "data": {
      "text/plain": [
       "'C:/Users/khanh/code/DATA_SCIENCE/data/clean_images/test/images/6156.jpg'"
      ]
     },
     "execution_count": 161,
     "metadata": {},
     "output_type": "execute_result"
    },
    {
     "data": {
      "text/plain": [
       "'C:/Users/khanh/code/DATA_SCIENCE/data/clean_images/test/labels/6156.txt'"
      ]
     },
     "execution_count": 161,
     "metadata": {},
     "output_type": "execute_result"
    },
    {
     "data": {
      "text/plain": [
       "'C:/Users/khanh/code/DATA_SCIENCE/data/clean_images/test/images/44055.jpg'"
      ]
     },
     "execution_count": 161,
     "metadata": {},
     "output_type": "execute_result"
    },
    {
     "data": {
      "text/plain": [
       "'C:/Users/khanh/code/DATA_SCIENCE/data/clean_images/test/labels/44055.txt'"
      ]
     },
     "execution_count": 161,
     "metadata": {},
     "output_type": "execute_result"
    },
    {
     "data": {
      "text/plain": [
       "'C:/Users/khanh/code/DATA_SCIENCE/data/clean_images/test/images/44056.jpg'"
      ]
     },
     "execution_count": 161,
     "metadata": {},
     "output_type": "execute_result"
    },
    {
     "data": {
      "text/plain": [
       "'C:/Users/khanh/code/DATA_SCIENCE/data/clean_images/test/labels/44056.txt'"
      ]
     },
     "execution_count": 161,
     "metadata": {},
     "output_type": "execute_result"
    },
    {
     "data": {
      "text/plain": [
       "'C:/Users/khanh/code/DATA_SCIENCE/data/clean_images/test/images/44057.jpg'"
      ]
     },
     "execution_count": 161,
     "metadata": {},
     "output_type": "execute_result"
    },
    {
     "data": {
      "text/plain": [
       "'C:/Users/khanh/code/DATA_SCIENCE/data/clean_images/test/labels/44057.txt'"
      ]
     },
     "execution_count": 161,
     "metadata": {},
     "output_type": "execute_result"
    },
    {
     "data": {
      "text/plain": [
       "'C:/Users/khanh/code/DATA_SCIENCE/data/clean_images/test/images/7088.jpg'"
      ]
     },
     "execution_count": 161,
     "metadata": {},
     "output_type": "execute_result"
    },
    {
     "data": {
      "text/plain": [
       "'C:/Users/khanh/code/DATA_SCIENCE/data/clean_images/test/labels/7088.txt'"
      ]
     },
     "execution_count": 161,
     "metadata": {},
     "output_type": "execute_result"
    },
    {
     "data": {
      "text/plain": [
       "'C:/Users/khanh/code/DATA_SCIENCE/data/clean_images/test/images/7089.jpg'"
      ]
     },
     "execution_count": 161,
     "metadata": {},
     "output_type": "execute_result"
    },
    {
     "data": {
      "text/plain": [
       "'C:/Users/khanh/code/DATA_SCIENCE/data/clean_images/test/labels/7089.txt'"
      ]
     },
     "execution_count": 161,
     "metadata": {},
     "output_type": "execute_result"
    },
    {
     "data": {
      "text/plain": [
       "'C:/Users/khanh/code/DATA_SCIENCE/data/clean_images/test/images/7090.jpg'"
      ]
     },
     "execution_count": 161,
     "metadata": {},
     "output_type": "execute_result"
    },
    {
     "data": {
      "text/plain": [
       "'C:/Users/khanh/code/DATA_SCIENCE/data/clean_images/test/labels/7090.txt'"
      ]
     },
     "execution_count": 161,
     "metadata": {},
     "output_type": "execute_result"
    },
    {
     "data": {
      "text/plain": [
       "'C:/Users/khanh/code/DATA_SCIENCE/data/clean_images/test/images/30623.jpg'"
      ]
     },
     "execution_count": 161,
     "metadata": {},
     "output_type": "execute_result"
    },
    {
     "data": {
      "text/plain": [
       "'C:/Users/khanh/code/DATA_SCIENCE/data/clean_images/test/labels/30623.txt'"
      ]
     },
     "execution_count": 161,
     "metadata": {},
     "output_type": "execute_result"
    },
    {
     "data": {
      "text/plain": [
       "'C:/Users/khanh/code/DATA_SCIENCE/data/clean_images/test/images/30624.jpg'"
      ]
     },
     "execution_count": 161,
     "metadata": {},
     "output_type": "execute_result"
    },
    {
     "data": {
      "text/plain": [
       "'C:/Users/khanh/code/DATA_SCIENCE/data/clean_images/test/labels/30624.txt'"
      ]
     },
     "execution_count": 161,
     "metadata": {},
     "output_type": "execute_result"
    },
    {
     "data": {
      "text/plain": [
       "'C:/Users/khanh/code/DATA_SCIENCE/data/clean_images/test/images/30625.jpg'"
      ]
     },
     "execution_count": 161,
     "metadata": {},
     "output_type": "execute_result"
    },
    {
     "data": {
      "text/plain": [
       "'C:/Users/khanh/code/DATA_SCIENCE/data/clean_images/test/labels/30625.txt'"
      ]
     },
     "execution_count": 161,
     "metadata": {},
     "output_type": "execute_result"
    },
    {
     "data": {
      "text/plain": [
       "'C:/Users/khanh/code/DATA_SCIENCE/data/clean_images/test/images/30626.jpg'"
      ]
     },
     "execution_count": 161,
     "metadata": {},
     "output_type": "execute_result"
    },
    {
     "data": {
      "text/plain": [
       "'C:/Users/khanh/code/DATA_SCIENCE/data/clean_images/test/labels/30626.txt'"
      ]
     },
     "execution_count": 161,
     "metadata": {},
     "output_type": "execute_result"
    },
    {
     "data": {
      "text/plain": [
       "'C:/Users/khanh/code/DATA_SCIENCE/data/clean_images/test/images/30627.jpg'"
      ]
     },
     "execution_count": 161,
     "metadata": {},
     "output_type": "execute_result"
    },
    {
     "data": {
      "text/plain": [
       "'C:/Users/khanh/code/DATA_SCIENCE/data/clean_images/test/labels/30627.txt'"
      ]
     },
     "execution_count": 161,
     "metadata": {},
     "output_type": "execute_result"
    },
    {
     "data": {
      "text/plain": [
       "'C:/Users/khanh/code/DATA_SCIENCE/data/clean_images/test/images/30628.jpg'"
      ]
     },
     "execution_count": 161,
     "metadata": {},
     "output_type": "execute_result"
    },
    {
     "data": {
      "text/plain": [
       "'C:/Users/khanh/code/DATA_SCIENCE/data/clean_images/test/labels/30628.txt'"
      ]
     },
     "execution_count": 161,
     "metadata": {},
     "output_type": "execute_result"
    },
    {
     "data": {
      "text/plain": [
       "'C:/Users/khanh/code/DATA_SCIENCE/data/clean_images/test/images/1663.jpg'"
      ]
     },
     "execution_count": 161,
     "metadata": {},
     "output_type": "execute_result"
    },
    {
     "data": {
      "text/plain": [
       "'C:/Users/khanh/code/DATA_SCIENCE/data/clean_images/test/labels/1663.txt'"
      ]
     },
     "execution_count": 161,
     "metadata": {},
     "output_type": "execute_result"
    },
    {
     "data": {
      "text/plain": [
       "'C:/Users/khanh/code/DATA_SCIENCE/data/clean_images/test/images/52272.jpg'"
      ]
     },
     "execution_count": 161,
     "metadata": {},
     "output_type": "execute_result"
    },
    {
     "data": {
      "text/plain": [
       "'C:/Users/khanh/code/DATA_SCIENCE/data/clean_images/test/labels/52272.txt'"
      ]
     },
     "execution_count": 161,
     "metadata": {},
     "output_type": "execute_result"
    },
    {
     "data": {
      "text/plain": [
       "'C:/Users/khanh/code/DATA_SCIENCE/data/clean_images/test/images/52274.jpg'"
      ]
     },
     "execution_count": 161,
     "metadata": {},
     "output_type": "execute_result"
    },
    {
     "data": {
      "text/plain": [
       "'C:/Users/khanh/code/DATA_SCIENCE/data/clean_images/test/labels/52274.txt'"
      ]
     },
     "execution_count": 161,
     "metadata": {},
     "output_type": "execute_result"
    },
    {
     "data": {
      "text/plain": [
       "'C:/Users/khanh/code/DATA_SCIENCE/data/clean_images/test/images/29688.jpg'"
      ]
     },
     "execution_count": 161,
     "metadata": {},
     "output_type": "execute_result"
    },
    {
     "data": {
      "text/plain": [
       "'C:/Users/khanh/code/DATA_SCIENCE/data/clean_images/test/labels/29688.txt'"
      ]
     },
     "execution_count": 161,
     "metadata": {},
     "output_type": "execute_result"
    },
    {
     "data": {
      "text/plain": [
       "'C:/Users/khanh/code/DATA_SCIENCE/data/clean_images/test/images/29689.jpg'"
      ]
     },
     "execution_count": 161,
     "metadata": {},
     "output_type": "execute_result"
    },
    {
     "data": {
      "text/plain": [
       "'C:/Users/khanh/code/DATA_SCIENCE/data/clean_images/test/labels/29689.txt'"
      ]
     },
     "execution_count": 161,
     "metadata": {},
     "output_type": "execute_result"
    },
    {
     "data": {
      "text/plain": [
       "'C:/Users/khanh/code/DATA_SCIENCE/data/clean_images/test/images/5313.jpg'"
      ]
     },
     "execution_count": 161,
     "metadata": {},
     "output_type": "execute_result"
    },
    {
     "data": {
      "text/plain": [
       "'C:/Users/khanh/code/DATA_SCIENCE/data/clean_images/test/labels/5313.txt'"
      ]
     },
     "execution_count": 161,
     "metadata": {},
     "output_type": "execute_result"
    },
    {
     "data": {
      "text/plain": [
       "'C:/Users/khanh/code/DATA_SCIENCE/data/clean_images/test/images/26124.jpg'"
      ]
     },
     "execution_count": 161,
     "metadata": {},
     "output_type": "execute_result"
    },
    {
     "data": {
      "text/plain": [
       "'C:/Users/khanh/code/DATA_SCIENCE/data/clean_images/test/labels/26124.txt'"
      ]
     },
     "execution_count": 161,
     "metadata": {},
     "output_type": "execute_result"
    },
    {
     "data": {
      "text/plain": [
       "'C:/Users/khanh/code/DATA_SCIENCE/data/clean_images/test/images/26125.jpg'"
      ]
     },
     "execution_count": 161,
     "metadata": {},
     "output_type": "execute_result"
    },
    {
     "data": {
      "text/plain": [
       "'C:/Users/khanh/code/DATA_SCIENCE/data/clean_images/test/labels/26125.txt'"
      ]
     },
     "execution_count": 161,
     "metadata": {},
     "output_type": "execute_result"
    },
    {
     "data": {
      "text/plain": [
       "'C:/Users/khanh/code/DATA_SCIENCE/data/clean_images/test/images/26126.jpg'"
      ]
     },
     "execution_count": 161,
     "metadata": {},
     "output_type": "execute_result"
    },
    {
     "data": {
      "text/plain": [
       "'C:/Users/khanh/code/DATA_SCIENCE/data/clean_images/test/labels/26126.txt'"
      ]
     },
     "execution_count": 161,
     "metadata": {},
     "output_type": "execute_result"
    },
    {
     "data": {
      "text/plain": [
       "'C:/Users/khanh/code/DATA_SCIENCE/data/clean_images/test/images/22778.jpg'"
      ]
     },
     "execution_count": 161,
     "metadata": {},
     "output_type": "execute_result"
    },
    {
     "data": {
      "text/plain": [
       "'C:/Users/khanh/code/DATA_SCIENCE/data/clean_images/test/labels/22778.txt'"
      ]
     },
     "execution_count": 161,
     "metadata": {},
     "output_type": "execute_result"
    },
    {
     "data": {
      "text/plain": [
       "'C:/Users/khanh/code/DATA_SCIENCE/data/clean_images/test/images/54896.jpg'"
      ]
     },
     "execution_count": 161,
     "metadata": {},
     "output_type": "execute_result"
    },
    {
     "data": {
      "text/plain": [
       "'C:/Users/khanh/code/DATA_SCIENCE/data/clean_images/test/labels/54896.txt'"
      ]
     },
     "execution_count": 161,
     "metadata": {},
     "output_type": "execute_result"
    },
    {
     "data": {
      "text/plain": [
       "'C:/Users/khanh/code/DATA_SCIENCE/data/clean_images/test/images/54897.jpg'"
      ]
     },
     "execution_count": 161,
     "metadata": {},
     "output_type": "execute_result"
    },
    {
     "data": {
      "text/plain": [
       "'C:/Users/khanh/code/DATA_SCIENCE/data/clean_images/test/labels/54897.txt'"
      ]
     },
     "execution_count": 161,
     "metadata": {},
     "output_type": "execute_result"
    },
    {
     "data": {
      "text/plain": [
       "'C:/Users/khanh/code/DATA_SCIENCE/data/clean_images/test/images/54899.jpg'"
      ]
     },
     "execution_count": 161,
     "metadata": {},
     "output_type": "execute_result"
    },
    {
     "data": {
      "text/plain": [
       "'C:/Users/khanh/code/DATA_SCIENCE/data/clean_images/test/labels/54899.txt'"
      ]
     },
     "execution_count": 161,
     "metadata": {},
     "output_type": "execute_result"
    },
    {
     "data": {
      "text/plain": [
       "'C:/Users/khanh/code/DATA_SCIENCE/data/clean_images/test/images/6728.jpg'"
      ]
     },
     "execution_count": 161,
     "metadata": {},
     "output_type": "execute_result"
    },
    {
     "data": {
      "text/plain": [
       "'C:/Users/khanh/code/DATA_SCIENCE/data/clean_images/test/labels/6728.txt'"
      ]
     },
     "execution_count": 161,
     "metadata": {},
     "output_type": "execute_result"
    },
    {
     "data": {
      "text/plain": [
       "'C:/Users/khanh/code/DATA_SCIENCE/data/clean_images/test/images/42138.jpg'"
      ]
     },
     "execution_count": 161,
     "metadata": {},
     "output_type": "execute_result"
    },
    {
     "data": {
      "text/plain": [
       "'C:/Users/khanh/code/DATA_SCIENCE/data/clean_images/test/labels/42138.txt'"
      ]
     },
     "execution_count": 161,
     "metadata": {},
     "output_type": "execute_result"
    },
    {
     "data": {
      "text/plain": [
       "'C:/Users/khanh/code/DATA_SCIENCE/data/clean_images/test/images/42140.jpg'"
      ]
     },
     "execution_count": 161,
     "metadata": {},
     "output_type": "execute_result"
    },
    {
     "data": {
      "text/plain": [
       "'C:/Users/khanh/code/DATA_SCIENCE/data/clean_images/test/labels/42140.txt'"
      ]
     },
     "execution_count": 161,
     "metadata": {},
     "output_type": "execute_result"
    },
    {
     "data": {
      "text/plain": [
       "'C:/Users/khanh/code/DATA_SCIENCE/data/clean_images/test/images/42142.jpg'"
      ]
     },
     "execution_count": 161,
     "metadata": {},
     "output_type": "execute_result"
    },
    {
     "data": {
      "text/plain": [
       "'C:/Users/khanh/code/DATA_SCIENCE/data/clean_images/test/labels/42142.txt'"
      ]
     },
     "execution_count": 161,
     "metadata": {},
     "output_type": "execute_result"
    },
    {
     "data": {
      "text/plain": [
       "'C:/Users/khanh/code/DATA_SCIENCE/data/clean_images/test/images/22936.jpg'"
      ]
     },
     "execution_count": 161,
     "metadata": {},
     "output_type": "execute_result"
    },
    {
     "data": {
      "text/plain": [
       "'C:/Users/khanh/code/DATA_SCIENCE/data/clean_images/test/labels/22936.txt'"
      ]
     },
     "execution_count": 161,
     "metadata": {},
     "output_type": "execute_result"
    },
    {
     "data": {
      "text/plain": [
       "'C:/Users/khanh/code/DATA_SCIENCE/data/clean_images/test/images/22938.jpg'"
      ]
     },
     "execution_count": 161,
     "metadata": {},
     "output_type": "execute_result"
    },
    {
     "data": {
      "text/plain": [
       "'C:/Users/khanh/code/DATA_SCIENCE/data/clean_images/test/labels/22938.txt'"
      ]
     },
     "execution_count": 161,
     "metadata": {},
     "output_type": "execute_result"
    },
    {
     "data": {
      "text/plain": [
       "'C:/Users/khanh/code/DATA_SCIENCE/data/clean_images/test/images/22939.jpg'"
      ]
     },
     "execution_count": 161,
     "metadata": {},
     "output_type": "execute_result"
    },
    {
     "data": {
      "text/plain": [
       "'C:/Users/khanh/code/DATA_SCIENCE/data/clean_images/test/labels/22939.txt'"
      ]
     },
     "execution_count": 161,
     "metadata": {},
     "output_type": "execute_result"
    },
    {
     "data": {
      "text/plain": [
       "'C:/Users/khanh/code/DATA_SCIENCE/data/clean_images/test/images/22940.jpg'"
      ]
     },
     "execution_count": 161,
     "metadata": {},
     "output_type": "execute_result"
    },
    {
     "data": {
      "text/plain": [
       "'C:/Users/khanh/code/DATA_SCIENCE/data/clean_images/test/labels/22940.txt'"
      ]
     },
     "execution_count": 161,
     "metadata": {},
     "output_type": "execute_result"
    },
    {
     "data": {
      "text/plain": [
       "'C:/Users/khanh/code/DATA_SCIENCE/data/clean_images/test/images/6214.jpg'"
      ]
     },
     "execution_count": 161,
     "metadata": {},
     "output_type": "execute_result"
    },
    {
     "data": {
      "text/plain": [
       "'C:/Users/khanh/code/DATA_SCIENCE/data/clean_images/test/labels/6214.txt'"
      ]
     },
     "execution_count": 161,
     "metadata": {},
     "output_type": "execute_result"
    },
    {
     "data": {
      "text/plain": [
       "'C:/Users/khanh/code/DATA_SCIENCE/data/clean_images/test/images/6215.jpg'"
      ]
     },
     "execution_count": 161,
     "metadata": {},
     "output_type": "execute_result"
    },
    {
     "data": {
      "text/plain": [
       "'C:/Users/khanh/code/DATA_SCIENCE/data/clean_images/test/labels/6215.txt'"
      ]
     },
     "execution_count": 161,
     "metadata": {},
     "output_type": "execute_result"
    },
    {
     "data": {
      "text/plain": [
       "'C:/Users/khanh/code/DATA_SCIENCE/data/clean_images/test/images/6216.jpg'"
      ]
     },
     "execution_count": 161,
     "metadata": {},
     "output_type": "execute_result"
    },
    {
     "data": {
      "text/plain": [
       "'C:/Users/khanh/code/DATA_SCIENCE/data/clean_images/test/labels/6216.txt'"
      ]
     },
     "execution_count": 161,
     "metadata": {},
     "output_type": "execute_result"
    },
    {
     "data": {
      "text/plain": [
       "'C:/Users/khanh/code/DATA_SCIENCE/data/clean_images/test/images/6217.jpg'"
      ]
     },
     "execution_count": 161,
     "metadata": {},
     "output_type": "execute_result"
    },
    {
     "data": {
      "text/plain": [
       "'C:/Users/khanh/code/DATA_SCIENCE/data/clean_images/test/labels/6217.txt'"
      ]
     },
     "execution_count": 161,
     "metadata": {},
     "output_type": "execute_result"
    },
    {
     "data": {
      "text/plain": [
       "'C:/Users/khanh/code/DATA_SCIENCE/data/clean_images/test/images/6218.jpg'"
      ]
     },
     "execution_count": 161,
     "metadata": {},
     "output_type": "execute_result"
    },
    {
     "data": {
      "text/plain": [
       "'C:/Users/khanh/code/DATA_SCIENCE/data/clean_images/test/labels/6218.txt'"
      ]
     },
     "execution_count": 161,
     "metadata": {},
     "output_type": "execute_result"
    },
    {
     "data": {
      "text/plain": [
       "'C:/Users/khanh/code/DATA_SCIENCE/data/clean_images/test/images/6219.jpg'"
      ]
     },
     "execution_count": 161,
     "metadata": {},
     "output_type": "execute_result"
    },
    {
     "data": {
      "text/plain": [
       "'C:/Users/khanh/code/DATA_SCIENCE/data/clean_images/test/labels/6219.txt'"
      ]
     },
     "execution_count": 161,
     "metadata": {},
     "output_type": "execute_result"
    },
    {
     "data": {
      "text/plain": [
       "'C:/Users/khanh/code/DATA_SCIENCE/data/clean_images/test/images/44635.jpg'"
      ]
     },
     "execution_count": 161,
     "metadata": {},
     "output_type": "execute_result"
    },
    {
     "data": {
      "text/plain": [
       "'C:/Users/khanh/code/DATA_SCIENCE/data/clean_images/test/labels/44635.txt'"
      ]
     },
     "execution_count": 161,
     "metadata": {},
     "output_type": "execute_result"
    },
    {
     "data": {
      "text/plain": [
       "'C:/Users/khanh/code/DATA_SCIENCE/data/clean_images/test/images/44636.jpg'"
      ]
     },
     "execution_count": 161,
     "metadata": {},
     "output_type": "execute_result"
    },
    {
     "data": {
      "text/plain": [
       "'C:/Users/khanh/code/DATA_SCIENCE/data/clean_images/test/labels/44636.txt'"
      ]
     },
     "execution_count": 161,
     "metadata": {},
     "output_type": "execute_result"
    },
    {
     "data": {
      "text/plain": [
       "'C:/Users/khanh/code/DATA_SCIENCE/data/clean_images/test/images/44637.jpg'"
      ]
     },
     "execution_count": 161,
     "metadata": {},
     "output_type": "execute_result"
    },
    {
     "data": {
      "text/plain": [
       "'C:/Users/khanh/code/DATA_SCIENCE/data/clean_images/test/labels/44637.txt'"
      ]
     },
     "execution_count": 161,
     "metadata": {},
     "output_type": "execute_result"
    },
    {
     "data": {
      "text/plain": [
       "'C:/Users/khanh/code/DATA_SCIENCE/data/clean_images/test/images/23471.jpg'"
      ]
     },
     "execution_count": 161,
     "metadata": {},
     "output_type": "execute_result"
    },
    {
     "data": {
      "text/plain": [
       "'C:/Users/khanh/code/DATA_SCIENCE/data/clean_images/test/labels/23471.txt'"
      ]
     },
     "execution_count": 161,
     "metadata": {},
     "output_type": "execute_result"
    },
    {
     "data": {
      "text/plain": [
       "'C:/Users/khanh/code/DATA_SCIENCE/data/clean_images/test/images/14644.jpg'"
      ]
     },
     "execution_count": 161,
     "metadata": {},
     "output_type": "execute_result"
    },
    {
     "data": {
      "text/plain": [
       "'C:/Users/khanh/code/DATA_SCIENCE/data/clean_images/test/labels/14644.txt'"
      ]
     },
     "execution_count": 161,
     "metadata": {},
     "output_type": "execute_result"
    },
    {
     "data": {
      "text/plain": [
       "'C:/Users/khanh/code/DATA_SCIENCE/data/clean_images/test/images/14646.jpg'"
      ]
     },
     "execution_count": 161,
     "metadata": {},
     "output_type": "execute_result"
    },
    {
     "data": {
      "text/plain": [
       "'C:/Users/khanh/code/DATA_SCIENCE/data/clean_images/test/labels/14646.txt'"
      ]
     },
     "execution_count": 161,
     "metadata": {},
     "output_type": "execute_result"
    },
    {
     "data": {
      "text/plain": [
       "'C:/Users/khanh/code/DATA_SCIENCE/data/clean_images/test/images/40657.jpg'"
      ]
     },
     "execution_count": 161,
     "metadata": {},
     "output_type": "execute_result"
    },
    {
     "data": {
      "text/plain": [
       "'C:/Users/khanh/code/DATA_SCIENCE/data/clean_images/test/labels/40657.txt'"
      ]
     },
     "execution_count": 161,
     "metadata": {},
     "output_type": "execute_result"
    },
    {
     "data": {
      "text/plain": [
       "'C:/Users/khanh/code/DATA_SCIENCE/data/clean_images/test/images/40658.jpg'"
      ]
     },
     "execution_count": 161,
     "metadata": {},
     "output_type": "execute_result"
    },
    {
     "data": {
      "text/plain": [
       "'C:/Users/khanh/code/DATA_SCIENCE/data/clean_images/test/labels/40658.txt'"
      ]
     },
     "execution_count": 161,
     "metadata": {},
     "output_type": "execute_result"
    },
    {
     "data": {
      "text/plain": [
       "'C:/Users/khanh/code/DATA_SCIENCE/data/clean_images/test/images/40659.jpg'"
      ]
     },
     "execution_count": 161,
     "metadata": {},
     "output_type": "execute_result"
    },
    {
     "data": {
      "text/plain": [
       "'C:/Users/khanh/code/DATA_SCIENCE/data/clean_images/test/labels/40659.txt'"
      ]
     },
     "execution_count": 161,
     "metadata": {},
     "output_type": "execute_result"
    },
    {
     "data": {
      "text/plain": [
       "'C:/Users/khanh/code/DATA_SCIENCE/data/clean_images/test/images/40660.jpg'"
      ]
     },
     "execution_count": 161,
     "metadata": {},
     "output_type": "execute_result"
    },
    {
     "data": {
      "text/plain": [
       "'C:/Users/khanh/code/DATA_SCIENCE/data/clean_images/test/labels/40660.txt'"
      ]
     },
     "execution_count": 161,
     "metadata": {},
     "output_type": "execute_result"
    },
    {
     "data": {
      "text/plain": [
       "'C:/Users/khanh/code/DATA_SCIENCE/data/clean_images/test/images/40662.jpg'"
      ]
     },
     "execution_count": 161,
     "metadata": {},
     "output_type": "execute_result"
    },
    {
     "data": {
      "text/plain": [
       "'C:/Users/khanh/code/DATA_SCIENCE/data/clean_images/test/labels/40662.txt'"
      ]
     },
     "execution_count": 161,
     "metadata": {},
     "output_type": "execute_result"
    },
    {
     "data": {
      "text/plain": [
       "'C:/Users/khanh/code/DATA_SCIENCE/data/clean_images/test/images/4147.jpg'"
      ]
     },
     "execution_count": 161,
     "metadata": {},
     "output_type": "execute_result"
    },
    {
     "data": {
      "text/plain": [
       "'C:/Users/khanh/code/DATA_SCIENCE/data/clean_images/test/labels/4147.txt'"
      ]
     },
     "execution_count": 161,
     "metadata": {},
     "output_type": "execute_result"
    },
    {
     "data": {
      "text/plain": [
       "'C:/Users/khanh/code/DATA_SCIENCE/data/clean_images/test/images/4148.jpg'"
      ]
     },
     "execution_count": 161,
     "metadata": {},
     "output_type": "execute_result"
    },
    {
     "data": {
      "text/plain": [
       "'C:/Users/khanh/code/DATA_SCIENCE/data/clean_images/test/labels/4148.txt'"
      ]
     },
     "execution_count": 161,
     "metadata": {},
     "output_type": "execute_result"
    },
    {
     "data": {
      "text/plain": [
       "'C:/Users/khanh/code/DATA_SCIENCE/data/clean_images/test/images/4711.jpg'"
      ]
     },
     "execution_count": 161,
     "metadata": {},
     "output_type": "execute_result"
    },
    {
     "data": {
      "text/plain": [
       "'C:/Users/khanh/code/DATA_SCIENCE/data/clean_images/test/labels/4711.txt'"
      ]
     },
     "execution_count": 161,
     "metadata": {},
     "output_type": "execute_result"
    },
    {
     "data": {
      "text/plain": [
       "'C:/Users/khanh/code/DATA_SCIENCE/data/clean_images/test/images/46940.jpg'"
      ]
     },
     "execution_count": 161,
     "metadata": {},
     "output_type": "execute_result"
    },
    {
     "data": {
      "text/plain": [
       "'C:/Users/khanh/code/DATA_SCIENCE/data/clean_images/test/labels/46940.txt'"
      ]
     },
     "execution_count": 161,
     "metadata": {},
     "output_type": "execute_result"
    },
    {
     "data": {
      "text/plain": [
       "'C:/Users/khanh/code/DATA_SCIENCE/data/clean_images/test/images/46942.jpg'"
      ]
     },
     "execution_count": 161,
     "metadata": {},
     "output_type": "execute_result"
    },
    {
     "data": {
      "text/plain": [
       "'C:/Users/khanh/code/DATA_SCIENCE/data/clean_images/test/labels/46942.txt'"
      ]
     },
     "execution_count": 161,
     "metadata": {},
     "output_type": "execute_result"
    },
    {
     "data": {
      "text/plain": [
       "'C:/Users/khanh/code/DATA_SCIENCE/data/clean_images/test/images/46943.jpg'"
      ]
     },
     "execution_count": 161,
     "metadata": {},
     "output_type": "execute_result"
    },
    {
     "data": {
      "text/plain": [
       "'C:/Users/khanh/code/DATA_SCIENCE/data/clean_images/test/labels/46943.txt'"
      ]
     },
     "execution_count": 161,
     "metadata": {},
     "output_type": "execute_result"
    },
    {
     "data": {
      "text/plain": [
       "'C:/Users/khanh/code/DATA_SCIENCE/data/clean_images/test/images/7701.jpg'"
      ]
     },
     "execution_count": 161,
     "metadata": {},
     "output_type": "execute_result"
    },
    {
     "data": {
      "text/plain": [
       "'C:/Users/khanh/code/DATA_SCIENCE/data/clean_images/test/labels/7701.txt'"
      ]
     },
     "execution_count": 161,
     "metadata": {},
     "output_type": "execute_result"
    },
    {
     "data": {
      "text/plain": [
       "'C:/Users/khanh/code/DATA_SCIENCE/data/clean_images/test/images/33413.jpg'"
      ]
     },
     "execution_count": 161,
     "metadata": {},
     "output_type": "execute_result"
    },
    {
     "data": {
      "text/plain": [
       "'C:/Users/khanh/code/DATA_SCIENCE/data/clean_images/test/labels/33413.txt'"
      ]
     },
     "execution_count": 161,
     "metadata": {},
     "output_type": "execute_result"
    },
    {
     "data": {
      "text/plain": [
       "'C:/Users/khanh/code/DATA_SCIENCE/data/clean_images/test/images/33417.jpg'"
      ]
     },
     "execution_count": 161,
     "metadata": {},
     "output_type": "execute_result"
    },
    {
     "data": {
      "text/plain": [
       "'C:/Users/khanh/code/DATA_SCIENCE/data/clean_images/test/labels/33417.txt'"
      ]
     },
     "execution_count": 161,
     "metadata": {},
     "output_type": "execute_result"
    },
    {
     "data": {
      "text/plain": [
       "'C:/Users/khanh/code/DATA_SCIENCE/data/clean_images/test/images/33418.jpg'"
      ]
     },
     "execution_count": 161,
     "metadata": {},
     "output_type": "execute_result"
    },
    {
     "data": {
      "text/plain": [
       "'C:/Users/khanh/code/DATA_SCIENCE/data/clean_images/test/labels/33418.txt'"
      ]
     },
     "execution_count": 161,
     "metadata": {},
     "output_type": "execute_result"
    },
    {
     "data": {
      "text/plain": [
       "'C:/Users/khanh/code/DATA_SCIENCE/data/clean_images/test/images/53762.jpg'"
      ]
     },
     "execution_count": 161,
     "metadata": {},
     "output_type": "execute_result"
    },
    {
     "data": {
      "text/plain": [
       "'C:/Users/khanh/code/DATA_SCIENCE/data/clean_images/test/labels/53762.txt'"
      ]
     },
     "execution_count": 161,
     "metadata": {},
     "output_type": "execute_result"
    },
    {
     "data": {
      "text/plain": [
       "'C:/Users/khanh/code/DATA_SCIENCE/data/clean_images/test/images/53765.jpg'"
      ]
     },
     "execution_count": 161,
     "metadata": {},
     "output_type": "execute_result"
    },
    {
     "data": {
      "text/plain": [
       "'C:/Users/khanh/code/DATA_SCIENCE/data/clean_images/test/labels/53765.txt'"
      ]
     },
     "execution_count": 161,
     "metadata": {},
     "output_type": "execute_result"
    },
    {
     "data": {
      "text/plain": [
       "'C:/Users/khanh/code/DATA_SCIENCE/data/clean_images/test/images/53767.jpg'"
      ]
     },
     "execution_count": 161,
     "metadata": {},
     "output_type": "execute_result"
    },
    {
     "data": {
      "text/plain": [
       "'C:/Users/khanh/code/DATA_SCIENCE/data/clean_images/test/labels/53767.txt'"
      ]
     },
     "execution_count": 161,
     "metadata": {},
     "output_type": "execute_result"
    },
    {
     "data": {
      "text/plain": [
       "'C:/Users/khanh/code/DATA_SCIENCE/data/clean_images/test/images/28139.jpg'"
      ]
     },
     "execution_count": 161,
     "metadata": {},
     "output_type": "execute_result"
    },
    {
     "data": {
      "text/plain": [
       "'C:/Users/khanh/code/DATA_SCIENCE/data/clean_images/test/labels/28139.txt'"
      ]
     },
     "execution_count": 161,
     "metadata": {},
     "output_type": "execute_result"
    },
    {
     "data": {
      "text/plain": [
       "'C:/Users/khanh/code/DATA_SCIENCE/data/clean_images/test/images/28140.jpg'"
      ]
     },
     "execution_count": 161,
     "metadata": {},
     "output_type": "execute_result"
    },
    {
     "data": {
      "text/plain": [
       "'C:/Users/khanh/code/DATA_SCIENCE/data/clean_images/test/labels/28140.txt'"
      ]
     },
     "execution_count": 161,
     "metadata": {},
     "output_type": "execute_result"
    },
    {
     "data": {
      "text/plain": [
       "'C:/Users/khanh/code/DATA_SCIENCE/data/clean_images/test/images/28141.jpg'"
      ]
     },
     "execution_count": 161,
     "metadata": {},
     "output_type": "execute_result"
    },
    {
     "data": {
      "text/plain": [
       "'C:/Users/khanh/code/DATA_SCIENCE/data/clean_images/test/labels/28141.txt'"
      ]
     },
     "execution_count": 161,
     "metadata": {},
     "output_type": "execute_result"
    },
    {
     "data": {
      "text/plain": [
       "'C:/Users/khanh/code/DATA_SCIENCE/data/clean_images/test/images/28143.jpg'"
      ]
     },
     "execution_count": 161,
     "metadata": {},
     "output_type": "execute_result"
    },
    {
     "data": {
      "text/plain": [
       "'C:/Users/khanh/code/DATA_SCIENCE/data/clean_images/test/labels/28143.txt'"
      ]
     },
     "execution_count": 161,
     "metadata": {},
     "output_type": "execute_result"
    },
    {
     "data": {
      "text/plain": [
       "'C:/Users/khanh/code/DATA_SCIENCE/data/clean_images/test/images/28144.jpg'"
      ]
     },
     "execution_count": 161,
     "metadata": {},
     "output_type": "execute_result"
    },
    {
     "data": {
      "text/plain": [
       "'C:/Users/khanh/code/DATA_SCIENCE/data/clean_images/test/labels/28144.txt'"
      ]
     },
     "execution_count": 161,
     "metadata": {},
     "output_type": "execute_result"
    },
    {
     "data": {
      "text/plain": [
       "'C:/Users/khanh/code/DATA_SCIENCE/data/clean_images/test/images/41567.jpg'"
      ]
     },
     "execution_count": 161,
     "metadata": {},
     "output_type": "execute_result"
    },
    {
     "data": {
      "text/plain": [
       "'C:/Users/khanh/code/DATA_SCIENCE/data/clean_images/test/labels/41567.txt'"
      ]
     },
     "execution_count": 161,
     "metadata": {},
     "output_type": "execute_result"
    },
    {
     "data": {
      "text/plain": [
       "'C:/Users/khanh/code/DATA_SCIENCE/data/clean_images/test/images/41568.jpg'"
      ]
     },
     "execution_count": 161,
     "metadata": {},
     "output_type": "execute_result"
    },
    {
     "data": {
      "text/plain": [
       "'C:/Users/khanh/code/DATA_SCIENCE/data/clean_images/test/labels/41568.txt'"
      ]
     },
     "execution_count": 161,
     "metadata": {},
     "output_type": "execute_result"
    },
    {
     "data": {
      "text/plain": [
       "'C:/Users/khanh/code/DATA_SCIENCE/data/clean_images/test/images/41569.jpg'"
      ]
     },
     "execution_count": 161,
     "metadata": {},
     "output_type": "execute_result"
    },
    {
     "data": {
      "text/plain": [
       "'C:/Users/khanh/code/DATA_SCIENCE/data/clean_images/test/labels/41569.txt'"
      ]
     },
     "execution_count": 161,
     "metadata": {},
     "output_type": "execute_result"
    },
    {
     "data": {
      "text/plain": [
       "'C:/Users/khanh/code/DATA_SCIENCE/data/clean_images/test/images/41571.jpg'"
      ]
     },
     "execution_count": 161,
     "metadata": {},
     "output_type": "execute_result"
    },
    {
     "data": {
      "text/plain": [
       "'C:/Users/khanh/code/DATA_SCIENCE/data/clean_images/test/labels/41571.txt'"
      ]
     },
     "execution_count": 161,
     "metadata": {},
     "output_type": "execute_result"
    },
    {
     "data": {
      "text/plain": [
       "'C:/Users/khanh/code/DATA_SCIENCE/data/clean_images/test/images/36795.jpg'"
      ]
     },
     "execution_count": 161,
     "metadata": {},
     "output_type": "execute_result"
    },
    {
     "data": {
      "text/plain": [
       "'C:/Users/khanh/code/DATA_SCIENCE/data/clean_images/test/labels/36795.txt'"
      ]
     },
     "execution_count": 161,
     "metadata": {},
     "output_type": "execute_result"
    },
    {
     "data": {
      "text/plain": [
       "'C:/Users/khanh/code/DATA_SCIENCE/data/clean_images/test/images/36797.jpg'"
      ]
     },
     "execution_count": 161,
     "metadata": {},
     "output_type": "execute_result"
    },
    {
     "data": {
      "text/plain": [
       "'C:/Users/khanh/code/DATA_SCIENCE/data/clean_images/test/labels/36797.txt'"
      ]
     },
     "execution_count": 161,
     "metadata": {},
     "output_type": "execute_result"
    },
    {
     "data": {
      "text/plain": [
       "'C:/Users/khanh/code/DATA_SCIENCE/data/clean_images/test/images/36798.jpg'"
      ]
     },
     "execution_count": 161,
     "metadata": {},
     "output_type": "execute_result"
    },
    {
     "data": {
      "text/plain": [
       "'C:/Users/khanh/code/DATA_SCIENCE/data/clean_images/test/labels/36798.txt'"
      ]
     },
     "execution_count": 161,
     "metadata": {},
     "output_type": "execute_result"
    },
    {
     "data": {
      "text/plain": [
       "'C:/Users/khanh/code/DATA_SCIENCE/data/clean_images/test/images/32815.jpg'"
      ]
     },
     "execution_count": 161,
     "metadata": {},
     "output_type": "execute_result"
    },
    {
     "data": {
      "text/plain": [
       "'C:/Users/khanh/code/DATA_SCIENCE/data/clean_images/test/labels/32815.txt'"
      ]
     },
     "execution_count": 161,
     "metadata": {},
     "output_type": "execute_result"
    },
    {
     "data": {
      "text/plain": [
       "'C:/Users/khanh/code/DATA_SCIENCE/data/clean_images/test/images/32819.jpg'"
      ]
     },
     "execution_count": 161,
     "metadata": {},
     "output_type": "execute_result"
    },
    {
     "data": {
      "text/plain": [
       "'C:/Users/khanh/code/DATA_SCIENCE/data/clean_images/test/labels/32819.txt'"
      ]
     },
     "execution_count": 161,
     "metadata": {},
     "output_type": "execute_result"
    },
    {
     "data": {
      "text/plain": [
       "'C:/Users/khanh/code/DATA_SCIENCE/data/clean_images/test/images/39372.jpg'"
      ]
     },
     "execution_count": 161,
     "metadata": {},
     "output_type": "execute_result"
    },
    {
     "data": {
      "text/plain": [
       "'C:/Users/khanh/code/DATA_SCIENCE/data/clean_images/test/labels/39372.txt'"
      ]
     },
     "execution_count": 161,
     "metadata": {},
     "output_type": "execute_result"
    },
    {
     "data": {
      "text/plain": [
       "'C:/Users/khanh/code/DATA_SCIENCE/data/clean_images/test/images/39373.jpg'"
      ]
     },
     "execution_count": 161,
     "metadata": {},
     "output_type": "execute_result"
    },
    {
     "data": {
      "text/plain": [
       "'C:/Users/khanh/code/DATA_SCIENCE/data/clean_images/test/labels/39373.txt'"
      ]
     },
     "execution_count": 161,
     "metadata": {},
     "output_type": "execute_result"
    },
    {
     "data": {
      "text/plain": [
       "'C:/Users/khanh/code/DATA_SCIENCE/data/clean_images/test/images/23084.jpg'"
      ]
     },
     "execution_count": 161,
     "metadata": {},
     "output_type": "execute_result"
    },
    {
     "data": {
      "text/plain": [
       "'C:/Users/khanh/code/DATA_SCIENCE/data/clean_images/test/labels/23084.txt'"
      ]
     },
     "execution_count": 161,
     "metadata": {},
     "output_type": "execute_result"
    },
    {
     "data": {
      "text/plain": [
       "'C:/Users/khanh/code/DATA_SCIENCE/data/clean_images/test/images/23086.jpg'"
      ]
     },
     "execution_count": 161,
     "metadata": {},
     "output_type": "execute_result"
    },
    {
     "data": {
      "text/plain": [
       "'C:/Users/khanh/code/DATA_SCIENCE/data/clean_images/test/labels/23086.txt'"
      ]
     },
     "execution_count": 161,
     "metadata": {},
     "output_type": "execute_result"
    },
    {
     "data": {
      "text/plain": [
       "'C:/Users/khanh/code/DATA_SCIENCE/data/clean_images/test/images/23087.jpg'"
      ]
     },
     "execution_count": 161,
     "metadata": {},
     "output_type": "execute_result"
    },
    {
     "data": {
      "text/plain": [
       "'C:/Users/khanh/code/DATA_SCIENCE/data/clean_images/test/labels/23087.txt'"
      ]
     },
     "execution_count": 161,
     "metadata": {},
     "output_type": "execute_result"
    },
    {
     "data": {
      "text/plain": [
       "'C:/Users/khanh/code/DATA_SCIENCE/data/clean_images/test/images/18003.jpg'"
      ]
     },
     "execution_count": 161,
     "metadata": {},
     "output_type": "execute_result"
    },
    {
     "data": {
      "text/plain": [
       "'C:/Users/khanh/code/DATA_SCIENCE/data/clean_images/test/labels/18003.txt'"
      ]
     },
     "execution_count": 161,
     "metadata": {},
     "output_type": "execute_result"
    },
    {
     "data": {
      "text/plain": [
       "'C:/Users/khanh/code/DATA_SCIENCE/data/clean_images/test/images/8773.jpg'"
      ]
     },
     "execution_count": 161,
     "metadata": {},
     "output_type": "execute_result"
    },
    {
     "data": {
      "text/plain": [
       "'C:/Users/khanh/code/DATA_SCIENCE/data/clean_images/test/labels/8773.txt'"
      ]
     },
     "execution_count": 161,
     "metadata": {},
     "output_type": "execute_result"
    },
    {
     "data": {
      "text/plain": [
       "'C:/Users/khanh/code/DATA_SCIENCE/data/clean_images/test/images/8774.jpg'"
      ]
     },
     "execution_count": 161,
     "metadata": {},
     "output_type": "execute_result"
    },
    {
     "data": {
      "text/plain": [
       "'C:/Users/khanh/code/DATA_SCIENCE/data/clean_images/test/labels/8774.txt'"
      ]
     },
     "execution_count": 161,
     "metadata": {},
     "output_type": "execute_result"
    },
    {
     "data": {
      "text/plain": [
       "'C:/Users/khanh/code/DATA_SCIENCE/data/clean_images/test/images/8775.jpg'"
      ]
     },
     "execution_count": 161,
     "metadata": {},
     "output_type": "execute_result"
    },
    {
     "data": {
      "text/plain": [
       "'C:/Users/khanh/code/DATA_SCIENCE/data/clean_images/test/labels/8775.txt'"
      ]
     },
     "execution_count": 161,
     "metadata": {},
     "output_type": "execute_result"
    },
    {
     "data": {
      "text/plain": [
       "'C:/Users/khanh/code/DATA_SCIENCE/data/clean_images/test/images/8776.jpg'"
      ]
     },
     "execution_count": 161,
     "metadata": {},
     "output_type": "execute_result"
    },
    {
     "data": {
      "text/plain": [
       "'C:/Users/khanh/code/DATA_SCIENCE/data/clean_images/test/labels/8776.txt'"
      ]
     },
     "execution_count": 161,
     "metadata": {},
     "output_type": "execute_result"
    },
    {
     "data": {
      "text/plain": [
       "'C:/Users/khanh/code/DATA_SCIENCE/data/clean_images/test/images/1778.jpg'"
      ]
     },
     "execution_count": 161,
     "metadata": {},
     "output_type": "execute_result"
    },
    {
     "data": {
      "text/plain": [
       "'C:/Users/khanh/code/DATA_SCIENCE/data/clean_images/test/labels/1778.txt'"
      ]
     },
     "execution_count": 161,
     "metadata": {},
     "output_type": "execute_result"
    },
    {
     "data": {
      "text/plain": [
       "'C:/Users/khanh/code/DATA_SCIENCE/data/clean_images/test/images/1779.jpg'"
      ]
     },
     "execution_count": 161,
     "metadata": {},
     "output_type": "execute_result"
    },
    {
     "data": {
      "text/plain": [
       "'C:/Users/khanh/code/DATA_SCIENCE/data/clean_images/test/labels/1779.txt'"
      ]
     },
     "execution_count": 161,
     "metadata": {},
     "output_type": "execute_result"
    },
    {
     "data": {
      "text/plain": [
       "'C:/Users/khanh/code/DATA_SCIENCE/data/clean_images/test/images/1781.jpg'"
      ]
     },
     "execution_count": 161,
     "metadata": {},
     "output_type": "execute_result"
    },
    {
     "data": {
      "text/plain": [
       "'C:/Users/khanh/code/DATA_SCIENCE/data/clean_images/test/labels/1781.txt'"
      ]
     },
     "execution_count": 161,
     "metadata": {},
     "output_type": "execute_result"
    },
    {
     "data": {
      "text/plain": [
       "'C:/Users/khanh/code/DATA_SCIENCE/data/clean_images/test/images/1782.jpg'"
      ]
     },
     "execution_count": 161,
     "metadata": {},
     "output_type": "execute_result"
    },
    {
     "data": {
      "text/plain": [
       "'C:/Users/khanh/code/DATA_SCIENCE/data/clean_images/test/labels/1782.txt'"
      ]
     },
     "execution_count": 161,
     "metadata": {},
     "output_type": "execute_result"
    },
    {
     "data": {
      "text/plain": [
       "'C:/Users/khanh/code/DATA_SCIENCE/data/clean_images/test/images/1783.jpg'"
      ]
     },
     "execution_count": 161,
     "metadata": {},
     "output_type": "execute_result"
    },
    {
     "data": {
      "text/plain": [
       "'C:/Users/khanh/code/DATA_SCIENCE/data/clean_images/test/labels/1783.txt'"
      ]
     },
     "execution_count": 161,
     "metadata": {},
     "output_type": "execute_result"
    },
    {
     "data": {
      "text/plain": [
       "'C:/Users/khanh/code/DATA_SCIENCE/data/clean_images/test/images/35352.jpg'"
      ]
     },
     "execution_count": 161,
     "metadata": {},
     "output_type": "execute_result"
    },
    {
     "data": {
      "text/plain": [
       "'C:/Users/khanh/code/DATA_SCIENCE/data/clean_images/test/labels/35352.txt'"
      ]
     },
     "execution_count": 161,
     "metadata": {},
     "output_type": "execute_result"
    },
    {
     "data": {
      "text/plain": [
       "'C:/Users/khanh/code/DATA_SCIENCE/data/clean_images/test/images/35353.jpg'"
      ]
     },
     "execution_count": 161,
     "metadata": {},
     "output_type": "execute_result"
    },
    {
     "data": {
      "text/plain": [
       "'C:/Users/khanh/code/DATA_SCIENCE/data/clean_images/test/labels/35353.txt'"
      ]
     },
     "execution_count": 161,
     "metadata": {},
     "output_type": "execute_result"
    },
    {
     "data": {
      "text/plain": [
       "'C:/Users/khanh/code/DATA_SCIENCE/data/clean_images/test/images/7255.jpg'"
      ]
     },
     "execution_count": 161,
     "metadata": {},
     "output_type": "execute_result"
    },
    {
     "data": {
      "text/plain": [
       "'C:/Users/khanh/code/DATA_SCIENCE/data/clean_images/test/labels/7255.txt'"
      ]
     },
     "execution_count": 161,
     "metadata": {},
     "output_type": "execute_result"
    },
    {
     "data": {
      "text/plain": [
       "'C:/Users/khanh/code/DATA_SCIENCE/data/clean_images/test/images/7258.jpg'"
      ]
     },
     "execution_count": 161,
     "metadata": {},
     "output_type": "execute_result"
    },
    {
     "data": {
      "text/plain": [
       "'C:/Users/khanh/code/DATA_SCIENCE/data/clean_images/test/labels/7258.txt'"
      ]
     },
     "execution_count": 161,
     "metadata": {},
     "output_type": "execute_result"
    },
    {
     "data": {
      "text/plain": [
       "'C:/Users/khanh/code/DATA_SCIENCE/data/clean_images/test/images/30327.jpg'"
      ]
     },
     "execution_count": 161,
     "metadata": {},
     "output_type": "execute_result"
    },
    {
     "data": {
      "text/plain": [
       "'C:/Users/khanh/code/DATA_SCIENCE/data/clean_images/test/labels/30327.txt'"
      ]
     },
     "execution_count": 161,
     "metadata": {},
     "output_type": "execute_result"
    },
    {
     "data": {
      "text/plain": [
       "'C:/Users/khanh/code/DATA_SCIENCE/data/clean_images/test/images/30328.jpg'"
      ]
     },
     "execution_count": 161,
     "metadata": {},
     "output_type": "execute_result"
    },
    {
     "data": {
      "text/plain": [
       "'C:/Users/khanh/code/DATA_SCIENCE/data/clean_images/test/labels/30328.txt'"
      ]
     },
     "execution_count": 161,
     "metadata": {},
     "output_type": "execute_result"
    },
    {
     "data": {
      "text/plain": [
       "'C:/Users/khanh/code/DATA_SCIENCE/data/clean_images/test/images/28643.jpg'"
      ]
     },
     "execution_count": 161,
     "metadata": {},
     "output_type": "execute_result"
    },
    {
     "data": {
      "text/plain": [
       "'C:/Users/khanh/code/DATA_SCIENCE/data/clean_images/test/labels/28643.txt'"
      ]
     },
     "execution_count": 161,
     "metadata": {},
     "output_type": "execute_result"
    },
    {
     "data": {
      "text/plain": [
       "'C:/Users/khanh/code/DATA_SCIENCE/data/clean_images/test/images/4559.jpg'"
      ]
     },
     "execution_count": 161,
     "metadata": {},
     "output_type": "execute_result"
    },
    {
     "data": {
      "text/plain": [
       "'C:/Users/khanh/code/DATA_SCIENCE/data/clean_images/test/labels/4559.txt'"
      ]
     },
     "execution_count": 161,
     "metadata": {},
     "output_type": "execute_result"
    },
    {
     "data": {
      "text/plain": [
       "'C:/Users/khanh/code/DATA_SCIENCE/data/clean_images/test/images/4560.jpg'"
      ]
     },
     "execution_count": 161,
     "metadata": {},
     "output_type": "execute_result"
    },
    {
     "data": {
      "text/plain": [
       "'C:/Users/khanh/code/DATA_SCIENCE/data/clean_images/test/labels/4560.txt'"
      ]
     },
     "execution_count": 161,
     "metadata": {},
     "output_type": "execute_result"
    },
    {
     "data": {
      "text/plain": [
       "'C:/Users/khanh/code/DATA_SCIENCE/data/clean_images/test/images/4561.jpg'"
      ]
     },
     "execution_count": 161,
     "metadata": {},
     "output_type": "execute_result"
    },
    {
     "data": {
      "text/plain": [
       "'C:/Users/khanh/code/DATA_SCIENCE/data/clean_images/test/labels/4561.txt'"
      ]
     },
     "execution_count": 161,
     "metadata": {},
     "output_type": "execute_result"
    },
    {
     "data": {
      "text/plain": [
       "'C:/Users/khanh/code/DATA_SCIENCE/data/clean_images/test/images/14370.jpg'"
      ]
     },
     "execution_count": 161,
     "metadata": {},
     "output_type": "execute_result"
    },
    {
     "data": {
      "text/plain": [
       "'C:/Users/khanh/code/DATA_SCIENCE/data/clean_images/test/labels/14370.txt'"
      ]
     },
     "execution_count": 161,
     "metadata": {},
     "output_type": "execute_result"
    },
    {
     "data": {
      "text/plain": [
       "'C:/Users/khanh/code/DATA_SCIENCE/data/clean_images/test/images/53784.jpg'"
      ]
     },
     "execution_count": 161,
     "metadata": {},
     "output_type": "execute_result"
    },
    {
     "data": {
      "text/plain": [
       "'C:/Users/khanh/code/DATA_SCIENCE/data/clean_images/test/labels/53784.txt'"
      ]
     },
     "execution_count": 161,
     "metadata": {},
     "output_type": "execute_result"
    },
    {
     "data": {
      "text/plain": [
       "'C:/Users/khanh/code/DATA_SCIENCE/data/clean_images/test/images/43108.jpg'"
      ]
     },
     "execution_count": 161,
     "metadata": {},
     "output_type": "execute_result"
    },
    {
     "data": {
      "text/plain": [
       "'C:/Users/khanh/code/DATA_SCIENCE/data/clean_images/test/labels/43108.txt'"
      ]
     },
     "execution_count": 161,
     "metadata": {},
     "output_type": "execute_result"
    },
    {
     "data": {
      "text/plain": [
       "'C:/Users/khanh/code/DATA_SCIENCE/data/clean_images/test/images/43109.jpg'"
      ]
     },
     "execution_count": 161,
     "metadata": {},
     "output_type": "execute_result"
    },
    {
     "data": {
      "text/plain": [
       "'C:/Users/khanh/code/DATA_SCIENCE/data/clean_images/test/labels/43109.txt'"
      ]
     },
     "execution_count": 161,
     "metadata": {},
     "output_type": "execute_result"
    },
    {
     "data": {
      "text/plain": [
       "'C:/Users/khanh/code/DATA_SCIENCE/data/clean_images/test/images/26018.jpg'"
      ]
     },
     "execution_count": 161,
     "metadata": {},
     "output_type": "execute_result"
    },
    {
     "data": {
      "text/plain": [
       "'C:/Users/khanh/code/DATA_SCIENCE/data/clean_images/test/labels/26018.txt'"
      ]
     },
     "execution_count": 161,
     "metadata": {},
     "output_type": "execute_result"
    },
    {
     "data": {
      "text/plain": [
       "'C:/Users/khanh/code/DATA_SCIENCE/data/clean_images/test/images/26022.jpg'"
      ]
     },
     "execution_count": 161,
     "metadata": {},
     "output_type": "execute_result"
    },
    {
     "data": {
      "text/plain": [
       "'C:/Users/khanh/code/DATA_SCIENCE/data/clean_images/test/labels/26022.txt'"
      ]
     },
     "execution_count": 161,
     "metadata": {},
     "output_type": "execute_result"
    },
    {
     "data": {
      "text/plain": [
       "'C:/Users/khanh/code/DATA_SCIENCE/data/clean_images/test/images/36499.jpg'"
      ]
     },
     "execution_count": 161,
     "metadata": {},
     "output_type": "execute_result"
    },
    {
     "data": {
      "text/plain": [
       "'C:/Users/khanh/code/DATA_SCIENCE/data/clean_images/test/labels/36499.txt'"
      ]
     },
     "execution_count": 161,
     "metadata": {},
     "output_type": "execute_result"
    },
    {
     "data": {
      "text/plain": [
       "'C:/Users/khanh/code/DATA_SCIENCE/data/clean_images/test/images/22829.jpg'"
      ]
     },
     "execution_count": 161,
     "metadata": {},
     "output_type": "execute_result"
    },
    {
     "data": {
      "text/plain": [
       "'C:/Users/khanh/code/DATA_SCIENCE/data/clean_images/test/labels/22829.txt'"
      ]
     },
     "execution_count": 161,
     "metadata": {},
     "output_type": "execute_result"
    },
    {
     "data": {
      "text/plain": [
       "'C:/Users/khanh/code/DATA_SCIENCE/data/clean_images/test/images/22830.jpg'"
      ]
     },
     "execution_count": 161,
     "metadata": {},
     "output_type": "execute_result"
    },
    {
     "data": {
      "text/plain": [
       "'C:/Users/khanh/code/DATA_SCIENCE/data/clean_images/test/labels/22830.txt'"
      ]
     },
     "execution_count": 161,
     "metadata": {},
     "output_type": "execute_result"
    },
    {
     "data": {
      "text/plain": [
       "'C:/Users/khanh/code/DATA_SCIENCE/data/clean_images/test/images/19424.jpg'"
      ]
     },
     "execution_count": 161,
     "metadata": {},
     "output_type": "execute_result"
    },
    {
     "data": {
      "text/plain": [
       "'C:/Users/khanh/code/DATA_SCIENCE/data/clean_images/test/labels/19424.txt'"
      ]
     },
     "execution_count": 161,
     "metadata": {},
     "output_type": "execute_result"
    },
    {
     "data": {
      "text/plain": [
       "'C:/Users/khanh/code/DATA_SCIENCE/data/clean_images/test/images/31325.jpg'"
      ]
     },
     "execution_count": 161,
     "metadata": {},
     "output_type": "execute_result"
    },
    {
     "data": {
      "text/plain": [
       "'C:/Users/khanh/code/DATA_SCIENCE/data/clean_images/test/labels/31325.txt'"
      ]
     },
     "execution_count": 161,
     "metadata": {},
     "output_type": "execute_result"
    },
    {
     "data": {
      "text/plain": [
       "'C:/Users/khanh/code/DATA_SCIENCE/data/clean_images/test/images/31326.jpg'"
      ]
     },
     "execution_count": 161,
     "metadata": {},
     "output_type": "execute_result"
    },
    {
     "data": {
      "text/plain": [
       "'C:/Users/khanh/code/DATA_SCIENCE/data/clean_images/test/labels/31326.txt'"
      ]
     },
     "execution_count": 161,
     "metadata": {},
     "output_type": "execute_result"
    },
    {
     "data": {
      "text/plain": [
       "'C:/Users/khanh/code/DATA_SCIENCE/data/clean_images/test/images/3159.jpg'"
      ]
     },
     "execution_count": 161,
     "metadata": {},
     "output_type": "execute_result"
    },
    {
     "data": {
      "text/plain": [
       "'C:/Users/khanh/code/DATA_SCIENCE/data/clean_images/test/labels/3159.txt'"
      ]
     },
     "execution_count": 161,
     "metadata": {},
     "output_type": "execute_result"
    },
    {
     "data": {
      "text/plain": [
       "'C:/Users/khanh/code/DATA_SCIENCE/data/clean_images/test/images/3160.jpg'"
      ]
     },
     "execution_count": 161,
     "metadata": {},
     "output_type": "execute_result"
    },
    {
     "data": {
      "text/plain": [
       "'C:/Users/khanh/code/DATA_SCIENCE/data/clean_images/test/labels/3160.txt'"
      ]
     },
     "execution_count": 161,
     "metadata": {},
     "output_type": "execute_result"
    },
    {
     "data": {
      "text/plain": [
       "'C:/Users/khanh/code/DATA_SCIENCE/data/clean_images/test/images/3161.jpg'"
      ]
     },
     "execution_count": 161,
     "metadata": {},
     "output_type": "execute_result"
    },
    {
     "data": {
      "text/plain": [
       "'C:/Users/khanh/code/DATA_SCIENCE/data/clean_images/test/labels/3161.txt'"
      ]
     },
     "execution_count": 161,
     "metadata": {},
     "output_type": "execute_result"
    },
    {
     "data": {
      "text/plain": [
       "'C:/Users/khanh/code/DATA_SCIENCE/data/clean_images/test/images/22066.jpg'"
      ]
     },
     "execution_count": 161,
     "metadata": {},
     "output_type": "execute_result"
    },
    {
     "data": {
      "text/plain": [
       "'C:/Users/khanh/code/DATA_SCIENCE/data/clean_images/test/labels/22066.txt'"
      ]
     },
     "execution_count": 161,
     "metadata": {},
     "output_type": "execute_result"
    },
    {
     "data": {
      "text/plain": [
       "'C:/Users/khanh/code/DATA_SCIENCE/data/clean_images/test/images/46496.jpg'"
      ]
     },
     "execution_count": 161,
     "metadata": {},
     "output_type": "execute_result"
    },
    {
     "data": {
      "text/plain": [
       "'C:/Users/khanh/code/DATA_SCIENCE/data/clean_images/test/labels/46496.txt'"
      ]
     },
     "execution_count": 161,
     "metadata": {},
     "output_type": "execute_result"
    },
    {
     "data": {
      "text/plain": [
       "'C:/Users/khanh/code/DATA_SCIENCE/data/clean_images/test/images/46497.jpg'"
      ]
     },
     "execution_count": 161,
     "metadata": {},
     "output_type": "execute_result"
    },
    {
     "data": {
      "text/plain": [
       "'C:/Users/khanh/code/DATA_SCIENCE/data/clean_images/test/labels/46497.txt'"
      ]
     },
     "execution_count": 161,
     "metadata": {},
     "output_type": "execute_result"
    },
    {
     "data": {
      "text/plain": [
       "'C:/Users/khanh/code/DATA_SCIENCE/data/clean_images/test/images/46499.jpg'"
      ]
     },
     "execution_count": 161,
     "metadata": {},
     "output_type": "execute_result"
    },
    {
     "data": {
      "text/plain": [
       "'C:/Users/khanh/code/DATA_SCIENCE/data/clean_images/test/labels/46499.txt'"
      ]
     },
     "execution_count": 161,
     "metadata": {},
     "output_type": "execute_result"
    },
    {
     "data": {
      "text/plain": [
       "'C:/Users/khanh/code/DATA_SCIENCE/data/clean_images/test/images/51140.jpg'"
      ]
     },
     "execution_count": 161,
     "metadata": {},
     "output_type": "execute_result"
    },
    {
     "data": {
      "text/plain": [
       "'C:/Users/khanh/code/DATA_SCIENCE/data/clean_images/test/labels/51140.txt'"
      ]
     },
     "execution_count": 161,
     "metadata": {},
     "output_type": "execute_result"
    },
    {
     "data": {
      "text/plain": [
       "'C:/Users/khanh/code/DATA_SCIENCE/data/clean_images/test/images/11489.jpg'"
      ]
     },
     "execution_count": 161,
     "metadata": {},
     "output_type": "execute_result"
    },
    {
     "data": {
      "text/plain": [
       "'C:/Users/khanh/code/DATA_SCIENCE/data/clean_images/test/labels/11489.txt'"
      ]
     },
     "execution_count": 161,
     "metadata": {},
     "output_type": "execute_result"
    },
    {
     "data": {
      "text/plain": [
       "'C:/Users/khanh/code/DATA_SCIENCE/data/clean_images/test/images/11492.jpg'"
      ]
     },
     "execution_count": 161,
     "metadata": {},
     "output_type": "execute_result"
    },
    {
     "data": {
      "text/plain": [
       "'C:/Users/khanh/code/DATA_SCIENCE/data/clean_images/test/labels/11492.txt'"
      ]
     },
     "execution_count": 161,
     "metadata": {},
     "output_type": "execute_result"
    },
    {
     "data": {
      "text/plain": [
       "'C:/Users/khanh/code/DATA_SCIENCE/data/clean_images/test/images/8384.jpg'"
      ]
     },
     "execution_count": 161,
     "metadata": {},
     "output_type": "execute_result"
    },
    {
     "data": {
      "text/plain": [
       "'C:/Users/khanh/code/DATA_SCIENCE/data/clean_images/test/labels/8384.txt'"
      ]
     },
     "execution_count": 161,
     "metadata": {},
     "output_type": "execute_result"
    },
    {
     "data": {
      "text/plain": [
       "'C:/Users/khanh/code/DATA_SCIENCE/data/clean_images/test/images/8385.jpg'"
      ]
     },
     "execution_count": 161,
     "metadata": {},
     "output_type": "execute_result"
    },
    {
     "data": {
      "text/plain": [
       "'C:/Users/khanh/code/DATA_SCIENCE/data/clean_images/test/labels/8385.txt'"
      ]
     },
     "execution_count": 161,
     "metadata": {},
     "output_type": "execute_result"
    },
    {
     "data": {
      "text/plain": [
       "'C:/Users/khanh/code/DATA_SCIENCE/data/clean_images/test/images/13200.jpg'"
      ]
     },
     "execution_count": 161,
     "metadata": {},
     "output_type": "execute_result"
    },
    {
     "data": {
      "text/plain": [
       "'C:/Users/khanh/code/DATA_SCIENCE/data/clean_images/test/labels/13200.txt'"
      ]
     },
     "execution_count": 161,
     "metadata": {},
     "output_type": "execute_result"
    },
    {
     "data": {
      "text/plain": [
       "'C:/Users/khanh/code/DATA_SCIENCE/data/clean_images/test/images/26193.jpg'"
      ]
     },
     "execution_count": 161,
     "metadata": {},
     "output_type": "execute_result"
    },
    {
     "data": {
      "text/plain": [
       "'C:/Users/khanh/code/DATA_SCIENCE/data/clean_images/test/labels/26193.txt'"
      ]
     },
     "execution_count": 161,
     "metadata": {},
     "output_type": "execute_result"
    },
    {
     "data": {
      "text/plain": [
       "'C:/Users/khanh/code/DATA_SCIENCE/data/clean_images/test/images/26195.jpg'"
      ]
     },
     "execution_count": 161,
     "metadata": {},
     "output_type": "execute_result"
    },
    {
     "data": {
      "text/plain": [
       "'C:/Users/khanh/code/DATA_SCIENCE/data/clean_images/test/labels/26195.txt'"
      ]
     },
     "execution_count": 161,
     "metadata": {},
     "output_type": "execute_result"
    },
    {
     "data": {
      "text/plain": [
       "'C:/Users/khanh/code/DATA_SCIENCE/data/clean_images/test/images/46221.jpg'"
      ]
     },
     "execution_count": 161,
     "metadata": {},
     "output_type": "execute_result"
    },
    {
     "data": {
      "text/plain": [
       "'C:/Users/khanh/code/DATA_SCIENCE/data/clean_images/test/labels/46221.txt'"
      ]
     },
     "execution_count": 161,
     "metadata": {},
     "output_type": "execute_result"
    },
    {
     "data": {
      "text/plain": [
       "'C:/Users/khanh/code/DATA_SCIENCE/data/clean_images/test/images/46222.jpg'"
      ]
     },
     "execution_count": 161,
     "metadata": {},
     "output_type": "execute_result"
    },
    {
     "data": {
      "text/plain": [
       "'C:/Users/khanh/code/DATA_SCIENCE/data/clean_images/test/labels/46222.txt'"
      ]
     },
     "execution_count": 161,
     "metadata": {},
     "output_type": "execute_result"
    },
    {
     "data": {
      "text/plain": [
       "'C:/Users/khanh/code/DATA_SCIENCE/data/clean_images/test/images/46225.jpg'"
      ]
     },
     "execution_count": 161,
     "metadata": {},
     "output_type": "execute_result"
    },
    {
     "data": {
      "text/plain": [
       "'C:/Users/khanh/code/DATA_SCIENCE/data/clean_images/test/labels/46225.txt'"
      ]
     },
     "execution_count": 161,
     "metadata": {},
     "output_type": "execute_result"
    },
    {
     "data": {
      "text/plain": [
       "'C:/Users/khanh/code/DATA_SCIENCE/data/clean_images/test/images/35858.jpg'"
      ]
     },
     "execution_count": 161,
     "metadata": {},
     "output_type": "execute_result"
    },
    {
     "data": {
      "text/plain": [
       "'C:/Users/khanh/code/DATA_SCIENCE/data/clean_images/test/labels/35858.txt'"
      ]
     },
     "execution_count": 161,
     "metadata": {},
     "output_type": "execute_result"
    },
    {
     "data": {
      "text/plain": [
       "'C:/Users/khanh/code/DATA_SCIENCE/data/clean_images/test/images/35859.jpg'"
      ]
     },
     "execution_count": 161,
     "metadata": {},
     "output_type": "execute_result"
    },
    {
     "data": {
      "text/plain": [
       "'C:/Users/khanh/code/DATA_SCIENCE/data/clean_images/test/labels/35859.txt'"
      ]
     },
     "execution_count": 161,
     "metadata": {},
     "output_type": "execute_result"
    },
    {
     "data": {
      "text/plain": [
       "'C:/Users/khanh/code/DATA_SCIENCE/data/clean_images/test/images/35860.jpg'"
      ]
     },
     "execution_count": 161,
     "metadata": {},
     "output_type": "execute_result"
    },
    {
     "data": {
      "text/plain": [
       "'C:/Users/khanh/code/DATA_SCIENCE/data/clean_images/test/labels/35860.txt'"
      ]
     },
     "execution_count": 161,
     "metadata": {},
     "output_type": "execute_result"
    },
    {
     "data": {
      "text/plain": [
       "'C:/Users/khanh/code/DATA_SCIENCE/data/clean_images/test/images/35861.jpg'"
      ]
     },
     "execution_count": 161,
     "metadata": {},
     "output_type": "execute_result"
    },
    {
     "data": {
      "text/plain": [
       "'C:/Users/khanh/code/DATA_SCIENCE/data/clean_images/test/labels/35861.txt'"
      ]
     },
     "execution_count": 161,
     "metadata": {},
     "output_type": "execute_result"
    },
    {
     "data": {
      "text/plain": [
       "'C:/Users/khanh/code/DATA_SCIENCE/data/clean_images/test/images/35862.jpg'"
      ]
     },
     "execution_count": 161,
     "metadata": {},
     "output_type": "execute_result"
    },
    {
     "data": {
      "text/plain": [
       "'C:/Users/khanh/code/DATA_SCIENCE/data/clean_images/test/labels/35862.txt'"
      ]
     },
     "execution_count": 161,
     "metadata": {},
     "output_type": "execute_result"
    },
    {
     "data": {
      "text/plain": [
       "'C:/Users/khanh/code/DATA_SCIENCE/data/clean_images/test/images/48274.jpg'"
      ]
     },
     "execution_count": 161,
     "metadata": {},
     "output_type": "execute_result"
    },
    {
     "data": {
      "text/plain": [
       "'C:/Users/khanh/code/DATA_SCIENCE/data/clean_images/test/labels/48274.txt'"
      ]
     },
     "execution_count": 161,
     "metadata": {},
     "output_type": "execute_result"
    },
    {
     "data": {
      "text/plain": [
       "'C:/Users/khanh/code/DATA_SCIENCE/data/clean_images/test/images/48276.jpg'"
      ]
     },
     "execution_count": 161,
     "metadata": {},
     "output_type": "execute_result"
    },
    {
     "data": {
      "text/plain": [
       "'C:/Users/khanh/code/DATA_SCIENCE/data/clean_images/test/labels/48276.txt'"
      ]
     },
     "execution_count": 161,
     "metadata": {},
     "output_type": "execute_result"
    },
    {
     "data": {
      "text/plain": [
       "'C:/Users/khanh/code/DATA_SCIENCE/data/clean_images/test/images/48277.jpg'"
      ]
     },
     "execution_count": 161,
     "metadata": {},
     "output_type": "execute_result"
    },
    {
     "data": {
      "text/plain": [
       "'C:/Users/khanh/code/DATA_SCIENCE/data/clean_images/test/labels/48277.txt'"
      ]
     },
     "execution_count": 161,
     "metadata": {},
     "output_type": "execute_result"
    },
    {
     "data": {
      "text/plain": [
       "'C:/Users/khanh/code/DATA_SCIENCE/data/clean_images/test/images/31024.jpg'"
      ]
     },
     "execution_count": 161,
     "metadata": {},
     "output_type": "execute_result"
    },
    {
     "data": {
      "text/plain": [
       "'C:/Users/khanh/code/DATA_SCIENCE/data/clean_images/test/labels/31024.txt'"
      ]
     },
     "execution_count": 161,
     "metadata": {},
     "output_type": "execute_result"
    },
    {
     "data": {
      "text/plain": [
       "'C:/Users/khanh/code/DATA_SCIENCE/data/clean_images/test/images/31025.jpg'"
      ]
     },
     "execution_count": 161,
     "metadata": {},
     "output_type": "execute_result"
    },
    {
     "data": {
      "text/plain": [
       "'C:/Users/khanh/code/DATA_SCIENCE/data/clean_images/test/labels/31025.txt'"
      ]
     },
     "execution_count": 161,
     "metadata": {},
     "output_type": "execute_result"
    },
    {
     "data": {
      "text/plain": [
       "'C:/Users/khanh/code/DATA_SCIENCE/data/clean_images/test/images/25171.jpg'"
      ]
     },
     "execution_count": 161,
     "metadata": {},
     "output_type": "execute_result"
    },
    {
     "data": {
      "text/plain": [
       "'C:/Users/khanh/code/DATA_SCIENCE/data/clean_images/test/labels/25171.txt'"
      ]
     },
     "execution_count": 161,
     "metadata": {},
     "output_type": "execute_result"
    },
    {
     "data": {
      "text/plain": [
       "'C:/Users/khanh/code/DATA_SCIENCE/data/clean_images/test/images/16768.jpg'"
      ]
     },
     "execution_count": 161,
     "metadata": {},
     "output_type": "execute_result"
    },
    {
     "data": {
      "text/plain": [
       "'C:/Users/khanh/code/DATA_SCIENCE/data/clean_images/test/labels/16768.txt'"
      ]
     },
     "execution_count": 161,
     "metadata": {},
     "output_type": "execute_result"
    },
    {
     "data": {
      "text/plain": [
       "'C:/Users/khanh/code/DATA_SCIENCE/data/clean_images/test/images/16769.jpg'"
      ]
     },
     "execution_count": 161,
     "metadata": {},
     "output_type": "execute_result"
    },
    {
     "data": {
      "text/plain": [
       "'C:/Users/khanh/code/DATA_SCIENCE/data/clean_images/test/labels/16769.txt'"
      ]
     },
     "execution_count": 161,
     "metadata": {},
     "output_type": "execute_result"
    },
    {
     "data": {
      "text/plain": [
       "'C:/Users/khanh/code/DATA_SCIENCE/data/clean_images/test/images/50029.jpg'"
      ]
     },
     "execution_count": 161,
     "metadata": {},
     "output_type": "execute_result"
    },
    {
     "data": {
      "text/plain": [
       "'C:/Users/khanh/code/DATA_SCIENCE/data/clean_images/test/labels/50029.txt'"
      ]
     },
     "execution_count": 161,
     "metadata": {},
     "output_type": "execute_result"
    },
    {
     "data": {
      "text/plain": [
       "'C:/Users/khanh/code/DATA_SCIENCE/data/clean_images/test/images/22224.jpg'"
      ]
     },
     "execution_count": 161,
     "metadata": {},
     "output_type": "execute_result"
    },
    {
     "data": {
      "text/plain": [
       "'C:/Users/khanh/code/DATA_SCIENCE/data/clean_images/test/labels/22224.txt'"
      ]
     },
     "execution_count": 161,
     "metadata": {},
     "output_type": "execute_result"
    },
    {
     "data": {
      "text/plain": [
       "'C:/Users/khanh/code/DATA_SCIENCE/data/clean_images/test/images/22225.jpg'"
      ]
     },
     "execution_count": 161,
     "metadata": {},
     "output_type": "execute_result"
    },
    {
     "data": {
      "text/plain": [
       "'C:/Users/khanh/code/DATA_SCIENCE/data/clean_images/test/labels/22225.txt'"
      ]
     },
     "execution_count": 161,
     "metadata": {},
     "output_type": "execute_result"
    },
    {
     "data": {
      "text/plain": [
       "'C:/Users/khanh/code/DATA_SCIENCE/data/clean_images/test/images/22228.jpg'"
      ]
     },
     "execution_count": 161,
     "metadata": {},
     "output_type": "execute_result"
    },
    {
     "data": {
      "text/plain": [
       "'C:/Users/khanh/code/DATA_SCIENCE/data/clean_images/test/labels/22228.txt'"
      ]
     },
     "execution_count": 161,
     "metadata": {},
     "output_type": "execute_result"
    },
    {
     "data": {
      "text/plain": [
       "'C:/Users/khanh/code/DATA_SCIENCE/data/clean_images/test/images/24281.jpg'"
      ]
     },
     "execution_count": 161,
     "metadata": {},
     "output_type": "execute_result"
    },
    {
     "data": {
      "text/plain": [
       "'C:/Users/khanh/code/DATA_SCIENCE/data/clean_images/test/labels/24281.txt'"
      ]
     },
     "execution_count": 161,
     "metadata": {},
     "output_type": "execute_result"
    },
    {
     "data": {
      "text/plain": [
       "'C:/Users/khanh/code/DATA_SCIENCE/data/clean_images/test/images/24284.jpg'"
      ]
     },
     "execution_count": 161,
     "metadata": {},
     "output_type": "execute_result"
    },
    {
     "data": {
      "text/plain": [
       "'C:/Users/khanh/code/DATA_SCIENCE/data/clean_images/test/labels/24284.txt'"
      ]
     },
     "execution_count": 161,
     "metadata": {},
     "output_type": "execute_result"
    },
    {
     "data": {
      "text/plain": [
       "'C:/Users/khanh/code/DATA_SCIENCE/data/clean_images/test/images/24285.jpg'"
      ]
     },
     "execution_count": 161,
     "metadata": {},
     "output_type": "execute_result"
    },
    {
     "data": {
      "text/plain": [
       "'C:/Users/khanh/code/DATA_SCIENCE/data/clean_images/test/labels/24285.txt'"
      ]
     },
     "execution_count": 161,
     "metadata": {},
     "output_type": "execute_result"
    },
    {
     "data": {
      "text/plain": [
       "'C:/Users/khanh/code/DATA_SCIENCE/data/clean_images/test/images/24286.jpg'"
      ]
     },
     "execution_count": 161,
     "metadata": {},
     "output_type": "execute_result"
    },
    {
     "data": {
      "text/plain": [
       "'C:/Users/khanh/code/DATA_SCIENCE/data/clean_images/test/labels/24286.txt'"
      ]
     },
     "execution_count": 161,
     "metadata": {},
     "output_type": "execute_result"
    },
    {
     "data": {
      "text/plain": [
       "'C:/Users/khanh/code/DATA_SCIENCE/data/clean_images/test/images/29714.jpg'"
      ]
     },
     "execution_count": 161,
     "metadata": {},
     "output_type": "execute_result"
    },
    {
     "data": {
      "text/plain": [
       "'C:/Users/khanh/code/DATA_SCIENCE/data/clean_images/test/labels/29714.txt'"
      ]
     },
     "execution_count": 161,
     "metadata": {},
     "output_type": "execute_result"
    },
    {
     "data": {
      "text/plain": [
       "'C:/Users/khanh/code/DATA_SCIENCE/data/clean_images/test/images/29716.jpg'"
      ]
     },
     "execution_count": 161,
     "metadata": {},
     "output_type": "execute_result"
    },
    {
     "data": {
      "text/plain": [
       "'C:/Users/khanh/code/DATA_SCIENCE/data/clean_images/test/labels/29716.txt'"
      ]
     },
     "execution_count": 161,
     "metadata": {},
     "output_type": "execute_result"
    },
    {
     "data": {
      "text/plain": [
       "'C:/Users/khanh/code/DATA_SCIENCE/data/clean_images/test/images/29717.jpg'"
      ]
     },
     "execution_count": 161,
     "metadata": {},
     "output_type": "execute_result"
    },
    {
     "data": {
      "text/plain": [
       "'C:/Users/khanh/code/DATA_SCIENCE/data/clean_images/test/labels/29717.txt'"
      ]
     },
     "execution_count": 161,
     "metadata": {},
     "output_type": "execute_result"
    },
    {
     "data": {
      "text/plain": [
       "'C:/Users/khanh/code/DATA_SCIENCE/data/clean_images/test/images/38352.jpg'"
      ]
     },
     "execution_count": 161,
     "metadata": {},
     "output_type": "execute_result"
    },
    {
     "data": {
      "text/plain": [
       "'C:/Users/khanh/code/DATA_SCIENCE/data/clean_images/test/labels/38352.txt'"
      ]
     },
     "execution_count": 161,
     "metadata": {},
     "output_type": "execute_result"
    },
    {
     "data": {
      "text/plain": [
       "'C:/Users/khanh/code/DATA_SCIENCE/data/clean_images/test/images/38353.jpg'"
      ]
     },
     "execution_count": 161,
     "metadata": {},
     "output_type": "execute_result"
    },
    {
     "data": {
      "text/plain": [
       "'C:/Users/khanh/code/DATA_SCIENCE/data/clean_images/test/labels/38353.txt'"
      ]
     },
     "execution_count": 161,
     "metadata": {},
     "output_type": "execute_result"
    },
    {
     "data": {
      "text/plain": [
       "'C:/Users/khanh/code/DATA_SCIENCE/data/clean_images/test/images/38354.jpg'"
      ]
     },
     "execution_count": 161,
     "metadata": {},
     "output_type": "execute_result"
    },
    {
     "data": {
      "text/plain": [
       "'C:/Users/khanh/code/DATA_SCIENCE/data/clean_images/test/labels/38354.txt'"
      ]
     },
     "execution_count": 161,
     "metadata": {},
     "output_type": "execute_result"
    },
    {
     "data": {
      "text/plain": [
       "'C:/Users/khanh/code/DATA_SCIENCE/data/clean_images/test/images/38355.jpg'"
      ]
     },
     "execution_count": 161,
     "metadata": {},
     "output_type": "execute_result"
    },
    {
     "data": {
      "text/plain": [
       "'C:/Users/khanh/code/DATA_SCIENCE/data/clean_images/test/labels/38355.txt'"
      ]
     },
     "execution_count": 161,
     "metadata": {},
     "output_type": "execute_result"
    },
    {
     "data": {
      "text/plain": [
       "'C:/Users/khanh/code/DATA_SCIENCE/data/clean_images/test/images/38356.jpg'"
      ]
     },
     "execution_count": 161,
     "metadata": {},
     "output_type": "execute_result"
    },
    {
     "data": {
      "text/plain": [
       "'C:/Users/khanh/code/DATA_SCIENCE/data/clean_images/test/labels/38356.txt'"
      ]
     },
     "execution_count": 161,
     "metadata": {},
     "output_type": "execute_result"
    },
    {
     "data": {
      "text/plain": [
       "'C:/Users/khanh/code/DATA_SCIENCE/data/clean_images/test/images/38357.jpg'"
      ]
     },
     "execution_count": 161,
     "metadata": {},
     "output_type": "execute_result"
    },
    {
     "data": {
      "text/plain": [
       "'C:/Users/khanh/code/DATA_SCIENCE/data/clean_images/test/labels/38357.txt'"
      ]
     },
     "execution_count": 161,
     "metadata": {},
     "output_type": "execute_result"
    },
    {
     "data": {
      "text/plain": [
       "'C:/Users/khanh/code/DATA_SCIENCE/data/clean_images/test/images/48075.jpg'"
      ]
     },
     "execution_count": 161,
     "metadata": {},
     "output_type": "execute_result"
    },
    {
     "data": {
      "text/plain": [
       "'C:/Users/khanh/code/DATA_SCIENCE/data/clean_images/test/labels/48075.txt'"
      ]
     },
     "execution_count": 161,
     "metadata": {},
     "output_type": "execute_result"
    },
    {
     "data": {
      "text/plain": [
       "'C:/Users/khanh/code/DATA_SCIENCE/data/clean_images/test/images/48078.jpg'"
      ]
     },
     "execution_count": 161,
     "metadata": {},
     "output_type": "execute_result"
    },
    {
     "data": {
      "text/plain": [
       "'C:/Users/khanh/code/DATA_SCIENCE/data/clean_images/test/labels/48078.txt'"
      ]
     },
     "execution_count": 161,
     "metadata": {},
     "output_type": "execute_result"
    },
    {
     "data": {
      "text/plain": [
       "'C:/Users/khanh/code/DATA_SCIENCE/data/clean_images/test/images/48079.jpg'"
      ]
     },
     "execution_count": 161,
     "metadata": {},
     "output_type": "execute_result"
    },
    {
     "data": {
      "text/plain": [
       "'C:/Users/khanh/code/DATA_SCIENCE/data/clean_images/test/labels/48079.txt'"
      ]
     },
     "execution_count": 161,
     "metadata": {},
     "output_type": "execute_result"
    },
    {
     "data": {
      "text/plain": [
       "'C:/Users/khanh/code/DATA_SCIENCE/data/clean_images/test/images/7070.jpg'"
      ]
     },
     "execution_count": 161,
     "metadata": {},
     "output_type": "execute_result"
    },
    {
     "data": {
      "text/plain": [
       "'C:/Users/khanh/code/DATA_SCIENCE/data/clean_images/test/labels/7070.txt'"
      ]
     },
     "execution_count": 161,
     "metadata": {},
     "output_type": "execute_result"
    },
    {
     "data": {
      "text/plain": [
       "'C:/Users/khanh/code/DATA_SCIENCE/data/clean_images/test/images/7071.jpg'"
      ]
     },
     "execution_count": 161,
     "metadata": {},
     "output_type": "execute_result"
    },
    {
     "data": {
      "text/plain": [
       "'C:/Users/khanh/code/DATA_SCIENCE/data/clean_images/test/labels/7071.txt'"
      ]
     },
     "execution_count": 161,
     "metadata": {},
     "output_type": "execute_result"
    },
    {
     "data": {
      "text/plain": [
       "'C:/Users/khanh/code/DATA_SCIENCE/data/clean_images/test/images/7073.jpg'"
      ]
     },
     "execution_count": 161,
     "metadata": {},
     "output_type": "execute_result"
    },
    {
     "data": {
      "text/plain": [
       "'C:/Users/khanh/code/DATA_SCIENCE/data/clean_images/test/labels/7073.txt'"
      ]
     },
     "execution_count": 161,
     "metadata": {},
     "output_type": "execute_result"
    },
    {
     "data": {
      "text/plain": [
       "'C:/Users/khanh/code/DATA_SCIENCE/data/clean_images/test/images/7075.jpg'"
      ]
     },
     "execution_count": 161,
     "metadata": {},
     "output_type": "execute_result"
    },
    {
     "data": {
      "text/plain": [
       "'C:/Users/khanh/code/DATA_SCIENCE/data/clean_images/test/labels/7075.txt'"
      ]
     },
     "execution_count": 161,
     "metadata": {},
     "output_type": "execute_result"
    },
    {
     "data": {
      "text/plain": [
       "'C:/Users/khanh/code/DATA_SCIENCE/data/clean_images/test/images/1742.jpg'"
      ]
     },
     "execution_count": 161,
     "metadata": {},
     "output_type": "execute_result"
    },
    {
     "data": {
      "text/plain": [
       "'C:/Users/khanh/code/DATA_SCIENCE/data/clean_images/test/labels/1742.txt'"
      ]
     },
     "execution_count": 161,
     "metadata": {},
     "output_type": "execute_result"
    },
    {
     "data": {
      "text/plain": [
       "'C:/Users/khanh/code/DATA_SCIENCE/data/clean_images/test/images/20056.jpg'"
      ]
     },
     "execution_count": 161,
     "metadata": {},
     "output_type": "execute_result"
    },
    {
     "data": {
      "text/plain": [
       "'C:/Users/khanh/code/DATA_SCIENCE/data/clean_images/test/labels/20056.txt'"
      ]
     },
     "execution_count": 161,
     "metadata": {},
     "output_type": "execute_result"
    },
    {
     "data": {
      "text/plain": [
       "'C:/Users/khanh/code/DATA_SCIENCE/data/clean_images/test/images/20057.jpg'"
      ]
     },
     "execution_count": 161,
     "metadata": {},
     "output_type": "execute_result"
    },
    {
     "data": {
      "text/plain": [
       "'C:/Users/khanh/code/DATA_SCIENCE/data/clean_images/test/labels/20057.txt'"
      ]
     },
     "execution_count": 161,
     "metadata": {},
     "output_type": "execute_result"
    },
    {
     "data": {
      "text/plain": [
       "'C:/Users/khanh/code/DATA_SCIENCE/data/clean_images/test/images/20058.jpg'"
      ]
     },
     "execution_count": 161,
     "metadata": {},
     "output_type": "execute_result"
    },
    {
     "data": {
      "text/plain": [
       "'C:/Users/khanh/code/DATA_SCIENCE/data/clean_images/test/labels/20058.txt'"
      ]
     },
     "execution_count": 161,
     "metadata": {},
     "output_type": "execute_result"
    },
    {
     "data": {
      "text/plain": [
       "'C:/Users/khanh/code/DATA_SCIENCE/data/clean_images/test/images/39588.jpg'"
      ]
     },
     "execution_count": 161,
     "metadata": {},
     "output_type": "execute_result"
    },
    {
     "data": {
      "text/plain": [
       "'C:/Users/khanh/code/DATA_SCIENCE/data/clean_images/test/labels/39588.txt'"
      ]
     },
     "execution_count": 161,
     "metadata": {},
     "output_type": "execute_result"
    },
    {
     "data": {
      "text/plain": [
       "'C:/Users/khanh/code/DATA_SCIENCE/data/clean_images/test/images/39589.jpg'"
      ]
     },
     "execution_count": 161,
     "metadata": {},
     "output_type": "execute_result"
    },
    {
     "data": {
      "text/plain": [
       "'C:/Users/khanh/code/DATA_SCIENCE/data/clean_images/test/labels/39589.txt'"
      ]
     },
     "execution_count": 161,
     "metadata": {},
     "output_type": "execute_result"
    },
    {
     "data": {
      "text/plain": [
       "'C:/Users/khanh/code/DATA_SCIENCE/data/clean_images/test/images/39524.jpg'"
      ]
     },
     "execution_count": 161,
     "metadata": {},
     "output_type": "execute_result"
    },
    {
     "data": {
      "text/plain": [
       "'C:/Users/khanh/code/DATA_SCIENCE/data/clean_images/test/labels/39524.txt'"
      ]
     },
     "execution_count": 161,
     "metadata": {},
     "output_type": "execute_result"
    },
    {
     "data": {
      "text/plain": [
       "'C:/Users/khanh/code/DATA_SCIENCE/data/clean_images/test/images/39525.jpg'"
      ]
     },
     "execution_count": 161,
     "metadata": {},
     "output_type": "execute_result"
    },
    {
     "data": {
      "text/plain": [
       "'C:/Users/khanh/code/DATA_SCIENCE/data/clean_images/test/labels/39525.txt'"
      ]
     },
     "execution_count": 161,
     "metadata": {},
     "output_type": "execute_result"
    },
    {
     "data": {
      "text/plain": [
       "'C:/Users/khanh/code/DATA_SCIENCE/data/clean_images/test/images/39526.jpg'"
      ]
     },
     "execution_count": 161,
     "metadata": {},
     "output_type": "execute_result"
    },
    {
     "data": {
      "text/plain": [
       "'C:/Users/khanh/code/DATA_SCIENCE/data/clean_images/test/labels/39526.txt'"
      ]
     },
     "execution_count": 161,
     "metadata": {},
     "output_type": "execute_result"
    },
    {
     "data": {
      "text/plain": [
       "'C:/Users/khanh/code/DATA_SCIENCE/data/clean_images/test/images/39527.jpg'"
      ]
     },
     "execution_count": 161,
     "metadata": {},
     "output_type": "execute_result"
    },
    {
     "data": {
      "text/plain": [
       "'C:/Users/khanh/code/DATA_SCIENCE/data/clean_images/test/labels/39527.txt'"
      ]
     },
     "execution_count": 161,
     "metadata": {},
     "output_type": "execute_result"
    },
    {
     "data": {
      "text/plain": [
       "'C:/Users/khanh/code/DATA_SCIENCE/data/clean_images/test/images/5155.jpg'"
      ]
     },
     "execution_count": 161,
     "metadata": {},
     "output_type": "execute_result"
    },
    {
     "data": {
      "text/plain": [
       "'C:/Users/khanh/code/DATA_SCIENCE/data/clean_images/test/labels/5155.txt'"
      ]
     },
     "execution_count": 161,
     "metadata": {},
     "output_type": "execute_result"
    },
    {
     "data": {
      "text/plain": [
       "'C:/Users/khanh/code/DATA_SCIENCE/data/clean_images/test/images/5156.jpg'"
      ]
     },
     "execution_count": 161,
     "metadata": {},
     "output_type": "execute_result"
    },
    {
     "data": {
      "text/plain": [
       "'C:/Users/khanh/code/DATA_SCIENCE/data/clean_images/test/labels/5156.txt'"
      ]
     },
     "execution_count": 161,
     "metadata": {},
     "output_type": "execute_result"
    },
    {
     "data": {
      "text/plain": [
       "'C:/Users/khanh/code/DATA_SCIENCE/data/clean_images/test/images/5157.jpg'"
      ]
     },
     "execution_count": 161,
     "metadata": {},
     "output_type": "execute_result"
    },
    {
     "data": {
      "text/plain": [
       "'C:/Users/khanh/code/DATA_SCIENCE/data/clean_images/test/labels/5157.txt'"
      ]
     },
     "execution_count": 161,
     "metadata": {},
     "output_type": "execute_result"
    },
    {
     "data": {
      "text/plain": [
       "'C:/Users/khanh/code/DATA_SCIENCE/data/clean_images/test/images/5158.jpg'"
      ]
     },
     "execution_count": 161,
     "metadata": {},
     "output_type": "execute_result"
    },
    {
     "data": {
      "text/plain": [
       "'C:/Users/khanh/code/DATA_SCIENCE/data/clean_images/test/labels/5158.txt'"
      ]
     },
     "execution_count": 161,
     "metadata": {},
     "output_type": "execute_result"
    },
    {
     "data": {
      "text/plain": [
       "'C:/Users/khanh/code/DATA_SCIENCE/data/clean_images/test/images/5159.jpg'"
      ]
     },
     "execution_count": 161,
     "metadata": {},
     "output_type": "execute_result"
    },
    {
     "data": {
      "text/plain": [
       "'C:/Users/khanh/code/DATA_SCIENCE/data/clean_images/test/labels/5159.txt'"
      ]
     },
     "execution_count": 161,
     "metadata": {},
     "output_type": "execute_result"
    },
    {
     "data": {
      "text/plain": [
       "'C:/Users/khanh/code/DATA_SCIENCE/data/clean_images/test/images/5160.jpg'"
      ]
     },
     "execution_count": 161,
     "metadata": {},
     "output_type": "execute_result"
    },
    {
     "data": {
      "text/plain": [
       "'C:/Users/khanh/code/DATA_SCIENCE/data/clean_images/test/labels/5160.txt'"
      ]
     },
     "execution_count": 161,
     "metadata": {},
     "output_type": "execute_result"
    },
    {
     "data": {
      "text/plain": [
       "'C:/Users/khanh/code/DATA_SCIENCE/data/clean_images/test/images/27940.jpg'"
      ]
     },
     "execution_count": 161,
     "metadata": {},
     "output_type": "execute_result"
    },
    {
     "data": {
      "text/plain": [
       "'C:/Users/khanh/code/DATA_SCIENCE/data/clean_images/test/labels/27940.txt'"
      ]
     },
     "execution_count": 161,
     "metadata": {},
     "output_type": "execute_result"
    },
    {
     "data": {
      "text/plain": [
       "'C:/Users/khanh/code/DATA_SCIENCE/data/clean_images/test/images/27941.jpg'"
      ]
     },
     "execution_count": 161,
     "metadata": {},
     "output_type": "execute_result"
    },
    {
     "data": {
      "text/plain": [
       "'C:/Users/khanh/code/DATA_SCIENCE/data/clean_images/test/labels/27941.txt'"
      ]
     },
     "execution_count": 161,
     "metadata": {},
     "output_type": "execute_result"
    },
    {
     "data": {
      "text/plain": [
       "'C:/Users/khanh/code/DATA_SCIENCE/data/clean_images/test/images/27942.jpg'"
      ]
     },
     "execution_count": 161,
     "metadata": {},
     "output_type": "execute_result"
    },
    {
     "data": {
      "text/plain": [
       "'C:/Users/khanh/code/DATA_SCIENCE/data/clean_images/test/labels/27942.txt'"
      ]
     },
     "execution_count": 161,
     "metadata": {},
     "output_type": "execute_result"
    },
    {
     "data": {
      "text/plain": [
       "'C:/Users/khanh/code/DATA_SCIENCE/data/clean_images/test/images/27943.jpg'"
      ]
     },
     "execution_count": 161,
     "metadata": {},
     "output_type": "execute_result"
    },
    {
     "data": {
      "text/plain": [
       "'C:/Users/khanh/code/DATA_SCIENCE/data/clean_images/test/labels/27943.txt'"
      ]
     },
     "execution_count": 161,
     "metadata": {},
     "output_type": "execute_result"
    },
    {
     "data": {
      "text/plain": [
       "'C:/Users/khanh/code/DATA_SCIENCE/data/clean_images/test/images/7313.jpg'"
      ]
     },
     "execution_count": 161,
     "metadata": {},
     "output_type": "execute_result"
    },
    {
     "data": {
      "text/plain": [
       "'C:/Users/khanh/code/DATA_SCIENCE/data/clean_images/test/labels/7313.txt'"
      ]
     },
     "execution_count": 161,
     "metadata": {},
     "output_type": "execute_result"
    },
    {
     "data": {
      "text/plain": [
       "'C:/Users/khanh/code/DATA_SCIENCE/data/clean_images/test/images/7316.jpg'"
      ]
     },
     "execution_count": 161,
     "metadata": {},
     "output_type": "execute_result"
    },
    {
     "data": {
      "text/plain": [
       "'C:/Users/khanh/code/DATA_SCIENCE/data/clean_images/test/labels/7316.txt'"
      ]
     },
     "execution_count": 161,
     "metadata": {},
     "output_type": "execute_result"
    },
    {
     "data": {
      "text/plain": [
       "'C:/Users/khanh/code/DATA_SCIENCE/data/clean_images/test/images/7317.jpg'"
      ]
     },
     "execution_count": 161,
     "metadata": {},
     "output_type": "execute_result"
    },
    {
     "data": {
      "text/plain": [
       "'C:/Users/khanh/code/DATA_SCIENCE/data/clean_images/test/labels/7317.txt'"
      ]
     },
     "execution_count": 161,
     "metadata": {},
     "output_type": "execute_result"
    },
    {
     "data": {
      "text/plain": [
       "'C:/Users/khanh/code/DATA_SCIENCE/data/clean_images/test/images/7318.jpg'"
      ]
     },
     "execution_count": 161,
     "metadata": {},
     "output_type": "execute_result"
    },
    {
     "data": {
      "text/plain": [
       "'C:/Users/khanh/code/DATA_SCIENCE/data/clean_images/test/labels/7318.txt'"
      ]
     },
     "execution_count": 161,
     "metadata": {},
     "output_type": "execute_result"
    },
    {
     "data": {
      "text/plain": [
       "'C:/Users/khanh/code/DATA_SCIENCE/data/clean_images/test/images/6318.jpg'"
      ]
     },
     "execution_count": 161,
     "metadata": {},
     "output_type": "execute_result"
    },
    {
     "data": {
      "text/plain": [
       "'C:/Users/khanh/code/DATA_SCIENCE/data/clean_images/test/labels/6318.txt'"
      ]
     },
     "execution_count": 161,
     "metadata": {},
     "output_type": "execute_result"
    },
    {
     "data": {
      "text/plain": [
       "'C:/Users/khanh/code/DATA_SCIENCE/data/clean_images/test/images/6320.jpg'"
      ]
     },
     "execution_count": 161,
     "metadata": {},
     "output_type": "execute_result"
    },
    {
     "data": {
      "text/plain": [
       "'C:/Users/khanh/code/DATA_SCIENCE/data/clean_images/test/labels/6320.txt'"
      ]
     },
     "execution_count": 161,
     "metadata": {},
     "output_type": "execute_result"
    },
    {
     "data": {
      "text/plain": [
       "'C:/Users/khanh/code/DATA_SCIENCE/data/clean_images/test/images/6321.jpg'"
      ]
     },
     "execution_count": 161,
     "metadata": {},
     "output_type": "execute_result"
    },
    {
     "data": {
      "text/plain": [
       "'C:/Users/khanh/code/DATA_SCIENCE/data/clean_images/test/labels/6321.txt'"
      ]
     },
     "execution_count": 161,
     "metadata": {},
     "output_type": "execute_result"
    },
    {
     "data": {
      "text/plain": [
       "'C:/Users/khanh/code/DATA_SCIENCE/data/clean_images/test/images/25550.jpg'"
      ]
     },
     "execution_count": 161,
     "metadata": {},
     "output_type": "execute_result"
    },
    {
     "data": {
      "text/plain": [
       "'C:/Users/khanh/code/DATA_SCIENCE/data/clean_images/test/labels/25550.txt'"
      ]
     },
     "execution_count": 161,
     "metadata": {},
     "output_type": "execute_result"
    },
    {
     "data": {
      "text/plain": [
       "'C:/Users/khanh/code/DATA_SCIENCE/data/clean_images/test/images/25551.jpg'"
      ]
     },
     "execution_count": 161,
     "metadata": {},
     "output_type": "execute_result"
    },
    {
     "data": {
      "text/plain": [
       "'C:/Users/khanh/code/DATA_SCIENCE/data/clean_images/test/labels/25551.txt'"
      ]
     },
     "execution_count": 161,
     "metadata": {},
     "output_type": "execute_result"
    },
    {
     "data": {
      "text/plain": [
       "'C:/Users/khanh/code/DATA_SCIENCE/data/clean_images/test/images/25554.jpg'"
      ]
     },
     "execution_count": 161,
     "metadata": {},
     "output_type": "execute_result"
    },
    {
     "data": {
      "text/plain": [
       "'C:/Users/khanh/code/DATA_SCIENCE/data/clean_images/test/labels/25554.txt'"
      ]
     },
     "execution_count": 161,
     "metadata": {},
     "output_type": "execute_result"
    },
    {
     "data": {
      "text/plain": [
       "'C:/Users/khanh/code/DATA_SCIENCE/data/clean_images/test/images/5890.jpg'"
      ]
     },
     "execution_count": 161,
     "metadata": {},
     "output_type": "execute_result"
    },
    {
     "data": {
      "text/plain": [
       "'C:/Users/khanh/code/DATA_SCIENCE/data/clean_images/test/labels/5890.txt'"
      ]
     },
     "execution_count": 161,
     "metadata": {},
     "output_type": "execute_result"
    },
    {
     "data": {
      "text/plain": [
       "'C:/Users/khanh/code/DATA_SCIENCE/data/clean_images/test/images/5893.jpg'"
      ]
     },
     "execution_count": 161,
     "metadata": {},
     "output_type": "execute_result"
    },
    {
     "data": {
      "text/plain": [
       "'C:/Users/khanh/code/DATA_SCIENCE/data/clean_images/test/labels/5893.txt'"
      ]
     },
     "execution_count": 161,
     "metadata": {},
     "output_type": "execute_result"
    },
    {
     "data": {
      "text/plain": [
       "'C:/Users/khanh/code/DATA_SCIENCE/data/clean_images/test/images/5894.jpg'"
      ]
     },
     "execution_count": 161,
     "metadata": {},
     "output_type": "execute_result"
    },
    {
     "data": {
      "text/plain": [
       "'C:/Users/khanh/code/DATA_SCIENCE/data/clean_images/test/labels/5894.txt'"
      ]
     },
     "execution_count": 161,
     "metadata": {},
     "output_type": "execute_result"
    },
    {
     "data": {
      "text/plain": [
       "'C:/Users/khanh/code/DATA_SCIENCE/data/clean_images/test/images/30936.jpg'"
      ]
     },
     "execution_count": 161,
     "metadata": {},
     "output_type": "execute_result"
    },
    {
     "data": {
      "text/plain": [
       "'C:/Users/khanh/code/DATA_SCIENCE/data/clean_images/test/labels/30936.txt'"
      ]
     },
     "execution_count": 161,
     "metadata": {},
     "output_type": "execute_result"
    },
    {
     "data": {
      "text/plain": [
       "'C:/Users/khanh/code/DATA_SCIENCE/data/clean_images/test/images/30937.jpg'"
      ]
     },
     "execution_count": 161,
     "metadata": {},
     "output_type": "execute_result"
    },
    {
     "data": {
      "text/plain": [
       "'C:/Users/khanh/code/DATA_SCIENCE/data/clean_images/test/labels/30937.txt'"
      ]
     },
     "execution_count": 161,
     "metadata": {},
     "output_type": "execute_result"
    },
    {
     "data": {
      "text/plain": [
       "'C:/Users/khanh/code/DATA_SCIENCE/data/clean_images/test/images/30939.jpg'"
      ]
     },
     "execution_count": 161,
     "metadata": {},
     "output_type": "execute_result"
    },
    {
     "data": {
      "text/plain": [
       "'C:/Users/khanh/code/DATA_SCIENCE/data/clean_images/test/labels/30939.txt'"
      ]
     },
     "execution_count": 161,
     "metadata": {},
     "output_type": "execute_result"
    },
    {
     "data": {
      "text/plain": [
       "'C:/Users/khanh/code/DATA_SCIENCE/data/clean_images/test/images/36477.jpg'"
      ]
     },
     "execution_count": 161,
     "metadata": {},
     "output_type": "execute_result"
    },
    {
     "data": {
      "text/plain": [
       "'C:/Users/khanh/code/DATA_SCIENCE/data/clean_images/test/labels/36477.txt'"
      ]
     },
     "execution_count": 161,
     "metadata": {},
     "output_type": "execute_result"
    },
    {
     "data": {
      "text/plain": [
       "'C:/Users/khanh/code/DATA_SCIENCE/data/clean_images/test/images/49422.jpg'"
      ]
     },
     "execution_count": 161,
     "metadata": {},
     "output_type": "execute_result"
    },
    {
     "data": {
      "text/plain": [
       "'C:/Users/khanh/code/DATA_SCIENCE/data/clean_images/test/labels/49422.txt'"
      ]
     },
     "execution_count": 161,
     "metadata": {},
     "output_type": "execute_result"
    },
    {
     "data": {
      "text/plain": [
       "'C:/Users/khanh/code/DATA_SCIENCE/data/clean_images/test/images/49423.jpg'"
      ]
     },
     "execution_count": 161,
     "metadata": {},
     "output_type": "execute_result"
    },
    {
     "data": {
      "text/plain": [
       "'C:/Users/khanh/code/DATA_SCIENCE/data/clean_images/test/labels/49423.txt'"
      ]
     },
     "execution_count": 161,
     "metadata": {},
     "output_type": "execute_result"
    },
    {
     "data": {
      "text/plain": [
       "'C:/Users/khanh/code/DATA_SCIENCE/data/clean_images/test/images/49424.jpg'"
      ]
     },
     "execution_count": 161,
     "metadata": {},
     "output_type": "execute_result"
    },
    {
     "data": {
      "text/plain": [
       "'C:/Users/khanh/code/DATA_SCIENCE/data/clean_images/test/labels/49424.txt'"
      ]
     },
     "execution_count": 161,
     "metadata": {},
     "output_type": "execute_result"
    },
    {
     "data": {
      "text/plain": [
       "'C:/Users/khanh/code/DATA_SCIENCE/data/clean_images/test/images/33227.jpg'"
      ]
     },
     "execution_count": 161,
     "metadata": {},
     "output_type": "execute_result"
    },
    {
     "data": {
      "text/plain": [
       "'C:/Users/khanh/code/DATA_SCIENCE/data/clean_images/test/labels/33227.txt'"
      ]
     },
     "execution_count": 161,
     "metadata": {},
     "output_type": "execute_result"
    },
    {
     "data": {
      "text/plain": [
       "'C:/Users/khanh/code/DATA_SCIENCE/data/clean_images/test/images/33228.jpg'"
      ]
     },
     "execution_count": 161,
     "metadata": {},
     "output_type": "execute_result"
    },
    {
     "data": {
      "text/plain": [
       "'C:/Users/khanh/code/DATA_SCIENCE/data/clean_images/test/labels/33228.txt'"
      ]
     },
     "execution_count": 161,
     "metadata": {},
     "output_type": "execute_result"
    },
    {
     "data": {
      "text/plain": [
       "'C:/Users/khanh/code/DATA_SCIENCE/data/clean_images/test/images/33229.jpg'"
      ]
     },
     "execution_count": 161,
     "metadata": {},
     "output_type": "execute_result"
    },
    {
     "data": {
      "text/plain": [
       "'C:/Users/khanh/code/DATA_SCIENCE/data/clean_images/test/labels/33229.txt'"
      ]
     },
     "execution_count": 161,
     "metadata": {},
     "output_type": "execute_result"
    },
    {
     "data": {
      "text/plain": [
       "'C:/Users/khanh/code/DATA_SCIENCE/data/clean_images/test/images/33230.jpg'"
      ]
     },
     "execution_count": 161,
     "metadata": {},
     "output_type": "execute_result"
    },
    {
     "data": {
      "text/plain": [
       "'C:/Users/khanh/code/DATA_SCIENCE/data/clean_images/test/labels/33230.txt'"
      ]
     },
     "execution_count": 161,
     "metadata": {},
     "output_type": "execute_result"
    },
    {
     "data": {
      "text/plain": [
       "'C:/Users/khanh/code/DATA_SCIENCE/data/clean_images/test/images/33231.jpg'"
      ]
     },
     "execution_count": 161,
     "metadata": {},
     "output_type": "execute_result"
    },
    {
     "data": {
      "text/plain": [
       "'C:/Users/khanh/code/DATA_SCIENCE/data/clean_images/test/labels/33231.txt'"
      ]
     },
     "execution_count": 161,
     "metadata": {},
     "output_type": "execute_result"
    },
    {
     "data": {
      "text/plain": [
       "'C:/Users/khanh/code/DATA_SCIENCE/data/clean_images/test/images/33232.jpg'"
      ]
     },
     "execution_count": 161,
     "metadata": {},
     "output_type": "execute_result"
    },
    {
     "data": {
      "text/plain": [
       "'C:/Users/khanh/code/DATA_SCIENCE/data/clean_images/test/labels/33232.txt'"
      ]
     },
     "execution_count": 161,
     "metadata": {},
     "output_type": "execute_result"
    },
    {
     "data": {
      "text/plain": [
       "'C:/Users/khanh/code/DATA_SCIENCE/data/clean_images/test/images/47170.jpg'"
      ]
     },
     "execution_count": 161,
     "metadata": {},
     "output_type": "execute_result"
    },
    {
     "data": {
      "text/plain": [
       "'C:/Users/khanh/code/DATA_SCIENCE/data/clean_images/test/labels/47170.txt'"
      ]
     },
     "execution_count": 161,
     "metadata": {},
     "output_type": "execute_result"
    },
    {
     "data": {
      "text/plain": [
       "'C:/Users/khanh/code/DATA_SCIENCE/data/clean_images/test/images/47171.jpg'"
      ]
     },
     "execution_count": 161,
     "metadata": {},
     "output_type": "execute_result"
    },
    {
     "data": {
      "text/plain": [
       "'C:/Users/khanh/code/DATA_SCIENCE/data/clean_images/test/labels/47171.txt'"
      ]
     },
     "execution_count": 161,
     "metadata": {},
     "output_type": "execute_result"
    },
    {
     "data": {
      "text/plain": [
       "'C:/Users/khanh/code/DATA_SCIENCE/data/clean_images/test/images/47172.jpg'"
      ]
     },
     "execution_count": 161,
     "metadata": {},
     "output_type": "execute_result"
    },
    {
     "data": {
      "text/plain": [
       "'C:/Users/khanh/code/DATA_SCIENCE/data/clean_images/test/labels/47172.txt'"
      ]
     },
     "execution_count": 161,
     "metadata": {},
     "output_type": "execute_result"
    },
    {
     "data": {
      "text/plain": [
       "'C:/Users/khanh/code/DATA_SCIENCE/data/clean_images/test/images/47173.jpg'"
      ]
     },
     "execution_count": 161,
     "metadata": {},
     "output_type": "execute_result"
    },
    {
     "data": {
      "text/plain": [
       "'C:/Users/khanh/code/DATA_SCIENCE/data/clean_images/test/labels/47173.txt'"
      ]
     },
     "execution_count": 161,
     "metadata": {},
     "output_type": "execute_result"
    },
    {
     "data": {
      "text/plain": [
       "'C:/Users/khanh/code/DATA_SCIENCE/data/clean_images/test/images/47174.jpg'"
      ]
     },
     "execution_count": 161,
     "metadata": {},
     "output_type": "execute_result"
    },
    {
     "data": {
      "text/plain": [
       "'C:/Users/khanh/code/DATA_SCIENCE/data/clean_images/test/labels/47174.txt'"
      ]
     },
     "execution_count": 161,
     "metadata": {},
     "output_type": "execute_result"
    },
    {
     "data": {
      "text/plain": [
       "'C:/Users/khanh/code/DATA_SCIENCE/data/clean_images/test/images/10820.jpg'"
      ]
     },
     "execution_count": 161,
     "metadata": {},
     "output_type": "execute_result"
    },
    {
     "data": {
      "text/plain": [
       "'C:/Users/khanh/code/DATA_SCIENCE/data/clean_images/test/labels/10820.txt'"
      ]
     },
     "execution_count": 161,
     "metadata": {},
     "output_type": "execute_result"
    },
    {
     "data": {
      "text/plain": [
       "'C:/Users/khanh/code/DATA_SCIENCE/data/clean_images/test/images/10822.jpg'"
      ]
     },
     "execution_count": 161,
     "metadata": {},
     "output_type": "execute_result"
    },
    {
     "data": {
      "text/plain": [
       "'C:/Users/khanh/code/DATA_SCIENCE/data/clean_images/test/labels/10822.txt'"
      ]
     },
     "execution_count": 161,
     "metadata": {},
     "output_type": "execute_result"
    },
    {
     "data": {
      "text/plain": [
       "'C:/Users/khanh/code/DATA_SCIENCE/data/clean_images/test/images/10824.jpg'"
      ]
     },
     "execution_count": 161,
     "metadata": {},
     "output_type": "execute_result"
    },
    {
     "data": {
      "text/plain": [
       "'C:/Users/khanh/code/DATA_SCIENCE/data/clean_images/test/labels/10824.txt'"
      ]
     },
     "execution_count": 161,
     "metadata": {},
     "output_type": "execute_result"
    },
    {
     "data": {
      "text/plain": [
       "'C:/Users/khanh/code/DATA_SCIENCE/data/clean_images/test/images/41360.jpg'"
      ]
     },
     "execution_count": 161,
     "metadata": {},
     "output_type": "execute_result"
    },
    {
     "data": {
      "text/plain": [
       "'C:/Users/khanh/code/DATA_SCIENCE/data/clean_images/test/labels/41360.txt'"
      ]
     },
     "execution_count": 161,
     "metadata": {},
     "output_type": "execute_result"
    },
    {
     "data": {
      "text/plain": [
       "'C:/Users/khanh/code/DATA_SCIENCE/data/clean_images/test/images/44383.jpg'"
      ]
     },
     "execution_count": 161,
     "metadata": {},
     "output_type": "execute_result"
    },
    {
     "data": {
      "text/plain": [
       "'C:/Users/khanh/code/DATA_SCIENCE/data/clean_images/test/labels/44383.txt'"
      ]
     },
     "execution_count": 161,
     "metadata": {},
     "output_type": "execute_result"
    },
    {
     "data": {
      "text/plain": [
       "'C:/Users/khanh/code/DATA_SCIENCE/data/clean_images/test/images/44384.jpg'"
      ]
     },
     "execution_count": 161,
     "metadata": {},
     "output_type": "execute_result"
    },
    {
     "data": {
      "text/plain": [
       "'C:/Users/khanh/code/DATA_SCIENCE/data/clean_images/test/labels/44384.txt'"
      ]
     },
     "execution_count": 161,
     "metadata": {},
     "output_type": "execute_result"
    },
    {
     "data": {
      "text/plain": [
       "'C:/Users/khanh/code/DATA_SCIENCE/data/clean_images/test/images/44385.jpg'"
      ]
     },
     "execution_count": 161,
     "metadata": {},
     "output_type": "execute_result"
    },
    {
     "data": {
      "text/plain": [
       "'C:/Users/khanh/code/DATA_SCIENCE/data/clean_images/test/labels/44385.txt'"
      ]
     },
     "execution_count": 161,
     "metadata": {},
     "output_type": "execute_result"
    },
    {
     "data": {
      "text/plain": [
       "'C:/Users/khanh/code/DATA_SCIENCE/data/clean_images/test/images/44386.jpg'"
      ]
     },
     "execution_count": 161,
     "metadata": {},
     "output_type": "execute_result"
    },
    {
     "data": {
      "text/plain": [
       "'C:/Users/khanh/code/DATA_SCIENCE/data/clean_images/test/labels/44386.txt'"
      ]
     },
     "execution_count": 161,
     "metadata": {},
     "output_type": "execute_result"
    },
    {
     "data": {
      "text/plain": [
       "'C:/Users/khanh/code/DATA_SCIENCE/data/clean_images/test/images/10588.jpg'"
      ]
     },
     "execution_count": 161,
     "metadata": {},
     "output_type": "execute_result"
    },
    {
     "data": {
      "text/plain": [
       "'C:/Users/khanh/code/DATA_SCIENCE/data/clean_images/test/labels/10588.txt'"
      ]
     },
     "execution_count": 161,
     "metadata": {},
     "output_type": "execute_result"
    },
    {
     "data": {
      "text/plain": [
       "'C:/Users/khanh/code/DATA_SCIENCE/data/clean_images/test/images/10589.jpg'"
      ]
     },
     "execution_count": 161,
     "metadata": {},
     "output_type": "execute_result"
    },
    {
     "data": {
      "text/plain": [
       "'C:/Users/khanh/code/DATA_SCIENCE/data/clean_images/test/labels/10589.txt'"
      ]
     },
     "execution_count": 161,
     "metadata": {},
     "output_type": "execute_result"
    },
    {
     "data": {
      "text/plain": [
       "'C:/Users/khanh/code/DATA_SCIENCE/data/clean_images/test/images/6651.jpg'"
      ]
     },
     "execution_count": 161,
     "metadata": {},
     "output_type": "execute_result"
    },
    {
     "data": {
      "text/plain": [
       "'C:/Users/khanh/code/DATA_SCIENCE/data/clean_images/test/labels/6651.txt'"
      ]
     },
     "execution_count": 161,
     "metadata": {},
     "output_type": "execute_result"
    },
    {
     "data": {
      "text/plain": [
       "'C:/Users/khanh/code/DATA_SCIENCE/data/clean_images/test/images/6652.jpg'"
      ]
     },
     "execution_count": 161,
     "metadata": {},
     "output_type": "execute_result"
    },
    {
     "data": {
      "text/plain": [
       "'C:/Users/khanh/code/DATA_SCIENCE/data/clean_images/test/labels/6652.txt'"
      ]
     },
     "execution_count": 161,
     "metadata": {},
     "output_type": "execute_result"
    },
    {
     "data": {
      "text/plain": [
       "'C:/Users/khanh/code/DATA_SCIENCE/data/clean_images/test/images/6654.jpg'"
      ]
     },
     "execution_count": 161,
     "metadata": {},
     "output_type": "execute_result"
    },
    {
     "data": {
      "text/plain": [
       "'C:/Users/khanh/code/DATA_SCIENCE/data/clean_images/test/labels/6654.txt'"
      ]
     },
     "execution_count": 161,
     "metadata": {},
     "output_type": "execute_result"
    },
    {
     "data": {
      "text/plain": [
       "'C:/Users/khanh/code/DATA_SCIENCE/data/clean_images/test/images/43475.jpg'"
      ]
     },
     "execution_count": 161,
     "metadata": {},
     "output_type": "execute_result"
    },
    {
     "data": {
      "text/plain": [
       "'C:/Users/khanh/code/DATA_SCIENCE/data/clean_images/test/labels/43475.txt'"
      ]
     },
     "execution_count": 161,
     "metadata": {},
     "output_type": "execute_result"
    },
    {
     "data": {
      "text/plain": [
       "'C:/Users/khanh/code/DATA_SCIENCE/data/clean_images/test/images/43478.jpg'"
      ]
     },
     "execution_count": 161,
     "metadata": {},
     "output_type": "execute_result"
    },
    {
     "data": {
      "text/plain": [
       "'C:/Users/khanh/code/DATA_SCIENCE/data/clean_images/test/labels/43478.txt'"
      ]
     },
     "execution_count": 161,
     "metadata": {},
     "output_type": "execute_result"
    },
    {
     "data": {
      "text/plain": [
       "'C:/Users/khanh/code/DATA_SCIENCE/data/clean_images/test/images/2159.jpg'"
      ]
     },
     "execution_count": 161,
     "metadata": {},
     "output_type": "execute_result"
    },
    {
     "data": {
      "text/plain": [
       "'C:/Users/khanh/code/DATA_SCIENCE/data/clean_images/test/labels/2159.txt'"
      ]
     },
     "execution_count": 161,
     "metadata": {},
     "output_type": "execute_result"
    },
    {
     "data": {
      "text/plain": [
       "'C:/Users/khanh/code/DATA_SCIENCE/data/clean_images/test/images/45179.jpg'"
      ]
     },
     "execution_count": 161,
     "metadata": {},
     "output_type": "execute_result"
    },
    {
     "data": {
      "text/plain": [
       "'C:/Users/khanh/code/DATA_SCIENCE/data/clean_images/test/labels/45179.txt'"
      ]
     },
     "execution_count": 161,
     "metadata": {},
     "output_type": "execute_result"
    },
    {
     "data": {
      "text/plain": [
       "'C:/Users/khanh/code/DATA_SCIENCE/data/clean_images/test/images/45180.jpg'"
      ]
     },
     "execution_count": 161,
     "metadata": {},
     "output_type": "execute_result"
    },
    {
     "data": {
      "text/plain": [
       "'C:/Users/khanh/code/DATA_SCIENCE/data/clean_images/test/labels/45180.txt'"
      ]
     },
     "execution_count": 161,
     "metadata": {},
     "output_type": "execute_result"
    },
    {
     "data": {
      "text/plain": [
       "'C:/Users/khanh/code/DATA_SCIENCE/data/clean_images/test/images/45181.jpg'"
      ]
     },
     "execution_count": 161,
     "metadata": {},
     "output_type": "execute_result"
    },
    {
     "data": {
      "text/plain": [
       "'C:/Users/khanh/code/DATA_SCIENCE/data/clean_images/test/labels/45181.txt'"
      ]
     },
     "execution_count": 161,
     "metadata": {},
     "output_type": "execute_result"
    },
    {
     "data": {
      "text/plain": [
       "'C:/Users/khanh/code/DATA_SCIENCE/data/clean_images/test/images/45182.jpg'"
      ]
     },
     "execution_count": 161,
     "metadata": {},
     "output_type": "execute_result"
    },
    {
     "data": {
      "text/plain": [
       "'C:/Users/khanh/code/DATA_SCIENCE/data/clean_images/test/labels/45182.txt'"
      ]
     },
     "execution_count": 161,
     "metadata": {},
     "output_type": "execute_result"
    },
    {
     "data": {
      "text/plain": [
       "'C:/Users/khanh/code/DATA_SCIENCE/data/clean_images/test/images/2100.jpg'"
      ]
     },
     "execution_count": 161,
     "metadata": {},
     "output_type": "execute_result"
    },
    {
     "data": {
      "text/plain": [
       "'C:/Users/khanh/code/DATA_SCIENCE/data/clean_images/test/labels/2100.txt'"
      ]
     },
     "execution_count": 161,
     "metadata": {},
     "output_type": "execute_result"
    },
    {
     "data": {
      "text/plain": [
       "'C:/Users/khanh/code/DATA_SCIENCE/data/clean_images/test/images/2101.jpg'"
      ]
     },
     "execution_count": 161,
     "metadata": {},
     "output_type": "execute_result"
    },
    {
     "data": {
      "text/plain": [
       "'C:/Users/khanh/code/DATA_SCIENCE/data/clean_images/test/labels/2101.txt'"
      ]
     },
     "execution_count": 161,
     "metadata": {},
     "output_type": "execute_result"
    },
    {
     "data": {
      "text/plain": [
       "'C:/Users/khanh/code/DATA_SCIENCE/data/clean_images/test/images/2103.jpg'"
      ]
     },
     "execution_count": 161,
     "metadata": {},
     "output_type": "execute_result"
    },
    {
     "data": {
      "text/plain": [
       "'C:/Users/khanh/code/DATA_SCIENCE/data/clean_images/test/labels/2103.txt'"
      ]
     },
     "execution_count": 161,
     "metadata": {},
     "output_type": "execute_result"
    },
    {
     "data": {
      "text/plain": [
       "'C:/Users/khanh/code/DATA_SCIENCE/data/clean_images/test/images/7097.jpg'"
      ]
     },
     "execution_count": 161,
     "metadata": {},
     "output_type": "execute_result"
    },
    {
     "data": {
      "text/plain": [
       "'C:/Users/khanh/code/DATA_SCIENCE/data/clean_images/test/labels/7097.txt'"
      ]
     },
     "execution_count": 161,
     "metadata": {},
     "output_type": "execute_result"
    },
    {
     "data": {
      "text/plain": [
       "'C:/Users/khanh/code/DATA_SCIENCE/data/clean_images/test/images/7098.jpg'"
      ]
     },
     "execution_count": 161,
     "metadata": {},
     "output_type": "execute_result"
    },
    {
     "data": {
      "text/plain": [
       "'C:/Users/khanh/code/DATA_SCIENCE/data/clean_images/test/labels/7098.txt'"
      ]
     },
     "execution_count": 161,
     "metadata": {},
     "output_type": "execute_result"
    },
    {
     "data": {
      "text/plain": [
       "'C:/Users/khanh/code/DATA_SCIENCE/data/clean_images/test/images/23667.jpg'"
      ]
     },
     "execution_count": 161,
     "metadata": {},
     "output_type": "execute_result"
    },
    {
     "data": {
      "text/plain": [
       "'C:/Users/khanh/code/DATA_SCIENCE/data/clean_images/test/labels/23667.txt'"
      ]
     },
     "execution_count": 161,
     "metadata": {},
     "output_type": "execute_result"
    },
    {
     "data": {
      "text/plain": [
       "'C:/Users/khanh/code/DATA_SCIENCE/data/clean_images/test/images/23669.jpg'"
      ]
     },
     "execution_count": 161,
     "metadata": {},
     "output_type": "execute_result"
    },
    {
     "data": {
      "text/plain": [
       "'C:/Users/khanh/code/DATA_SCIENCE/data/clean_images/test/labels/23669.txt'"
      ]
     },
     "execution_count": 161,
     "metadata": {},
     "output_type": "execute_result"
    },
    {
     "data": {
      "text/plain": [
       "'C:/Users/khanh/code/DATA_SCIENCE/data/clean_images/test/images/41217.jpg'"
      ]
     },
     "execution_count": 161,
     "metadata": {},
     "output_type": "execute_result"
    },
    {
     "data": {
      "text/plain": [
       "'C:/Users/khanh/code/DATA_SCIENCE/data/clean_images/test/labels/41217.txt'"
      ]
     },
     "execution_count": 161,
     "metadata": {},
     "output_type": "execute_result"
    },
    {
     "data": {
      "text/plain": [
       "'C:/Users/khanh/code/DATA_SCIENCE/data/clean_images/test/images/41219.jpg'"
      ]
     },
     "execution_count": 161,
     "metadata": {},
     "output_type": "execute_result"
    },
    {
     "data": {
      "text/plain": [
       "'C:/Users/khanh/code/DATA_SCIENCE/data/clean_images/test/labels/41219.txt'"
      ]
     },
     "execution_count": 161,
     "metadata": {},
     "output_type": "execute_result"
    },
    {
     "data": {
      "text/plain": [
       "'C:/Users/khanh/code/DATA_SCIENCE/data/clean_images/test/images/41221.jpg'"
      ]
     },
     "execution_count": 161,
     "metadata": {},
     "output_type": "execute_result"
    },
    {
     "data": {
      "text/plain": [
       "'C:/Users/khanh/code/DATA_SCIENCE/data/clean_images/test/labels/41221.txt'"
      ]
     },
     "execution_count": 161,
     "metadata": {},
     "output_type": "execute_result"
    },
    {
     "data": {
      "text/plain": [
       "'C:/Users/khanh/code/DATA_SCIENCE/data/clean_images/test/images/41222.jpg'"
      ]
     },
     "execution_count": 161,
     "metadata": {},
     "output_type": "execute_result"
    },
    {
     "data": {
      "text/plain": [
       "'C:/Users/khanh/code/DATA_SCIENCE/data/clean_images/test/labels/41222.txt'"
      ]
     },
     "execution_count": 161,
     "metadata": {},
     "output_type": "execute_result"
    },
    {
     "data": {
      "text/plain": [
       "'C:/Users/khanh/code/DATA_SCIENCE/data/clean_images/test/images/35145.jpg'"
      ]
     },
     "execution_count": 161,
     "metadata": {},
     "output_type": "execute_result"
    },
    {
     "data": {
      "text/plain": [
       "'C:/Users/khanh/code/DATA_SCIENCE/data/clean_images/test/labels/35145.txt'"
      ]
     },
     "execution_count": 161,
     "metadata": {},
     "output_type": "execute_result"
    },
    {
     "data": {
      "text/plain": [
       "'C:/Users/khanh/code/DATA_SCIENCE/data/clean_images/test/images/35147.jpg'"
      ]
     },
     "execution_count": 161,
     "metadata": {},
     "output_type": "execute_result"
    },
    {
     "data": {
      "text/plain": [
       "'C:/Users/khanh/code/DATA_SCIENCE/data/clean_images/test/labels/35147.txt'"
      ]
     },
     "execution_count": 161,
     "metadata": {},
     "output_type": "execute_result"
    },
    {
     "data": {
      "text/plain": [
       "'C:/Users/khanh/code/DATA_SCIENCE/data/clean_images/test/images/35149.jpg'"
      ]
     },
     "execution_count": 161,
     "metadata": {},
     "output_type": "execute_result"
    },
    {
     "data": {
      "text/plain": [
       "'C:/Users/khanh/code/DATA_SCIENCE/data/clean_images/test/labels/35149.txt'"
      ]
     },
     "execution_count": 161,
     "metadata": {},
     "output_type": "execute_result"
    },
    {
     "data": {
      "text/plain": [
       "'C:/Users/khanh/code/DATA_SCIENCE/data/clean_images/test/images/35150.jpg'"
      ]
     },
     "execution_count": 161,
     "metadata": {},
     "output_type": "execute_result"
    },
    {
     "data": {
      "text/plain": [
       "'C:/Users/khanh/code/DATA_SCIENCE/data/clean_images/test/labels/35150.txt'"
      ]
     },
     "execution_count": 161,
     "metadata": {},
     "output_type": "execute_result"
    },
    {
     "data": {
      "text/plain": [
       "'C:/Users/khanh/code/DATA_SCIENCE/data/clean_images/test/images/29531.jpg'"
      ]
     },
     "execution_count": 161,
     "metadata": {},
     "output_type": "execute_result"
    },
    {
     "data": {
      "text/plain": [
       "'C:/Users/khanh/code/DATA_SCIENCE/data/clean_images/test/labels/29531.txt'"
      ]
     },
     "execution_count": 161,
     "metadata": {},
     "output_type": "execute_result"
    },
    {
     "data": {
      "text/plain": [
       "'C:/Users/khanh/code/DATA_SCIENCE/data/clean_images/test/images/29532.jpg'"
      ]
     },
     "execution_count": 161,
     "metadata": {},
     "output_type": "execute_result"
    },
    {
     "data": {
      "text/plain": [
       "'C:/Users/khanh/code/DATA_SCIENCE/data/clean_images/test/labels/29532.txt'"
      ]
     },
     "execution_count": 161,
     "metadata": {},
     "output_type": "execute_result"
    },
    {
     "data": {
      "text/plain": [
       "'C:/Users/khanh/code/DATA_SCIENCE/data/clean_images/test/images/7608.jpg'"
      ]
     },
     "execution_count": 161,
     "metadata": {},
     "output_type": "execute_result"
    },
    {
     "data": {
      "text/plain": [
       "'C:/Users/khanh/code/DATA_SCIENCE/data/clean_images/test/labels/7608.txt'"
      ]
     },
     "execution_count": 161,
     "metadata": {},
     "output_type": "execute_result"
    },
    {
     "data": {
      "text/plain": [
       "'C:/Users/khanh/code/DATA_SCIENCE/data/clean_images/test/images/7609.jpg'"
      ]
     },
     "execution_count": 161,
     "metadata": {},
     "output_type": "execute_result"
    },
    {
     "data": {
      "text/plain": [
       "'C:/Users/khanh/code/DATA_SCIENCE/data/clean_images/test/labels/7609.txt'"
      ]
     },
     "execution_count": 161,
     "metadata": {},
     "output_type": "execute_result"
    },
    {
     "data": {
      "text/plain": [
       "'C:/Users/khanh/code/DATA_SCIENCE/data/clean_images/test/images/7610.jpg'"
      ]
     },
     "execution_count": 161,
     "metadata": {},
     "output_type": "execute_result"
    },
    {
     "data": {
      "text/plain": [
       "'C:/Users/khanh/code/DATA_SCIENCE/data/clean_images/test/labels/7610.txt'"
      ]
     },
     "execution_count": 161,
     "metadata": {},
     "output_type": "execute_result"
    },
    {
     "data": {
      "text/plain": [
       "'C:/Users/khanh/code/DATA_SCIENCE/data/clean_images/test/images/52959.jpg'"
      ]
     },
     "execution_count": 161,
     "metadata": {},
     "output_type": "execute_result"
    },
    {
     "data": {
      "text/plain": [
       "'C:/Users/khanh/code/DATA_SCIENCE/data/clean_images/test/labels/52959.txt'"
      ]
     },
     "execution_count": 161,
     "metadata": {},
     "output_type": "execute_result"
    },
    {
     "data": {
      "text/plain": [
       "'C:/Users/khanh/code/DATA_SCIENCE/data/clean_images/test/images/52962.jpg'"
      ]
     },
     "execution_count": 161,
     "metadata": {},
     "output_type": "execute_result"
    },
    {
     "data": {
      "text/plain": [
       "'C:/Users/khanh/code/DATA_SCIENCE/data/clean_images/test/labels/52962.txt'"
      ]
     },
     "execution_count": 161,
     "metadata": {},
     "output_type": "execute_result"
    },
    {
     "data": {
      "text/plain": [
       "'C:/Users/khanh/code/DATA_SCIENCE/data/clean_images/test/images/40168.jpg'"
      ]
     },
     "execution_count": 161,
     "metadata": {},
     "output_type": "execute_result"
    },
    {
     "data": {
      "text/plain": [
       "'C:/Users/khanh/code/DATA_SCIENCE/data/clean_images/test/labels/40168.txt'"
      ]
     },
     "execution_count": 161,
     "metadata": {},
     "output_type": "execute_result"
    },
    {
     "data": {
      "text/plain": [
       "'C:/Users/khanh/code/DATA_SCIENCE/data/clean_images/test/images/40169.jpg'"
      ]
     },
     "execution_count": 161,
     "metadata": {},
     "output_type": "execute_result"
    },
    {
     "data": {
      "text/plain": [
       "'C:/Users/khanh/code/DATA_SCIENCE/data/clean_images/test/labels/40169.txt'"
      ]
     },
     "execution_count": 161,
     "metadata": {},
     "output_type": "execute_result"
    },
    {
     "data": {
      "text/plain": [
       "'C:/Users/khanh/code/DATA_SCIENCE/data/clean_images/test/images/40171.jpg'"
      ]
     },
     "execution_count": 161,
     "metadata": {},
     "output_type": "execute_result"
    },
    {
     "data": {
      "text/plain": [
       "'C:/Users/khanh/code/DATA_SCIENCE/data/clean_images/test/labels/40171.txt'"
      ]
     },
     "execution_count": 161,
     "metadata": {},
     "output_type": "execute_result"
    },
    {
     "data": {
      "text/plain": [
       "'C:/Users/khanh/code/DATA_SCIENCE/data/clean_images/test/images/40172.jpg'"
      ]
     },
     "execution_count": 161,
     "metadata": {},
     "output_type": "execute_result"
    },
    {
     "data": {
      "text/plain": [
       "'C:/Users/khanh/code/DATA_SCIENCE/data/clean_images/test/labels/40172.txt'"
      ]
     },
     "execution_count": 161,
     "metadata": {},
     "output_type": "execute_result"
    },
    {
     "data": {
      "text/plain": [
       "'C:/Users/khanh/code/DATA_SCIENCE/data/clean_images/test/images/11393.jpg'"
      ]
     },
     "execution_count": 161,
     "metadata": {},
     "output_type": "execute_result"
    },
    {
     "data": {
      "text/plain": [
       "'C:/Users/khanh/code/DATA_SCIENCE/data/clean_images/test/labels/11393.txt'"
      ]
     },
     "execution_count": 161,
     "metadata": {},
     "output_type": "execute_result"
    },
    {
     "data": {
      "text/plain": [
       "'C:/Users/khanh/code/DATA_SCIENCE/data/clean_images/test/images/11394.jpg'"
      ]
     },
     "execution_count": 161,
     "metadata": {},
     "output_type": "execute_result"
    },
    {
     "data": {
      "text/plain": [
       "'C:/Users/khanh/code/DATA_SCIENCE/data/clean_images/test/labels/11394.txt'"
      ]
     },
     "execution_count": 161,
     "metadata": {},
     "output_type": "execute_result"
    },
    {
     "data": {
      "text/plain": [
       "'C:/Users/khanh/code/DATA_SCIENCE/data/clean_images/test/images/11395.jpg'"
      ]
     },
     "execution_count": 161,
     "metadata": {},
     "output_type": "execute_result"
    },
    {
     "data": {
      "text/plain": [
       "'C:/Users/khanh/code/DATA_SCIENCE/data/clean_images/test/labels/11395.txt'"
      ]
     },
     "execution_count": 161,
     "metadata": {},
     "output_type": "execute_result"
    },
    {
     "data": {
      "text/plain": [
       "'C:/Users/khanh/code/DATA_SCIENCE/data/clean_images/test/images/54260.jpg'"
      ]
     },
     "execution_count": 161,
     "metadata": {},
     "output_type": "execute_result"
    },
    {
     "data": {
      "text/plain": [
       "'C:/Users/khanh/code/DATA_SCIENCE/data/clean_images/test/labels/54260.txt'"
      ]
     },
     "execution_count": 161,
     "metadata": {},
     "output_type": "execute_result"
    },
    {
     "data": {
      "text/plain": [
       "'C:/Users/khanh/code/DATA_SCIENCE/data/clean_images/test/images/54261.jpg'"
      ]
     },
     "execution_count": 161,
     "metadata": {},
     "output_type": "execute_result"
    },
    {
     "data": {
      "text/plain": [
       "'C:/Users/khanh/code/DATA_SCIENCE/data/clean_images/test/labels/54261.txt'"
      ]
     },
     "execution_count": 161,
     "metadata": {},
     "output_type": "execute_result"
    },
    {
     "data": {
      "text/plain": [
       "'C:/Users/khanh/code/DATA_SCIENCE/data/clean_images/test/images/54262.jpg'"
      ]
     },
     "execution_count": 161,
     "metadata": {},
     "output_type": "execute_result"
    },
    {
     "data": {
      "text/plain": [
       "'C:/Users/khanh/code/DATA_SCIENCE/data/clean_images/test/labels/54262.txt'"
      ]
     },
     "execution_count": 161,
     "metadata": {},
     "output_type": "execute_result"
    },
    {
     "data": {
      "text/plain": [
       "'C:/Users/khanh/code/DATA_SCIENCE/data/clean_images/test/images/54264.jpg'"
      ]
     },
     "execution_count": 161,
     "metadata": {},
     "output_type": "execute_result"
    },
    {
     "data": {
      "text/plain": [
       "'C:/Users/khanh/code/DATA_SCIENCE/data/clean_images/test/labels/54264.txt'"
      ]
     },
     "execution_count": 161,
     "metadata": {},
     "output_type": "execute_result"
    },
    {
     "data": {
      "text/plain": [
       "'C:/Users/khanh/code/DATA_SCIENCE/data/clean_images/test/images/20438.jpg'"
      ]
     },
     "execution_count": 161,
     "metadata": {},
     "output_type": "execute_result"
    },
    {
     "data": {
      "text/plain": [
       "'C:/Users/khanh/code/DATA_SCIENCE/data/clean_images/test/labels/20438.txt'"
      ]
     },
     "execution_count": 161,
     "metadata": {},
     "output_type": "execute_result"
    },
    {
     "data": {
      "text/plain": [
       "'C:/Users/khanh/code/DATA_SCIENCE/data/clean_images/test/images/20439.jpg'"
      ]
     },
     "execution_count": 161,
     "metadata": {},
     "output_type": "execute_result"
    },
    {
     "data": {
      "text/plain": [
       "'C:/Users/khanh/code/DATA_SCIENCE/data/clean_images/test/labels/20439.txt'"
      ]
     },
     "execution_count": 161,
     "metadata": {},
     "output_type": "execute_result"
    },
    {
     "data": {
      "text/plain": [
       "'C:/Users/khanh/code/DATA_SCIENCE/data/clean_images/test/images/20440.jpg'"
      ]
     },
     "execution_count": 161,
     "metadata": {},
     "output_type": "execute_result"
    },
    {
     "data": {
      "text/plain": [
       "'C:/Users/khanh/code/DATA_SCIENCE/data/clean_images/test/labels/20440.txt'"
      ]
     },
     "execution_count": 161,
     "metadata": {},
     "output_type": "execute_result"
    },
    {
     "data": {
      "text/plain": [
       "'C:/Users/khanh/code/DATA_SCIENCE/data/clean_images/test/images/20441.jpg'"
      ]
     },
     "execution_count": 161,
     "metadata": {},
     "output_type": "execute_result"
    },
    {
     "data": {
      "text/plain": [
       "'C:/Users/khanh/code/DATA_SCIENCE/data/clean_images/test/labels/20441.txt'"
      ]
     },
     "execution_count": 161,
     "metadata": {},
     "output_type": "execute_result"
    },
    {
     "data": {
      "text/plain": [
       "'C:/Users/khanh/code/DATA_SCIENCE/data/clean_images/test/images/30065.jpg'"
      ]
     },
     "execution_count": 161,
     "metadata": {},
     "output_type": "execute_result"
    },
    {
     "data": {
      "text/plain": [
       "'C:/Users/khanh/code/DATA_SCIENCE/data/clean_images/test/labels/30065.txt'"
      ]
     },
     "execution_count": 161,
     "metadata": {},
     "output_type": "execute_result"
    },
    {
     "data": {
      "text/plain": [
       "'C:/Users/khanh/code/DATA_SCIENCE/data/clean_images/test/images/1278.jpg'"
      ]
     },
     "execution_count": 161,
     "metadata": {},
     "output_type": "execute_result"
    },
    {
     "data": {
      "text/plain": [
       "'C:/Users/khanh/code/DATA_SCIENCE/data/clean_images/test/labels/1278.txt'"
      ]
     },
     "execution_count": 161,
     "metadata": {},
     "output_type": "execute_result"
    },
    {
     "data": {
      "text/plain": [
       "'C:/Users/khanh/code/DATA_SCIENCE/data/clean_images/test/images/1279.jpg'"
      ]
     },
     "execution_count": 161,
     "metadata": {},
     "output_type": "execute_result"
    },
    {
     "data": {
      "text/plain": [
       "'C:/Users/khanh/code/DATA_SCIENCE/data/clean_images/test/labels/1279.txt'"
      ]
     },
     "execution_count": 161,
     "metadata": {},
     "output_type": "execute_result"
    },
    {
     "data": {
      "text/plain": [
       "'C:/Users/khanh/code/DATA_SCIENCE/data/clean_images/test/images/1280.jpg'"
      ]
     },
     "execution_count": 161,
     "metadata": {},
     "output_type": "execute_result"
    },
    {
     "data": {
      "text/plain": [
       "'C:/Users/khanh/code/DATA_SCIENCE/data/clean_images/test/labels/1280.txt'"
      ]
     },
     "execution_count": 161,
     "metadata": {},
     "output_type": "execute_result"
    },
    {
     "data": {
      "text/plain": [
       "'C:/Users/khanh/code/DATA_SCIENCE/data/clean_images/test/images/1281.jpg'"
      ]
     },
     "execution_count": 161,
     "metadata": {},
     "output_type": "execute_result"
    },
    {
     "data": {
      "text/plain": [
       "'C:/Users/khanh/code/DATA_SCIENCE/data/clean_images/test/labels/1281.txt'"
      ]
     },
     "execution_count": 161,
     "metadata": {},
     "output_type": "execute_result"
    },
    {
     "data": {
      "text/plain": [
       "'C:/Users/khanh/code/DATA_SCIENCE/data/clean_images/test/images/7150.jpg'"
      ]
     },
     "execution_count": 161,
     "metadata": {},
     "output_type": "execute_result"
    },
    {
     "data": {
      "text/plain": [
       "'C:/Users/khanh/code/DATA_SCIENCE/data/clean_images/test/labels/7150.txt'"
      ]
     },
     "execution_count": 161,
     "metadata": {},
     "output_type": "execute_result"
    },
    {
     "data": {
      "text/plain": [
       "'C:/Users/khanh/code/DATA_SCIENCE/data/clean_images/test/images/7155.jpg'"
      ]
     },
     "execution_count": 161,
     "metadata": {},
     "output_type": "execute_result"
    },
    {
     "data": {
      "text/plain": [
       "'C:/Users/khanh/code/DATA_SCIENCE/data/clean_images/test/labels/7155.txt'"
      ]
     },
     "execution_count": 161,
     "metadata": {},
     "output_type": "execute_result"
    },
    {
     "data": {
      "text/plain": [
       "'C:/Users/khanh/code/DATA_SCIENCE/data/clean_images/test/images/8293.jpg'"
      ]
     },
     "execution_count": 161,
     "metadata": {},
     "output_type": "execute_result"
    },
    {
     "data": {
      "text/plain": [
       "'C:/Users/khanh/code/DATA_SCIENCE/data/clean_images/test/labels/8293.txt'"
      ]
     },
     "execution_count": 161,
     "metadata": {},
     "output_type": "execute_result"
    },
    {
     "data": {
      "text/plain": [
       "'C:/Users/khanh/code/DATA_SCIENCE/data/clean_images/test/images/34881.jpg'"
      ]
     },
     "execution_count": 161,
     "metadata": {},
     "output_type": "execute_result"
    },
    {
     "data": {
      "text/plain": [
       "'C:/Users/khanh/code/DATA_SCIENCE/data/clean_images/test/labels/34881.txt'"
      ]
     },
     "execution_count": 161,
     "metadata": {},
     "output_type": "execute_result"
    },
    {
     "data": {
      "text/plain": [
       "'C:/Users/khanh/code/DATA_SCIENCE/data/clean_images/test/images/34882.jpg'"
      ]
     },
     "execution_count": 161,
     "metadata": {},
     "output_type": "execute_result"
    },
    {
     "data": {
      "text/plain": [
       "'C:/Users/khanh/code/DATA_SCIENCE/data/clean_images/test/labels/34882.txt'"
      ]
     },
     "execution_count": 161,
     "metadata": {},
     "output_type": "execute_result"
    },
    {
     "data": {
      "text/plain": [
       "'C:/Users/khanh/code/DATA_SCIENCE/data/clean_images/test/images/34884.jpg'"
      ]
     },
     "execution_count": 161,
     "metadata": {},
     "output_type": "execute_result"
    },
    {
     "data": {
      "text/plain": [
       "'C:/Users/khanh/code/DATA_SCIENCE/data/clean_images/test/labels/34884.txt'"
      ]
     },
     "execution_count": 161,
     "metadata": {},
     "output_type": "execute_result"
    },
    {
     "data": {
      "text/plain": [
       "'C:/Users/khanh/code/DATA_SCIENCE/data/clean_images/test/images/34885.jpg'"
      ]
     },
     "execution_count": 161,
     "metadata": {},
     "output_type": "execute_result"
    },
    {
     "data": {
      "text/plain": [
       "'C:/Users/khanh/code/DATA_SCIENCE/data/clean_images/test/labels/34885.txt'"
      ]
     },
     "execution_count": 161,
     "metadata": {},
     "output_type": "execute_result"
    },
    {
     "data": {
      "text/plain": [
       "'C:/Users/khanh/code/DATA_SCIENCE/data/clean_images/test/images/34886.jpg'"
      ]
     },
     "execution_count": 161,
     "metadata": {},
     "output_type": "execute_result"
    },
    {
     "data": {
      "text/plain": [
       "'C:/Users/khanh/code/DATA_SCIENCE/data/clean_images/test/labels/34886.txt'"
      ]
     },
     "execution_count": 161,
     "metadata": {},
     "output_type": "execute_result"
    },
    {
     "data": {
      "text/plain": [
       "'C:/Users/khanh/code/DATA_SCIENCE/data/clean_images/test/images/6928.jpg'"
      ]
     },
     "execution_count": 161,
     "metadata": {},
     "output_type": "execute_result"
    },
    {
     "data": {
      "text/plain": [
       "'C:/Users/khanh/code/DATA_SCIENCE/data/clean_images/test/labels/6928.txt'"
      ]
     },
     "execution_count": 161,
     "metadata": {},
     "output_type": "execute_result"
    },
    {
     "data": {
      "text/plain": [
       "'C:/Users/khanh/code/DATA_SCIENCE/data/clean_images/test/images/6930.jpg'"
      ]
     },
     "execution_count": 161,
     "metadata": {},
     "output_type": "execute_result"
    },
    {
     "data": {
      "text/plain": [
       "'C:/Users/khanh/code/DATA_SCIENCE/data/clean_images/test/labels/6930.txt'"
      ]
     },
     "execution_count": 161,
     "metadata": {},
     "output_type": "execute_result"
    },
    {
     "data": {
      "text/plain": [
       "'C:/Users/khanh/code/DATA_SCIENCE/data/clean_images/test/images/6931.jpg'"
      ]
     },
     "execution_count": 161,
     "metadata": {},
     "output_type": "execute_result"
    },
    {
     "data": {
      "text/plain": [
       "'C:/Users/khanh/code/DATA_SCIENCE/data/clean_images/test/labels/6931.txt'"
      ]
     },
     "execution_count": 161,
     "metadata": {},
     "output_type": "execute_result"
    },
    {
     "data": {
      "text/plain": [
       "'C:/Users/khanh/code/DATA_SCIENCE/data/clean_images/test/images/19757.jpg'"
      ]
     },
     "execution_count": 161,
     "metadata": {},
     "output_type": "execute_result"
    },
    {
     "data": {
      "text/plain": [
       "'C:/Users/khanh/code/DATA_SCIENCE/data/clean_images/test/labels/19757.txt'"
      ]
     },
     "execution_count": 161,
     "metadata": {},
     "output_type": "execute_result"
    },
    {
     "data": {
      "text/plain": [
       "'C:/Users/khanh/code/DATA_SCIENCE/data/clean_images/test/images/11200.jpg'"
      ]
     },
     "execution_count": 161,
     "metadata": {},
     "output_type": "execute_result"
    },
    {
     "data": {
      "text/plain": [
       "'C:/Users/khanh/code/DATA_SCIENCE/data/clean_images/test/labels/11200.txt'"
      ]
     },
     "execution_count": 161,
     "metadata": {},
     "output_type": "execute_result"
    },
    {
     "data": {
      "text/plain": [
       "'C:/Users/khanh/code/DATA_SCIENCE/data/clean_images/test/images/11202.jpg'"
      ]
     },
     "execution_count": 161,
     "metadata": {},
     "output_type": "execute_result"
    },
    {
     "data": {
      "text/plain": [
       "'C:/Users/khanh/code/DATA_SCIENCE/data/clean_images/test/labels/11202.txt'"
      ]
     },
     "execution_count": 161,
     "metadata": {},
     "output_type": "execute_result"
    },
    {
     "data": {
      "text/plain": [
       "'C:/Users/khanh/code/DATA_SCIENCE/data/clean_images/test/images/1324.jpg'"
      ]
     },
     "execution_count": 161,
     "metadata": {},
     "output_type": "execute_result"
    },
    {
     "data": {
      "text/plain": [
       "'C:/Users/khanh/code/DATA_SCIENCE/data/clean_images/test/labels/1324.txt'"
      ]
     },
     "execution_count": 161,
     "metadata": {},
     "output_type": "execute_result"
    },
    {
     "data": {
      "text/plain": [
       "'C:/Users/khanh/code/DATA_SCIENCE/data/clean_images/test/images/14388.jpg'"
      ]
     },
     "execution_count": 161,
     "metadata": {},
     "output_type": "execute_result"
    },
    {
     "data": {
      "text/plain": [
       "'C:/Users/khanh/code/DATA_SCIENCE/data/clean_images/test/labels/14388.txt'"
      ]
     },
     "execution_count": 161,
     "metadata": {},
     "output_type": "execute_result"
    },
    {
     "data": {
      "text/plain": [
       "'C:/Users/khanh/code/DATA_SCIENCE/data/clean_images/test/images/14389.jpg'"
      ]
     },
     "execution_count": 161,
     "metadata": {},
     "output_type": "execute_result"
    },
    {
     "data": {
      "text/plain": [
       "'C:/Users/khanh/code/DATA_SCIENCE/data/clean_images/test/labels/14389.txt'"
      ]
     },
     "execution_count": 161,
     "metadata": {},
     "output_type": "execute_result"
    },
    {
     "data": {
      "text/plain": [
       "'C:/Users/khanh/code/DATA_SCIENCE/data/clean_images/test/images/52916.jpg'"
      ]
     },
     "execution_count": 161,
     "metadata": {},
     "output_type": "execute_result"
    },
    {
     "data": {
      "text/plain": [
       "'C:/Users/khanh/code/DATA_SCIENCE/data/clean_images/test/labels/52916.txt'"
      ]
     },
     "execution_count": 161,
     "metadata": {},
     "output_type": "execute_result"
    },
    {
     "data": {
      "text/plain": [
       "'C:/Users/khanh/code/DATA_SCIENCE/data/clean_images/test/images/52917.jpg'"
      ]
     },
     "execution_count": 161,
     "metadata": {},
     "output_type": "execute_result"
    },
    {
     "data": {
      "text/plain": [
       "'C:/Users/khanh/code/DATA_SCIENCE/data/clean_images/test/labels/52917.txt'"
      ]
     },
     "execution_count": 161,
     "metadata": {},
     "output_type": "execute_result"
    },
    {
     "data": {
      "text/plain": [
       "'C:/Users/khanh/code/DATA_SCIENCE/data/clean_images/test/images/52918.jpg'"
      ]
     },
     "execution_count": 161,
     "metadata": {},
     "output_type": "execute_result"
    },
    {
     "data": {
      "text/plain": [
       "'C:/Users/khanh/code/DATA_SCIENCE/data/clean_images/test/labels/52918.txt'"
      ]
     },
     "execution_count": 161,
     "metadata": {},
     "output_type": "execute_result"
    },
    {
     "data": {
      "text/plain": [
       "'C:/Users/khanh/code/DATA_SCIENCE/data/clean_images/test/images/52919.jpg'"
      ]
     },
     "execution_count": 161,
     "metadata": {},
     "output_type": "execute_result"
    },
    {
     "data": {
      "text/plain": [
       "'C:/Users/khanh/code/DATA_SCIENCE/data/clean_images/test/labels/52919.txt'"
      ]
     },
     "execution_count": 161,
     "metadata": {},
     "output_type": "execute_result"
    },
    {
     "data": {
      "text/plain": [
       "'C:/Users/khanh/code/DATA_SCIENCE/data/clean_images/test/images/52920.jpg'"
      ]
     },
     "execution_count": 161,
     "metadata": {},
     "output_type": "execute_result"
    },
    {
     "data": {
      "text/plain": [
       "'C:/Users/khanh/code/DATA_SCIENCE/data/clean_images/test/labels/52920.txt'"
      ]
     },
     "execution_count": 161,
     "metadata": {},
     "output_type": "execute_result"
    },
    {
     "data": {
      "text/plain": [
       "'C:/Users/khanh/code/DATA_SCIENCE/data/clean_images/test/images/52921.jpg'"
      ]
     },
     "execution_count": 161,
     "metadata": {},
     "output_type": "execute_result"
    },
    {
     "data": {
      "text/plain": [
       "'C:/Users/khanh/code/DATA_SCIENCE/data/clean_images/test/labels/52921.txt'"
      ]
     },
     "execution_count": 161,
     "metadata": {},
     "output_type": "execute_result"
    },
    {
     "data": {
      "text/plain": [
       "'C:/Users/khanh/code/DATA_SCIENCE/data/clean_images/test/images/5161.jpg'"
      ]
     },
     "execution_count": 161,
     "metadata": {},
     "output_type": "execute_result"
    },
    {
     "data": {
      "text/plain": [
       "'C:/Users/khanh/code/DATA_SCIENCE/data/clean_images/test/labels/5161.txt'"
      ]
     },
     "execution_count": 161,
     "metadata": {},
     "output_type": "execute_result"
    },
    {
     "data": {
      "text/plain": [
       "'C:/Users/khanh/code/DATA_SCIENCE/data/clean_images/test/images/5162.jpg'"
      ]
     },
     "execution_count": 161,
     "metadata": {},
     "output_type": "execute_result"
    },
    {
     "data": {
      "text/plain": [
       "'C:/Users/khanh/code/DATA_SCIENCE/data/clean_images/test/labels/5162.txt'"
      ]
     },
     "execution_count": 161,
     "metadata": {},
     "output_type": "execute_result"
    },
    {
     "data": {
      "text/plain": [
       "'C:/Users/khanh/code/DATA_SCIENCE/data/clean_images/test/images/5163.jpg'"
      ]
     },
     "execution_count": 161,
     "metadata": {},
     "output_type": "execute_result"
    },
    {
     "data": {
      "text/plain": [
       "'C:/Users/khanh/code/DATA_SCIENCE/data/clean_images/test/labels/5163.txt'"
      ]
     },
     "execution_count": 161,
     "metadata": {},
     "output_type": "execute_result"
    },
    {
     "data": {
      "text/plain": [
       "'C:/Users/khanh/code/DATA_SCIENCE/data/clean_images/test/images/5164.jpg'"
      ]
     },
     "execution_count": 161,
     "metadata": {},
     "output_type": "execute_result"
    },
    {
     "data": {
      "text/plain": [
       "'C:/Users/khanh/code/DATA_SCIENCE/data/clean_images/test/labels/5164.txt'"
      ]
     },
     "execution_count": 161,
     "metadata": {},
     "output_type": "execute_result"
    },
    {
     "data": {
      "text/plain": [
       "'C:/Users/khanh/code/DATA_SCIENCE/data/clean_images/test/images/5165.jpg'"
      ]
     },
     "execution_count": 161,
     "metadata": {},
     "output_type": "execute_result"
    },
    {
     "data": {
      "text/plain": [
       "'C:/Users/khanh/code/DATA_SCIENCE/data/clean_images/test/labels/5165.txt'"
      ]
     },
     "execution_count": 161,
     "metadata": {},
     "output_type": "execute_result"
    },
    {
     "data": {
      "text/plain": [
       "'C:/Users/khanh/code/DATA_SCIENCE/data/clean_images/test/images/5166.jpg'"
      ]
     },
     "execution_count": 161,
     "metadata": {},
     "output_type": "execute_result"
    },
    {
     "data": {
      "text/plain": [
       "'C:/Users/khanh/code/DATA_SCIENCE/data/clean_images/test/labels/5166.txt'"
      ]
     },
     "execution_count": 161,
     "metadata": {},
     "output_type": "execute_result"
    },
    {
     "data": {
      "text/plain": [
       "'C:/Users/khanh/code/DATA_SCIENCE/data/clean_images/test/images/737.jpg'"
      ]
     },
     "execution_count": 161,
     "metadata": {},
     "output_type": "execute_result"
    },
    {
     "data": {
      "text/plain": [
       "'C:/Users/khanh/code/DATA_SCIENCE/data/clean_images/test/labels/737.txt'"
      ]
     },
     "execution_count": 161,
     "metadata": {},
     "output_type": "execute_result"
    },
    {
     "data": {
      "text/plain": [
       "'C:/Users/khanh/code/DATA_SCIENCE/data/clean_images/test/images/738.jpg'"
      ]
     },
     "execution_count": 161,
     "metadata": {},
     "output_type": "execute_result"
    },
    {
     "data": {
      "text/plain": [
       "'C:/Users/khanh/code/DATA_SCIENCE/data/clean_images/test/labels/738.txt'"
      ]
     },
     "execution_count": 161,
     "metadata": {},
     "output_type": "execute_result"
    },
    {
     "data": {
      "text/plain": [
       "'C:/Users/khanh/code/DATA_SCIENCE/data/clean_images/test/images/739.jpg'"
      ]
     },
     "execution_count": 161,
     "metadata": {},
     "output_type": "execute_result"
    },
    {
     "data": {
      "text/plain": [
       "'C:/Users/khanh/code/DATA_SCIENCE/data/clean_images/test/labels/739.txt'"
      ]
     },
     "execution_count": 161,
     "metadata": {},
     "output_type": "execute_result"
    },
    {
     "data": {
      "text/plain": [
       "'C:/Users/khanh/code/DATA_SCIENCE/data/clean_images/test/images/740.jpg'"
      ]
     },
     "execution_count": 161,
     "metadata": {},
     "output_type": "execute_result"
    },
    {
     "data": {
      "text/plain": [
       "'C:/Users/khanh/code/DATA_SCIENCE/data/clean_images/test/labels/740.txt'"
      ]
     },
     "execution_count": 161,
     "metadata": {},
     "output_type": "execute_result"
    },
    {
     "data": {
      "text/plain": [
       "'C:/Users/khanh/code/DATA_SCIENCE/data/clean_images/test/images/741.jpg'"
      ]
     },
     "execution_count": 161,
     "metadata": {},
     "output_type": "execute_result"
    },
    {
     "data": {
      "text/plain": [
       "'C:/Users/khanh/code/DATA_SCIENCE/data/clean_images/test/labels/741.txt'"
      ]
     },
     "execution_count": 161,
     "metadata": {},
     "output_type": "execute_result"
    },
    {
     "data": {
      "text/plain": [
       "'C:/Users/khanh/code/DATA_SCIENCE/data/clean_images/test/images/742.jpg'"
      ]
     },
     "execution_count": 161,
     "metadata": {},
     "output_type": "execute_result"
    },
    {
     "data": {
      "text/plain": [
       "'C:/Users/khanh/code/DATA_SCIENCE/data/clean_images/test/labels/742.txt'"
      ]
     },
     "execution_count": 161,
     "metadata": {},
     "output_type": "execute_result"
    },
    {
     "data": {
      "text/plain": [
       "'C:/Users/khanh/code/DATA_SCIENCE/data/clean_images/test/images/20480.jpg'"
      ]
     },
     "execution_count": 161,
     "metadata": {},
     "output_type": "execute_result"
    },
    {
     "data": {
      "text/plain": [
       "'C:/Users/khanh/code/DATA_SCIENCE/data/clean_images/test/labels/20480.txt'"
      ]
     },
     "execution_count": 161,
     "metadata": {},
     "output_type": "execute_result"
    },
    {
     "data": {
      "text/plain": [
       "'C:/Users/khanh/code/DATA_SCIENCE/data/clean_images/test/images/20482.jpg'"
      ]
     },
     "execution_count": 161,
     "metadata": {},
     "output_type": "execute_result"
    },
    {
     "data": {
      "text/plain": [
       "'C:/Users/khanh/code/DATA_SCIENCE/data/clean_images/test/labels/20482.txt'"
      ]
     },
     "execution_count": 161,
     "metadata": {},
     "output_type": "execute_result"
    },
    {
     "data": {
      "text/plain": [
       "'C:/Users/khanh/code/DATA_SCIENCE/data/clean_images/test/images/20483.jpg'"
      ]
     },
     "execution_count": 161,
     "metadata": {},
     "output_type": "execute_result"
    },
    {
     "data": {
      "text/plain": [
       "'C:/Users/khanh/code/DATA_SCIENCE/data/clean_images/test/labels/20483.txt'"
      ]
     },
     "execution_count": 161,
     "metadata": {},
     "output_type": "execute_result"
    },
    {
     "data": {
      "text/plain": [
       "'C:/Users/khanh/code/DATA_SCIENCE/data/clean_images/test/images/25704.jpg'"
      ]
     },
     "execution_count": 161,
     "metadata": {},
     "output_type": "execute_result"
    },
    {
     "data": {
      "text/plain": [
       "'C:/Users/khanh/code/DATA_SCIENCE/data/clean_images/test/labels/25704.txt'"
      ]
     },
     "execution_count": 161,
     "metadata": {},
     "output_type": "execute_result"
    },
    {
     "data": {
      "text/plain": [
       "'C:/Users/khanh/code/DATA_SCIENCE/data/clean_images/test/images/25706.jpg'"
      ]
     },
     "execution_count": 161,
     "metadata": {},
     "output_type": "execute_result"
    },
    {
     "data": {
      "text/plain": [
       "'C:/Users/khanh/code/DATA_SCIENCE/data/clean_images/test/labels/25706.txt'"
      ]
     },
     "execution_count": 161,
     "metadata": {},
     "output_type": "execute_result"
    },
    {
     "data": {
      "text/plain": [
       "'C:/Users/khanh/code/DATA_SCIENCE/data/clean_images/test/images/40616.jpg'"
      ]
     },
     "execution_count": 161,
     "metadata": {},
     "output_type": "execute_result"
    },
    {
     "data": {
      "text/plain": [
       "'C:/Users/khanh/code/DATA_SCIENCE/data/clean_images/test/labels/40616.txt'"
      ]
     },
     "execution_count": 161,
     "metadata": {},
     "output_type": "execute_result"
    },
    {
     "data": {
      "text/plain": [
       "'C:/Users/khanh/code/DATA_SCIENCE/data/clean_images/test/images/16402.jpg'"
      ]
     },
     "execution_count": 161,
     "metadata": {},
     "output_type": "execute_result"
    },
    {
     "data": {
      "text/plain": [
       "'C:/Users/khanh/code/DATA_SCIENCE/data/clean_images/test/labels/16402.txt'"
      ]
     },
     "execution_count": 161,
     "metadata": {},
     "output_type": "execute_result"
    },
    {
     "data": {
      "text/plain": [
       "'C:/Users/khanh/code/DATA_SCIENCE/data/clean_images/test/images/16403.jpg'"
      ]
     },
     "execution_count": 161,
     "metadata": {},
     "output_type": "execute_result"
    },
    {
     "data": {
      "text/plain": [
       "'C:/Users/khanh/code/DATA_SCIENCE/data/clean_images/test/labels/16403.txt'"
      ]
     },
     "execution_count": 161,
     "metadata": {},
     "output_type": "execute_result"
    },
    {
     "data": {
      "text/plain": [
       "'C:/Users/khanh/code/DATA_SCIENCE/data/clean_images/test/images/16404.jpg'"
      ]
     },
     "execution_count": 161,
     "metadata": {},
     "output_type": "execute_result"
    },
    {
     "data": {
      "text/plain": [
       "'C:/Users/khanh/code/DATA_SCIENCE/data/clean_images/test/labels/16404.txt'"
      ]
     },
     "execution_count": 161,
     "metadata": {},
     "output_type": "execute_result"
    },
    {
     "data": {
      "text/plain": [
       "'C:/Users/khanh/code/DATA_SCIENCE/data/clean_images/test/images/16405.jpg'"
      ]
     },
     "execution_count": 161,
     "metadata": {},
     "output_type": "execute_result"
    },
    {
     "data": {
      "text/plain": [
       "'C:/Users/khanh/code/DATA_SCIENCE/data/clean_images/test/labels/16405.txt'"
      ]
     },
     "execution_count": 161,
     "metadata": {},
     "output_type": "execute_result"
    },
    {
     "data": {
      "text/plain": [
       "'C:/Users/khanh/code/DATA_SCIENCE/data/clean_images/test/images/16406.jpg'"
      ]
     },
     "execution_count": 161,
     "metadata": {},
     "output_type": "execute_result"
    },
    {
     "data": {
      "text/plain": [
       "'C:/Users/khanh/code/DATA_SCIENCE/data/clean_images/test/labels/16406.txt'"
      ]
     },
     "execution_count": 161,
     "metadata": {},
     "output_type": "execute_result"
    },
    {
     "data": {
      "text/plain": [
       "'C:/Users/khanh/code/DATA_SCIENCE/data/clean_images/test/images/33239.jpg'"
      ]
     },
     "execution_count": 161,
     "metadata": {},
     "output_type": "execute_result"
    },
    {
     "data": {
      "text/plain": [
       "'C:/Users/khanh/code/DATA_SCIENCE/data/clean_images/test/labels/33239.txt'"
      ]
     },
     "execution_count": 161,
     "metadata": {},
     "output_type": "execute_result"
    },
    {
     "data": {
      "text/plain": [
       "'C:/Users/khanh/code/DATA_SCIENCE/data/clean_images/test/images/33240.jpg'"
      ]
     },
     "execution_count": 161,
     "metadata": {},
     "output_type": "execute_result"
    },
    {
     "data": {
      "text/plain": [
       "'C:/Users/khanh/code/DATA_SCIENCE/data/clean_images/test/labels/33240.txt'"
      ]
     },
     "execution_count": 161,
     "metadata": {},
     "output_type": "execute_result"
    },
    {
     "data": {
      "text/plain": [
       "'C:/Users/khanh/code/DATA_SCIENCE/data/clean_images/test/images/33241.jpg'"
      ]
     },
     "execution_count": 161,
     "metadata": {},
     "output_type": "execute_result"
    },
    {
     "data": {
      "text/plain": [
       "'C:/Users/khanh/code/DATA_SCIENCE/data/clean_images/test/labels/33241.txt'"
      ]
     },
     "execution_count": 161,
     "metadata": {},
     "output_type": "execute_result"
    },
    {
     "data": {
      "text/plain": [
       "'C:/Users/khanh/code/DATA_SCIENCE/data/clean_images/test/images/33244.jpg'"
      ]
     },
     "execution_count": 161,
     "metadata": {},
     "output_type": "execute_result"
    },
    {
     "data": {
      "text/plain": [
       "'C:/Users/khanh/code/DATA_SCIENCE/data/clean_images/test/labels/33244.txt'"
      ]
     },
     "execution_count": 161,
     "metadata": {},
     "output_type": "execute_result"
    },
    {
     "data": {
      "text/plain": [
       "'C:/Users/khanh/code/DATA_SCIENCE/data/clean_images/test/images/53288.jpg'"
      ]
     },
     "execution_count": 161,
     "metadata": {},
     "output_type": "execute_result"
    },
    {
     "data": {
      "text/plain": [
       "'C:/Users/khanh/code/DATA_SCIENCE/data/clean_images/test/labels/53288.txt'"
      ]
     },
     "execution_count": 161,
     "metadata": {},
     "output_type": "execute_result"
    },
    {
     "data": {
      "text/plain": [
       "'C:/Users/khanh/code/DATA_SCIENCE/data/clean_images/test/images/51102.jpg'"
      ]
     },
     "execution_count": 161,
     "metadata": {},
     "output_type": "execute_result"
    },
    {
     "data": {
      "text/plain": [
       "'C:/Users/khanh/code/DATA_SCIENCE/data/clean_images/test/labels/51102.txt'"
      ]
     },
     "execution_count": 161,
     "metadata": {},
     "output_type": "execute_result"
    },
    {
     "data": {
      "text/plain": [
       "'C:/Users/khanh/code/DATA_SCIENCE/data/clean_images/test/images/51104.jpg'"
      ]
     },
     "execution_count": 161,
     "metadata": {},
     "output_type": "execute_result"
    },
    {
     "data": {
      "text/plain": [
       "'C:/Users/khanh/code/DATA_SCIENCE/data/clean_images/test/labels/51104.txt'"
      ]
     },
     "execution_count": 161,
     "metadata": {},
     "output_type": "execute_result"
    },
    {
     "data": {
      "text/plain": [
       "'C:/Users/khanh/code/DATA_SCIENCE/data/clean_images/test/images/51106.jpg'"
      ]
     },
     "execution_count": 161,
     "metadata": {},
     "output_type": "execute_result"
    },
    {
     "data": {
      "text/plain": [
       "'C:/Users/khanh/code/DATA_SCIENCE/data/clean_images/test/labels/51106.txt'"
      ]
     },
     "execution_count": 161,
     "metadata": {},
     "output_type": "execute_result"
    },
    {
     "data": {
      "text/plain": [
       "'C:/Users/khanh/code/DATA_SCIENCE/data/clean_images/test/images/31617.jpg'"
      ]
     },
     "execution_count": 161,
     "metadata": {},
     "output_type": "execute_result"
    },
    {
     "data": {
      "text/plain": [
       "'C:/Users/khanh/code/DATA_SCIENCE/data/clean_images/test/labels/31617.txt'"
      ]
     },
     "execution_count": 161,
     "metadata": {},
     "output_type": "execute_result"
    },
    {
     "data": {
      "text/plain": [
       "'C:/Users/khanh/code/DATA_SCIENCE/data/clean_images/test/images/31618.jpg'"
      ]
     },
     "execution_count": 161,
     "metadata": {},
     "output_type": "execute_result"
    },
    {
     "data": {
      "text/plain": [
       "'C:/Users/khanh/code/DATA_SCIENCE/data/clean_images/test/labels/31618.txt'"
      ]
     },
     "execution_count": 161,
     "metadata": {},
     "output_type": "execute_result"
    },
    {
     "data": {
      "text/plain": [
       "'C:/Users/khanh/code/DATA_SCIENCE/data/clean_images/test/images/31619.jpg'"
      ]
     },
     "execution_count": 161,
     "metadata": {},
     "output_type": "execute_result"
    },
    {
     "data": {
      "text/plain": [
       "'C:/Users/khanh/code/DATA_SCIENCE/data/clean_images/test/labels/31619.txt'"
      ]
     },
     "execution_count": 161,
     "metadata": {},
     "output_type": "execute_result"
    },
    {
     "data": {
      "text/plain": [
       "'C:/Users/khanh/code/DATA_SCIENCE/data/clean_images/test/images/31620.jpg'"
      ]
     },
     "execution_count": 161,
     "metadata": {},
     "output_type": "execute_result"
    },
    {
     "data": {
      "text/plain": [
       "'C:/Users/khanh/code/DATA_SCIENCE/data/clean_images/test/labels/31620.txt'"
      ]
     },
     "execution_count": 161,
     "metadata": {},
     "output_type": "execute_result"
    },
    {
     "data": {
      "text/plain": [
       "'C:/Users/khanh/code/DATA_SCIENCE/data/clean_images/test/images/5833.jpg'"
      ]
     },
     "execution_count": 161,
     "metadata": {},
     "output_type": "execute_result"
    },
    {
     "data": {
      "text/plain": [
       "'C:/Users/khanh/code/DATA_SCIENCE/data/clean_images/test/labels/5833.txt'"
      ]
     },
     "execution_count": 161,
     "metadata": {},
     "output_type": "execute_result"
    },
    {
     "data": {
      "text/plain": [
       "'C:/Users/khanh/code/DATA_SCIENCE/data/clean_images/test/images/5835.jpg'"
      ]
     },
     "execution_count": 161,
     "metadata": {},
     "output_type": "execute_result"
    },
    {
     "data": {
      "text/plain": [
       "'C:/Users/khanh/code/DATA_SCIENCE/data/clean_images/test/labels/5835.txt'"
      ]
     },
     "execution_count": 161,
     "metadata": {},
     "output_type": "execute_result"
    },
    {
     "data": {
      "text/plain": [
       "'C:/Users/khanh/code/DATA_SCIENCE/data/clean_images/test/images/49030.jpg'"
      ]
     },
     "execution_count": 161,
     "metadata": {},
     "output_type": "execute_result"
    },
    {
     "data": {
      "text/plain": [
       "'C:/Users/khanh/code/DATA_SCIENCE/data/clean_images/test/labels/49030.txt'"
      ]
     },
     "execution_count": 161,
     "metadata": {},
     "output_type": "execute_result"
    },
    {
     "data": {
      "text/plain": [
       "'C:/Users/khanh/code/DATA_SCIENCE/data/clean_images/test/images/49032.jpg'"
      ]
     },
     "execution_count": 161,
     "metadata": {},
     "output_type": "execute_result"
    },
    {
     "data": {
      "text/plain": [
       "'C:/Users/khanh/code/DATA_SCIENCE/data/clean_images/test/labels/49032.txt'"
      ]
     },
     "execution_count": 161,
     "metadata": {},
     "output_type": "execute_result"
    },
    {
     "data": {
      "text/plain": [
       "'C:/Users/khanh/code/DATA_SCIENCE/data/clean_images/test/images/49033.jpg'"
      ]
     },
     "execution_count": 161,
     "metadata": {},
     "output_type": "execute_result"
    },
    {
     "data": {
      "text/plain": [
       "'C:/Users/khanh/code/DATA_SCIENCE/data/clean_images/test/labels/49033.txt'"
      ]
     },
     "execution_count": 161,
     "metadata": {},
     "output_type": "execute_result"
    },
    {
     "data": {
      "text/plain": [
       "'C:/Users/khanh/code/DATA_SCIENCE/data/clean_images/test/images/3968.jpg'"
      ]
     },
     "execution_count": 161,
     "metadata": {},
     "output_type": "execute_result"
    },
    {
     "data": {
      "text/plain": [
       "'C:/Users/khanh/code/DATA_SCIENCE/data/clean_images/test/labels/3968.txt'"
      ]
     },
     "execution_count": 161,
     "metadata": {},
     "output_type": "execute_result"
    },
    {
     "data": {
      "text/plain": [
       "'C:/Users/khanh/code/DATA_SCIENCE/data/clean_images/test/images/3969.jpg'"
      ]
     },
     "execution_count": 161,
     "metadata": {},
     "output_type": "execute_result"
    },
    {
     "data": {
      "text/plain": [
       "'C:/Users/khanh/code/DATA_SCIENCE/data/clean_images/test/labels/3969.txt'"
      ]
     },
     "execution_count": 161,
     "metadata": {},
     "output_type": "execute_result"
    },
    {
     "data": {
      "text/plain": [
       "'C:/Users/khanh/code/DATA_SCIENCE/data/clean_images/test/images/3970.jpg'"
      ]
     },
     "execution_count": 161,
     "metadata": {},
     "output_type": "execute_result"
    },
    {
     "data": {
      "text/plain": [
       "'C:/Users/khanh/code/DATA_SCIENCE/data/clean_images/test/labels/3970.txt'"
      ]
     },
     "execution_count": 161,
     "metadata": {},
     "output_type": "execute_result"
    },
    {
     "data": {
      "text/plain": [
       "'C:/Users/khanh/code/DATA_SCIENCE/data/clean_images/test/images/3971.jpg'"
      ]
     },
     "execution_count": 161,
     "metadata": {},
     "output_type": "execute_result"
    },
    {
     "data": {
      "text/plain": [
       "'C:/Users/khanh/code/DATA_SCIENCE/data/clean_images/test/labels/3971.txt'"
      ]
     },
     "execution_count": 161,
     "metadata": {},
     "output_type": "execute_result"
    },
    {
     "data": {
      "text/plain": [
       "'C:/Users/khanh/code/DATA_SCIENCE/data/clean_images/test/images/3972.jpg'"
      ]
     },
     "execution_count": 161,
     "metadata": {},
     "output_type": "execute_result"
    },
    {
     "data": {
      "text/plain": [
       "'C:/Users/khanh/code/DATA_SCIENCE/data/clean_images/test/labels/3972.txt'"
      ]
     },
     "execution_count": 161,
     "metadata": {},
     "output_type": "execute_result"
    },
    {
     "data": {
      "text/plain": [
       "'C:/Users/khanh/code/DATA_SCIENCE/data/clean_images/test/images/3973.jpg'"
      ]
     },
     "execution_count": 161,
     "metadata": {},
     "output_type": "execute_result"
    },
    {
     "data": {
      "text/plain": [
       "'C:/Users/khanh/code/DATA_SCIENCE/data/clean_images/test/labels/3973.txt'"
      ]
     },
     "execution_count": 161,
     "metadata": {},
     "output_type": "execute_result"
    },
    {
     "data": {
      "text/plain": [
       "'C:/Users/khanh/code/DATA_SCIENCE/data/clean_images/test/images/49799.jpg'"
      ]
     },
     "execution_count": 161,
     "metadata": {},
     "output_type": "execute_result"
    },
    {
     "data": {
      "text/plain": [
       "'C:/Users/khanh/code/DATA_SCIENCE/data/clean_images/test/labels/49799.txt'"
      ]
     },
     "execution_count": 161,
     "metadata": {},
     "output_type": "execute_result"
    },
    {
     "data": {
      "text/plain": [
       "'C:/Users/khanh/code/DATA_SCIENCE/data/clean_images/test/images/49800.jpg'"
      ]
     },
     "execution_count": 161,
     "metadata": {},
     "output_type": "execute_result"
    },
    {
     "data": {
      "text/plain": [
       "'C:/Users/khanh/code/DATA_SCIENCE/data/clean_images/test/labels/49800.txt'"
      ]
     },
     "execution_count": 161,
     "metadata": {},
     "output_type": "execute_result"
    },
    {
     "data": {
      "text/plain": [
       "'C:/Users/khanh/code/DATA_SCIENCE/data/clean_images/test/images/49801.jpg'"
      ]
     },
     "execution_count": 161,
     "metadata": {},
     "output_type": "execute_result"
    },
    {
     "data": {
      "text/plain": [
       "'C:/Users/khanh/code/DATA_SCIENCE/data/clean_images/test/labels/49801.txt'"
      ]
     },
     "execution_count": 161,
     "metadata": {},
     "output_type": "execute_result"
    },
    {
     "data": {
      "text/plain": [
       "'C:/Users/khanh/code/DATA_SCIENCE/data/clean_images/test/images/49802.jpg'"
      ]
     },
     "execution_count": 161,
     "metadata": {},
     "output_type": "execute_result"
    },
    {
     "data": {
      "text/plain": [
       "'C:/Users/khanh/code/DATA_SCIENCE/data/clean_images/test/labels/49802.txt'"
      ]
     },
     "execution_count": 161,
     "metadata": {},
     "output_type": "execute_result"
    },
    {
     "data": {
      "text/plain": [
       "'C:/Users/khanh/code/DATA_SCIENCE/data/clean_images/test/images/8311.jpg'"
      ]
     },
     "execution_count": 161,
     "metadata": {},
     "output_type": "execute_result"
    },
    {
     "data": {
      "text/plain": [
       "'C:/Users/khanh/code/DATA_SCIENCE/data/clean_images/test/labels/8311.txt'"
      ]
     },
     "execution_count": 161,
     "metadata": {},
     "output_type": "execute_result"
    },
    {
     "data": {
      "text/plain": [
       "'C:/Users/khanh/code/DATA_SCIENCE/data/clean_images/test/images/8312.jpg'"
      ]
     },
     "execution_count": 161,
     "metadata": {},
     "output_type": "execute_result"
    },
    {
     "data": {
      "text/plain": [
       "'C:/Users/khanh/code/DATA_SCIENCE/data/clean_images/test/labels/8312.txt'"
      ]
     },
     "execution_count": 161,
     "metadata": {},
     "output_type": "execute_result"
    },
    {
     "data": {
      "text/plain": [
       "'C:/Users/khanh/code/DATA_SCIENCE/data/clean_images/test/images/20824.jpg'"
      ]
     },
     "execution_count": 161,
     "metadata": {},
     "output_type": "execute_result"
    },
    {
     "data": {
      "text/plain": [
       "'C:/Users/khanh/code/DATA_SCIENCE/data/clean_images/test/labels/20824.txt'"
      ]
     },
     "execution_count": 161,
     "metadata": {},
     "output_type": "execute_result"
    },
    {
     "data": {
      "text/plain": [
       "'C:/Users/khanh/code/DATA_SCIENCE/data/clean_images/test/images/20825.jpg'"
      ]
     },
     "execution_count": 161,
     "metadata": {},
     "output_type": "execute_result"
    },
    {
     "data": {
      "text/plain": [
       "'C:/Users/khanh/code/DATA_SCIENCE/data/clean_images/test/labels/20825.txt'"
      ]
     },
     "execution_count": 161,
     "metadata": {},
     "output_type": "execute_result"
    },
    {
     "data": {
      "text/plain": [
       "'C:/Users/khanh/code/DATA_SCIENCE/data/clean_images/test/images/20826.jpg'"
      ]
     },
     "execution_count": 161,
     "metadata": {},
     "output_type": "execute_result"
    },
    {
     "data": {
      "text/plain": [
       "'C:/Users/khanh/code/DATA_SCIENCE/data/clean_images/test/labels/20826.txt'"
      ]
     },
     "execution_count": 161,
     "metadata": {},
     "output_type": "execute_result"
    },
    {
     "data": {
      "text/plain": [
       "'C:/Users/khanh/code/DATA_SCIENCE/data/clean_images/test/images/20827.jpg'"
      ]
     },
     "execution_count": 161,
     "metadata": {},
     "output_type": "execute_result"
    },
    {
     "data": {
      "text/plain": [
       "'C:/Users/khanh/code/DATA_SCIENCE/data/clean_images/test/labels/20827.txt'"
      ]
     },
     "execution_count": 161,
     "metadata": {},
     "output_type": "execute_result"
    },
    {
     "data": {
      "text/plain": [
       "'C:/Users/khanh/code/DATA_SCIENCE/data/clean_images/test/images/38083.jpg'"
      ]
     },
     "execution_count": 161,
     "metadata": {},
     "output_type": "execute_result"
    },
    {
     "data": {
      "text/plain": [
       "'C:/Users/khanh/code/DATA_SCIENCE/data/clean_images/test/labels/38083.txt'"
      ]
     },
     "execution_count": 161,
     "metadata": {},
     "output_type": "execute_result"
    },
    {
     "data": {
      "text/plain": [
       "'C:/Users/khanh/code/DATA_SCIENCE/data/clean_images/test/images/38084.jpg'"
      ]
     },
     "execution_count": 161,
     "metadata": {},
     "output_type": "execute_result"
    },
    {
     "data": {
      "text/plain": [
       "'C:/Users/khanh/code/DATA_SCIENCE/data/clean_images/test/labels/38084.txt'"
      ]
     },
     "execution_count": 161,
     "metadata": {},
     "output_type": "execute_result"
    },
    {
     "data": {
      "text/plain": [
       "'C:/Users/khanh/code/DATA_SCIENCE/data/clean_images/test/images/48694.jpg'"
      ]
     },
     "execution_count": 161,
     "metadata": {},
     "output_type": "execute_result"
    },
    {
     "data": {
      "text/plain": [
       "'C:/Users/khanh/code/DATA_SCIENCE/data/clean_images/test/labels/48694.txt'"
      ]
     },
     "execution_count": 161,
     "metadata": {},
     "output_type": "execute_result"
    },
    {
     "data": {
      "text/plain": [
       "'C:/Users/khanh/code/DATA_SCIENCE/data/clean_images/test/images/48695.jpg'"
      ]
     },
     "execution_count": 161,
     "metadata": {},
     "output_type": "execute_result"
    },
    {
     "data": {
      "text/plain": [
       "'C:/Users/khanh/code/DATA_SCIENCE/data/clean_images/test/labels/48695.txt'"
      ]
     },
     "execution_count": 161,
     "metadata": {},
     "output_type": "execute_result"
    },
    {
     "data": {
      "text/plain": [
       "'C:/Users/khanh/code/DATA_SCIENCE/data/clean_images/test/images/48696.jpg'"
      ]
     },
     "execution_count": 161,
     "metadata": {},
     "output_type": "execute_result"
    },
    {
     "data": {
      "text/plain": [
       "'C:/Users/khanh/code/DATA_SCIENCE/data/clean_images/test/labels/48696.txt'"
      ]
     },
     "execution_count": 161,
     "metadata": {},
     "output_type": "execute_result"
    },
    {
     "data": {
      "text/plain": [
       "'C:/Users/khanh/code/DATA_SCIENCE/data/clean_images/test/images/48699.jpg'"
      ]
     },
     "execution_count": 161,
     "metadata": {},
     "output_type": "execute_result"
    },
    {
     "data": {
      "text/plain": [
       "'C:/Users/khanh/code/DATA_SCIENCE/data/clean_images/test/labels/48699.txt'"
      ]
     },
     "execution_count": 161,
     "metadata": {},
     "output_type": "execute_result"
    },
    {
     "data": {
      "text/plain": [
       "'C:/Users/khanh/code/DATA_SCIENCE/data/clean_images/test/images/39593.jpg'"
      ]
     },
     "execution_count": 161,
     "metadata": {},
     "output_type": "execute_result"
    },
    {
     "data": {
      "text/plain": [
       "'C:/Users/khanh/code/DATA_SCIENCE/data/clean_images/test/labels/39593.txt'"
      ]
     },
     "execution_count": 161,
     "metadata": {},
     "output_type": "execute_result"
    },
    {
     "data": {
      "text/plain": [
       "'C:/Users/khanh/code/DATA_SCIENCE/data/clean_images/test/images/39594.jpg'"
      ]
     },
     "execution_count": 161,
     "metadata": {},
     "output_type": "execute_result"
    },
    {
     "data": {
      "text/plain": [
       "'C:/Users/khanh/code/DATA_SCIENCE/data/clean_images/test/labels/39594.txt'"
      ]
     },
     "execution_count": 161,
     "metadata": {},
     "output_type": "execute_result"
    },
    {
     "data": {
      "text/plain": [
       "'C:/Users/khanh/code/DATA_SCIENCE/data/clean_images/test/images/15115.jpg'"
      ]
     },
     "execution_count": 161,
     "metadata": {},
     "output_type": "execute_result"
    },
    {
     "data": {
      "text/plain": [
       "'C:/Users/khanh/code/DATA_SCIENCE/data/clean_images/test/labels/15115.txt'"
      ]
     },
     "execution_count": 161,
     "metadata": {},
     "output_type": "execute_result"
    },
    {
     "data": {
      "text/plain": [
       "'C:/Users/khanh/code/DATA_SCIENCE/data/clean_images/test/images/18014.jpg'"
      ]
     },
     "execution_count": 161,
     "metadata": {},
     "output_type": "execute_result"
    },
    {
     "data": {
      "text/plain": [
       "'C:/Users/khanh/code/DATA_SCIENCE/data/clean_images/test/labels/18014.txt'"
      ]
     },
     "execution_count": 161,
     "metadata": {},
     "output_type": "execute_result"
    },
    {
     "data": {
      "text/plain": [
       "'C:/Users/khanh/code/DATA_SCIENCE/data/clean_images/test/images/18016.jpg'"
      ]
     },
     "execution_count": 161,
     "metadata": {},
     "output_type": "execute_result"
    },
    {
     "data": {
      "text/plain": [
       "'C:/Users/khanh/code/DATA_SCIENCE/data/clean_images/test/labels/18016.txt'"
      ]
     },
     "execution_count": 161,
     "metadata": {},
     "output_type": "execute_result"
    },
    {
     "data": {
      "text/plain": [
       "'C:/Users/khanh/code/DATA_SCIENCE/data/clean_images/test/images/18018.jpg'"
      ]
     },
     "execution_count": 161,
     "metadata": {},
     "output_type": "execute_result"
    },
    {
     "data": {
      "text/plain": [
       "'C:/Users/khanh/code/DATA_SCIENCE/data/clean_images/test/labels/18018.txt'"
      ]
     },
     "execution_count": 161,
     "metadata": {},
     "output_type": "execute_result"
    },
    {
     "data": {
      "text/plain": [
       "'C:/Users/khanh/code/DATA_SCIENCE/data/clean_images/test/images/18019.jpg'"
      ]
     },
     "execution_count": 161,
     "metadata": {},
     "output_type": "execute_result"
    },
    {
     "data": {
      "text/plain": [
       "'C:/Users/khanh/code/DATA_SCIENCE/data/clean_images/test/labels/18019.txt'"
      ]
     },
     "execution_count": 161,
     "metadata": {},
     "output_type": "execute_result"
    },
    {
     "data": {
      "text/plain": [
       "'C:/Users/khanh/code/DATA_SCIENCE/data/clean_images/test/images/35302.jpg'"
      ]
     },
     "execution_count": 161,
     "metadata": {},
     "output_type": "execute_result"
    },
    {
     "data": {
      "text/plain": [
       "'C:/Users/khanh/code/DATA_SCIENCE/data/clean_images/test/labels/35302.txt'"
      ]
     },
     "execution_count": 161,
     "metadata": {},
     "output_type": "execute_result"
    },
    {
     "data": {
      "text/plain": [
       "'C:/Users/khanh/code/DATA_SCIENCE/data/clean_images/test/images/35303.jpg'"
      ]
     },
     "execution_count": 161,
     "metadata": {},
     "output_type": "execute_result"
    },
    {
     "data": {
      "text/plain": [
       "'C:/Users/khanh/code/DATA_SCIENCE/data/clean_images/test/labels/35303.txt'"
      ]
     },
     "execution_count": 161,
     "metadata": {},
     "output_type": "execute_result"
    },
    {
     "data": {
      "text/plain": [
       "'C:/Users/khanh/code/DATA_SCIENCE/data/clean_images/test/images/25440.jpg'"
      ]
     },
     "execution_count": 161,
     "metadata": {},
     "output_type": "execute_result"
    },
    {
     "data": {
      "text/plain": [
       "'C:/Users/khanh/code/DATA_SCIENCE/data/clean_images/test/labels/25440.txt'"
      ]
     },
     "execution_count": 161,
     "metadata": {},
     "output_type": "execute_result"
    },
    {
     "data": {
      "text/plain": [
       "'C:/Users/khanh/code/DATA_SCIENCE/data/clean_images/test/images/25441.jpg'"
      ]
     },
     "execution_count": 161,
     "metadata": {},
     "output_type": "execute_result"
    },
    {
     "data": {
      "text/plain": [
       "'C:/Users/khanh/code/DATA_SCIENCE/data/clean_images/test/labels/25441.txt'"
      ]
     },
     "execution_count": 161,
     "metadata": {},
     "output_type": "execute_result"
    },
    {
     "data": {
      "text/plain": [
       "'C:/Users/khanh/code/DATA_SCIENCE/data/clean_images/test/images/25443.jpg'"
      ]
     },
     "execution_count": 161,
     "metadata": {},
     "output_type": "execute_result"
    },
    {
     "data": {
      "text/plain": [
       "'C:/Users/khanh/code/DATA_SCIENCE/data/clean_images/test/labels/25443.txt'"
      ]
     },
     "execution_count": 161,
     "metadata": {},
     "output_type": "execute_result"
    },
    {
     "data": {
      "text/plain": [
       "'C:/Users/khanh/code/DATA_SCIENCE/data/clean_images/test/images/25444.jpg'"
      ]
     },
     "execution_count": 161,
     "metadata": {},
     "output_type": "execute_result"
    },
    {
     "data": {
      "text/plain": [
       "'C:/Users/khanh/code/DATA_SCIENCE/data/clean_images/test/labels/25444.txt'"
      ]
     },
     "execution_count": 161,
     "metadata": {},
     "output_type": "execute_result"
    },
    {
     "data": {
      "text/plain": [
       "'C:/Users/khanh/code/DATA_SCIENCE/data/clean_images/test/images/6584.jpg'"
      ]
     },
     "execution_count": 161,
     "metadata": {},
     "output_type": "execute_result"
    },
    {
     "data": {
      "text/plain": [
       "'C:/Users/khanh/code/DATA_SCIENCE/data/clean_images/test/labels/6584.txt'"
      ]
     },
     "execution_count": 161,
     "metadata": {},
     "output_type": "execute_result"
    },
    {
     "data": {
      "text/plain": [
       "'C:/Users/khanh/code/DATA_SCIENCE/data/clean_images/test/images/6586.jpg'"
      ]
     },
     "execution_count": 161,
     "metadata": {},
     "output_type": "execute_result"
    },
    {
     "data": {
      "text/plain": [
       "'C:/Users/khanh/code/DATA_SCIENCE/data/clean_images/test/labels/6586.txt'"
      ]
     },
     "execution_count": 161,
     "metadata": {},
     "output_type": "execute_result"
    },
    {
     "data": {
      "text/plain": [
       "'C:/Users/khanh/code/DATA_SCIENCE/data/clean_images/test/images/52342.jpg'"
      ]
     },
     "execution_count": 161,
     "metadata": {},
     "output_type": "execute_result"
    },
    {
     "data": {
      "text/plain": [
       "'C:/Users/khanh/code/DATA_SCIENCE/data/clean_images/test/labels/52342.txt'"
      ]
     },
     "execution_count": 161,
     "metadata": {},
     "output_type": "execute_result"
    },
    {
     "data": {
      "text/plain": [
       "'C:/Users/khanh/code/DATA_SCIENCE/data/clean_images/test/images/52343.jpg'"
      ]
     },
     "execution_count": 161,
     "metadata": {},
     "output_type": "execute_result"
    },
    {
     "data": {
      "text/plain": [
       "'C:/Users/khanh/code/DATA_SCIENCE/data/clean_images/test/labels/52343.txt'"
      ]
     },
     "execution_count": 161,
     "metadata": {},
     "output_type": "execute_result"
    },
    {
     "data": {
      "text/plain": [
       "'C:/Users/khanh/code/DATA_SCIENCE/data/clean_images/test/images/52345.jpg'"
      ]
     },
     "execution_count": 161,
     "metadata": {},
     "output_type": "execute_result"
    },
    {
     "data": {
      "text/plain": [
       "'C:/Users/khanh/code/DATA_SCIENCE/data/clean_images/test/labels/52345.txt'"
      ]
     },
     "execution_count": 161,
     "metadata": {},
     "output_type": "execute_result"
    },
    {
     "data": {
      "text/plain": [
       "'C:/Users/khanh/code/DATA_SCIENCE/data/clean_images/test/images/20612.jpg'"
      ]
     },
     "execution_count": 161,
     "metadata": {},
     "output_type": "execute_result"
    },
    {
     "data": {
      "text/plain": [
       "'C:/Users/khanh/code/DATA_SCIENCE/data/clean_images/test/labels/20612.txt'"
      ]
     },
     "execution_count": 161,
     "metadata": {},
     "output_type": "execute_result"
    },
    {
     "data": {
      "text/plain": [
       "'C:/Users/khanh/code/DATA_SCIENCE/data/clean_images/test/images/45833.jpg'"
      ]
     },
     "execution_count": 161,
     "metadata": {},
     "output_type": "execute_result"
    },
    {
     "data": {
      "text/plain": [
       "'C:/Users/khanh/code/DATA_SCIENCE/data/clean_images/test/labels/45833.txt'"
      ]
     },
     "execution_count": 161,
     "metadata": {},
     "output_type": "execute_result"
    },
    {
     "data": {
      "text/plain": [
       "'C:/Users/khanh/code/DATA_SCIENCE/data/clean_images/test/images/45834.jpg'"
      ]
     },
     "execution_count": 161,
     "metadata": {},
     "output_type": "execute_result"
    },
    {
     "data": {
      "text/plain": [
       "'C:/Users/khanh/code/DATA_SCIENCE/data/clean_images/test/labels/45834.txt'"
      ]
     },
     "execution_count": 161,
     "metadata": {},
     "output_type": "execute_result"
    },
    {
     "data": {
      "text/plain": [
       "'C:/Users/khanh/code/DATA_SCIENCE/data/clean_images/test/images/45837.jpg'"
      ]
     },
     "execution_count": 161,
     "metadata": {},
     "output_type": "execute_result"
    },
    {
     "data": {
      "text/plain": [
       "'C:/Users/khanh/code/DATA_SCIENCE/data/clean_images/test/labels/45837.txt'"
      ]
     },
     "execution_count": 161,
     "metadata": {},
     "output_type": "execute_result"
    },
    {
     "data": {
      "text/plain": [
       "'C:/Users/khanh/code/DATA_SCIENCE/data/clean_images/test/images/45838.jpg'"
      ]
     },
     "execution_count": 161,
     "metadata": {},
     "output_type": "execute_result"
    },
    {
     "data": {
      "text/plain": [
       "'C:/Users/khanh/code/DATA_SCIENCE/data/clean_images/test/labels/45838.txt'"
      ]
     },
     "execution_count": 161,
     "metadata": {},
     "output_type": "execute_result"
    },
    {
     "data": {
      "text/plain": [
       "'C:/Users/khanh/code/DATA_SCIENCE/data/clean_images/test/images/18547.jpg'"
      ]
     },
     "execution_count": 161,
     "metadata": {},
     "output_type": "execute_result"
    },
    {
     "data": {
      "text/plain": [
       "'C:/Users/khanh/code/DATA_SCIENCE/data/clean_images/test/labels/18547.txt'"
      ]
     },
     "execution_count": 161,
     "metadata": {},
     "output_type": "execute_result"
    },
    {
     "data": {
      "text/plain": [
       "'C:/Users/khanh/code/DATA_SCIENCE/data/clean_images/test/images/18548.jpg'"
      ]
     },
     "execution_count": 161,
     "metadata": {},
     "output_type": "execute_result"
    },
    {
     "data": {
      "text/plain": [
       "'C:/Users/khanh/code/DATA_SCIENCE/data/clean_images/test/labels/18548.txt'"
      ]
     },
     "execution_count": 161,
     "metadata": {},
     "output_type": "execute_result"
    },
    {
     "data": {
      "text/plain": [
       "'C:/Users/khanh/code/DATA_SCIENCE/data/clean_images/test/images/18550.jpg'"
      ]
     },
     "execution_count": 161,
     "metadata": {},
     "output_type": "execute_result"
    },
    {
     "data": {
      "text/plain": [
       "'C:/Users/khanh/code/DATA_SCIENCE/data/clean_images/test/labels/18550.txt'"
      ]
     },
     "execution_count": 161,
     "metadata": {},
     "output_type": "execute_result"
    },
    {
     "data": {
      "text/plain": [
       "'C:/Users/khanh/code/DATA_SCIENCE/data/clean_images/test/images/18551.jpg'"
      ]
     },
     "execution_count": 161,
     "metadata": {},
     "output_type": "execute_result"
    },
    {
     "data": {
      "text/plain": [
       "'C:/Users/khanh/code/DATA_SCIENCE/data/clean_images/test/labels/18551.txt'"
      ]
     },
     "execution_count": 161,
     "metadata": {},
     "output_type": "execute_result"
    },
    {
     "data": {
      "text/plain": [
       "'C:/Users/khanh/code/DATA_SCIENCE/data/clean_images/test/images/1774.jpg'"
      ]
     },
     "execution_count": 161,
     "metadata": {},
     "output_type": "execute_result"
    },
    {
     "data": {
      "text/plain": [
       "'C:/Users/khanh/code/DATA_SCIENCE/data/clean_images/test/labels/1774.txt'"
      ]
     },
     "execution_count": 161,
     "metadata": {},
     "output_type": "execute_result"
    },
    {
     "data": {
      "text/plain": [
       "'C:/Users/khanh/code/DATA_SCIENCE/data/clean_images/test/images/1775.jpg'"
      ]
     },
     "execution_count": 161,
     "metadata": {},
     "output_type": "execute_result"
    },
    {
     "data": {
      "text/plain": [
       "'C:/Users/khanh/code/DATA_SCIENCE/data/clean_images/test/labels/1775.txt'"
      ]
     },
     "execution_count": 161,
     "metadata": {},
     "output_type": "execute_result"
    },
    {
     "data": {
      "text/plain": [
       "'C:/Users/khanh/code/DATA_SCIENCE/data/clean_images/test/images/1776.jpg'"
      ]
     },
     "execution_count": 161,
     "metadata": {},
     "output_type": "execute_result"
    },
    {
     "data": {
      "text/plain": [
       "'C:/Users/khanh/code/DATA_SCIENCE/data/clean_images/test/labels/1776.txt'"
      ]
     },
     "execution_count": 161,
     "metadata": {},
     "output_type": "execute_result"
    },
    {
     "data": {
      "text/plain": [
       "'C:/Users/khanh/code/DATA_SCIENCE/data/clean_images/test/images/1777.jpg'"
      ]
     },
     "execution_count": 161,
     "metadata": {},
     "output_type": "execute_result"
    },
    {
     "data": {
      "text/plain": [
       "'C:/Users/khanh/code/DATA_SCIENCE/data/clean_images/test/labels/1777.txt'"
      ]
     },
     "execution_count": 161,
     "metadata": {},
     "output_type": "execute_result"
    },
    {
     "data": {
      "text/plain": [
       "'C:/Users/khanh/code/DATA_SCIENCE/data/clean_images/test/images/8525.jpg'"
      ]
     },
     "execution_count": 161,
     "metadata": {},
     "output_type": "execute_result"
    },
    {
     "data": {
      "text/plain": [
       "'C:/Users/khanh/code/DATA_SCIENCE/data/clean_images/test/labels/8525.txt'"
      ]
     },
     "execution_count": 161,
     "metadata": {},
     "output_type": "execute_result"
    },
    {
     "data": {
      "text/plain": [
       "'C:/Users/khanh/code/DATA_SCIENCE/data/clean_images/test/images/8528.jpg'"
      ]
     },
     "execution_count": 161,
     "metadata": {},
     "output_type": "execute_result"
    },
    {
     "data": {
      "text/plain": [
       "'C:/Users/khanh/code/DATA_SCIENCE/data/clean_images/test/labels/8528.txt'"
      ]
     },
     "execution_count": 161,
     "metadata": {},
     "output_type": "execute_result"
    },
    {
     "data": {
      "text/plain": [
       "'C:/Users/khanh/code/DATA_SCIENCE/data/clean_images/test/images/4989.jpg'"
      ]
     },
     "execution_count": 161,
     "metadata": {},
     "output_type": "execute_result"
    },
    {
     "data": {
      "text/plain": [
       "'C:/Users/khanh/code/DATA_SCIENCE/data/clean_images/test/labels/4989.txt'"
      ]
     },
     "execution_count": 161,
     "metadata": {},
     "output_type": "execute_result"
    },
    {
     "data": {
      "text/plain": [
       "'C:/Users/khanh/code/DATA_SCIENCE/data/clean_images/test/images/4992.jpg'"
      ]
     },
     "execution_count": 161,
     "metadata": {},
     "output_type": "execute_result"
    },
    {
     "data": {
      "text/plain": [
       "'C:/Users/khanh/code/DATA_SCIENCE/data/clean_images/test/labels/4992.txt'"
      ]
     },
     "execution_count": 161,
     "metadata": {},
     "output_type": "execute_result"
    },
    {
     "data": {
      "text/plain": [
       "'C:/Users/khanh/code/DATA_SCIENCE/data/clean_images/test/images/4993.jpg'"
      ]
     },
     "execution_count": 161,
     "metadata": {},
     "output_type": "execute_result"
    },
    {
     "data": {
      "text/plain": [
       "'C:/Users/khanh/code/DATA_SCIENCE/data/clean_images/test/labels/4993.txt'"
      ]
     },
     "execution_count": 161,
     "metadata": {},
     "output_type": "execute_result"
    },
    {
     "data": {
      "text/plain": [
       "'C:/Users/khanh/code/DATA_SCIENCE/data/clean_images/test/images/4994.jpg'"
      ]
     },
     "execution_count": 161,
     "metadata": {},
     "output_type": "execute_result"
    },
    {
     "data": {
      "text/plain": [
       "'C:/Users/khanh/code/DATA_SCIENCE/data/clean_images/test/labels/4994.txt'"
      ]
     },
     "execution_count": 161,
     "metadata": {},
     "output_type": "execute_result"
    },
    {
     "data": {
      "text/plain": [
       "'C:/Users/khanh/code/DATA_SCIENCE/data/clean_images/test/images/35003.jpg'"
      ]
     },
     "execution_count": 161,
     "metadata": {},
     "output_type": "execute_result"
    },
    {
     "data": {
      "text/plain": [
       "'C:/Users/khanh/code/DATA_SCIENCE/data/clean_images/test/labels/35003.txt'"
      ]
     },
     "execution_count": 161,
     "metadata": {},
     "output_type": "execute_result"
    },
    {
     "data": {
      "text/plain": [
       "'C:/Users/khanh/code/DATA_SCIENCE/data/clean_images/test/images/35005.jpg'"
      ]
     },
     "execution_count": 161,
     "metadata": {},
     "output_type": "execute_result"
    },
    {
     "data": {
      "text/plain": [
       "'C:/Users/khanh/code/DATA_SCIENCE/data/clean_images/test/labels/35005.txt'"
      ]
     },
     "execution_count": 161,
     "metadata": {},
     "output_type": "execute_result"
    },
    {
     "data": {
      "text/plain": [
       "'C:/Users/khanh/code/DATA_SCIENCE/data/clean_images/test/images/110.jpg'"
      ]
     },
     "execution_count": 161,
     "metadata": {},
     "output_type": "execute_result"
    },
    {
     "data": {
      "text/plain": [
       "'C:/Users/khanh/code/DATA_SCIENCE/data/clean_images/test/labels/110.txt'"
      ]
     },
     "execution_count": 161,
     "metadata": {},
     "output_type": "execute_result"
    },
    {
     "data": {
      "text/plain": [
       "'C:/Users/khanh/code/DATA_SCIENCE/data/clean_images/test/images/112.jpg'"
      ]
     },
     "execution_count": 161,
     "metadata": {},
     "output_type": "execute_result"
    },
    {
     "data": {
      "text/plain": [
       "'C:/Users/khanh/code/DATA_SCIENCE/data/clean_images/test/labels/112.txt'"
      ]
     },
     "execution_count": 161,
     "metadata": {},
     "output_type": "execute_result"
    },
    {
     "data": {
      "text/plain": [
       "'C:/Users/khanh/code/DATA_SCIENCE/data/clean_images/test/images/113.jpg'"
      ]
     },
     "execution_count": 161,
     "metadata": {},
     "output_type": "execute_result"
    },
    {
     "data": {
      "text/plain": [
       "'C:/Users/khanh/code/DATA_SCIENCE/data/clean_images/test/labels/113.txt'"
      ]
     },
     "execution_count": 161,
     "metadata": {},
     "output_type": "execute_result"
    },
    {
     "data": {
      "text/plain": [
       "'C:/Users/khanh/code/DATA_SCIENCE/data/clean_images/test/images/51818.jpg'"
      ]
     },
     "execution_count": 161,
     "metadata": {},
     "output_type": "execute_result"
    },
    {
     "data": {
      "text/plain": [
       "'C:/Users/khanh/code/DATA_SCIENCE/data/clean_images/test/labels/51818.txt'"
      ]
     },
     "execution_count": 161,
     "metadata": {},
     "output_type": "execute_result"
    },
    {
     "data": {
      "text/plain": [
       "'C:/Users/khanh/code/DATA_SCIENCE/data/clean_images/test/images/51820.jpg'"
      ]
     },
     "execution_count": 161,
     "metadata": {},
     "output_type": "execute_result"
    },
    {
     "data": {
      "text/plain": [
       "'C:/Users/khanh/code/DATA_SCIENCE/data/clean_images/test/labels/51820.txt'"
      ]
     },
     "execution_count": 161,
     "metadata": {},
     "output_type": "execute_result"
    },
    {
     "data": {
      "text/plain": [
       "'C:/Users/khanh/code/DATA_SCIENCE/data/clean_images/test/images/4408.jpg'"
      ]
     },
     "execution_count": 161,
     "metadata": {},
     "output_type": "execute_result"
    },
    {
     "data": {
      "text/plain": [
       "'C:/Users/khanh/code/DATA_SCIENCE/data/clean_images/test/labels/4408.txt'"
      ]
     },
     "execution_count": 161,
     "metadata": {},
     "output_type": "execute_result"
    },
    {
     "data": {
      "text/plain": [
       "'C:/Users/khanh/code/DATA_SCIENCE/data/clean_images/test/images/4409.jpg'"
      ]
     },
     "execution_count": 161,
     "metadata": {},
     "output_type": "execute_result"
    },
    {
     "data": {
      "text/plain": [
       "'C:/Users/khanh/code/DATA_SCIENCE/data/clean_images/test/labels/4409.txt'"
      ]
     },
     "execution_count": 161,
     "metadata": {},
     "output_type": "execute_result"
    },
    {
     "data": {
      "text/plain": [
       "'C:/Users/khanh/code/DATA_SCIENCE/data/clean_images/test/images/4413.jpg'"
      ]
     },
     "execution_count": 161,
     "metadata": {},
     "output_type": "execute_result"
    },
    {
     "data": {
      "text/plain": [
       "'C:/Users/khanh/code/DATA_SCIENCE/data/clean_images/test/labels/4413.txt'"
      ]
     },
     "execution_count": 161,
     "metadata": {},
     "output_type": "execute_result"
    },
    {
     "data": {
      "text/plain": [
       "'C:/Users/khanh/code/DATA_SCIENCE/data/clean_images/test/images/33449.jpg'"
      ]
     },
     "execution_count": 161,
     "metadata": {},
     "output_type": "execute_result"
    },
    {
     "data": {
      "text/plain": [
       "'C:/Users/khanh/code/DATA_SCIENCE/data/clean_images/test/labels/33449.txt'"
      ]
     },
     "execution_count": 161,
     "metadata": {},
     "output_type": "execute_result"
    },
    {
     "data": {
      "text/plain": [
       "'C:/Users/khanh/code/DATA_SCIENCE/data/clean_images/test/images/18228.jpg'"
      ]
     },
     "execution_count": 161,
     "metadata": {},
     "output_type": "execute_result"
    },
    {
     "data": {
      "text/plain": [
       "'C:/Users/khanh/code/DATA_SCIENCE/data/clean_images/test/labels/18228.txt'"
      ]
     },
     "execution_count": 161,
     "metadata": {},
     "output_type": "execute_result"
    },
    {
     "data": {
      "text/plain": [
       "'C:/Users/khanh/code/DATA_SCIENCE/data/clean_images/test/images/18230.jpg'"
      ]
     },
     "execution_count": 161,
     "metadata": {},
     "output_type": "execute_result"
    },
    {
     "data": {
      "text/plain": [
       "'C:/Users/khanh/code/DATA_SCIENCE/data/clean_images/test/labels/18230.txt'"
      ]
     },
     "execution_count": 161,
     "metadata": {},
     "output_type": "execute_result"
    },
    {
     "data": {
      "text/plain": [
       "'C:/Users/khanh/code/DATA_SCIENCE/data/clean_images/test/images/46881.jpg'"
      ]
     },
     "execution_count": 161,
     "metadata": {},
     "output_type": "execute_result"
    },
    {
     "data": {
      "text/plain": [
       "'C:/Users/khanh/code/DATA_SCIENCE/data/clean_images/test/labels/46881.txt'"
      ]
     },
     "execution_count": 161,
     "metadata": {},
     "output_type": "execute_result"
    },
    {
     "data": {
      "text/plain": [
       "'C:/Users/khanh/code/DATA_SCIENCE/data/clean_images/test/images/46883.jpg'"
      ]
     },
     "execution_count": 161,
     "metadata": {},
     "output_type": "execute_result"
    },
    {
     "data": {
      "text/plain": [
       "'C:/Users/khanh/code/DATA_SCIENCE/data/clean_images/test/labels/46883.txt'"
      ]
     },
     "execution_count": 161,
     "metadata": {},
     "output_type": "execute_result"
    },
    {
     "data": {
      "text/plain": [
       "'C:/Users/khanh/code/DATA_SCIENCE/data/clean_images/test/images/46884.jpg'"
      ]
     },
     "execution_count": 161,
     "metadata": {},
     "output_type": "execute_result"
    },
    {
     "data": {
      "text/plain": [
       "'C:/Users/khanh/code/DATA_SCIENCE/data/clean_images/test/labels/46884.txt'"
      ]
     },
     "execution_count": 161,
     "metadata": {},
     "output_type": "execute_result"
    },
    {
     "data": {
      "text/plain": [
       "'C:/Users/khanh/code/DATA_SCIENCE/data/clean_images/test/images/46885.jpg'"
      ]
     },
     "execution_count": 161,
     "metadata": {},
     "output_type": "execute_result"
    },
    {
     "data": {
      "text/plain": [
       "'C:/Users/khanh/code/DATA_SCIENCE/data/clean_images/test/labels/46885.txt'"
      ]
     },
     "execution_count": 161,
     "metadata": {},
     "output_type": "execute_result"
    },
    {
     "data": {
      "text/plain": [
       "'C:/Users/khanh/code/DATA_SCIENCE/data/clean_images/test/images/11017.jpg'"
      ]
     },
     "execution_count": 161,
     "metadata": {},
     "output_type": "execute_result"
    },
    {
     "data": {
      "text/plain": [
       "'C:/Users/khanh/code/DATA_SCIENCE/data/clean_images/test/labels/11017.txt'"
      ]
     },
     "execution_count": 161,
     "metadata": {},
     "output_type": "execute_result"
    },
    {
     "data": {
      "text/plain": [
       "'C:/Users/khanh/code/DATA_SCIENCE/data/clean_images/test/images/51556.jpg'"
      ]
     },
     "execution_count": 161,
     "metadata": {},
     "output_type": "execute_result"
    },
    {
     "data": {
      "text/plain": [
       "'C:/Users/khanh/code/DATA_SCIENCE/data/clean_images/test/labels/51556.txt'"
      ]
     },
     "execution_count": 161,
     "metadata": {},
     "output_type": "execute_result"
    },
    {
     "data": {
      "text/plain": [
       "'C:/Users/khanh/code/DATA_SCIENCE/data/clean_images/test/images/44488.jpg'"
      ]
     },
     "execution_count": 161,
     "metadata": {},
     "output_type": "execute_result"
    },
    {
     "data": {
      "text/plain": [
       "'C:/Users/khanh/code/DATA_SCIENCE/data/clean_images/test/labels/44488.txt'"
      ]
     },
     "execution_count": 161,
     "metadata": {},
     "output_type": "execute_result"
    },
    {
     "data": {
      "text/plain": [
       "'C:/Users/khanh/code/DATA_SCIENCE/data/clean_images/test/images/44490.jpg'"
      ]
     },
     "execution_count": 161,
     "metadata": {},
     "output_type": "execute_result"
    },
    {
     "data": {
      "text/plain": [
       "'C:/Users/khanh/code/DATA_SCIENCE/data/clean_images/test/labels/44490.txt'"
      ]
     },
     "execution_count": 161,
     "metadata": {},
     "output_type": "execute_result"
    },
    {
     "data": {
      "text/plain": [
       "'C:/Users/khanh/code/DATA_SCIENCE/data/clean_images/test/images/44492.jpg'"
      ]
     },
     "execution_count": 161,
     "metadata": {},
     "output_type": "execute_result"
    },
    {
     "data": {
      "text/plain": [
       "'C:/Users/khanh/code/DATA_SCIENCE/data/clean_images/test/labels/44492.txt'"
      ]
     },
     "execution_count": 161,
     "metadata": {},
     "output_type": "execute_result"
    },
    {
     "data": {
      "text/plain": [
       "'C:/Users/khanh/code/DATA_SCIENCE/data/clean_images/test/images/55031.jpg'"
      ]
     },
     "execution_count": 161,
     "metadata": {},
     "output_type": "execute_result"
    },
    {
     "data": {
      "text/plain": [
       "'C:/Users/khanh/code/DATA_SCIENCE/data/clean_images/test/labels/55031.txt'"
      ]
     },
     "execution_count": 161,
     "metadata": {},
     "output_type": "execute_result"
    },
    {
     "data": {
      "text/plain": [
       "'C:/Users/khanh/code/DATA_SCIENCE/data/clean_images/test/images/22291.jpg'"
      ]
     },
     "execution_count": 161,
     "metadata": {},
     "output_type": "execute_result"
    },
    {
     "data": {
      "text/plain": [
       "'C:/Users/khanh/code/DATA_SCIENCE/data/clean_images/test/labels/22291.txt'"
      ]
     },
     "execution_count": 161,
     "metadata": {},
     "output_type": "execute_result"
    },
    {
     "data": {
      "text/plain": [
       "'C:/Users/khanh/code/DATA_SCIENCE/data/clean_images/test/images/22293.jpg'"
      ]
     },
     "execution_count": 161,
     "metadata": {},
     "output_type": "execute_result"
    },
    {
     "data": {
      "text/plain": [
       "'C:/Users/khanh/code/DATA_SCIENCE/data/clean_images/test/labels/22293.txt'"
      ]
     },
     "execution_count": 161,
     "metadata": {},
     "output_type": "execute_result"
    },
    {
     "data": {
      "text/plain": [
       "'C:/Users/khanh/code/DATA_SCIENCE/data/clean_images/test/images/22294.jpg'"
      ]
     },
     "execution_count": 161,
     "metadata": {},
     "output_type": "execute_result"
    },
    {
     "data": {
      "text/plain": [
       "'C:/Users/khanh/code/DATA_SCIENCE/data/clean_images/test/labels/22294.txt'"
      ]
     },
     "execution_count": 161,
     "metadata": {},
     "output_type": "execute_result"
    },
    {
     "data": {
      "text/plain": [
       "'C:/Users/khanh/code/DATA_SCIENCE/data/clean_images/test/images/30475.jpg'"
      ]
     },
     "execution_count": 161,
     "metadata": {},
     "output_type": "execute_result"
    },
    {
     "data": {
      "text/plain": [
       "'C:/Users/khanh/code/DATA_SCIENCE/data/clean_images/test/labels/30475.txt'"
      ]
     },
     "execution_count": 161,
     "metadata": {},
     "output_type": "execute_result"
    },
    {
     "data": {
      "text/plain": [
       "'C:/Users/khanh/code/DATA_SCIENCE/data/clean_images/test/images/30476.jpg'"
      ]
     },
     "execution_count": 161,
     "metadata": {},
     "output_type": "execute_result"
    },
    {
     "data": {
      "text/plain": [
       "'C:/Users/khanh/code/DATA_SCIENCE/data/clean_images/test/labels/30476.txt'"
      ]
     },
     "execution_count": 161,
     "metadata": {},
     "output_type": "execute_result"
    },
    {
     "data": {
      "text/plain": [
       "'C:/Users/khanh/code/DATA_SCIENCE/data/clean_images/test/images/30477.jpg'"
      ]
     },
     "execution_count": 161,
     "metadata": {},
     "output_type": "execute_result"
    },
    {
     "data": {
      "text/plain": [
       "'C:/Users/khanh/code/DATA_SCIENCE/data/clean_images/test/labels/30477.txt'"
      ]
     },
     "execution_count": 161,
     "metadata": {},
     "output_type": "execute_result"
    },
    {
     "data": {
      "text/plain": [
       "'C:/Users/khanh/code/DATA_SCIENCE/data/clean_images/test/images/42622.jpg'"
      ]
     },
     "execution_count": 161,
     "metadata": {},
     "output_type": "execute_result"
    },
    {
     "data": {
      "text/plain": [
       "'C:/Users/khanh/code/DATA_SCIENCE/data/clean_images/test/labels/42622.txt'"
      ]
     },
     "execution_count": 161,
     "metadata": {},
     "output_type": "execute_result"
    },
    {
     "data": {
      "text/plain": [
       "'C:/Users/khanh/code/DATA_SCIENCE/data/clean_images/test/images/42623.jpg'"
      ]
     },
     "execution_count": 161,
     "metadata": {},
     "output_type": "execute_result"
    },
    {
     "data": {
      "text/plain": [
       "'C:/Users/khanh/code/DATA_SCIENCE/data/clean_images/test/labels/42623.txt'"
      ]
     },
     "execution_count": 161,
     "metadata": {},
     "output_type": "execute_result"
    },
    {
     "data": {
      "text/plain": [
       "'C:/Users/khanh/code/DATA_SCIENCE/data/clean_images/test/images/42625.jpg'"
      ]
     },
     "execution_count": 161,
     "metadata": {},
     "output_type": "execute_result"
    },
    {
     "data": {
      "text/plain": [
       "'C:/Users/khanh/code/DATA_SCIENCE/data/clean_images/test/labels/42625.txt'"
      ]
     },
     "execution_count": 161,
     "metadata": {},
     "output_type": "execute_result"
    },
    {
     "data": {
      "text/plain": [
       "'C:/Users/khanh/code/DATA_SCIENCE/data/clean_images/test/images/10650.jpg'"
      ]
     },
     "execution_count": 161,
     "metadata": {},
     "output_type": "execute_result"
    },
    {
     "data": {
      "text/plain": [
       "'C:/Users/khanh/code/DATA_SCIENCE/data/clean_images/test/labels/10650.txt'"
      ]
     },
     "execution_count": 161,
     "metadata": {},
     "output_type": "execute_result"
    },
    {
     "data": {
      "text/plain": [
       "'C:/Users/khanh/code/DATA_SCIENCE/data/clean_images/test/images/10654.jpg'"
      ]
     },
     "execution_count": 161,
     "metadata": {},
     "output_type": "execute_result"
    },
    {
     "data": {
      "text/plain": [
       "'C:/Users/khanh/code/DATA_SCIENCE/data/clean_images/test/labels/10654.txt'"
      ]
     },
     "execution_count": 161,
     "metadata": {},
     "output_type": "execute_result"
    },
    {
     "data": {
      "text/plain": [
       "'C:/Users/khanh/code/DATA_SCIENCE/data/clean_images/test/images/13990.jpg'"
      ]
     },
     "execution_count": 161,
     "metadata": {},
     "output_type": "execute_result"
    },
    {
     "data": {
      "text/plain": [
       "'C:/Users/khanh/code/DATA_SCIENCE/data/clean_images/test/labels/13990.txt'"
      ]
     },
     "execution_count": 161,
     "metadata": {},
     "output_type": "execute_result"
    },
    {
     "data": {
      "text/plain": [
       "'C:/Users/khanh/code/DATA_SCIENCE/data/clean_images/test/images/13991.jpg'"
      ]
     },
     "execution_count": 161,
     "metadata": {},
     "output_type": "execute_result"
    },
    {
     "data": {
      "text/plain": [
       "'C:/Users/khanh/code/DATA_SCIENCE/data/clean_images/test/labels/13991.txt'"
      ]
     },
     "execution_count": 161,
     "metadata": {},
     "output_type": "execute_result"
    },
    {
     "data": {
      "text/plain": [
       "'C:/Users/khanh/code/DATA_SCIENCE/data/clean_images/test/images/13992.jpg'"
      ]
     },
     "execution_count": 161,
     "metadata": {},
     "output_type": "execute_result"
    },
    {
     "data": {
      "text/plain": [
       "'C:/Users/khanh/code/DATA_SCIENCE/data/clean_images/test/labels/13992.txt'"
      ]
     },
     "execution_count": 161,
     "metadata": {},
     "output_type": "execute_result"
    },
    {
     "data": {
      "text/plain": [
       "'C:/Users/khanh/code/DATA_SCIENCE/data/clean_images/test/images/13993.jpg'"
      ]
     },
     "execution_count": 161,
     "metadata": {},
     "output_type": "execute_result"
    },
    {
     "data": {
      "text/plain": [
       "'C:/Users/khanh/code/DATA_SCIENCE/data/clean_images/test/labels/13993.txt'"
      ]
     },
     "execution_count": 161,
     "metadata": {},
     "output_type": "execute_result"
    },
    {
     "data": {
      "text/plain": [
       "'C:/Users/khanh/code/DATA_SCIENCE/data/clean_images/test/images/13994.jpg'"
      ]
     },
     "execution_count": 161,
     "metadata": {},
     "output_type": "execute_result"
    },
    {
     "data": {
      "text/plain": [
       "'C:/Users/khanh/code/DATA_SCIENCE/data/clean_images/test/labels/13994.txt'"
      ]
     },
     "execution_count": 161,
     "metadata": {},
     "output_type": "execute_result"
    },
    {
     "data": {
      "text/plain": [
       "'C:/Users/khanh/code/DATA_SCIENCE/data/clean_images/test/images/13995.jpg'"
      ]
     },
     "execution_count": 161,
     "metadata": {},
     "output_type": "execute_result"
    },
    {
     "data": {
      "text/plain": [
       "'C:/Users/khanh/code/DATA_SCIENCE/data/clean_images/test/labels/13995.txt'"
      ]
     },
     "execution_count": 161,
     "metadata": {},
     "output_type": "execute_result"
    },
    {
     "data": {
      "text/plain": [
       "'C:/Users/khanh/code/DATA_SCIENCE/data/clean_images/test/images/26219.jpg'"
      ]
     },
     "execution_count": 161,
     "metadata": {},
     "output_type": "execute_result"
    },
    {
     "data": {
      "text/plain": [
       "'C:/Users/khanh/code/DATA_SCIENCE/data/clean_images/test/labels/26219.txt'"
      ]
     },
     "execution_count": 161,
     "metadata": {},
     "output_type": "execute_result"
    },
    {
     "data": {
      "text/plain": [
       "'C:/Users/khanh/code/DATA_SCIENCE/data/clean_images/test/images/26221.jpg'"
      ]
     },
     "execution_count": 161,
     "metadata": {},
     "output_type": "execute_result"
    },
    {
     "data": {
      "text/plain": [
       "'C:/Users/khanh/code/DATA_SCIENCE/data/clean_images/test/labels/26221.txt'"
      ]
     },
     "execution_count": 161,
     "metadata": {},
     "output_type": "execute_result"
    },
    {
     "data": {
      "text/plain": [
       "'C:/Users/khanh/code/DATA_SCIENCE/data/clean_images/test/images/26222.jpg'"
      ]
     },
     "execution_count": 161,
     "metadata": {},
     "output_type": "execute_result"
    },
    {
     "data": {
      "text/plain": [
       "'C:/Users/khanh/code/DATA_SCIENCE/data/clean_images/test/labels/26222.txt'"
      ]
     },
     "execution_count": 161,
     "metadata": {},
     "output_type": "execute_result"
    },
    {
     "data": {
      "text/plain": [
       "'C:/Users/khanh/code/DATA_SCIENCE/data/clean_images/test/images/26224.jpg'"
      ]
     },
     "execution_count": 161,
     "metadata": {},
     "output_type": "execute_result"
    },
    {
     "data": {
      "text/plain": [
       "'C:/Users/khanh/code/DATA_SCIENCE/data/clean_images/test/labels/26224.txt'"
      ]
     },
     "execution_count": 161,
     "metadata": {},
     "output_type": "execute_result"
    },
    {
     "data": {
      "text/plain": [
       "'C:/Users/khanh/code/DATA_SCIENCE/data/clean_images/test/images/24809.jpg'"
      ]
     },
     "execution_count": 161,
     "metadata": {},
     "output_type": "execute_result"
    },
    {
     "data": {
      "text/plain": [
       "'C:/Users/khanh/code/DATA_SCIENCE/data/clean_images/test/labels/24809.txt'"
      ]
     },
     "execution_count": 161,
     "metadata": {},
     "output_type": "execute_result"
    },
    {
     "data": {
      "text/plain": [
       "'C:/Users/khanh/code/DATA_SCIENCE/data/clean_images/test/images/24810.jpg'"
      ]
     },
     "execution_count": 161,
     "metadata": {},
     "output_type": "execute_result"
    },
    {
     "data": {
      "text/plain": [
       "'C:/Users/khanh/code/DATA_SCIENCE/data/clean_images/test/labels/24810.txt'"
      ]
     },
     "execution_count": 161,
     "metadata": {},
     "output_type": "execute_result"
    },
    {
     "data": {
      "text/plain": [
       "'C:/Users/khanh/code/DATA_SCIENCE/data/clean_images/test/images/24811.jpg'"
      ]
     },
     "execution_count": 161,
     "metadata": {},
     "output_type": "execute_result"
    },
    {
     "data": {
      "text/plain": [
       "'C:/Users/khanh/code/DATA_SCIENCE/data/clean_images/test/labels/24811.txt'"
      ]
     },
     "execution_count": 161,
     "metadata": {},
     "output_type": "execute_result"
    },
    {
     "data": {
      "text/plain": [
       "'C:/Users/khanh/code/DATA_SCIENCE/data/clean_images/test/images/24812.jpg'"
      ]
     },
     "execution_count": 161,
     "metadata": {},
     "output_type": "execute_result"
    },
    {
     "data": {
      "text/plain": [
       "'C:/Users/khanh/code/DATA_SCIENCE/data/clean_images/test/labels/24812.txt'"
      ]
     },
     "execution_count": 161,
     "metadata": {},
     "output_type": "execute_result"
    },
    {
     "data": {
      "text/plain": [
       "'C:/Users/khanh/code/DATA_SCIENCE/data/clean_images/test/images/24814.jpg'"
      ]
     },
     "execution_count": 161,
     "metadata": {},
     "output_type": "execute_result"
    },
    {
     "data": {
      "text/plain": [
       "'C:/Users/khanh/code/DATA_SCIENCE/data/clean_images/test/labels/24814.txt'"
      ]
     },
     "execution_count": 161,
     "metadata": {},
     "output_type": "execute_result"
    },
    {
     "data": {
      "text/plain": [
       "'C:/Users/khanh/code/DATA_SCIENCE/data/clean_images/test/images/33979.jpg'"
      ]
     },
     "execution_count": 161,
     "metadata": {},
     "output_type": "execute_result"
    },
    {
     "data": {
      "text/plain": [
       "'C:/Users/khanh/code/DATA_SCIENCE/data/clean_images/test/labels/33979.txt'"
      ]
     },
     "execution_count": 161,
     "metadata": {},
     "output_type": "execute_result"
    },
    {
     "data": {
      "text/plain": [
       "'C:/Users/khanh/code/DATA_SCIENCE/data/clean_images/test/images/33981.jpg'"
      ]
     },
     "execution_count": 161,
     "metadata": {},
     "output_type": "execute_result"
    },
    {
     "data": {
      "text/plain": [
       "'C:/Users/khanh/code/DATA_SCIENCE/data/clean_images/test/labels/33981.txt'"
      ]
     },
     "execution_count": 161,
     "metadata": {},
     "output_type": "execute_result"
    },
    {
     "data": {
      "text/plain": [
       "'C:/Users/khanh/code/DATA_SCIENCE/data/clean_images/test/images/33982.jpg'"
      ]
     },
     "execution_count": 161,
     "metadata": {},
     "output_type": "execute_result"
    },
    {
     "data": {
      "text/plain": [
       "'C:/Users/khanh/code/DATA_SCIENCE/data/clean_images/test/labels/33982.txt'"
      ]
     },
     "execution_count": 161,
     "metadata": {},
     "output_type": "execute_result"
    },
    {
     "data": {
      "text/plain": [
       "'C:/Users/khanh/code/DATA_SCIENCE/data/clean_images/test/images/33984.jpg'"
      ]
     },
     "execution_count": 161,
     "metadata": {},
     "output_type": "execute_result"
    },
    {
     "data": {
      "text/plain": [
       "'C:/Users/khanh/code/DATA_SCIENCE/data/clean_images/test/labels/33984.txt'"
      ]
     },
     "execution_count": 161,
     "metadata": {},
     "output_type": "execute_result"
    },
    {
     "data": {
      "text/plain": [
       "'C:/Users/khanh/code/DATA_SCIENCE/data/clean_images/test/images/41556.jpg'"
      ]
     },
     "execution_count": 161,
     "metadata": {},
     "output_type": "execute_result"
    },
    {
     "data": {
      "text/plain": [
       "'C:/Users/khanh/code/DATA_SCIENCE/data/clean_images/test/labels/41556.txt'"
      ]
     },
     "execution_count": 161,
     "metadata": {},
     "output_type": "execute_result"
    },
    {
     "data": {
      "text/plain": [
       "'C:/Users/khanh/code/DATA_SCIENCE/data/clean_images/test/images/43691.jpg'"
      ]
     },
     "execution_count": 161,
     "metadata": {},
     "output_type": "execute_result"
    },
    {
     "data": {
      "text/plain": [
       "'C:/Users/khanh/code/DATA_SCIENCE/data/clean_images/test/labels/43691.txt'"
      ]
     },
     "execution_count": 161,
     "metadata": {},
     "output_type": "execute_result"
    },
    {
     "data": {
      "text/plain": [
       "'C:/Users/khanh/code/DATA_SCIENCE/data/clean_images/test/images/43692.jpg'"
      ]
     },
     "execution_count": 161,
     "metadata": {},
     "output_type": "execute_result"
    },
    {
     "data": {
      "text/plain": [
       "'C:/Users/khanh/code/DATA_SCIENCE/data/clean_images/test/labels/43692.txt'"
      ]
     },
     "execution_count": 161,
     "metadata": {},
     "output_type": "execute_result"
    },
    {
     "data": {
      "text/plain": [
       "'C:/Users/khanh/code/DATA_SCIENCE/data/clean_images/test/images/43693.jpg'"
      ]
     },
     "execution_count": 161,
     "metadata": {},
     "output_type": "execute_result"
    },
    {
     "data": {
      "text/plain": [
       "'C:/Users/khanh/code/DATA_SCIENCE/data/clean_images/test/labels/43693.txt'"
      ]
     },
     "execution_count": 161,
     "metadata": {},
     "output_type": "execute_result"
    },
    {
     "data": {
      "text/plain": [
       "'C:/Users/khanh/code/DATA_SCIENCE/data/clean_images/test/images/25650.jpg'"
      ]
     },
     "execution_count": 161,
     "metadata": {},
     "output_type": "execute_result"
    },
    {
     "data": {
      "text/plain": [
       "'C:/Users/khanh/code/DATA_SCIENCE/data/clean_images/test/labels/25650.txt'"
      ]
     },
     "execution_count": 161,
     "metadata": {},
     "output_type": "execute_result"
    },
    {
     "data": {
      "text/plain": [
       "'C:/Users/khanh/code/DATA_SCIENCE/data/clean_images/test/images/25651.jpg'"
      ]
     },
     "execution_count": 161,
     "metadata": {},
     "output_type": "execute_result"
    },
    {
     "data": {
      "text/plain": [
       "'C:/Users/khanh/code/DATA_SCIENCE/data/clean_images/test/labels/25651.txt'"
      ]
     },
     "execution_count": 161,
     "metadata": {},
     "output_type": "execute_result"
    },
    {
     "data": {
      "text/plain": [
       "'C:/Users/khanh/code/DATA_SCIENCE/data/clean_images/test/images/25653.jpg'"
      ]
     },
     "execution_count": 161,
     "metadata": {},
     "output_type": "execute_result"
    },
    {
     "data": {
      "text/plain": [
       "'C:/Users/khanh/code/DATA_SCIENCE/data/clean_images/test/labels/25653.txt'"
      ]
     },
     "execution_count": 161,
     "metadata": {},
     "output_type": "execute_result"
    },
    {
     "data": {
      "text/plain": [
       "'C:/Users/khanh/code/DATA_SCIENCE/data/clean_images/test/images/25019.jpg'"
      ]
     },
     "execution_count": 161,
     "metadata": {},
     "output_type": "execute_result"
    },
    {
     "data": {
      "text/plain": [
       "'C:/Users/khanh/code/DATA_SCIENCE/data/clean_images/test/labels/25019.txt'"
      ]
     },
     "execution_count": 161,
     "metadata": {},
     "output_type": "execute_result"
    },
    {
     "data": {
      "text/plain": [
       "'C:/Users/khanh/code/DATA_SCIENCE/data/clean_images/test/images/25020.jpg'"
      ]
     },
     "execution_count": 161,
     "metadata": {},
     "output_type": "execute_result"
    },
    {
     "data": {
      "text/plain": [
       "'C:/Users/khanh/code/DATA_SCIENCE/data/clean_images/test/labels/25020.txt'"
      ]
     },
     "execution_count": 161,
     "metadata": {},
     "output_type": "execute_result"
    },
    {
     "data": {
      "text/plain": [
       "'C:/Users/khanh/code/DATA_SCIENCE/data/clean_images/test/images/25021.jpg'"
      ]
     },
     "execution_count": 161,
     "metadata": {},
     "output_type": "execute_result"
    },
    {
     "data": {
      "text/plain": [
       "'C:/Users/khanh/code/DATA_SCIENCE/data/clean_images/test/labels/25021.txt'"
      ]
     },
     "execution_count": 161,
     "metadata": {},
     "output_type": "execute_result"
    },
    {
     "data": {
      "text/plain": [
       "'C:/Users/khanh/code/DATA_SCIENCE/data/clean_images/test/images/25022.jpg'"
      ]
     },
     "execution_count": 161,
     "metadata": {},
     "output_type": "execute_result"
    },
    {
     "data": {
      "text/plain": [
       "'C:/Users/khanh/code/DATA_SCIENCE/data/clean_images/test/labels/25022.txt'"
      ]
     },
     "execution_count": 161,
     "metadata": {},
     "output_type": "execute_result"
    },
    {
     "data": {
      "text/plain": [
       "'C:/Users/khanh/code/DATA_SCIENCE/data/clean_images/test/images/25023.jpg'"
      ]
     },
     "execution_count": 161,
     "metadata": {},
     "output_type": "execute_result"
    },
    {
     "data": {
      "text/plain": [
       "'C:/Users/khanh/code/DATA_SCIENCE/data/clean_images/test/labels/25023.txt'"
      ]
     },
     "execution_count": 161,
     "metadata": {},
     "output_type": "execute_result"
    },
    {
     "data": {
      "text/plain": [
       "'C:/Users/khanh/code/DATA_SCIENCE/data/clean_images/test/images/39655.jpg'"
      ]
     },
     "execution_count": 161,
     "metadata": {},
     "output_type": "execute_result"
    },
    {
     "data": {
      "text/plain": [
       "'C:/Users/khanh/code/DATA_SCIENCE/data/clean_images/test/labels/39655.txt'"
      ]
     },
     "execution_count": 161,
     "metadata": {},
     "output_type": "execute_result"
    },
    {
     "data": {
      "text/plain": [
       "'C:/Users/khanh/code/DATA_SCIENCE/data/clean_images/test/images/39657.jpg'"
      ]
     },
     "execution_count": 161,
     "metadata": {},
     "output_type": "execute_result"
    },
    {
     "data": {
      "text/plain": [
       "'C:/Users/khanh/code/DATA_SCIENCE/data/clean_images/test/labels/39657.txt'"
      ]
     },
     "execution_count": 161,
     "metadata": {},
     "output_type": "execute_result"
    },
    {
     "data": {
      "text/plain": [
       "'C:/Users/khanh/code/DATA_SCIENCE/data/clean_images/test/images/39658.jpg'"
      ]
     },
     "execution_count": 161,
     "metadata": {},
     "output_type": "execute_result"
    },
    {
     "data": {
      "text/plain": [
       "'C:/Users/khanh/code/DATA_SCIENCE/data/clean_images/test/labels/39658.txt'"
      ]
     },
     "execution_count": 161,
     "metadata": {},
     "output_type": "execute_result"
    },
    {
     "data": {
      "text/plain": [
       "'C:/Users/khanh/code/DATA_SCIENCE/data/clean_images/test/images/39659.jpg'"
      ]
     },
     "execution_count": 161,
     "metadata": {},
     "output_type": "execute_result"
    },
    {
     "data": {
      "text/plain": [
       "'C:/Users/khanh/code/DATA_SCIENCE/data/clean_images/test/labels/39659.txt'"
      ]
     },
     "execution_count": 161,
     "metadata": {},
     "output_type": "execute_result"
    },
    {
     "data": {
      "text/plain": [
       "'C:/Users/khanh/code/DATA_SCIENCE/data/clean_images/test/images/7050.jpg'"
      ]
     },
     "execution_count": 161,
     "metadata": {},
     "output_type": "execute_result"
    },
    {
     "data": {
      "text/plain": [
       "'C:/Users/khanh/code/DATA_SCIENCE/data/clean_images/test/labels/7050.txt'"
      ]
     },
     "execution_count": 161,
     "metadata": {},
     "output_type": "execute_result"
    },
    {
     "data": {
      "text/plain": [
       "'C:/Users/khanh/code/DATA_SCIENCE/data/clean_images/test/images/54612.jpg'"
      ]
     },
     "execution_count": 161,
     "metadata": {},
     "output_type": "execute_result"
    },
    {
     "data": {
      "text/plain": [
       "'C:/Users/khanh/code/DATA_SCIENCE/data/clean_images/test/labels/54612.txt'"
      ]
     },
     "execution_count": 161,
     "metadata": {},
     "output_type": "execute_result"
    },
    {
     "data": {
      "text/plain": [
       "'C:/Users/khanh/code/DATA_SCIENCE/data/clean_images/test/images/54614.jpg'"
      ]
     },
     "execution_count": 161,
     "metadata": {},
     "output_type": "execute_result"
    },
    {
     "data": {
      "text/plain": [
       "'C:/Users/khanh/code/DATA_SCIENCE/data/clean_images/test/labels/54614.txt'"
      ]
     },
     "execution_count": 161,
     "metadata": {},
     "output_type": "execute_result"
    },
    {
     "data": {
      "text/plain": [
       "'C:/Users/khanh/code/DATA_SCIENCE/data/clean_images/test/images/54615.jpg'"
      ]
     },
     "execution_count": 161,
     "metadata": {},
     "output_type": "execute_result"
    },
    {
     "data": {
      "text/plain": [
       "'C:/Users/khanh/code/DATA_SCIENCE/data/clean_images/test/labels/54615.txt'"
      ]
     },
     "execution_count": 161,
     "metadata": {},
     "output_type": "execute_result"
    },
    {
     "data": {
      "text/plain": [
       "'C:/Users/khanh/code/DATA_SCIENCE/data/clean_images/test/images/44259.jpg'"
      ]
     },
     "execution_count": 161,
     "metadata": {},
     "output_type": "execute_result"
    },
    {
     "data": {
      "text/plain": [
       "'C:/Users/khanh/code/DATA_SCIENCE/data/clean_images/test/labels/44259.txt'"
      ]
     },
     "execution_count": 161,
     "metadata": {},
     "output_type": "execute_result"
    },
    {
     "data": {
      "text/plain": [
       "'C:/Users/khanh/code/DATA_SCIENCE/data/clean_images/test/images/44260.jpg'"
      ]
     },
     "execution_count": 161,
     "metadata": {},
     "output_type": "execute_result"
    },
    {
     "data": {
      "text/plain": [
       "'C:/Users/khanh/code/DATA_SCIENCE/data/clean_images/test/labels/44260.txt'"
      ]
     },
     "execution_count": 161,
     "metadata": {},
     "output_type": "execute_result"
    },
    {
     "data": {
      "text/plain": [
       "'C:/Users/khanh/code/DATA_SCIENCE/data/clean_images/test/images/44262.jpg'"
      ]
     },
     "execution_count": 161,
     "metadata": {},
     "output_type": "execute_result"
    },
    {
     "data": {
      "text/plain": [
       "'C:/Users/khanh/code/DATA_SCIENCE/data/clean_images/test/labels/44262.txt'"
      ]
     },
     "execution_count": 161,
     "metadata": {},
     "output_type": "execute_result"
    },
    {
     "data": {
      "text/plain": [
       "'C:/Users/khanh/code/DATA_SCIENCE/data/clean_images/test/images/44263.jpg'"
      ]
     },
     "execution_count": 161,
     "metadata": {},
     "output_type": "execute_result"
    },
    {
     "data": {
      "text/plain": [
       "'C:/Users/khanh/code/DATA_SCIENCE/data/clean_images/test/labels/44263.txt'"
      ]
     },
     "execution_count": 161,
     "metadata": {},
     "output_type": "execute_result"
    },
    {
     "data": {
      "text/plain": [
       "'C:/Users/khanh/code/DATA_SCIENCE/data/clean_images/test/images/44264.jpg'"
      ]
     },
     "execution_count": 161,
     "metadata": {},
     "output_type": "execute_result"
    },
    {
     "data": {
      "text/plain": [
       "'C:/Users/khanh/code/DATA_SCIENCE/data/clean_images/test/labels/44264.txt'"
      ]
     },
     "execution_count": 161,
     "metadata": {},
     "output_type": "execute_result"
    },
    {
     "data": {
      "text/plain": [
       "'C:/Users/khanh/code/DATA_SCIENCE/data/clean_images/test/images/54039.jpg'"
      ]
     },
     "execution_count": 161,
     "metadata": {},
     "output_type": "execute_result"
    },
    {
     "data": {
      "text/plain": [
       "'C:/Users/khanh/code/DATA_SCIENCE/data/clean_images/test/labels/54039.txt'"
      ]
     },
     "execution_count": 161,
     "metadata": {},
     "output_type": "execute_result"
    },
    {
     "data": {
      "text/plain": [
       "'C:/Users/khanh/code/DATA_SCIENCE/data/clean_images/test/images/8974.jpg'"
      ]
     },
     "execution_count": 161,
     "metadata": {},
     "output_type": "execute_result"
    },
    {
     "data": {
      "text/plain": [
       "'C:/Users/khanh/code/DATA_SCIENCE/data/clean_images/test/labels/8974.txt'"
      ]
     },
     "execution_count": 161,
     "metadata": {},
     "output_type": "execute_result"
    },
    {
     "data": {
      "text/plain": [
       "'C:/Users/khanh/code/DATA_SCIENCE/data/clean_images/test/images/8975.jpg'"
      ]
     },
     "execution_count": 161,
     "metadata": {},
     "output_type": "execute_result"
    },
    {
     "data": {
      "text/plain": [
       "'C:/Users/khanh/code/DATA_SCIENCE/data/clean_images/test/labels/8975.txt'"
      ]
     },
     "execution_count": 161,
     "metadata": {},
     "output_type": "execute_result"
    },
    {
     "data": {
      "text/plain": [
       "'C:/Users/khanh/code/DATA_SCIENCE/data/clean_images/test/images/8977.jpg'"
      ]
     },
     "execution_count": 161,
     "metadata": {},
     "output_type": "execute_result"
    },
    {
     "data": {
      "text/plain": [
       "'C:/Users/khanh/code/DATA_SCIENCE/data/clean_images/test/labels/8977.txt'"
      ]
     },
     "execution_count": 161,
     "metadata": {},
     "output_type": "execute_result"
    },
    {
     "data": {
      "text/plain": [
       "'C:/Users/khanh/code/DATA_SCIENCE/data/clean_images/test/images/8978.jpg'"
      ]
     },
     "execution_count": 161,
     "metadata": {},
     "output_type": "execute_result"
    },
    {
     "data": {
      "text/plain": [
       "'C:/Users/khanh/code/DATA_SCIENCE/data/clean_images/test/labels/8978.txt'"
      ]
     },
     "execution_count": 161,
     "metadata": {},
     "output_type": "execute_result"
    },
    {
     "data": {
      "text/plain": [
       "'C:/Users/khanh/code/DATA_SCIENCE/data/clean_images/test/images/19795.jpg'"
      ]
     },
     "execution_count": 161,
     "metadata": {},
     "output_type": "execute_result"
    },
    {
     "data": {
      "text/plain": [
       "'C:/Users/khanh/code/DATA_SCIENCE/data/clean_images/test/labels/19795.txt'"
      ]
     },
     "execution_count": 161,
     "metadata": {},
     "output_type": "execute_result"
    },
    {
     "data": {
      "text/plain": [
       "'C:/Users/khanh/code/DATA_SCIENCE/data/clean_images/test/images/25580.jpg'"
      ]
     },
     "execution_count": 161,
     "metadata": {},
     "output_type": "execute_result"
    },
    {
     "data": {
      "text/plain": [
       "'C:/Users/khanh/code/DATA_SCIENCE/data/clean_images/test/labels/25580.txt'"
      ]
     },
     "execution_count": 161,
     "metadata": {},
     "output_type": "execute_result"
    },
    {
     "data": {
      "text/plain": [
       "'C:/Users/khanh/code/DATA_SCIENCE/data/clean_images/test/images/25581.jpg'"
      ]
     },
     "execution_count": 161,
     "metadata": {},
     "output_type": "execute_result"
    },
    {
     "data": {
      "text/plain": [
       "'C:/Users/khanh/code/DATA_SCIENCE/data/clean_images/test/labels/25581.txt'"
      ]
     },
     "execution_count": 161,
     "metadata": {},
     "output_type": "execute_result"
    },
    {
     "data": {
      "text/plain": [
       "'C:/Users/khanh/code/DATA_SCIENCE/data/clean_images/test/images/25582.jpg'"
      ]
     },
     "execution_count": 161,
     "metadata": {},
     "output_type": "execute_result"
    },
    {
     "data": {
      "text/plain": [
       "'C:/Users/khanh/code/DATA_SCIENCE/data/clean_images/test/labels/25582.txt'"
      ]
     },
     "execution_count": 161,
     "metadata": {},
     "output_type": "execute_result"
    },
    {
     "data": {
      "text/plain": [
       "'C:/Users/khanh/code/DATA_SCIENCE/data/clean_images/test/images/25583.jpg'"
      ]
     },
     "execution_count": 161,
     "metadata": {},
     "output_type": "execute_result"
    },
    {
     "data": {
      "text/plain": [
       "'C:/Users/khanh/code/DATA_SCIENCE/data/clean_images/test/labels/25583.txt'"
      ]
     },
     "execution_count": 161,
     "metadata": {},
     "output_type": "execute_result"
    },
    {
     "data": {
      "text/plain": [
       "'C:/Users/khanh/code/DATA_SCIENCE/data/clean_images/test/images/18623.jpg'"
      ]
     },
     "execution_count": 161,
     "metadata": {},
     "output_type": "execute_result"
    },
    {
     "data": {
      "text/plain": [
       "'C:/Users/khanh/code/DATA_SCIENCE/data/clean_images/test/labels/18623.txt'"
      ]
     },
     "execution_count": 161,
     "metadata": {},
     "output_type": "execute_result"
    },
    {
     "data": {
      "text/plain": [
       "'C:/Users/khanh/code/DATA_SCIENCE/data/clean_images/test/images/54704.jpg'"
      ]
     },
     "execution_count": 161,
     "metadata": {},
     "output_type": "execute_result"
    },
    {
     "data": {
      "text/plain": [
       "'C:/Users/khanh/code/DATA_SCIENCE/data/clean_images/test/labels/54704.txt'"
      ]
     },
     "execution_count": 161,
     "metadata": {},
     "output_type": "execute_result"
    },
    {
     "data": {
      "text/plain": [
       "'C:/Users/khanh/code/DATA_SCIENCE/data/clean_images/test/images/54706.jpg'"
      ]
     },
     "execution_count": 161,
     "metadata": {},
     "output_type": "execute_result"
    },
    {
     "data": {
      "text/plain": [
       "'C:/Users/khanh/code/DATA_SCIENCE/data/clean_images/test/labels/54706.txt'"
      ]
     },
     "execution_count": 161,
     "metadata": {},
     "output_type": "execute_result"
    },
    {
     "data": {
      "text/plain": [
       "'C:/Users/khanh/code/DATA_SCIENCE/data/clean_images/test/images/27211.jpg'"
      ]
     },
     "execution_count": 161,
     "metadata": {},
     "output_type": "execute_result"
    },
    {
     "data": {
      "text/plain": [
       "'C:/Users/khanh/code/DATA_SCIENCE/data/clean_images/test/labels/27211.txt'"
      ]
     },
     "execution_count": 161,
     "metadata": {},
     "output_type": "execute_result"
    },
    {
     "data": {
      "text/plain": [
       "'C:/Users/khanh/code/DATA_SCIENCE/data/clean_images/test/images/27212.jpg'"
      ]
     },
     "execution_count": 161,
     "metadata": {},
     "output_type": "execute_result"
    },
    {
     "data": {
      "text/plain": [
       "'C:/Users/khanh/code/DATA_SCIENCE/data/clean_images/test/labels/27212.txt'"
      ]
     },
     "execution_count": 161,
     "metadata": {},
     "output_type": "execute_result"
    },
    {
     "data": {
      "text/plain": [
       "'C:/Users/khanh/code/DATA_SCIENCE/data/clean_images/test/images/27215.jpg'"
      ]
     },
     "execution_count": 161,
     "metadata": {},
     "output_type": "execute_result"
    },
    {
     "data": {
      "text/plain": [
       "'C:/Users/khanh/code/DATA_SCIENCE/data/clean_images/test/labels/27215.txt'"
      ]
     },
     "execution_count": 161,
     "metadata": {},
     "output_type": "execute_result"
    },
    {
     "data": {
      "text/plain": [
       "'C:/Users/khanh/code/DATA_SCIENCE/data/clean_images/test/images/32910.jpg'"
      ]
     },
     "execution_count": 161,
     "metadata": {},
     "output_type": "execute_result"
    },
    {
     "data": {
      "text/plain": [
       "'C:/Users/khanh/code/DATA_SCIENCE/data/clean_images/test/labels/32910.txt'"
      ]
     },
     "execution_count": 161,
     "metadata": {},
     "output_type": "execute_result"
    },
    {
     "data": {
      "text/plain": [
       "'C:/Users/khanh/code/DATA_SCIENCE/data/clean_images/test/images/32911.jpg'"
      ]
     },
     "execution_count": 161,
     "metadata": {},
     "output_type": "execute_result"
    },
    {
     "data": {
      "text/plain": [
       "'C:/Users/khanh/code/DATA_SCIENCE/data/clean_images/test/labels/32911.txt'"
      ]
     },
     "execution_count": 161,
     "metadata": {},
     "output_type": "execute_result"
    },
    {
     "data": {
      "text/plain": [
       "'C:/Users/khanh/code/DATA_SCIENCE/data/clean_images/test/images/32913.jpg'"
      ]
     },
     "execution_count": 161,
     "metadata": {},
     "output_type": "execute_result"
    },
    {
     "data": {
      "text/plain": [
       "'C:/Users/khanh/code/DATA_SCIENCE/data/clean_images/test/labels/32913.txt'"
      ]
     },
     "execution_count": 161,
     "metadata": {},
     "output_type": "execute_result"
    },
    {
     "data": {
      "text/plain": [
       "'C:/Users/khanh/code/DATA_SCIENCE/data/clean_images/test/images/17714.jpg'"
      ]
     },
     "execution_count": 161,
     "metadata": {},
     "output_type": "execute_result"
    },
    {
     "data": {
      "text/plain": [
       "'C:/Users/khanh/code/DATA_SCIENCE/data/clean_images/test/labels/17714.txt'"
      ]
     },
     "execution_count": 161,
     "metadata": {},
     "output_type": "execute_result"
    },
    {
     "data": {
      "text/plain": [
       "'C:/Users/khanh/code/DATA_SCIENCE/data/clean_images/test/images/17715.jpg'"
      ]
     },
     "execution_count": 161,
     "metadata": {},
     "output_type": "execute_result"
    },
    {
     "data": {
      "text/plain": [
       "'C:/Users/khanh/code/DATA_SCIENCE/data/clean_images/test/labels/17715.txt'"
      ]
     },
     "execution_count": 161,
     "metadata": {},
     "output_type": "execute_result"
    },
    {
     "data": {
      "text/plain": [
       "'C:/Users/khanh/code/DATA_SCIENCE/data/clean_images/test/images/17716.jpg'"
      ]
     },
     "execution_count": 161,
     "metadata": {},
     "output_type": "execute_result"
    },
    {
     "data": {
      "text/plain": [
       "'C:/Users/khanh/code/DATA_SCIENCE/data/clean_images/test/labels/17716.txt'"
      ]
     },
     "execution_count": 161,
     "metadata": {},
     "output_type": "execute_result"
    },
    {
     "data": {
      "text/plain": [
       "'C:/Users/khanh/code/DATA_SCIENCE/data/clean_images/test/images/19733.jpg'"
      ]
     },
     "execution_count": 161,
     "metadata": {},
     "output_type": "execute_result"
    },
    {
     "data": {
      "text/plain": [
       "'C:/Users/khanh/code/DATA_SCIENCE/data/clean_images/test/labels/19733.txt'"
      ]
     },
     "execution_count": 161,
     "metadata": {},
     "output_type": "execute_result"
    },
    {
     "data": {
      "text/plain": [
       "'C:/Users/khanh/code/DATA_SCIENCE/data/clean_images/test/images/12038.jpg'"
      ]
     },
     "execution_count": 161,
     "metadata": {},
     "output_type": "execute_result"
    },
    {
     "data": {
      "text/plain": [
       "'C:/Users/khanh/code/DATA_SCIENCE/data/clean_images/test/labels/12038.txt'"
      ]
     },
     "execution_count": 161,
     "metadata": {},
     "output_type": "execute_result"
    },
    {
     "data": {
      "text/plain": [
       "'C:/Users/khanh/code/DATA_SCIENCE/data/clean_images/test/images/12039.jpg'"
      ]
     },
     "execution_count": 161,
     "metadata": {},
     "output_type": "execute_result"
    },
    {
     "data": {
      "text/plain": [
       "'C:/Users/khanh/code/DATA_SCIENCE/data/clean_images/test/labels/12039.txt'"
      ]
     },
     "execution_count": 161,
     "metadata": {},
     "output_type": "execute_result"
    },
    {
     "data": {
      "text/plain": [
       "'C:/Users/khanh/code/DATA_SCIENCE/data/clean_images/test/images/12041.jpg'"
      ]
     },
     "execution_count": 161,
     "metadata": {},
     "output_type": "execute_result"
    },
    {
     "data": {
      "text/plain": [
       "'C:/Users/khanh/code/DATA_SCIENCE/data/clean_images/test/labels/12041.txt'"
      ]
     },
     "execution_count": 161,
     "metadata": {},
     "output_type": "execute_result"
    },
    {
     "data": {
      "text/plain": [
       "'C:/Users/khanh/code/DATA_SCIENCE/data/clean_images/test/images/12042.jpg'"
      ]
     },
     "execution_count": 161,
     "metadata": {},
     "output_type": "execute_result"
    },
    {
     "data": {
      "text/plain": [
       "'C:/Users/khanh/code/DATA_SCIENCE/data/clean_images/test/labels/12042.txt'"
      ]
     },
     "execution_count": 161,
     "metadata": {},
     "output_type": "execute_result"
    },
    {
     "data": {
      "text/plain": [
       "'C:/Users/khanh/code/DATA_SCIENCE/data/clean_images/test/images/28667.jpg'"
      ]
     },
     "execution_count": 161,
     "metadata": {},
     "output_type": "execute_result"
    },
    {
     "data": {
      "text/plain": [
       "'C:/Users/khanh/code/DATA_SCIENCE/data/clean_images/test/labels/28667.txt'"
      ]
     },
     "execution_count": 161,
     "metadata": {},
     "output_type": "execute_result"
    },
    {
     "data": {
      "text/plain": [
       "'C:/Users/khanh/code/DATA_SCIENCE/data/clean_images/test/images/28669.jpg'"
      ]
     },
     "execution_count": 161,
     "metadata": {},
     "output_type": "execute_result"
    },
    {
     "data": {
      "text/plain": [
       "'C:/Users/khanh/code/DATA_SCIENCE/data/clean_images/test/labels/28669.txt'"
      ]
     },
     "execution_count": 161,
     "metadata": {},
     "output_type": "execute_result"
    },
    {
     "data": {
      "text/plain": [
       "'C:/Users/khanh/code/DATA_SCIENCE/data/clean_images/test/images/51798.jpg'"
      ]
     },
     "execution_count": 161,
     "metadata": {},
     "output_type": "execute_result"
    },
    {
     "data": {
      "text/plain": [
       "'C:/Users/khanh/code/DATA_SCIENCE/data/clean_images/test/labels/51798.txt'"
      ]
     },
     "execution_count": 161,
     "metadata": {},
     "output_type": "execute_result"
    },
    {
     "data": {
      "text/plain": [
       "'C:/Users/khanh/code/DATA_SCIENCE/data/clean_images/test/images/21569.jpg'"
      ]
     },
     "execution_count": 161,
     "metadata": {},
     "output_type": "execute_result"
    },
    {
     "data": {
      "text/plain": [
       "'C:/Users/khanh/code/DATA_SCIENCE/data/clean_images/test/labels/21569.txt'"
      ]
     },
     "execution_count": 161,
     "metadata": {},
     "output_type": "execute_result"
    },
    {
     "data": {
      "text/plain": [
       "'C:/Users/khanh/code/DATA_SCIENCE/data/clean_images/test/images/21570.jpg'"
      ]
     },
     "execution_count": 161,
     "metadata": {},
     "output_type": "execute_result"
    },
    {
     "data": {
      "text/plain": [
       "'C:/Users/khanh/code/DATA_SCIENCE/data/clean_images/test/labels/21570.txt'"
      ]
     },
     "execution_count": 161,
     "metadata": {},
     "output_type": "execute_result"
    },
    {
     "data": {
      "text/plain": [
       "'C:/Users/khanh/code/DATA_SCIENCE/data/clean_images/test/images/21571.jpg'"
      ]
     },
     "execution_count": 161,
     "metadata": {},
     "output_type": "execute_result"
    },
    {
     "data": {
      "text/plain": [
       "'C:/Users/khanh/code/DATA_SCIENCE/data/clean_images/test/labels/21571.txt'"
      ]
     },
     "execution_count": 161,
     "metadata": {},
     "output_type": "execute_result"
    },
    {
     "data": {
      "text/plain": [
       "'C:/Users/khanh/code/DATA_SCIENCE/data/clean_images/test/images/18652.jpg'"
      ]
     },
     "execution_count": 161,
     "metadata": {},
     "output_type": "execute_result"
    },
    {
     "data": {
      "text/plain": [
       "'C:/Users/khanh/code/DATA_SCIENCE/data/clean_images/test/labels/18652.txt'"
      ]
     },
     "execution_count": 161,
     "metadata": {},
     "output_type": "execute_result"
    },
    {
     "data": {
      "text/plain": [
       "'C:/Users/khanh/code/DATA_SCIENCE/data/clean_images/test/images/18653.jpg'"
      ]
     },
     "execution_count": 161,
     "metadata": {},
     "output_type": "execute_result"
    },
    {
     "data": {
      "text/plain": [
       "'C:/Users/khanh/code/DATA_SCIENCE/data/clean_images/test/labels/18653.txt'"
      ]
     },
     "execution_count": 161,
     "metadata": {},
     "output_type": "execute_result"
    },
    {
     "data": {
      "text/plain": [
       "'C:/Users/khanh/code/DATA_SCIENCE/data/clean_images/test/images/18654.jpg'"
      ]
     },
     "execution_count": 161,
     "metadata": {},
     "output_type": "execute_result"
    },
    {
     "data": {
      "text/plain": [
       "'C:/Users/khanh/code/DATA_SCIENCE/data/clean_images/test/labels/18654.txt'"
      ]
     },
     "execution_count": 161,
     "metadata": {},
     "output_type": "execute_result"
    },
    {
     "data": {
      "text/plain": [
       "'C:/Users/khanh/code/DATA_SCIENCE/data/clean_images/test/images/18655.jpg'"
      ]
     },
     "execution_count": 161,
     "metadata": {},
     "output_type": "execute_result"
    },
    {
     "data": {
      "text/plain": [
       "'C:/Users/khanh/code/DATA_SCIENCE/data/clean_images/test/labels/18655.txt'"
      ]
     },
     "execution_count": 161,
     "metadata": {},
     "output_type": "execute_result"
    },
    {
     "data": {
      "text/plain": [
       "'C:/Users/khanh/code/DATA_SCIENCE/data/clean_images/test/images/18656.jpg'"
      ]
     },
     "execution_count": 161,
     "metadata": {},
     "output_type": "execute_result"
    },
    {
     "data": {
      "text/plain": [
       "'C:/Users/khanh/code/DATA_SCIENCE/data/clean_images/test/labels/18656.txt'"
      ]
     },
     "execution_count": 161,
     "metadata": {},
     "output_type": "execute_result"
    },
    {
     "data": {
      "text/plain": [
       "'C:/Users/khanh/code/DATA_SCIENCE/data/clean_images/test/images/18657.jpg'"
      ]
     },
     "execution_count": 161,
     "metadata": {},
     "output_type": "execute_result"
    },
    {
     "data": {
      "text/plain": [
       "'C:/Users/khanh/code/DATA_SCIENCE/data/clean_images/test/labels/18657.txt'"
      ]
     },
     "execution_count": 161,
     "metadata": {},
     "output_type": "execute_result"
    },
    {
     "data": {
      "text/plain": [
       "'C:/Users/khanh/code/DATA_SCIENCE/data/clean_images/test/images/54145.jpg'"
      ]
     },
     "execution_count": 161,
     "metadata": {},
     "output_type": "execute_result"
    },
    {
     "data": {
      "text/plain": [
       "'C:/Users/khanh/code/DATA_SCIENCE/data/clean_images/test/labels/54145.txt'"
      ]
     },
     "execution_count": 161,
     "metadata": {},
     "output_type": "execute_result"
    },
    {
     "data": {
      "text/plain": [
       "'C:/Users/khanh/code/DATA_SCIENCE/data/clean_images/test/images/22467.jpg'"
      ]
     },
     "execution_count": 161,
     "metadata": {},
     "output_type": "execute_result"
    },
    {
     "data": {
      "text/plain": [
       "'C:/Users/khanh/code/DATA_SCIENCE/data/clean_images/test/labels/22467.txt'"
      ]
     },
     "execution_count": 161,
     "metadata": {},
     "output_type": "execute_result"
    },
    {
     "data": {
      "text/plain": [
       "'C:/Users/khanh/code/DATA_SCIENCE/data/clean_images/test/images/14104.jpg'"
      ]
     },
     "execution_count": 161,
     "metadata": {},
     "output_type": "execute_result"
    },
    {
     "data": {
      "text/plain": [
       "'C:/Users/khanh/code/DATA_SCIENCE/data/clean_images/test/labels/14104.txt'"
      ]
     },
     "execution_count": 161,
     "metadata": {},
     "output_type": "execute_result"
    },
    {
     "data": {
      "text/plain": [
       "'C:/Users/khanh/code/DATA_SCIENCE/data/clean_images/test/images/14105.jpg'"
      ]
     },
     "execution_count": 161,
     "metadata": {},
     "output_type": "execute_result"
    },
    {
     "data": {
      "text/plain": [
       "'C:/Users/khanh/code/DATA_SCIENCE/data/clean_images/test/labels/14105.txt'"
      ]
     },
     "execution_count": 161,
     "metadata": {},
     "output_type": "execute_result"
    },
    {
     "data": {
      "text/plain": [
       "'C:/Users/khanh/code/DATA_SCIENCE/data/clean_images/test/images/19240.jpg'"
      ]
     },
     "execution_count": 161,
     "metadata": {},
     "output_type": "execute_result"
    },
    {
     "data": {
      "text/plain": [
       "'C:/Users/khanh/code/DATA_SCIENCE/data/clean_images/test/labels/19240.txt'"
      ]
     },
     "execution_count": 161,
     "metadata": {},
     "output_type": "execute_result"
    },
    {
     "data": {
      "text/plain": [
       "'C:/Users/khanh/code/DATA_SCIENCE/data/clean_images/test/images/19242.jpg'"
      ]
     },
     "execution_count": 161,
     "metadata": {},
     "output_type": "execute_result"
    },
    {
     "data": {
      "text/plain": [
       "'C:/Users/khanh/code/DATA_SCIENCE/data/clean_images/test/labels/19242.txt'"
      ]
     },
     "execution_count": 161,
     "metadata": {},
     "output_type": "execute_result"
    },
    {
     "data": {
      "text/plain": [
       "'C:/Users/khanh/code/DATA_SCIENCE/data/clean_images/test/images/22190.jpg'"
      ]
     },
     "execution_count": 161,
     "metadata": {},
     "output_type": "execute_result"
    },
    {
     "data": {
      "text/plain": [
       "'C:/Users/khanh/code/DATA_SCIENCE/data/clean_images/test/labels/22190.txt'"
      ]
     },
     "execution_count": 161,
     "metadata": {},
     "output_type": "execute_result"
    },
    {
     "data": {
      "text/plain": [
       "'C:/Users/khanh/code/DATA_SCIENCE/data/clean_images/test/images/22192.jpg'"
      ]
     },
     "execution_count": 161,
     "metadata": {},
     "output_type": "execute_result"
    },
    {
     "data": {
      "text/plain": [
       "'C:/Users/khanh/code/DATA_SCIENCE/data/clean_images/test/labels/22192.txt'"
      ]
     },
     "execution_count": 161,
     "metadata": {},
     "output_type": "execute_result"
    },
    {
     "data": {
      "text/plain": [
       "'C:/Users/khanh/code/DATA_SCIENCE/data/clean_images/test/images/22193.jpg'"
      ]
     },
     "execution_count": 161,
     "metadata": {},
     "output_type": "execute_result"
    },
    {
     "data": {
      "text/plain": [
       "'C:/Users/khanh/code/DATA_SCIENCE/data/clean_images/test/labels/22193.txt'"
      ]
     },
     "execution_count": 161,
     "metadata": {},
     "output_type": "execute_result"
    },
    {
     "data": {
      "text/plain": [
       "'C:/Users/khanh/code/DATA_SCIENCE/data/clean_images/test/images/30821.jpg'"
      ]
     },
     "execution_count": 161,
     "metadata": {},
     "output_type": "execute_result"
    },
    {
     "data": {
      "text/plain": [
       "'C:/Users/khanh/code/DATA_SCIENCE/data/clean_images/test/labels/30821.txt'"
      ]
     },
     "execution_count": 161,
     "metadata": {},
     "output_type": "execute_result"
    },
    {
     "data": {
      "text/plain": [
       "'C:/Users/khanh/code/DATA_SCIENCE/data/clean_images/test/images/30824.jpg'"
      ]
     },
     "execution_count": 161,
     "metadata": {},
     "output_type": "execute_result"
    },
    {
     "data": {
      "text/plain": [
       "'C:/Users/khanh/code/DATA_SCIENCE/data/clean_images/test/labels/30824.txt'"
      ]
     },
     "execution_count": 161,
     "metadata": {},
     "output_type": "execute_result"
    },
    {
     "data": {
      "text/plain": [
       "'C:/Users/khanh/code/DATA_SCIENCE/data/clean_images/test/images/556.jpg'"
      ]
     },
     "execution_count": 161,
     "metadata": {},
     "output_type": "execute_result"
    },
    {
     "data": {
      "text/plain": [
       "'C:/Users/khanh/code/DATA_SCIENCE/data/clean_images/test/labels/556.txt'"
      ]
     },
     "execution_count": 161,
     "metadata": {},
     "output_type": "execute_result"
    },
    {
     "data": {
      "text/plain": [
       "'C:/Users/khanh/code/DATA_SCIENCE/data/clean_images/test/images/559.jpg'"
      ]
     },
     "execution_count": 161,
     "metadata": {},
     "output_type": "execute_result"
    },
    {
     "data": {
      "text/plain": [
       "'C:/Users/khanh/code/DATA_SCIENCE/data/clean_images/test/labels/559.txt'"
      ]
     },
     "execution_count": 161,
     "metadata": {},
     "output_type": "execute_result"
    },
    {
     "data": {
      "text/plain": [
       "'C:/Users/khanh/code/DATA_SCIENCE/data/clean_images/test/images/560.jpg'"
      ]
     },
     "execution_count": 161,
     "metadata": {},
     "output_type": "execute_result"
    },
    {
     "data": {
      "text/plain": [
       "'C:/Users/khanh/code/DATA_SCIENCE/data/clean_images/test/labels/560.txt'"
      ]
     },
     "execution_count": 161,
     "metadata": {},
     "output_type": "execute_result"
    },
    {
     "data": {
      "text/plain": [
       "'C:/Users/khanh/code/DATA_SCIENCE/data/clean_images/test/images/561.jpg'"
      ]
     },
     "execution_count": 161,
     "metadata": {},
     "output_type": "execute_result"
    },
    {
     "data": {
      "text/plain": [
       "'C:/Users/khanh/code/DATA_SCIENCE/data/clean_images/test/labels/561.txt'"
      ]
     },
     "execution_count": 161,
     "metadata": {},
     "output_type": "execute_result"
    },
    {
     "data": {
      "text/plain": [
       "'C:/Users/khanh/code/DATA_SCIENCE/data/clean_images/test/images/12777.jpg'"
      ]
     },
     "execution_count": 161,
     "metadata": {},
     "output_type": "execute_result"
    },
    {
     "data": {
      "text/plain": [
       "'C:/Users/khanh/code/DATA_SCIENCE/data/clean_images/test/labels/12777.txt'"
      ]
     },
     "execution_count": 161,
     "metadata": {},
     "output_type": "execute_result"
    },
    {
     "data": {
      "text/plain": [
       "'C:/Users/khanh/code/DATA_SCIENCE/data/clean_images/test/images/12778.jpg'"
      ]
     },
     "execution_count": 161,
     "metadata": {},
     "output_type": "execute_result"
    },
    {
     "data": {
      "text/plain": [
       "'C:/Users/khanh/code/DATA_SCIENCE/data/clean_images/test/labels/12778.txt'"
      ]
     },
     "execution_count": 161,
     "metadata": {},
     "output_type": "execute_result"
    },
    {
     "data": {
      "text/plain": [
       "'C:/Users/khanh/code/DATA_SCIENCE/data/clean_images/test/images/12780.jpg'"
      ]
     },
     "execution_count": 161,
     "metadata": {},
     "output_type": "execute_result"
    },
    {
     "data": {
      "text/plain": [
       "'C:/Users/khanh/code/DATA_SCIENCE/data/clean_images/test/labels/12780.txt'"
      ]
     },
     "execution_count": 161,
     "metadata": {},
     "output_type": "execute_result"
    },
    {
     "data": {
      "text/plain": [
       "'C:/Users/khanh/code/DATA_SCIENCE/data/clean_images/test/images/12781.jpg'"
      ]
     },
     "execution_count": 161,
     "metadata": {},
     "output_type": "execute_result"
    },
    {
     "data": {
      "text/plain": [
       "'C:/Users/khanh/code/DATA_SCIENCE/data/clean_images/test/labels/12781.txt'"
      ]
     },
     "execution_count": 161,
     "metadata": {},
     "output_type": "execute_result"
    },
    {
     "data": {
      "text/plain": [
       "'C:/Users/khanh/code/DATA_SCIENCE/data/clean_images/test/images/17175.jpg'"
      ]
     },
     "execution_count": 161,
     "metadata": {},
     "output_type": "execute_result"
    },
    {
     "data": {
      "text/plain": [
       "'C:/Users/khanh/code/DATA_SCIENCE/data/clean_images/test/labels/17175.txt'"
      ]
     },
     "execution_count": 161,
     "metadata": {},
     "output_type": "execute_result"
    },
    {
     "data": {
      "text/plain": [
       "'C:/Users/khanh/code/DATA_SCIENCE/data/clean_images/test/images/17176.jpg'"
      ]
     },
     "execution_count": 161,
     "metadata": {},
     "output_type": "execute_result"
    },
    {
     "data": {
      "text/plain": [
       "'C:/Users/khanh/code/DATA_SCIENCE/data/clean_images/test/labels/17176.txt'"
      ]
     },
     "execution_count": 161,
     "metadata": {},
     "output_type": "execute_result"
    },
    {
     "data": {
      "text/plain": [
       "'C:/Users/khanh/code/DATA_SCIENCE/data/clean_images/test/images/17177.jpg'"
      ]
     },
     "execution_count": 161,
     "metadata": {},
     "output_type": "execute_result"
    },
    {
     "data": {
      "text/plain": [
       "'C:/Users/khanh/code/DATA_SCIENCE/data/clean_images/test/labels/17177.txt'"
      ]
     },
     "execution_count": 161,
     "metadata": {},
     "output_type": "execute_result"
    },
    {
     "data": {
      "text/plain": [
       "'C:/Users/khanh/code/DATA_SCIENCE/data/clean_images/test/images/37205.jpg'"
      ]
     },
     "execution_count": 161,
     "metadata": {},
     "output_type": "execute_result"
    },
    {
     "data": {
      "text/plain": [
       "'C:/Users/khanh/code/DATA_SCIENCE/data/clean_images/test/labels/37205.txt'"
      ]
     },
     "execution_count": 161,
     "metadata": {},
     "output_type": "execute_result"
    },
    {
     "data": {
      "text/plain": [
       "'C:/Users/khanh/code/DATA_SCIENCE/data/clean_images/test/images/37206.jpg'"
      ]
     },
     "execution_count": 161,
     "metadata": {},
     "output_type": "execute_result"
    },
    {
     "data": {
      "text/plain": [
       "'C:/Users/khanh/code/DATA_SCIENCE/data/clean_images/test/labels/37206.txt'"
      ]
     },
     "execution_count": 161,
     "metadata": {},
     "output_type": "execute_result"
    },
    {
     "data": {
      "text/plain": [
       "'C:/Users/khanh/code/DATA_SCIENCE/data/clean_images/test/images/37207.jpg'"
      ]
     },
     "execution_count": 161,
     "metadata": {},
     "output_type": "execute_result"
    },
    {
     "data": {
      "text/plain": [
       "'C:/Users/khanh/code/DATA_SCIENCE/data/clean_images/test/labels/37207.txt'"
      ]
     },
     "execution_count": 161,
     "metadata": {},
     "output_type": "execute_result"
    },
    {
     "data": {
      "text/plain": [
       "'C:/Users/khanh/code/DATA_SCIENCE/data/clean_images/test/images/37208.jpg'"
      ]
     },
     "execution_count": 161,
     "metadata": {},
     "output_type": "execute_result"
    },
    {
     "data": {
      "text/plain": [
       "'C:/Users/khanh/code/DATA_SCIENCE/data/clean_images/test/labels/37208.txt'"
      ]
     },
     "execution_count": 161,
     "metadata": {},
     "output_type": "execute_result"
    },
    {
     "data": {
      "text/plain": [
       "'C:/Users/khanh/code/DATA_SCIENCE/data/clean_images/test/images/37209.jpg'"
      ]
     },
     "execution_count": 161,
     "metadata": {},
     "output_type": "execute_result"
    },
    {
     "data": {
      "text/plain": [
       "'C:/Users/khanh/code/DATA_SCIENCE/data/clean_images/test/labels/37209.txt'"
      ]
     },
     "execution_count": 161,
     "metadata": {},
     "output_type": "execute_result"
    },
    {
     "data": {
      "text/plain": [
       "'C:/Users/khanh/code/DATA_SCIENCE/data/clean_images/test/images/9708.jpg'"
      ]
     },
     "execution_count": 161,
     "metadata": {},
     "output_type": "execute_result"
    },
    {
     "data": {
      "text/plain": [
       "'C:/Users/khanh/code/DATA_SCIENCE/data/clean_images/test/labels/9708.txt'"
      ]
     },
     "execution_count": 161,
     "metadata": {},
     "output_type": "execute_result"
    },
    {
     "data": {
      "text/plain": [
       "'C:/Users/khanh/code/DATA_SCIENCE/data/clean_images/test/images/9709.jpg'"
      ]
     },
     "execution_count": 161,
     "metadata": {},
     "output_type": "execute_result"
    },
    {
     "data": {
      "text/plain": [
       "'C:/Users/khanh/code/DATA_SCIENCE/data/clean_images/test/labels/9709.txt'"
      ]
     },
     "execution_count": 161,
     "metadata": {},
     "output_type": "execute_result"
    },
    {
     "data": {
      "text/plain": [
       "'C:/Users/khanh/code/DATA_SCIENCE/data/clean_images/test/images/9710.jpg'"
      ]
     },
     "execution_count": 161,
     "metadata": {},
     "output_type": "execute_result"
    },
    {
     "data": {
      "text/plain": [
       "'C:/Users/khanh/code/DATA_SCIENCE/data/clean_images/test/labels/9710.txt'"
      ]
     },
     "execution_count": 161,
     "metadata": {},
     "output_type": "execute_result"
    },
    {
     "data": {
      "text/plain": [
       "'C:/Users/khanh/code/DATA_SCIENCE/data/clean_images/test/images/9712.jpg'"
      ]
     },
     "execution_count": 161,
     "metadata": {},
     "output_type": "execute_result"
    },
    {
     "data": {
      "text/plain": [
       "'C:/Users/khanh/code/DATA_SCIENCE/data/clean_images/test/labels/9712.txt'"
      ]
     },
     "execution_count": 161,
     "metadata": {},
     "output_type": "execute_result"
    },
    {
     "data": {
      "text/plain": [
       "'C:/Users/khanh/code/DATA_SCIENCE/data/clean_images/test/images/17604.jpg'"
      ]
     },
     "execution_count": 161,
     "metadata": {},
     "output_type": "execute_result"
    },
    {
     "data": {
      "text/plain": [
       "'C:/Users/khanh/code/DATA_SCIENCE/data/clean_images/test/labels/17604.txt'"
      ]
     },
     "execution_count": 161,
     "metadata": {},
     "output_type": "execute_result"
    },
    {
     "data": {
      "text/plain": [
       "'C:/Users/khanh/code/DATA_SCIENCE/data/clean_images/test/images/17606.jpg'"
      ]
     },
     "execution_count": 161,
     "metadata": {},
     "output_type": "execute_result"
    },
    {
     "data": {
      "text/plain": [
       "'C:/Users/khanh/code/DATA_SCIENCE/data/clean_images/test/labels/17606.txt'"
      ]
     },
     "execution_count": 161,
     "metadata": {},
     "output_type": "execute_result"
    },
    {
     "data": {
      "text/plain": [
       "'C:/Users/khanh/code/DATA_SCIENCE/data/clean_images/test/images/34380.jpg'"
      ]
     },
     "execution_count": 161,
     "metadata": {},
     "output_type": "execute_result"
    },
    {
     "data": {
      "text/plain": [
       "'C:/Users/khanh/code/DATA_SCIENCE/data/clean_images/test/labels/34380.txt'"
      ]
     },
     "execution_count": 161,
     "metadata": {},
     "output_type": "execute_result"
    },
    {
     "data": {
      "text/plain": [
       "'C:/Users/khanh/code/DATA_SCIENCE/data/clean_images/test/images/34381.jpg'"
      ]
     },
     "execution_count": 161,
     "metadata": {},
     "output_type": "execute_result"
    },
    {
     "data": {
      "text/plain": [
       "'C:/Users/khanh/code/DATA_SCIENCE/data/clean_images/test/labels/34381.txt'"
      ]
     },
     "execution_count": 161,
     "metadata": {},
     "output_type": "execute_result"
    },
    {
     "data": {
      "text/plain": [
       "'C:/Users/khanh/code/DATA_SCIENCE/data/clean_images/test/images/34382.jpg'"
      ]
     },
     "execution_count": 161,
     "metadata": {},
     "output_type": "execute_result"
    },
    {
     "data": {
      "text/plain": [
       "'C:/Users/khanh/code/DATA_SCIENCE/data/clean_images/test/labels/34382.txt'"
      ]
     },
     "execution_count": 161,
     "metadata": {},
     "output_type": "execute_result"
    },
    {
     "data": {
      "text/plain": [
       "'C:/Users/khanh/code/DATA_SCIENCE/data/clean_images/test/images/50441.jpg'"
      ]
     },
     "execution_count": 161,
     "metadata": {},
     "output_type": "execute_result"
    },
    {
     "data": {
      "text/plain": [
       "'C:/Users/khanh/code/DATA_SCIENCE/data/clean_images/test/labels/50441.txt'"
      ]
     },
     "execution_count": 161,
     "metadata": {},
     "output_type": "execute_result"
    },
    {
     "data": {
      "text/plain": [
       "'C:/Users/khanh/code/DATA_SCIENCE/data/clean_images/test/images/50442.jpg'"
      ]
     },
     "execution_count": 161,
     "metadata": {},
     "output_type": "execute_result"
    },
    {
     "data": {
      "text/plain": [
       "'C:/Users/khanh/code/DATA_SCIENCE/data/clean_images/test/labels/50442.txt'"
      ]
     },
     "execution_count": 161,
     "metadata": {},
     "output_type": "execute_result"
    },
    {
     "data": {
      "text/plain": [
       "'C:/Users/khanh/code/DATA_SCIENCE/data/clean_images/test/images/30921.jpg'"
      ]
     },
     "execution_count": 161,
     "metadata": {},
     "output_type": "execute_result"
    },
    {
     "data": {
      "text/plain": [
       "'C:/Users/khanh/code/DATA_SCIENCE/data/clean_images/test/labels/30921.txt'"
      ]
     },
     "execution_count": 161,
     "metadata": {},
     "output_type": "execute_result"
    },
    {
     "data": {
      "text/plain": [
       "'C:/Users/khanh/code/DATA_SCIENCE/data/clean_images/test/images/30922.jpg'"
      ]
     },
     "execution_count": 161,
     "metadata": {},
     "output_type": "execute_result"
    },
    {
     "data": {
      "text/plain": [
       "'C:/Users/khanh/code/DATA_SCIENCE/data/clean_images/test/labels/30922.txt'"
      ]
     },
     "execution_count": 161,
     "metadata": {},
     "output_type": "execute_result"
    },
    {
     "data": {
      "text/plain": [
       "'C:/Users/khanh/code/DATA_SCIENCE/data/clean_images/test/images/30925.jpg'"
      ]
     },
     "execution_count": 161,
     "metadata": {},
     "output_type": "execute_result"
    },
    {
     "data": {
      "text/plain": [
       "'C:/Users/khanh/code/DATA_SCIENCE/data/clean_images/test/labels/30925.txt'"
      ]
     },
     "execution_count": 161,
     "metadata": {},
     "output_type": "execute_result"
    },
    {
     "data": {
      "text/plain": [
       "'C:/Users/khanh/code/DATA_SCIENCE/data/clean_images/test/images/30926.jpg'"
      ]
     },
     "execution_count": 161,
     "metadata": {},
     "output_type": "execute_result"
    },
    {
     "data": {
      "text/plain": [
       "'C:/Users/khanh/code/DATA_SCIENCE/data/clean_images/test/labels/30926.txt'"
      ]
     },
     "execution_count": 161,
     "metadata": {},
     "output_type": "execute_result"
    },
    {
     "data": {
      "text/plain": [
       "'C:/Users/khanh/code/DATA_SCIENCE/data/clean_images/test/images/20046.jpg'"
      ]
     },
     "execution_count": 161,
     "metadata": {},
     "output_type": "execute_result"
    },
    {
     "data": {
      "text/plain": [
       "'C:/Users/khanh/code/DATA_SCIENCE/data/clean_images/test/labels/20046.txt'"
      ]
     },
     "execution_count": 161,
     "metadata": {},
     "output_type": "execute_result"
    },
    {
     "data": {
      "text/plain": [
       "'C:/Users/khanh/code/DATA_SCIENCE/data/clean_images/test/images/30566.jpg'"
      ]
     },
     "execution_count": 161,
     "metadata": {},
     "output_type": "execute_result"
    },
    {
     "data": {
      "text/plain": [
       "'C:/Users/khanh/code/DATA_SCIENCE/data/clean_images/test/labels/30566.txt'"
      ]
     },
     "execution_count": 161,
     "metadata": {},
     "output_type": "execute_result"
    },
    {
     "data": {
      "text/plain": [
       "'C:/Users/khanh/code/DATA_SCIENCE/data/clean_images/test/images/30567.jpg'"
      ]
     },
     "execution_count": 161,
     "metadata": {},
     "output_type": "execute_result"
    },
    {
     "data": {
      "text/plain": [
       "'C:/Users/khanh/code/DATA_SCIENCE/data/clean_images/test/labels/30567.txt'"
      ]
     },
     "execution_count": 161,
     "metadata": {},
     "output_type": "execute_result"
    },
    {
     "data": {
      "text/plain": [
       "'C:/Users/khanh/code/DATA_SCIENCE/data/clean_images/test/images/30568.jpg'"
      ]
     },
     "execution_count": 161,
     "metadata": {},
     "output_type": "execute_result"
    },
    {
     "data": {
      "text/plain": [
       "'C:/Users/khanh/code/DATA_SCIENCE/data/clean_images/test/labels/30568.txt'"
      ]
     },
     "execution_count": 161,
     "metadata": {},
     "output_type": "execute_result"
    },
    {
     "data": {
      "text/plain": [
       "'C:/Users/khanh/code/DATA_SCIENCE/data/clean_images/test/images/40357.jpg'"
      ]
     },
     "execution_count": 161,
     "metadata": {},
     "output_type": "execute_result"
    },
    {
     "data": {
      "text/plain": [
       "'C:/Users/khanh/code/DATA_SCIENCE/data/clean_images/test/labels/40357.txt'"
      ]
     },
     "execution_count": 161,
     "metadata": {},
     "output_type": "execute_result"
    },
    {
     "data": {
      "text/plain": [
       "'C:/Users/khanh/code/DATA_SCIENCE/data/clean_images/test/images/40360.jpg'"
      ]
     },
     "execution_count": 161,
     "metadata": {},
     "output_type": "execute_result"
    },
    {
     "data": {
      "text/plain": [
       "'C:/Users/khanh/code/DATA_SCIENCE/data/clean_images/test/labels/40360.txt'"
      ]
     },
     "execution_count": 161,
     "metadata": {},
     "output_type": "execute_result"
    },
    {
     "data": {
      "text/plain": [
       "'C:/Users/khanh/code/DATA_SCIENCE/data/clean_images/test/images/40361.jpg'"
      ]
     },
     "execution_count": 161,
     "metadata": {},
     "output_type": "execute_result"
    },
    {
     "data": {
      "text/plain": [
       "'C:/Users/khanh/code/DATA_SCIENCE/data/clean_images/test/labels/40361.txt'"
      ]
     },
     "execution_count": 161,
     "metadata": {},
     "output_type": "execute_result"
    },
    {
     "data": {
      "text/plain": [
       "'C:/Users/khanh/code/DATA_SCIENCE/data/clean_images/test/images/26753.jpg'"
      ]
     },
     "execution_count": 161,
     "metadata": {},
     "output_type": "execute_result"
    },
    {
     "data": {
      "text/plain": [
       "'C:/Users/khanh/code/DATA_SCIENCE/data/clean_images/test/labels/26753.txt'"
      ]
     },
     "execution_count": 161,
     "metadata": {},
     "output_type": "execute_result"
    },
    {
     "data": {
      "text/plain": [
       "'C:/Users/khanh/code/DATA_SCIENCE/data/clean_images/test/images/26754.jpg'"
      ]
     },
     "execution_count": 161,
     "metadata": {},
     "output_type": "execute_result"
    },
    {
     "data": {
      "text/plain": [
       "'C:/Users/khanh/code/DATA_SCIENCE/data/clean_images/test/labels/26754.txt'"
      ]
     },
     "execution_count": 161,
     "metadata": {},
     "output_type": "execute_result"
    },
    {
     "data": {
      "text/plain": [
       "'C:/Users/khanh/code/DATA_SCIENCE/data/clean_images/test/images/11449.jpg'"
      ]
     },
     "execution_count": 161,
     "metadata": {},
     "output_type": "execute_result"
    },
    {
     "data": {
      "text/plain": [
       "'C:/Users/khanh/code/DATA_SCIENCE/data/clean_images/test/labels/11449.txt'"
      ]
     },
     "execution_count": 161,
     "metadata": {},
     "output_type": "execute_result"
    },
    {
     "data": {
      "text/plain": [
       "'C:/Users/khanh/code/DATA_SCIENCE/data/clean_images/test/images/11451.jpg'"
      ]
     },
     "execution_count": 161,
     "metadata": {},
     "output_type": "execute_result"
    },
    {
     "data": {
      "text/plain": [
       "'C:/Users/khanh/code/DATA_SCIENCE/data/clean_images/test/labels/11451.txt'"
      ]
     },
     "execution_count": 161,
     "metadata": {},
     "output_type": "execute_result"
    },
    {
     "data": {
      "text/plain": [
       "'C:/Users/khanh/code/DATA_SCIENCE/data/clean_images/test/images/30634.jpg'"
      ]
     },
     "execution_count": 161,
     "metadata": {},
     "output_type": "execute_result"
    },
    {
     "data": {
      "text/plain": [
       "'C:/Users/khanh/code/DATA_SCIENCE/data/clean_images/test/labels/30634.txt'"
      ]
     },
     "execution_count": 161,
     "metadata": {},
     "output_type": "execute_result"
    },
    {
     "data": {
      "text/plain": [
       "'C:/Users/khanh/code/DATA_SCIENCE/data/clean_images/test/images/30635.jpg'"
      ]
     },
     "execution_count": 161,
     "metadata": {},
     "output_type": "execute_result"
    },
    {
     "data": {
      "text/plain": [
       "'C:/Users/khanh/code/DATA_SCIENCE/data/clean_images/test/labels/30635.txt'"
      ]
     },
     "execution_count": 161,
     "metadata": {},
     "output_type": "execute_result"
    },
    {
     "data": {
      "text/plain": [
       "'C:/Users/khanh/code/DATA_SCIENCE/data/clean_images/test/images/30637.jpg'"
      ]
     },
     "execution_count": 161,
     "metadata": {},
     "output_type": "execute_result"
    },
    {
     "data": {
      "text/plain": [
       "'C:/Users/khanh/code/DATA_SCIENCE/data/clean_images/test/labels/30637.txt'"
      ]
     },
     "execution_count": 161,
     "metadata": {},
     "output_type": "execute_result"
    },
    {
     "data": {
      "text/plain": [
       "'C:/Users/khanh/code/DATA_SCIENCE/data/clean_images/test/images/30639.jpg'"
      ]
     },
     "execution_count": 161,
     "metadata": {},
     "output_type": "execute_result"
    },
    {
     "data": {
      "text/plain": [
       "'C:/Users/khanh/code/DATA_SCIENCE/data/clean_images/test/labels/30639.txt'"
      ]
     },
     "execution_count": 161,
     "metadata": {},
     "output_type": "execute_result"
    },
    {
     "data": {
      "text/plain": [
       "'C:/Users/khanh/code/DATA_SCIENCE/data/clean_images/test/images/14509.jpg'"
      ]
     },
     "execution_count": 161,
     "metadata": {},
     "output_type": "execute_result"
    },
    {
     "data": {
      "text/plain": [
       "'C:/Users/khanh/code/DATA_SCIENCE/data/clean_images/test/labels/14509.txt'"
      ]
     },
     "execution_count": 161,
     "metadata": {},
     "output_type": "execute_result"
    },
    {
     "data": {
      "text/plain": [
       "'C:/Users/khanh/code/DATA_SCIENCE/data/clean_images/test/images/14511.jpg'"
      ]
     },
     "execution_count": 161,
     "metadata": {},
     "output_type": "execute_result"
    },
    {
     "data": {
      "text/plain": [
       "'C:/Users/khanh/code/DATA_SCIENCE/data/clean_images/test/labels/14511.txt'"
      ]
     },
     "execution_count": 161,
     "metadata": {},
     "output_type": "execute_result"
    },
    {
     "data": {
      "text/plain": [
       "'C:/Users/khanh/code/DATA_SCIENCE/data/clean_images/test/images/11739.jpg'"
      ]
     },
     "execution_count": 161,
     "metadata": {},
     "output_type": "execute_result"
    },
    {
     "data": {
      "text/plain": [
       "'C:/Users/khanh/code/DATA_SCIENCE/data/clean_images/test/labels/11739.txt'"
      ]
     },
     "execution_count": 161,
     "metadata": {},
     "output_type": "execute_result"
    },
    {
     "data": {
      "text/plain": [
       "'C:/Users/khanh/code/DATA_SCIENCE/data/clean_images/test/images/2637.jpg'"
      ]
     },
     "execution_count": 161,
     "metadata": {},
     "output_type": "execute_result"
    },
    {
     "data": {
      "text/plain": [
       "'C:/Users/khanh/code/DATA_SCIENCE/data/clean_images/test/labels/2637.txt'"
      ]
     },
     "execution_count": 161,
     "metadata": {},
     "output_type": "execute_result"
    },
    {
     "data": {
      "text/plain": [
       "'C:/Users/khanh/code/DATA_SCIENCE/data/clean_images/test/images/2641.jpg'"
      ]
     },
     "execution_count": 161,
     "metadata": {},
     "output_type": "execute_result"
    },
    {
     "data": {
      "text/plain": [
       "'C:/Users/khanh/code/DATA_SCIENCE/data/clean_images/test/labels/2641.txt'"
      ]
     },
     "execution_count": 161,
     "metadata": {},
     "output_type": "execute_result"
    },
    {
     "data": {
      "text/plain": [
       "'C:/Users/khanh/code/DATA_SCIENCE/data/clean_images/test/images/2642.jpg'"
      ]
     },
     "execution_count": 161,
     "metadata": {},
     "output_type": "execute_result"
    },
    {
     "data": {
      "text/plain": [
       "'C:/Users/khanh/code/DATA_SCIENCE/data/clean_images/test/labels/2642.txt'"
      ]
     },
     "execution_count": 161,
     "metadata": {},
     "output_type": "execute_result"
    },
    {
     "data": {
      "text/plain": [
       "'C:/Users/khanh/code/DATA_SCIENCE/data/clean_images/test/images/33326.jpg'"
      ]
     },
     "execution_count": 161,
     "metadata": {},
     "output_type": "execute_result"
    },
    {
     "data": {
      "text/plain": [
       "'C:/Users/khanh/code/DATA_SCIENCE/data/clean_images/test/labels/33326.txt'"
      ]
     },
     "execution_count": 161,
     "metadata": {},
     "output_type": "execute_result"
    },
    {
     "data": {
      "text/plain": [
       "'C:/Users/khanh/code/DATA_SCIENCE/data/clean_images/test/images/33327.jpg'"
      ]
     },
     "execution_count": 161,
     "metadata": {},
     "output_type": "execute_result"
    },
    {
     "data": {
      "text/plain": [
       "'C:/Users/khanh/code/DATA_SCIENCE/data/clean_images/test/labels/33327.txt'"
      ]
     },
     "execution_count": 161,
     "metadata": {},
     "output_type": "execute_result"
    },
    {
     "data": {
      "text/plain": [
       "'C:/Users/khanh/code/DATA_SCIENCE/data/clean_images/test/images/33328.jpg'"
      ]
     },
     "execution_count": 161,
     "metadata": {},
     "output_type": "execute_result"
    },
    {
     "data": {
      "text/plain": [
       "'C:/Users/khanh/code/DATA_SCIENCE/data/clean_images/test/labels/33328.txt'"
      ]
     },
     "execution_count": 161,
     "metadata": {},
     "output_type": "execute_result"
    },
    {
     "data": {
      "text/plain": [
       "'C:/Users/khanh/code/DATA_SCIENCE/data/clean_images/test/images/36037.jpg'"
      ]
     },
     "execution_count": 161,
     "metadata": {},
     "output_type": "execute_result"
    },
    {
     "data": {
      "text/plain": [
       "'C:/Users/khanh/code/DATA_SCIENCE/data/clean_images/test/labels/36037.txt'"
      ]
     },
     "execution_count": 161,
     "metadata": {},
     "output_type": "execute_result"
    },
    {
     "data": {
      "text/plain": [
       "'C:/Users/khanh/code/DATA_SCIENCE/data/clean_images/test/images/36038.jpg'"
      ]
     },
     "execution_count": 161,
     "metadata": {},
     "output_type": "execute_result"
    },
    {
     "data": {
      "text/plain": [
       "'C:/Users/khanh/code/DATA_SCIENCE/data/clean_images/test/labels/36038.txt'"
      ]
     },
     "execution_count": 161,
     "metadata": {},
     "output_type": "execute_result"
    },
    {
     "data": {
      "text/plain": [
       "'C:/Users/khanh/code/DATA_SCIENCE/data/clean_images/test/images/38123.jpg'"
      ]
     },
     "execution_count": 161,
     "metadata": {},
     "output_type": "execute_result"
    },
    {
     "data": {
      "text/plain": [
       "'C:/Users/khanh/code/DATA_SCIENCE/data/clean_images/test/labels/38123.txt'"
      ]
     },
     "execution_count": 161,
     "metadata": {},
     "output_type": "execute_result"
    },
    {
     "data": {
      "text/plain": [
       "'C:/Users/khanh/code/DATA_SCIENCE/data/clean_images/test/images/23489.jpg'"
      ]
     },
     "execution_count": 161,
     "metadata": {},
     "output_type": "execute_result"
    },
    {
     "data": {
      "text/plain": [
       "'C:/Users/khanh/code/DATA_SCIENCE/data/clean_images/test/labels/23489.txt'"
      ]
     },
     "execution_count": 161,
     "metadata": {},
     "output_type": "execute_result"
    },
    {
     "data": {
      "text/plain": [
       "'C:/Users/khanh/code/DATA_SCIENCE/data/clean_images/test/images/23490.jpg'"
      ]
     },
     "execution_count": 161,
     "metadata": {},
     "output_type": "execute_result"
    },
    {
     "data": {
      "text/plain": [
       "'C:/Users/khanh/code/DATA_SCIENCE/data/clean_images/test/labels/23490.txt'"
      ]
     },
     "execution_count": 161,
     "metadata": {},
     "output_type": "execute_result"
    },
    {
     "data": {
      "text/plain": [
       "'C:/Users/khanh/code/DATA_SCIENCE/data/clean_images/test/images/40001.jpg'"
      ]
     },
     "execution_count": 161,
     "metadata": {},
     "output_type": "execute_result"
    },
    {
     "data": {
      "text/plain": [
       "'C:/Users/khanh/code/DATA_SCIENCE/data/clean_images/test/labels/40001.txt'"
      ]
     },
     "execution_count": 161,
     "metadata": {},
     "output_type": "execute_result"
    },
    {
     "data": {
      "text/plain": [
       "'C:/Users/khanh/code/DATA_SCIENCE/data/clean_images/test/images/40002.jpg'"
      ]
     },
     "execution_count": 161,
     "metadata": {},
     "output_type": "execute_result"
    },
    {
     "data": {
      "text/plain": [
       "'C:/Users/khanh/code/DATA_SCIENCE/data/clean_images/test/labels/40002.txt'"
      ]
     },
     "execution_count": 161,
     "metadata": {},
     "output_type": "execute_result"
    },
    {
     "data": {
      "text/plain": [
       "'C:/Users/khanh/code/DATA_SCIENCE/data/clean_images/test/images/40005.jpg'"
      ]
     },
     "execution_count": 161,
     "metadata": {},
     "output_type": "execute_result"
    },
    {
     "data": {
      "text/plain": [
       "'C:/Users/khanh/code/DATA_SCIENCE/data/clean_images/test/labels/40005.txt'"
      ]
     },
     "execution_count": 161,
     "metadata": {},
     "output_type": "execute_result"
    },
    {
     "data": {
      "text/plain": [
       "'C:/Users/khanh/code/DATA_SCIENCE/data/clean_images/test/images/33184.jpg'"
      ]
     },
     "execution_count": 161,
     "metadata": {},
     "output_type": "execute_result"
    },
    {
     "data": {
      "text/plain": [
       "'C:/Users/khanh/code/DATA_SCIENCE/data/clean_images/test/labels/33184.txt'"
      ]
     },
     "execution_count": 161,
     "metadata": {},
     "output_type": "execute_result"
    },
    {
     "data": {
      "text/plain": [
       "'C:/Users/khanh/code/DATA_SCIENCE/data/clean_images/test/images/4600.jpg'"
      ]
     },
     "execution_count": 161,
     "metadata": {},
     "output_type": "execute_result"
    },
    {
     "data": {
      "text/plain": [
       "'C:/Users/khanh/code/DATA_SCIENCE/data/clean_images/test/labels/4600.txt'"
      ]
     },
     "execution_count": 161,
     "metadata": {},
     "output_type": "execute_result"
    },
    {
     "data": {
      "text/plain": [
       "'C:/Users/khanh/code/DATA_SCIENCE/data/clean_images/test/images/52901.jpg'"
      ]
     },
     "execution_count": 161,
     "metadata": {},
     "output_type": "execute_result"
    },
    {
     "data": {
      "text/plain": [
       "'C:/Users/khanh/code/DATA_SCIENCE/data/clean_images/test/labels/52901.txt'"
      ]
     },
     "execution_count": 161,
     "metadata": {},
     "output_type": "execute_result"
    },
    {
     "data": {
      "text/plain": [
       "'C:/Users/khanh/code/DATA_SCIENCE/data/clean_images/test/images/27079.jpg'"
      ]
     },
     "execution_count": 161,
     "metadata": {},
     "output_type": "execute_result"
    },
    {
     "data": {
      "text/plain": [
       "'C:/Users/khanh/code/DATA_SCIENCE/data/clean_images/test/labels/27079.txt'"
      ]
     },
     "execution_count": 161,
     "metadata": {},
     "output_type": "execute_result"
    },
    {
     "data": {
      "text/plain": [
       "'C:/Users/khanh/code/DATA_SCIENCE/data/clean_images/test/images/27084.jpg'"
      ]
     },
     "execution_count": 161,
     "metadata": {},
     "output_type": "execute_result"
    },
    {
     "data": {
      "text/plain": [
       "'C:/Users/khanh/code/DATA_SCIENCE/data/clean_images/test/labels/27084.txt'"
      ]
     },
     "execution_count": 161,
     "metadata": {},
     "output_type": "execute_result"
    },
    {
     "data": {
      "text/plain": [
       "'C:/Users/khanh/code/DATA_SCIENCE/data/clean_images/test/images/6864.jpg'"
      ]
     },
     "execution_count": 161,
     "metadata": {},
     "output_type": "execute_result"
    },
    {
     "data": {
      "text/plain": [
       "'C:/Users/khanh/code/DATA_SCIENCE/data/clean_images/test/labels/6864.txt'"
      ]
     },
     "execution_count": 161,
     "metadata": {},
     "output_type": "execute_result"
    },
    {
     "data": {
      "text/plain": [
       "'C:/Users/khanh/code/DATA_SCIENCE/data/clean_images/test/images/6865.jpg'"
      ]
     },
     "execution_count": 161,
     "metadata": {},
     "output_type": "execute_result"
    },
    {
     "data": {
      "text/plain": [
       "'C:/Users/khanh/code/DATA_SCIENCE/data/clean_images/test/labels/6865.txt'"
      ]
     },
     "execution_count": 161,
     "metadata": {},
     "output_type": "execute_result"
    },
    {
     "data": {
      "text/plain": [
       "'C:/Users/khanh/code/DATA_SCIENCE/data/clean_images/test/images/6866.jpg'"
      ]
     },
     "execution_count": 161,
     "metadata": {},
     "output_type": "execute_result"
    },
    {
     "data": {
      "text/plain": [
       "'C:/Users/khanh/code/DATA_SCIENCE/data/clean_images/test/labels/6866.txt'"
      ]
     },
     "execution_count": 161,
     "metadata": {},
     "output_type": "execute_result"
    },
    {
     "data": {
      "text/plain": [
       "'C:/Users/khanh/code/DATA_SCIENCE/data/clean_images/test/images/6867.jpg'"
      ]
     },
     "execution_count": 161,
     "metadata": {},
     "output_type": "execute_result"
    },
    {
     "data": {
      "text/plain": [
       "'C:/Users/khanh/code/DATA_SCIENCE/data/clean_images/test/labels/6867.txt'"
      ]
     },
     "execution_count": 161,
     "metadata": {},
     "output_type": "execute_result"
    },
    {
     "data": {
      "text/plain": [
       "'C:/Users/khanh/code/DATA_SCIENCE/data/clean_images/test/images/6868.jpg'"
      ]
     },
     "execution_count": 161,
     "metadata": {},
     "output_type": "execute_result"
    },
    {
     "data": {
      "text/plain": [
       "'C:/Users/khanh/code/DATA_SCIENCE/data/clean_images/test/labels/6868.txt'"
      ]
     },
     "execution_count": 161,
     "metadata": {},
     "output_type": "execute_result"
    },
    {
     "data": {
      "text/plain": [
       "'C:/Users/khanh/code/DATA_SCIENCE/data/clean_images/test/images/6869.jpg'"
      ]
     },
     "execution_count": 161,
     "metadata": {},
     "output_type": "execute_result"
    },
    {
     "data": {
      "text/plain": [
       "'C:/Users/khanh/code/DATA_SCIENCE/data/clean_images/test/labels/6869.txt'"
      ]
     },
     "execution_count": 161,
     "metadata": {},
     "output_type": "execute_result"
    },
    {
     "data": {
      "text/plain": [
       "'C:/Users/khanh/code/DATA_SCIENCE/data/clean_images/test/images/19874.jpg'"
      ]
     },
     "execution_count": 161,
     "metadata": {},
     "output_type": "execute_result"
    },
    {
     "data": {
      "text/plain": [
       "'C:/Users/khanh/code/DATA_SCIENCE/data/clean_images/test/labels/19874.txt'"
      ]
     },
     "execution_count": 161,
     "metadata": {},
     "output_type": "execute_result"
    },
    {
     "data": {
      "text/plain": [
       "'C:/Users/khanh/code/DATA_SCIENCE/data/clean_images/test/images/23049.jpg'"
      ]
     },
     "execution_count": 161,
     "metadata": {},
     "output_type": "execute_result"
    },
    {
     "data": {
      "text/plain": [
       "'C:/Users/khanh/code/DATA_SCIENCE/data/clean_images/test/labels/23049.txt'"
      ]
     },
     "execution_count": 161,
     "metadata": {},
     "output_type": "execute_result"
    },
    {
     "data": {
      "text/plain": [
       "'C:/Users/khanh/code/DATA_SCIENCE/data/clean_images/test/images/1238.jpg'"
      ]
     },
     "execution_count": 161,
     "metadata": {},
     "output_type": "execute_result"
    },
    {
     "data": {
      "text/plain": [
       "'C:/Users/khanh/code/DATA_SCIENCE/data/clean_images/test/labels/1238.txt'"
      ]
     },
     "execution_count": 161,
     "metadata": {},
     "output_type": "execute_result"
    },
    {
     "data": {
      "text/plain": [
       "'C:/Users/khanh/code/DATA_SCIENCE/data/clean_images/test/images/1239.jpg'"
      ]
     },
     "execution_count": 161,
     "metadata": {},
     "output_type": "execute_result"
    },
    {
     "data": {
      "text/plain": [
       "'C:/Users/khanh/code/DATA_SCIENCE/data/clean_images/test/labels/1239.txt'"
      ]
     },
     "execution_count": 161,
     "metadata": {},
     "output_type": "execute_result"
    },
    {
     "data": {
      "text/plain": [
       "'C:/Users/khanh/code/DATA_SCIENCE/data/clean_images/test/images/1240.jpg'"
      ]
     },
     "execution_count": 161,
     "metadata": {},
     "output_type": "execute_result"
    },
    {
     "data": {
      "text/plain": [
       "'C:/Users/khanh/code/DATA_SCIENCE/data/clean_images/test/labels/1240.txt'"
      ]
     },
     "execution_count": 161,
     "metadata": {},
     "output_type": "execute_result"
    },
    {
     "data": {
      "text/plain": [
       "'C:/Users/khanh/code/DATA_SCIENCE/data/clean_images/test/images/10043.jpg'"
      ]
     },
     "execution_count": 161,
     "metadata": {},
     "output_type": "execute_result"
    },
    {
     "data": {
      "text/plain": [
       "'C:/Users/khanh/code/DATA_SCIENCE/data/clean_images/test/labels/10043.txt'"
      ]
     },
     "execution_count": 161,
     "metadata": {},
     "output_type": "execute_result"
    },
    {
     "data": {
      "text/plain": [
       "'C:/Users/khanh/code/DATA_SCIENCE/data/clean_images/test/images/10044.jpg'"
      ]
     },
     "execution_count": 161,
     "metadata": {},
     "output_type": "execute_result"
    },
    {
     "data": {
      "text/plain": [
       "'C:/Users/khanh/code/DATA_SCIENCE/data/clean_images/test/labels/10044.txt'"
      ]
     },
     "execution_count": 161,
     "metadata": {},
     "output_type": "execute_result"
    },
    {
     "data": {
      "text/plain": [
       "'C:/Users/khanh/code/DATA_SCIENCE/data/clean_images/test/images/10045.jpg'"
      ]
     },
     "execution_count": 161,
     "metadata": {},
     "output_type": "execute_result"
    },
    {
     "data": {
      "text/plain": [
       "'C:/Users/khanh/code/DATA_SCIENCE/data/clean_images/test/labels/10045.txt'"
      ]
     },
     "execution_count": 161,
     "metadata": {},
     "output_type": "execute_result"
    },
    {
     "data": {
      "text/plain": [
       "'C:/Users/khanh/code/DATA_SCIENCE/data/clean_images/test/images/10046.jpg'"
      ]
     },
     "execution_count": 161,
     "metadata": {},
     "output_type": "execute_result"
    },
    {
     "data": {
      "text/plain": [
       "'C:/Users/khanh/code/DATA_SCIENCE/data/clean_images/test/labels/10046.txt'"
      ]
     },
     "execution_count": 161,
     "metadata": {},
     "output_type": "execute_result"
    },
    {
     "data": {
      "text/plain": [
       "'C:/Users/khanh/code/DATA_SCIENCE/data/clean_images/test/images/10047.jpg'"
      ]
     },
     "execution_count": 161,
     "metadata": {},
     "output_type": "execute_result"
    },
    {
     "data": {
      "text/plain": [
       "'C:/Users/khanh/code/DATA_SCIENCE/data/clean_images/test/labels/10047.txt'"
      ]
     },
     "execution_count": 161,
     "metadata": {},
     "output_type": "execute_result"
    },
    {
     "data": {
      "text/plain": [
       "'C:/Users/khanh/code/DATA_SCIENCE/data/clean_images/test/images/9683.jpg'"
      ]
     },
     "execution_count": 161,
     "metadata": {},
     "output_type": "execute_result"
    },
    {
     "data": {
      "text/plain": [
       "'C:/Users/khanh/code/DATA_SCIENCE/data/clean_images/test/labels/9683.txt'"
      ]
     },
     "execution_count": 161,
     "metadata": {},
     "output_type": "execute_result"
    },
    {
     "data": {
      "text/plain": [
       "'C:/Users/khanh/code/DATA_SCIENCE/data/clean_images/test/images/9687.jpg'"
      ]
     },
     "execution_count": 161,
     "metadata": {},
     "output_type": "execute_result"
    },
    {
     "data": {
      "text/plain": [
       "'C:/Users/khanh/code/DATA_SCIENCE/data/clean_images/test/labels/9687.txt'"
      ]
     },
     "execution_count": 161,
     "metadata": {},
     "output_type": "execute_result"
    },
    {
     "data": {
      "text/plain": [
       "'C:/Users/khanh/code/DATA_SCIENCE/data/clean_images/test/images/9688.jpg'"
      ]
     },
     "execution_count": 161,
     "metadata": {},
     "output_type": "execute_result"
    },
    {
     "data": {
      "text/plain": [
       "'C:/Users/khanh/code/DATA_SCIENCE/data/clean_images/test/labels/9688.txt'"
      ]
     },
     "execution_count": 161,
     "metadata": {},
     "output_type": "execute_result"
    },
    {
     "data": {
      "text/plain": [
       "'C:/Users/khanh/code/DATA_SCIENCE/data/clean_images/test/images/44948.jpg'"
      ]
     },
     "execution_count": 161,
     "metadata": {},
     "output_type": "execute_result"
    },
    {
     "data": {
      "text/plain": [
       "'C:/Users/khanh/code/DATA_SCIENCE/data/clean_images/test/labels/44948.txt'"
      ]
     },
     "execution_count": 161,
     "metadata": {},
     "output_type": "execute_result"
    },
    {
     "data": {
      "text/plain": [
       "'C:/Users/khanh/code/DATA_SCIENCE/data/clean_images/test/images/44950.jpg'"
      ]
     },
     "execution_count": 161,
     "metadata": {},
     "output_type": "execute_result"
    },
    {
     "data": {
      "text/plain": [
       "'C:/Users/khanh/code/DATA_SCIENCE/data/clean_images/test/labels/44950.txt'"
      ]
     },
     "execution_count": 161,
     "metadata": {},
     "output_type": "execute_result"
    },
    {
     "data": {
      "text/plain": [
       "'C:/Users/khanh/code/DATA_SCIENCE/data/clean_images/test/images/43193.jpg'"
      ]
     },
     "execution_count": 161,
     "metadata": {},
     "output_type": "execute_result"
    },
    {
     "data": {
      "text/plain": [
       "'C:/Users/khanh/code/DATA_SCIENCE/data/clean_images/test/labels/43193.txt'"
      ]
     },
     "execution_count": 161,
     "metadata": {},
     "output_type": "execute_result"
    },
    {
     "data": {
      "text/plain": [
       "'C:/Users/khanh/code/DATA_SCIENCE/data/clean_images/test/images/43194.jpg'"
      ]
     },
     "execution_count": 161,
     "metadata": {},
     "output_type": "execute_result"
    },
    {
     "data": {
      "text/plain": [
       "'C:/Users/khanh/code/DATA_SCIENCE/data/clean_images/test/labels/43194.txt'"
      ]
     },
     "execution_count": 161,
     "metadata": {},
     "output_type": "execute_result"
    },
    {
     "data": {
      "text/plain": [
       "'C:/Users/khanh/code/DATA_SCIENCE/data/clean_images/test/images/33245.jpg'"
      ]
     },
     "execution_count": 161,
     "metadata": {},
     "output_type": "execute_result"
    },
    {
     "data": {
      "text/plain": [
       "'C:/Users/khanh/code/DATA_SCIENCE/data/clean_images/test/labels/33245.txt'"
      ]
     },
     "execution_count": 161,
     "metadata": {},
     "output_type": "execute_result"
    },
    {
     "data": {
      "text/plain": [
       "'C:/Users/khanh/code/DATA_SCIENCE/data/clean_images/test/images/33246.jpg'"
      ]
     },
     "execution_count": 161,
     "metadata": {},
     "output_type": "execute_result"
    },
    {
     "data": {
      "text/plain": [
       "'C:/Users/khanh/code/DATA_SCIENCE/data/clean_images/test/labels/33246.txt'"
      ]
     },
     "execution_count": 161,
     "metadata": {},
     "output_type": "execute_result"
    },
    {
     "data": {
      "text/plain": [
       "'C:/Users/khanh/code/DATA_SCIENCE/data/clean_images/test/images/33247.jpg'"
      ]
     },
     "execution_count": 161,
     "metadata": {},
     "output_type": "execute_result"
    },
    {
     "data": {
      "text/plain": [
       "'C:/Users/khanh/code/DATA_SCIENCE/data/clean_images/test/labels/33247.txt'"
      ]
     },
     "execution_count": 161,
     "metadata": {},
     "output_type": "execute_result"
    },
    {
     "data": {
      "text/plain": [
       "'C:/Users/khanh/code/DATA_SCIENCE/data/clean_images/test/images/33248.jpg'"
      ]
     },
     "execution_count": 161,
     "metadata": {},
     "output_type": "execute_result"
    },
    {
     "data": {
      "text/plain": [
       "'C:/Users/khanh/code/DATA_SCIENCE/data/clean_images/test/labels/33248.txt'"
      ]
     },
     "execution_count": 161,
     "metadata": {},
     "output_type": "execute_result"
    },
    {
     "data": {
      "text/plain": [
       "'C:/Users/khanh/code/DATA_SCIENCE/data/clean_images/test/images/8654.jpg'"
      ]
     },
     "execution_count": 161,
     "metadata": {},
     "output_type": "execute_result"
    },
    {
     "data": {
      "text/plain": [
       "'C:/Users/khanh/code/DATA_SCIENCE/data/clean_images/test/labels/8654.txt'"
      ]
     },
     "execution_count": 161,
     "metadata": {},
     "output_type": "execute_result"
    },
    {
     "data": {
      "text/plain": [
       "'C:/Users/khanh/code/DATA_SCIENCE/data/clean_images/test/images/15498.jpg'"
      ]
     },
     "execution_count": 161,
     "metadata": {},
     "output_type": "execute_result"
    },
    {
     "data": {
      "text/plain": [
       "'C:/Users/khanh/code/DATA_SCIENCE/data/clean_images/test/labels/15498.txt'"
      ]
     },
     "execution_count": 161,
     "metadata": {},
     "output_type": "execute_result"
    },
    {
     "data": {
      "text/plain": [
       "'C:/Users/khanh/code/DATA_SCIENCE/data/clean_images/test/images/15499.jpg'"
      ]
     },
     "execution_count": 161,
     "metadata": {},
     "output_type": "execute_result"
    },
    {
     "data": {
      "text/plain": [
       "'C:/Users/khanh/code/DATA_SCIENCE/data/clean_images/test/labels/15499.txt'"
      ]
     },
     "execution_count": 161,
     "metadata": {},
     "output_type": "execute_result"
    },
    {
     "data": {
      "text/plain": [
       "'C:/Users/khanh/code/DATA_SCIENCE/data/clean_images/test/images/15501.jpg'"
      ]
     },
     "execution_count": 161,
     "metadata": {},
     "output_type": "execute_result"
    },
    {
     "data": {
      "text/plain": [
       "'C:/Users/khanh/code/DATA_SCIENCE/data/clean_images/test/labels/15501.txt'"
      ]
     },
     "execution_count": 161,
     "metadata": {},
     "output_type": "execute_result"
    },
    {
     "data": {
      "text/plain": [
       "'C:/Users/khanh/code/DATA_SCIENCE/data/clean_images/test/images/15502.jpg'"
      ]
     },
     "execution_count": 161,
     "metadata": {},
     "output_type": "execute_result"
    },
    {
     "data": {
      "text/plain": [
       "'C:/Users/khanh/code/DATA_SCIENCE/data/clean_images/test/labels/15502.txt'"
      ]
     },
     "execution_count": 161,
     "metadata": {},
     "output_type": "execute_result"
    },
    {
     "data": {
      "text/plain": [
       "'C:/Users/khanh/code/DATA_SCIENCE/data/clean_images/test/images/25895.jpg'"
      ]
     },
     "execution_count": 161,
     "metadata": {},
     "output_type": "execute_result"
    },
    {
     "data": {
      "text/plain": [
       "'C:/Users/khanh/code/DATA_SCIENCE/data/clean_images/test/labels/25895.txt'"
      ]
     },
     "execution_count": 161,
     "metadata": {},
     "output_type": "execute_result"
    },
    {
     "data": {
      "text/plain": [
       "'C:/Users/khanh/code/DATA_SCIENCE/data/clean_images/test/images/25896.jpg'"
      ]
     },
     "execution_count": 161,
     "metadata": {},
     "output_type": "execute_result"
    },
    {
     "data": {
      "text/plain": [
       "'C:/Users/khanh/code/DATA_SCIENCE/data/clean_images/test/labels/25896.txt'"
      ]
     },
     "execution_count": 161,
     "metadata": {},
     "output_type": "execute_result"
    },
    {
     "data": {
      "text/plain": [
       "'C:/Users/khanh/code/DATA_SCIENCE/data/clean_images/test/images/11596.jpg'"
      ]
     },
     "execution_count": 161,
     "metadata": {},
     "output_type": "execute_result"
    },
    {
     "data": {
      "text/plain": [
       "'C:/Users/khanh/code/DATA_SCIENCE/data/clean_images/test/labels/11596.txt'"
      ]
     },
     "execution_count": 161,
     "metadata": {},
     "output_type": "execute_result"
    },
    {
     "data": {
      "text/plain": [
       "'C:/Users/khanh/code/DATA_SCIENCE/data/clean_images/test/images/39992.jpg'"
      ]
     },
     "execution_count": 161,
     "metadata": {},
     "output_type": "execute_result"
    },
    {
     "data": {
      "text/plain": [
       "'C:/Users/khanh/code/DATA_SCIENCE/data/clean_images/test/labels/39992.txt'"
      ]
     },
     "execution_count": 161,
     "metadata": {},
     "output_type": "execute_result"
    },
    {
     "data": {
      "text/plain": [
       "'C:/Users/khanh/code/DATA_SCIENCE/data/clean_images/test/images/39994.jpg'"
      ]
     },
     "execution_count": 161,
     "metadata": {},
     "output_type": "execute_result"
    },
    {
     "data": {
      "text/plain": [
       "'C:/Users/khanh/code/DATA_SCIENCE/data/clean_images/test/labels/39994.txt'"
      ]
     },
     "execution_count": 161,
     "metadata": {},
     "output_type": "execute_result"
    },
    {
     "data": {
      "text/plain": [
       "'C:/Users/khanh/code/DATA_SCIENCE/data/clean_images/test/images/45470.jpg'"
      ]
     },
     "execution_count": 161,
     "metadata": {},
     "output_type": "execute_result"
    },
    {
     "data": {
      "text/plain": [
       "'C:/Users/khanh/code/DATA_SCIENCE/data/clean_images/test/labels/45470.txt'"
      ]
     },
     "execution_count": 161,
     "metadata": {},
     "output_type": "execute_result"
    },
    {
     "data": {
      "text/plain": [
       "'C:/Users/khanh/code/DATA_SCIENCE/data/clean_images/test/images/45471.jpg'"
      ]
     },
     "execution_count": 161,
     "metadata": {},
     "output_type": "execute_result"
    },
    {
     "data": {
      "text/plain": [
       "'C:/Users/khanh/code/DATA_SCIENCE/data/clean_images/test/labels/45471.txt'"
      ]
     },
     "execution_count": 161,
     "metadata": {},
     "output_type": "execute_result"
    },
    {
     "data": {
      "text/plain": [
       "'C:/Users/khanh/code/DATA_SCIENCE/data/clean_images/test/images/45474.jpg'"
      ]
     },
     "execution_count": 161,
     "metadata": {},
     "output_type": "execute_result"
    },
    {
     "data": {
      "text/plain": [
       "'C:/Users/khanh/code/DATA_SCIENCE/data/clean_images/test/labels/45474.txt'"
      ]
     },
     "execution_count": 161,
     "metadata": {},
     "output_type": "execute_result"
    },
    {
     "data": {
      "text/plain": [
       "'C:/Users/khanh/code/DATA_SCIENCE/data/clean_images/test/images/17061.jpg'"
      ]
     },
     "execution_count": 161,
     "metadata": {},
     "output_type": "execute_result"
    },
    {
     "data": {
      "text/plain": [
       "'C:/Users/khanh/code/DATA_SCIENCE/data/clean_images/test/labels/17061.txt'"
      ]
     },
     "execution_count": 161,
     "metadata": {},
     "output_type": "execute_result"
    },
    {
     "data": {
      "text/plain": [
       "'C:/Users/khanh/code/DATA_SCIENCE/data/clean_images/test/images/17062.jpg'"
      ]
     },
     "execution_count": 161,
     "metadata": {},
     "output_type": "execute_result"
    },
    {
     "data": {
      "text/plain": [
       "'C:/Users/khanh/code/DATA_SCIENCE/data/clean_images/test/labels/17062.txt'"
      ]
     },
     "execution_count": 161,
     "metadata": {},
     "output_type": "execute_result"
    },
    {
     "data": {
      "text/plain": [
       "'C:/Users/khanh/code/DATA_SCIENCE/data/clean_images/test/images/17064.jpg'"
      ]
     },
     "execution_count": 161,
     "metadata": {},
     "output_type": "execute_result"
    },
    {
     "data": {
      "text/plain": [
       "'C:/Users/khanh/code/DATA_SCIENCE/data/clean_images/test/labels/17064.txt'"
      ]
     },
     "execution_count": 161,
     "metadata": {},
     "output_type": "execute_result"
    },
    {
     "data": {
      "text/plain": [
       "'C:/Users/khanh/code/DATA_SCIENCE/data/clean_images/test/images/33072.jpg'"
      ]
     },
     "execution_count": 161,
     "metadata": {},
     "output_type": "execute_result"
    },
    {
     "data": {
      "text/plain": [
       "'C:/Users/khanh/code/DATA_SCIENCE/data/clean_images/test/labels/33072.txt'"
      ]
     },
     "execution_count": 161,
     "metadata": {},
     "output_type": "execute_result"
    },
    {
     "data": {
      "text/plain": [
       "'C:/Users/khanh/code/DATA_SCIENCE/data/clean_images/test/images/33073.jpg'"
      ]
     },
     "execution_count": 161,
     "metadata": {},
     "output_type": "execute_result"
    },
    {
     "data": {
      "text/plain": [
       "'C:/Users/khanh/code/DATA_SCIENCE/data/clean_images/test/labels/33073.txt'"
      ]
     },
     "execution_count": 161,
     "metadata": {},
     "output_type": "execute_result"
    },
    {
     "data": {
      "text/plain": [
       "'C:/Users/khanh/code/DATA_SCIENCE/data/clean_images/test/images/33074.jpg'"
      ]
     },
     "execution_count": 161,
     "metadata": {},
     "output_type": "execute_result"
    },
    {
     "data": {
      "text/plain": [
       "'C:/Users/khanh/code/DATA_SCIENCE/data/clean_images/test/labels/33074.txt'"
      ]
     },
     "execution_count": 161,
     "metadata": {},
     "output_type": "execute_result"
    },
    {
     "data": {
      "text/plain": [
       "'C:/Users/khanh/code/DATA_SCIENCE/data/clean_images/test/images/33076.jpg'"
      ]
     },
     "execution_count": 161,
     "metadata": {},
     "output_type": "execute_result"
    },
    {
     "data": {
      "text/plain": [
       "'C:/Users/khanh/code/DATA_SCIENCE/data/clean_images/test/labels/33076.txt'"
      ]
     },
     "execution_count": 161,
     "metadata": {},
     "output_type": "execute_result"
    },
    {
     "data": {
      "text/plain": [
       "'C:/Users/khanh/code/DATA_SCIENCE/data/clean_images/test/images/8224.jpg'"
      ]
     },
     "execution_count": 161,
     "metadata": {},
     "output_type": "execute_result"
    },
    {
     "data": {
      "text/plain": [
       "'C:/Users/khanh/code/DATA_SCIENCE/data/clean_images/test/labels/8224.txt'"
      ]
     },
     "execution_count": 161,
     "metadata": {},
     "output_type": "execute_result"
    },
    {
     "data": {
      "text/plain": [
       "'C:/Users/khanh/code/DATA_SCIENCE/data/clean_images/test/images/8227.jpg'"
      ]
     },
     "execution_count": 161,
     "metadata": {},
     "output_type": "execute_result"
    },
    {
     "data": {
      "text/plain": [
       "'C:/Users/khanh/code/DATA_SCIENCE/data/clean_images/test/labels/8227.txt'"
      ]
     },
     "execution_count": 161,
     "metadata": {},
     "output_type": "execute_result"
    },
    {
     "data": {
      "text/plain": [
       "'C:/Users/khanh/code/DATA_SCIENCE/data/clean_images/test/images/17639.jpg'"
      ]
     },
     "execution_count": 161,
     "metadata": {},
     "output_type": "execute_result"
    },
    {
     "data": {
      "text/plain": [
       "'C:/Users/khanh/code/DATA_SCIENCE/data/clean_images/test/labels/17639.txt'"
      ]
     },
     "execution_count": 161,
     "metadata": {},
     "output_type": "execute_result"
    },
    {
     "data": {
      "text/plain": [
       "'C:/Users/khanh/code/DATA_SCIENCE/data/clean_images/test/images/17640.jpg'"
      ]
     },
     "execution_count": 161,
     "metadata": {},
     "output_type": "execute_result"
    },
    {
     "data": {
      "text/plain": [
       "'C:/Users/khanh/code/DATA_SCIENCE/data/clean_images/test/labels/17640.txt'"
      ]
     },
     "execution_count": 161,
     "metadata": {},
     "output_type": "execute_result"
    },
    {
     "data": {
      "text/plain": [
       "'C:/Users/khanh/code/DATA_SCIENCE/data/clean_images/test/images/17642.jpg'"
      ]
     },
     "execution_count": 161,
     "metadata": {},
     "output_type": "execute_result"
    },
    {
     "data": {
      "text/plain": [
       "'C:/Users/khanh/code/DATA_SCIENCE/data/clean_images/test/labels/17642.txt'"
      ]
     },
     "execution_count": 161,
     "metadata": {},
     "output_type": "execute_result"
    },
    {
     "data": {
      "text/plain": [
       "'C:/Users/khanh/code/DATA_SCIENCE/data/clean_images/test/images/17644.jpg'"
      ]
     },
     "execution_count": 161,
     "metadata": {},
     "output_type": "execute_result"
    },
    {
     "data": {
      "text/plain": [
       "'C:/Users/khanh/code/DATA_SCIENCE/data/clean_images/test/labels/17644.txt'"
      ]
     },
     "execution_count": 161,
     "metadata": {},
     "output_type": "execute_result"
    },
    {
     "data": {
      "text/plain": [
       "'C:/Users/khanh/code/DATA_SCIENCE/data/clean_images/test/images/37267.jpg'"
      ]
     },
     "execution_count": 161,
     "metadata": {},
     "output_type": "execute_result"
    },
    {
     "data": {
      "text/plain": [
       "'C:/Users/khanh/code/DATA_SCIENCE/data/clean_images/test/labels/37267.txt'"
      ]
     },
     "execution_count": 161,
     "metadata": {},
     "output_type": "execute_result"
    },
    {
     "data": {
      "text/plain": [
       "'C:/Users/khanh/code/DATA_SCIENCE/data/clean_images/test/images/17832.jpg'"
      ]
     },
     "execution_count": 161,
     "metadata": {},
     "output_type": "execute_result"
    },
    {
     "data": {
      "text/plain": [
       "'C:/Users/khanh/code/DATA_SCIENCE/data/clean_images/test/labels/17832.txt'"
      ]
     },
     "execution_count": 161,
     "metadata": {},
     "output_type": "execute_result"
    },
    {
     "data": {
      "text/plain": [
       "'C:/Users/khanh/code/DATA_SCIENCE/data/clean_images/test/images/26883.jpg'"
      ]
     },
     "execution_count": 161,
     "metadata": {},
     "output_type": "execute_result"
    },
    {
     "data": {
      "text/plain": [
       "'C:/Users/khanh/code/DATA_SCIENCE/data/clean_images/test/labels/26883.txt'"
      ]
     },
     "execution_count": 161,
     "metadata": {},
     "output_type": "execute_result"
    },
    {
     "data": {
      "text/plain": [
       "'C:/Users/khanh/code/DATA_SCIENCE/data/clean_images/test/images/26884.jpg'"
      ]
     },
     "execution_count": 161,
     "metadata": {},
     "output_type": "execute_result"
    },
    {
     "data": {
      "text/plain": [
       "'C:/Users/khanh/code/DATA_SCIENCE/data/clean_images/test/labels/26884.txt'"
      ]
     },
     "execution_count": 161,
     "metadata": {},
     "output_type": "execute_result"
    },
    {
     "data": {
      "text/plain": [
       "'C:/Users/khanh/code/DATA_SCIENCE/data/clean_images/test/images/26885.jpg'"
      ]
     },
     "execution_count": 161,
     "metadata": {},
     "output_type": "execute_result"
    },
    {
     "data": {
      "text/plain": [
       "'C:/Users/khanh/code/DATA_SCIENCE/data/clean_images/test/labels/26885.txt'"
      ]
     },
     "execution_count": 161,
     "metadata": {},
     "output_type": "execute_result"
    },
    {
     "data": {
      "text/plain": [
       "'C:/Users/khanh/code/DATA_SCIENCE/data/clean_images/test/images/26886.jpg'"
      ]
     },
     "execution_count": 161,
     "metadata": {},
     "output_type": "execute_result"
    },
    {
     "data": {
      "text/plain": [
       "'C:/Users/khanh/code/DATA_SCIENCE/data/clean_images/test/labels/26886.txt'"
      ]
     },
     "execution_count": 161,
     "metadata": {},
     "output_type": "execute_result"
    },
    {
     "data": {
      "text/plain": [
       "'C:/Users/khanh/code/DATA_SCIENCE/data/clean_images/test/images/26887.jpg'"
      ]
     },
     "execution_count": 161,
     "metadata": {},
     "output_type": "execute_result"
    },
    {
     "data": {
      "text/plain": [
       "'C:/Users/khanh/code/DATA_SCIENCE/data/clean_images/test/labels/26887.txt'"
      ]
     },
     "execution_count": 161,
     "metadata": {},
     "output_type": "execute_result"
    },
    {
     "data": {
      "text/plain": [
       "'C:/Users/khanh/code/DATA_SCIENCE/data/clean_images/test/images/27831.jpg'"
      ]
     },
     "execution_count": 161,
     "metadata": {},
     "output_type": "execute_result"
    },
    {
     "data": {
      "text/plain": [
       "'C:/Users/khanh/code/DATA_SCIENCE/data/clean_images/test/labels/27831.txt'"
      ]
     },
     "execution_count": 161,
     "metadata": {},
     "output_type": "execute_result"
    },
    {
     "data": {
      "text/plain": [
       "'C:/Users/khanh/code/DATA_SCIENCE/data/clean_images/test/images/27832.jpg'"
      ]
     },
     "execution_count": 161,
     "metadata": {},
     "output_type": "execute_result"
    },
    {
     "data": {
      "text/plain": [
       "'C:/Users/khanh/code/DATA_SCIENCE/data/clean_images/test/labels/27832.txt'"
      ]
     },
     "execution_count": 161,
     "metadata": {},
     "output_type": "execute_result"
    },
    {
     "data": {
      "text/plain": [
       "'C:/Users/khanh/code/DATA_SCIENCE/data/clean_images/test/images/27833.jpg'"
      ]
     },
     "execution_count": 161,
     "metadata": {},
     "output_type": "execute_result"
    },
    {
     "data": {
      "text/plain": [
       "'C:/Users/khanh/code/DATA_SCIENCE/data/clean_images/test/labels/27833.txt'"
      ]
     },
     "execution_count": 161,
     "metadata": {},
     "output_type": "execute_result"
    },
    {
     "data": {
      "text/plain": [
       "'C:/Users/khanh/code/DATA_SCIENCE/data/clean_images/test/images/48898.jpg'"
      ]
     },
     "execution_count": 161,
     "metadata": {},
     "output_type": "execute_result"
    },
    {
     "data": {
      "text/plain": [
       "'C:/Users/khanh/code/DATA_SCIENCE/data/clean_images/test/labels/48898.txt'"
      ]
     },
     "execution_count": 161,
     "metadata": {},
     "output_type": "execute_result"
    },
    {
     "data": {
      "text/plain": [
       "'C:/Users/khanh/code/DATA_SCIENCE/data/clean_images/test/images/48900.jpg'"
      ]
     },
     "execution_count": 161,
     "metadata": {},
     "output_type": "execute_result"
    },
    {
     "data": {
      "text/plain": [
       "'C:/Users/khanh/code/DATA_SCIENCE/data/clean_images/test/labels/48900.txt'"
      ]
     },
     "execution_count": 161,
     "metadata": {},
     "output_type": "execute_result"
    },
    {
     "data": {
      "text/plain": [
       "'C:/Users/khanh/code/DATA_SCIENCE/data/clean_images/test/images/11151.jpg'"
      ]
     },
     "execution_count": 161,
     "metadata": {},
     "output_type": "execute_result"
    },
    {
     "data": {
      "text/plain": [
       "'C:/Users/khanh/code/DATA_SCIENCE/data/clean_images/test/labels/11151.txt'"
      ]
     },
     "execution_count": 161,
     "metadata": {},
     "output_type": "execute_result"
    },
    {
     "data": {
      "text/plain": [
       "'C:/Users/khanh/code/DATA_SCIENCE/data/clean_images/test/images/11153.jpg'"
      ]
     },
     "execution_count": 161,
     "metadata": {},
     "output_type": "execute_result"
    },
    {
     "data": {
      "text/plain": [
       "'C:/Users/khanh/code/DATA_SCIENCE/data/clean_images/test/labels/11153.txt'"
      ]
     },
     "execution_count": 161,
     "metadata": {},
     "output_type": "execute_result"
    },
    {
     "data": {
      "text/plain": [
       "'C:/Users/khanh/code/DATA_SCIENCE/data/clean_images/test/images/49749.jpg'"
      ]
     },
     "execution_count": 161,
     "metadata": {},
     "output_type": "execute_result"
    },
    {
     "data": {
      "text/plain": [
       "'C:/Users/khanh/code/DATA_SCIENCE/data/clean_images/test/labels/49749.txt'"
      ]
     },
     "execution_count": 161,
     "metadata": {},
     "output_type": "execute_result"
    },
    {
     "data": {
      "text/plain": [
       "'C:/Users/khanh/code/DATA_SCIENCE/data/clean_images/test/images/49751.jpg'"
      ]
     },
     "execution_count": 161,
     "metadata": {},
     "output_type": "execute_result"
    },
    {
     "data": {
      "text/plain": [
       "'C:/Users/khanh/code/DATA_SCIENCE/data/clean_images/test/labels/49751.txt'"
      ]
     },
     "execution_count": 161,
     "metadata": {},
     "output_type": "execute_result"
    },
    {
     "data": {
      "text/plain": [
       "'C:/Users/khanh/code/DATA_SCIENCE/data/clean_images/test/images/16471.jpg'"
      ]
     },
     "execution_count": 161,
     "metadata": {},
     "output_type": "execute_result"
    },
    {
     "data": {
      "text/plain": [
       "'C:/Users/khanh/code/DATA_SCIENCE/data/clean_images/test/labels/16471.txt'"
      ]
     },
     "execution_count": 161,
     "metadata": {},
     "output_type": "execute_result"
    },
    {
     "data": {
      "text/plain": [
       "'C:/Users/khanh/code/DATA_SCIENCE/data/clean_images/test/images/16476.jpg'"
      ]
     },
     "execution_count": 161,
     "metadata": {},
     "output_type": "execute_result"
    },
    {
     "data": {
      "text/plain": [
       "'C:/Users/khanh/code/DATA_SCIENCE/data/clean_images/test/labels/16476.txt'"
      ]
     },
     "execution_count": 161,
     "metadata": {},
     "output_type": "execute_result"
    },
    {
     "data": {
      "text/plain": [
       "'C:/Users/khanh/code/DATA_SCIENCE/data/clean_images/test/images/5040.jpg'"
      ]
     },
     "execution_count": 161,
     "metadata": {},
     "output_type": "execute_result"
    },
    {
     "data": {
      "text/plain": [
       "'C:/Users/khanh/code/DATA_SCIENCE/data/clean_images/test/labels/5040.txt'"
      ]
     },
     "execution_count": 161,
     "metadata": {},
     "output_type": "execute_result"
    },
    {
     "data": {
      "text/plain": [
       "'C:/Users/khanh/code/DATA_SCIENCE/data/clean_images/test/images/5041.jpg'"
      ]
     },
     "execution_count": 161,
     "metadata": {},
     "output_type": "execute_result"
    },
    {
     "data": {
      "text/plain": [
       "'C:/Users/khanh/code/DATA_SCIENCE/data/clean_images/test/labels/5041.txt'"
      ]
     },
     "execution_count": 161,
     "metadata": {},
     "output_type": "execute_result"
    },
    {
     "data": {
      "text/plain": [
       "'C:/Users/khanh/code/DATA_SCIENCE/data/clean_images/test/images/5042.jpg'"
      ]
     },
     "execution_count": 161,
     "metadata": {},
     "output_type": "execute_result"
    },
    {
     "data": {
      "text/plain": [
       "'C:/Users/khanh/code/DATA_SCIENCE/data/clean_images/test/labels/5042.txt'"
      ]
     },
     "execution_count": 161,
     "metadata": {},
     "output_type": "execute_result"
    },
    {
     "data": {
      "text/plain": [
       "'C:/Users/khanh/code/DATA_SCIENCE/data/clean_images/test/images/5043.jpg'"
      ]
     },
     "execution_count": 161,
     "metadata": {},
     "output_type": "execute_result"
    },
    {
     "data": {
      "text/plain": [
       "'C:/Users/khanh/code/DATA_SCIENCE/data/clean_images/test/labels/5043.txt'"
      ]
     },
     "execution_count": 161,
     "metadata": {},
     "output_type": "execute_result"
    },
    {
     "data": {
      "text/plain": [
       "'C:/Users/khanh/code/DATA_SCIENCE/data/clean_images/test/images/5044.jpg'"
      ]
     },
     "execution_count": 161,
     "metadata": {},
     "output_type": "execute_result"
    },
    {
     "data": {
      "text/plain": [
       "'C:/Users/khanh/code/DATA_SCIENCE/data/clean_images/test/labels/5044.txt'"
      ]
     },
     "execution_count": 161,
     "metadata": {},
     "output_type": "execute_result"
    },
    {
     "data": {
      "text/plain": [
       "'C:/Users/khanh/code/DATA_SCIENCE/data/clean_images/test/images/44331.jpg'"
      ]
     },
     "execution_count": 161,
     "metadata": {},
     "output_type": "execute_result"
    },
    {
     "data": {
      "text/plain": [
       "'C:/Users/khanh/code/DATA_SCIENCE/data/clean_images/test/labels/44331.txt'"
      ]
     },
     "execution_count": 161,
     "metadata": {},
     "output_type": "execute_result"
    },
    {
     "data": {
      "text/plain": [
       "'C:/Users/khanh/code/DATA_SCIENCE/data/clean_images/test/images/44332.jpg'"
      ]
     },
     "execution_count": 161,
     "metadata": {},
     "output_type": "execute_result"
    },
    {
     "data": {
      "text/plain": [
       "'C:/Users/khanh/code/DATA_SCIENCE/data/clean_images/test/labels/44332.txt'"
      ]
     },
     "execution_count": 161,
     "metadata": {},
     "output_type": "execute_result"
    },
    {
     "data": {
      "text/plain": [
       "'C:/Users/khanh/code/DATA_SCIENCE/data/clean_images/test/images/13447.jpg'"
      ]
     },
     "execution_count": 161,
     "metadata": {},
     "output_type": "execute_result"
    },
    {
     "data": {
      "text/plain": [
       "'C:/Users/khanh/code/DATA_SCIENCE/data/clean_images/test/labels/13447.txt'"
      ]
     },
     "execution_count": 161,
     "metadata": {},
     "output_type": "execute_result"
    },
    {
     "data": {
      "text/plain": [
       "'C:/Users/khanh/code/DATA_SCIENCE/data/clean_images/test/images/13448.jpg'"
      ]
     },
     "execution_count": 161,
     "metadata": {},
     "output_type": "execute_result"
    },
    {
     "data": {
      "text/plain": [
       "'C:/Users/khanh/code/DATA_SCIENCE/data/clean_images/test/labels/13448.txt'"
      ]
     },
     "execution_count": 161,
     "metadata": {},
     "output_type": "execute_result"
    },
    {
     "data": {
      "text/plain": [
       "'C:/Users/khanh/code/DATA_SCIENCE/data/clean_images/test/images/13449.jpg'"
      ]
     },
     "execution_count": 161,
     "metadata": {},
     "output_type": "execute_result"
    },
    {
     "data": {
      "text/plain": [
       "'C:/Users/khanh/code/DATA_SCIENCE/data/clean_images/test/labels/13449.txt'"
      ]
     },
     "execution_count": 161,
     "metadata": {},
     "output_type": "execute_result"
    },
    {
     "data": {
      "text/plain": [
       "'C:/Users/khanh/code/DATA_SCIENCE/data/clean_images/test/images/13450.jpg'"
      ]
     },
     "execution_count": 161,
     "metadata": {},
     "output_type": "execute_result"
    },
    {
     "data": {
      "text/plain": [
       "'C:/Users/khanh/code/DATA_SCIENCE/data/clean_images/test/labels/13450.txt'"
      ]
     },
     "execution_count": 161,
     "metadata": {},
     "output_type": "execute_result"
    },
    {
     "data": {
      "text/plain": [
       "'C:/Users/khanh/code/DATA_SCIENCE/data/clean_images/test/images/13451.jpg'"
      ]
     },
     "execution_count": 161,
     "metadata": {},
     "output_type": "execute_result"
    },
    {
     "data": {
      "text/plain": [
       "'C:/Users/khanh/code/DATA_SCIENCE/data/clean_images/test/labels/13451.txt'"
      ]
     },
     "execution_count": 161,
     "metadata": {},
     "output_type": "execute_result"
    },
    {
     "data": {
      "text/plain": [
       "'C:/Users/khanh/code/DATA_SCIENCE/data/clean_images/test/images/13452.jpg'"
      ]
     },
     "execution_count": 161,
     "metadata": {},
     "output_type": "execute_result"
    },
    {
     "data": {
      "text/plain": [
       "'C:/Users/khanh/code/DATA_SCIENCE/data/clean_images/test/labels/13452.txt'"
      ]
     },
     "execution_count": 161,
     "metadata": {},
     "output_type": "execute_result"
    },
    {
     "data": {
      "text/plain": [
       "'C:/Users/khanh/code/DATA_SCIENCE/data/clean_images/test/images/15548.jpg'"
      ]
     },
     "execution_count": 161,
     "metadata": {},
     "output_type": "execute_result"
    },
    {
     "data": {
      "text/plain": [
       "'C:/Users/khanh/code/DATA_SCIENCE/data/clean_images/test/labels/15548.txt'"
      ]
     },
     "execution_count": 161,
     "metadata": {},
     "output_type": "execute_result"
    },
    {
     "data": {
      "text/plain": [
       "'C:/Users/khanh/code/DATA_SCIENCE/data/clean_images/test/images/15549.jpg'"
      ]
     },
     "execution_count": 161,
     "metadata": {},
     "output_type": "execute_result"
    },
    {
     "data": {
      "text/plain": [
       "'C:/Users/khanh/code/DATA_SCIENCE/data/clean_images/test/labels/15549.txt'"
      ]
     },
     "execution_count": 161,
     "metadata": {},
     "output_type": "execute_result"
    },
    {
     "data": {
      "text/plain": [
       "'C:/Users/khanh/code/DATA_SCIENCE/data/clean_images/test/images/15551.jpg'"
      ]
     },
     "execution_count": 161,
     "metadata": {},
     "output_type": "execute_result"
    },
    {
     "data": {
      "text/plain": [
       "'C:/Users/khanh/code/DATA_SCIENCE/data/clean_images/test/labels/15551.txt'"
      ]
     },
     "execution_count": 161,
     "metadata": {},
     "output_type": "execute_result"
    },
    {
     "data": {
      "text/plain": [
       "'C:/Users/khanh/code/DATA_SCIENCE/data/clean_images/test/images/25039.jpg'"
      ]
     },
     "execution_count": 161,
     "metadata": {},
     "output_type": "execute_result"
    },
    {
     "data": {
      "text/plain": [
       "'C:/Users/khanh/code/DATA_SCIENCE/data/clean_images/test/labels/25039.txt'"
      ]
     },
     "execution_count": 161,
     "metadata": {},
     "output_type": "execute_result"
    },
    {
     "data": {
      "text/plain": [
       "'C:/Users/khanh/code/DATA_SCIENCE/data/clean_images/test/images/25040.jpg'"
      ]
     },
     "execution_count": 161,
     "metadata": {},
     "output_type": "execute_result"
    },
    {
     "data": {
      "text/plain": [
       "'C:/Users/khanh/code/DATA_SCIENCE/data/clean_images/test/labels/25040.txt'"
      ]
     },
     "execution_count": 161,
     "metadata": {},
     "output_type": "execute_result"
    },
    {
     "data": {
      "text/plain": [
       "'C:/Users/khanh/code/DATA_SCIENCE/data/clean_images/test/images/25041.jpg'"
      ]
     },
     "execution_count": 161,
     "metadata": {},
     "output_type": "execute_result"
    },
    {
     "data": {
      "text/plain": [
       "'C:/Users/khanh/code/DATA_SCIENCE/data/clean_images/test/labels/25041.txt'"
      ]
     },
     "execution_count": 161,
     "metadata": {},
     "output_type": "execute_result"
    },
    {
     "data": {
      "text/plain": [
       "'C:/Users/khanh/code/DATA_SCIENCE/data/clean_images/test/images/15683.jpg'"
      ]
     },
     "execution_count": 161,
     "metadata": {},
     "output_type": "execute_result"
    },
    {
     "data": {
      "text/plain": [
       "'C:/Users/khanh/code/DATA_SCIENCE/data/clean_images/test/labels/15683.txt'"
      ]
     },
     "execution_count": 161,
     "metadata": {},
     "output_type": "execute_result"
    },
    {
     "data": {
      "text/plain": [
       "'C:/Users/khanh/code/DATA_SCIENCE/data/clean_images/test/images/15684.jpg'"
      ]
     },
     "execution_count": 161,
     "metadata": {},
     "output_type": "execute_result"
    },
    {
     "data": {
      "text/plain": [
       "'C:/Users/khanh/code/DATA_SCIENCE/data/clean_images/test/labels/15684.txt'"
      ]
     },
     "execution_count": 161,
     "metadata": {},
     "output_type": "execute_result"
    },
    {
     "data": {
      "text/plain": [
       "'C:/Users/khanh/code/DATA_SCIENCE/data/clean_images/test/images/15685.jpg'"
      ]
     },
     "execution_count": 161,
     "metadata": {},
     "output_type": "execute_result"
    },
    {
     "data": {
      "text/plain": [
       "'C:/Users/khanh/code/DATA_SCIENCE/data/clean_images/test/labels/15685.txt'"
      ]
     },
     "execution_count": 161,
     "metadata": {},
     "output_type": "execute_result"
    },
    {
     "data": {
      "text/plain": [
       "'C:/Users/khanh/code/DATA_SCIENCE/data/clean_images/test/images/17678.jpg'"
      ]
     },
     "execution_count": 161,
     "metadata": {},
     "output_type": "execute_result"
    },
    {
     "data": {
      "text/plain": [
       "'C:/Users/khanh/code/DATA_SCIENCE/data/clean_images/test/labels/17678.txt'"
      ]
     },
     "execution_count": 161,
     "metadata": {},
     "output_type": "execute_result"
    },
    {
     "data": {
      "text/plain": [
       "'C:/Users/khanh/code/DATA_SCIENCE/data/clean_images/test/images/17679.jpg'"
      ]
     },
     "execution_count": 161,
     "metadata": {},
     "output_type": "execute_result"
    },
    {
     "data": {
      "text/plain": [
       "'C:/Users/khanh/code/DATA_SCIENCE/data/clean_images/test/labels/17679.txt'"
      ]
     },
     "execution_count": 161,
     "metadata": {},
     "output_type": "execute_result"
    },
    {
     "data": {
      "text/plain": [
       "'C:/Users/khanh/code/DATA_SCIENCE/data/clean_images/test/images/17681.jpg'"
      ]
     },
     "execution_count": 161,
     "metadata": {},
     "output_type": "execute_result"
    },
    {
     "data": {
      "text/plain": [
       "'C:/Users/khanh/code/DATA_SCIENCE/data/clean_images/test/labels/17681.txt'"
      ]
     },
     "execution_count": 161,
     "metadata": {},
     "output_type": "execute_result"
    },
    {
     "data": {
      "text/plain": [
       "'C:/Users/khanh/code/DATA_SCIENCE/data/clean_images/test/images/44515.jpg'"
      ]
     },
     "execution_count": 161,
     "metadata": {},
     "output_type": "execute_result"
    },
    {
     "data": {
      "text/plain": [
       "'C:/Users/khanh/code/DATA_SCIENCE/data/clean_images/test/labels/44515.txt'"
      ]
     },
     "execution_count": 161,
     "metadata": {},
     "output_type": "execute_result"
    },
    {
     "data": {
      "text/plain": [
       "'C:/Users/khanh/code/DATA_SCIENCE/data/clean_images/test/images/44518.jpg'"
      ]
     },
     "execution_count": 161,
     "metadata": {},
     "output_type": "execute_result"
    },
    {
     "data": {
      "text/plain": [
       "'C:/Users/khanh/code/DATA_SCIENCE/data/clean_images/test/labels/44518.txt'"
      ]
     },
     "execution_count": 161,
     "metadata": {},
     "output_type": "execute_result"
    },
    {
     "data": {
      "text/plain": [
       "'C:/Users/khanh/code/DATA_SCIENCE/data/clean_images/test/images/44519.jpg'"
      ]
     },
     "execution_count": 161,
     "metadata": {},
     "output_type": "execute_result"
    },
    {
     "data": {
      "text/plain": [
       "'C:/Users/khanh/code/DATA_SCIENCE/data/clean_images/test/labels/44519.txt'"
      ]
     },
     "execution_count": 161,
     "metadata": {},
     "output_type": "execute_result"
    },
    {
     "data": {
      "text/plain": [
       "'C:/Users/khanh/code/DATA_SCIENCE/data/clean_images/test/images/44520.jpg'"
      ]
     },
     "execution_count": 161,
     "metadata": {},
     "output_type": "execute_result"
    },
    {
     "data": {
      "text/plain": [
       "'C:/Users/khanh/code/DATA_SCIENCE/data/clean_images/test/labels/44520.txt'"
      ]
     },
     "execution_count": 161,
     "metadata": {},
     "output_type": "execute_result"
    },
    {
     "data": {
      "text/plain": [
       "'C:/Users/khanh/code/DATA_SCIENCE/data/clean_images/test/images/30049.jpg'"
      ]
     },
     "execution_count": 161,
     "metadata": {},
     "output_type": "execute_result"
    },
    {
     "data": {
      "text/plain": [
       "'C:/Users/khanh/code/DATA_SCIENCE/data/clean_images/test/labels/30049.txt'"
      ]
     },
     "execution_count": 161,
     "metadata": {},
     "output_type": "execute_result"
    },
    {
     "data": {
      "text/plain": [
       "'C:/Users/khanh/code/DATA_SCIENCE/data/clean_images/test/images/30051.jpg'"
      ]
     },
     "execution_count": 161,
     "metadata": {},
     "output_type": "execute_result"
    },
    {
     "data": {
      "text/plain": [
       "'C:/Users/khanh/code/DATA_SCIENCE/data/clean_images/test/labels/30051.txt'"
      ]
     },
     "execution_count": 161,
     "metadata": {},
     "output_type": "execute_result"
    },
    {
     "data": {
      "text/plain": [
       "'C:/Users/khanh/code/DATA_SCIENCE/data/clean_images/test/images/30052.jpg'"
      ]
     },
     "execution_count": 161,
     "metadata": {},
     "output_type": "execute_result"
    },
    {
     "data": {
      "text/plain": [
       "'C:/Users/khanh/code/DATA_SCIENCE/data/clean_images/test/labels/30052.txt'"
      ]
     },
     "execution_count": 161,
     "metadata": {},
     "output_type": "execute_result"
    },
    {
     "data": {
      "text/plain": [
       "'C:/Users/khanh/code/DATA_SCIENCE/data/clean_images/test/images/40835.jpg'"
      ]
     },
     "execution_count": 161,
     "metadata": {},
     "output_type": "execute_result"
    },
    {
     "data": {
      "text/plain": [
       "'C:/Users/khanh/code/DATA_SCIENCE/data/clean_images/test/labels/40835.txt'"
      ]
     },
     "execution_count": 161,
     "metadata": {},
     "output_type": "execute_result"
    },
    {
     "data": {
      "text/plain": [
       "'C:/Users/khanh/code/DATA_SCIENCE/data/clean_images/test/images/40836.jpg'"
      ]
     },
     "execution_count": 161,
     "metadata": {},
     "output_type": "execute_result"
    },
    {
     "data": {
      "text/plain": [
       "'C:/Users/khanh/code/DATA_SCIENCE/data/clean_images/test/labels/40836.txt'"
      ]
     },
     "execution_count": 161,
     "metadata": {},
     "output_type": "execute_result"
    },
    {
     "data": {
      "text/plain": [
       "'C:/Users/khanh/code/DATA_SCIENCE/data/clean_images/test/images/40837.jpg'"
      ]
     },
     "execution_count": 161,
     "metadata": {},
     "output_type": "execute_result"
    },
    {
     "data": {
      "text/plain": [
       "'C:/Users/khanh/code/DATA_SCIENCE/data/clean_images/test/labels/40837.txt'"
      ]
     },
     "execution_count": 161,
     "metadata": {},
     "output_type": "execute_result"
    },
    {
     "data": {
      "text/plain": [
       "'C:/Users/khanh/code/DATA_SCIENCE/data/clean_images/test/images/40838.jpg'"
      ]
     },
     "execution_count": 161,
     "metadata": {},
     "output_type": "execute_result"
    },
    {
     "data": {
      "text/plain": [
       "'C:/Users/khanh/code/DATA_SCIENCE/data/clean_images/test/labels/40838.txt'"
      ]
     },
     "execution_count": 161,
     "metadata": {},
     "output_type": "execute_result"
    },
    {
     "data": {
      "text/plain": [
       "'C:/Users/khanh/code/DATA_SCIENCE/data/clean_images/test/images/40839.jpg'"
      ]
     },
     "execution_count": 161,
     "metadata": {},
     "output_type": "execute_result"
    },
    {
     "data": {
      "text/plain": [
       "'C:/Users/khanh/code/DATA_SCIENCE/data/clean_images/test/labels/40839.txt'"
      ]
     },
     "execution_count": 161,
     "metadata": {},
     "output_type": "execute_result"
    },
    {
     "data": {
      "text/plain": [
       "'C:/Users/khanh/code/DATA_SCIENCE/data/clean_images/test/images/40840.jpg'"
      ]
     },
     "execution_count": 161,
     "metadata": {},
     "output_type": "execute_result"
    },
    {
     "data": {
      "text/plain": [
       "'C:/Users/khanh/code/DATA_SCIENCE/data/clean_images/test/labels/40840.txt'"
      ]
     },
     "execution_count": 161,
     "metadata": {},
     "output_type": "execute_result"
    },
    {
     "data": {
      "text/plain": [
       "'C:/Users/khanh/code/DATA_SCIENCE/data/clean_images/test/images/13984.jpg'"
      ]
     },
     "execution_count": 161,
     "metadata": {},
     "output_type": "execute_result"
    },
    {
     "data": {
      "text/plain": [
       "'C:/Users/khanh/code/DATA_SCIENCE/data/clean_images/test/labels/13984.txt'"
      ]
     },
     "execution_count": 161,
     "metadata": {},
     "output_type": "execute_result"
    },
    {
     "data": {
      "text/plain": [
       "'C:/Users/khanh/code/DATA_SCIENCE/data/clean_images/test/images/13985.jpg'"
      ]
     },
     "execution_count": 161,
     "metadata": {},
     "output_type": "execute_result"
    },
    {
     "data": {
      "text/plain": [
       "'C:/Users/khanh/code/DATA_SCIENCE/data/clean_images/test/labels/13985.txt'"
      ]
     },
     "execution_count": 161,
     "metadata": {},
     "output_type": "execute_result"
    },
    {
     "data": {
      "text/plain": [
       "'C:/Users/khanh/code/DATA_SCIENCE/data/clean_images/test/images/13986.jpg'"
      ]
     },
     "execution_count": 161,
     "metadata": {},
     "output_type": "execute_result"
    },
    {
     "data": {
      "text/plain": [
       "'C:/Users/khanh/code/DATA_SCIENCE/data/clean_images/test/labels/13986.txt'"
      ]
     },
     "execution_count": 161,
     "metadata": {},
     "output_type": "execute_result"
    },
    {
     "data": {
      "text/plain": [
       "'C:/Users/khanh/code/DATA_SCIENCE/data/clean_images/test/images/13987.jpg'"
      ]
     },
     "execution_count": 161,
     "metadata": {},
     "output_type": "execute_result"
    },
    {
     "data": {
      "text/plain": [
       "'C:/Users/khanh/code/DATA_SCIENCE/data/clean_images/test/labels/13987.txt'"
      ]
     },
     "execution_count": 161,
     "metadata": {},
     "output_type": "execute_result"
    },
    {
     "data": {
      "text/plain": [
       "'C:/Users/khanh/code/DATA_SCIENCE/data/clean_images/test/images/13988.jpg'"
      ]
     },
     "execution_count": 161,
     "metadata": {},
     "output_type": "execute_result"
    },
    {
     "data": {
      "text/plain": [
       "'C:/Users/khanh/code/DATA_SCIENCE/data/clean_images/test/labels/13988.txt'"
      ]
     },
     "execution_count": 161,
     "metadata": {},
     "output_type": "execute_result"
    },
    {
     "data": {
      "text/plain": [
       "'C:/Users/khanh/code/DATA_SCIENCE/data/clean_images/test/images/29796.jpg'"
      ]
     },
     "execution_count": 161,
     "metadata": {},
     "output_type": "execute_result"
    },
    {
     "data": {
      "text/plain": [
       "'C:/Users/khanh/code/DATA_SCIENCE/data/clean_images/test/labels/29796.txt'"
      ]
     },
     "execution_count": 161,
     "metadata": {},
     "output_type": "execute_result"
    },
    {
     "data": {
      "text/plain": [
       "'C:/Users/khanh/code/DATA_SCIENCE/data/clean_images/test/images/29797.jpg'"
      ]
     },
     "execution_count": 161,
     "metadata": {},
     "output_type": "execute_result"
    },
    {
     "data": {
      "text/plain": [
       "'C:/Users/khanh/code/DATA_SCIENCE/data/clean_images/test/labels/29797.txt'"
      ]
     },
     "execution_count": 161,
     "metadata": {},
     "output_type": "execute_result"
    },
    {
     "data": {
      "text/plain": [
       "'C:/Users/khanh/code/DATA_SCIENCE/data/clean_images/test/images/3909.jpg'"
      ]
     },
     "execution_count": 161,
     "metadata": {},
     "output_type": "execute_result"
    },
    {
     "data": {
      "text/plain": [
       "'C:/Users/khanh/code/DATA_SCIENCE/data/clean_images/test/labels/3909.txt'"
      ]
     },
     "execution_count": 161,
     "metadata": {},
     "output_type": "execute_result"
    },
    {
     "data": {
      "text/plain": [
       "'C:/Users/khanh/code/DATA_SCIENCE/data/clean_images/test/images/3910.jpg'"
      ]
     },
     "execution_count": 161,
     "metadata": {},
     "output_type": "execute_result"
    },
    {
     "data": {
      "text/plain": [
       "'C:/Users/khanh/code/DATA_SCIENCE/data/clean_images/test/labels/3910.txt'"
      ]
     },
     "execution_count": 161,
     "metadata": {},
     "output_type": "execute_result"
    },
    {
     "data": {
      "text/plain": [
       "'C:/Users/khanh/code/DATA_SCIENCE/data/clean_images/test/images/12799.jpg'"
      ]
     },
     "execution_count": 161,
     "metadata": {},
     "output_type": "execute_result"
    },
    {
     "data": {
      "text/plain": [
       "'C:/Users/khanh/code/DATA_SCIENCE/data/clean_images/test/labels/12799.txt'"
      ]
     },
     "execution_count": 161,
     "metadata": {},
     "output_type": "execute_result"
    },
    {
     "data": {
      "text/plain": [
       "'C:/Users/khanh/code/DATA_SCIENCE/data/clean_images/test/images/14297.jpg'"
      ]
     },
     "execution_count": 161,
     "metadata": {},
     "output_type": "execute_result"
    },
    {
     "data": {
      "text/plain": [
       "'C:/Users/khanh/code/DATA_SCIENCE/data/clean_images/test/labels/14297.txt'"
      ]
     },
     "execution_count": 161,
     "metadata": {},
     "output_type": "execute_result"
    },
    {
     "data": {
      "text/plain": [
       "'C:/Users/khanh/code/DATA_SCIENCE/data/clean_images/test/images/14299.jpg'"
      ]
     },
     "execution_count": 161,
     "metadata": {},
     "output_type": "execute_result"
    },
    {
     "data": {
      "text/plain": [
       "'C:/Users/khanh/code/DATA_SCIENCE/data/clean_images/test/labels/14299.txt'"
      ]
     },
     "execution_count": 161,
     "metadata": {},
     "output_type": "execute_result"
    },
    {
     "data": {
      "text/plain": [
       "'C:/Users/khanh/code/DATA_SCIENCE/data/clean_images/test/images/14300.jpg'"
      ]
     },
     "execution_count": 161,
     "metadata": {},
     "output_type": "execute_result"
    },
    {
     "data": {
      "text/plain": [
       "'C:/Users/khanh/code/DATA_SCIENCE/data/clean_images/test/labels/14300.txt'"
      ]
     },
     "execution_count": 161,
     "metadata": {},
     "output_type": "execute_result"
    },
    {
     "data": {
      "text/plain": [
       "'C:/Users/khanh/code/DATA_SCIENCE/data/clean_images/test/images/14301.jpg'"
      ]
     },
     "execution_count": 161,
     "metadata": {},
     "output_type": "execute_result"
    },
    {
     "data": {
      "text/plain": [
       "'C:/Users/khanh/code/DATA_SCIENCE/data/clean_images/test/labels/14301.txt'"
      ]
     },
     "execution_count": 161,
     "metadata": {},
     "output_type": "execute_result"
    },
    {
     "data": {
      "text/plain": [
       "'C:/Users/khanh/code/DATA_SCIENCE/data/clean_images/test/images/54912.jpg'"
      ]
     },
     "execution_count": 161,
     "metadata": {},
     "output_type": "execute_result"
    },
    {
     "data": {
      "text/plain": [
       "'C:/Users/khanh/code/DATA_SCIENCE/data/clean_images/test/labels/54912.txt'"
      ]
     },
     "execution_count": 161,
     "metadata": {},
     "output_type": "execute_result"
    },
    {
     "data": {
      "text/plain": [
       "'C:/Users/khanh/code/DATA_SCIENCE/data/clean_images/test/images/22744.jpg'"
      ]
     },
     "execution_count": 161,
     "metadata": {},
     "output_type": "execute_result"
    },
    {
     "data": {
      "text/plain": [
       "'C:/Users/khanh/code/DATA_SCIENCE/data/clean_images/test/labels/22744.txt'"
      ]
     },
     "execution_count": 161,
     "metadata": {},
     "output_type": "execute_result"
    },
    {
     "data": {
      "text/plain": [
       "'C:/Users/khanh/code/DATA_SCIENCE/data/clean_images/test/images/12601.jpg'"
      ]
     },
     "execution_count": 161,
     "metadata": {},
     "output_type": "execute_result"
    },
    {
     "data": {
      "text/plain": [
       "'C:/Users/khanh/code/DATA_SCIENCE/data/clean_images/test/labels/12601.txt'"
      ]
     },
     "execution_count": 161,
     "metadata": {},
     "output_type": "execute_result"
    },
    {
     "data": {
      "text/plain": [
       "'C:/Users/khanh/code/DATA_SCIENCE/data/clean_images/test/images/12604.jpg'"
      ]
     },
     "execution_count": 161,
     "metadata": {},
     "output_type": "execute_result"
    },
    {
     "data": {
      "text/plain": [
       "'C:/Users/khanh/code/DATA_SCIENCE/data/clean_images/test/labels/12604.txt'"
      ]
     },
     "execution_count": 161,
     "metadata": {},
     "output_type": "execute_result"
    },
    {
     "data": {
      "text/plain": [
       "'C:/Users/khanh/code/DATA_SCIENCE/data/clean_images/test/images/12606.jpg'"
      ]
     },
     "execution_count": 161,
     "metadata": {},
     "output_type": "execute_result"
    },
    {
     "data": {
      "text/plain": [
       "'C:/Users/khanh/code/DATA_SCIENCE/data/clean_images/test/labels/12606.txt'"
      ]
     },
     "execution_count": 161,
     "metadata": {},
     "output_type": "execute_result"
    },
    {
     "data": {
      "text/plain": [
       "'C:/Users/khanh/code/DATA_SCIENCE/data/clean_images/test/images/51880.jpg'"
      ]
     },
     "execution_count": 161,
     "metadata": {},
     "output_type": "execute_result"
    },
    {
     "data": {
      "text/plain": [
       "'C:/Users/khanh/code/DATA_SCIENCE/data/clean_images/test/labels/51880.txt'"
      ]
     },
     "execution_count": 161,
     "metadata": {},
     "output_type": "execute_result"
    },
    {
     "data": {
      "text/plain": [
       "'C:/Users/khanh/code/DATA_SCIENCE/data/clean_images/test/images/51881.jpg'"
      ]
     },
     "execution_count": 161,
     "metadata": {},
     "output_type": "execute_result"
    },
    {
     "data": {
      "text/plain": [
       "'C:/Users/khanh/code/DATA_SCIENCE/data/clean_images/test/labels/51881.txt'"
      ]
     },
     "execution_count": 161,
     "metadata": {},
     "output_type": "execute_result"
    },
    {
     "data": {
      "text/plain": [
       "'C:/Users/khanh/code/DATA_SCIENCE/data/clean_images/test/images/51882.jpg'"
      ]
     },
     "execution_count": 161,
     "metadata": {},
     "output_type": "execute_result"
    },
    {
     "data": {
      "text/plain": [
       "'C:/Users/khanh/code/DATA_SCIENCE/data/clean_images/test/labels/51882.txt'"
      ]
     },
     "execution_count": 161,
     "metadata": {},
     "output_type": "execute_result"
    },
    {
     "data": {
      "text/plain": [
       "'C:/Users/khanh/code/DATA_SCIENCE/data/clean_images/test/images/51883.jpg'"
      ]
     },
     "execution_count": 161,
     "metadata": {},
     "output_type": "execute_result"
    },
    {
     "data": {
      "text/plain": [
       "'C:/Users/khanh/code/DATA_SCIENCE/data/clean_images/test/labels/51883.txt'"
      ]
     },
     "execution_count": 161,
     "metadata": {},
     "output_type": "execute_result"
    },
    {
     "data": {
      "text/plain": [
       "'C:/Users/khanh/code/DATA_SCIENCE/data/clean_images/test/images/34547.jpg'"
      ]
     },
     "execution_count": 161,
     "metadata": {},
     "output_type": "execute_result"
    },
    {
     "data": {
      "text/plain": [
       "'C:/Users/khanh/code/DATA_SCIENCE/data/clean_images/test/labels/34547.txt'"
      ]
     },
     "execution_count": 161,
     "metadata": {},
     "output_type": "execute_result"
    },
    {
     "data": {
      "text/plain": [
       "'C:/Users/khanh/code/DATA_SCIENCE/data/clean_images/test/images/34548.jpg'"
      ]
     },
     "execution_count": 161,
     "metadata": {},
     "output_type": "execute_result"
    },
    {
     "data": {
      "text/plain": [
       "'C:/Users/khanh/code/DATA_SCIENCE/data/clean_images/test/labels/34548.txt'"
      ]
     },
     "execution_count": 161,
     "metadata": {},
     "output_type": "execute_result"
    },
    {
     "data": {
      "text/plain": [
       "'C:/Users/khanh/code/DATA_SCIENCE/data/clean_images/test/images/34549.jpg'"
      ]
     },
     "execution_count": 161,
     "metadata": {},
     "output_type": "execute_result"
    },
    {
     "data": {
      "text/plain": [
       "'C:/Users/khanh/code/DATA_SCIENCE/data/clean_images/test/labels/34549.txt'"
      ]
     },
     "execution_count": 161,
     "metadata": {},
     "output_type": "execute_result"
    },
    {
     "data": {
      "text/plain": [
       "'C:/Users/khanh/code/DATA_SCIENCE/data/clean_images/test/images/34550.jpg'"
      ]
     },
     "execution_count": 161,
     "metadata": {},
     "output_type": "execute_result"
    },
    {
     "data": {
      "text/plain": [
       "'C:/Users/khanh/code/DATA_SCIENCE/data/clean_images/test/labels/34550.txt'"
      ]
     },
     "execution_count": 161,
     "metadata": {},
     "output_type": "execute_result"
    },
    {
     "data": {
      "text/plain": [
       "'C:/Users/khanh/code/DATA_SCIENCE/data/clean_images/test/images/25948.jpg'"
      ]
     },
     "execution_count": 161,
     "metadata": {},
     "output_type": "execute_result"
    },
    {
     "data": {
      "text/plain": [
       "'C:/Users/khanh/code/DATA_SCIENCE/data/clean_images/test/labels/25948.txt'"
      ]
     },
     "execution_count": 161,
     "metadata": {},
     "output_type": "execute_result"
    },
    {
     "data": {
      "text/plain": [
       "'C:/Users/khanh/code/DATA_SCIENCE/data/clean_images/test/images/25951.jpg'"
      ]
     },
     "execution_count": 161,
     "metadata": {},
     "output_type": "execute_result"
    },
    {
     "data": {
      "text/plain": [
       "'C:/Users/khanh/code/DATA_SCIENCE/data/clean_images/test/labels/25951.txt'"
      ]
     },
     "execution_count": 161,
     "metadata": {},
     "output_type": "execute_result"
    },
    {
     "data": {
      "text/plain": [
       "'C:/Users/khanh/code/DATA_SCIENCE/data/clean_images/test/images/43706.jpg'"
      ]
     },
     "execution_count": 161,
     "metadata": {},
     "output_type": "execute_result"
    },
    {
     "data": {
      "text/plain": [
       "'C:/Users/khanh/code/DATA_SCIENCE/data/clean_images/test/labels/43706.txt'"
      ]
     },
     "execution_count": 161,
     "metadata": {},
     "output_type": "execute_result"
    },
    {
     "data": {
      "text/plain": [
       "'C:/Users/khanh/code/DATA_SCIENCE/data/clean_images/test/images/43707.jpg'"
      ]
     },
     "execution_count": 161,
     "metadata": {},
     "output_type": "execute_result"
    },
    {
     "data": {
      "text/plain": [
       "'C:/Users/khanh/code/DATA_SCIENCE/data/clean_images/test/labels/43707.txt'"
      ]
     },
     "execution_count": 161,
     "metadata": {},
     "output_type": "execute_result"
    },
    {
     "data": {
      "text/plain": [
       "'C:/Users/khanh/code/DATA_SCIENCE/data/clean_images/test/images/43708.jpg'"
      ]
     },
     "execution_count": 161,
     "metadata": {},
     "output_type": "execute_result"
    },
    {
     "data": {
      "text/plain": [
       "'C:/Users/khanh/code/DATA_SCIENCE/data/clean_images/test/labels/43708.txt'"
      ]
     },
     "execution_count": 161,
     "metadata": {},
     "output_type": "execute_result"
    },
    {
     "data": {
      "text/plain": [
       "'C:/Users/khanh/code/DATA_SCIENCE/data/clean_images/test/images/43709.jpg'"
      ]
     },
     "execution_count": 161,
     "metadata": {},
     "output_type": "execute_result"
    },
    {
     "data": {
      "text/plain": [
       "'C:/Users/khanh/code/DATA_SCIENCE/data/clean_images/test/labels/43709.txt'"
      ]
     },
     "execution_count": 161,
     "metadata": {},
     "output_type": "execute_result"
    },
    {
     "data": {
      "text/plain": [
       "'C:/Users/khanh/code/DATA_SCIENCE/data/clean_images/test/images/24661.jpg'"
      ]
     },
     "execution_count": 161,
     "metadata": {},
     "output_type": "execute_result"
    },
    {
     "data": {
      "text/plain": [
       "'C:/Users/khanh/code/DATA_SCIENCE/data/clean_images/test/labels/24661.txt'"
      ]
     },
     "execution_count": 161,
     "metadata": {},
     "output_type": "execute_result"
    },
    {
     "data": {
      "text/plain": [
       "'C:/Users/khanh/code/DATA_SCIENCE/data/clean_images/test/images/24662.jpg'"
      ]
     },
     "execution_count": 161,
     "metadata": {},
     "output_type": "execute_result"
    },
    {
     "data": {
      "text/plain": [
       "'C:/Users/khanh/code/DATA_SCIENCE/data/clean_images/test/labels/24662.txt'"
      ]
     },
     "execution_count": 161,
     "metadata": {},
     "output_type": "execute_result"
    },
    {
     "data": {
      "text/plain": [
       "'C:/Users/khanh/code/DATA_SCIENCE/data/clean_images/test/images/24665.jpg'"
      ]
     },
     "execution_count": 161,
     "metadata": {},
     "output_type": "execute_result"
    },
    {
     "data": {
      "text/plain": [
       "'C:/Users/khanh/code/DATA_SCIENCE/data/clean_images/test/labels/24665.txt'"
      ]
     },
     "execution_count": 161,
     "metadata": {},
     "output_type": "execute_result"
    },
    {
     "data": {
      "text/plain": [
       "'C:/Users/khanh/code/DATA_SCIENCE/data/clean_images/test/images/10050.jpg'"
      ]
     },
     "execution_count": 161,
     "metadata": {},
     "output_type": "execute_result"
    },
    {
     "data": {
      "text/plain": [
       "'C:/Users/khanh/code/DATA_SCIENCE/data/clean_images/test/labels/10050.txt'"
      ]
     },
     "execution_count": 161,
     "metadata": {},
     "output_type": "execute_result"
    },
    {
     "data": {
      "text/plain": [
       "'C:/Users/khanh/code/DATA_SCIENCE/data/clean_images/test/images/10051.jpg'"
      ]
     },
     "execution_count": 161,
     "metadata": {},
     "output_type": "execute_result"
    },
    {
     "data": {
      "text/plain": [
       "'C:/Users/khanh/code/DATA_SCIENCE/data/clean_images/test/labels/10051.txt'"
      ]
     },
     "execution_count": 161,
     "metadata": {},
     "output_type": "execute_result"
    },
    {
     "data": {
      "text/plain": [
       "'C:/Users/khanh/code/DATA_SCIENCE/data/clean_images/test/images/10052.jpg'"
      ]
     },
     "execution_count": 161,
     "metadata": {},
     "output_type": "execute_result"
    },
    {
     "data": {
      "text/plain": [
       "'C:/Users/khanh/code/DATA_SCIENCE/data/clean_images/test/labels/10052.txt'"
      ]
     },
     "execution_count": 161,
     "metadata": {},
     "output_type": "execute_result"
    },
    {
     "data": {
      "text/plain": [
       "'C:/Users/khanh/code/DATA_SCIENCE/data/clean_images/test/images/10053.jpg'"
      ]
     },
     "execution_count": 161,
     "metadata": {},
     "output_type": "execute_result"
    },
    {
     "data": {
      "text/plain": [
       "'C:/Users/khanh/code/DATA_SCIENCE/data/clean_images/test/labels/10053.txt'"
      ]
     },
     "execution_count": 161,
     "metadata": {},
     "output_type": "execute_result"
    },
    {
     "data": {
      "text/plain": [
       "'C:/Users/khanh/code/DATA_SCIENCE/data/clean_images/test/images/29547.jpg'"
      ]
     },
     "execution_count": 161,
     "metadata": {},
     "output_type": "execute_result"
    },
    {
     "data": {
      "text/plain": [
       "'C:/Users/khanh/code/DATA_SCIENCE/data/clean_images/test/labels/29547.txt'"
      ]
     },
     "execution_count": 161,
     "metadata": {},
     "output_type": "execute_result"
    },
    {
     "data": {
      "text/plain": [
       "'C:/Users/khanh/code/DATA_SCIENCE/data/clean_images/test/images/29548.jpg'"
      ]
     },
     "execution_count": 161,
     "metadata": {},
     "output_type": "execute_result"
    },
    {
     "data": {
      "text/plain": [
       "'C:/Users/khanh/code/DATA_SCIENCE/data/clean_images/test/labels/29548.txt'"
      ]
     },
     "execution_count": 161,
     "metadata": {},
     "output_type": "execute_result"
    },
    {
     "data": {
      "text/plain": [
       "'C:/Users/khanh/code/DATA_SCIENCE/data/clean_images/test/images/29549.jpg'"
      ]
     },
     "execution_count": 161,
     "metadata": {},
     "output_type": "execute_result"
    },
    {
     "data": {
      "text/plain": [
       "'C:/Users/khanh/code/DATA_SCIENCE/data/clean_images/test/labels/29549.txt'"
      ]
     },
     "execution_count": 161,
     "metadata": {},
     "output_type": "execute_result"
    },
    {
     "data": {
      "text/plain": [
       "'C:/Users/khanh/code/DATA_SCIENCE/data/clean_images/test/images/29550.jpg'"
      ]
     },
     "execution_count": 161,
     "metadata": {},
     "output_type": "execute_result"
    },
    {
     "data": {
      "text/plain": [
       "'C:/Users/khanh/code/DATA_SCIENCE/data/clean_images/test/labels/29550.txt'"
      ]
     },
     "execution_count": 161,
     "metadata": {},
     "output_type": "execute_result"
    },
    {
     "data": {
      "text/plain": [
       "'C:/Users/khanh/code/DATA_SCIENCE/data/clean_images/test/images/29551.jpg'"
      ]
     },
     "execution_count": 161,
     "metadata": {},
     "output_type": "execute_result"
    },
    {
     "data": {
      "text/plain": [
       "'C:/Users/khanh/code/DATA_SCIENCE/data/clean_images/test/labels/29551.txt'"
      ]
     },
     "execution_count": 161,
     "metadata": {},
     "output_type": "execute_result"
    },
    {
     "data": {
      "text/plain": [
       "'C:/Users/khanh/code/DATA_SCIENCE/data/clean_images/test/images/29552.jpg'"
      ]
     },
     "execution_count": 161,
     "metadata": {},
     "output_type": "execute_result"
    },
    {
     "data": {
      "text/plain": [
       "'C:/Users/khanh/code/DATA_SCIENCE/data/clean_images/test/labels/29552.txt'"
      ]
     },
     "execution_count": 161,
     "metadata": {},
     "output_type": "execute_result"
    },
    {
     "data": {
      "text/plain": [
       "'C:/Users/khanh/code/DATA_SCIENCE/data/clean_images/test/images/23852.jpg'"
      ]
     },
     "execution_count": 161,
     "metadata": {},
     "output_type": "execute_result"
    },
    {
     "data": {
      "text/plain": [
       "'C:/Users/khanh/code/DATA_SCIENCE/data/clean_images/test/labels/23852.txt'"
      ]
     },
     "execution_count": 161,
     "metadata": {},
     "output_type": "execute_result"
    },
    {
     "data": {
      "text/plain": [
       "'C:/Users/khanh/code/DATA_SCIENCE/data/clean_images/test/images/36950.jpg'"
      ]
     },
     "execution_count": 161,
     "metadata": {},
     "output_type": "execute_result"
    },
    {
     "data": {
      "text/plain": [
       "'C:/Users/khanh/code/DATA_SCIENCE/data/clean_images/test/labels/36950.txt'"
      ]
     },
     "execution_count": 161,
     "metadata": {},
     "output_type": "execute_result"
    },
    {
     "data": {
      "text/plain": [
       "'C:/Users/khanh/code/DATA_SCIENCE/data/clean_images/test/images/36951.jpg'"
      ]
     },
     "execution_count": 161,
     "metadata": {},
     "output_type": "execute_result"
    },
    {
     "data": {
      "text/plain": [
       "'C:/Users/khanh/code/DATA_SCIENCE/data/clean_images/test/labels/36951.txt'"
      ]
     },
     "execution_count": 161,
     "metadata": {},
     "output_type": "execute_result"
    },
    {
     "data": {
      "text/plain": [
       "'C:/Users/khanh/code/DATA_SCIENCE/data/clean_images/test/images/36953.jpg'"
      ]
     },
     "execution_count": 161,
     "metadata": {},
     "output_type": "execute_result"
    },
    {
     "data": {
      "text/plain": [
       "'C:/Users/khanh/code/DATA_SCIENCE/data/clean_images/test/labels/36953.txt'"
      ]
     },
     "execution_count": 161,
     "metadata": {},
     "output_type": "execute_result"
    },
    {
     "data": {
      "text/plain": [
       "'C:/Users/khanh/code/DATA_SCIENCE/data/clean_images/test/images/36954.jpg'"
      ]
     },
     "execution_count": 161,
     "metadata": {},
     "output_type": "execute_result"
    },
    {
     "data": {
      "text/plain": [
       "'C:/Users/khanh/code/DATA_SCIENCE/data/clean_images/test/labels/36954.txt'"
      ]
     },
     "execution_count": 161,
     "metadata": {},
     "output_type": "execute_result"
    },
    {
     "data": {
      "text/plain": [
       "'C:/Users/khanh/code/DATA_SCIENCE/data/clean_images/test/images/36955.jpg'"
      ]
     },
     "execution_count": 161,
     "metadata": {},
     "output_type": "execute_result"
    },
    {
     "data": {
      "text/plain": [
       "'C:/Users/khanh/code/DATA_SCIENCE/data/clean_images/test/labels/36955.txt'"
      ]
     },
     "execution_count": 161,
     "metadata": {},
     "output_type": "execute_result"
    },
    {
     "data": {
      "text/plain": [
       "'C:/Users/khanh/code/DATA_SCIENCE/data/clean_images/test/images/18008.jpg'"
      ]
     },
     "execution_count": 161,
     "metadata": {},
     "output_type": "execute_result"
    },
    {
     "data": {
      "text/plain": [
       "'C:/Users/khanh/code/DATA_SCIENCE/data/clean_images/test/labels/18008.txt'"
      ]
     },
     "execution_count": 161,
     "metadata": {},
     "output_type": "execute_result"
    },
    {
     "data": {
      "text/plain": [
       "'C:/Users/khanh/code/DATA_SCIENCE/data/clean_images/test/images/18009.jpg'"
      ]
     },
     "execution_count": 161,
     "metadata": {},
     "output_type": "execute_result"
    },
    {
     "data": {
      "text/plain": [
       "'C:/Users/khanh/code/DATA_SCIENCE/data/clean_images/test/labels/18009.txt'"
      ]
     },
     "execution_count": 161,
     "metadata": {},
     "output_type": "execute_result"
    },
    {
     "data": {
      "text/plain": [
       "'C:/Users/khanh/code/DATA_SCIENCE/data/clean_images/test/images/46896.jpg'"
      ]
     },
     "execution_count": 161,
     "metadata": {},
     "output_type": "execute_result"
    },
    {
     "data": {
      "text/plain": [
       "'C:/Users/khanh/code/DATA_SCIENCE/data/clean_images/test/labels/46896.txt'"
      ]
     },
     "execution_count": 161,
     "metadata": {},
     "output_type": "execute_result"
    },
    {
     "data": {
      "text/plain": [
       "'C:/Users/khanh/code/DATA_SCIENCE/data/clean_images/test/images/46897.jpg'"
      ]
     },
     "execution_count": 161,
     "metadata": {},
     "output_type": "execute_result"
    },
    {
     "data": {
      "text/plain": [
       "'C:/Users/khanh/code/DATA_SCIENCE/data/clean_images/test/labels/46897.txt'"
      ]
     },
     "execution_count": 161,
     "metadata": {},
     "output_type": "execute_result"
    },
    {
     "data": {
      "text/plain": [
       "'C:/Users/khanh/code/DATA_SCIENCE/data/clean_images/test/images/46898.jpg'"
      ]
     },
     "execution_count": 161,
     "metadata": {},
     "output_type": "execute_result"
    },
    {
     "data": {
      "text/plain": [
       "'C:/Users/khanh/code/DATA_SCIENCE/data/clean_images/test/labels/46898.txt'"
      ]
     },
     "execution_count": 161,
     "metadata": {},
     "output_type": "execute_result"
    },
    {
     "data": {
      "text/plain": [
       "'C:/Users/khanh/code/DATA_SCIENCE/data/clean_images/test/images/46900.jpg'"
      ]
     },
     "execution_count": 161,
     "metadata": {},
     "output_type": "execute_result"
    },
    {
     "data": {
      "text/plain": [
       "'C:/Users/khanh/code/DATA_SCIENCE/data/clean_images/test/labels/46900.txt'"
      ]
     },
     "execution_count": 161,
     "metadata": {},
     "output_type": "execute_result"
    },
    {
     "data": {
      "text/plain": [
       "'C:/Users/khanh/code/DATA_SCIENCE/data/clean_images/test/images/46901.jpg'"
      ]
     },
     "execution_count": 161,
     "metadata": {},
     "output_type": "execute_result"
    },
    {
     "data": {
      "text/plain": [
       "'C:/Users/khanh/code/DATA_SCIENCE/data/clean_images/test/labels/46901.txt'"
      ]
     },
     "execution_count": 161,
     "metadata": {},
     "output_type": "execute_result"
    },
    {
     "data": {
      "text/plain": [
       "'C:/Users/khanh/code/DATA_SCIENCE/data/clean_images/test/images/9600.jpg'"
      ]
     },
     "execution_count": 161,
     "metadata": {},
     "output_type": "execute_result"
    },
    {
     "data": {
      "text/plain": [
       "'C:/Users/khanh/code/DATA_SCIENCE/data/clean_images/test/labels/9600.txt'"
      ]
     },
     "execution_count": 161,
     "metadata": {},
     "output_type": "execute_result"
    },
    {
     "data": {
      "text/plain": [
       "'C:/Users/khanh/code/DATA_SCIENCE/data/clean_images/test/images/9603.jpg'"
      ]
     },
     "execution_count": 161,
     "metadata": {},
     "output_type": "execute_result"
    },
    {
     "data": {
      "text/plain": [
       "'C:/Users/khanh/code/DATA_SCIENCE/data/clean_images/test/labels/9603.txt'"
      ]
     },
     "execution_count": 161,
     "metadata": {},
     "output_type": "execute_result"
    },
    {
     "data": {
      "text/plain": [
       "'C:/Users/khanh/code/DATA_SCIENCE/data/clean_images/test/images/9604.jpg'"
      ]
     },
     "execution_count": 161,
     "metadata": {},
     "output_type": "execute_result"
    },
    {
     "data": {
      "text/plain": [
       "'C:/Users/khanh/code/DATA_SCIENCE/data/clean_images/test/labels/9604.txt'"
      ]
     },
     "execution_count": 161,
     "metadata": {},
     "output_type": "execute_result"
    },
    {
     "data": {
      "text/plain": [
       "'C:/Users/khanh/code/DATA_SCIENCE/data/clean_images/test/images/9605.jpg'"
      ]
     },
     "execution_count": 161,
     "metadata": {},
     "output_type": "execute_result"
    },
    {
     "data": {
      "text/plain": [
       "'C:/Users/khanh/code/DATA_SCIENCE/data/clean_images/test/labels/9605.txt'"
      ]
     },
     "execution_count": 161,
     "metadata": {},
     "output_type": "execute_result"
    },
    {
     "data": {
      "text/plain": [
       "'C:/Users/khanh/code/DATA_SCIENCE/data/clean_images/test/images/33910.jpg'"
      ]
     },
     "execution_count": 161,
     "metadata": {},
     "output_type": "execute_result"
    },
    {
     "data": {
      "text/plain": [
       "'C:/Users/khanh/code/DATA_SCIENCE/data/clean_images/test/labels/33910.txt'"
      ]
     },
     "execution_count": 161,
     "metadata": {},
     "output_type": "execute_result"
    },
    {
     "data": {
      "text/plain": [
       "'C:/Users/khanh/code/DATA_SCIENCE/data/clean_images/test/images/33912.jpg'"
      ]
     },
     "execution_count": 161,
     "metadata": {},
     "output_type": "execute_result"
    },
    {
     "data": {
      "text/plain": [
       "'C:/Users/khanh/code/DATA_SCIENCE/data/clean_images/test/labels/33912.txt'"
      ]
     },
     "execution_count": 161,
     "metadata": {},
     "output_type": "execute_result"
    },
    {
     "data": {
      "text/plain": [
       "'C:/Users/khanh/code/DATA_SCIENCE/data/clean_images/test/images/33914.jpg'"
      ]
     },
     "execution_count": 161,
     "metadata": {},
     "output_type": "execute_result"
    },
    {
     "data": {
      "text/plain": [
       "'C:/Users/khanh/code/DATA_SCIENCE/data/clean_images/test/labels/33914.txt'"
      ]
     },
     "execution_count": 161,
     "metadata": {},
     "output_type": "execute_result"
    },
    {
     "data": {
      "text/plain": [
       "'C:/Users/khanh/code/DATA_SCIENCE/data/clean_images/test/images/3427.jpg'"
      ]
     },
     "execution_count": 161,
     "metadata": {},
     "output_type": "execute_result"
    },
    {
     "data": {
      "text/plain": [
       "'C:/Users/khanh/code/DATA_SCIENCE/data/clean_images/test/labels/3427.txt'"
      ]
     },
     "execution_count": 161,
     "metadata": {},
     "output_type": "execute_result"
    },
    {
     "data": {
      "text/plain": [
       "'C:/Users/khanh/code/DATA_SCIENCE/data/clean_images/test/images/3428.jpg'"
      ]
     },
     "execution_count": 161,
     "metadata": {},
     "output_type": "execute_result"
    },
    {
     "data": {
      "text/plain": [
       "'C:/Users/khanh/code/DATA_SCIENCE/data/clean_images/test/labels/3428.txt'"
      ]
     },
     "execution_count": 161,
     "metadata": {},
     "output_type": "execute_result"
    },
    {
     "data": {
      "text/plain": [
       "'C:/Users/khanh/code/DATA_SCIENCE/data/clean_images/test/images/3431.jpg'"
      ]
     },
     "execution_count": 161,
     "metadata": {},
     "output_type": "execute_result"
    },
    {
     "data": {
      "text/plain": [
       "'C:/Users/khanh/code/DATA_SCIENCE/data/clean_images/test/labels/3431.txt'"
      ]
     },
     "execution_count": 161,
     "metadata": {},
     "output_type": "execute_result"
    },
    {
     "data": {
      "text/plain": [
       "'C:/Users/khanh/code/DATA_SCIENCE/data/clean_images/test/images/49404.jpg'"
      ]
     },
     "execution_count": 161,
     "metadata": {},
     "output_type": "execute_result"
    },
    {
     "data": {
      "text/plain": [
       "'C:/Users/khanh/code/DATA_SCIENCE/data/clean_images/test/labels/49404.txt'"
      ]
     },
     "execution_count": 161,
     "metadata": {},
     "output_type": "execute_result"
    },
    {
     "data": {
      "text/plain": [
       "'C:/Users/khanh/code/DATA_SCIENCE/data/clean_images/test/images/49405.jpg'"
      ]
     },
     "execution_count": 161,
     "metadata": {},
     "output_type": "execute_result"
    },
    {
     "data": {
      "text/plain": [
       "'C:/Users/khanh/code/DATA_SCIENCE/data/clean_images/test/labels/49405.txt'"
      ]
     },
     "execution_count": 161,
     "metadata": {},
     "output_type": "execute_result"
    },
    {
     "data": {
      "text/plain": [
       "'C:/Users/khanh/code/DATA_SCIENCE/data/clean_images/test/images/49406.jpg'"
      ]
     },
     "execution_count": 161,
     "metadata": {},
     "output_type": "execute_result"
    },
    {
     "data": {
      "text/plain": [
       "'C:/Users/khanh/code/DATA_SCIENCE/data/clean_images/test/labels/49406.txt'"
      ]
     },
     "execution_count": 161,
     "metadata": {},
     "output_type": "execute_result"
    },
    {
     "data": {
      "text/plain": [
       "'C:/Users/khanh/code/DATA_SCIENCE/data/clean_images/test/images/52443.jpg'"
      ]
     },
     "execution_count": 161,
     "metadata": {},
     "output_type": "execute_result"
    },
    {
     "data": {
      "text/plain": [
       "'C:/Users/khanh/code/DATA_SCIENCE/data/clean_images/test/labels/52443.txt'"
      ]
     },
     "execution_count": 161,
     "metadata": {},
     "output_type": "execute_result"
    },
    {
     "data": {
      "text/plain": [
       "'C:/Users/khanh/code/DATA_SCIENCE/data/clean_images/test/images/52444.jpg'"
      ]
     },
     "execution_count": 161,
     "metadata": {},
     "output_type": "execute_result"
    },
    {
     "data": {
      "text/plain": [
       "'C:/Users/khanh/code/DATA_SCIENCE/data/clean_images/test/labels/52444.txt'"
      ]
     },
     "execution_count": 161,
     "metadata": {},
     "output_type": "execute_result"
    },
    {
     "data": {
      "text/plain": [
       "'C:/Users/khanh/code/DATA_SCIENCE/data/clean_images/test/images/52446.jpg'"
      ]
     },
     "execution_count": 161,
     "metadata": {},
     "output_type": "execute_result"
    },
    {
     "data": {
      "text/plain": [
       "'C:/Users/khanh/code/DATA_SCIENCE/data/clean_images/test/labels/52446.txt'"
      ]
     },
     "execution_count": 161,
     "metadata": {},
     "output_type": "execute_result"
    },
    {
     "data": {
      "text/plain": [
       "'C:/Users/khanh/code/DATA_SCIENCE/data/clean_images/test/images/52447.jpg'"
      ]
     },
     "execution_count": 161,
     "metadata": {},
     "output_type": "execute_result"
    },
    {
     "data": {
      "text/plain": [
       "'C:/Users/khanh/code/DATA_SCIENCE/data/clean_images/test/labels/52447.txt'"
      ]
     },
     "execution_count": 161,
     "metadata": {},
     "output_type": "execute_result"
    },
    {
     "data": {
      "text/plain": [
       "'C:/Users/khanh/code/DATA_SCIENCE/data/clean_images/test/images/53243.jpg'"
      ]
     },
     "execution_count": 161,
     "metadata": {},
     "output_type": "execute_result"
    },
    {
     "data": {
      "text/plain": [
       "'C:/Users/khanh/code/DATA_SCIENCE/data/clean_images/test/labels/53243.txt'"
      ]
     },
     "execution_count": 161,
     "metadata": {},
     "output_type": "execute_result"
    },
    {
     "data": {
      "text/plain": [
       "'C:/Users/khanh/code/DATA_SCIENCE/data/clean_images/test/images/3467.jpg'"
      ]
     },
     "execution_count": 161,
     "metadata": {},
     "output_type": "execute_result"
    },
    {
     "data": {
      "text/plain": [
       "'C:/Users/khanh/code/DATA_SCIENCE/data/clean_images/test/labels/3467.txt'"
      ]
     },
     "execution_count": 161,
     "metadata": {},
     "output_type": "execute_result"
    },
    {
     "data": {
      "text/plain": [
       "'C:/Users/khanh/code/DATA_SCIENCE/data/clean_images/test/images/3468.jpg'"
      ]
     },
     "execution_count": 161,
     "metadata": {},
     "output_type": "execute_result"
    },
    {
     "data": {
      "text/plain": [
       "'C:/Users/khanh/code/DATA_SCIENCE/data/clean_images/test/labels/3468.txt'"
      ]
     },
     "execution_count": 161,
     "metadata": {},
     "output_type": "execute_result"
    },
    {
     "data": {
      "text/plain": [
       "'C:/Users/khanh/code/DATA_SCIENCE/data/clean_images/test/images/3470.jpg'"
      ]
     },
     "execution_count": 161,
     "metadata": {},
     "output_type": "execute_result"
    },
    {
     "data": {
      "text/plain": [
       "'C:/Users/khanh/code/DATA_SCIENCE/data/clean_images/test/labels/3470.txt'"
      ]
     },
     "execution_count": 161,
     "metadata": {},
     "output_type": "execute_result"
    },
    {
     "data": {
      "text/plain": [
       "'C:/Users/khanh/code/DATA_SCIENCE/data/clean_images/test/images/3471.jpg'"
      ]
     },
     "execution_count": 161,
     "metadata": {},
     "output_type": "execute_result"
    },
    {
     "data": {
      "text/plain": [
       "'C:/Users/khanh/code/DATA_SCIENCE/data/clean_images/test/labels/3471.txt'"
      ]
     },
     "execution_count": 161,
     "metadata": {},
     "output_type": "execute_result"
    },
    {
     "data": {
      "text/plain": [
       "'C:/Users/khanh/code/DATA_SCIENCE/data/clean_images/test/images/28260.jpg'"
      ]
     },
     "execution_count": 161,
     "metadata": {},
     "output_type": "execute_result"
    },
    {
     "data": {
      "text/plain": [
       "'C:/Users/khanh/code/DATA_SCIENCE/data/clean_images/test/labels/28260.txt'"
      ]
     },
     "execution_count": 161,
     "metadata": {},
     "output_type": "execute_result"
    },
    {
     "data": {
      "text/plain": [
       "'C:/Users/khanh/code/DATA_SCIENCE/data/clean_images/test/images/28261.jpg'"
      ]
     },
     "execution_count": 161,
     "metadata": {},
     "output_type": "execute_result"
    },
    {
     "data": {
      "text/plain": [
       "'C:/Users/khanh/code/DATA_SCIENCE/data/clean_images/test/labels/28261.txt'"
      ]
     },
     "execution_count": 161,
     "metadata": {},
     "output_type": "execute_result"
    },
    {
     "data": {
      "text/plain": [
       "'C:/Users/khanh/code/DATA_SCIENCE/data/clean_images/test/images/28262.jpg'"
      ]
     },
     "execution_count": 161,
     "metadata": {},
     "output_type": "execute_result"
    },
    {
     "data": {
      "text/plain": [
       "'C:/Users/khanh/code/DATA_SCIENCE/data/clean_images/test/labels/28262.txt'"
      ]
     },
     "execution_count": 161,
     "metadata": {},
     "output_type": "execute_result"
    },
    {
     "data": {
      "text/plain": [
       "'C:/Users/khanh/code/DATA_SCIENCE/data/clean_images/test/images/28263.jpg'"
      ]
     },
     "execution_count": 161,
     "metadata": {},
     "output_type": "execute_result"
    },
    {
     "data": {
      "text/plain": [
       "'C:/Users/khanh/code/DATA_SCIENCE/data/clean_images/test/labels/28263.txt'"
      ]
     },
     "execution_count": 161,
     "metadata": {},
     "output_type": "execute_result"
    },
    {
     "data": {
      "text/plain": [
       "'C:/Users/khanh/code/DATA_SCIENCE/data/clean_images/test/images/45918.jpg'"
      ]
     },
     "execution_count": 161,
     "metadata": {},
     "output_type": "execute_result"
    },
    {
     "data": {
      "text/plain": [
       "'C:/Users/khanh/code/DATA_SCIENCE/data/clean_images/test/labels/45918.txt'"
      ]
     },
     "execution_count": 161,
     "metadata": {},
     "output_type": "execute_result"
    },
    {
     "data": {
      "text/plain": [
       "'C:/Users/khanh/code/DATA_SCIENCE/data/clean_images/test/images/45920.jpg'"
      ]
     },
     "execution_count": 161,
     "metadata": {},
     "output_type": "execute_result"
    },
    {
     "data": {
      "text/plain": [
       "'C:/Users/khanh/code/DATA_SCIENCE/data/clean_images/test/labels/45920.txt'"
      ]
     },
     "execution_count": 161,
     "metadata": {},
     "output_type": "execute_result"
    },
    {
     "data": {
      "text/plain": [
       "'C:/Users/khanh/code/DATA_SCIENCE/data/clean_images/test/images/45921.jpg'"
      ]
     },
     "execution_count": 161,
     "metadata": {},
     "output_type": "execute_result"
    },
    {
     "data": {
      "text/plain": [
       "'C:/Users/khanh/code/DATA_SCIENCE/data/clean_images/test/labels/45921.txt'"
      ]
     },
     "execution_count": 161,
     "metadata": {},
     "output_type": "execute_result"
    },
    {
     "data": {
      "text/plain": [
       "'C:/Users/khanh/code/DATA_SCIENCE/data/clean_images/test/images/45922.jpg'"
      ]
     },
     "execution_count": 161,
     "metadata": {},
     "output_type": "execute_result"
    },
    {
     "data": {
      "text/plain": [
       "'C:/Users/khanh/code/DATA_SCIENCE/data/clean_images/test/labels/45922.txt'"
      ]
     },
     "execution_count": 161,
     "metadata": {},
     "output_type": "execute_result"
    },
    {
     "data": {
      "text/plain": [
       "'C:/Users/khanh/code/DATA_SCIENCE/data/clean_images/test/images/3053.jpg'"
      ]
     },
     "execution_count": 161,
     "metadata": {},
     "output_type": "execute_result"
    },
    {
     "data": {
      "text/plain": [
       "'C:/Users/khanh/code/DATA_SCIENCE/data/clean_images/test/labels/3053.txt'"
      ]
     },
     "execution_count": 161,
     "metadata": {},
     "output_type": "execute_result"
    },
    {
     "data": {
      "text/plain": [
       "'C:/Users/khanh/code/DATA_SCIENCE/data/clean_images/test/images/3054.jpg'"
      ]
     },
     "execution_count": 161,
     "metadata": {},
     "output_type": "execute_result"
    },
    {
     "data": {
      "text/plain": [
       "'C:/Users/khanh/code/DATA_SCIENCE/data/clean_images/test/labels/3054.txt'"
      ]
     },
     "execution_count": 161,
     "metadata": {},
     "output_type": "execute_result"
    },
    {
     "data": {
      "text/plain": [
       "'C:/Users/khanh/code/DATA_SCIENCE/data/clean_images/test/images/3055.jpg'"
      ]
     },
     "execution_count": 161,
     "metadata": {},
     "output_type": "execute_result"
    },
    {
     "data": {
      "text/plain": [
       "'C:/Users/khanh/code/DATA_SCIENCE/data/clean_images/test/labels/3055.txt'"
      ]
     },
     "execution_count": 161,
     "metadata": {},
     "output_type": "execute_result"
    },
    {
     "data": {
      "text/plain": [
       "'C:/Users/khanh/code/DATA_SCIENCE/data/clean_images/test/images/3056.jpg'"
      ]
     },
     "execution_count": 161,
     "metadata": {},
     "output_type": "execute_result"
    },
    {
     "data": {
      "text/plain": [
       "'C:/Users/khanh/code/DATA_SCIENCE/data/clean_images/test/labels/3056.txt'"
      ]
     },
     "execution_count": 161,
     "metadata": {},
     "output_type": "execute_result"
    },
    {
     "data": {
      "text/plain": [
       "'C:/Users/khanh/code/DATA_SCIENCE/data/clean_images/test/images/3057.jpg'"
      ]
     },
     "execution_count": 161,
     "metadata": {},
     "output_type": "execute_result"
    },
    {
     "data": {
      "text/plain": [
       "'C:/Users/khanh/code/DATA_SCIENCE/data/clean_images/test/labels/3057.txt'"
      ]
     },
     "execution_count": 161,
     "metadata": {},
     "output_type": "execute_result"
    },
    {
     "data": {
      "text/plain": [
       "'C:/Users/khanh/code/DATA_SCIENCE/data/clean_images/test/images/3058.jpg'"
      ]
     },
     "execution_count": 161,
     "metadata": {},
     "output_type": "execute_result"
    },
    {
     "data": {
      "text/plain": [
       "'C:/Users/khanh/code/DATA_SCIENCE/data/clean_images/test/labels/3058.txt'"
      ]
     },
     "execution_count": 161,
     "metadata": {},
     "output_type": "execute_result"
    },
    {
     "data": {
      "text/plain": [
       "'C:/Users/khanh/code/DATA_SCIENCE/data/clean_images/test/images/48771.jpg'"
      ]
     },
     "execution_count": 161,
     "metadata": {},
     "output_type": "execute_result"
    },
    {
     "data": {
      "text/plain": [
       "'C:/Users/khanh/code/DATA_SCIENCE/data/clean_images/test/labels/48771.txt'"
      ]
     },
     "execution_count": 161,
     "metadata": {},
     "output_type": "execute_result"
    },
    {
     "data": {
      "text/plain": [
       "'C:/Users/khanh/code/DATA_SCIENCE/data/clean_images/test/images/48772.jpg'"
      ]
     },
     "execution_count": 161,
     "metadata": {},
     "output_type": "execute_result"
    },
    {
     "data": {
      "text/plain": [
       "'C:/Users/khanh/code/DATA_SCIENCE/data/clean_images/test/labels/48772.txt'"
      ]
     },
     "execution_count": 161,
     "metadata": {},
     "output_type": "execute_result"
    },
    {
     "data": {
      "text/plain": [
       "'C:/Users/khanh/code/DATA_SCIENCE/data/clean_images/test/images/48773.jpg'"
      ]
     },
     "execution_count": 161,
     "metadata": {},
     "output_type": "execute_result"
    },
    {
     "data": {
      "text/plain": [
       "'C:/Users/khanh/code/DATA_SCIENCE/data/clean_images/test/labels/48773.txt'"
      ]
     },
     "execution_count": 161,
     "metadata": {},
     "output_type": "execute_result"
    },
    {
     "data": {
      "text/plain": [
       "'C:/Users/khanh/code/DATA_SCIENCE/data/clean_images/test/images/48775.jpg'"
      ]
     },
     "execution_count": 161,
     "metadata": {},
     "output_type": "execute_result"
    },
    {
     "data": {
      "text/plain": [
       "'C:/Users/khanh/code/DATA_SCIENCE/data/clean_images/test/labels/48775.txt'"
      ]
     },
     "execution_count": 161,
     "metadata": {},
     "output_type": "execute_result"
    },
    {
     "data": {
      "text/plain": [
       "'C:/Users/khanh/code/DATA_SCIENCE/data/clean_images/test/images/42098.jpg'"
      ]
     },
     "execution_count": 161,
     "metadata": {},
     "output_type": "execute_result"
    },
    {
     "data": {
      "text/plain": [
       "'C:/Users/khanh/code/DATA_SCIENCE/data/clean_images/test/labels/42098.txt'"
      ]
     },
     "execution_count": 161,
     "metadata": {},
     "output_type": "execute_result"
    },
    {
     "data": {
      "text/plain": [
       "'C:/Users/khanh/code/DATA_SCIENCE/data/clean_images/test/images/42099.jpg'"
      ]
     },
     "execution_count": 161,
     "metadata": {},
     "output_type": "execute_result"
    },
    {
     "data": {
      "text/plain": [
       "'C:/Users/khanh/code/DATA_SCIENCE/data/clean_images/test/labels/42099.txt'"
      ]
     },
     "execution_count": 161,
     "metadata": {},
     "output_type": "execute_result"
    },
    {
     "data": {
      "text/plain": [
       "'C:/Users/khanh/code/DATA_SCIENCE/data/clean_images/test/images/31199.jpg'"
      ]
     },
     "execution_count": 161,
     "metadata": {},
     "output_type": "execute_result"
    },
    {
     "data": {
      "text/plain": [
       "'C:/Users/khanh/code/DATA_SCIENCE/data/clean_images/test/labels/31199.txt'"
      ]
     },
     "execution_count": 161,
     "metadata": {},
     "output_type": "execute_result"
    },
    {
     "data": {
      "text/plain": [
       "'C:/Users/khanh/code/DATA_SCIENCE/data/clean_images/test/images/31201.jpg'"
      ]
     },
     "execution_count": 161,
     "metadata": {},
     "output_type": "execute_result"
    },
    {
     "data": {
      "text/plain": [
       "'C:/Users/khanh/code/DATA_SCIENCE/data/clean_images/test/labels/31201.txt'"
      ]
     },
     "execution_count": 161,
     "metadata": {},
     "output_type": "execute_result"
    },
    {
     "data": {
      "text/plain": [
       "'C:/Users/khanh/code/DATA_SCIENCE/data/clean_images/test/images/20534.jpg'"
      ]
     },
     "execution_count": 161,
     "metadata": {},
     "output_type": "execute_result"
    },
    {
     "data": {
      "text/plain": [
       "'C:/Users/khanh/code/DATA_SCIENCE/data/clean_images/test/labels/20534.txt'"
      ]
     },
     "execution_count": 161,
     "metadata": {},
     "output_type": "execute_result"
    },
    {
     "data": {
      "text/plain": [
       "'C:/Users/khanh/code/DATA_SCIENCE/data/clean_images/test/images/20536.jpg'"
      ]
     },
     "execution_count": 161,
     "metadata": {},
     "output_type": "execute_result"
    },
    {
     "data": {
      "text/plain": [
       "'C:/Users/khanh/code/DATA_SCIENCE/data/clean_images/test/labels/20536.txt'"
      ]
     },
     "execution_count": 161,
     "metadata": {},
     "output_type": "execute_result"
    },
    {
     "data": {
      "text/plain": [
       "'C:/Users/khanh/code/DATA_SCIENCE/data/clean_images/test/images/20538.jpg'"
      ]
     },
     "execution_count": 161,
     "metadata": {},
     "output_type": "execute_result"
    },
    {
     "data": {
      "text/plain": [
       "'C:/Users/khanh/code/DATA_SCIENCE/data/clean_images/test/labels/20538.txt'"
      ]
     },
     "execution_count": 161,
     "metadata": {},
     "output_type": "execute_result"
    },
    {
     "data": {
      "text/plain": [
       "'C:/Users/khanh/code/DATA_SCIENCE/data/clean_images/test/images/20539.jpg'"
      ]
     },
     "execution_count": 161,
     "metadata": {},
     "output_type": "execute_result"
    },
    {
     "data": {
      "text/plain": [
       "'C:/Users/khanh/code/DATA_SCIENCE/data/clean_images/test/labels/20539.txt'"
      ]
     },
     "execution_count": 161,
     "metadata": {},
     "output_type": "execute_result"
    },
    {
     "data": {
      "text/plain": [
       "'C:/Users/khanh/code/DATA_SCIENCE/data/clean_images/test/images/46501.jpg'"
      ]
     },
     "execution_count": 161,
     "metadata": {},
     "output_type": "execute_result"
    },
    {
     "data": {
      "text/plain": [
       "'C:/Users/khanh/code/DATA_SCIENCE/data/clean_images/test/labels/46501.txt'"
      ]
     },
     "execution_count": 161,
     "metadata": {},
     "output_type": "execute_result"
    },
    {
     "data": {
      "text/plain": [
       "'C:/Users/khanh/code/DATA_SCIENCE/data/clean_images/test/images/46503.jpg'"
      ]
     },
     "execution_count": 161,
     "metadata": {},
     "output_type": "execute_result"
    },
    {
     "data": {
      "text/plain": [
       "'C:/Users/khanh/code/DATA_SCIENCE/data/clean_images/test/labels/46503.txt'"
      ]
     },
     "execution_count": 161,
     "metadata": {},
     "output_type": "execute_result"
    },
    {
     "data": {
      "text/plain": [
       "'C:/Users/khanh/code/DATA_SCIENCE/data/clean_images/test/images/46504.jpg'"
      ]
     },
     "execution_count": 161,
     "metadata": {},
     "output_type": "execute_result"
    },
    {
     "data": {
      "text/plain": [
       "'C:/Users/khanh/code/DATA_SCIENCE/data/clean_images/test/labels/46504.txt'"
      ]
     },
     "execution_count": 161,
     "metadata": {},
     "output_type": "execute_result"
    },
    {
     "data": {
      "text/plain": [
       "'C:/Users/khanh/code/DATA_SCIENCE/data/clean_images/test/images/46505.jpg'"
      ]
     },
     "execution_count": 161,
     "metadata": {},
     "output_type": "execute_result"
    },
    {
     "data": {
      "text/plain": [
       "'C:/Users/khanh/code/DATA_SCIENCE/data/clean_images/test/labels/46505.txt'"
      ]
     },
     "execution_count": 161,
     "metadata": {},
     "output_type": "execute_result"
    },
    {
     "data": {
      "text/plain": [
       "'C:/Users/khanh/code/DATA_SCIENCE/data/clean_images/test/images/10507.jpg'"
      ]
     },
     "execution_count": 161,
     "metadata": {},
     "output_type": "execute_result"
    },
    {
     "data": {
      "text/plain": [
       "'C:/Users/khanh/code/DATA_SCIENCE/data/clean_images/test/labels/10507.txt'"
      ]
     },
     "execution_count": 161,
     "metadata": {},
     "output_type": "execute_result"
    },
    {
     "data": {
      "text/plain": [
       "'C:/Users/khanh/code/DATA_SCIENCE/data/clean_images/test/images/10510.jpg'"
      ]
     },
     "execution_count": 161,
     "metadata": {},
     "output_type": "execute_result"
    },
    {
     "data": {
      "text/plain": [
       "'C:/Users/khanh/code/DATA_SCIENCE/data/clean_images/test/labels/10510.txt'"
      ]
     },
     "execution_count": 161,
     "metadata": {},
     "output_type": "execute_result"
    },
    {
     "data": {
      "text/plain": [
       "'C:/Users/khanh/code/DATA_SCIENCE/data/clean_images/test/images/10512.jpg'"
      ]
     },
     "execution_count": 161,
     "metadata": {},
     "output_type": "execute_result"
    },
    {
     "data": {
      "text/plain": [
       "'C:/Users/khanh/code/DATA_SCIENCE/data/clean_images/test/labels/10512.txt'"
      ]
     },
     "execution_count": 161,
     "metadata": {},
     "output_type": "execute_result"
    },
    {
     "data": {
      "text/plain": [
       "'C:/Users/khanh/code/DATA_SCIENCE/data/clean_images/test/images/10761.jpg'"
      ]
     },
     "execution_count": 161,
     "metadata": {},
     "output_type": "execute_result"
    },
    {
     "data": {
      "text/plain": [
       "'C:/Users/khanh/code/DATA_SCIENCE/data/clean_images/test/labels/10761.txt'"
      ]
     },
     "execution_count": 161,
     "metadata": {},
     "output_type": "execute_result"
    },
    {
     "data": {
      "text/plain": [
       "'C:/Users/khanh/code/DATA_SCIENCE/data/clean_images/test/images/27139.jpg'"
      ]
     },
     "execution_count": 161,
     "metadata": {},
     "output_type": "execute_result"
    },
    {
     "data": {
      "text/plain": [
       "'C:/Users/khanh/code/DATA_SCIENCE/data/clean_images/test/labels/27139.txt'"
      ]
     },
     "execution_count": 161,
     "metadata": {},
     "output_type": "execute_result"
    },
    {
     "data": {
      "text/plain": [
       "'C:/Users/khanh/code/DATA_SCIENCE/data/clean_images/test/images/4965.jpg'"
      ]
     },
     "execution_count": 161,
     "metadata": {},
     "output_type": "execute_result"
    },
    {
     "data": {
      "text/plain": [
       "'C:/Users/khanh/code/DATA_SCIENCE/data/clean_images/test/labels/4965.txt'"
      ]
     },
     "execution_count": 161,
     "metadata": {},
     "output_type": "execute_result"
    },
    {
     "data": {
      "text/plain": [
       "'C:/Users/khanh/code/DATA_SCIENCE/data/clean_images/test/images/4966.jpg'"
      ]
     },
     "execution_count": 161,
     "metadata": {},
     "output_type": "execute_result"
    },
    {
     "data": {
      "text/plain": [
       "'C:/Users/khanh/code/DATA_SCIENCE/data/clean_images/test/labels/4966.txt'"
      ]
     },
     "execution_count": 161,
     "metadata": {},
     "output_type": "execute_result"
    },
    {
     "data": {
      "text/plain": [
       "'C:/Users/khanh/code/DATA_SCIENCE/data/clean_images/test/images/4967.jpg'"
      ]
     },
     "execution_count": 161,
     "metadata": {},
     "output_type": "execute_result"
    },
    {
     "data": {
      "text/plain": [
       "'C:/Users/khanh/code/DATA_SCIENCE/data/clean_images/test/labels/4967.txt'"
      ]
     },
     "execution_count": 161,
     "metadata": {},
     "output_type": "execute_result"
    },
    {
     "data": {
      "text/plain": [
       "'C:/Users/khanh/code/DATA_SCIENCE/data/clean_images/test/images/4968.jpg'"
      ]
     },
     "execution_count": 161,
     "metadata": {},
     "output_type": "execute_result"
    },
    {
     "data": {
      "text/plain": [
       "'C:/Users/khanh/code/DATA_SCIENCE/data/clean_images/test/labels/4968.txt'"
      ]
     },
     "execution_count": 161,
     "metadata": {},
     "output_type": "execute_result"
    },
    {
     "data": {
      "text/plain": [
       "'C:/Users/khanh/code/DATA_SCIENCE/data/clean_images/test/images/53565.jpg'"
      ]
     },
     "execution_count": 161,
     "metadata": {},
     "output_type": "execute_result"
    },
    {
     "data": {
      "text/plain": [
       "'C:/Users/khanh/code/DATA_SCIENCE/data/clean_images/test/labels/53565.txt'"
      ]
     },
     "execution_count": 161,
     "metadata": {},
     "output_type": "execute_result"
    },
    {
     "data": {
      "text/plain": [
       "'C:/Users/khanh/code/DATA_SCIENCE/data/clean_images/test/images/23266.jpg'"
      ]
     },
     "execution_count": 161,
     "metadata": {},
     "output_type": "execute_result"
    },
    {
     "data": {
      "text/plain": [
       "'C:/Users/khanh/code/DATA_SCIENCE/data/clean_images/test/labels/23266.txt'"
      ]
     },
     "execution_count": 161,
     "metadata": {},
     "output_type": "execute_result"
    },
    {
     "data": {
      "text/plain": [
       "'C:/Users/khanh/code/DATA_SCIENCE/data/clean_images/test/images/23267.jpg'"
      ]
     },
     "execution_count": 161,
     "metadata": {},
     "output_type": "execute_result"
    },
    {
     "data": {
      "text/plain": [
       "'C:/Users/khanh/code/DATA_SCIENCE/data/clean_images/test/labels/23267.txt'"
      ]
     },
     "execution_count": 161,
     "metadata": {},
     "output_type": "execute_result"
    },
    {
     "data": {
      "text/plain": [
       "'C:/Users/khanh/code/DATA_SCIENCE/data/clean_images/test/images/23268.jpg'"
      ]
     },
     "execution_count": 161,
     "metadata": {},
     "output_type": "execute_result"
    },
    {
     "data": {
      "text/plain": [
       "'C:/Users/khanh/code/DATA_SCIENCE/data/clean_images/test/labels/23268.txt'"
      ]
     },
     "execution_count": 161,
     "metadata": {},
     "output_type": "execute_result"
    },
    {
     "data": {
      "text/plain": [
       "'C:/Users/khanh/code/DATA_SCIENCE/data/clean_images/test/images/16271.jpg'"
      ]
     },
     "execution_count": 161,
     "metadata": {},
     "output_type": "execute_result"
    },
    {
     "data": {
      "text/plain": [
       "'C:/Users/khanh/code/DATA_SCIENCE/data/clean_images/test/labels/16271.txt'"
      ]
     },
     "execution_count": 161,
     "metadata": {},
     "output_type": "execute_result"
    },
    {
     "data": {
      "text/plain": [
       "'C:/Users/khanh/code/DATA_SCIENCE/data/clean_images/test/images/16274.jpg'"
      ]
     },
     "execution_count": 161,
     "metadata": {},
     "output_type": "execute_result"
    },
    {
     "data": {
      "text/plain": [
       "'C:/Users/khanh/code/DATA_SCIENCE/data/clean_images/test/labels/16274.txt'"
      ]
     },
     "execution_count": 161,
     "metadata": {},
     "output_type": "execute_result"
    },
    {
     "data": {
      "text/plain": [
       "'C:/Users/khanh/code/DATA_SCIENCE/data/clean_images/test/images/40764.jpg'"
      ]
     },
     "execution_count": 161,
     "metadata": {},
     "output_type": "execute_result"
    },
    {
     "data": {
      "text/plain": [
       "'C:/Users/khanh/code/DATA_SCIENCE/data/clean_images/test/labels/40764.txt'"
      ]
     },
     "execution_count": 161,
     "metadata": {},
     "output_type": "execute_result"
    },
    {
     "data": {
      "text/plain": [
       "'C:/Users/khanh/code/DATA_SCIENCE/data/clean_images/test/images/40765.jpg'"
      ]
     },
     "execution_count": 161,
     "metadata": {},
     "output_type": "execute_result"
    },
    {
     "data": {
      "text/plain": [
       "'C:/Users/khanh/code/DATA_SCIENCE/data/clean_images/test/labels/40765.txt'"
      ]
     },
     "execution_count": 161,
     "metadata": {},
     "output_type": "execute_result"
    },
    {
     "data": {
      "text/plain": [
       "'C:/Users/khanh/code/DATA_SCIENCE/data/clean_images/test/images/29589.jpg'"
      ]
     },
     "execution_count": 161,
     "metadata": {},
     "output_type": "execute_result"
    },
    {
     "data": {
      "text/plain": [
       "'C:/Users/khanh/code/DATA_SCIENCE/data/clean_images/test/labels/29589.txt'"
      ]
     },
     "execution_count": 161,
     "metadata": {},
     "output_type": "execute_result"
    },
    {
     "data": {
      "text/plain": [
       "'C:/Users/khanh/code/DATA_SCIENCE/data/clean_images/test/images/29590.jpg'"
      ]
     },
     "execution_count": 161,
     "metadata": {},
     "output_type": "execute_result"
    },
    {
     "data": {
      "text/plain": [
       "'C:/Users/khanh/code/DATA_SCIENCE/data/clean_images/test/labels/29590.txt'"
      ]
     },
     "execution_count": 161,
     "metadata": {},
     "output_type": "execute_result"
    },
    {
     "data": {
      "text/plain": [
       "'C:/Users/khanh/code/DATA_SCIENCE/data/clean_images/test/images/21762.jpg'"
      ]
     },
     "execution_count": 161,
     "metadata": {},
     "output_type": "execute_result"
    },
    {
     "data": {
      "text/plain": [
       "'C:/Users/khanh/code/DATA_SCIENCE/data/clean_images/test/labels/21762.txt'"
      ]
     },
     "execution_count": 161,
     "metadata": {},
     "output_type": "execute_result"
    },
    {
     "data": {
      "text/plain": [
       "'C:/Users/khanh/code/DATA_SCIENCE/data/clean_images/test/images/44311.jpg'"
      ]
     },
     "execution_count": 161,
     "metadata": {},
     "output_type": "execute_result"
    },
    {
     "data": {
      "text/plain": [
       "'C:/Users/khanh/code/DATA_SCIENCE/data/clean_images/test/labels/44311.txt'"
      ]
     },
     "execution_count": 161,
     "metadata": {},
     "output_type": "execute_result"
    },
    {
     "data": {
      "text/plain": [
       "'C:/Users/khanh/code/DATA_SCIENCE/data/clean_images/test/images/44312.jpg'"
      ]
     },
     "execution_count": 161,
     "metadata": {},
     "output_type": "execute_result"
    },
    {
     "data": {
      "text/plain": [
       "'C:/Users/khanh/code/DATA_SCIENCE/data/clean_images/test/labels/44312.txt'"
      ]
     },
     "execution_count": 161,
     "metadata": {},
     "output_type": "execute_result"
    },
    {
     "data": {
      "text/plain": [
       "'C:/Users/khanh/code/DATA_SCIENCE/data/clean_images/test/images/44314.jpg'"
      ]
     },
     "execution_count": 161,
     "metadata": {},
     "output_type": "execute_result"
    },
    {
     "data": {
      "text/plain": [
       "'C:/Users/khanh/code/DATA_SCIENCE/data/clean_images/test/labels/44314.txt'"
      ]
     },
     "execution_count": 161,
     "metadata": {},
     "output_type": "execute_result"
    },
    {
     "data": {
      "text/plain": [
       "'C:/Users/khanh/code/DATA_SCIENCE/data/clean_images/test/images/44315.jpg'"
      ]
     },
     "execution_count": 161,
     "metadata": {},
     "output_type": "execute_result"
    },
    {
     "data": {
      "text/plain": [
       "'C:/Users/khanh/code/DATA_SCIENCE/data/clean_images/test/labels/44315.txt'"
      ]
     },
     "execution_count": 161,
     "metadata": {},
     "output_type": "execute_result"
    },
    {
     "data": {
      "text/plain": [
       "'C:/Users/khanh/code/DATA_SCIENCE/data/clean_images/test/images/2514.jpg'"
      ]
     },
     "execution_count": 161,
     "metadata": {},
     "output_type": "execute_result"
    },
    {
     "data": {
      "text/plain": [
       "'C:/Users/khanh/code/DATA_SCIENCE/data/clean_images/test/labels/2514.txt'"
      ]
     },
     "execution_count": 161,
     "metadata": {},
     "output_type": "execute_result"
    },
    {
     "data": {
      "text/plain": [
       "'C:/Users/khanh/code/DATA_SCIENCE/data/clean_images/test/images/2515.jpg'"
      ]
     },
     "execution_count": 161,
     "metadata": {},
     "output_type": "execute_result"
    },
    {
     "data": {
      "text/plain": [
       "'C:/Users/khanh/code/DATA_SCIENCE/data/clean_images/test/labels/2515.txt'"
      ]
     },
     "execution_count": 161,
     "metadata": {},
     "output_type": "execute_result"
    },
    {
     "data": {
      "text/plain": [
       "'C:/Users/khanh/code/DATA_SCIENCE/data/clean_images/test/images/2516.jpg'"
      ]
     },
     "execution_count": 161,
     "metadata": {},
     "output_type": "execute_result"
    },
    {
     "data": {
      "text/plain": [
       "'C:/Users/khanh/code/DATA_SCIENCE/data/clean_images/test/labels/2516.txt'"
      ]
     },
     "execution_count": 161,
     "metadata": {},
     "output_type": "execute_result"
    },
    {
     "data": {
      "text/plain": [
       "'C:/Users/khanh/code/DATA_SCIENCE/data/clean_images/test/images/2517.jpg'"
      ]
     },
     "execution_count": 161,
     "metadata": {},
     "output_type": "execute_result"
    },
    {
     "data": {
      "text/plain": [
       "'C:/Users/khanh/code/DATA_SCIENCE/data/clean_images/test/labels/2517.txt'"
      ]
     },
     "execution_count": 161,
     "metadata": {},
     "output_type": "execute_result"
    },
    {
     "data": {
      "text/plain": [
       "'C:/Users/khanh/code/DATA_SCIENCE/data/clean_images/test/images/49905.jpg'"
      ]
     },
     "execution_count": 161,
     "metadata": {},
     "output_type": "execute_result"
    },
    {
     "data": {
      "text/plain": [
       "'C:/Users/khanh/code/DATA_SCIENCE/data/clean_images/test/labels/49905.txt'"
      ]
     },
     "execution_count": 161,
     "metadata": {},
     "output_type": "execute_result"
    },
    {
     "data": {
      "text/plain": [
       "'C:/Users/khanh/code/DATA_SCIENCE/data/clean_images/test/images/49906.jpg'"
      ]
     },
     "execution_count": 161,
     "metadata": {},
     "output_type": "execute_result"
    },
    {
     "data": {
      "text/plain": [
       "'C:/Users/khanh/code/DATA_SCIENCE/data/clean_images/test/labels/49906.txt'"
      ]
     },
     "execution_count": 161,
     "metadata": {},
     "output_type": "execute_result"
    },
    {
     "data": {
      "text/plain": [
       "'C:/Users/khanh/code/DATA_SCIENCE/data/clean_images/test/images/49908.jpg'"
      ]
     },
     "execution_count": 161,
     "metadata": {},
     "output_type": "execute_result"
    },
    {
     "data": {
      "text/plain": [
       "'C:/Users/khanh/code/DATA_SCIENCE/data/clean_images/test/labels/49908.txt'"
      ]
     },
     "execution_count": 161,
     "metadata": {},
     "output_type": "execute_result"
    },
    {
     "data": {
      "text/plain": [
       "'C:/Users/khanh/code/DATA_SCIENCE/data/clean_images/test/images/49909.jpg'"
      ]
     },
     "execution_count": 161,
     "metadata": {},
     "output_type": "execute_result"
    },
    {
     "data": {
      "text/plain": [
       "'C:/Users/khanh/code/DATA_SCIENCE/data/clean_images/test/labels/49909.txt'"
      ]
     },
     "execution_count": 161,
     "metadata": {},
     "output_type": "execute_result"
    },
    {
     "data": {
      "text/plain": [
       "'C:/Users/khanh/code/DATA_SCIENCE/data/clean_images/test/images/48601.jpg'"
      ]
     },
     "execution_count": 161,
     "metadata": {},
     "output_type": "execute_result"
    },
    {
     "data": {
      "text/plain": [
       "'C:/Users/khanh/code/DATA_SCIENCE/data/clean_images/test/labels/48601.txt'"
      ]
     },
     "execution_count": 161,
     "metadata": {},
     "output_type": "execute_result"
    },
    {
     "data": {
      "text/plain": [
       "'C:/Users/khanh/code/DATA_SCIENCE/data/clean_images/test/images/22372.jpg'"
      ]
     },
     "execution_count": 161,
     "metadata": {},
     "output_type": "execute_result"
    },
    {
     "data": {
      "text/plain": [
       "'C:/Users/khanh/code/DATA_SCIENCE/data/clean_images/test/labels/22372.txt'"
      ]
     },
     "execution_count": 161,
     "metadata": {},
     "output_type": "execute_result"
    },
    {
     "data": {
      "text/plain": [
       "'C:/Users/khanh/code/DATA_SCIENCE/data/clean_images/test/images/22373.jpg'"
      ]
     },
     "execution_count": 161,
     "metadata": {},
     "output_type": "execute_result"
    },
    {
     "data": {
      "text/plain": [
       "'C:/Users/khanh/code/DATA_SCIENCE/data/clean_images/test/labels/22373.txt'"
      ]
     },
     "execution_count": 161,
     "metadata": {},
     "output_type": "execute_result"
    },
    {
     "data": {
      "text/plain": [
       "'C:/Users/khanh/code/DATA_SCIENCE/data/clean_images/test/images/38840.jpg'"
      ]
     },
     "execution_count": 161,
     "metadata": {},
     "output_type": "execute_result"
    },
    {
     "data": {
      "text/plain": [
       "'C:/Users/khanh/code/DATA_SCIENCE/data/clean_images/test/labels/38840.txt'"
      ]
     },
     "execution_count": 161,
     "metadata": {},
     "output_type": "execute_result"
    },
    {
     "data": {
      "text/plain": [
       "'C:/Users/khanh/code/DATA_SCIENCE/data/clean_images/test/images/38841.jpg'"
      ]
     },
     "execution_count": 161,
     "metadata": {},
     "output_type": "execute_result"
    },
    {
     "data": {
      "text/plain": [
       "'C:/Users/khanh/code/DATA_SCIENCE/data/clean_images/test/labels/38841.txt'"
      ]
     },
     "execution_count": 161,
     "metadata": {},
     "output_type": "execute_result"
    },
    {
     "data": {
      "text/plain": [
       "'C:/Users/khanh/code/DATA_SCIENCE/data/clean_images/test/images/38842.jpg'"
      ]
     },
     "execution_count": 161,
     "metadata": {},
     "output_type": "execute_result"
    },
    {
     "data": {
      "text/plain": [
       "'C:/Users/khanh/code/DATA_SCIENCE/data/clean_images/test/labels/38842.txt'"
      ]
     },
     "execution_count": 161,
     "metadata": {},
     "output_type": "execute_result"
    },
    {
     "data": {
      "text/plain": [
       "'C:/Users/khanh/code/DATA_SCIENCE/data/clean_images/test/images/38843.jpg'"
      ]
     },
     "execution_count": 161,
     "metadata": {},
     "output_type": "execute_result"
    },
    {
     "data": {
      "text/plain": [
       "'C:/Users/khanh/code/DATA_SCIENCE/data/clean_images/test/labels/38843.txt'"
      ]
     },
     "execution_count": 161,
     "metadata": {},
     "output_type": "execute_result"
    },
    {
     "data": {
      "text/plain": [
       "'C:/Users/khanh/code/DATA_SCIENCE/data/clean_images/test/images/28765.jpg'"
      ]
     },
     "execution_count": 161,
     "metadata": {},
     "output_type": "execute_result"
    },
    {
     "data": {
      "text/plain": [
       "'C:/Users/khanh/code/DATA_SCIENCE/data/clean_images/test/labels/28765.txt'"
      ]
     },
     "execution_count": 161,
     "metadata": {},
     "output_type": "execute_result"
    },
    {
     "data": {
      "text/plain": [
       "'C:/Users/khanh/code/DATA_SCIENCE/data/clean_images/test/images/28766.jpg'"
      ]
     },
     "execution_count": 161,
     "metadata": {},
     "output_type": "execute_result"
    },
    {
     "data": {
      "text/plain": [
       "'C:/Users/khanh/code/DATA_SCIENCE/data/clean_images/test/labels/28766.txt'"
      ]
     },
     "execution_count": 161,
     "metadata": {},
     "output_type": "execute_result"
    },
    {
     "data": {
      "text/plain": [
       "'C:/Users/khanh/code/DATA_SCIENCE/data/clean_images/test/images/26168.jpg'"
      ]
     },
     "execution_count": 161,
     "metadata": {},
     "output_type": "execute_result"
    },
    {
     "data": {
      "text/plain": [
       "'C:/Users/khanh/code/DATA_SCIENCE/data/clean_images/test/labels/26168.txt'"
      ]
     },
     "execution_count": 161,
     "metadata": {},
     "output_type": "execute_result"
    },
    {
     "data": {
      "text/plain": [
       "'C:/Users/khanh/code/DATA_SCIENCE/data/clean_images/test/images/26169.jpg'"
      ]
     },
     "execution_count": 161,
     "metadata": {},
     "output_type": "execute_result"
    },
    {
     "data": {
      "text/plain": [
       "'C:/Users/khanh/code/DATA_SCIENCE/data/clean_images/test/labels/26169.txt'"
      ]
     },
     "execution_count": 161,
     "metadata": {},
     "output_type": "execute_result"
    },
    {
     "data": {
      "text/plain": [
       "'C:/Users/khanh/code/DATA_SCIENCE/data/clean_images/test/images/17543.jpg'"
      ]
     },
     "execution_count": 161,
     "metadata": {},
     "output_type": "execute_result"
    },
    {
     "data": {
      "text/plain": [
       "'C:/Users/khanh/code/DATA_SCIENCE/data/clean_images/test/labels/17543.txt'"
      ]
     },
     "execution_count": 161,
     "metadata": {},
     "output_type": "execute_result"
    },
    {
     "data": {
      "text/plain": [
       "'C:/Users/khanh/code/DATA_SCIENCE/data/clean_images/test/images/48071.jpg'"
      ]
     },
     "execution_count": 161,
     "metadata": {},
     "output_type": "execute_result"
    },
    {
     "data": {
      "text/plain": [
       "'C:/Users/khanh/code/DATA_SCIENCE/data/clean_images/test/labels/48071.txt'"
      ]
     },
     "execution_count": 161,
     "metadata": {},
     "output_type": "execute_result"
    },
    {
     "data": {
      "text/plain": [
       "'C:/Users/khanh/code/DATA_SCIENCE/data/clean_images/test/images/48072.jpg'"
      ]
     },
     "execution_count": 161,
     "metadata": {},
     "output_type": "execute_result"
    },
    {
     "data": {
      "text/plain": [
       "'C:/Users/khanh/code/DATA_SCIENCE/data/clean_images/test/labels/48072.txt'"
      ]
     },
     "execution_count": 161,
     "metadata": {},
     "output_type": "execute_result"
    },
    {
     "data": {
      "text/plain": [
       "'C:/Users/khanh/code/DATA_SCIENCE/data/clean_images/test/images/48073.jpg'"
      ]
     },
     "execution_count": 161,
     "metadata": {},
     "output_type": "execute_result"
    },
    {
     "data": {
      "text/plain": [
       "'C:/Users/khanh/code/DATA_SCIENCE/data/clean_images/test/labels/48073.txt'"
      ]
     },
     "execution_count": 161,
     "metadata": {},
     "output_type": "execute_result"
    },
    {
     "data": {
      "text/plain": [
       "'C:/Users/khanh/code/DATA_SCIENCE/data/clean_images/test/images/7319.jpg'"
      ]
     },
     "execution_count": 161,
     "metadata": {},
     "output_type": "execute_result"
    },
    {
     "data": {
      "text/plain": [
       "'C:/Users/khanh/code/DATA_SCIENCE/data/clean_images/test/labels/7319.txt'"
      ]
     },
     "execution_count": 161,
     "metadata": {},
     "output_type": "execute_result"
    },
    {
     "data": {
      "text/plain": [
       "'C:/Users/khanh/code/DATA_SCIENCE/data/clean_images/test/images/7320.jpg'"
      ]
     },
     "execution_count": 161,
     "metadata": {},
     "output_type": "execute_result"
    },
    {
     "data": {
      "text/plain": [
       "'C:/Users/khanh/code/DATA_SCIENCE/data/clean_images/test/labels/7320.txt'"
      ]
     },
     "execution_count": 161,
     "metadata": {},
     "output_type": "execute_result"
    },
    {
     "data": {
      "text/plain": [
       "'C:/Users/khanh/code/DATA_SCIENCE/data/clean_images/test/images/7321.jpg'"
      ]
     },
     "execution_count": 161,
     "metadata": {},
     "output_type": "execute_result"
    },
    {
     "data": {
      "text/plain": [
       "'C:/Users/khanh/code/DATA_SCIENCE/data/clean_images/test/labels/7321.txt'"
      ]
     },
     "execution_count": 161,
     "metadata": {},
     "output_type": "execute_result"
    },
    {
     "data": {
      "text/plain": [
       "'C:/Users/khanh/code/DATA_SCIENCE/data/clean_images/test/images/28395.jpg'"
      ]
     },
     "execution_count": 161,
     "metadata": {},
     "output_type": "execute_result"
    },
    {
     "data": {
      "text/plain": [
       "'C:/Users/khanh/code/DATA_SCIENCE/data/clean_images/test/labels/28395.txt'"
      ]
     },
     "execution_count": 161,
     "metadata": {},
     "output_type": "execute_result"
    },
    {
     "data": {
      "text/plain": [
       "'C:/Users/khanh/code/DATA_SCIENCE/data/clean_images/test/images/28396.jpg'"
      ]
     },
     "execution_count": 161,
     "metadata": {},
     "output_type": "execute_result"
    },
    {
     "data": {
      "text/plain": [
       "'C:/Users/khanh/code/DATA_SCIENCE/data/clean_images/test/labels/28396.txt'"
      ]
     },
     "execution_count": 161,
     "metadata": {},
     "output_type": "execute_result"
    },
    {
     "data": {
      "text/plain": [
       "'C:/Users/khanh/code/DATA_SCIENCE/data/clean_images/test/images/36590.jpg'"
      ]
     },
     "execution_count": 161,
     "metadata": {},
     "output_type": "execute_result"
    },
    {
     "data": {
      "text/plain": [
       "'C:/Users/khanh/code/DATA_SCIENCE/data/clean_images/test/labels/36590.txt'"
      ]
     },
     "execution_count": 161,
     "metadata": {},
     "output_type": "execute_result"
    },
    {
     "data": {
      "text/plain": [
       "'C:/Users/khanh/code/DATA_SCIENCE/data/clean_images/test/images/36591.jpg'"
      ]
     },
     "execution_count": 161,
     "metadata": {},
     "output_type": "execute_result"
    },
    {
     "data": {
      "text/plain": [
       "'C:/Users/khanh/code/DATA_SCIENCE/data/clean_images/test/labels/36591.txt'"
      ]
     },
     "execution_count": 161,
     "metadata": {},
     "output_type": "execute_result"
    },
    {
     "data": {
      "text/plain": [
       "'C:/Users/khanh/code/DATA_SCIENCE/data/clean_images/test/images/36593.jpg'"
      ]
     },
     "execution_count": 161,
     "metadata": {},
     "output_type": "execute_result"
    },
    {
     "data": {
      "text/plain": [
       "'C:/Users/khanh/code/DATA_SCIENCE/data/clean_images/test/labels/36593.txt'"
      ]
     },
     "execution_count": 161,
     "metadata": {},
     "output_type": "execute_result"
    },
    {
     "data": {
      "text/plain": [
       "'C:/Users/khanh/code/DATA_SCIENCE/data/clean_images/test/images/36594.jpg'"
      ]
     },
     "execution_count": 161,
     "metadata": {},
     "output_type": "execute_result"
    },
    {
     "data": {
      "text/plain": [
       "'C:/Users/khanh/code/DATA_SCIENCE/data/clean_images/test/labels/36594.txt'"
      ]
     },
     "execution_count": 161,
     "metadata": {},
     "output_type": "execute_result"
    },
    {
     "data": {
      "text/plain": [
       "'C:/Users/khanh/code/DATA_SCIENCE/data/clean_images/test/images/31524.jpg'"
      ]
     },
     "execution_count": 161,
     "metadata": {},
     "output_type": "execute_result"
    },
    {
     "data": {
      "text/plain": [
       "'C:/Users/khanh/code/DATA_SCIENCE/data/clean_images/test/labels/31524.txt'"
      ]
     },
     "execution_count": 161,
     "metadata": {},
     "output_type": "execute_result"
    },
    {
     "data": {
      "text/plain": [
       "'C:/Users/khanh/code/DATA_SCIENCE/data/clean_images/test/images/31525.jpg'"
      ]
     },
     "execution_count": 161,
     "metadata": {},
     "output_type": "execute_result"
    },
    {
     "data": {
      "text/plain": [
       "'C:/Users/khanh/code/DATA_SCIENCE/data/clean_images/test/labels/31525.txt'"
      ]
     },
     "execution_count": 161,
     "metadata": {},
     "output_type": "execute_result"
    },
    {
     "data": {
      "text/plain": [
       "'C:/Users/khanh/code/DATA_SCIENCE/data/clean_images/test/images/31527.jpg'"
      ]
     },
     "execution_count": 161,
     "metadata": {},
     "output_type": "execute_result"
    },
    {
     "data": {
      "text/plain": [
       "'C:/Users/khanh/code/DATA_SCIENCE/data/clean_images/test/labels/31527.txt'"
      ]
     },
     "execution_count": 161,
     "metadata": {},
     "output_type": "execute_result"
    },
    {
     "data": {
      "text/plain": [
       "'C:/Users/khanh/code/DATA_SCIENCE/data/clean_images/test/images/50214.jpg'"
      ]
     },
     "execution_count": 161,
     "metadata": {},
     "output_type": "execute_result"
    },
    {
     "data": {
      "text/plain": [
       "'C:/Users/khanh/code/DATA_SCIENCE/data/clean_images/test/labels/50214.txt'"
      ]
     },
     "execution_count": 161,
     "metadata": {},
     "output_type": "execute_result"
    },
    {
     "data": {
      "text/plain": [
       "'C:/Users/khanh/code/DATA_SCIENCE/data/clean_images/test/images/2935.jpg'"
      ]
     },
     "execution_count": 161,
     "metadata": {},
     "output_type": "execute_result"
    },
    {
     "data": {
      "text/plain": [
       "'C:/Users/khanh/code/DATA_SCIENCE/data/clean_images/test/labels/2935.txt'"
      ]
     },
     "execution_count": 161,
     "metadata": {},
     "output_type": "execute_result"
    },
    {
     "data": {
      "text/plain": [
       "'C:/Users/khanh/code/DATA_SCIENCE/data/clean_images/test/images/2936.jpg'"
      ]
     },
     "execution_count": 161,
     "metadata": {},
     "output_type": "execute_result"
    },
    {
     "data": {
      "text/plain": [
       "'C:/Users/khanh/code/DATA_SCIENCE/data/clean_images/test/labels/2936.txt'"
      ]
     },
     "execution_count": 161,
     "metadata": {},
     "output_type": "execute_result"
    },
    {
     "data": {
      "text/plain": [
       "'C:/Users/khanh/code/DATA_SCIENCE/data/clean_images/test/images/2937.jpg'"
      ]
     },
     "execution_count": 161,
     "metadata": {},
     "output_type": "execute_result"
    },
    {
     "data": {
      "text/plain": [
       "'C:/Users/khanh/code/DATA_SCIENCE/data/clean_images/test/labels/2937.txt'"
      ]
     },
     "execution_count": 161,
     "metadata": {},
     "output_type": "execute_result"
    },
    {
     "data": {
      "text/plain": [
       "'C:/Users/khanh/code/DATA_SCIENCE/data/clean_images/test/images/2938.jpg'"
      ]
     },
     "execution_count": 161,
     "metadata": {},
     "output_type": "execute_result"
    },
    {
     "data": {
      "text/plain": [
       "'C:/Users/khanh/code/DATA_SCIENCE/data/clean_images/test/labels/2938.txt'"
      ]
     },
     "execution_count": 161,
     "metadata": {},
     "output_type": "execute_result"
    },
    {
     "data": {
      "text/plain": [
       "'C:/Users/khanh/code/DATA_SCIENCE/data/clean_images/test/images/2939.jpg'"
      ]
     },
     "execution_count": 161,
     "metadata": {},
     "output_type": "execute_result"
    },
    {
     "data": {
      "text/plain": [
       "'C:/Users/khanh/code/DATA_SCIENCE/data/clean_images/test/labels/2939.txt'"
      ]
     },
     "execution_count": 161,
     "metadata": {},
     "output_type": "execute_result"
    },
    {
     "data": {
      "text/plain": [
       "'C:/Users/khanh/code/DATA_SCIENCE/data/clean_images/test/images/17991.jpg'"
      ]
     },
     "execution_count": 161,
     "metadata": {},
     "output_type": "execute_result"
    },
    {
     "data": {
      "text/plain": [
       "'C:/Users/khanh/code/DATA_SCIENCE/data/clean_images/test/labels/17991.txt'"
      ]
     },
     "execution_count": 161,
     "metadata": {},
     "output_type": "execute_result"
    },
    {
     "data": {
      "text/plain": [
       "'C:/Users/khanh/code/DATA_SCIENCE/data/clean_images/test/images/17992.jpg'"
      ]
     },
     "execution_count": 161,
     "metadata": {},
     "output_type": "execute_result"
    },
    {
     "data": {
      "text/plain": [
       "'C:/Users/khanh/code/DATA_SCIENCE/data/clean_images/test/labels/17992.txt'"
      ]
     },
     "execution_count": 161,
     "metadata": {},
     "output_type": "execute_result"
    },
    {
     "data": {
      "text/plain": [
       "'C:/Users/khanh/code/DATA_SCIENCE/data/clean_images/test/images/17994.jpg'"
      ]
     },
     "execution_count": 161,
     "metadata": {},
     "output_type": "execute_result"
    },
    {
     "data": {
      "text/plain": [
       "'C:/Users/khanh/code/DATA_SCIENCE/data/clean_images/test/labels/17994.txt'"
      ]
     },
     "execution_count": 161,
     "metadata": {},
     "output_type": "execute_result"
    },
    {
     "data": {
      "text/plain": [
       "'C:/Users/khanh/code/DATA_SCIENCE/data/clean_images/test/images/17995.jpg'"
      ]
     },
     "execution_count": 161,
     "metadata": {},
     "output_type": "execute_result"
    },
    {
     "data": {
      "text/plain": [
       "'C:/Users/khanh/code/DATA_SCIENCE/data/clean_images/test/labels/17995.txt'"
      ]
     },
     "execution_count": 161,
     "metadata": {},
     "output_type": "execute_result"
    },
    {
     "data": {
      "text/plain": [
       "'C:/Users/khanh/code/DATA_SCIENCE/data/clean_images/test/images/34532.jpg'"
      ]
     },
     "execution_count": 161,
     "metadata": {},
     "output_type": "execute_result"
    },
    {
     "data": {
      "text/plain": [
       "'C:/Users/khanh/code/DATA_SCIENCE/data/clean_images/test/labels/34532.txt'"
      ]
     },
     "execution_count": 161,
     "metadata": {},
     "output_type": "execute_result"
    },
    {
     "data": {
      "text/plain": [
       "'C:/Users/khanh/code/DATA_SCIENCE/data/clean_images/test/images/6185.jpg'"
      ]
     },
     "execution_count": 161,
     "metadata": {},
     "output_type": "execute_result"
    },
    {
     "data": {
      "text/plain": [
       "'C:/Users/khanh/code/DATA_SCIENCE/data/clean_images/test/labels/6185.txt'"
      ]
     },
     "execution_count": 161,
     "metadata": {},
     "output_type": "execute_result"
    },
    {
     "data": {
      "text/plain": [
       "'C:/Users/khanh/code/DATA_SCIENCE/data/clean_images/test/images/6188.jpg'"
      ]
     },
     "execution_count": 161,
     "metadata": {},
     "output_type": "execute_result"
    },
    {
     "data": {
      "text/plain": [
       "'C:/Users/khanh/code/DATA_SCIENCE/data/clean_images/test/labels/6188.txt'"
      ]
     },
     "execution_count": 161,
     "metadata": {},
     "output_type": "execute_result"
    },
    {
     "data": {
      "text/plain": [
       "'C:/Users/khanh/code/DATA_SCIENCE/data/clean_images/test/images/16630.jpg'"
      ]
     },
     "execution_count": 161,
     "metadata": {},
     "output_type": "execute_result"
    },
    {
     "data": {
      "text/plain": [
       "'C:/Users/khanh/code/DATA_SCIENCE/data/clean_images/test/labels/16630.txt'"
      ]
     },
     "execution_count": 161,
     "metadata": {},
     "output_type": "execute_result"
    },
    {
     "data": {
      "text/plain": [
       "'C:/Users/khanh/code/DATA_SCIENCE/data/clean_images/test/images/19667.jpg'"
      ]
     },
     "execution_count": 161,
     "metadata": {},
     "output_type": "execute_result"
    },
    {
     "data": {
      "text/plain": [
       "'C:/Users/khanh/code/DATA_SCIENCE/data/clean_images/test/labels/19667.txt'"
      ]
     },
     "execution_count": 161,
     "metadata": {},
     "output_type": "execute_result"
    },
    {
     "data": {
      "text/plain": [
       "'C:/Users/khanh/code/DATA_SCIENCE/data/clean_images/test/images/19668.jpg'"
      ]
     },
     "execution_count": 161,
     "metadata": {},
     "output_type": "execute_result"
    },
    {
     "data": {
      "text/plain": [
       "'C:/Users/khanh/code/DATA_SCIENCE/data/clean_images/test/labels/19668.txt'"
      ]
     },
     "execution_count": 161,
     "metadata": {},
     "output_type": "execute_result"
    },
    {
     "data": {
      "text/plain": [
       "'C:/Users/khanh/code/DATA_SCIENCE/data/clean_images/test/images/19670.jpg'"
      ]
     },
     "execution_count": 161,
     "metadata": {},
     "output_type": "execute_result"
    },
    {
     "data": {
      "text/plain": [
       "'C:/Users/khanh/code/DATA_SCIENCE/data/clean_images/test/labels/19670.txt'"
      ]
     },
     "execution_count": 161,
     "metadata": {},
     "output_type": "execute_result"
    },
    {
     "data": {
      "text/plain": [
       "'C:/Users/khanh/code/DATA_SCIENCE/data/clean_images/test/images/19671.jpg'"
      ]
     },
     "execution_count": 161,
     "metadata": {},
     "output_type": "execute_result"
    },
    {
     "data": {
      "text/plain": [
       "'C:/Users/khanh/code/DATA_SCIENCE/data/clean_images/test/labels/19671.txt'"
      ]
     },
     "execution_count": 161,
     "metadata": {},
     "output_type": "execute_result"
    },
    {
     "data": {
      "text/plain": [
       "'C:/Users/khanh/code/DATA_SCIENCE/data/clean_images/test/images/4003.jpg'"
      ]
     },
     "execution_count": 161,
     "metadata": {},
     "output_type": "execute_result"
    },
    {
     "data": {
      "text/plain": [
       "'C:/Users/khanh/code/DATA_SCIENCE/data/clean_images/test/labels/4003.txt'"
      ]
     },
     "execution_count": 161,
     "metadata": {},
     "output_type": "execute_result"
    },
    {
     "data": {
      "text/plain": [
       "'C:/Users/khanh/code/DATA_SCIENCE/data/clean_images/test/images/4004.jpg'"
      ]
     },
     "execution_count": 161,
     "metadata": {},
     "output_type": "execute_result"
    },
    {
     "data": {
      "text/plain": [
       "'C:/Users/khanh/code/DATA_SCIENCE/data/clean_images/test/labels/4004.txt'"
      ]
     },
     "execution_count": 161,
     "metadata": {},
     "output_type": "execute_result"
    },
    {
     "data": {
      "text/plain": [
       "'C:/Users/khanh/code/DATA_SCIENCE/data/clean_images/test/images/4006.jpg'"
      ]
     },
     "execution_count": 161,
     "metadata": {},
     "output_type": "execute_result"
    },
    {
     "data": {
      "text/plain": [
       "'C:/Users/khanh/code/DATA_SCIENCE/data/clean_images/test/labels/4006.txt'"
      ]
     },
     "execution_count": 161,
     "metadata": {},
     "output_type": "execute_result"
    },
    {
     "data": {
      "text/plain": [
       "'C:/Users/khanh/code/DATA_SCIENCE/data/clean_images/test/images/24877.jpg'"
      ]
     },
     "execution_count": 161,
     "metadata": {},
     "output_type": "execute_result"
    },
    {
     "data": {
      "text/plain": [
       "'C:/Users/khanh/code/DATA_SCIENCE/data/clean_images/test/labels/24877.txt'"
      ]
     },
     "execution_count": 161,
     "metadata": {},
     "output_type": "execute_result"
    },
    {
     "data": {
      "text/plain": [
       "'C:/Users/khanh/code/DATA_SCIENCE/data/clean_images/test/images/46076.jpg'"
      ]
     },
     "execution_count": 161,
     "metadata": {},
     "output_type": "execute_result"
    },
    {
     "data": {
      "text/plain": [
       "'C:/Users/khanh/code/DATA_SCIENCE/data/clean_images/test/labels/46076.txt'"
      ]
     },
     "execution_count": 161,
     "metadata": {},
     "output_type": "execute_result"
    },
    {
     "data": {
      "text/plain": [
       "'C:/Users/khanh/code/DATA_SCIENCE/data/clean_images/test/images/46077.jpg'"
      ]
     },
     "execution_count": 161,
     "metadata": {},
     "output_type": "execute_result"
    },
    {
     "data": {
      "text/plain": [
       "'C:/Users/khanh/code/DATA_SCIENCE/data/clean_images/test/labels/46077.txt'"
      ]
     },
     "execution_count": 161,
     "metadata": {},
     "output_type": "execute_result"
    },
    {
     "data": {
      "text/plain": [
       "'C:/Users/khanh/code/DATA_SCIENCE/data/clean_images/test/images/46078.jpg'"
      ]
     },
     "execution_count": 161,
     "metadata": {},
     "output_type": "execute_result"
    },
    {
     "data": {
      "text/plain": [
       "'C:/Users/khanh/code/DATA_SCIENCE/data/clean_images/test/labels/46078.txt'"
      ]
     },
     "execution_count": 161,
     "metadata": {},
     "output_type": "execute_result"
    },
    {
     "data": {
      "text/plain": [
       "'C:/Users/khanh/code/DATA_SCIENCE/data/clean_images/test/images/23438.jpg'"
      ]
     },
     "execution_count": 161,
     "metadata": {},
     "output_type": "execute_result"
    },
    {
     "data": {
      "text/plain": [
       "'C:/Users/khanh/code/DATA_SCIENCE/data/clean_images/test/labels/23438.txt'"
      ]
     },
     "execution_count": 161,
     "metadata": {},
     "output_type": "execute_result"
    },
    {
     "data": {
      "text/plain": [
       "'C:/Users/khanh/code/DATA_SCIENCE/data/clean_images/test/images/23439.jpg'"
      ]
     },
     "execution_count": 161,
     "metadata": {},
     "output_type": "execute_result"
    },
    {
     "data": {
      "text/plain": [
       "'C:/Users/khanh/code/DATA_SCIENCE/data/clean_images/test/labels/23439.txt'"
      ]
     },
     "execution_count": 161,
     "metadata": {},
     "output_type": "execute_result"
    },
    {
     "data": {
      "text/plain": [
       "'C:/Users/khanh/code/DATA_SCIENCE/data/clean_images/test/images/23440.jpg'"
      ]
     },
     "execution_count": 161,
     "metadata": {},
     "output_type": "execute_result"
    },
    {
     "data": {
      "text/plain": [
       "'C:/Users/khanh/code/DATA_SCIENCE/data/clean_images/test/labels/23440.txt'"
      ]
     },
     "execution_count": 161,
     "metadata": {},
     "output_type": "execute_result"
    },
    {
     "data": {
      "text/plain": [
       "'C:/Users/khanh/code/DATA_SCIENCE/data/clean_images/test/images/23441.jpg'"
      ]
     },
     "execution_count": 161,
     "metadata": {},
     "output_type": "execute_result"
    },
    {
     "data": {
      "text/plain": [
       "'C:/Users/khanh/code/DATA_SCIENCE/data/clean_images/test/labels/23441.txt'"
      ]
     },
     "execution_count": 161,
     "metadata": {},
     "output_type": "execute_result"
    },
    {
     "data": {
      "text/plain": [
       "'C:/Users/khanh/code/DATA_SCIENCE/data/clean_images/test/images/23442.jpg'"
      ]
     },
     "execution_count": 161,
     "metadata": {},
     "output_type": "execute_result"
    },
    {
     "data": {
      "text/plain": [
       "'C:/Users/khanh/code/DATA_SCIENCE/data/clean_images/test/labels/23442.txt'"
      ]
     },
     "execution_count": 161,
     "metadata": {},
     "output_type": "execute_result"
    },
    {
     "data": {
      "text/plain": [
       "'C:/Users/khanh/code/DATA_SCIENCE/data/clean_images/test/images/49300.jpg'"
      ]
     },
     "execution_count": 161,
     "metadata": {},
     "output_type": "execute_result"
    },
    {
     "data": {
      "text/plain": [
       "'C:/Users/khanh/code/DATA_SCIENCE/data/clean_images/test/labels/49300.txt'"
      ]
     },
     "execution_count": 161,
     "metadata": {},
     "output_type": "execute_result"
    },
    {
     "data": {
      "text/plain": [
       "'C:/Users/khanh/code/DATA_SCIENCE/data/clean_images/test/images/49301.jpg'"
      ]
     },
     "execution_count": 161,
     "metadata": {},
     "output_type": "execute_result"
    },
    {
     "data": {
      "text/plain": [
       "'C:/Users/khanh/code/DATA_SCIENCE/data/clean_images/test/labels/49301.txt'"
      ]
     },
     "execution_count": 161,
     "metadata": {},
     "output_type": "execute_result"
    },
    {
     "data": {
      "text/plain": [
       "'C:/Users/khanh/code/DATA_SCIENCE/data/clean_images/test/images/49302.jpg'"
      ]
     },
     "execution_count": 161,
     "metadata": {},
     "output_type": "execute_result"
    },
    {
     "data": {
      "text/plain": [
       "'C:/Users/khanh/code/DATA_SCIENCE/data/clean_images/test/labels/49302.txt'"
      ]
     },
     "execution_count": 161,
     "metadata": {},
     "output_type": "execute_result"
    },
    {
     "data": {
      "text/plain": [
       "'C:/Users/khanh/code/DATA_SCIENCE/data/clean_images/test/images/49303.jpg'"
      ]
     },
     "execution_count": 161,
     "metadata": {},
     "output_type": "execute_result"
    },
    {
     "data": {
      "text/plain": [
       "'C:/Users/khanh/code/DATA_SCIENCE/data/clean_images/test/labels/49303.txt'"
      ]
     },
     "execution_count": 161,
     "metadata": {},
     "output_type": "execute_result"
    },
    {
     "data": {
      "text/plain": [
       "'C:/Users/khanh/code/DATA_SCIENCE/data/clean_images/test/images/49304.jpg'"
      ]
     },
     "execution_count": 161,
     "metadata": {},
     "output_type": "execute_result"
    },
    {
     "data": {
      "text/plain": [
       "'C:/Users/khanh/code/DATA_SCIENCE/data/clean_images/test/labels/49304.txt'"
      ]
     },
     "execution_count": 161,
     "metadata": {},
     "output_type": "execute_result"
    },
    {
     "data": {
      "text/plain": [
       "'C:/Users/khanh/code/DATA_SCIENCE/data/clean_images/test/images/24805.jpg'"
      ]
     },
     "execution_count": 161,
     "metadata": {},
     "output_type": "execute_result"
    },
    {
     "data": {
      "text/plain": [
       "'C:/Users/khanh/code/DATA_SCIENCE/data/clean_images/test/labels/24805.txt'"
      ]
     },
     "execution_count": 161,
     "metadata": {},
     "output_type": "execute_result"
    },
    {
     "data": {
      "text/plain": [
       "'C:/Users/khanh/code/DATA_SCIENCE/data/clean_images/test/images/24806.jpg'"
      ]
     },
     "execution_count": 161,
     "metadata": {},
     "output_type": "execute_result"
    },
    {
     "data": {
      "text/plain": [
       "'C:/Users/khanh/code/DATA_SCIENCE/data/clean_images/test/labels/24806.txt'"
      ]
     },
     "execution_count": 161,
     "metadata": {},
     "output_type": "execute_result"
    },
    {
     "data": {
      "text/plain": [
       "'C:/Users/khanh/code/DATA_SCIENCE/data/clean_images/test/images/24808.jpg'"
      ]
     },
     "execution_count": 161,
     "metadata": {},
     "output_type": "execute_result"
    },
    {
     "data": {
      "text/plain": [
       "'C:/Users/khanh/code/DATA_SCIENCE/data/clean_images/test/labels/24808.txt'"
      ]
     },
     "execution_count": 161,
     "metadata": {},
     "output_type": "execute_result"
    },
    {
     "data": {
      "text/plain": [
       "'C:/Users/khanh/code/DATA_SCIENCE/data/clean_images/test/images/31623.jpg'"
      ]
     },
     "execution_count": 161,
     "metadata": {},
     "output_type": "execute_result"
    },
    {
     "data": {
      "text/plain": [
       "'C:/Users/khanh/code/DATA_SCIENCE/data/clean_images/test/labels/31623.txt'"
      ]
     },
     "execution_count": 161,
     "metadata": {},
     "output_type": "execute_result"
    },
    {
     "data": {
      "text/plain": [
       "'C:/Users/khanh/code/DATA_SCIENCE/data/clean_images/test/images/31624.jpg'"
      ]
     },
     "execution_count": 161,
     "metadata": {},
     "output_type": "execute_result"
    },
    {
     "data": {
      "text/plain": [
       "'C:/Users/khanh/code/DATA_SCIENCE/data/clean_images/test/labels/31624.txt'"
      ]
     },
     "execution_count": 161,
     "metadata": {},
     "output_type": "execute_result"
    },
    {
     "data": {
      "text/plain": [
       "'C:/Users/khanh/code/DATA_SCIENCE/data/clean_images/test/images/31626.jpg'"
      ]
     },
     "execution_count": 161,
     "metadata": {},
     "output_type": "execute_result"
    },
    {
     "data": {
      "text/plain": [
       "'C:/Users/khanh/code/DATA_SCIENCE/data/clean_images/test/labels/31626.txt'"
      ]
     },
     "execution_count": 161,
     "metadata": {},
     "output_type": "execute_result"
    },
    {
     "data": {
      "text/plain": [
       "'C:/Users/khanh/code/DATA_SCIENCE/data/clean_images/test/images/20719.jpg'"
      ]
     },
     "execution_count": 161,
     "metadata": {},
     "output_type": "execute_result"
    },
    {
     "data": {
      "text/plain": [
       "'C:/Users/khanh/code/DATA_SCIENCE/data/clean_images/test/labels/20719.txt'"
      ]
     },
     "execution_count": 161,
     "metadata": {},
     "output_type": "execute_result"
    },
    {
     "data": {
      "text/plain": [
       "'C:/Users/khanh/code/DATA_SCIENCE/data/clean_images/test/images/1887.jpg'"
      ]
     },
     "execution_count": 161,
     "metadata": {},
     "output_type": "execute_result"
    },
    {
     "data": {
      "text/plain": [
       "'C:/Users/khanh/code/DATA_SCIENCE/data/clean_images/test/labels/1887.txt'"
      ]
     },
     "execution_count": 161,
     "metadata": {},
     "output_type": "execute_result"
    },
    {
     "data": {
      "text/plain": [
       "'C:/Users/khanh/code/DATA_SCIENCE/data/clean_images/test/images/1888.jpg'"
      ]
     },
     "execution_count": 161,
     "metadata": {},
     "output_type": "execute_result"
    },
    {
     "data": {
      "text/plain": [
       "'C:/Users/khanh/code/DATA_SCIENCE/data/clean_images/test/labels/1888.txt'"
      ]
     },
     "execution_count": 161,
     "metadata": {},
     "output_type": "execute_result"
    },
    {
     "data": {
      "text/plain": [
       "'C:/Users/khanh/code/DATA_SCIENCE/data/clean_images/test/images/1890.jpg'"
      ]
     },
     "execution_count": 161,
     "metadata": {},
     "output_type": "execute_result"
    },
    {
     "data": {
      "text/plain": [
       "'C:/Users/khanh/code/DATA_SCIENCE/data/clean_images/test/labels/1890.txt'"
      ]
     },
     "execution_count": 161,
     "metadata": {},
     "output_type": "execute_result"
    },
    {
     "data": {
      "text/plain": [
       "'C:/Users/khanh/code/DATA_SCIENCE/data/clean_images/test/images/15567.jpg'"
      ]
     },
     "execution_count": 161,
     "metadata": {},
     "output_type": "execute_result"
    },
    {
     "data": {
      "text/plain": [
       "'C:/Users/khanh/code/DATA_SCIENCE/data/clean_images/test/labels/15567.txt'"
      ]
     },
     "execution_count": 161,
     "metadata": {},
     "output_type": "execute_result"
    },
    {
     "data": {
      "text/plain": [
       "'C:/Users/khanh/code/DATA_SCIENCE/data/clean_images/test/images/25660.jpg'"
      ]
     },
     "execution_count": 161,
     "metadata": {},
     "output_type": "execute_result"
    },
    {
     "data": {
      "text/plain": [
       "'C:/Users/khanh/code/DATA_SCIENCE/data/clean_images/test/labels/25660.txt'"
      ]
     },
     "execution_count": 161,
     "metadata": {},
     "output_type": "execute_result"
    },
    {
     "data": {
      "text/plain": [
       "'C:/Users/khanh/code/DATA_SCIENCE/data/clean_images/test/images/25661.jpg'"
      ]
     },
     "execution_count": 161,
     "metadata": {},
     "output_type": "execute_result"
    },
    {
     "data": {
      "text/plain": [
       "'C:/Users/khanh/code/DATA_SCIENCE/data/clean_images/test/labels/25661.txt'"
      ]
     },
     "execution_count": 161,
     "metadata": {},
     "output_type": "execute_result"
    },
    {
     "data": {
      "text/plain": [
       "'C:/Users/khanh/code/DATA_SCIENCE/data/clean_images/test/images/28432.jpg'"
      ]
     },
     "execution_count": 161,
     "metadata": {},
     "output_type": "execute_result"
    },
    {
     "data": {
      "text/plain": [
       "'C:/Users/khanh/code/DATA_SCIENCE/data/clean_images/test/labels/28432.txt'"
      ]
     },
     "execution_count": 161,
     "metadata": {},
     "output_type": "execute_result"
    },
    {
     "data": {
      "text/plain": [
       "'C:/Users/khanh/code/DATA_SCIENCE/data/clean_images/test/images/9148.jpg'"
      ]
     },
     "execution_count": 161,
     "metadata": {},
     "output_type": "execute_result"
    },
    {
     "data": {
      "text/plain": [
       "'C:/Users/khanh/code/DATA_SCIENCE/data/clean_images/test/labels/9148.txt'"
      ]
     },
     "execution_count": 161,
     "metadata": {},
     "output_type": "execute_result"
    },
    {
     "data": {
      "text/plain": [
       "'C:/Users/khanh/code/DATA_SCIENCE/data/clean_images/test/images/9149.jpg'"
      ]
     },
     "execution_count": 161,
     "metadata": {},
     "output_type": "execute_result"
    },
    {
     "data": {
      "text/plain": [
       "'C:/Users/khanh/code/DATA_SCIENCE/data/clean_images/test/labels/9149.txt'"
      ]
     },
     "execution_count": 161,
     "metadata": {},
     "output_type": "execute_result"
    },
    {
     "data": {
      "text/plain": [
       "'C:/Users/khanh/code/DATA_SCIENCE/data/clean_images/test/images/9150.jpg'"
      ]
     },
     "execution_count": 161,
     "metadata": {},
     "output_type": "execute_result"
    },
    {
     "data": {
      "text/plain": [
       "'C:/Users/khanh/code/DATA_SCIENCE/data/clean_images/test/labels/9150.txt'"
      ]
     },
     "execution_count": 161,
     "metadata": {},
     "output_type": "execute_result"
    },
    {
     "data": {
      "text/plain": [
       "'C:/Users/khanh/code/DATA_SCIENCE/data/clean_images/test/images/19257.jpg'"
      ]
     },
     "execution_count": 161,
     "metadata": {},
     "output_type": "execute_result"
    },
    {
     "data": {
      "text/plain": [
       "'C:/Users/khanh/code/DATA_SCIENCE/data/clean_images/test/labels/19257.txt'"
      ]
     },
     "execution_count": 161,
     "metadata": {},
     "output_type": "execute_result"
    },
    {
     "data": {
      "text/plain": [
       "'C:/Users/khanh/code/DATA_SCIENCE/data/clean_images/test/images/19260.jpg'"
      ]
     },
     "execution_count": 161,
     "metadata": {},
     "output_type": "execute_result"
    },
    {
     "data": {
      "text/plain": [
       "'C:/Users/khanh/code/DATA_SCIENCE/data/clean_images/test/labels/19260.txt'"
      ]
     },
     "execution_count": 161,
     "metadata": {},
     "output_type": "execute_result"
    },
    {
     "data": {
      "text/plain": [
       "'C:/Users/khanh/code/DATA_SCIENCE/data/clean_images/test/images/47731.jpg'"
      ]
     },
     "execution_count": 161,
     "metadata": {},
     "output_type": "execute_result"
    },
    {
     "data": {
      "text/plain": [
       "'C:/Users/khanh/code/DATA_SCIENCE/data/clean_images/test/labels/47731.txt'"
      ]
     },
     "execution_count": 161,
     "metadata": {},
     "output_type": "execute_result"
    },
    {
     "data": {
      "text/plain": [
       "'C:/Users/khanh/code/DATA_SCIENCE/data/clean_images/test/images/46888.jpg'"
      ]
     },
     "execution_count": 161,
     "metadata": {},
     "output_type": "execute_result"
    },
    {
     "data": {
      "text/plain": [
       "'C:/Users/khanh/code/DATA_SCIENCE/data/clean_images/test/labels/46888.txt'"
      ]
     },
     "execution_count": 161,
     "metadata": {},
     "output_type": "execute_result"
    },
    {
     "data": {
      "text/plain": [
       "'C:/Users/khanh/code/DATA_SCIENCE/data/clean_images/test/images/23966.jpg'"
      ]
     },
     "execution_count": 161,
     "metadata": {},
     "output_type": "execute_result"
    },
    {
     "data": {
      "text/plain": [
       "'C:/Users/khanh/code/DATA_SCIENCE/data/clean_images/test/labels/23966.txt'"
      ]
     },
     "execution_count": 161,
     "metadata": {},
     "output_type": "execute_result"
    },
    {
     "data": {
      "text/plain": [
       "'C:/Users/khanh/code/DATA_SCIENCE/data/clean_images/test/images/23969.jpg'"
      ]
     },
     "execution_count": 161,
     "metadata": {},
     "output_type": "execute_result"
    },
    {
     "data": {
      "text/plain": [
       "'C:/Users/khanh/code/DATA_SCIENCE/data/clean_images/test/labels/23969.txt'"
      ]
     },
     "execution_count": 161,
     "metadata": {},
     "output_type": "execute_result"
    },
    {
     "data": {
      "text/plain": [
       "'C:/Users/khanh/code/DATA_SCIENCE/data/clean_images/test/images/23970.jpg'"
      ]
     },
     "execution_count": 161,
     "metadata": {},
     "output_type": "execute_result"
    },
    {
     "data": {
      "text/plain": [
       "'C:/Users/khanh/code/DATA_SCIENCE/data/clean_images/test/labels/23970.txt'"
      ]
     },
     "execution_count": 161,
     "metadata": {},
     "output_type": "execute_result"
    },
    {
     "data": {
      "text/plain": [
       "'C:/Users/khanh/code/DATA_SCIENCE/data/clean_images/test/images/23943.jpg'"
      ]
     },
     "execution_count": 161,
     "metadata": {},
     "output_type": "execute_result"
    },
    {
     "data": {
      "text/plain": [
       "'C:/Users/khanh/code/DATA_SCIENCE/data/clean_images/test/labels/23943.txt'"
      ]
     },
     "execution_count": 161,
     "metadata": {},
     "output_type": "execute_result"
    },
    {
     "data": {
      "text/plain": [
       "'C:/Users/khanh/code/DATA_SCIENCE/data/clean_images/test/images/23944.jpg'"
      ]
     },
     "execution_count": 161,
     "metadata": {},
     "output_type": "execute_result"
    },
    {
     "data": {
      "text/plain": [
       "'C:/Users/khanh/code/DATA_SCIENCE/data/clean_images/test/labels/23944.txt'"
      ]
     },
     "execution_count": 161,
     "metadata": {},
     "output_type": "execute_result"
    },
    {
     "data": {
      "text/plain": [
       "'C:/Users/khanh/code/DATA_SCIENCE/data/clean_images/test/images/23947.jpg'"
      ]
     },
     "execution_count": 161,
     "metadata": {},
     "output_type": "execute_result"
    },
    {
     "data": {
      "text/plain": [
       "'C:/Users/khanh/code/DATA_SCIENCE/data/clean_images/test/labels/23947.txt'"
      ]
     },
     "execution_count": 161,
     "metadata": {},
     "output_type": "execute_result"
    },
    {
     "data": {
      "text/plain": [
       "'C:/Users/khanh/code/DATA_SCIENCE/data/clean_images/test/images/19015.jpg'"
      ]
     },
     "execution_count": 161,
     "metadata": {},
     "output_type": "execute_result"
    },
    {
     "data": {
      "text/plain": [
       "'C:/Users/khanh/code/DATA_SCIENCE/data/clean_images/test/labels/19015.txt'"
      ]
     },
     "execution_count": 161,
     "metadata": {},
     "output_type": "execute_result"
    },
    {
     "data": {
      "text/plain": [
       "'C:/Users/khanh/code/DATA_SCIENCE/data/clean_images/test/images/9885.jpg'"
      ]
     },
     "execution_count": 161,
     "metadata": {},
     "output_type": "execute_result"
    },
    {
     "data": {
      "text/plain": [
       "'C:/Users/khanh/code/DATA_SCIENCE/data/clean_images/test/labels/9885.txt'"
      ]
     },
     "execution_count": 161,
     "metadata": {},
     "output_type": "execute_result"
    },
    {
     "data": {
      "text/plain": [
       "'C:/Users/khanh/code/DATA_SCIENCE/data/clean_images/test/images/9887.jpg'"
      ]
     },
     "execution_count": 161,
     "metadata": {},
     "output_type": "execute_result"
    },
    {
     "data": {
      "text/plain": [
       "'C:/Users/khanh/code/DATA_SCIENCE/data/clean_images/test/labels/9887.txt'"
      ]
     },
     "execution_count": 161,
     "metadata": {},
     "output_type": "execute_result"
    },
    {
     "data": {
      "text/plain": [
       "'C:/Users/khanh/code/DATA_SCIENCE/data/clean_images/test/images/49307.jpg'"
      ]
     },
     "execution_count": 161,
     "metadata": {},
     "output_type": "execute_result"
    },
    {
     "data": {
      "text/plain": [
       "'C:/Users/khanh/code/DATA_SCIENCE/data/clean_images/test/labels/49307.txt'"
      ]
     },
     "execution_count": 161,
     "metadata": {},
     "output_type": "execute_result"
    },
    {
     "data": {
      "text/plain": [
       "'C:/Users/khanh/code/DATA_SCIENCE/data/clean_images/test/images/49308.jpg'"
      ]
     },
     "execution_count": 161,
     "metadata": {},
     "output_type": "execute_result"
    },
    {
     "data": {
      "text/plain": [
       "'C:/Users/khanh/code/DATA_SCIENCE/data/clean_images/test/labels/49308.txt'"
      ]
     },
     "execution_count": 161,
     "metadata": {},
     "output_type": "execute_result"
    },
    {
     "data": {
      "text/plain": [
       "'C:/Users/khanh/code/DATA_SCIENCE/data/clean_images/test/images/36075.jpg'"
      ]
     },
     "execution_count": 161,
     "metadata": {},
     "output_type": "execute_result"
    },
    {
     "data": {
      "text/plain": [
       "'C:/Users/khanh/code/DATA_SCIENCE/data/clean_images/test/labels/36075.txt'"
      ]
     },
     "execution_count": 161,
     "metadata": {},
     "output_type": "execute_result"
    },
    {
     "data": {
      "text/plain": [
       "'C:/Users/khanh/code/DATA_SCIENCE/data/clean_images/test/images/36076.jpg'"
      ]
     },
     "execution_count": 161,
     "metadata": {},
     "output_type": "execute_result"
    },
    {
     "data": {
      "text/plain": [
       "'C:/Users/khanh/code/DATA_SCIENCE/data/clean_images/test/labels/36076.txt'"
      ]
     },
     "execution_count": 161,
     "metadata": {},
     "output_type": "execute_result"
    },
    {
     "data": {
      "text/plain": [
       "'C:/Users/khanh/code/DATA_SCIENCE/data/clean_images/test/images/36077.jpg'"
      ]
     },
     "execution_count": 161,
     "metadata": {},
     "output_type": "execute_result"
    },
    {
     "data": {
      "text/plain": [
       "'C:/Users/khanh/code/DATA_SCIENCE/data/clean_images/test/labels/36077.txt'"
      ]
     },
     "execution_count": 161,
     "metadata": {},
     "output_type": "execute_result"
    },
    {
     "data": {
      "text/plain": [
       "'C:/Users/khanh/code/DATA_SCIENCE/data/clean_images/test/images/36078.jpg'"
      ]
     },
     "execution_count": 161,
     "metadata": {},
     "output_type": "execute_result"
    },
    {
     "data": {
      "text/plain": [
       "'C:/Users/khanh/code/DATA_SCIENCE/data/clean_images/test/labels/36078.txt'"
      ]
     },
     "execution_count": 161,
     "metadata": {},
     "output_type": "execute_result"
    },
    {
     "data": {
      "text/plain": [
       "'C:/Users/khanh/code/DATA_SCIENCE/data/clean_images/test/images/36079.jpg'"
      ]
     },
     "execution_count": 161,
     "metadata": {},
     "output_type": "execute_result"
    },
    {
     "data": {
      "text/plain": [
       "'C:/Users/khanh/code/DATA_SCIENCE/data/clean_images/test/labels/36079.txt'"
      ]
     },
     "execution_count": 161,
     "metadata": {},
     "output_type": "execute_result"
    },
    {
     "data": {
      "text/plain": [
       "'C:/Users/khanh/code/DATA_SCIENCE/data/clean_images/test/images/26318.jpg'"
      ]
     },
     "execution_count": 161,
     "metadata": {},
     "output_type": "execute_result"
    },
    {
     "data": {
      "text/plain": [
       "'C:/Users/khanh/code/DATA_SCIENCE/data/clean_images/test/labels/26318.txt'"
      ]
     },
     "execution_count": 161,
     "metadata": {},
     "output_type": "execute_result"
    },
    {
     "data": {
      "text/plain": [
       "'C:/Users/khanh/code/DATA_SCIENCE/data/clean_images/test/images/13312.jpg'"
      ]
     },
     "execution_count": 161,
     "metadata": {},
     "output_type": "execute_result"
    },
    {
     "data": {
      "text/plain": [
       "'C:/Users/khanh/code/DATA_SCIENCE/data/clean_images/test/labels/13312.txt'"
      ]
     },
     "execution_count": 161,
     "metadata": {},
     "output_type": "execute_result"
    },
    {
     "data": {
      "text/plain": [
       "'C:/Users/khanh/code/DATA_SCIENCE/data/clean_images/test/images/28733.jpg'"
      ]
     },
     "execution_count": 161,
     "metadata": {},
     "output_type": "execute_result"
    },
    {
     "data": {
      "text/plain": [
       "'C:/Users/khanh/code/DATA_SCIENCE/data/clean_images/test/labels/28733.txt'"
      ]
     },
     "execution_count": 161,
     "metadata": {},
     "output_type": "execute_result"
    },
    {
     "data": {
      "text/plain": [
       "'C:/Users/khanh/code/DATA_SCIENCE/data/clean_images/test/images/28734.jpg'"
      ]
     },
     "execution_count": 161,
     "metadata": {},
     "output_type": "execute_result"
    },
    {
     "data": {
      "text/plain": [
       "'C:/Users/khanh/code/DATA_SCIENCE/data/clean_images/test/labels/28734.txt'"
      ]
     },
     "execution_count": 161,
     "metadata": {},
     "output_type": "execute_result"
    },
    {
     "data": {
      "text/plain": [
       "'C:/Users/khanh/code/DATA_SCIENCE/data/clean_images/test/images/28735.jpg'"
      ]
     },
     "execution_count": 161,
     "metadata": {},
     "output_type": "execute_result"
    },
    {
     "data": {
      "text/plain": [
       "'C:/Users/khanh/code/DATA_SCIENCE/data/clean_images/test/labels/28735.txt'"
      ]
     },
     "execution_count": 161,
     "metadata": {},
     "output_type": "execute_result"
    },
    {
     "data": {
      "text/plain": [
       "'C:/Users/khanh/code/DATA_SCIENCE/data/clean_images/test/images/28736.jpg'"
      ]
     },
     "execution_count": 161,
     "metadata": {},
     "output_type": "execute_result"
    },
    {
     "data": {
      "text/plain": [
       "'C:/Users/khanh/code/DATA_SCIENCE/data/clean_images/test/labels/28736.txt'"
      ]
     },
     "execution_count": 161,
     "metadata": {},
     "output_type": "execute_result"
    },
    {
     "data": {
      "text/plain": [
       "'C:/Users/khanh/code/DATA_SCIENCE/data/clean_images/test/images/28737.jpg'"
      ]
     },
     "execution_count": 161,
     "metadata": {},
     "output_type": "execute_result"
    },
    {
     "data": {
      "text/plain": [
       "'C:/Users/khanh/code/DATA_SCIENCE/data/clean_images/test/labels/28737.txt'"
      ]
     },
     "execution_count": 161,
     "metadata": {},
     "output_type": "execute_result"
    },
    {
     "data": {
      "text/plain": [
       "'C:/Users/khanh/code/DATA_SCIENCE/data/clean_images/test/images/28738.jpg'"
      ]
     },
     "execution_count": 161,
     "metadata": {},
     "output_type": "execute_result"
    },
    {
     "data": {
      "text/plain": [
       "'C:/Users/khanh/code/DATA_SCIENCE/data/clean_images/test/labels/28738.txt'"
      ]
     },
     "execution_count": 161,
     "metadata": {},
     "output_type": "execute_result"
    },
    {
     "data": {
      "text/plain": [
       "'C:/Users/khanh/code/DATA_SCIENCE/data/clean_images/test/images/5149.jpg'"
      ]
     },
     "execution_count": 161,
     "metadata": {},
     "output_type": "execute_result"
    },
    {
     "data": {
      "text/plain": [
       "'C:/Users/khanh/code/DATA_SCIENCE/data/clean_images/test/labels/5149.txt'"
      ]
     },
     "execution_count": 161,
     "metadata": {},
     "output_type": "execute_result"
    },
    {
     "data": {
      "text/plain": [
       "'C:/Users/khanh/code/DATA_SCIENCE/data/clean_images/test/images/5150.jpg'"
      ]
     },
     "execution_count": 161,
     "metadata": {},
     "output_type": "execute_result"
    },
    {
     "data": {
      "text/plain": [
       "'C:/Users/khanh/code/DATA_SCIENCE/data/clean_images/test/labels/5150.txt'"
      ]
     },
     "execution_count": 161,
     "metadata": {},
     "output_type": "execute_result"
    },
    {
     "data": {
      "text/plain": [
       "'C:/Users/khanh/code/DATA_SCIENCE/data/clean_images/test/images/5151.jpg'"
      ]
     },
     "execution_count": 161,
     "metadata": {},
     "output_type": "execute_result"
    },
    {
     "data": {
      "text/plain": [
       "'C:/Users/khanh/code/DATA_SCIENCE/data/clean_images/test/labels/5151.txt'"
      ]
     },
     "execution_count": 161,
     "metadata": {},
     "output_type": "execute_result"
    },
    {
     "data": {
      "text/plain": [
       "'C:/Users/khanh/code/DATA_SCIENCE/data/clean_images/test/images/5152.jpg'"
      ]
     },
     "execution_count": 161,
     "metadata": {},
     "output_type": "execute_result"
    },
    {
     "data": {
      "text/plain": [
       "'C:/Users/khanh/code/DATA_SCIENCE/data/clean_images/test/labels/5152.txt'"
      ]
     },
     "execution_count": 161,
     "metadata": {},
     "output_type": "execute_result"
    },
    {
     "data": {
      "text/plain": [
       "'C:/Users/khanh/code/DATA_SCIENCE/data/clean_images/test/images/5153.jpg'"
      ]
     },
     "execution_count": 161,
     "metadata": {},
     "output_type": "execute_result"
    },
    {
     "data": {
      "text/plain": [
       "'C:/Users/khanh/code/DATA_SCIENCE/data/clean_images/test/labels/5153.txt'"
      ]
     },
     "execution_count": 161,
     "metadata": {},
     "output_type": "execute_result"
    },
    {
     "data": {
      "text/plain": [
       "'C:/Users/khanh/code/DATA_SCIENCE/data/clean_images/test/images/5154.jpg'"
      ]
     },
     "execution_count": 161,
     "metadata": {},
     "output_type": "execute_result"
    },
    {
     "data": {
      "text/plain": [
       "'C:/Users/khanh/code/DATA_SCIENCE/data/clean_images/test/labels/5154.txt'"
      ]
     },
     "execution_count": 161,
     "metadata": {},
     "output_type": "execute_result"
    },
    {
     "data": {
      "text/plain": [
       "'C:/Users/khanh/code/DATA_SCIENCE/data/clean_images/test/images/50950.jpg'"
      ]
     },
     "execution_count": 161,
     "metadata": {},
     "output_type": "execute_result"
    },
    {
     "data": {
      "text/plain": [
       "'C:/Users/khanh/code/DATA_SCIENCE/data/clean_images/test/labels/50950.txt'"
      ]
     },
     "execution_count": 161,
     "metadata": {},
     "output_type": "execute_result"
    },
    {
     "data": {
      "text/plain": [
       "'C:/Users/khanh/code/DATA_SCIENCE/data/clean_images/test/images/49567.jpg'"
      ]
     },
     "execution_count": 161,
     "metadata": {},
     "output_type": "execute_result"
    },
    {
     "data": {
      "text/plain": [
       "'C:/Users/khanh/code/DATA_SCIENCE/data/clean_images/test/labels/49567.txt'"
      ]
     },
     "execution_count": 161,
     "metadata": {},
     "output_type": "execute_result"
    },
    {
     "data": {
      "text/plain": [
       "'C:/Users/khanh/code/DATA_SCIENCE/data/clean_images/test/images/49568.jpg'"
      ]
     },
     "execution_count": 161,
     "metadata": {},
     "output_type": "execute_result"
    },
    {
     "data": {
      "text/plain": [
       "'C:/Users/khanh/code/DATA_SCIENCE/data/clean_images/test/labels/49568.txt'"
      ]
     },
     "execution_count": 161,
     "metadata": {},
     "output_type": "execute_result"
    },
    {
     "data": {
      "text/plain": [
       "'C:/Users/khanh/code/DATA_SCIENCE/data/clean_images/test/images/49569.jpg'"
      ]
     },
     "execution_count": 161,
     "metadata": {},
     "output_type": "execute_result"
    },
    {
     "data": {
      "text/plain": [
       "'C:/Users/khanh/code/DATA_SCIENCE/data/clean_images/test/labels/49569.txt'"
      ]
     },
     "execution_count": 161,
     "metadata": {},
     "output_type": "execute_result"
    },
    {
     "data": {
      "text/plain": [
       "'C:/Users/khanh/code/DATA_SCIENCE/data/clean_images/test/images/49570.jpg'"
      ]
     },
     "execution_count": 161,
     "metadata": {},
     "output_type": "execute_result"
    },
    {
     "data": {
      "text/plain": [
       "'C:/Users/khanh/code/DATA_SCIENCE/data/clean_images/test/labels/49570.txt'"
      ]
     },
     "execution_count": 161,
     "metadata": {},
     "output_type": "execute_result"
    },
    {
     "data": {
      "text/plain": [
       "'C:/Users/khanh/code/DATA_SCIENCE/data/clean_images/test/images/49571.jpg'"
      ]
     },
     "execution_count": 161,
     "metadata": {},
     "output_type": "execute_result"
    },
    {
     "data": {
      "text/plain": [
       "'C:/Users/khanh/code/DATA_SCIENCE/data/clean_images/test/labels/49571.txt'"
      ]
     },
     "execution_count": 161,
     "metadata": {},
     "output_type": "execute_result"
    },
    {
     "data": {
      "text/plain": [
       "'C:/Users/khanh/code/DATA_SCIENCE/data/clean_images/test/images/49572.jpg'"
      ]
     },
     "execution_count": 161,
     "metadata": {},
     "output_type": "execute_result"
    },
    {
     "data": {
      "text/plain": [
       "'C:/Users/khanh/code/DATA_SCIENCE/data/clean_images/test/labels/49572.txt'"
      ]
     },
     "execution_count": 161,
     "metadata": {},
     "output_type": "execute_result"
    },
    {
     "data": {
      "text/plain": [
       "'C:/Users/khanh/code/DATA_SCIENCE/data/clean_images/test/images/40235.jpg'"
      ]
     },
     "execution_count": 161,
     "metadata": {},
     "output_type": "execute_result"
    },
    {
     "data": {
      "text/plain": [
       "'C:/Users/khanh/code/DATA_SCIENCE/data/clean_images/test/labels/40235.txt'"
      ]
     },
     "execution_count": 161,
     "metadata": {},
     "output_type": "execute_result"
    },
    {
     "data": {
      "text/plain": [
       "'C:/Users/khanh/code/DATA_SCIENCE/data/clean_images/test/images/55012.jpg'"
      ]
     },
     "execution_count": 161,
     "metadata": {},
     "output_type": "execute_result"
    },
    {
     "data": {
      "text/plain": [
       "'C:/Users/khanh/code/DATA_SCIENCE/data/clean_images/test/labels/55012.txt'"
      ]
     },
     "execution_count": 161,
     "metadata": {},
     "output_type": "execute_result"
    },
    {
     "data": {
      "text/plain": [
       "'C:/Users/khanh/code/DATA_SCIENCE/data/clean_images/test/images/55014.jpg'"
      ]
     },
     "execution_count": 161,
     "metadata": {},
     "output_type": "execute_result"
    },
    {
     "data": {
      "text/plain": [
       "'C:/Users/khanh/code/DATA_SCIENCE/data/clean_images/test/labels/55014.txt'"
      ]
     },
     "execution_count": 161,
     "metadata": {},
     "output_type": "execute_result"
    },
    {
     "data": {
      "text/plain": [
       "'C:/Users/khanh/code/DATA_SCIENCE/data/clean_images/test/images/55017.jpg'"
      ]
     },
     "execution_count": 161,
     "metadata": {},
     "output_type": "execute_result"
    },
    {
     "data": {
      "text/plain": [
       "'C:/Users/khanh/code/DATA_SCIENCE/data/clean_images/test/labels/55017.txt'"
      ]
     },
     "execution_count": 161,
     "metadata": {},
     "output_type": "execute_result"
    },
    {
     "data": {
      "text/plain": [
       "'C:/Users/khanh/code/DATA_SCIENCE/data/clean_images/test/images/9891.jpg'"
      ]
     },
     "execution_count": 161,
     "metadata": {},
     "output_type": "execute_result"
    },
    {
     "data": {
      "text/plain": [
       "'C:/Users/khanh/code/DATA_SCIENCE/data/clean_images/test/labels/9891.txt'"
      ]
     },
     "execution_count": 161,
     "metadata": {},
     "output_type": "execute_result"
    },
    {
     "data": {
      "text/plain": [
       "'C:/Users/khanh/code/DATA_SCIENCE/data/clean_images/test/images/9894.jpg'"
      ]
     },
     "execution_count": 161,
     "metadata": {},
     "output_type": "execute_result"
    },
    {
     "data": {
      "text/plain": [
       "'C:/Users/khanh/code/DATA_SCIENCE/data/clean_images/test/labels/9894.txt'"
      ]
     },
     "execution_count": 161,
     "metadata": {},
     "output_type": "execute_result"
    },
    {
     "data": {
      "text/plain": [
       "'C:/Users/khanh/code/DATA_SCIENCE/data/clean_images/test/images/10928.jpg'"
      ]
     },
     "execution_count": 161,
     "metadata": {},
     "output_type": "execute_result"
    },
    {
     "data": {
      "text/plain": [
       "'C:/Users/khanh/code/DATA_SCIENCE/data/clean_images/test/labels/10928.txt'"
      ]
     },
     "execution_count": 161,
     "metadata": {},
     "output_type": "execute_result"
    },
    {
     "data": {
      "text/plain": [
       "'C:/Users/khanh/code/DATA_SCIENCE/data/clean_images/test/images/46752.jpg'"
      ]
     },
     "execution_count": 161,
     "metadata": {},
     "output_type": "execute_result"
    },
    {
     "data": {
      "text/plain": [
       "'C:/Users/khanh/code/DATA_SCIENCE/data/clean_images/test/labels/46752.txt'"
      ]
     },
     "execution_count": 161,
     "metadata": {},
     "output_type": "execute_result"
    },
    {
     "data": {
      "text/plain": [
       "'C:/Users/khanh/code/DATA_SCIENCE/data/clean_images/test/images/46755.jpg'"
      ]
     },
     "execution_count": 161,
     "metadata": {},
     "output_type": "execute_result"
    },
    {
     "data": {
      "text/plain": [
       "'C:/Users/khanh/code/DATA_SCIENCE/data/clean_images/test/labels/46755.txt'"
      ]
     },
     "execution_count": 161,
     "metadata": {},
     "output_type": "execute_result"
    },
    {
     "data": {
      "text/plain": [
       "'C:/Users/khanh/code/DATA_SCIENCE/data/clean_images/test/images/33575.jpg'"
      ]
     },
     "execution_count": 161,
     "metadata": {},
     "output_type": "execute_result"
    },
    {
     "data": {
      "text/plain": [
       "'C:/Users/khanh/code/DATA_SCIENCE/data/clean_images/test/labels/33575.txt'"
      ]
     },
     "execution_count": 161,
     "metadata": {},
     "output_type": "execute_result"
    },
    {
     "data": {
      "text/plain": [
       "'C:/Users/khanh/code/DATA_SCIENCE/data/clean_images/test/images/33576.jpg'"
      ]
     },
     "execution_count": 161,
     "metadata": {},
     "output_type": "execute_result"
    },
    {
     "data": {
      "text/plain": [
       "'C:/Users/khanh/code/DATA_SCIENCE/data/clean_images/test/labels/33576.txt'"
      ]
     },
     "execution_count": 161,
     "metadata": {},
     "output_type": "execute_result"
    },
    {
     "data": {
      "text/plain": [
       "'C:/Users/khanh/code/DATA_SCIENCE/data/clean_images/test/images/33579.jpg'"
      ]
     },
     "execution_count": 161,
     "metadata": {},
     "output_type": "execute_result"
    },
    {
     "data": {
      "text/plain": [
       "'C:/Users/khanh/code/DATA_SCIENCE/data/clean_images/test/labels/33579.txt'"
      ]
     },
     "execution_count": 161,
     "metadata": {},
     "output_type": "execute_result"
    },
    {
     "data": {
      "text/plain": [
       "'C:/Users/khanh/code/DATA_SCIENCE/data/clean_images/test/images/6842.jpg'"
      ]
     },
     "execution_count": 161,
     "metadata": {},
     "output_type": "execute_result"
    },
    {
     "data": {
      "text/plain": [
       "'C:/Users/khanh/code/DATA_SCIENCE/data/clean_images/test/labels/6842.txt'"
      ]
     },
     "execution_count": 161,
     "metadata": {},
     "output_type": "execute_result"
    },
    {
     "data": {
      "text/plain": [
       "'C:/Users/khanh/code/DATA_SCIENCE/data/clean_images/test/images/6843.jpg'"
      ]
     },
     "execution_count": 161,
     "metadata": {},
     "output_type": "execute_result"
    },
    {
     "data": {
      "text/plain": [
       "'C:/Users/khanh/code/DATA_SCIENCE/data/clean_images/test/labels/6843.txt'"
      ]
     },
     "execution_count": 161,
     "metadata": {},
     "output_type": "execute_result"
    },
    {
     "data": {
      "text/plain": [
       "'C:/Users/khanh/code/DATA_SCIENCE/data/clean_images/test/images/15285.jpg'"
      ]
     },
     "execution_count": 161,
     "metadata": {},
     "output_type": "execute_result"
    },
    {
     "data": {
      "text/plain": [
       "'C:/Users/khanh/code/DATA_SCIENCE/data/clean_images/test/labels/15285.txt'"
      ]
     },
     "execution_count": 161,
     "metadata": {},
     "output_type": "execute_result"
    },
    {
     "data": {
      "text/plain": [
       "'C:/Users/khanh/code/DATA_SCIENCE/data/clean_images/test/images/15288.jpg'"
      ]
     },
     "execution_count": 161,
     "metadata": {},
     "output_type": "execute_result"
    },
    {
     "data": {
      "text/plain": [
       "'C:/Users/khanh/code/DATA_SCIENCE/data/clean_images/test/labels/15288.txt'"
      ]
     },
     "execution_count": 161,
     "metadata": {},
     "output_type": "execute_result"
    },
    {
     "data": {
      "text/plain": [
       "'C:/Users/khanh/code/DATA_SCIENCE/data/clean_images/test/images/19898.jpg'"
      ]
     },
     "execution_count": 161,
     "metadata": {},
     "output_type": "execute_result"
    },
    {
     "data": {
      "text/plain": [
       "'C:/Users/khanh/code/DATA_SCIENCE/data/clean_images/test/labels/19898.txt'"
      ]
     },
     "execution_count": 161,
     "metadata": {},
     "output_type": "execute_result"
    },
    {
     "data": {
      "text/plain": [
       "'C:/Users/khanh/code/DATA_SCIENCE/data/clean_images/test/images/19900.jpg'"
      ]
     },
     "execution_count": 161,
     "metadata": {},
     "output_type": "execute_result"
    },
    {
     "data": {
      "text/plain": [
       "'C:/Users/khanh/code/DATA_SCIENCE/data/clean_images/test/labels/19900.txt'"
      ]
     },
     "execution_count": 161,
     "metadata": {},
     "output_type": "execute_result"
    },
    {
     "data": {
      "text/plain": [
       "'C:/Users/khanh/code/DATA_SCIENCE/data/clean_images/test/images/19901.jpg'"
      ]
     },
     "execution_count": 161,
     "metadata": {},
     "output_type": "execute_result"
    },
    {
     "data": {
      "text/plain": [
       "'C:/Users/khanh/code/DATA_SCIENCE/data/clean_images/test/labels/19901.txt'"
      ]
     },
     "execution_count": 161,
     "metadata": {},
     "output_type": "execute_result"
    },
    {
     "data": {
      "text/plain": [
       "'C:/Users/khanh/code/DATA_SCIENCE/data/clean_images/test/images/3932.jpg'"
      ]
     },
     "execution_count": 161,
     "metadata": {},
     "output_type": "execute_result"
    },
    {
     "data": {
      "text/plain": [
       "'C:/Users/khanh/code/DATA_SCIENCE/data/clean_images/test/labels/3932.txt'"
      ]
     },
     "execution_count": 161,
     "metadata": {},
     "output_type": "execute_result"
    },
    {
     "data": {
      "text/plain": [
       "'C:/Users/khanh/code/DATA_SCIENCE/data/clean_images/test/images/3933.jpg'"
      ]
     },
     "execution_count": 161,
     "metadata": {},
     "output_type": "execute_result"
    },
    {
     "data": {
      "text/plain": [
       "'C:/Users/khanh/code/DATA_SCIENCE/data/clean_images/test/labels/3933.txt'"
      ]
     },
     "execution_count": 161,
     "metadata": {},
     "output_type": "execute_result"
    },
    {
     "data": {
      "text/plain": [
       "'C:/Users/khanh/code/DATA_SCIENCE/data/clean_images/test/images/3934.jpg'"
      ]
     },
     "execution_count": 161,
     "metadata": {},
     "output_type": "execute_result"
    },
    {
     "data": {
      "text/plain": [
       "'C:/Users/khanh/code/DATA_SCIENCE/data/clean_images/test/labels/3934.txt'"
      ]
     },
     "execution_count": 161,
     "metadata": {},
     "output_type": "execute_result"
    },
    {
     "data": {
      "text/plain": [
       "'C:/Users/khanh/code/DATA_SCIENCE/data/clean_images/test/images/3936.jpg'"
      ]
     },
     "execution_count": 161,
     "metadata": {},
     "output_type": "execute_result"
    },
    {
     "data": {
      "text/plain": [
       "'C:/Users/khanh/code/DATA_SCIENCE/data/clean_images/test/labels/3936.txt'"
      ]
     },
     "execution_count": 161,
     "metadata": {},
     "output_type": "execute_result"
    },
    {
     "data": {
      "text/plain": [
       "'C:/Users/khanh/code/DATA_SCIENCE/data/clean_images/test/images/49885.jpg'"
      ]
     },
     "execution_count": 161,
     "metadata": {},
     "output_type": "execute_result"
    },
    {
     "data": {
      "text/plain": [
       "'C:/Users/khanh/code/DATA_SCIENCE/data/clean_images/test/labels/49885.txt'"
      ]
     },
     "execution_count": 161,
     "metadata": {},
     "output_type": "execute_result"
    },
    {
     "data": {
      "text/plain": [
       "'C:/Users/khanh/code/DATA_SCIENCE/data/clean_images/test/images/49887.jpg'"
      ]
     },
     "execution_count": 161,
     "metadata": {},
     "output_type": "execute_result"
    },
    {
     "data": {
      "text/plain": [
       "'C:/Users/khanh/code/DATA_SCIENCE/data/clean_images/test/labels/49887.txt'"
      ]
     },
     "execution_count": 161,
     "metadata": {},
     "output_type": "execute_result"
    },
    {
     "data": {
      "text/plain": [
       "'C:/Users/khanh/code/DATA_SCIENCE/data/clean_images/test/images/49888.jpg'"
      ]
     },
     "execution_count": 161,
     "metadata": {},
     "output_type": "execute_result"
    },
    {
     "data": {
      "text/plain": [
       "'C:/Users/khanh/code/DATA_SCIENCE/data/clean_images/test/labels/49888.txt'"
      ]
     },
     "execution_count": 161,
     "metadata": {},
     "output_type": "execute_result"
    },
    {
     "data": {
      "text/plain": [
       "'C:/Users/khanh/code/DATA_SCIENCE/data/clean_images/test/images/49889.jpg'"
      ]
     },
     "execution_count": 161,
     "metadata": {},
     "output_type": "execute_result"
    },
    {
     "data": {
      "text/plain": [
       "'C:/Users/khanh/code/DATA_SCIENCE/data/clean_images/test/labels/49889.txt'"
      ]
     },
     "execution_count": 161,
     "metadata": {},
     "output_type": "execute_result"
    },
    {
     "data": {
      "text/plain": [
       "'C:/Users/khanh/code/DATA_SCIENCE/data/clean_images/test/images/7470.jpg'"
      ]
     },
     "execution_count": 161,
     "metadata": {},
     "output_type": "execute_result"
    },
    {
     "data": {
      "text/plain": [
       "'C:/Users/khanh/code/DATA_SCIENCE/data/clean_images/test/labels/7470.txt'"
      ]
     },
     "execution_count": 161,
     "metadata": {},
     "output_type": "execute_result"
    },
    {
     "data": {
      "text/plain": [
       "'C:/Users/khanh/code/DATA_SCIENCE/data/clean_images/test/images/15659.jpg'"
      ]
     },
     "execution_count": 161,
     "metadata": {},
     "output_type": "execute_result"
    },
    {
     "data": {
      "text/plain": [
       "'C:/Users/khanh/code/DATA_SCIENCE/data/clean_images/test/labels/15659.txt'"
      ]
     },
     "execution_count": 161,
     "metadata": {},
     "output_type": "execute_result"
    },
    {
     "data": {
      "text/plain": [
       "'C:/Users/khanh/code/DATA_SCIENCE/data/clean_images/test/images/15660.jpg'"
      ]
     },
     "execution_count": 161,
     "metadata": {},
     "output_type": "execute_result"
    },
    {
     "data": {
      "text/plain": [
       "'C:/Users/khanh/code/DATA_SCIENCE/data/clean_images/test/labels/15660.txt'"
      ]
     },
     "execution_count": 161,
     "metadata": {},
     "output_type": "execute_result"
    },
    {
     "data": {
      "text/plain": [
       "'C:/Users/khanh/code/DATA_SCIENCE/data/clean_images/test/images/15661.jpg'"
      ]
     },
     "execution_count": 161,
     "metadata": {},
     "output_type": "execute_result"
    },
    {
     "data": {
      "text/plain": [
       "'C:/Users/khanh/code/DATA_SCIENCE/data/clean_images/test/labels/15661.txt'"
      ]
     },
     "execution_count": 161,
     "metadata": {},
     "output_type": "execute_result"
    },
    {
     "data": {
      "text/plain": [
       "'C:/Users/khanh/code/DATA_SCIENCE/data/clean_images/test/images/14529.jpg'"
      ]
     },
     "execution_count": 161,
     "metadata": {},
     "output_type": "execute_result"
    },
    {
     "data": {
      "text/plain": [
       "'C:/Users/khanh/code/DATA_SCIENCE/data/clean_images/test/labels/14529.txt'"
      ]
     },
     "execution_count": 161,
     "metadata": {},
     "output_type": "execute_result"
    },
    {
     "data": {
      "text/plain": [
       "'C:/Users/khanh/code/DATA_SCIENCE/data/clean_images/test/images/14531.jpg'"
      ]
     },
     "execution_count": 161,
     "metadata": {},
     "output_type": "execute_result"
    },
    {
     "data": {
      "text/plain": [
       "'C:/Users/khanh/code/DATA_SCIENCE/data/clean_images/test/labels/14531.txt'"
      ]
     },
     "execution_count": 161,
     "metadata": {},
     "output_type": "execute_result"
    },
    {
     "data": {
      "text/plain": [
       "'C:/Users/khanh/code/DATA_SCIENCE/data/clean_images/test/images/14534.jpg'"
      ]
     },
     "execution_count": 161,
     "metadata": {},
     "output_type": "execute_result"
    },
    {
     "data": {
      "text/plain": [
       "'C:/Users/khanh/code/DATA_SCIENCE/data/clean_images/test/labels/14534.txt'"
      ]
     },
     "execution_count": 161,
     "metadata": {},
     "output_type": "execute_result"
    },
    {
     "data": {
      "text/plain": [
       "'C:/Users/khanh/code/DATA_SCIENCE/data/clean_images/test/images/33192.jpg'"
      ]
     },
     "execution_count": 161,
     "metadata": {},
     "output_type": "execute_result"
    },
    {
     "data": {
      "text/plain": [
       "'C:/Users/khanh/code/DATA_SCIENCE/data/clean_images/test/labels/33192.txt'"
      ]
     },
     "execution_count": 161,
     "metadata": {},
     "output_type": "execute_result"
    },
    {
     "data": {
      "text/plain": [
       "'C:/Users/khanh/code/DATA_SCIENCE/data/clean_images/test/images/33194.jpg'"
      ]
     },
     "execution_count": 161,
     "metadata": {},
     "output_type": "execute_result"
    },
    {
     "data": {
      "text/plain": [
       "'C:/Users/khanh/code/DATA_SCIENCE/data/clean_images/test/labels/33194.txt'"
      ]
     },
     "execution_count": 161,
     "metadata": {},
     "output_type": "execute_result"
    },
    {
     "data": {
      "text/plain": [
       "'C:/Users/khanh/code/DATA_SCIENCE/data/clean_images/test/images/33492.jpg'"
      ]
     },
     "execution_count": 161,
     "metadata": {},
     "output_type": "execute_result"
    },
    {
     "data": {
      "text/plain": [
       "'C:/Users/khanh/code/DATA_SCIENCE/data/clean_images/test/labels/33492.txt'"
      ]
     },
     "execution_count": 161,
     "metadata": {},
     "output_type": "execute_result"
    },
    {
     "data": {
      "text/plain": [
       "'C:/Users/khanh/code/DATA_SCIENCE/data/clean_images/test/images/33494.jpg'"
      ]
     },
     "execution_count": 161,
     "metadata": {},
     "output_type": "execute_result"
    },
    {
     "data": {
      "text/plain": [
       "'C:/Users/khanh/code/DATA_SCIENCE/data/clean_images/test/labels/33494.txt'"
      ]
     },
     "execution_count": 161,
     "metadata": {},
     "output_type": "execute_result"
    },
    {
     "data": {
      "text/plain": [
       "'C:/Users/khanh/code/DATA_SCIENCE/data/clean_images/test/images/1201.jpg'"
      ]
     },
     "execution_count": 161,
     "metadata": {},
     "output_type": "execute_result"
    },
    {
     "data": {
      "text/plain": [
       "'C:/Users/khanh/code/DATA_SCIENCE/data/clean_images/test/labels/1201.txt'"
      ]
     },
     "execution_count": 161,
     "metadata": {},
     "output_type": "execute_result"
    },
    {
     "data": {
      "text/plain": [
       "'C:/Users/khanh/code/DATA_SCIENCE/data/clean_images/test/images/1202.jpg'"
      ]
     },
     "execution_count": 161,
     "metadata": {},
     "output_type": "execute_result"
    },
    {
     "data": {
      "text/plain": [
       "'C:/Users/khanh/code/DATA_SCIENCE/data/clean_images/test/labels/1202.txt'"
      ]
     },
     "execution_count": 161,
     "metadata": {},
     "output_type": "execute_result"
    },
    {
     "data": {
      "text/plain": [
       "'C:/Users/khanh/code/DATA_SCIENCE/data/clean_images/test/images/1203.jpg'"
      ]
     },
     "execution_count": 161,
     "metadata": {},
     "output_type": "execute_result"
    },
    {
     "data": {
      "text/plain": [
       "'C:/Users/khanh/code/DATA_SCIENCE/data/clean_images/test/labels/1203.txt'"
      ]
     },
     "execution_count": 161,
     "metadata": {},
     "output_type": "execute_result"
    },
    {
     "data": {
      "text/plain": [
       "'C:/Users/khanh/code/DATA_SCIENCE/data/clean_images/test/images/1204.jpg'"
      ]
     },
     "execution_count": 161,
     "metadata": {},
     "output_type": "execute_result"
    },
    {
     "data": {
      "text/plain": [
       "'C:/Users/khanh/code/DATA_SCIENCE/data/clean_images/test/labels/1204.txt'"
      ]
     },
     "execution_count": 161,
     "metadata": {},
     "output_type": "execute_result"
    },
    {
     "data": {
      "text/plain": [
       "'C:/Users/khanh/code/DATA_SCIENCE/data/clean_images/test/images/10620.jpg'"
      ]
     },
     "execution_count": 161,
     "metadata": {},
     "output_type": "execute_result"
    },
    {
     "data": {
      "text/plain": [
       "'C:/Users/khanh/code/DATA_SCIENCE/data/clean_images/test/labels/10620.txt'"
      ]
     },
     "execution_count": 161,
     "metadata": {},
     "output_type": "execute_result"
    },
    {
     "data": {
      "text/plain": [
       "'C:/Users/khanh/code/DATA_SCIENCE/data/clean_images/test/images/10621.jpg'"
      ]
     },
     "execution_count": 161,
     "metadata": {},
     "output_type": "execute_result"
    },
    {
     "data": {
      "text/plain": [
       "'C:/Users/khanh/code/DATA_SCIENCE/data/clean_images/test/labels/10621.txt'"
      ]
     },
     "execution_count": 161,
     "metadata": {},
     "output_type": "execute_result"
    },
    {
     "data": {
      "text/plain": [
       "'C:/Users/khanh/code/DATA_SCIENCE/data/clean_images/test/images/10622.jpg'"
      ]
     },
     "execution_count": 161,
     "metadata": {},
     "output_type": "execute_result"
    },
    {
     "data": {
      "text/plain": [
       "'C:/Users/khanh/code/DATA_SCIENCE/data/clean_images/test/labels/10622.txt'"
      ]
     },
     "execution_count": 161,
     "metadata": {},
     "output_type": "execute_result"
    },
    {
     "data": {
      "text/plain": [
       "'C:/Users/khanh/code/DATA_SCIENCE/data/clean_images/test/images/10623.jpg'"
      ]
     },
     "execution_count": 161,
     "metadata": {},
     "output_type": "execute_result"
    },
    {
     "data": {
      "text/plain": [
       "'C:/Users/khanh/code/DATA_SCIENCE/data/clean_images/test/labels/10623.txt'"
      ]
     },
     "execution_count": 161,
     "metadata": {},
     "output_type": "execute_result"
    },
    {
     "data": {
      "text/plain": [
       "'C:/Users/khanh/code/DATA_SCIENCE/data/clean_images/test/images/10624.jpg'"
      ]
     },
     "execution_count": 161,
     "metadata": {},
     "output_type": "execute_result"
    },
    {
     "data": {
      "text/plain": [
       "'C:/Users/khanh/code/DATA_SCIENCE/data/clean_images/test/labels/10624.txt'"
      ]
     },
     "execution_count": 161,
     "metadata": {},
     "output_type": "execute_result"
    },
    {
     "data": {
      "text/plain": [
       "'C:/Users/khanh/code/DATA_SCIENCE/data/clean_images/test/images/10625.jpg'"
      ]
     },
     "execution_count": 161,
     "metadata": {},
     "output_type": "execute_result"
    },
    {
     "data": {
      "text/plain": [
       "'C:/Users/khanh/code/DATA_SCIENCE/data/clean_images/test/labels/10625.txt'"
      ]
     },
     "execution_count": 161,
     "metadata": {},
     "output_type": "execute_result"
    },
    {
     "data": {
      "text/plain": [
       "'C:/Users/khanh/code/DATA_SCIENCE/data/clean_images/test/images/31768.jpg'"
      ]
     },
     "execution_count": 161,
     "metadata": {},
     "output_type": "execute_result"
    },
    {
     "data": {
      "text/plain": [
       "'C:/Users/khanh/code/DATA_SCIENCE/data/clean_images/test/labels/31768.txt'"
      ]
     },
     "execution_count": 161,
     "metadata": {},
     "output_type": "execute_result"
    },
    {
     "data": {
      "text/plain": [
       "'C:/Users/khanh/code/DATA_SCIENCE/data/clean_images/test/images/2433.jpg'"
      ]
     },
     "execution_count": 161,
     "metadata": {},
     "output_type": "execute_result"
    },
    {
     "data": {
      "text/plain": [
       "'C:/Users/khanh/code/DATA_SCIENCE/data/clean_images/test/labels/2433.txt'"
      ]
     },
     "execution_count": 161,
     "metadata": {},
     "output_type": "execute_result"
    },
    {
     "data": {
      "text/plain": [
       "'C:/Users/khanh/code/DATA_SCIENCE/data/clean_images/test/images/2434.jpg'"
      ]
     },
     "execution_count": 161,
     "metadata": {},
     "output_type": "execute_result"
    },
    {
     "data": {
      "text/plain": [
       "'C:/Users/khanh/code/DATA_SCIENCE/data/clean_images/test/labels/2434.txt'"
      ]
     },
     "execution_count": 161,
     "metadata": {},
     "output_type": "execute_result"
    },
    {
     "data": {
      "text/plain": [
       "'C:/Users/khanh/code/DATA_SCIENCE/data/clean_images/test/images/22159.jpg'"
      ]
     },
     "execution_count": 161,
     "metadata": {},
     "output_type": "execute_result"
    },
    {
     "data": {
      "text/plain": [
       "'C:/Users/khanh/code/DATA_SCIENCE/data/clean_images/test/labels/22159.txt'"
      ]
     },
     "execution_count": 161,
     "metadata": {},
     "output_type": "execute_result"
    },
    {
     "data": {
      "text/plain": [
       "'C:/Users/khanh/code/DATA_SCIENCE/data/clean_images/test/images/30643.jpg'"
      ]
     },
     "execution_count": 161,
     "metadata": {},
     "output_type": "execute_result"
    },
    {
     "data": {
      "text/plain": [
       "'C:/Users/khanh/code/DATA_SCIENCE/data/clean_images/test/labels/30643.txt'"
      ]
     },
     "execution_count": 161,
     "metadata": {},
     "output_type": "execute_result"
    },
    {
     "data": {
      "text/plain": [
       "'C:/Users/khanh/code/DATA_SCIENCE/data/clean_images/test/images/23697.jpg'"
      ]
     },
     "execution_count": 161,
     "metadata": {},
     "output_type": "execute_result"
    },
    {
     "data": {
      "text/plain": [
       "'C:/Users/khanh/code/DATA_SCIENCE/data/clean_images/test/labels/23697.txt'"
      ]
     },
     "execution_count": 161,
     "metadata": {},
     "output_type": "execute_result"
    },
    {
     "data": {
      "text/plain": [
       "'C:/Users/khanh/code/DATA_SCIENCE/data/clean_images/test/images/23698.jpg'"
      ]
     },
     "execution_count": 161,
     "metadata": {},
     "output_type": "execute_result"
    },
    {
     "data": {
      "text/plain": [
       "'C:/Users/khanh/code/DATA_SCIENCE/data/clean_images/test/labels/23698.txt'"
      ]
     },
     "execution_count": 161,
     "metadata": {},
     "output_type": "execute_result"
    },
    {
     "data": {
      "text/plain": [
       "'C:/Users/khanh/code/DATA_SCIENCE/data/clean_images/test/images/23699.jpg'"
      ]
     },
     "execution_count": 161,
     "metadata": {},
     "output_type": "execute_result"
    },
    {
     "data": {
      "text/plain": [
       "'C:/Users/khanh/code/DATA_SCIENCE/data/clean_images/test/labels/23699.txt'"
      ]
     },
     "execution_count": 161,
     "metadata": {},
     "output_type": "execute_result"
    },
    {
     "data": {
      "text/plain": [
       "'C:/Users/khanh/code/DATA_SCIENCE/data/clean_images/test/images/23700.jpg'"
      ]
     },
     "execution_count": 161,
     "metadata": {},
     "output_type": "execute_result"
    },
    {
     "data": {
      "text/plain": [
       "'C:/Users/khanh/code/DATA_SCIENCE/data/clean_images/test/labels/23700.txt'"
      ]
     },
     "execution_count": 161,
     "metadata": {},
     "output_type": "execute_result"
    },
    {
     "data": {
      "text/plain": [
       "'C:/Users/khanh/code/DATA_SCIENCE/data/clean_images/test/images/23701.jpg'"
      ]
     },
     "execution_count": 161,
     "metadata": {},
     "output_type": "execute_result"
    },
    {
     "data": {
      "text/plain": [
       "'C:/Users/khanh/code/DATA_SCIENCE/data/clean_images/test/labels/23701.txt'"
      ]
     },
     "execution_count": 161,
     "metadata": {},
     "output_type": "execute_result"
    },
    {
     "data": {
      "text/plain": [
       "'C:/Users/khanh/code/DATA_SCIENCE/data/clean_images/test/images/47077.jpg'"
      ]
     },
     "execution_count": 161,
     "metadata": {},
     "output_type": "execute_result"
    },
    {
     "data": {
      "text/plain": [
       "'C:/Users/khanh/code/DATA_SCIENCE/data/clean_images/test/labels/47077.txt'"
      ]
     },
     "execution_count": 161,
     "metadata": {},
     "output_type": "execute_result"
    },
    {
     "data": {
      "text/plain": [
       "'C:/Users/khanh/code/DATA_SCIENCE/data/clean_images/test/images/47078.jpg'"
      ]
     },
     "execution_count": 161,
     "metadata": {},
     "output_type": "execute_result"
    },
    {
     "data": {
      "text/plain": [
       "'C:/Users/khanh/code/DATA_SCIENCE/data/clean_images/test/labels/47078.txt'"
      ]
     },
     "execution_count": 161,
     "metadata": {},
     "output_type": "execute_result"
    },
    {
     "data": {
      "text/plain": [
       "'C:/Users/khanh/code/DATA_SCIENCE/data/clean_images/test/images/47080.jpg'"
      ]
     },
     "execution_count": 161,
     "metadata": {},
     "output_type": "execute_result"
    },
    {
     "data": {
      "text/plain": [
       "'C:/Users/khanh/code/DATA_SCIENCE/data/clean_images/test/labels/47080.txt'"
      ]
     },
     "execution_count": 161,
     "metadata": {},
     "output_type": "execute_result"
    },
    {
     "data": {
      "text/plain": [
       "'C:/Users/khanh/code/DATA_SCIENCE/data/clean_images/test/images/43278.jpg'"
      ]
     },
     "execution_count": 161,
     "metadata": {},
     "output_type": "execute_result"
    },
    {
     "data": {
      "text/plain": [
       "'C:/Users/khanh/code/DATA_SCIENCE/data/clean_images/test/labels/43278.txt'"
      ]
     },
     "execution_count": 161,
     "metadata": {},
     "output_type": "execute_result"
    },
    {
     "data": {
      "text/plain": [
       "'C:/Users/khanh/code/DATA_SCIENCE/data/clean_images/test/images/43279.jpg'"
      ]
     },
     "execution_count": 161,
     "metadata": {},
     "output_type": "execute_result"
    },
    {
     "data": {
      "text/plain": [
       "'C:/Users/khanh/code/DATA_SCIENCE/data/clean_images/test/labels/43279.txt'"
      ]
     },
     "execution_count": 161,
     "metadata": {},
     "output_type": "execute_result"
    },
    {
     "data": {
      "text/plain": [
       "'C:/Users/khanh/code/DATA_SCIENCE/data/clean_images/test/images/44417.jpg'"
      ]
     },
     "execution_count": 161,
     "metadata": {},
     "output_type": "execute_result"
    },
    {
     "data": {
      "text/plain": [
       "'C:/Users/khanh/code/DATA_SCIENCE/data/clean_images/test/labels/44417.txt'"
      ]
     },
     "execution_count": 161,
     "metadata": {},
     "output_type": "execute_result"
    },
    {
     "data": {
      "text/plain": [
       "'C:/Users/khanh/code/DATA_SCIENCE/data/clean_images/test/images/44418.jpg'"
      ]
     },
     "execution_count": 161,
     "metadata": {},
     "output_type": "execute_result"
    },
    {
     "data": {
      "text/plain": [
       "'C:/Users/khanh/code/DATA_SCIENCE/data/clean_images/test/labels/44418.txt'"
      ]
     },
     "execution_count": 161,
     "metadata": {},
     "output_type": "execute_result"
    },
    {
     "data": {
      "text/plain": [
       "'C:/Users/khanh/code/DATA_SCIENCE/data/clean_images/test/images/44419.jpg'"
      ]
     },
     "execution_count": 161,
     "metadata": {},
     "output_type": "execute_result"
    },
    {
     "data": {
      "text/plain": [
       "'C:/Users/khanh/code/DATA_SCIENCE/data/clean_images/test/labels/44419.txt'"
      ]
     },
     "execution_count": 161,
     "metadata": {},
     "output_type": "execute_result"
    },
    {
     "data": {
      "text/plain": [
       "'C:/Users/khanh/code/DATA_SCIENCE/data/clean_images/test/images/44420.jpg'"
      ]
     },
     "execution_count": 161,
     "metadata": {},
     "output_type": "execute_result"
    },
    {
     "data": {
      "text/plain": [
       "'C:/Users/khanh/code/DATA_SCIENCE/data/clean_images/test/labels/44420.txt'"
      ]
     },
     "execution_count": 161,
     "metadata": {},
     "output_type": "execute_result"
    },
    {
     "data": {
      "text/plain": [
       "'C:/Users/khanh/code/DATA_SCIENCE/data/clean_images/test/images/15038.jpg'"
      ]
     },
     "execution_count": 161,
     "metadata": {},
     "output_type": "execute_result"
    },
    {
     "data": {
      "text/plain": [
       "'C:/Users/khanh/code/DATA_SCIENCE/data/clean_images/test/labels/15038.txt'"
      ]
     },
     "execution_count": 161,
     "metadata": {},
     "output_type": "execute_result"
    },
    {
     "data": {
      "text/plain": [
       "'C:/Users/khanh/code/DATA_SCIENCE/data/clean_images/test/images/5602.jpg'"
      ]
     },
     "execution_count": 161,
     "metadata": {},
     "output_type": "execute_result"
    },
    {
     "data": {
      "text/plain": [
       "'C:/Users/khanh/code/DATA_SCIENCE/data/clean_images/test/labels/5602.txt'"
      ]
     },
     "execution_count": 161,
     "metadata": {},
     "output_type": "execute_result"
    },
    {
     "data": {
      "text/plain": [
       "'C:/Users/khanh/code/DATA_SCIENCE/data/clean_images/test/images/5604.jpg'"
      ]
     },
     "execution_count": 161,
     "metadata": {},
     "output_type": "execute_result"
    },
    {
     "data": {
      "text/plain": [
       "'C:/Users/khanh/code/DATA_SCIENCE/data/clean_images/test/labels/5604.txt'"
      ]
     },
     "execution_count": 161,
     "metadata": {},
     "output_type": "execute_result"
    },
    {
     "data": {
      "text/plain": [
       "'C:/Users/khanh/code/DATA_SCIENCE/data/clean_images/test/images/5605.jpg'"
      ]
     },
     "execution_count": 161,
     "metadata": {},
     "output_type": "execute_result"
    },
    {
     "data": {
      "text/plain": [
       "'C:/Users/khanh/code/DATA_SCIENCE/data/clean_images/test/labels/5605.txt'"
      ]
     },
     "execution_count": 161,
     "metadata": {},
     "output_type": "execute_result"
    },
    {
     "data": {
      "text/plain": [
       "'C:/Users/khanh/code/DATA_SCIENCE/data/clean_images/test/images/5606.jpg'"
      ]
     },
     "execution_count": 161,
     "metadata": {},
     "output_type": "execute_result"
    },
    {
     "data": {
      "text/plain": [
       "'C:/Users/khanh/code/DATA_SCIENCE/data/clean_images/test/labels/5606.txt'"
      ]
     },
     "execution_count": 161,
     "metadata": {},
     "output_type": "execute_result"
    },
    {
     "data": {
      "text/plain": [
       "'C:/Users/khanh/code/DATA_SCIENCE/data/clean_images/test/images/22957.jpg'"
      ]
     },
     "execution_count": 161,
     "metadata": {},
     "output_type": "execute_result"
    },
    {
     "data": {
      "text/plain": [
       "'C:/Users/khanh/code/DATA_SCIENCE/data/clean_images/test/labels/22957.txt'"
      ]
     },
     "execution_count": 161,
     "metadata": {},
     "output_type": "execute_result"
    },
    {
     "data": {
      "text/plain": [
       "'C:/Users/khanh/code/DATA_SCIENCE/data/clean_images/test/images/28826.jpg'"
      ]
     },
     "execution_count": 161,
     "metadata": {},
     "output_type": "execute_result"
    },
    {
     "data": {
      "text/plain": [
       "'C:/Users/khanh/code/DATA_SCIENCE/data/clean_images/test/labels/28826.txt'"
      ]
     },
     "execution_count": 161,
     "metadata": {},
     "output_type": "execute_result"
    },
    {
     "data": {
      "text/plain": [
       "'C:/Users/khanh/code/DATA_SCIENCE/data/clean_images/test/images/28829.jpg'"
      ]
     },
     "execution_count": 161,
     "metadata": {},
     "output_type": "execute_result"
    },
    {
     "data": {
      "text/plain": [
       "'C:/Users/khanh/code/DATA_SCIENCE/data/clean_images/test/labels/28829.txt'"
      ]
     },
     "execution_count": 161,
     "metadata": {},
     "output_type": "execute_result"
    },
    {
     "data": {
      "text/plain": [
       "'C:/Users/khanh/code/DATA_SCIENCE/data/clean_images/test/images/43764.jpg'"
      ]
     },
     "execution_count": 161,
     "metadata": {},
     "output_type": "execute_result"
    },
    {
     "data": {
      "text/plain": [
       "'C:/Users/khanh/code/DATA_SCIENCE/data/clean_images/test/labels/43764.txt'"
      ]
     },
     "execution_count": 161,
     "metadata": {},
     "output_type": "execute_result"
    },
    {
     "data": {
      "text/plain": [
       "'C:/Users/khanh/code/DATA_SCIENCE/data/clean_images/test/images/3094.jpg'"
      ]
     },
     "execution_count": 161,
     "metadata": {},
     "output_type": "execute_result"
    },
    {
     "data": {
      "text/plain": [
       "'C:/Users/khanh/code/DATA_SCIENCE/data/clean_images/test/labels/3094.txt'"
      ]
     },
     "execution_count": 161,
     "metadata": {},
     "output_type": "execute_result"
    },
    {
     "data": {
      "text/plain": [
       "'C:/Users/khanh/code/DATA_SCIENCE/data/clean_images/test/images/3095.jpg'"
      ]
     },
     "execution_count": 161,
     "metadata": {},
     "output_type": "execute_result"
    },
    {
     "data": {
      "text/plain": [
       "'C:/Users/khanh/code/DATA_SCIENCE/data/clean_images/test/labels/3095.txt'"
      ]
     },
     "execution_count": 161,
     "metadata": {},
     "output_type": "execute_result"
    },
    {
     "data": {
      "text/plain": [
       "'C:/Users/khanh/code/DATA_SCIENCE/data/clean_images/test/images/37128.jpg'"
      ]
     },
     "execution_count": 161,
     "metadata": {},
     "output_type": "execute_result"
    },
    {
     "data": {
      "text/plain": [
       "'C:/Users/khanh/code/DATA_SCIENCE/data/clean_images/test/labels/37128.txt'"
      ]
     },
     "execution_count": 161,
     "metadata": {},
     "output_type": "execute_result"
    },
    {
     "data": {
      "text/plain": [
       "'C:/Users/khanh/code/DATA_SCIENCE/data/clean_images/test/images/37131.jpg'"
      ]
     },
     "execution_count": 161,
     "metadata": {},
     "output_type": "execute_result"
    },
    {
     "data": {
      "text/plain": [
       "'C:/Users/khanh/code/DATA_SCIENCE/data/clean_images/test/labels/37131.txt'"
      ]
     },
     "execution_count": 161,
     "metadata": {},
     "output_type": "execute_result"
    },
    {
     "data": {
      "text/plain": [
       "'C:/Users/khanh/code/DATA_SCIENCE/data/clean_images/test/images/17736.jpg'"
      ]
     },
     "execution_count": 161,
     "metadata": {},
     "output_type": "execute_result"
    },
    {
     "data": {
      "text/plain": [
       "'C:/Users/khanh/code/DATA_SCIENCE/data/clean_images/test/labels/17736.txt'"
      ]
     },
     "execution_count": 161,
     "metadata": {},
     "output_type": "execute_result"
    },
    {
     "data": {
      "text/plain": [
       "'C:/Users/khanh/code/DATA_SCIENCE/data/clean_images/test/images/17737.jpg'"
      ]
     },
     "execution_count": 161,
     "metadata": {},
     "output_type": "execute_result"
    },
    {
     "data": {
      "text/plain": [
       "'C:/Users/khanh/code/DATA_SCIENCE/data/clean_images/test/labels/17737.txt'"
      ]
     },
     "execution_count": 161,
     "metadata": {},
     "output_type": "execute_result"
    },
    {
     "data": {
      "text/plain": [
       "'C:/Users/khanh/code/DATA_SCIENCE/data/clean_images/test/images/9043.jpg'"
      ]
     },
     "execution_count": 161,
     "metadata": {},
     "output_type": "execute_result"
    },
    {
     "data": {
      "text/plain": [
       "'C:/Users/khanh/code/DATA_SCIENCE/data/clean_images/test/labels/9043.txt'"
      ]
     },
     "execution_count": 161,
     "metadata": {},
     "output_type": "execute_result"
    },
    {
     "data": {
      "text/plain": [
       "'C:/Users/khanh/code/DATA_SCIENCE/data/clean_images/test/images/9046.jpg'"
      ]
     },
     "execution_count": 161,
     "metadata": {},
     "output_type": "execute_result"
    },
    {
     "data": {
      "text/plain": [
       "'C:/Users/khanh/code/DATA_SCIENCE/data/clean_images/test/labels/9046.txt'"
      ]
     },
     "execution_count": 161,
     "metadata": {},
     "output_type": "execute_result"
    },
    {
     "data": {
      "text/plain": [
       "'C:/Users/khanh/code/DATA_SCIENCE/data/clean_images/test/images/21876.jpg'"
      ]
     },
     "execution_count": 161,
     "metadata": {},
     "output_type": "execute_result"
    },
    {
     "data": {
      "text/plain": [
       "'C:/Users/khanh/code/DATA_SCIENCE/data/clean_images/test/labels/21876.txt'"
      ]
     },
     "execution_count": 161,
     "metadata": {},
     "output_type": "execute_result"
    },
    {
     "data": {
      "text/plain": [
       "'C:/Users/khanh/code/DATA_SCIENCE/data/clean_images/test/images/53654.jpg'"
      ]
     },
     "execution_count": 161,
     "metadata": {},
     "output_type": "execute_result"
    },
    {
     "data": {
      "text/plain": [
       "'C:/Users/khanh/code/DATA_SCIENCE/data/clean_images/test/labels/53654.txt'"
      ]
     },
     "execution_count": 161,
     "metadata": {},
     "output_type": "execute_result"
    },
    {
     "data": {
      "text/plain": [
       "'C:/Users/khanh/code/DATA_SCIENCE/data/clean_images/test/images/53655.jpg'"
      ]
     },
     "execution_count": 161,
     "metadata": {},
     "output_type": "execute_result"
    },
    {
     "data": {
      "text/plain": [
       "'C:/Users/khanh/code/DATA_SCIENCE/data/clean_images/test/labels/53655.txt'"
      ]
     },
     "execution_count": 161,
     "metadata": {},
     "output_type": "execute_result"
    },
    {
     "data": {
      "text/plain": [
       "'C:/Users/khanh/code/DATA_SCIENCE/data/clean_images/test/images/53656.jpg'"
      ]
     },
     "execution_count": 161,
     "metadata": {},
     "output_type": "execute_result"
    },
    {
     "data": {
      "text/plain": [
       "'C:/Users/khanh/code/DATA_SCIENCE/data/clean_images/test/labels/53656.txt'"
      ]
     },
     "execution_count": 161,
     "metadata": {},
     "output_type": "execute_result"
    },
    {
     "data": {
      "text/plain": [
       "'C:/Users/khanh/code/DATA_SCIENCE/data/clean_images/test/images/53657.jpg'"
      ]
     },
     "execution_count": 161,
     "metadata": {},
     "output_type": "execute_result"
    },
    {
     "data": {
      "text/plain": [
       "'C:/Users/khanh/code/DATA_SCIENCE/data/clean_images/test/labels/53657.txt'"
      ]
     },
     "execution_count": 161,
     "metadata": {},
     "output_type": "execute_result"
    },
    {
     "data": {
      "text/plain": [
       "'C:/Users/khanh/code/DATA_SCIENCE/data/clean_images/test/images/53659.jpg'"
      ]
     },
     "execution_count": 161,
     "metadata": {},
     "output_type": "execute_result"
    },
    {
     "data": {
      "text/plain": [
       "'C:/Users/khanh/code/DATA_SCIENCE/data/clean_images/test/labels/53659.txt'"
      ]
     },
     "execution_count": 161,
     "metadata": {},
     "output_type": "execute_result"
    },
    {
     "data": {
      "text/plain": [
       "'C:/Users/khanh/code/DATA_SCIENCE/data/clean_images/test/images/26054.jpg'"
      ]
     },
     "execution_count": 161,
     "metadata": {},
     "output_type": "execute_result"
    },
    {
     "data": {
      "text/plain": [
       "'C:/Users/khanh/code/DATA_SCIENCE/data/clean_images/test/labels/26054.txt'"
      ]
     },
     "execution_count": 161,
     "metadata": {},
     "output_type": "execute_result"
    },
    {
     "data": {
      "text/plain": [
       "'C:/Users/khanh/code/DATA_SCIENCE/data/clean_images/test/images/26056.jpg'"
      ]
     },
     "execution_count": 161,
     "metadata": {},
     "output_type": "execute_result"
    },
    {
     "data": {
      "text/plain": [
       "'C:/Users/khanh/code/DATA_SCIENCE/data/clean_images/test/labels/26056.txt'"
      ]
     },
     "execution_count": 161,
     "metadata": {},
     "output_type": "execute_result"
    },
    {
     "data": {
      "text/plain": [
       "'C:/Users/khanh/code/DATA_SCIENCE/data/clean_images/test/images/26057.jpg'"
      ]
     },
     "execution_count": 161,
     "metadata": {},
     "output_type": "execute_result"
    },
    {
     "data": {
      "text/plain": [
       "'C:/Users/khanh/code/DATA_SCIENCE/data/clean_images/test/labels/26057.txt'"
      ]
     },
     "execution_count": 161,
     "metadata": {},
     "output_type": "execute_result"
    },
    {
     "data": {
      "text/plain": [
       "'C:/Users/khanh/code/DATA_SCIENCE/data/clean_images/test/images/26058.jpg'"
      ]
     },
     "execution_count": 161,
     "metadata": {},
     "output_type": "execute_result"
    },
    {
     "data": {
      "text/plain": [
       "'C:/Users/khanh/code/DATA_SCIENCE/data/clean_images/test/labels/26058.txt'"
      ]
     },
     "execution_count": 161,
     "metadata": {},
     "output_type": "execute_result"
    },
    {
     "data": {
      "text/plain": [
       "'C:/Users/khanh/code/DATA_SCIENCE/data/clean_images/test/images/39714.jpg'"
      ]
     },
     "execution_count": 161,
     "metadata": {},
     "output_type": "execute_result"
    },
    {
     "data": {
      "text/plain": [
       "'C:/Users/khanh/code/DATA_SCIENCE/data/clean_images/test/labels/39714.txt'"
      ]
     },
     "execution_count": 161,
     "metadata": {},
     "output_type": "execute_result"
    },
    {
     "data": {
      "text/plain": [
       "'C:/Users/khanh/code/DATA_SCIENCE/data/clean_images/test/images/39715.jpg'"
      ]
     },
     "execution_count": 161,
     "metadata": {},
     "output_type": "execute_result"
    },
    {
     "data": {
      "text/plain": [
       "'C:/Users/khanh/code/DATA_SCIENCE/data/clean_images/test/labels/39715.txt'"
      ]
     },
     "execution_count": 161,
     "metadata": {},
     "output_type": "execute_result"
    },
    {
     "data": {
      "text/plain": [
       "'C:/Users/khanh/code/DATA_SCIENCE/data/clean_images/test/images/39717.jpg'"
      ]
     },
     "execution_count": 161,
     "metadata": {},
     "output_type": "execute_result"
    },
    {
     "data": {
      "text/plain": [
       "'C:/Users/khanh/code/DATA_SCIENCE/data/clean_images/test/labels/39717.txt'"
      ]
     },
     "execution_count": 161,
     "metadata": {},
     "output_type": "execute_result"
    },
    {
     "data": {
      "text/plain": [
       "'C:/Users/khanh/code/DATA_SCIENCE/data/clean_images/test/images/39718.jpg'"
      ]
     },
     "execution_count": 161,
     "metadata": {},
     "output_type": "execute_result"
    },
    {
     "data": {
      "text/plain": [
       "'C:/Users/khanh/code/DATA_SCIENCE/data/clean_images/test/labels/39718.txt'"
      ]
     },
     "execution_count": 161,
     "metadata": {},
     "output_type": "execute_result"
    },
    {
     "data": {
      "text/plain": [
       "'C:/Users/khanh/code/DATA_SCIENCE/data/clean_images/test/images/42982.jpg'"
      ]
     },
     "execution_count": 161,
     "metadata": {},
     "output_type": "execute_result"
    },
    {
     "data": {
      "text/plain": [
       "'C:/Users/khanh/code/DATA_SCIENCE/data/clean_images/test/labels/42982.txt'"
      ]
     },
     "execution_count": 161,
     "metadata": {},
     "output_type": "execute_result"
    },
    {
     "data": {
      "text/plain": [
       "'C:/Users/khanh/code/DATA_SCIENCE/data/clean_images/test/images/42983.jpg'"
      ]
     },
     "execution_count": 161,
     "metadata": {},
     "output_type": "execute_result"
    },
    {
     "data": {
      "text/plain": [
       "'C:/Users/khanh/code/DATA_SCIENCE/data/clean_images/test/labels/42983.txt'"
      ]
     },
     "execution_count": 161,
     "metadata": {},
     "output_type": "execute_result"
    },
    {
     "data": {
      "text/plain": [
       "'C:/Users/khanh/code/DATA_SCIENCE/data/clean_images/test/images/42984.jpg'"
      ]
     },
     "execution_count": 161,
     "metadata": {},
     "output_type": "execute_result"
    },
    {
     "data": {
      "text/plain": [
       "'C:/Users/khanh/code/DATA_SCIENCE/data/clean_images/test/labels/42984.txt'"
      ]
     },
     "execution_count": 161,
     "metadata": {},
     "output_type": "execute_result"
    },
    {
     "data": {
      "text/plain": [
       "'C:/Users/khanh/code/DATA_SCIENCE/data/clean_images/test/images/42985.jpg'"
      ]
     },
     "execution_count": 161,
     "metadata": {},
     "output_type": "execute_result"
    },
    {
     "data": {
      "text/plain": [
       "'C:/Users/khanh/code/DATA_SCIENCE/data/clean_images/test/labels/42985.txt'"
      ]
     },
     "execution_count": 161,
     "metadata": {},
     "output_type": "execute_result"
    },
    {
     "data": {
      "text/plain": [
       "'C:/Users/khanh/code/DATA_SCIENCE/data/clean_images/test/images/28980.jpg'"
      ]
     },
     "execution_count": 161,
     "metadata": {},
     "output_type": "execute_result"
    },
    {
     "data": {
      "text/plain": [
       "'C:/Users/khanh/code/DATA_SCIENCE/data/clean_images/test/labels/28980.txt'"
      ]
     },
     "execution_count": 161,
     "metadata": {},
     "output_type": "execute_result"
    },
    {
     "data": {
      "text/plain": [
       "'C:/Users/khanh/code/DATA_SCIENCE/data/clean_images/test/images/28981.jpg'"
      ]
     },
     "execution_count": 161,
     "metadata": {},
     "output_type": "execute_result"
    },
    {
     "data": {
      "text/plain": [
       "'C:/Users/khanh/code/DATA_SCIENCE/data/clean_images/test/labels/28981.txt'"
      ]
     },
     "execution_count": 161,
     "metadata": {},
     "output_type": "execute_result"
    },
    {
     "data": {
      "text/plain": [
       "'C:/Users/khanh/code/DATA_SCIENCE/data/clean_images/test/images/28982.jpg'"
      ]
     },
     "execution_count": 161,
     "metadata": {},
     "output_type": "execute_result"
    },
    {
     "data": {
      "text/plain": [
       "'C:/Users/khanh/code/DATA_SCIENCE/data/clean_images/test/labels/28982.txt'"
      ]
     },
     "execution_count": 161,
     "metadata": {},
     "output_type": "execute_result"
    },
    {
     "data": {
      "text/plain": [
       "'C:/Users/khanh/code/DATA_SCIENCE/data/clean_images/test/images/28984.jpg'"
      ]
     },
     "execution_count": 161,
     "metadata": {},
     "output_type": "execute_result"
    },
    {
     "data": {
      "text/plain": [
       "'C:/Users/khanh/code/DATA_SCIENCE/data/clean_images/test/labels/28984.txt'"
      ]
     },
     "execution_count": 161,
     "metadata": {},
     "output_type": "execute_result"
    },
    {
     "data": {
      "text/plain": [
       "'C:/Users/khanh/code/DATA_SCIENCE/data/clean_images/test/images/19526.jpg'"
      ]
     },
     "execution_count": 161,
     "metadata": {},
     "output_type": "execute_result"
    },
    {
     "data": {
      "text/plain": [
       "'C:/Users/khanh/code/DATA_SCIENCE/data/clean_images/test/labels/19526.txt'"
      ]
     },
     "execution_count": 161,
     "metadata": {},
     "output_type": "execute_result"
    },
    {
     "data": {
      "text/plain": [
       "'C:/Users/khanh/code/DATA_SCIENCE/data/clean_images/test/images/19527.jpg'"
      ]
     },
     "execution_count": 161,
     "metadata": {},
     "output_type": "execute_result"
    },
    {
     "data": {
      "text/plain": [
       "'C:/Users/khanh/code/DATA_SCIENCE/data/clean_images/test/labels/19527.txt'"
      ]
     },
     "execution_count": 161,
     "metadata": {},
     "output_type": "execute_result"
    },
    {
     "data": {
      "text/plain": [
       "'C:/Users/khanh/code/DATA_SCIENCE/data/clean_images/test/images/47432.jpg'"
      ]
     },
     "execution_count": 161,
     "metadata": {},
     "output_type": "execute_result"
    },
    {
     "data": {
      "text/plain": [
       "'C:/Users/khanh/code/DATA_SCIENCE/data/clean_images/test/labels/47432.txt'"
      ]
     },
     "execution_count": 161,
     "metadata": {},
     "output_type": "execute_result"
    },
    {
     "data": {
      "text/plain": [
       "'C:/Users/khanh/code/DATA_SCIENCE/data/clean_images/test/images/28208.jpg'"
      ]
     },
     "execution_count": 161,
     "metadata": {},
     "output_type": "execute_result"
    },
    {
     "data": {
      "text/plain": [
       "'C:/Users/khanh/code/DATA_SCIENCE/data/clean_images/test/labels/28208.txt'"
      ]
     },
     "execution_count": 161,
     "metadata": {},
     "output_type": "execute_result"
    },
    {
     "data": {
      "text/plain": [
       "'C:/Users/khanh/code/DATA_SCIENCE/data/clean_images/test/images/12590.jpg'"
      ]
     },
     "execution_count": 161,
     "metadata": {},
     "output_type": "execute_result"
    },
    {
     "data": {
      "text/plain": [
       "'C:/Users/khanh/code/DATA_SCIENCE/data/clean_images/test/labels/12590.txt'"
      ]
     },
     "execution_count": 161,
     "metadata": {},
     "output_type": "execute_result"
    },
    {
     "data": {
      "text/plain": [
       "'C:/Users/khanh/code/DATA_SCIENCE/data/clean_images/test/images/12592.jpg'"
      ]
     },
     "execution_count": 161,
     "metadata": {},
     "output_type": "execute_result"
    },
    {
     "data": {
      "text/plain": [
       "'C:/Users/khanh/code/DATA_SCIENCE/data/clean_images/test/labels/12592.txt'"
      ]
     },
     "execution_count": 161,
     "metadata": {},
     "output_type": "execute_result"
    },
    {
     "data": {
      "text/plain": [
       "'C:/Users/khanh/code/DATA_SCIENCE/data/clean_images/test/images/12594.jpg'"
      ]
     },
     "execution_count": 161,
     "metadata": {},
     "output_type": "execute_result"
    },
    {
     "data": {
      "text/plain": [
       "'C:/Users/khanh/code/DATA_SCIENCE/data/clean_images/test/labels/12594.txt'"
      ]
     },
     "execution_count": 161,
     "metadata": {},
     "output_type": "execute_result"
    },
    {
     "data": {
      "text/plain": [
       "'C:/Users/khanh/code/DATA_SCIENCE/data/clean_images/test/images/30865.jpg'"
      ]
     },
     "execution_count": 161,
     "metadata": {},
     "output_type": "execute_result"
    },
    {
     "data": {
      "text/plain": [
       "'C:/Users/khanh/code/DATA_SCIENCE/data/clean_images/test/labels/30865.txt'"
      ]
     },
     "execution_count": 161,
     "metadata": {},
     "output_type": "execute_result"
    },
    {
     "data": {
      "text/plain": [
       "'C:/Users/khanh/code/DATA_SCIENCE/data/clean_images/test/images/30866.jpg'"
      ]
     },
     "execution_count": 161,
     "metadata": {},
     "output_type": "execute_result"
    },
    {
     "data": {
      "text/plain": [
       "'C:/Users/khanh/code/DATA_SCIENCE/data/clean_images/test/labels/30866.txt'"
      ]
     },
     "execution_count": 161,
     "metadata": {},
     "output_type": "execute_result"
    },
    {
     "data": {
      "text/plain": [
       "'C:/Users/khanh/code/DATA_SCIENCE/data/clean_images/test/images/30868.jpg'"
      ]
     },
     "execution_count": 161,
     "metadata": {},
     "output_type": "execute_result"
    },
    {
     "data": {
      "text/plain": [
       "'C:/Users/khanh/code/DATA_SCIENCE/data/clean_images/test/labels/30868.txt'"
      ]
     },
     "execution_count": 161,
     "metadata": {},
     "output_type": "execute_result"
    },
    {
     "data": {
      "text/plain": [
       "'C:/Users/khanh/code/DATA_SCIENCE/data/clean_images/test/images/37098.jpg'"
      ]
     },
     "execution_count": 161,
     "metadata": {},
     "output_type": "execute_result"
    },
    {
     "data": {
      "text/plain": [
       "'C:/Users/khanh/code/DATA_SCIENCE/data/clean_images/test/labels/37098.txt'"
      ]
     },
     "execution_count": 161,
     "metadata": {},
     "output_type": "execute_result"
    },
    {
     "data": {
      "text/plain": [
       "'C:/Users/khanh/code/DATA_SCIENCE/data/clean_images/test/images/37102.jpg'"
      ]
     },
     "execution_count": 161,
     "metadata": {},
     "output_type": "execute_result"
    },
    {
     "data": {
      "text/plain": [
       "'C:/Users/khanh/code/DATA_SCIENCE/data/clean_images/test/labels/37102.txt'"
      ]
     },
     "execution_count": 161,
     "metadata": {},
     "output_type": "execute_result"
    },
    {
     "data": {
      "text/plain": [
       "'C:/Users/khanh/code/DATA_SCIENCE/data/clean_images/test/images/27035.jpg'"
      ]
     },
     "execution_count": 161,
     "metadata": {},
     "output_type": "execute_result"
    },
    {
     "data": {
      "text/plain": [
       "'C:/Users/khanh/code/DATA_SCIENCE/data/clean_images/test/labels/27035.txt'"
      ]
     },
     "execution_count": 161,
     "metadata": {},
     "output_type": "execute_result"
    },
    {
     "data": {
      "text/plain": [
       "'C:/Users/khanh/code/DATA_SCIENCE/data/clean_images/test/images/54399.jpg'"
      ]
     },
     "execution_count": 161,
     "metadata": {},
     "output_type": "execute_result"
    },
    {
     "data": {
      "text/plain": [
       "'C:/Users/khanh/code/DATA_SCIENCE/data/clean_images/test/labels/54399.txt'"
      ]
     },
     "execution_count": 161,
     "metadata": {},
     "output_type": "execute_result"
    },
    {
     "data": {
      "text/plain": [
       "'C:/Users/khanh/code/DATA_SCIENCE/data/clean_images/test/images/54400.jpg'"
      ]
     },
     "execution_count": 161,
     "metadata": {},
     "output_type": "execute_result"
    },
    {
     "data": {
      "text/plain": [
       "'C:/Users/khanh/code/DATA_SCIENCE/data/clean_images/test/labels/54400.txt'"
      ]
     },
     "execution_count": 161,
     "metadata": {},
     "output_type": "execute_result"
    },
    {
     "data": {
      "text/plain": [
       "'C:/Users/khanh/code/DATA_SCIENCE/data/clean_images/test/images/31553.jpg'"
      ]
     },
     "execution_count": 161,
     "metadata": {},
     "output_type": "execute_result"
    },
    {
     "data": {
      "text/plain": [
       "'C:/Users/khanh/code/DATA_SCIENCE/data/clean_images/test/labels/31553.txt'"
      ]
     },
     "execution_count": 161,
     "metadata": {},
     "output_type": "execute_result"
    },
    {
     "data": {
      "text/plain": [
       "'C:/Users/khanh/code/DATA_SCIENCE/data/clean_images/test/images/31554.jpg'"
      ]
     },
     "execution_count": 161,
     "metadata": {},
     "output_type": "execute_result"
    },
    {
     "data": {
      "text/plain": [
       "'C:/Users/khanh/code/DATA_SCIENCE/data/clean_images/test/labels/31554.txt'"
      ]
     },
     "execution_count": 161,
     "metadata": {},
     "output_type": "execute_result"
    },
    {
     "data": {
      "text/plain": [
       "'C:/Users/khanh/code/DATA_SCIENCE/data/clean_images/test/images/31555.jpg'"
      ]
     },
     "execution_count": 161,
     "metadata": {},
     "output_type": "execute_result"
    },
    {
     "data": {
      "text/plain": [
       "'C:/Users/khanh/code/DATA_SCIENCE/data/clean_images/test/labels/31555.txt'"
      ]
     },
     "execution_count": 161,
     "metadata": {},
     "output_type": "execute_result"
    },
    {
     "data": {
      "text/plain": [
       "'C:/Users/khanh/code/DATA_SCIENCE/data/clean_images/test/images/43214.jpg'"
      ]
     },
     "execution_count": 161,
     "metadata": {},
     "output_type": "execute_result"
    },
    {
     "data": {
      "text/plain": [
       "'C:/Users/khanh/code/DATA_SCIENCE/data/clean_images/test/labels/43214.txt'"
      ]
     },
     "execution_count": 161,
     "metadata": {},
     "output_type": "execute_result"
    },
    {
     "data": {
      "text/plain": [
       "'C:/Users/khanh/code/DATA_SCIENCE/data/clean_images/test/images/48787.jpg'"
      ]
     },
     "execution_count": 161,
     "metadata": {},
     "output_type": "execute_result"
    },
    {
     "data": {
      "text/plain": [
       "'C:/Users/khanh/code/DATA_SCIENCE/data/clean_images/test/labels/48787.txt'"
      ]
     },
     "execution_count": 161,
     "metadata": {},
     "output_type": "execute_result"
    },
    {
     "data": {
      "text/plain": [
       "'C:/Users/khanh/code/DATA_SCIENCE/data/clean_images/test/images/7356.jpg'"
      ]
     },
     "execution_count": 161,
     "metadata": {},
     "output_type": "execute_result"
    },
    {
     "data": {
      "text/plain": [
       "'C:/Users/khanh/code/DATA_SCIENCE/data/clean_images/test/labels/7356.txt'"
      ]
     },
     "execution_count": 161,
     "metadata": {},
     "output_type": "execute_result"
    },
    {
     "data": {
      "text/plain": [
       "'C:/Users/khanh/code/DATA_SCIENCE/data/clean_images/test/images/39720.jpg'"
      ]
     },
     "execution_count": 161,
     "metadata": {},
     "output_type": "execute_result"
    },
    {
     "data": {
      "text/plain": [
       "'C:/Users/khanh/code/DATA_SCIENCE/data/clean_images/test/labels/39720.txt'"
      ]
     },
     "execution_count": 161,
     "metadata": {},
     "output_type": "execute_result"
    },
    {
     "data": {
      "text/plain": [
       "'C:/Users/khanh/code/DATA_SCIENCE/data/clean_images/test/images/39721.jpg'"
      ]
     },
     "execution_count": 161,
     "metadata": {},
     "output_type": "execute_result"
    },
    {
     "data": {
      "text/plain": [
       "'C:/Users/khanh/code/DATA_SCIENCE/data/clean_images/test/labels/39721.txt'"
      ]
     },
     "execution_count": 161,
     "metadata": {},
     "output_type": "execute_result"
    },
    {
     "data": {
      "text/plain": [
       "'C:/Users/khanh/code/DATA_SCIENCE/data/clean_images/test/images/46640.jpg'"
      ]
     },
     "execution_count": 161,
     "metadata": {},
     "output_type": "execute_result"
    },
    {
     "data": {
      "text/plain": [
       "'C:/Users/khanh/code/DATA_SCIENCE/data/clean_images/test/labels/46640.txt'"
      ]
     },
     "execution_count": 161,
     "metadata": {},
     "output_type": "execute_result"
    },
    {
     "data": {
      "text/plain": [
       "'C:/Users/khanh/code/DATA_SCIENCE/data/clean_images/test/images/51747.jpg'"
      ]
     },
     "execution_count": 161,
     "metadata": {},
     "output_type": "execute_result"
    },
    {
     "data": {
      "text/plain": [
       "'C:/Users/khanh/code/DATA_SCIENCE/data/clean_images/test/labels/51747.txt'"
      ]
     },
     "execution_count": 161,
     "metadata": {},
     "output_type": "execute_result"
    },
    {
     "data": {
      "text/plain": [
       "'C:/Users/khanh/code/DATA_SCIENCE/data/clean_images/test/images/51748.jpg'"
      ]
     },
     "execution_count": 161,
     "metadata": {},
     "output_type": "execute_result"
    },
    {
     "data": {
      "text/plain": [
       "'C:/Users/khanh/code/DATA_SCIENCE/data/clean_images/test/labels/51748.txt'"
      ]
     },
     "execution_count": 161,
     "metadata": {},
     "output_type": "execute_result"
    },
    {
     "data": {
      "text/plain": [
       "'C:/Users/khanh/code/DATA_SCIENCE/data/clean_images/test/images/39297.jpg'"
      ]
     },
     "execution_count": 161,
     "metadata": {},
     "output_type": "execute_result"
    },
    {
     "data": {
      "text/plain": [
       "'C:/Users/khanh/code/DATA_SCIENCE/data/clean_images/test/labels/39297.txt'"
      ]
     },
     "execution_count": 161,
     "metadata": {},
     "output_type": "execute_result"
    },
    {
     "data": {
      "text/plain": [
       "'C:/Users/khanh/code/DATA_SCIENCE/data/clean_images/test/images/39298.jpg'"
      ]
     },
     "execution_count": 161,
     "metadata": {},
     "output_type": "execute_result"
    },
    {
     "data": {
      "text/plain": [
       "'C:/Users/khanh/code/DATA_SCIENCE/data/clean_images/test/labels/39298.txt'"
      ]
     },
     "execution_count": 161,
     "metadata": {},
     "output_type": "execute_result"
    },
    {
     "data": {
      "text/plain": [
       "'C:/Users/khanh/code/DATA_SCIENCE/data/clean_images/test/images/43388.jpg'"
      ]
     },
     "execution_count": 161,
     "metadata": {},
     "output_type": "execute_result"
    },
    {
     "data": {
      "text/plain": [
       "'C:/Users/khanh/code/DATA_SCIENCE/data/clean_images/test/labels/43388.txt'"
      ]
     },
     "execution_count": 161,
     "metadata": {},
     "output_type": "execute_result"
    },
    {
     "data": {
      "text/plain": [
       "'C:/Users/khanh/code/DATA_SCIENCE/data/clean_images/test/images/19413.jpg'"
      ]
     },
     "execution_count": 161,
     "metadata": {},
     "output_type": "execute_result"
    },
    {
     "data": {
      "text/plain": [
       "'C:/Users/khanh/code/DATA_SCIENCE/data/clean_images/test/labels/19413.txt'"
      ]
     },
     "execution_count": 161,
     "metadata": {},
     "output_type": "execute_result"
    },
    {
     "data": {
      "text/plain": [
       "'C:/Users/khanh/code/DATA_SCIENCE/data/clean_images/test/images/19416.jpg'"
      ]
     },
     "execution_count": 161,
     "metadata": {},
     "output_type": "execute_result"
    },
    {
     "data": {
      "text/plain": [
       "'C:/Users/khanh/code/DATA_SCIENCE/data/clean_images/test/labels/19416.txt'"
      ]
     },
     "execution_count": 161,
     "metadata": {},
     "output_type": "execute_result"
    },
    {
     "data": {
      "text/plain": [
       "'C:/Users/khanh/code/DATA_SCIENCE/data/clean_images/test/images/20083.jpg'"
      ]
     },
     "execution_count": 161,
     "metadata": {},
     "output_type": "execute_result"
    },
    {
     "data": {
      "text/plain": [
       "'C:/Users/khanh/code/DATA_SCIENCE/data/clean_images/test/labels/20083.txt'"
      ]
     },
     "execution_count": 161,
     "metadata": {},
     "output_type": "execute_result"
    },
    {
     "data": {
      "text/plain": [
       "'C:/Users/khanh/code/DATA_SCIENCE/data/clean_images/test/images/20087.jpg'"
      ]
     },
     "execution_count": 161,
     "metadata": {},
     "output_type": "execute_result"
    },
    {
     "data": {
      "text/plain": [
       "'C:/Users/khanh/code/DATA_SCIENCE/data/clean_images/test/labels/20087.txt'"
      ]
     },
     "execution_count": 161,
     "metadata": {},
     "output_type": "execute_result"
    },
    {
     "data": {
      "text/plain": [
       "'C:/Users/khanh/code/DATA_SCIENCE/data/clean_images/test/images/20088.jpg'"
      ]
     },
     "execution_count": 161,
     "metadata": {},
     "output_type": "execute_result"
    },
    {
     "data": {
      "text/plain": [
       "'C:/Users/khanh/code/DATA_SCIENCE/data/clean_images/test/labels/20088.txt'"
      ]
     },
     "execution_count": 161,
     "metadata": {},
     "output_type": "execute_result"
    },
    {
     "data": {
      "text/plain": [
       "'C:/Users/khanh/code/DATA_SCIENCE/data/clean_images/test/images/25606.jpg'"
      ]
     },
     "execution_count": 161,
     "metadata": {},
     "output_type": "execute_result"
    },
    {
     "data": {
      "text/plain": [
       "'C:/Users/khanh/code/DATA_SCIENCE/data/clean_images/test/labels/25606.txt'"
      ]
     },
     "execution_count": 161,
     "metadata": {},
     "output_type": "execute_result"
    },
    {
     "data": {
      "text/plain": [
       "'C:/Users/khanh/code/DATA_SCIENCE/data/clean_images/test/images/25607.jpg'"
      ]
     },
     "execution_count": 161,
     "metadata": {},
     "output_type": "execute_result"
    },
    {
     "data": {
      "text/plain": [
       "'C:/Users/khanh/code/DATA_SCIENCE/data/clean_images/test/labels/25607.txt'"
      ]
     },
     "execution_count": 161,
     "metadata": {},
     "output_type": "execute_result"
    },
    {
     "data": {
      "text/plain": [
       "'C:/Users/khanh/code/DATA_SCIENCE/data/clean_images/test/images/53664.jpg'"
      ]
     },
     "execution_count": 161,
     "metadata": {},
     "output_type": "execute_result"
    },
    {
     "data": {
      "text/plain": [
       "'C:/Users/khanh/code/DATA_SCIENCE/data/clean_images/test/labels/53664.txt'"
      ]
     },
     "execution_count": 161,
     "metadata": {},
     "output_type": "execute_result"
    },
    {
     "data": {
      "text/plain": [
       "'C:/Users/khanh/code/DATA_SCIENCE/data/clean_images/test/images/32436.jpg'"
      ]
     },
     "execution_count": 161,
     "metadata": {},
     "output_type": "execute_result"
    },
    {
     "data": {
      "text/plain": [
       "'C:/Users/khanh/code/DATA_SCIENCE/data/clean_images/test/labels/32436.txt'"
      ]
     },
     "execution_count": 161,
     "metadata": {},
     "output_type": "execute_result"
    },
    {
     "data": {
      "text/plain": [
       "'C:/Users/khanh/code/DATA_SCIENCE/data/clean_images/test/images/32437.jpg'"
      ]
     },
     "execution_count": 161,
     "metadata": {},
     "output_type": "execute_result"
    },
    {
     "data": {
      "text/plain": [
       "'C:/Users/khanh/code/DATA_SCIENCE/data/clean_images/test/labels/32437.txt'"
      ]
     },
     "execution_count": 161,
     "metadata": {},
     "output_type": "execute_result"
    },
    {
     "data": {
      "text/plain": [
       "'C:/Users/khanh/code/DATA_SCIENCE/data/clean_images/test/images/32438.jpg'"
      ]
     },
     "execution_count": 161,
     "metadata": {},
     "output_type": "execute_result"
    },
    {
     "data": {
      "text/plain": [
       "'C:/Users/khanh/code/DATA_SCIENCE/data/clean_images/test/labels/32438.txt'"
      ]
     },
     "execution_count": 161,
     "metadata": {},
     "output_type": "execute_result"
    },
    {
     "data": {
      "text/plain": [
       "'C:/Users/khanh/code/DATA_SCIENCE/data/clean_images/test/images/32439.jpg'"
      ]
     },
     "execution_count": 161,
     "metadata": {},
     "output_type": "execute_result"
    },
    {
     "data": {
      "text/plain": [
       "'C:/Users/khanh/code/DATA_SCIENCE/data/clean_images/test/labels/32439.txt'"
      ]
     },
     "execution_count": 161,
     "metadata": {},
     "output_type": "execute_result"
    },
    {
     "data": {
      "text/plain": [
       "'C:/Users/khanh/code/DATA_SCIENCE/data/clean_images/test/images/32440.jpg'"
      ]
     },
     "execution_count": 161,
     "metadata": {},
     "output_type": "execute_result"
    },
    {
     "data": {
      "text/plain": [
       "'C:/Users/khanh/code/DATA_SCIENCE/data/clean_images/test/labels/32440.txt'"
      ]
     },
     "execution_count": 161,
     "metadata": {},
     "output_type": "execute_result"
    },
    {
     "data": {
      "text/plain": [
       "'C:/Users/khanh/code/DATA_SCIENCE/data/clean_images/test/images/32441.jpg'"
      ]
     },
     "execution_count": 161,
     "metadata": {},
     "output_type": "execute_result"
    },
    {
     "data": {
      "text/plain": [
       "'C:/Users/khanh/code/DATA_SCIENCE/data/clean_images/test/labels/32441.txt'"
      ]
     },
     "execution_count": 161,
     "metadata": {},
     "output_type": "execute_result"
    },
    {
     "data": {
      "text/plain": [
       "'C:/Users/khanh/code/DATA_SCIENCE/data/clean_images/test/images/38394.jpg'"
      ]
     },
     "execution_count": 161,
     "metadata": {},
     "output_type": "execute_result"
    },
    {
     "data": {
      "text/plain": [
       "'C:/Users/khanh/code/DATA_SCIENCE/data/clean_images/test/labels/38394.txt'"
      ]
     },
     "execution_count": 161,
     "metadata": {},
     "output_type": "execute_result"
    },
    {
     "data": {
      "text/plain": [
       "'C:/Users/khanh/code/DATA_SCIENCE/data/clean_images/test/images/38395.jpg'"
      ]
     },
     "execution_count": 161,
     "metadata": {},
     "output_type": "execute_result"
    },
    {
     "data": {
      "text/plain": [
       "'C:/Users/khanh/code/DATA_SCIENCE/data/clean_images/test/labels/38395.txt'"
      ]
     },
     "execution_count": 161,
     "metadata": {},
     "output_type": "execute_result"
    },
    {
     "data": {
      "text/plain": [
       "'C:/Users/khanh/code/DATA_SCIENCE/data/clean_images/test/images/9062.jpg'"
      ]
     },
     "execution_count": 161,
     "metadata": {},
     "output_type": "execute_result"
    },
    {
     "data": {
      "text/plain": [
       "'C:/Users/khanh/code/DATA_SCIENCE/data/clean_images/test/labels/9062.txt'"
      ]
     },
     "execution_count": 161,
     "metadata": {},
     "output_type": "execute_result"
    },
    {
     "data": {
      "text/plain": [
       "'C:/Users/khanh/code/DATA_SCIENCE/data/clean_images/test/images/9063.jpg'"
      ]
     },
     "execution_count": 161,
     "metadata": {},
     "output_type": "execute_result"
    },
    {
     "data": {
      "text/plain": [
       "'C:/Users/khanh/code/DATA_SCIENCE/data/clean_images/test/labels/9063.txt'"
      ]
     },
     "execution_count": 161,
     "metadata": {},
     "output_type": "execute_result"
    },
    {
     "data": {
      "text/plain": [
       "'C:/Users/khanh/code/DATA_SCIENCE/data/clean_images/test/images/45267.jpg'"
      ]
     },
     "execution_count": 161,
     "metadata": {},
     "output_type": "execute_result"
    },
    {
     "data": {
      "text/plain": [
       "'C:/Users/khanh/code/DATA_SCIENCE/data/clean_images/test/labels/45267.txt'"
      ]
     },
     "execution_count": 161,
     "metadata": {},
     "output_type": "execute_result"
    },
    {
     "data": {
      "text/plain": [
       "'C:/Users/khanh/code/DATA_SCIENCE/data/clean_images/test/images/45268.jpg'"
      ]
     },
     "execution_count": 161,
     "metadata": {},
     "output_type": "execute_result"
    },
    {
     "data": {
      "text/plain": [
       "'C:/Users/khanh/code/DATA_SCIENCE/data/clean_images/test/labels/45268.txt'"
      ]
     },
     "execution_count": 161,
     "metadata": {},
     "output_type": "execute_result"
    },
    {
     "data": {
      "text/plain": [
       "'C:/Users/khanh/code/DATA_SCIENCE/data/clean_images/test/images/45269.jpg'"
      ]
     },
     "execution_count": 161,
     "metadata": {},
     "output_type": "execute_result"
    },
    {
     "data": {
      "text/plain": [
       "'C:/Users/khanh/code/DATA_SCIENCE/data/clean_images/test/labels/45269.txt'"
      ]
     },
     "execution_count": 161,
     "metadata": {},
     "output_type": "execute_result"
    },
    {
     "data": {
      "text/plain": [
       "'C:/Users/khanh/code/DATA_SCIENCE/data/clean_images/test/images/45270.jpg'"
      ]
     },
     "execution_count": 161,
     "metadata": {},
     "output_type": "execute_result"
    },
    {
     "data": {
      "text/plain": [
       "'C:/Users/khanh/code/DATA_SCIENCE/data/clean_images/test/labels/45270.txt'"
      ]
     },
     "execution_count": 161,
     "metadata": {},
     "output_type": "execute_result"
    },
    {
     "data": {
      "text/plain": [
       "'C:/Users/khanh/code/DATA_SCIENCE/data/clean_images/test/images/1227.jpg'"
      ]
     },
     "execution_count": 161,
     "metadata": {},
     "output_type": "execute_result"
    },
    {
     "data": {
      "text/plain": [
       "'C:/Users/khanh/code/DATA_SCIENCE/data/clean_images/test/labels/1227.txt'"
      ]
     },
     "execution_count": 161,
     "metadata": {},
     "output_type": "execute_result"
    },
    {
     "data": {
      "text/plain": [
       "'C:/Users/khanh/code/DATA_SCIENCE/data/clean_images/test/images/34478.jpg'"
      ]
     },
     "execution_count": 161,
     "metadata": {},
     "output_type": "execute_result"
    },
    {
     "data": {
      "text/plain": [
       "'C:/Users/khanh/code/DATA_SCIENCE/data/clean_images/test/labels/34478.txt'"
      ]
     },
     "execution_count": 161,
     "metadata": {},
     "output_type": "execute_result"
    },
    {
     "data": {
      "text/plain": [
       "'C:/Users/khanh/code/DATA_SCIENCE/data/clean_images/test/images/34479.jpg'"
      ]
     },
     "execution_count": 161,
     "metadata": {},
     "output_type": "execute_result"
    },
    {
     "data": {
      "text/plain": [
       "'C:/Users/khanh/code/DATA_SCIENCE/data/clean_images/test/labels/34479.txt'"
      ]
     },
     "execution_count": 161,
     "metadata": {},
     "output_type": "execute_result"
    },
    {
     "data": {
      "text/plain": [
       "'C:/Users/khanh/code/DATA_SCIENCE/data/clean_images/test/images/34480.jpg'"
      ]
     },
     "execution_count": 161,
     "metadata": {},
     "output_type": "execute_result"
    },
    {
     "data": {
      "text/plain": [
       "'C:/Users/khanh/code/DATA_SCIENCE/data/clean_images/test/labels/34480.txt'"
      ]
     },
     "execution_count": 161,
     "metadata": {},
     "output_type": "execute_result"
    },
    {
     "data": {
      "text/plain": [
       "'C:/Users/khanh/code/DATA_SCIENCE/data/clean_images/test/images/34481.jpg'"
      ]
     },
     "execution_count": 161,
     "metadata": {},
     "output_type": "execute_result"
    },
    {
     "data": {
      "text/plain": [
       "'C:/Users/khanh/code/DATA_SCIENCE/data/clean_images/test/labels/34481.txt'"
      ]
     },
     "execution_count": 161,
     "metadata": {},
     "output_type": "execute_result"
    },
    {
     "data": {
      "text/plain": [
       "'C:/Users/khanh/code/DATA_SCIENCE/data/clean_images/test/images/34482.jpg'"
      ]
     },
     "execution_count": 161,
     "metadata": {},
     "output_type": "execute_result"
    },
    {
     "data": {
      "text/plain": [
       "'C:/Users/khanh/code/DATA_SCIENCE/data/clean_images/test/labels/34482.txt'"
      ]
     },
     "execution_count": 161,
     "metadata": {},
     "output_type": "execute_result"
    },
    {
     "data": {
      "text/plain": [
       "'C:/Users/khanh/code/DATA_SCIENCE/data/clean_images/test/images/34483.jpg'"
      ]
     },
     "execution_count": 161,
     "metadata": {},
     "output_type": "execute_result"
    },
    {
     "data": {
      "text/plain": [
       "'C:/Users/khanh/code/DATA_SCIENCE/data/clean_images/test/labels/34483.txt'"
      ]
     },
     "execution_count": 161,
     "metadata": {},
     "output_type": "execute_result"
    },
    {
     "data": {
      "text/plain": [
       "'C:/Users/khanh/code/DATA_SCIENCE/data/clean_images/test/images/30548.jpg'"
      ]
     },
     "execution_count": 161,
     "metadata": {},
     "output_type": "execute_result"
    },
    {
     "data": {
      "text/plain": [
       "'C:/Users/khanh/code/DATA_SCIENCE/data/clean_images/test/labels/30548.txt'"
      ]
     },
     "execution_count": 161,
     "metadata": {},
     "output_type": "execute_result"
    },
    {
     "data": {
      "text/plain": [
       "'C:/Users/khanh/code/DATA_SCIENCE/data/clean_images/test/images/21282.jpg'"
      ]
     },
     "execution_count": 161,
     "metadata": {},
     "output_type": "execute_result"
    },
    {
     "data": {
      "text/plain": [
       "'C:/Users/khanh/code/DATA_SCIENCE/data/clean_images/test/labels/21282.txt'"
      ]
     },
     "execution_count": 161,
     "metadata": {},
     "output_type": "execute_result"
    },
    {
     "data": {
      "text/plain": [
       "'C:/Users/khanh/code/DATA_SCIENCE/data/clean_images/test/images/21284.jpg'"
      ]
     },
     "execution_count": 161,
     "metadata": {},
     "output_type": "execute_result"
    },
    {
     "data": {
      "text/plain": [
       "'C:/Users/khanh/code/DATA_SCIENCE/data/clean_images/test/labels/21284.txt'"
      ]
     },
     "execution_count": 161,
     "metadata": {},
     "output_type": "execute_result"
    },
    {
     "data": {
      "text/plain": [
       "'C:/Users/khanh/code/DATA_SCIENCE/data/clean_images/test/images/21285.jpg'"
      ]
     },
     "execution_count": 161,
     "metadata": {},
     "output_type": "execute_result"
    },
    {
     "data": {
      "text/plain": [
       "'C:/Users/khanh/code/DATA_SCIENCE/data/clean_images/test/labels/21285.txt'"
      ]
     },
     "execution_count": 161,
     "metadata": {},
     "output_type": "execute_result"
    },
    {
     "data": {
      "text/plain": [
       "'C:/Users/khanh/code/DATA_SCIENCE/data/clean_images/test/images/21287.jpg'"
      ]
     },
     "execution_count": 161,
     "metadata": {},
     "output_type": "execute_result"
    },
    {
     "data": {
      "text/plain": [
       "'C:/Users/khanh/code/DATA_SCIENCE/data/clean_images/test/labels/21287.txt'"
      ]
     },
     "execution_count": 161,
     "metadata": {},
     "output_type": "execute_result"
    },
    {
     "data": {
      "text/plain": [
       "'C:/Users/khanh/code/DATA_SCIENCE/data/clean_images/test/images/33059.jpg'"
      ]
     },
     "execution_count": 161,
     "metadata": {},
     "output_type": "execute_result"
    },
    {
     "data": {
      "text/plain": [
       "'C:/Users/khanh/code/DATA_SCIENCE/data/clean_images/test/labels/33059.txt'"
      ]
     },
     "execution_count": 161,
     "metadata": {},
     "output_type": "execute_result"
    },
    {
     "data": {
      "text/plain": [
       "'C:/Users/khanh/code/DATA_SCIENCE/data/clean_images/test/images/33062.jpg'"
      ]
     },
     "execution_count": 161,
     "metadata": {},
     "output_type": "execute_result"
    },
    {
     "data": {
      "text/plain": [
       "'C:/Users/khanh/code/DATA_SCIENCE/data/clean_images/test/labels/33062.txt'"
      ]
     },
     "execution_count": 161,
     "metadata": {},
     "output_type": "execute_result"
    },
    {
     "data": {
      "text/plain": [
       "'C:/Users/khanh/code/DATA_SCIENCE/data/clean_images/test/images/25862.jpg'"
      ]
     },
     "execution_count": 161,
     "metadata": {},
     "output_type": "execute_result"
    },
    {
     "data": {
      "text/plain": [
       "'C:/Users/khanh/code/DATA_SCIENCE/data/clean_images/test/labels/25862.txt'"
      ]
     },
     "execution_count": 161,
     "metadata": {},
     "output_type": "execute_result"
    },
    {
     "data": {
      "text/plain": [
       "'C:/Users/khanh/code/DATA_SCIENCE/data/clean_images/test/images/42239.jpg'"
      ]
     },
     "execution_count": 161,
     "metadata": {},
     "output_type": "execute_result"
    },
    {
     "data": {
      "text/plain": [
       "'C:/Users/khanh/code/DATA_SCIENCE/data/clean_images/test/labels/42239.txt'"
      ]
     },
     "execution_count": 161,
     "metadata": {},
     "output_type": "execute_result"
    },
    {
     "data": {
      "text/plain": [
       "'C:/Users/khanh/code/DATA_SCIENCE/data/clean_images/test/images/41949.jpg'"
      ]
     },
     "execution_count": 161,
     "metadata": {},
     "output_type": "execute_result"
    },
    {
     "data": {
      "text/plain": [
       "'C:/Users/khanh/code/DATA_SCIENCE/data/clean_images/test/labels/41949.txt'"
      ]
     },
     "execution_count": 161,
     "metadata": {},
     "output_type": "execute_result"
    },
    {
     "data": {
      "text/plain": [
       "'C:/Users/khanh/code/DATA_SCIENCE/data/clean_images/test/images/41950.jpg'"
      ]
     },
     "execution_count": 161,
     "metadata": {},
     "output_type": "execute_result"
    },
    {
     "data": {
      "text/plain": [
       "'C:/Users/khanh/code/DATA_SCIENCE/data/clean_images/test/labels/41950.txt'"
      ]
     },
     "execution_count": 161,
     "metadata": {},
     "output_type": "execute_result"
    },
    {
     "data": {
      "text/plain": [
       "'C:/Users/khanh/code/DATA_SCIENCE/data/clean_images/test/images/11848.jpg'"
      ]
     },
     "execution_count": 161,
     "metadata": {},
     "output_type": "execute_result"
    },
    {
     "data": {
      "text/plain": [
       "'C:/Users/khanh/code/DATA_SCIENCE/data/clean_images/test/labels/11848.txt'"
      ]
     },
     "execution_count": 161,
     "metadata": {},
     "output_type": "execute_result"
    },
    {
     "data": {
      "text/plain": [
       "'C:/Users/khanh/code/DATA_SCIENCE/data/clean_images/test/images/11849.jpg'"
      ]
     },
     "execution_count": 161,
     "metadata": {},
     "output_type": "execute_result"
    },
    {
     "data": {
      "text/plain": [
       "'C:/Users/khanh/code/DATA_SCIENCE/data/clean_images/test/labels/11849.txt'"
      ]
     },
     "execution_count": 161,
     "metadata": {},
     "output_type": "execute_result"
    },
    {
     "data": {
      "text/plain": [
       "'C:/Users/khanh/code/DATA_SCIENCE/data/clean_images/test/images/11850.jpg'"
      ]
     },
     "execution_count": 161,
     "metadata": {},
     "output_type": "execute_result"
    },
    {
     "data": {
      "text/plain": [
       "'C:/Users/khanh/code/DATA_SCIENCE/data/clean_images/test/labels/11850.txt'"
      ]
     },
     "execution_count": 161,
     "metadata": {},
     "output_type": "execute_result"
    },
    {
     "data": {
      "text/plain": [
       "'C:/Users/khanh/code/DATA_SCIENCE/data/clean_images/test/images/11851.jpg'"
      ]
     },
     "execution_count": 161,
     "metadata": {},
     "output_type": "execute_result"
    },
    {
     "data": {
      "text/plain": [
       "'C:/Users/khanh/code/DATA_SCIENCE/data/clean_images/test/labels/11851.txt'"
      ]
     },
     "execution_count": 161,
     "metadata": {},
     "output_type": "execute_result"
    },
    {
     "data": {
      "text/plain": [
       "'C:/Users/khanh/code/DATA_SCIENCE/data/clean_images/test/images/11852.jpg'"
      ]
     },
     "execution_count": 161,
     "metadata": {},
     "output_type": "execute_result"
    },
    {
     "data": {
      "text/plain": [
       "'C:/Users/khanh/code/DATA_SCIENCE/data/clean_images/test/labels/11852.txt'"
      ]
     },
     "execution_count": 161,
     "metadata": {},
     "output_type": "execute_result"
    },
    {
     "data": {
      "text/plain": [
       "'C:/Users/khanh/code/DATA_SCIENCE/data/clean_images/test/images/11853.jpg'"
      ]
     },
     "execution_count": 161,
     "metadata": {},
     "output_type": "execute_result"
    },
    {
     "data": {
      "text/plain": [
       "'C:/Users/khanh/code/DATA_SCIENCE/data/clean_images/test/labels/11853.txt'"
      ]
     },
     "execution_count": 161,
     "metadata": {},
     "output_type": "execute_result"
    },
    {
     "data": {
      "text/plain": [
       "'C:/Users/khanh/code/DATA_SCIENCE/data/clean_images/test/images/26685.jpg'"
      ]
     },
     "execution_count": 161,
     "metadata": {},
     "output_type": "execute_result"
    },
    {
     "data": {
      "text/plain": [
       "'C:/Users/khanh/code/DATA_SCIENCE/data/clean_images/test/labels/26685.txt'"
      ]
     },
     "execution_count": 161,
     "metadata": {},
     "output_type": "execute_result"
    },
    {
     "data": {
      "text/plain": [
       "'C:/Users/khanh/code/DATA_SCIENCE/data/clean_images/test/images/26687.jpg'"
      ]
     },
     "execution_count": 161,
     "metadata": {},
     "output_type": "execute_result"
    },
    {
     "data": {
      "text/plain": [
       "'C:/Users/khanh/code/DATA_SCIENCE/data/clean_images/test/labels/26687.txt'"
      ]
     },
     "execution_count": 161,
     "metadata": {},
     "output_type": "execute_result"
    },
    {
     "data": {
      "text/plain": [
       "'C:/Users/khanh/code/DATA_SCIENCE/data/clean_images/test/images/24741.jpg'"
      ]
     },
     "execution_count": 161,
     "metadata": {},
     "output_type": "execute_result"
    },
    {
     "data": {
      "text/plain": [
       "'C:/Users/khanh/code/DATA_SCIENCE/data/clean_images/test/labels/24741.txt'"
      ]
     },
     "execution_count": 161,
     "metadata": {},
     "output_type": "execute_result"
    },
    {
     "data": {
      "text/plain": [
       "'C:/Users/khanh/code/DATA_SCIENCE/data/clean_images/test/images/49328.jpg'"
      ]
     },
     "execution_count": 161,
     "metadata": {},
     "output_type": "execute_result"
    },
    {
     "data": {
      "text/plain": [
       "'C:/Users/khanh/code/DATA_SCIENCE/data/clean_images/test/labels/49328.txt'"
      ]
     },
     "execution_count": 161,
     "metadata": {},
     "output_type": "execute_result"
    },
    {
     "data": {
      "text/plain": [
       "'C:/Users/khanh/code/DATA_SCIENCE/data/clean_images/test/images/49329.jpg'"
      ]
     },
     "execution_count": 161,
     "metadata": {},
     "output_type": "execute_result"
    },
    {
     "data": {
      "text/plain": [
       "'C:/Users/khanh/code/DATA_SCIENCE/data/clean_images/test/labels/49329.txt'"
      ]
     },
     "execution_count": 161,
     "metadata": {},
     "output_type": "execute_result"
    },
    {
     "data": {
      "text/plain": [
       "'C:/Users/khanh/code/DATA_SCIENCE/data/clean_images/test/images/49330.jpg'"
      ]
     },
     "execution_count": 161,
     "metadata": {},
     "output_type": "execute_result"
    },
    {
     "data": {
      "text/plain": [
       "'C:/Users/khanh/code/DATA_SCIENCE/data/clean_images/test/labels/49330.txt'"
      ]
     },
     "execution_count": 161,
     "metadata": {},
     "output_type": "execute_result"
    },
    {
     "data": {
      "text/plain": [
       "'C:/Users/khanh/code/DATA_SCIENCE/data/clean_images/test/images/49331.jpg'"
      ]
     },
     "execution_count": 161,
     "metadata": {},
     "output_type": "execute_result"
    },
    {
     "data": {
      "text/plain": [
       "'C:/Users/khanh/code/DATA_SCIENCE/data/clean_images/test/labels/49331.txt'"
      ]
     },
     "execution_count": 161,
     "metadata": {},
     "output_type": "execute_result"
    },
    {
     "data": {
      "text/plain": [
       "'C:/Users/khanh/code/DATA_SCIENCE/data/clean_images/test/images/49332.jpg'"
      ]
     },
     "execution_count": 161,
     "metadata": {},
     "output_type": "execute_result"
    },
    {
     "data": {
      "text/plain": [
       "'C:/Users/khanh/code/DATA_SCIENCE/data/clean_images/test/labels/49332.txt'"
      ]
     },
     "execution_count": 161,
     "metadata": {},
     "output_type": "execute_result"
    },
    {
     "data": {
      "text/plain": [
       "'C:/Users/khanh/code/DATA_SCIENCE/data/clean_images/test/images/49333.jpg'"
      ]
     },
     "execution_count": 161,
     "metadata": {},
     "output_type": "execute_result"
    },
    {
     "data": {
      "text/plain": [
       "'C:/Users/khanh/code/DATA_SCIENCE/data/clean_images/test/labels/49333.txt'"
      ]
     },
     "execution_count": 161,
     "metadata": {},
     "output_type": "execute_result"
    },
    {
     "data": {
      "text/plain": [
       "'C:/Users/khanh/code/DATA_SCIENCE/data/clean_images/test/images/15790.jpg'"
      ]
     },
     "execution_count": 161,
     "metadata": {},
     "output_type": "execute_result"
    },
    {
     "data": {
      "text/plain": [
       "'C:/Users/khanh/code/DATA_SCIENCE/data/clean_images/test/labels/15790.txt'"
      ]
     },
     "execution_count": 161,
     "metadata": {},
     "output_type": "execute_result"
    },
    {
     "data": {
      "text/plain": [
       "'C:/Users/khanh/code/DATA_SCIENCE/data/clean_images/test/images/15791.jpg'"
      ]
     },
     "execution_count": 161,
     "metadata": {},
     "output_type": "execute_result"
    },
    {
     "data": {
      "text/plain": [
       "'C:/Users/khanh/code/DATA_SCIENCE/data/clean_images/test/labels/15791.txt'"
      ]
     },
     "execution_count": 161,
     "metadata": {},
     "output_type": "execute_result"
    },
    {
     "data": {
      "text/plain": [
       "'C:/Users/khanh/code/DATA_SCIENCE/data/clean_images/test/images/28352.jpg'"
      ]
     },
     "execution_count": 161,
     "metadata": {},
     "output_type": "execute_result"
    },
    {
     "data": {
      "text/plain": [
       "'C:/Users/khanh/code/DATA_SCIENCE/data/clean_images/test/labels/28352.txt'"
      ]
     },
     "execution_count": 161,
     "metadata": {},
     "output_type": "execute_result"
    },
    {
     "data": {
      "text/plain": [
       "'C:/Users/khanh/code/DATA_SCIENCE/data/clean_images/test/images/54259.jpg'"
      ]
     },
     "execution_count": 161,
     "metadata": {},
     "output_type": "execute_result"
    },
    {
     "data": {
      "text/plain": [
       "'C:/Users/khanh/code/DATA_SCIENCE/data/clean_images/test/labels/54259.txt'"
      ]
     },
     "execution_count": 161,
     "metadata": {},
     "output_type": "execute_result"
    },
    {
     "data": {
      "text/plain": [
       "'C:/Users/khanh/code/DATA_SCIENCE/data/clean_images/test/images/24590.jpg'"
      ]
     },
     "execution_count": 161,
     "metadata": {},
     "output_type": "execute_result"
    },
    {
     "data": {
      "text/plain": [
       "'C:/Users/khanh/code/DATA_SCIENCE/data/clean_images/test/labels/24590.txt'"
      ]
     },
     "execution_count": 161,
     "metadata": {},
     "output_type": "execute_result"
    },
    {
     "data": {
      "text/plain": [
       "'C:/Users/khanh/code/DATA_SCIENCE/data/clean_images/test/images/24591.jpg'"
      ]
     },
     "execution_count": 161,
     "metadata": {},
     "output_type": "execute_result"
    },
    {
     "data": {
      "text/plain": [
       "'C:/Users/khanh/code/DATA_SCIENCE/data/clean_images/test/labels/24591.txt'"
      ]
     },
     "execution_count": 161,
     "metadata": {},
     "output_type": "execute_result"
    },
    {
     "data": {
      "text/plain": [
       "'C:/Users/khanh/code/DATA_SCIENCE/data/clean_images/test/images/24592.jpg'"
      ]
     },
     "execution_count": 161,
     "metadata": {},
     "output_type": "execute_result"
    },
    {
     "data": {
      "text/plain": [
       "'C:/Users/khanh/code/DATA_SCIENCE/data/clean_images/test/labels/24592.txt'"
      ]
     },
     "execution_count": 161,
     "metadata": {},
     "output_type": "execute_result"
    },
    {
     "data": {
      "text/plain": [
       "'C:/Users/khanh/code/DATA_SCIENCE/data/clean_images/test/images/24593.jpg'"
      ]
     },
     "execution_count": 161,
     "metadata": {},
     "output_type": "execute_result"
    },
    {
     "data": {
      "text/plain": [
       "'C:/Users/khanh/code/DATA_SCIENCE/data/clean_images/test/labels/24593.txt'"
      ]
     },
     "execution_count": 161,
     "metadata": {},
     "output_type": "execute_result"
    },
    {
     "data": {
      "text/plain": [
       "'C:/Users/khanh/code/DATA_SCIENCE/data/clean_images/test/images/21239.jpg'"
      ]
     },
     "execution_count": 161,
     "metadata": {},
     "output_type": "execute_result"
    },
    {
     "data": {
      "text/plain": [
       "'C:/Users/khanh/code/DATA_SCIENCE/data/clean_images/test/labels/21239.txt'"
      ]
     },
     "execution_count": 161,
     "metadata": {},
     "output_type": "execute_result"
    },
    {
     "data": {
      "text/plain": [
       "'C:/Users/khanh/code/DATA_SCIENCE/data/clean_images/test/images/25745.jpg'"
      ]
     },
     "execution_count": 161,
     "metadata": {},
     "output_type": "execute_result"
    },
    {
     "data": {
      "text/plain": [
       "'C:/Users/khanh/code/DATA_SCIENCE/data/clean_images/test/labels/25745.txt'"
      ]
     },
     "execution_count": 161,
     "metadata": {},
     "output_type": "execute_result"
    },
    {
     "data": {
      "text/plain": [
       "'C:/Users/khanh/code/DATA_SCIENCE/data/clean_images/test/images/25749.jpg'"
      ]
     },
     "execution_count": 161,
     "metadata": {},
     "output_type": "execute_result"
    },
    {
     "data": {
      "text/plain": [
       "'C:/Users/khanh/code/DATA_SCIENCE/data/clean_images/test/labels/25749.txt'"
      ]
     },
     "execution_count": 161,
     "metadata": {},
     "output_type": "execute_result"
    },
    {
     "data": {
      "text/plain": [
       "'C:/Users/khanh/code/DATA_SCIENCE/data/clean_images/test/images/25750.jpg'"
      ]
     },
     "execution_count": 161,
     "metadata": {},
     "output_type": "execute_result"
    },
    {
     "data": {
      "text/plain": [
       "'C:/Users/khanh/code/DATA_SCIENCE/data/clean_images/test/labels/25750.txt'"
      ]
     },
     "execution_count": 161,
     "metadata": {},
     "output_type": "execute_result"
    },
    {
     "data": {
      "text/plain": [
       "'C:/Users/khanh/code/DATA_SCIENCE/data/clean_images/test/images/38595.jpg'"
      ]
     },
     "execution_count": 161,
     "metadata": {},
     "output_type": "execute_result"
    },
    {
     "data": {
      "text/plain": [
       "'C:/Users/khanh/code/DATA_SCIENCE/data/clean_images/test/labels/38595.txt'"
      ]
     },
     "execution_count": 161,
     "metadata": {},
     "output_type": "execute_result"
    },
    {
     "data": {
      "text/plain": [
       "'C:/Users/khanh/code/DATA_SCIENCE/data/clean_images/test/images/38597.jpg'"
      ]
     },
     "execution_count": 161,
     "metadata": {},
     "output_type": "execute_result"
    },
    {
     "data": {
      "text/plain": [
       "'C:/Users/khanh/code/DATA_SCIENCE/data/clean_images/test/labels/38597.txt'"
      ]
     },
     "execution_count": 161,
     "metadata": {},
     "output_type": "execute_result"
    },
    {
     "data": {
      "text/plain": [
       "'C:/Users/khanh/code/DATA_SCIENCE/data/clean_images/test/images/40445.jpg'"
      ]
     },
     "execution_count": 161,
     "metadata": {},
     "output_type": "execute_result"
    },
    {
     "data": {
      "text/plain": [
       "'C:/Users/khanh/code/DATA_SCIENCE/data/clean_images/test/labels/40445.txt'"
      ]
     },
     "execution_count": 161,
     "metadata": {},
     "output_type": "execute_result"
    },
    {
     "data": {
      "text/plain": [
       "'C:/Users/khanh/code/DATA_SCIENCE/data/clean_images/test/images/40446.jpg'"
      ]
     },
     "execution_count": 161,
     "metadata": {},
     "output_type": "execute_result"
    },
    {
     "data": {
      "text/plain": [
       "'C:/Users/khanh/code/DATA_SCIENCE/data/clean_images/test/labels/40446.txt'"
      ]
     },
     "execution_count": 161,
     "metadata": {},
     "output_type": "execute_result"
    },
    {
     "data": {
      "text/plain": [
       "'C:/Users/khanh/code/DATA_SCIENCE/data/clean_images/test/images/48052.jpg'"
      ]
     },
     "execution_count": 161,
     "metadata": {},
     "output_type": "execute_result"
    },
    {
     "data": {
      "text/plain": [
       "'C:/Users/khanh/code/DATA_SCIENCE/data/clean_images/test/labels/48052.txt'"
      ]
     },
     "execution_count": 161,
     "metadata": {},
     "output_type": "execute_result"
    },
    {
     "data": {
      "text/plain": [
       "'C:/Users/khanh/code/DATA_SCIENCE/data/clean_images/test/images/48053.jpg'"
      ]
     },
     "execution_count": 161,
     "metadata": {},
     "output_type": "execute_result"
    },
    {
     "data": {
      "text/plain": [
       "'C:/Users/khanh/code/DATA_SCIENCE/data/clean_images/test/labels/48053.txt'"
      ]
     },
     "execution_count": 161,
     "metadata": {},
     "output_type": "execute_result"
    },
    {
     "data": {
      "text/plain": [
       "'C:/Users/khanh/code/DATA_SCIENCE/data/clean_images/test/images/48054.jpg'"
      ]
     },
     "execution_count": 161,
     "metadata": {},
     "output_type": "execute_result"
    },
    {
     "data": {
      "text/plain": [
       "'C:/Users/khanh/code/DATA_SCIENCE/data/clean_images/test/labels/48054.txt'"
      ]
     },
     "execution_count": 161,
     "metadata": {},
     "output_type": "execute_result"
    },
    {
     "data": {
      "text/plain": [
       "'C:/Users/khanh/code/DATA_SCIENCE/data/clean_images/test/images/48055.jpg'"
      ]
     },
     "execution_count": 161,
     "metadata": {},
     "output_type": "execute_result"
    },
    {
     "data": {
      "text/plain": [
       "'C:/Users/khanh/code/DATA_SCIENCE/data/clean_images/test/labels/48055.txt'"
      ]
     },
     "execution_count": 161,
     "metadata": {},
     "output_type": "execute_result"
    },
    {
     "data": {
      "text/plain": [
       "'C:/Users/khanh/code/DATA_SCIENCE/data/clean_images/test/images/48056.jpg'"
      ]
     },
     "execution_count": 161,
     "metadata": {},
     "output_type": "execute_result"
    },
    {
     "data": {
      "text/plain": [
       "'C:/Users/khanh/code/DATA_SCIENCE/data/clean_images/test/labels/48056.txt'"
      ]
     },
     "execution_count": 161,
     "metadata": {},
     "output_type": "execute_result"
    },
    {
     "data": {
      "text/plain": [
       "'C:/Users/khanh/code/DATA_SCIENCE/data/clean_images/test/images/13480.jpg'"
      ]
     },
     "execution_count": 161,
     "metadata": {},
     "output_type": "execute_result"
    },
    {
     "data": {
      "text/plain": [
       "'C:/Users/khanh/code/DATA_SCIENCE/data/clean_images/test/labels/13480.txt'"
      ]
     },
     "execution_count": 161,
     "metadata": {},
     "output_type": "execute_result"
    },
    {
     "data": {
      "text/plain": [
       "'C:/Users/khanh/code/DATA_SCIENCE/data/clean_images/test/images/13481.jpg'"
      ]
     },
     "execution_count": 161,
     "metadata": {},
     "output_type": "execute_result"
    },
    {
     "data": {
      "text/plain": [
       "'C:/Users/khanh/code/DATA_SCIENCE/data/clean_images/test/labels/13481.txt'"
      ]
     },
     "execution_count": 161,
     "metadata": {},
     "output_type": "execute_result"
    },
    {
     "data": {
      "text/plain": [
       "'C:/Users/khanh/code/DATA_SCIENCE/data/clean_images/test/images/13483.jpg'"
      ]
     },
     "execution_count": 161,
     "metadata": {},
     "output_type": "execute_result"
    },
    {
     "data": {
      "text/plain": [
       "'C:/Users/khanh/code/DATA_SCIENCE/data/clean_images/test/labels/13483.txt'"
      ]
     },
     "execution_count": 161,
     "metadata": {},
     "output_type": "execute_result"
    },
    {
     "data": {
      "text/plain": [
       "'C:/Users/khanh/code/DATA_SCIENCE/data/clean_images/test/images/13484.jpg'"
      ]
     },
     "execution_count": 161,
     "metadata": {},
     "output_type": "execute_result"
    },
    {
     "data": {
      "text/plain": [
       "'C:/Users/khanh/code/DATA_SCIENCE/data/clean_images/test/labels/13484.txt'"
      ]
     },
     "execution_count": 161,
     "metadata": {},
     "output_type": "execute_result"
    },
    {
     "data": {
      "text/plain": [
       "'C:/Users/khanh/code/DATA_SCIENCE/data/clean_images/test/images/13485.jpg'"
      ]
     },
     "execution_count": 161,
     "metadata": {},
     "output_type": "execute_result"
    },
    {
     "data": {
      "text/plain": [
       "'C:/Users/khanh/code/DATA_SCIENCE/data/clean_images/test/labels/13485.txt'"
      ]
     },
     "execution_count": 161,
     "metadata": {},
     "output_type": "execute_result"
    },
    {
     "data": {
      "text/plain": [
       "'C:/Users/khanh/code/DATA_SCIENCE/data/clean_images/test/images/22222.jpg'"
      ]
     },
     "execution_count": 161,
     "metadata": {},
     "output_type": "execute_result"
    },
    {
     "data": {
      "text/plain": [
       "'C:/Users/khanh/code/DATA_SCIENCE/data/clean_images/test/labels/22222.txt'"
      ]
     },
     "execution_count": 161,
     "metadata": {},
     "output_type": "execute_result"
    },
    {
     "data": {
      "text/plain": [
       "'C:/Users/khanh/code/DATA_SCIENCE/data/clean_images/test/images/7994.jpg'"
      ]
     },
     "execution_count": 161,
     "metadata": {},
     "output_type": "execute_result"
    },
    {
     "data": {
      "text/plain": [
       "'C:/Users/khanh/code/DATA_SCIENCE/data/clean_images/test/labels/7994.txt'"
      ]
     },
     "execution_count": 161,
     "metadata": {},
     "output_type": "execute_result"
    },
    {
     "data": {
      "text/plain": [
       "'C:/Users/khanh/code/DATA_SCIENCE/data/clean_images/test/images/7995.jpg'"
      ]
     },
     "execution_count": 161,
     "metadata": {},
     "output_type": "execute_result"
    },
    {
     "data": {
      "text/plain": [
       "'C:/Users/khanh/code/DATA_SCIENCE/data/clean_images/test/labels/7995.txt'"
      ]
     },
     "execution_count": 161,
     "metadata": {},
     "output_type": "execute_result"
    },
    {
     "data": {
      "text/plain": [
       "'C:/Users/khanh/code/DATA_SCIENCE/data/clean_images/test/images/7996.jpg'"
      ]
     },
     "execution_count": 161,
     "metadata": {},
     "output_type": "execute_result"
    },
    {
     "data": {
      "text/plain": [
       "'C:/Users/khanh/code/DATA_SCIENCE/data/clean_images/test/labels/7996.txt'"
      ]
     },
     "execution_count": 161,
     "metadata": {},
     "output_type": "execute_result"
    },
    {
     "data": {
      "text/plain": [
       "'C:/Users/khanh/code/DATA_SCIENCE/data/clean_images/test/images/7997.jpg'"
      ]
     },
     "execution_count": 161,
     "metadata": {},
     "output_type": "execute_result"
    },
    {
     "data": {
      "text/plain": [
       "'C:/Users/khanh/code/DATA_SCIENCE/data/clean_images/test/labels/7997.txt'"
      ]
     },
     "execution_count": 161,
     "metadata": {},
     "output_type": "execute_result"
    },
    {
     "data": {
      "text/plain": [
       "'C:/Users/khanh/code/DATA_SCIENCE/data/clean_images/test/images/7998.jpg'"
      ]
     },
     "execution_count": 161,
     "metadata": {},
     "output_type": "execute_result"
    },
    {
     "data": {
      "text/plain": [
       "'C:/Users/khanh/code/DATA_SCIENCE/data/clean_images/test/labels/7998.txt'"
      ]
     },
     "execution_count": 161,
     "metadata": {},
     "output_type": "execute_result"
    },
    {
     "data": {
      "text/plain": [
       "'C:/Users/khanh/code/DATA_SCIENCE/data/clean_images/test/images/50987.jpg'"
      ]
     },
     "execution_count": 161,
     "metadata": {},
     "output_type": "execute_result"
    },
    {
     "data": {
      "text/plain": [
       "'C:/Users/khanh/code/DATA_SCIENCE/data/clean_images/test/labels/50987.txt'"
      ]
     },
     "execution_count": 161,
     "metadata": {},
     "output_type": "execute_result"
    },
    {
     "data": {
      "text/plain": [
       "'C:/Users/khanh/code/DATA_SCIENCE/data/clean_images/test/images/23972.jpg'"
      ]
     },
     "execution_count": 161,
     "metadata": {},
     "output_type": "execute_result"
    },
    {
     "data": {
      "text/plain": [
       "'C:/Users/khanh/code/DATA_SCIENCE/data/clean_images/test/labels/23972.txt'"
      ]
     },
     "execution_count": 161,
     "metadata": {},
     "output_type": "execute_result"
    },
    {
     "data": {
      "text/plain": [
       "'C:/Users/khanh/code/DATA_SCIENCE/data/clean_images/test/images/23973.jpg'"
      ]
     },
     "execution_count": 161,
     "metadata": {},
     "output_type": "execute_result"
    },
    {
     "data": {
      "text/plain": [
       "'C:/Users/khanh/code/DATA_SCIENCE/data/clean_images/test/labels/23973.txt'"
      ]
     },
     "execution_count": 161,
     "metadata": {},
     "output_type": "execute_result"
    },
    {
     "data": {
      "text/plain": [
       "'C:/Users/khanh/code/DATA_SCIENCE/data/clean_images/test/images/45752.jpg'"
      ]
     },
     "execution_count": 161,
     "metadata": {},
     "output_type": "execute_result"
    },
    {
     "data": {
      "text/plain": [
       "'C:/Users/khanh/code/DATA_SCIENCE/data/clean_images/test/labels/45752.txt'"
      ]
     },
     "execution_count": 161,
     "metadata": {},
     "output_type": "execute_result"
    },
    {
     "data": {
      "text/plain": [
       "'C:/Users/khanh/code/DATA_SCIENCE/data/clean_images/test/images/45755.jpg'"
      ]
     },
     "execution_count": 161,
     "metadata": {},
     "output_type": "execute_result"
    },
    {
     "data": {
      "text/plain": [
       "'C:/Users/khanh/code/DATA_SCIENCE/data/clean_images/test/labels/45755.txt'"
      ]
     },
     "execution_count": 161,
     "metadata": {},
     "output_type": "execute_result"
    },
    {
     "data": {
      "text/plain": [
       "'C:/Users/khanh/code/DATA_SCIENCE/data/clean_images/test/images/23429.jpg'"
      ]
     },
     "execution_count": 161,
     "metadata": {},
     "output_type": "execute_result"
    },
    {
     "data": {
      "text/plain": [
       "'C:/Users/khanh/code/DATA_SCIENCE/data/clean_images/test/labels/23429.txt'"
      ]
     },
     "execution_count": 161,
     "metadata": {},
     "output_type": "execute_result"
    },
    {
     "data": {
      "text/plain": [
       "'C:/Users/khanh/code/DATA_SCIENCE/data/clean_images/test/images/23430.jpg'"
      ]
     },
     "execution_count": 161,
     "metadata": {},
     "output_type": "execute_result"
    },
    {
     "data": {
      "text/plain": [
       "'C:/Users/khanh/code/DATA_SCIENCE/data/clean_images/test/labels/23430.txt'"
      ]
     },
     "execution_count": 161,
     "metadata": {},
     "output_type": "execute_result"
    },
    {
     "data": {
      "text/plain": [
       "'C:/Users/khanh/code/DATA_SCIENCE/data/clean_images/test/images/47454.jpg'"
      ]
     },
     "execution_count": 161,
     "metadata": {},
     "output_type": "execute_result"
    },
    {
     "data": {
      "text/plain": [
       "'C:/Users/khanh/code/DATA_SCIENCE/data/clean_images/test/labels/47454.txt'"
      ]
     },
     "execution_count": 161,
     "metadata": {},
     "output_type": "execute_result"
    },
    {
     "data": {
      "text/plain": [
       "'C:/Users/khanh/code/DATA_SCIENCE/data/clean_images/test/images/24577.jpg'"
      ]
     },
     "execution_count": 161,
     "metadata": {},
     "output_type": "execute_result"
    },
    {
     "data": {
      "text/plain": [
       "'C:/Users/khanh/code/DATA_SCIENCE/data/clean_images/test/labels/24577.txt'"
      ]
     },
     "execution_count": 161,
     "metadata": {},
     "output_type": "execute_result"
    },
    {
     "data": {
      "text/plain": [
       "'C:/Users/khanh/code/DATA_SCIENCE/data/clean_images/test/images/24578.jpg'"
      ]
     },
     "execution_count": 161,
     "metadata": {},
     "output_type": "execute_result"
    },
    {
     "data": {
      "text/plain": [
       "'C:/Users/khanh/code/DATA_SCIENCE/data/clean_images/test/labels/24578.txt'"
      ]
     },
     "execution_count": 161,
     "metadata": {},
     "output_type": "execute_result"
    },
    {
     "data": {
      "text/plain": [
       "'C:/Users/khanh/code/DATA_SCIENCE/data/clean_images/test/images/42753.jpg'"
      ]
     },
     "execution_count": 161,
     "metadata": {},
     "output_type": "execute_result"
    },
    {
     "data": {
      "text/plain": [
       "'C:/Users/khanh/code/DATA_SCIENCE/data/clean_images/test/labels/42753.txt'"
      ]
     },
     "execution_count": 161,
     "metadata": {},
     "output_type": "execute_result"
    },
    {
     "data": {
      "text/plain": [
       "'C:/Users/khanh/code/DATA_SCIENCE/data/clean_images/test/images/42754.jpg'"
      ]
     },
     "execution_count": 161,
     "metadata": {},
     "output_type": "execute_result"
    },
    {
     "data": {
      "text/plain": [
       "'C:/Users/khanh/code/DATA_SCIENCE/data/clean_images/test/labels/42754.txt'"
      ]
     },
     "execution_count": 161,
     "metadata": {},
     "output_type": "execute_result"
    },
    {
     "data": {
      "text/plain": [
       "'C:/Users/khanh/code/DATA_SCIENCE/data/clean_images/test/images/52438.jpg'"
      ]
     },
     "execution_count": 161,
     "metadata": {},
     "output_type": "execute_result"
    },
    {
     "data": {
      "text/plain": [
       "'C:/Users/khanh/code/DATA_SCIENCE/data/clean_images/test/labels/52438.txt'"
      ]
     },
     "execution_count": 161,
     "metadata": {},
     "output_type": "execute_result"
    },
    {
     "data": {
      "text/plain": [
       "'C:/Users/khanh/code/DATA_SCIENCE/data/clean_images/test/images/14887.jpg'"
      ]
     },
     "execution_count": 161,
     "metadata": {},
     "output_type": "execute_result"
    },
    {
     "data": {
      "text/plain": [
       "'C:/Users/khanh/code/DATA_SCIENCE/data/clean_images/test/labels/14887.txt'"
      ]
     },
     "execution_count": 161,
     "metadata": {},
     "output_type": "execute_result"
    },
    {
     "data": {
      "text/plain": [
       "'C:/Users/khanh/code/DATA_SCIENCE/data/clean_images/test/images/20806.jpg'"
      ]
     },
     "execution_count": 161,
     "metadata": {},
     "output_type": "execute_result"
    },
    {
     "data": {
      "text/plain": [
       "'C:/Users/khanh/code/DATA_SCIENCE/data/clean_images/test/labels/20806.txt'"
      ]
     },
     "execution_count": 161,
     "metadata": {},
     "output_type": "execute_result"
    },
    {
     "data": {
      "text/plain": [
       "'C:/Users/khanh/code/DATA_SCIENCE/data/clean_images/test/images/20808.jpg'"
      ]
     },
     "execution_count": 161,
     "metadata": {},
     "output_type": "execute_result"
    },
    {
     "data": {
      "text/plain": [
       "'C:/Users/khanh/code/DATA_SCIENCE/data/clean_images/test/labels/20808.txt'"
      ]
     },
     "execution_count": 161,
     "metadata": {},
     "output_type": "execute_result"
    },
    {
     "data": {
      "text/plain": [
       "'C:/Users/khanh/code/DATA_SCIENCE/data/clean_images/test/images/20810.jpg'"
      ]
     },
     "execution_count": 161,
     "metadata": {},
     "output_type": "execute_result"
    },
    {
     "data": {
      "text/plain": [
       "'C:/Users/khanh/code/DATA_SCIENCE/data/clean_images/test/labels/20810.txt'"
      ]
     },
     "execution_count": 161,
     "metadata": {},
     "output_type": "execute_result"
    },
    {
     "data": {
      "text/plain": [
       "'C:/Users/khanh/code/DATA_SCIENCE/data/clean_images/test/images/19696.jpg'"
      ]
     },
     "execution_count": 161,
     "metadata": {},
     "output_type": "execute_result"
    },
    {
     "data": {
      "text/plain": [
       "'C:/Users/khanh/code/DATA_SCIENCE/data/clean_images/test/labels/19696.txt'"
      ]
     },
     "execution_count": 161,
     "metadata": {},
     "output_type": "execute_result"
    },
    {
     "data": {
      "text/plain": [
       "'C:/Users/khanh/code/DATA_SCIENCE/data/clean_images/test/images/19697.jpg'"
      ]
     },
     "execution_count": 161,
     "metadata": {},
     "output_type": "execute_result"
    },
    {
     "data": {
      "text/plain": [
       "'C:/Users/khanh/code/DATA_SCIENCE/data/clean_images/test/labels/19697.txt'"
      ]
     },
     "execution_count": 161,
     "metadata": {},
     "output_type": "execute_result"
    },
    {
     "data": {
      "text/plain": [
       "'C:/Users/khanh/code/DATA_SCIENCE/data/clean_images/test/images/19699.jpg'"
      ]
     },
     "execution_count": 161,
     "metadata": {},
     "output_type": "execute_result"
    },
    {
     "data": {
      "text/plain": [
       "'C:/Users/khanh/code/DATA_SCIENCE/data/clean_images/test/labels/19699.txt'"
      ]
     },
     "execution_count": 161,
     "metadata": {},
     "output_type": "execute_result"
    },
    {
     "data": {
      "text/plain": [
       "'C:/Users/khanh/code/DATA_SCIENCE/data/clean_images/test/images/54490.jpg'"
      ]
     },
     "execution_count": 161,
     "metadata": {},
     "output_type": "execute_result"
    },
    {
     "data": {
      "text/plain": [
       "'C:/Users/khanh/code/DATA_SCIENCE/data/clean_images/test/labels/54490.txt'"
      ]
     },
     "execution_count": 161,
     "metadata": {},
     "output_type": "execute_result"
    },
    {
     "data": {
      "text/plain": [
       "'C:/Users/khanh/code/DATA_SCIENCE/data/clean_images/test/images/54491.jpg'"
      ]
     },
     "execution_count": 161,
     "metadata": {},
     "output_type": "execute_result"
    },
    {
     "data": {
      "text/plain": [
       "'C:/Users/khanh/code/DATA_SCIENCE/data/clean_images/test/labels/54491.txt'"
      ]
     },
     "execution_count": 161,
     "metadata": {},
     "output_type": "execute_result"
    },
    {
     "data": {
      "text/plain": [
       "'C:/Users/khanh/code/DATA_SCIENCE/data/clean_images/test/images/54492.jpg'"
      ]
     },
     "execution_count": 161,
     "metadata": {},
     "output_type": "execute_result"
    },
    {
     "data": {
      "text/plain": [
       "'C:/Users/khanh/code/DATA_SCIENCE/data/clean_images/test/labels/54492.txt'"
      ]
     },
     "execution_count": 161,
     "metadata": {},
     "output_type": "execute_result"
    },
    {
     "data": {
      "text/plain": [
       "'C:/Users/khanh/code/DATA_SCIENCE/data/clean_images/test/images/54493.jpg'"
      ]
     },
     "execution_count": 161,
     "metadata": {},
     "output_type": "execute_result"
    },
    {
     "data": {
      "text/plain": [
       "'C:/Users/khanh/code/DATA_SCIENCE/data/clean_images/test/labels/54493.txt'"
      ]
     },
     "execution_count": 161,
     "metadata": {},
     "output_type": "execute_result"
    },
    {
     "data": {
      "text/plain": [
       "'C:/Users/khanh/code/DATA_SCIENCE/data/clean_images/test/images/14895.jpg'"
      ]
     },
     "execution_count": 161,
     "metadata": {},
     "output_type": "execute_result"
    },
    {
     "data": {
      "text/plain": [
       "'C:/Users/khanh/code/DATA_SCIENCE/data/clean_images/test/labels/14895.txt'"
      ]
     },
     "execution_count": 161,
     "metadata": {},
     "output_type": "execute_result"
    },
    {
     "data": {
      "text/plain": [
       "'C:/Users/khanh/code/DATA_SCIENCE/data/clean_images/test/images/46266.jpg'"
      ]
     },
     "execution_count": 161,
     "metadata": {},
     "output_type": "execute_result"
    },
    {
     "data": {
      "text/plain": [
       "'C:/Users/khanh/code/DATA_SCIENCE/data/clean_images/test/labels/46266.txt'"
      ]
     },
     "execution_count": 161,
     "metadata": {},
     "output_type": "execute_result"
    },
    {
     "data": {
      "text/plain": [
       "'C:/Users/khanh/code/DATA_SCIENCE/data/clean_images/test/images/46268.jpg'"
      ]
     },
     "execution_count": 161,
     "metadata": {},
     "output_type": "execute_result"
    },
    {
     "data": {
      "text/plain": [
       "'C:/Users/khanh/code/DATA_SCIENCE/data/clean_images/test/labels/46268.txt'"
      ]
     },
     "execution_count": 161,
     "metadata": {},
     "output_type": "execute_result"
    },
    {
     "data": {
      "text/plain": [
       "'C:/Users/khanh/code/DATA_SCIENCE/data/clean_images/test/images/52375.jpg'"
      ]
     },
     "execution_count": 161,
     "metadata": {},
     "output_type": "execute_result"
    },
    {
     "data": {
      "text/plain": [
       "'C:/Users/khanh/code/DATA_SCIENCE/data/clean_images/test/labels/52375.txt'"
      ]
     },
     "execution_count": 161,
     "metadata": {},
     "output_type": "execute_result"
    },
    {
     "data": {
      "text/plain": [
       "'C:/Users/khanh/code/DATA_SCIENCE/data/clean_images/test/images/52376.jpg'"
      ]
     },
     "execution_count": 161,
     "metadata": {},
     "output_type": "execute_result"
    },
    {
     "data": {
      "text/plain": [
       "'C:/Users/khanh/code/DATA_SCIENCE/data/clean_images/test/labels/52376.txt'"
      ]
     },
     "execution_count": 161,
     "metadata": {},
     "output_type": "execute_result"
    },
    {
     "data": {
      "text/plain": [
       "'C:/Users/khanh/code/DATA_SCIENCE/data/clean_images/test/images/52377.jpg'"
      ]
     },
     "execution_count": 161,
     "metadata": {},
     "output_type": "execute_result"
    },
    {
     "data": {
      "text/plain": [
       "'C:/Users/khanh/code/DATA_SCIENCE/data/clean_images/test/labels/52377.txt'"
      ]
     },
     "execution_count": 161,
     "metadata": {},
     "output_type": "execute_result"
    },
    {
     "data": {
      "text/plain": [
       "'C:/Users/khanh/code/DATA_SCIENCE/data/clean_images/test/images/52378.jpg'"
      ]
     },
     "execution_count": 161,
     "metadata": {},
     "output_type": "execute_result"
    },
    {
     "data": {
      "text/plain": [
       "'C:/Users/khanh/code/DATA_SCIENCE/data/clean_images/test/labels/52378.txt'"
      ]
     },
     "execution_count": 161,
     "metadata": {},
     "output_type": "execute_result"
    },
    {
     "data": {
      "text/plain": [
       "'C:/Users/khanh/code/DATA_SCIENCE/data/clean_images/test/images/52379.jpg'"
      ]
     },
     "execution_count": 161,
     "metadata": {},
     "output_type": "execute_result"
    },
    {
     "data": {
      "text/plain": [
       "'C:/Users/khanh/code/DATA_SCIENCE/data/clean_images/test/labels/52379.txt'"
      ]
     },
     "execution_count": 161,
     "metadata": {},
     "output_type": "execute_result"
    },
    {
     "data": {
      "text/plain": [
       "'C:/Users/khanh/code/DATA_SCIENCE/data/clean_images/test/images/52380.jpg'"
      ]
     },
     "execution_count": 161,
     "metadata": {},
     "output_type": "execute_result"
    },
    {
     "data": {
      "text/plain": [
       "'C:/Users/khanh/code/DATA_SCIENCE/data/clean_images/test/labels/52380.txt'"
      ]
     },
     "execution_count": 161,
     "metadata": {},
     "output_type": "execute_result"
    },
    {
     "data": {
      "text/plain": [
       "'C:/Users/khanh/code/DATA_SCIENCE/data/clean_images/test/images/12490.jpg'"
      ]
     },
     "execution_count": 161,
     "metadata": {},
     "output_type": "execute_result"
    },
    {
     "data": {
      "text/plain": [
       "'C:/Users/khanh/code/DATA_SCIENCE/data/clean_images/test/labels/12490.txt'"
      ]
     },
     "execution_count": 161,
     "metadata": {},
     "output_type": "execute_result"
    },
    {
     "data": {
      "text/plain": [
       "'C:/Users/khanh/code/DATA_SCIENCE/data/clean_images/test/images/12494.jpg'"
      ]
     },
     "execution_count": 161,
     "metadata": {},
     "output_type": "execute_result"
    },
    {
     "data": {
      "text/plain": [
       "'C:/Users/khanh/code/DATA_SCIENCE/data/clean_images/test/labels/12494.txt'"
      ]
     },
     "execution_count": 161,
     "metadata": {},
     "output_type": "execute_result"
    },
    {
     "data": {
      "text/plain": [
       "'C:/Users/khanh/code/DATA_SCIENCE/data/clean_images/test/images/12495.jpg'"
      ]
     },
     "execution_count": 161,
     "metadata": {},
     "output_type": "execute_result"
    },
    {
     "data": {
      "text/plain": [
       "'C:/Users/khanh/code/DATA_SCIENCE/data/clean_images/test/labels/12495.txt'"
      ]
     },
     "execution_count": 161,
     "metadata": {},
     "output_type": "execute_result"
    },
    {
     "data": {
      "text/plain": [
       "'C:/Users/khanh/code/DATA_SCIENCE/data/clean_images/test/images/24796.jpg'"
      ]
     },
     "execution_count": 161,
     "metadata": {},
     "output_type": "execute_result"
    },
    {
     "data": {
      "text/plain": [
       "'C:/Users/khanh/code/DATA_SCIENCE/data/clean_images/test/labels/24796.txt'"
      ]
     },
     "execution_count": 161,
     "metadata": {},
     "output_type": "execute_result"
    },
    {
     "data": {
      "text/plain": [
       "'C:/Users/khanh/code/DATA_SCIENCE/data/clean_images/test/images/45703.jpg'"
      ]
     },
     "execution_count": 161,
     "metadata": {},
     "output_type": "execute_result"
    },
    {
     "data": {
      "text/plain": [
       "'C:/Users/khanh/code/DATA_SCIENCE/data/clean_images/test/labels/45703.txt'"
      ]
     },
     "execution_count": 161,
     "metadata": {},
     "output_type": "execute_result"
    },
    {
     "data": {
      "text/plain": [
       "'C:/Users/khanh/code/DATA_SCIENCE/data/clean_images/test/images/45704.jpg'"
      ]
     },
     "execution_count": 161,
     "metadata": {},
     "output_type": "execute_result"
    },
    {
     "data": {
      "text/plain": [
       "'C:/Users/khanh/code/DATA_SCIENCE/data/clean_images/test/labels/45704.txt'"
      ]
     },
     "execution_count": 161,
     "metadata": {},
     "output_type": "execute_result"
    },
    {
     "data": {
      "text/plain": [
       "'C:/Users/khanh/code/DATA_SCIENCE/data/clean_images/test/images/45705.jpg'"
      ]
     },
     "execution_count": 161,
     "metadata": {},
     "output_type": "execute_result"
    },
    {
     "data": {
      "text/plain": [
       "'C:/Users/khanh/code/DATA_SCIENCE/data/clean_images/test/labels/45705.txt'"
      ]
     },
     "execution_count": 161,
     "metadata": {},
     "output_type": "execute_result"
    },
    {
     "data": {
      "text/plain": [
       "'C:/Users/khanh/code/DATA_SCIENCE/data/clean_images/test/images/54714.jpg'"
      ]
     },
     "execution_count": 161,
     "metadata": {},
     "output_type": "execute_result"
    },
    {
     "data": {
      "text/plain": [
       "'C:/Users/khanh/code/DATA_SCIENCE/data/clean_images/test/labels/54714.txt'"
      ]
     },
     "execution_count": 161,
     "metadata": {},
     "output_type": "execute_result"
    },
    {
     "data": {
      "text/plain": [
       "'C:/Users/khanh/code/DATA_SCIENCE/data/clean_images/test/images/54715.jpg'"
      ]
     },
     "execution_count": 161,
     "metadata": {},
     "output_type": "execute_result"
    },
    {
     "data": {
      "text/plain": [
       "'C:/Users/khanh/code/DATA_SCIENCE/data/clean_images/test/labels/54715.txt'"
      ]
     },
     "execution_count": 161,
     "metadata": {},
     "output_type": "execute_result"
    },
    {
     "data": {
      "text/plain": [
       "'C:/Users/khanh/code/DATA_SCIENCE/data/clean_images/test/images/43561.jpg'"
      ]
     },
     "execution_count": 161,
     "metadata": {},
     "output_type": "execute_result"
    },
    {
     "data": {
      "text/plain": [
       "'C:/Users/khanh/code/DATA_SCIENCE/data/clean_images/test/labels/43561.txt'"
      ]
     },
     "execution_count": 161,
     "metadata": {},
     "output_type": "execute_result"
    },
    {
     "data": {
      "text/plain": [
       "'C:/Users/khanh/code/DATA_SCIENCE/data/clean_images/test/images/43562.jpg'"
      ]
     },
     "execution_count": 161,
     "metadata": {},
     "output_type": "execute_result"
    },
    {
     "data": {
      "text/plain": [
       "'C:/Users/khanh/code/DATA_SCIENCE/data/clean_images/test/labels/43562.txt'"
      ]
     },
     "execution_count": 161,
     "metadata": {},
     "output_type": "execute_result"
    },
    {
     "data": {
      "text/plain": [
       "'C:/Users/khanh/code/DATA_SCIENCE/data/clean_images/test/images/43563.jpg'"
      ]
     },
     "execution_count": 161,
     "metadata": {},
     "output_type": "execute_result"
    },
    {
     "data": {
      "text/plain": [
       "'C:/Users/khanh/code/DATA_SCIENCE/data/clean_images/test/labels/43563.txt'"
      ]
     },
     "execution_count": 161,
     "metadata": {},
     "output_type": "execute_result"
    },
    {
     "data": {
      "text/plain": [
       "'C:/Users/khanh/code/DATA_SCIENCE/data/clean_images/test/images/43564.jpg'"
      ]
     },
     "execution_count": 161,
     "metadata": {},
     "output_type": "execute_result"
    },
    {
     "data": {
      "text/plain": [
       "'C:/Users/khanh/code/DATA_SCIENCE/data/clean_images/test/labels/43564.txt'"
      ]
     },
     "execution_count": 161,
     "metadata": {},
     "output_type": "execute_result"
    },
    {
     "data": {
      "text/plain": [
       "'C:/Users/khanh/code/DATA_SCIENCE/data/clean_images/test/images/1340.jpg'"
      ]
     },
     "execution_count": 161,
     "metadata": {},
     "output_type": "execute_result"
    },
    {
     "data": {
      "text/plain": [
       "'C:/Users/khanh/code/DATA_SCIENCE/data/clean_images/test/labels/1340.txt'"
      ]
     },
     "execution_count": 161,
     "metadata": {},
     "output_type": "execute_result"
    },
    {
     "data": {
      "text/plain": [
       "'C:/Users/khanh/code/DATA_SCIENCE/data/clean_images/test/images/32926.jpg'"
      ]
     },
     "execution_count": 161,
     "metadata": {},
     "output_type": "execute_result"
    },
    {
     "data": {
      "text/plain": [
       "'C:/Users/khanh/code/DATA_SCIENCE/data/clean_images/test/labels/32926.txt'"
      ]
     },
     "execution_count": 161,
     "metadata": {},
     "output_type": "execute_result"
    },
    {
     "data": {
      "text/plain": [
       "'C:/Users/khanh/code/DATA_SCIENCE/data/clean_images/test/images/32927.jpg'"
      ]
     },
     "execution_count": 161,
     "metadata": {},
     "output_type": "execute_result"
    },
    {
     "data": {
      "text/plain": [
       "'C:/Users/khanh/code/DATA_SCIENCE/data/clean_images/test/labels/32927.txt'"
      ]
     },
     "execution_count": 161,
     "metadata": {},
     "output_type": "execute_result"
    },
    {
     "data": {
      "text/plain": [
       "'C:/Users/khanh/code/DATA_SCIENCE/data/clean_images/test/images/32928.jpg'"
      ]
     },
     "execution_count": 161,
     "metadata": {},
     "output_type": "execute_result"
    },
    {
     "data": {
      "text/plain": [
       "'C:/Users/khanh/code/DATA_SCIENCE/data/clean_images/test/labels/32928.txt'"
      ]
     },
     "execution_count": 161,
     "metadata": {},
     "output_type": "execute_result"
    },
    {
     "data": {
      "text/plain": [
       "'C:/Users/khanh/code/DATA_SCIENCE/data/clean_images/test/images/32930.jpg'"
      ]
     },
     "execution_count": 161,
     "metadata": {},
     "output_type": "execute_result"
    },
    {
     "data": {
      "text/plain": [
       "'C:/Users/khanh/code/DATA_SCIENCE/data/clean_images/test/labels/32930.txt'"
      ]
     },
     "execution_count": 161,
     "metadata": {},
     "output_type": "execute_result"
    },
    {
     "data": {
      "text/plain": [
       "'C:/Users/khanh/code/DATA_SCIENCE/data/clean_images/test/images/6546.jpg'"
      ]
     },
     "execution_count": 161,
     "metadata": {},
     "output_type": "execute_result"
    },
    {
     "data": {
      "text/plain": [
       "'C:/Users/khanh/code/DATA_SCIENCE/data/clean_images/test/labels/6546.txt'"
      ]
     },
     "execution_count": 161,
     "metadata": {},
     "output_type": "execute_result"
    },
    {
     "data": {
      "text/plain": [
       "'C:/Users/khanh/code/DATA_SCIENCE/data/clean_images/test/images/6547.jpg'"
      ]
     },
     "execution_count": 161,
     "metadata": {},
     "output_type": "execute_result"
    },
    {
     "data": {
      "text/plain": [
       "'C:/Users/khanh/code/DATA_SCIENCE/data/clean_images/test/labels/6547.txt'"
      ]
     },
     "execution_count": 161,
     "metadata": {},
     "output_type": "execute_result"
    },
    {
     "data": {
      "text/plain": [
       "'C:/Users/khanh/code/DATA_SCIENCE/data/clean_images/test/images/6548.jpg'"
      ]
     },
     "execution_count": 161,
     "metadata": {},
     "output_type": "execute_result"
    },
    {
     "data": {
      "text/plain": [
       "'C:/Users/khanh/code/DATA_SCIENCE/data/clean_images/test/labels/6548.txt'"
      ]
     },
     "execution_count": 161,
     "metadata": {},
     "output_type": "execute_result"
    },
    {
     "data": {
      "text/plain": [
       "'C:/Users/khanh/code/DATA_SCIENCE/data/clean_images/test/images/6549.jpg'"
      ]
     },
     "execution_count": 161,
     "metadata": {},
     "output_type": "execute_result"
    },
    {
     "data": {
      "text/plain": [
       "'C:/Users/khanh/code/DATA_SCIENCE/data/clean_images/test/labels/6549.txt'"
      ]
     },
     "execution_count": 161,
     "metadata": {},
     "output_type": "execute_result"
    },
    {
     "data": {
      "text/plain": [
       "'C:/Users/khanh/code/DATA_SCIENCE/data/clean_images/test/images/39230.jpg'"
      ]
     },
     "execution_count": 161,
     "metadata": {},
     "output_type": "execute_result"
    },
    {
     "data": {
      "text/plain": [
       "'C:/Users/khanh/code/DATA_SCIENCE/data/clean_images/test/labels/39230.txt'"
      ]
     },
     "execution_count": 161,
     "metadata": {},
     "output_type": "execute_result"
    },
    {
     "data": {
      "text/plain": [
       "'C:/Users/khanh/code/DATA_SCIENCE/data/clean_images/test/images/35169.jpg'"
      ]
     },
     "execution_count": 161,
     "metadata": {},
     "output_type": "execute_result"
    },
    {
     "data": {
      "text/plain": [
       "'C:/Users/khanh/code/DATA_SCIENCE/data/clean_images/test/labels/35169.txt'"
      ]
     },
     "execution_count": 161,
     "metadata": {},
     "output_type": "execute_result"
    },
    {
     "data": {
      "text/plain": [
       "'C:/Users/khanh/code/DATA_SCIENCE/data/clean_images/test/images/21341.jpg'"
      ]
     },
     "execution_count": 161,
     "metadata": {},
     "output_type": "execute_result"
    },
    {
     "data": {
      "text/plain": [
       "'C:/Users/khanh/code/DATA_SCIENCE/data/clean_images/test/labels/21341.txt'"
      ]
     },
     "execution_count": 161,
     "metadata": {},
     "output_type": "execute_result"
    },
    {
     "data": {
      "text/plain": [
       "'C:/Users/khanh/code/DATA_SCIENCE/data/clean_images/test/images/32704.jpg'"
      ]
     },
     "execution_count": 161,
     "metadata": {},
     "output_type": "execute_result"
    },
    {
     "data": {
      "text/plain": [
       "'C:/Users/khanh/code/DATA_SCIENCE/data/clean_images/test/labels/32704.txt'"
      ]
     },
     "execution_count": 161,
     "metadata": {},
     "output_type": "execute_result"
    },
    {
     "data": {
      "text/plain": [
       "'C:/Users/khanh/code/DATA_SCIENCE/data/clean_images/test/images/32705.jpg'"
      ]
     },
     "execution_count": 161,
     "metadata": {},
     "output_type": "execute_result"
    },
    {
     "data": {
      "text/plain": [
       "'C:/Users/khanh/code/DATA_SCIENCE/data/clean_images/test/labels/32705.txt'"
      ]
     },
     "execution_count": 161,
     "metadata": {},
     "output_type": "execute_result"
    },
    {
     "data": {
      "text/plain": [
       "'C:/Users/khanh/code/DATA_SCIENCE/data/clean_images/test/images/32707.jpg'"
      ]
     },
     "execution_count": 161,
     "metadata": {},
     "output_type": "execute_result"
    },
    {
     "data": {
      "text/plain": [
       "'C:/Users/khanh/code/DATA_SCIENCE/data/clean_images/test/labels/32707.txt'"
      ]
     },
     "execution_count": 161,
     "metadata": {},
     "output_type": "execute_result"
    },
    {
     "data": {
      "text/plain": [
       "'C:/Users/khanh/code/DATA_SCIENCE/data/clean_images/test/images/28973.jpg'"
      ]
     },
     "execution_count": 161,
     "metadata": {},
     "output_type": "execute_result"
    },
    {
     "data": {
      "text/plain": [
       "'C:/Users/khanh/code/DATA_SCIENCE/data/clean_images/test/labels/28973.txt'"
      ]
     },
     "execution_count": 161,
     "metadata": {},
     "output_type": "execute_result"
    },
    {
     "data": {
      "text/plain": [
       "'C:/Users/khanh/code/DATA_SCIENCE/data/clean_images/test/images/42347.jpg'"
      ]
     },
     "execution_count": 161,
     "metadata": {},
     "output_type": "execute_result"
    },
    {
     "data": {
      "text/plain": [
       "'C:/Users/khanh/code/DATA_SCIENCE/data/clean_images/test/labels/42347.txt'"
      ]
     },
     "execution_count": 161,
     "metadata": {},
     "output_type": "execute_result"
    },
    {
     "data": {
      "text/plain": [
       "'C:/Users/khanh/code/DATA_SCIENCE/data/clean_images/test/images/42348.jpg'"
      ]
     },
     "execution_count": 161,
     "metadata": {},
     "output_type": "execute_result"
    },
    {
     "data": {
      "text/plain": [
       "'C:/Users/khanh/code/DATA_SCIENCE/data/clean_images/test/labels/42348.txt'"
      ]
     },
     "execution_count": 161,
     "metadata": {},
     "output_type": "execute_result"
    },
    {
     "data": {
      "text/plain": [
       "'C:/Users/khanh/code/DATA_SCIENCE/data/clean_images/test/images/42349.jpg'"
      ]
     },
     "execution_count": 161,
     "metadata": {},
     "output_type": "execute_result"
    },
    {
     "data": {
      "text/plain": [
       "'C:/Users/khanh/code/DATA_SCIENCE/data/clean_images/test/labels/42349.txt'"
      ]
     },
     "execution_count": 161,
     "metadata": {},
     "output_type": "execute_result"
    },
    {
     "data": {
      "text/plain": [
       "'C:/Users/khanh/code/DATA_SCIENCE/data/clean_images/test/images/42350.jpg'"
      ]
     },
     "execution_count": 161,
     "metadata": {},
     "output_type": "execute_result"
    },
    {
     "data": {
      "text/plain": [
       "'C:/Users/khanh/code/DATA_SCIENCE/data/clean_images/test/labels/42350.txt'"
      ]
     },
     "execution_count": 161,
     "metadata": {},
     "output_type": "execute_result"
    },
    {
     "data": {
      "text/plain": [
       "'C:/Users/khanh/code/DATA_SCIENCE/data/clean_images/test/images/42352.jpg'"
      ]
     },
     "execution_count": 161,
     "metadata": {},
     "output_type": "execute_result"
    },
    {
     "data": {
      "text/plain": [
       "'C:/Users/khanh/code/DATA_SCIENCE/data/clean_images/test/labels/42352.txt'"
      ]
     },
     "execution_count": 161,
     "metadata": {},
     "output_type": "execute_result"
    },
    {
     "data": {
      "text/plain": [
       "'C:/Users/khanh/code/DATA_SCIENCE/data/clean_images/test/images/14010.jpg'"
      ]
     },
     "execution_count": 161,
     "metadata": {},
     "output_type": "execute_result"
    },
    {
     "data": {
      "text/plain": [
       "'C:/Users/khanh/code/DATA_SCIENCE/data/clean_images/test/labels/14010.txt'"
      ]
     },
     "execution_count": 161,
     "metadata": {},
     "output_type": "execute_result"
    },
    {
     "data": {
      "text/plain": [
       "'C:/Users/khanh/code/DATA_SCIENCE/data/clean_images/test/images/14011.jpg'"
      ]
     },
     "execution_count": 161,
     "metadata": {},
     "output_type": "execute_result"
    },
    {
     "data": {
      "text/plain": [
       "'C:/Users/khanh/code/DATA_SCIENCE/data/clean_images/test/labels/14011.txt'"
      ]
     },
     "execution_count": 161,
     "metadata": {},
     "output_type": "execute_result"
    },
    {
     "data": {
      "text/plain": [
       "'C:/Users/khanh/code/DATA_SCIENCE/data/clean_images/test/images/14012.jpg'"
      ]
     },
     "execution_count": 161,
     "metadata": {},
     "output_type": "execute_result"
    },
    {
     "data": {
      "text/plain": [
       "'C:/Users/khanh/code/DATA_SCIENCE/data/clean_images/test/labels/14012.txt'"
      ]
     },
     "execution_count": 161,
     "metadata": {},
     "output_type": "execute_result"
    },
    {
     "data": {
      "text/plain": [
       "'C:/Users/khanh/code/DATA_SCIENCE/data/clean_images/test/images/16601.jpg'"
      ]
     },
     "execution_count": 161,
     "metadata": {},
     "output_type": "execute_result"
    },
    {
     "data": {
      "text/plain": [
       "'C:/Users/khanh/code/DATA_SCIENCE/data/clean_images/test/labels/16601.txt'"
      ]
     },
     "execution_count": 161,
     "metadata": {},
     "output_type": "execute_result"
    },
    {
     "data": {
      "text/plain": [
       "'C:/Users/khanh/code/DATA_SCIENCE/data/clean_images/test/images/16603.jpg'"
      ]
     },
     "execution_count": 161,
     "metadata": {},
     "output_type": "execute_result"
    },
    {
     "data": {
      "text/plain": [
       "'C:/Users/khanh/code/DATA_SCIENCE/data/clean_images/test/labels/16603.txt'"
      ]
     },
     "execution_count": 161,
     "metadata": {},
     "output_type": "execute_result"
    },
    {
     "data": {
      "text/plain": [
       "'C:/Users/khanh/code/DATA_SCIENCE/data/clean_images/test/images/16604.jpg'"
      ]
     },
     "execution_count": 161,
     "metadata": {},
     "output_type": "execute_result"
    },
    {
     "data": {
      "text/plain": [
       "'C:/Users/khanh/code/DATA_SCIENCE/data/clean_images/test/labels/16604.txt'"
      ]
     },
     "execution_count": 161,
     "metadata": {},
     "output_type": "execute_result"
    },
    {
     "data": {
      "text/plain": [
       "'C:/Users/khanh/code/DATA_SCIENCE/data/clean_images/test/images/16605.jpg'"
      ]
     },
     "execution_count": 161,
     "metadata": {},
     "output_type": "execute_result"
    },
    {
     "data": {
      "text/plain": [
       "'C:/Users/khanh/code/DATA_SCIENCE/data/clean_images/test/labels/16605.txt'"
      ]
     },
     "execution_count": 161,
     "metadata": {},
     "output_type": "execute_result"
    },
    {
     "data": {
      "text/plain": [
       "'C:/Users/khanh/code/DATA_SCIENCE/data/clean_images/test/images/50824.jpg'"
      ]
     },
     "execution_count": 161,
     "metadata": {},
     "output_type": "execute_result"
    },
    {
     "data": {
      "text/plain": [
       "'C:/Users/khanh/code/DATA_SCIENCE/data/clean_images/test/labels/50824.txt'"
      ]
     },
     "execution_count": 161,
     "metadata": {},
     "output_type": "execute_result"
    },
    {
     "data": {
      "text/plain": [
       "'C:/Users/khanh/code/DATA_SCIENCE/data/clean_images/test/images/50826.jpg'"
      ]
     },
     "execution_count": 161,
     "metadata": {},
     "output_type": "execute_result"
    },
    {
     "data": {
      "text/plain": [
       "'C:/Users/khanh/code/DATA_SCIENCE/data/clean_images/test/labels/50826.txt'"
      ]
     },
     "execution_count": 161,
     "metadata": {},
     "output_type": "execute_result"
    },
    {
     "data": {
      "text/plain": [
       "'C:/Users/khanh/code/DATA_SCIENCE/data/clean_images/test/images/50827.jpg'"
      ]
     },
     "execution_count": 161,
     "metadata": {},
     "output_type": "execute_result"
    },
    {
     "data": {
      "text/plain": [
       "'C:/Users/khanh/code/DATA_SCIENCE/data/clean_images/test/labels/50827.txt'"
      ]
     },
     "execution_count": 161,
     "metadata": {},
     "output_type": "execute_result"
    },
    {
     "data": {
      "text/plain": [
       "'C:/Users/khanh/code/DATA_SCIENCE/data/clean_images/test/images/50828.jpg'"
      ]
     },
     "execution_count": 161,
     "metadata": {},
     "output_type": "execute_result"
    },
    {
     "data": {
      "text/plain": [
       "'C:/Users/khanh/code/DATA_SCIENCE/data/clean_images/test/labels/50828.txt'"
      ]
     },
     "execution_count": 161,
     "metadata": {},
     "output_type": "execute_result"
    },
    {
     "data": {
      "text/plain": [
       "'C:/Users/khanh/code/DATA_SCIENCE/data/clean_images/test/images/50829.jpg'"
      ]
     },
     "execution_count": 161,
     "metadata": {},
     "output_type": "execute_result"
    },
    {
     "data": {
      "text/plain": [
       "'C:/Users/khanh/code/DATA_SCIENCE/data/clean_images/test/labels/50829.txt'"
      ]
     },
     "execution_count": 161,
     "metadata": {},
     "output_type": "execute_result"
    },
    {
     "data": {
      "text/plain": [
       "'C:/Users/khanh/code/DATA_SCIENCE/data/clean_images/test/images/9261.jpg'"
      ]
     },
     "execution_count": 161,
     "metadata": {},
     "output_type": "execute_result"
    },
    {
     "data": {
      "text/plain": [
       "'C:/Users/khanh/code/DATA_SCIENCE/data/clean_images/test/labels/9261.txt'"
      ]
     },
     "execution_count": 161,
     "metadata": {},
     "output_type": "execute_result"
    },
    {
     "data": {
      "text/plain": [
       "'C:/Users/khanh/code/DATA_SCIENCE/data/clean_images/test/images/9262.jpg'"
      ]
     },
     "execution_count": 161,
     "metadata": {},
     "output_type": "execute_result"
    },
    {
     "data": {
      "text/plain": [
       "'C:/Users/khanh/code/DATA_SCIENCE/data/clean_images/test/labels/9262.txt'"
      ]
     },
     "execution_count": 161,
     "metadata": {},
     "output_type": "execute_result"
    },
    {
     "data": {
      "text/plain": [
       "'C:/Users/khanh/code/DATA_SCIENCE/data/clean_images/test/images/9264.jpg'"
      ]
     },
     "execution_count": 161,
     "metadata": {},
     "output_type": "execute_result"
    },
    {
     "data": {
      "text/plain": [
       "'C:/Users/khanh/code/DATA_SCIENCE/data/clean_images/test/labels/9264.txt'"
      ]
     },
     "execution_count": 161,
     "metadata": {},
     "output_type": "execute_result"
    },
    {
     "data": {
      "text/plain": [
       "'C:/Users/khanh/code/DATA_SCIENCE/data/clean_images/test/images/9265.jpg'"
      ]
     },
     "execution_count": 161,
     "metadata": {},
     "output_type": "execute_result"
    },
    {
     "data": {
      "text/plain": [
       "'C:/Users/khanh/code/DATA_SCIENCE/data/clean_images/test/labels/9265.txt'"
      ]
     },
     "execution_count": 161,
     "metadata": {},
     "output_type": "execute_result"
    },
    {
     "data": {
      "text/plain": [
       "'C:/Users/khanh/code/DATA_SCIENCE/data/clean_images/test/images/3816.jpg'"
      ]
     },
     "execution_count": 161,
     "metadata": {},
     "output_type": "execute_result"
    },
    {
     "data": {
      "text/plain": [
       "'C:/Users/khanh/code/DATA_SCIENCE/data/clean_images/test/labels/3816.txt'"
      ]
     },
     "execution_count": 161,
     "metadata": {},
     "output_type": "execute_result"
    },
    {
     "data": {
      "text/plain": [
       "'C:/Users/khanh/code/DATA_SCIENCE/data/clean_images/test/images/3817.jpg'"
      ]
     },
     "execution_count": 161,
     "metadata": {},
     "output_type": "execute_result"
    },
    {
     "data": {
      "text/plain": [
       "'C:/Users/khanh/code/DATA_SCIENCE/data/clean_images/test/labels/3817.txt'"
      ]
     },
     "execution_count": 161,
     "metadata": {},
     "output_type": "execute_result"
    },
    {
     "data": {
      "text/plain": [
       "'C:/Users/khanh/code/DATA_SCIENCE/data/clean_images/test/images/3819.jpg'"
      ]
     },
     "execution_count": 161,
     "metadata": {},
     "output_type": "execute_result"
    },
    {
     "data": {
      "text/plain": [
       "'C:/Users/khanh/code/DATA_SCIENCE/data/clean_images/test/labels/3819.txt'"
      ]
     },
     "execution_count": 161,
     "metadata": {},
     "output_type": "execute_result"
    },
    {
     "data": {
      "text/plain": [
       "'C:/Users/khanh/code/DATA_SCIENCE/data/clean_images/test/images/3820.jpg'"
      ]
     },
     "execution_count": 161,
     "metadata": {},
     "output_type": "execute_result"
    },
    {
     "data": {
      "text/plain": [
       "'C:/Users/khanh/code/DATA_SCIENCE/data/clean_images/test/labels/3820.txt'"
      ]
     },
     "execution_count": 161,
     "metadata": {},
     "output_type": "execute_result"
    },
    {
     "data": {
      "text/plain": [
       "'C:/Users/khanh/code/DATA_SCIENCE/data/clean_images/test/images/3821.jpg'"
      ]
     },
     "execution_count": 161,
     "metadata": {},
     "output_type": "execute_result"
    },
    {
     "data": {
      "text/plain": [
       "'C:/Users/khanh/code/DATA_SCIENCE/data/clean_images/test/labels/3821.txt'"
      ]
     },
     "execution_count": 161,
     "metadata": {},
     "output_type": "execute_result"
    },
    {
     "data": {
      "text/plain": [
       "'C:/Users/khanh/code/DATA_SCIENCE/data/clean_images/test/images/38560.jpg'"
      ]
     },
     "execution_count": 161,
     "metadata": {},
     "output_type": "execute_result"
    },
    {
     "data": {
      "text/plain": [
       "'C:/Users/khanh/code/DATA_SCIENCE/data/clean_images/test/labels/38560.txt'"
      ]
     },
     "execution_count": 161,
     "metadata": {},
     "output_type": "execute_result"
    },
    {
     "data": {
      "text/plain": [
       "'C:/Users/khanh/code/DATA_SCIENCE/data/clean_images/test/images/8435.jpg'"
      ]
     },
     "execution_count": 161,
     "metadata": {},
     "output_type": "execute_result"
    },
    {
     "data": {
      "text/plain": [
       "'C:/Users/khanh/code/DATA_SCIENCE/data/clean_images/test/labels/8435.txt'"
      ]
     },
     "execution_count": 161,
     "metadata": {},
     "output_type": "execute_result"
    },
    {
     "data": {
      "text/plain": [
       "'C:/Users/khanh/code/DATA_SCIENCE/data/clean_images/test/images/8436.jpg'"
      ]
     },
     "execution_count": 161,
     "metadata": {},
     "output_type": "execute_result"
    },
    {
     "data": {
      "text/plain": [
       "'C:/Users/khanh/code/DATA_SCIENCE/data/clean_images/test/labels/8436.txt'"
      ]
     },
     "execution_count": 161,
     "metadata": {},
     "output_type": "execute_result"
    },
    {
     "data": {
      "text/plain": [
       "'C:/Users/khanh/code/DATA_SCIENCE/data/clean_images/test/images/8438.jpg'"
      ]
     },
     "execution_count": 161,
     "metadata": {},
     "output_type": "execute_result"
    },
    {
     "data": {
      "text/plain": [
       "'C:/Users/khanh/code/DATA_SCIENCE/data/clean_images/test/labels/8438.txt'"
      ]
     },
     "execution_count": 161,
     "metadata": {},
     "output_type": "execute_result"
    },
    {
     "data": {
      "text/plain": [
       "'C:/Users/khanh/code/DATA_SCIENCE/data/clean_images/test/images/41330.jpg'"
      ]
     },
     "execution_count": 161,
     "metadata": {},
     "output_type": "execute_result"
    },
    {
     "data": {
      "text/plain": [
       "'C:/Users/khanh/code/DATA_SCIENCE/data/clean_images/test/labels/41330.txt'"
      ]
     },
     "execution_count": 161,
     "metadata": {},
     "output_type": "execute_result"
    },
    {
     "data": {
      "text/plain": [
       "'C:/Users/khanh/code/DATA_SCIENCE/data/clean_images/test/images/41331.jpg'"
      ]
     },
     "execution_count": 161,
     "metadata": {},
     "output_type": "execute_result"
    },
    {
     "data": {
      "text/plain": [
       "'C:/Users/khanh/code/DATA_SCIENCE/data/clean_images/test/labels/41331.txt'"
      ]
     },
     "execution_count": 161,
     "metadata": {},
     "output_type": "execute_result"
    },
    {
     "data": {
      "text/plain": [
       "'C:/Users/khanh/code/DATA_SCIENCE/data/clean_images/test/images/41332.jpg'"
      ]
     },
     "execution_count": 161,
     "metadata": {},
     "output_type": "execute_result"
    },
    {
     "data": {
      "text/plain": [
       "'C:/Users/khanh/code/DATA_SCIENCE/data/clean_images/test/labels/41332.txt'"
      ]
     },
     "execution_count": 161,
     "metadata": {},
     "output_type": "execute_result"
    },
    {
     "data": {
      "text/plain": [
       "'C:/Users/khanh/code/DATA_SCIENCE/data/clean_images/test/images/41333.jpg'"
      ]
     },
     "execution_count": 161,
     "metadata": {},
     "output_type": "execute_result"
    },
    {
     "data": {
      "text/plain": [
       "'C:/Users/khanh/code/DATA_SCIENCE/data/clean_images/test/labels/41333.txt'"
      ]
     },
     "execution_count": 161,
     "metadata": {},
     "output_type": "execute_result"
    },
    {
     "data": {
      "text/plain": [
       "'C:/Users/khanh/code/DATA_SCIENCE/data/clean_images/test/images/41334.jpg'"
      ]
     },
     "execution_count": 161,
     "metadata": {},
     "output_type": "execute_result"
    },
    {
     "data": {
      "text/plain": [
       "'C:/Users/khanh/code/DATA_SCIENCE/data/clean_images/test/labels/41334.txt'"
      ]
     },
     "execution_count": 161,
     "metadata": {},
     "output_type": "execute_result"
    },
    {
     "data": {
      "text/plain": [
       "'C:/Users/khanh/code/DATA_SCIENCE/data/clean_images/test/images/5234.jpg'"
      ]
     },
     "execution_count": 161,
     "metadata": {},
     "output_type": "execute_result"
    },
    {
     "data": {
      "text/plain": [
       "'C:/Users/khanh/code/DATA_SCIENCE/data/clean_images/test/labels/5234.txt'"
      ]
     },
     "execution_count": 161,
     "metadata": {},
     "output_type": "execute_result"
    },
    {
     "data": {
      "text/plain": [
       "'C:/Users/khanh/code/DATA_SCIENCE/data/clean_images/test/images/5235.jpg'"
      ]
     },
     "execution_count": 161,
     "metadata": {},
     "output_type": "execute_result"
    },
    {
     "data": {
      "text/plain": [
       "'C:/Users/khanh/code/DATA_SCIENCE/data/clean_images/test/labels/5235.txt'"
      ]
     },
     "execution_count": 161,
     "metadata": {},
     "output_type": "execute_result"
    },
    {
     "data": {
      "text/plain": [
       "'C:/Users/khanh/code/DATA_SCIENCE/data/clean_images/test/images/5236.jpg'"
      ]
     },
     "execution_count": 161,
     "metadata": {},
     "output_type": "execute_result"
    },
    {
     "data": {
      "text/plain": [
       "'C:/Users/khanh/code/DATA_SCIENCE/data/clean_images/test/labels/5236.txt'"
      ]
     },
     "execution_count": 161,
     "metadata": {},
     "output_type": "execute_result"
    },
    {
     "data": {
      "text/plain": [
       "'C:/Users/khanh/code/DATA_SCIENCE/data/clean_images/test/images/5237.jpg'"
      ]
     },
     "execution_count": 161,
     "metadata": {},
     "output_type": "execute_result"
    },
    {
     "data": {
      "text/plain": [
       "'C:/Users/khanh/code/DATA_SCIENCE/data/clean_images/test/labels/5237.txt'"
      ]
     },
     "execution_count": 161,
     "metadata": {},
     "output_type": "execute_result"
    },
    {
     "data": {
      "text/plain": [
       "'C:/Users/khanh/code/DATA_SCIENCE/data/clean_images/test/images/5238.jpg'"
      ]
     },
     "execution_count": 161,
     "metadata": {},
     "output_type": "execute_result"
    },
    {
     "data": {
      "text/plain": [
       "'C:/Users/khanh/code/DATA_SCIENCE/data/clean_images/test/labels/5238.txt'"
      ]
     },
     "execution_count": 161,
     "metadata": {},
     "output_type": "execute_result"
    },
    {
     "data": {
      "text/plain": [
       "'C:/Users/khanh/code/DATA_SCIENCE/data/clean_images/test/images/5239.jpg'"
      ]
     },
     "execution_count": 161,
     "metadata": {},
     "output_type": "execute_result"
    },
    {
     "data": {
      "text/plain": [
       "'C:/Users/khanh/code/DATA_SCIENCE/data/clean_images/test/labels/5239.txt'"
      ]
     },
     "execution_count": 161,
     "metadata": {},
     "output_type": "execute_result"
    },
    {
     "data": {
      "text/plain": [
       "'C:/Users/khanh/code/DATA_SCIENCE/data/clean_images/test/images/14443.jpg'"
      ]
     },
     "execution_count": 161,
     "metadata": {},
     "output_type": "execute_result"
    },
    {
     "data": {
      "text/plain": [
       "'C:/Users/khanh/code/DATA_SCIENCE/data/clean_images/test/labels/14443.txt'"
      ]
     },
     "execution_count": 161,
     "metadata": {},
     "output_type": "execute_result"
    },
    {
     "data": {
      "text/plain": [
       "'C:/Users/khanh/code/DATA_SCIENCE/data/clean_images/test/images/50658.jpg'"
      ]
     },
     "execution_count": 161,
     "metadata": {},
     "output_type": "execute_result"
    },
    {
     "data": {
      "text/plain": [
       "'C:/Users/khanh/code/DATA_SCIENCE/data/clean_images/test/labels/50658.txt'"
      ]
     },
     "execution_count": 161,
     "metadata": {},
     "output_type": "execute_result"
    },
    {
     "data": {
      "text/plain": [
       "'C:/Users/khanh/code/DATA_SCIENCE/data/clean_images/test/images/50659.jpg'"
      ]
     },
     "execution_count": 161,
     "metadata": {},
     "output_type": "execute_result"
    },
    {
     "data": {
      "text/plain": [
       "'C:/Users/khanh/code/DATA_SCIENCE/data/clean_images/test/labels/50659.txt'"
      ]
     },
     "execution_count": 161,
     "metadata": {},
     "output_type": "execute_result"
    },
    {
     "data": {
      "text/plain": [
       "'C:/Users/khanh/code/DATA_SCIENCE/data/clean_images/test/images/40212.jpg'"
      ]
     },
     "execution_count": 161,
     "metadata": {},
     "output_type": "execute_result"
    },
    {
     "data": {
      "text/plain": [
       "'C:/Users/khanh/code/DATA_SCIENCE/data/clean_images/test/labels/40212.txt'"
      ]
     },
     "execution_count": 161,
     "metadata": {},
     "output_type": "execute_result"
    },
    {
     "data": {
      "text/plain": [
       "'C:/Users/khanh/code/DATA_SCIENCE/data/clean_images/test/images/15429.jpg'"
      ]
     },
     "execution_count": 161,
     "metadata": {},
     "output_type": "execute_result"
    },
    {
     "data": {
      "text/plain": [
       "'C:/Users/khanh/code/DATA_SCIENCE/data/clean_images/test/labels/15429.txt'"
      ]
     },
     "execution_count": 161,
     "metadata": {},
     "output_type": "execute_result"
    },
    {
     "data": {
      "text/plain": [
       "'C:/Users/khanh/code/DATA_SCIENCE/data/clean_images/test/images/15430.jpg'"
      ]
     },
     "execution_count": 161,
     "metadata": {},
     "output_type": "execute_result"
    },
    {
     "data": {
      "text/plain": [
       "'C:/Users/khanh/code/DATA_SCIENCE/data/clean_images/test/labels/15430.txt'"
      ]
     },
     "execution_count": 161,
     "metadata": {},
     "output_type": "execute_result"
    },
    {
     "data": {
      "text/plain": [
       "'C:/Users/khanh/code/DATA_SCIENCE/data/clean_images/test/images/15431.jpg'"
      ]
     },
     "execution_count": 161,
     "metadata": {},
     "output_type": "execute_result"
    },
    {
     "data": {
      "text/plain": [
       "'C:/Users/khanh/code/DATA_SCIENCE/data/clean_images/test/labels/15431.txt'"
      ]
     },
     "execution_count": 161,
     "metadata": {},
     "output_type": "execute_result"
    },
    {
     "data": {
      "text/plain": [
       "'C:/Users/khanh/code/DATA_SCIENCE/data/clean_images/test/images/15433.jpg'"
      ]
     },
     "execution_count": 161,
     "metadata": {},
     "output_type": "execute_result"
    },
    {
     "data": {
      "text/plain": [
       "'C:/Users/khanh/code/DATA_SCIENCE/data/clean_images/test/labels/15433.txt'"
      ]
     },
     "execution_count": 161,
     "metadata": {},
     "output_type": "execute_result"
    },
    {
     "data": {
      "text/plain": [
       "'C:/Users/khanh/code/DATA_SCIENCE/data/clean_images/test/images/43760.jpg'"
      ]
     },
     "execution_count": 161,
     "metadata": {},
     "output_type": "execute_result"
    },
    {
     "data": {
      "text/plain": [
       "'C:/Users/khanh/code/DATA_SCIENCE/data/clean_images/test/labels/43760.txt'"
      ]
     },
     "execution_count": 161,
     "metadata": {},
     "output_type": "execute_result"
    },
    {
     "data": {
      "text/plain": [
       "'C:/Users/khanh/code/DATA_SCIENCE/data/clean_images/test/images/43761.jpg'"
      ]
     },
     "execution_count": 161,
     "metadata": {},
     "output_type": "execute_result"
    },
    {
     "data": {
      "text/plain": [
       "'C:/Users/khanh/code/DATA_SCIENCE/data/clean_images/test/labels/43761.txt'"
      ]
     },
     "execution_count": 161,
     "metadata": {},
     "output_type": "execute_result"
    },
    {
     "data": {
      "text/plain": [
       "'C:/Users/khanh/code/DATA_SCIENCE/data/clean_images/test/images/43762.jpg'"
      ]
     },
     "execution_count": 161,
     "metadata": {},
     "output_type": "execute_result"
    },
    {
     "data": {
      "text/plain": [
       "'C:/Users/khanh/code/DATA_SCIENCE/data/clean_images/test/labels/43762.txt'"
      ]
     },
     "execution_count": 161,
     "metadata": {},
     "output_type": "execute_result"
    },
    {
     "data": {
      "text/plain": [
       "'C:/Users/khanh/code/DATA_SCIENCE/data/clean_images/test/images/43763.jpg'"
      ]
     },
     "execution_count": 161,
     "metadata": {},
     "output_type": "execute_result"
    },
    {
     "data": {
      "text/plain": [
       "'C:/Users/khanh/code/DATA_SCIENCE/data/clean_images/test/labels/43763.txt'"
      ]
     },
     "execution_count": 161,
     "metadata": {},
     "output_type": "execute_result"
    },
    {
     "data": {
      "text/plain": [
       "'C:/Users/khanh/code/DATA_SCIENCE/data/clean_images/test/images/19609.jpg'"
      ]
     },
     "execution_count": 161,
     "metadata": {},
     "output_type": "execute_result"
    },
    {
     "data": {
      "text/plain": [
       "'C:/Users/khanh/code/DATA_SCIENCE/data/clean_images/test/labels/19609.txt'"
      ]
     },
     "execution_count": 161,
     "metadata": {},
     "output_type": "execute_result"
    },
    {
     "data": {
      "text/plain": [
       "'C:/Users/khanh/code/DATA_SCIENCE/data/clean_images/test/images/38333.jpg'"
      ]
     },
     "execution_count": 161,
     "metadata": {},
     "output_type": "execute_result"
    },
    {
     "data": {
      "text/plain": [
       "'C:/Users/khanh/code/DATA_SCIENCE/data/clean_images/test/labels/38333.txt'"
      ]
     },
     "execution_count": 161,
     "metadata": {},
     "output_type": "execute_result"
    },
    {
     "data": {
      "text/plain": [
       "'C:/Users/khanh/code/DATA_SCIENCE/data/clean_images/test/images/38334.jpg'"
      ]
     },
     "execution_count": 161,
     "metadata": {},
     "output_type": "execute_result"
    },
    {
     "data": {
      "text/plain": [
       "'C:/Users/khanh/code/DATA_SCIENCE/data/clean_images/test/labels/38334.txt'"
      ]
     },
     "execution_count": 161,
     "metadata": {},
     "output_type": "execute_result"
    },
    {
     "data": {
      "text/plain": [
       "'C:/Users/khanh/code/DATA_SCIENCE/data/clean_images/test/images/35747.jpg'"
      ]
     },
     "execution_count": 161,
     "metadata": {},
     "output_type": "execute_result"
    },
    {
     "data": {
      "text/plain": [
       "'C:/Users/khanh/code/DATA_SCIENCE/data/clean_images/test/labels/35747.txt'"
      ]
     },
     "execution_count": 161,
     "metadata": {},
     "output_type": "execute_result"
    },
    {
     "data": {
      "text/plain": [
       "'C:/Users/khanh/code/DATA_SCIENCE/data/clean_images/test/images/26104.jpg'"
      ]
     },
     "execution_count": 161,
     "metadata": {},
     "output_type": "execute_result"
    },
    {
     "data": {
      "text/plain": [
       "'C:/Users/khanh/code/DATA_SCIENCE/data/clean_images/test/labels/26104.txt'"
      ]
     },
     "execution_count": 161,
     "metadata": {},
     "output_type": "execute_result"
    },
    {
     "data": {
      "text/plain": [
       "'C:/Users/khanh/code/DATA_SCIENCE/data/clean_images/test/images/26105.jpg'"
      ]
     },
     "execution_count": 161,
     "metadata": {},
     "output_type": "execute_result"
    },
    {
     "data": {
      "text/plain": [
       "'C:/Users/khanh/code/DATA_SCIENCE/data/clean_images/test/labels/26105.txt'"
      ]
     },
     "execution_count": 161,
     "metadata": {},
     "output_type": "execute_result"
    },
    {
     "data": {
      "text/plain": [
       "'C:/Users/khanh/code/DATA_SCIENCE/data/clean_images/test/images/48639.jpg'"
      ]
     },
     "execution_count": 161,
     "metadata": {},
     "output_type": "execute_result"
    },
    {
     "data": {
      "text/plain": [
       "'C:/Users/khanh/code/DATA_SCIENCE/data/clean_images/test/labels/48639.txt'"
      ]
     },
     "execution_count": 161,
     "metadata": {},
     "output_type": "execute_result"
    },
    {
     "data": {
      "text/plain": [
       "'C:/Users/khanh/code/DATA_SCIENCE/data/clean_images/test/images/48640.jpg'"
      ]
     },
     "execution_count": 161,
     "metadata": {},
     "output_type": "execute_result"
    },
    {
     "data": {
      "text/plain": [
       "'C:/Users/khanh/code/DATA_SCIENCE/data/clean_images/test/labels/48640.txt'"
      ]
     },
     "execution_count": 161,
     "metadata": {},
     "output_type": "execute_result"
    },
    {
     "data": {
      "text/plain": [
       "'C:/Users/khanh/code/DATA_SCIENCE/data/clean_images/test/images/26985.jpg'"
      ]
     },
     "execution_count": 161,
     "metadata": {},
     "output_type": "execute_result"
    },
    {
     "data": {
      "text/plain": [
       "'C:/Users/khanh/code/DATA_SCIENCE/data/clean_images/test/labels/26985.txt'"
      ]
     },
     "execution_count": 161,
     "metadata": {},
     "output_type": "execute_result"
    },
    {
     "data": {
      "text/plain": [
       "'C:/Users/khanh/code/DATA_SCIENCE/data/clean_images/test/images/26986.jpg'"
      ]
     },
     "execution_count": 161,
     "metadata": {},
     "output_type": "execute_result"
    },
    {
     "data": {
      "text/plain": [
       "'C:/Users/khanh/code/DATA_SCIENCE/data/clean_images/test/labels/26986.txt'"
      ]
     },
     "execution_count": 161,
     "metadata": {},
     "output_type": "execute_result"
    },
    {
     "data": {
      "text/plain": [
       "'C:/Users/khanh/code/DATA_SCIENCE/data/clean_images/test/images/26987.jpg'"
      ]
     },
     "execution_count": 161,
     "metadata": {},
     "output_type": "execute_result"
    },
    {
     "data": {
      "text/plain": [
       "'C:/Users/khanh/code/DATA_SCIENCE/data/clean_images/test/labels/26987.txt'"
      ]
     },
     "execution_count": 161,
     "metadata": {},
     "output_type": "execute_result"
    },
    {
     "data": {
      "text/plain": [
       "'C:/Users/khanh/code/DATA_SCIENCE/data/clean_images/test/images/34918.jpg'"
      ]
     },
     "execution_count": 161,
     "metadata": {},
     "output_type": "execute_result"
    },
    {
     "data": {
      "text/plain": [
       "'C:/Users/khanh/code/DATA_SCIENCE/data/clean_images/test/labels/34918.txt'"
      ]
     },
     "execution_count": 161,
     "metadata": {},
     "output_type": "execute_result"
    },
    {
     "data": {
      "text/plain": [
       "'C:/Users/khanh/code/DATA_SCIENCE/data/clean_images/test/images/34919.jpg'"
      ]
     },
     "execution_count": 161,
     "metadata": {},
     "output_type": "execute_result"
    },
    {
     "data": {
      "text/plain": [
       "'C:/Users/khanh/code/DATA_SCIENCE/data/clean_images/test/labels/34919.txt'"
      ]
     },
     "execution_count": 161,
     "metadata": {},
     "output_type": "execute_result"
    },
    {
     "data": {
      "text/plain": [
       "'C:/Users/khanh/code/DATA_SCIENCE/data/clean_images/test/images/34920.jpg'"
      ]
     },
     "execution_count": 161,
     "metadata": {},
     "output_type": "execute_result"
    },
    {
     "data": {
      "text/plain": [
       "'C:/Users/khanh/code/DATA_SCIENCE/data/clean_images/test/labels/34920.txt'"
      ]
     },
     "execution_count": 161,
     "metadata": {},
     "output_type": "execute_result"
    },
    {
     "data": {
      "text/plain": [
       "'C:/Users/khanh/code/DATA_SCIENCE/data/clean_images/test/images/34922.jpg'"
      ]
     },
     "execution_count": 161,
     "metadata": {},
     "output_type": "execute_result"
    },
    {
     "data": {
      "text/plain": [
       "'C:/Users/khanh/code/DATA_SCIENCE/data/clean_images/test/labels/34922.txt'"
      ]
     },
     "execution_count": 161,
     "metadata": {},
     "output_type": "execute_result"
    },
    {
     "data": {
      "text/plain": [
       "'C:/Users/khanh/code/DATA_SCIENCE/data/clean_images/test/images/34923.jpg'"
      ]
     },
     "execution_count": 161,
     "metadata": {},
     "output_type": "execute_result"
    },
    {
     "data": {
      "text/plain": [
       "'C:/Users/khanh/code/DATA_SCIENCE/data/clean_images/test/labels/34923.txt'"
      ]
     },
     "execution_count": 161,
     "metadata": {},
     "output_type": "execute_result"
    },
    {
     "data": {
      "text/plain": [
       "'C:/Users/khanh/code/DATA_SCIENCE/data/clean_images/test/images/48717.jpg'"
      ]
     },
     "execution_count": 161,
     "metadata": {},
     "output_type": "execute_result"
    },
    {
     "data": {
      "text/plain": [
       "'C:/Users/khanh/code/DATA_SCIENCE/data/clean_images/test/labels/48717.txt'"
      ]
     },
     "execution_count": 161,
     "metadata": {},
     "output_type": "execute_result"
    },
    {
     "data": {
      "text/plain": [
       "'C:/Users/khanh/code/DATA_SCIENCE/data/clean_images/test/images/48719.jpg'"
      ]
     },
     "execution_count": 161,
     "metadata": {},
     "output_type": "execute_result"
    },
    {
     "data": {
      "text/plain": [
       "'C:/Users/khanh/code/DATA_SCIENCE/data/clean_images/test/labels/48719.txt'"
      ]
     },
     "execution_count": 161,
     "metadata": {},
     "output_type": "execute_result"
    },
    {
     "data": {
      "text/plain": [
       "'C:/Users/khanh/code/DATA_SCIENCE/data/clean_images/test/images/48720.jpg'"
      ]
     },
     "execution_count": 161,
     "metadata": {},
     "output_type": "execute_result"
    },
    {
     "data": {
      "text/plain": [
       "'C:/Users/khanh/code/DATA_SCIENCE/data/clean_images/test/labels/48720.txt'"
      ]
     },
     "execution_count": 161,
     "metadata": {},
     "output_type": "execute_result"
    },
    {
     "data": {
      "text/plain": [
       "'C:/Users/khanh/code/DATA_SCIENCE/data/clean_images/test/images/15727.jpg'"
      ]
     },
     "execution_count": 161,
     "metadata": {},
     "output_type": "execute_result"
    },
    {
     "data": {
      "text/plain": [
       "'C:/Users/khanh/code/DATA_SCIENCE/data/clean_images/test/labels/15727.txt'"
      ]
     },
     "execution_count": 161,
     "metadata": {},
     "output_type": "execute_result"
    },
    {
     "data": {
      "text/plain": [
       "'C:/Users/khanh/code/DATA_SCIENCE/data/clean_images/test/images/31093.jpg'"
      ]
     },
     "execution_count": 161,
     "metadata": {},
     "output_type": "execute_result"
    },
    {
     "data": {
      "text/plain": [
       "'C:/Users/khanh/code/DATA_SCIENCE/data/clean_images/test/labels/31093.txt'"
      ]
     },
     "execution_count": 161,
     "metadata": {},
     "output_type": "execute_result"
    },
    {
     "data": {
      "text/plain": [
       "'C:/Users/khanh/code/DATA_SCIENCE/data/clean_images/test/images/20404.jpg'"
      ]
     },
     "execution_count": 161,
     "metadata": {},
     "output_type": "execute_result"
    },
    {
     "data": {
      "text/plain": [
       "'C:/Users/khanh/code/DATA_SCIENCE/data/clean_images/test/labels/20404.txt'"
      ]
     },
     "execution_count": 161,
     "metadata": {},
     "output_type": "execute_result"
    },
    {
     "data": {
      "text/plain": [
       "'C:/Users/khanh/code/DATA_SCIENCE/data/clean_images/test/images/20405.jpg'"
      ]
     },
     "execution_count": 161,
     "metadata": {},
     "output_type": "execute_result"
    },
    {
     "data": {
      "text/plain": [
       "'C:/Users/khanh/code/DATA_SCIENCE/data/clean_images/test/labels/20405.txt'"
      ]
     },
     "execution_count": 161,
     "metadata": {},
     "output_type": "execute_result"
    },
    {
     "data": {
      "text/plain": [
       "'C:/Users/khanh/code/DATA_SCIENCE/data/clean_images/test/images/30007.jpg'"
      ]
     },
     "execution_count": 161,
     "metadata": {},
     "output_type": "execute_result"
    },
    {
     "data": {
      "text/plain": [
       "'C:/Users/khanh/code/DATA_SCIENCE/data/clean_images/test/labels/30007.txt'"
      ]
     },
     "execution_count": 161,
     "metadata": {},
     "output_type": "execute_result"
    },
    {
     "data": {
      "text/plain": [
       "'C:/Users/khanh/code/DATA_SCIENCE/data/clean_images/test/images/30008.jpg'"
      ]
     },
     "execution_count": 161,
     "metadata": {},
     "output_type": "execute_result"
    },
    {
     "data": {
      "text/plain": [
       "'C:/Users/khanh/code/DATA_SCIENCE/data/clean_images/test/labels/30008.txt'"
      ]
     },
     "execution_count": 161,
     "metadata": {},
     "output_type": "execute_result"
    },
    {
     "data": {
      "text/plain": [
       "'C:/Users/khanh/code/DATA_SCIENCE/data/clean_images/test/images/30009.jpg'"
      ]
     },
     "execution_count": 161,
     "metadata": {},
     "output_type": "execute_result"
    },
    {
     "data": {
      "text/plain": [
       "'C:/Users/khanh/code/DATA_SCIENCE/data/clean_images/test/labels/30009.txt'"
      ]
     },
     "execution_count": 161,
     "metadata": {},
     "output_type": "execute_result"
    },
    {
     "data": {
      "text/plain": [
       "'C:/Users/khanh/code/DATA_SCIENCE/data/clean_images/test/images/30010.jpg'"
      ]
     },
     "execution_count": 161,
     "metadata": {},
     "output_type": "execute_result"
    },
    {
     "data": {
      "text/plain": [
       "'C:/Users/khanh/code/DATA_SCIENCE/data/clean_images/test/labels/30010.txt'"
      ]
     },
     "execution_count": 161,
     "metadata": {},
     "output_type": "execute_result"
    },
    {
     "data": {
      "text/plain": [
       "'C:/Users/khanh/code/DATA_SCIENCE/data/clean_images/test/images/40013.jpg'"
      ]
     },
     "execution_count": 161,
     "metadata": {},
     "output_type": "execute_result"
    },
    {
     "data": {
      "text/plain": [
       "'C:/Users/khanh/code/DATA_SCIENCE/data/clean_images/test/labels/40013.txt'"
      ]
     },
     "execution_count": 161,
     "metadata": {},
     "output_type": "execute_result"
    },
    {
     "data": {
      "text/plain": [
       "'C:/Users/khanh/code/DATA_SCIENCE/data/clean_images/test/images/40014.jpg'"
      ]
     },
     "execution_count": 161,
     "metadata": {},
     "output_type": "execute_result"
    },
    {
     "data": {
      "text/plain": [
       "'C:/Users/khanh/code/DATA_SCIENCE/data/clean_images/test/labels/40014.txt'"
      ]
     },
     "execution_count": 161,
     "metadata": {},
     "output_type": "execute_result"
    },
    {
     "data": {
      "text/plain": [
       "'C:/Users/khanh/code/DATA_SCIENCE/data/clean_images/test/images/40016.jpg'"
      ]
     },
     "execution_count": 161,
     "metadata": {},
     "output_type": "execute_result"
    },
    {
     "data": {
      "text/plain": [
       "'C:/Users/khanh/code/DATA_SCIENCE/data/clean_images/test/labels/40016.txt'"
      ]
     },
     "execution_count": 161,
     "metadata": {},
     "output_type": "execute_result"
    },
    {
     "data": {
      "text/plain": [
       "'C:/Users/khanh/code/DATA_SCIENCE/data/clean_images/test/images/40017.jpg'"
      ]
     },
     "execution_count": 161,
     "metadata": {},
     "output_type": "execute_result"
    },
    {
     "data": {
      "text/plain": [
       "'C:/Users/khanh/code/DATA_SCIENCE/data/clean_images/test/labels/40017.txt'"
      ]
     },
     "execution_count": 161,
     "metadata": {},
     "output_type": "execute_result"
    },
    {
     "data": {
      "text/plain": [
       "'C:/Users/khanh/code/DATA_SCIENCE/data/clean_images/test/images/53267.jpg'"
      ]
     },
     "execution_count": 161,
     "metadata": {},
     "output_type": "execute_result"
    },
    {
     "data": {
      "text/plain": [
       "'C:/Users/khanh/code/DATA_SCIENCE/data/clean_images/test/labels/53267.txt'"
      ]
     },
     "execution_count": 161,
     "metadata": {},
     "output_type": "execute_result"
    },
    {
     "data": {
      "text/plain": [
       "'C:/Users/khanh/code/DATA_SCIENCE/data/clean_images/test/images/53269.jpg'"
      ]
     },
     "execution_count": 161,
     "metadata": {},
     "output_type": "execute_result"
    },
    {
     "data": {
      "text/plain": [
       "'C:/Users/khanh/code/DATA_SCIENCE/data/clean_images/test/labels/53269.txt'"
      ]
     },
     "execution_count": 161,
     "metadata": {},
     "output_type": "execute_result"
    },
    {
     "data": {
      "text/plain": [
       "'C:/Users/khanh/code/DATA_SCIENCE/data/clean_images/test/images/4170.jpg'"
      ]
     },
     "execution_count": 161,
     "metadata": {},
     "output_type": "execute_result"
    },
    {
     "data": {
      "text/plain": [
       "'C:/Users/khanh/code/DATA_SCIENCE/data/clean_images/test/labels/4170.txt'"
      ]
     },
     "execution_count": 161,
     "metadata": {},
     "output_type": "execute_result"
    },
    {
     "data": {
      "text/plain": [
       "'C:/Users/khanh/code/DATA_SCIENCE/data/clean_images/test/images/20952.jpg'"
      ]
     },
     "execution_count": 161,
     "metadata": {},
     "output_type": "execute_result"
    },
    {
     "data": {
      "text/plain": [
       "'C:/Users/khanh/code/DATA_SCIENCE/data/clean_images/test/labels/20952.txt'"
      ]
     },
     "execution_count": 161,
     "metadata": {},
     "output_type": "execute_result"
    },
    {
     "data": {
      "text/plain": [
       "'C:/Users/khanh/code/DATA_SCIENCE/data/clean_images/test/images/20953.jpg'"
      ]
     },
     "execution_count": 161,
     "metadata": {},
     "output_type": "execute_result"
    },
    {
     "data": {
      "text/plain": [
       "'C:/Users/khanh/code/DATA_SCIENCE/data/clean_images/test/labels/20953.txt'"
      ]
     },
     "execution_count": 161,
     "metadata": {},
     "output_type": "execute_result"
    },
    {
     "data": {
      "text/plain": [
       "'C:/Users/khanh/code/DATA_SCIENCE/data/clean_images/test/images/20955.jpg'"
      ]
     },
     "execution_count": 161,
     "metadata": {},
     "output_type": "execute_result"
    },
    {
     "data": {
      "text/plain": [
       "'C:/Users/khanh/code/DATA_SCIENCE/data/clean_images/test/labels/20955.txt'"
      ]
     },
     "execution_count": 161,
     "metadata": {},
     "output_type": "execute_result"
    },
    {
     "data": {
      "text/plain": [
       "'C:/Users/khanh/code/DATA_SCIENCE/data/clean_images/test/images/33272.jpg'"
      ]
     },
     "execution_count": 161,
     "metadata": {},
     "output_type": "execute_result"
    },
    {
     "data": {
      "text/plain": [
       "'C:/Users/khanh/code/DATA_SCIENCE/data/clean_images/test/labels/33272.txt'"
      ]
     },
     "execution_count": 161,
     "metadata": {},
     "output_type": "execute_result"
    },
    {
     "data": {
      "text/plain": [
       "'C:/Users/khanh/code/DATA_SCIENCE/data/clean_images/test/images/33273.jpg'"
      ]
     },
     "execution_count": 161,
     "metadata": {},
     "output_type": "execute_result"
    },
    {
     "data": {
      "text/plain": [
       "'C:/Users/khanh/code/DATA_SCIENCE/data/clean_images/test/labels/33273.txt'"
      ]
     },
     "execution_count": 161,
     "metadata": {},
     "output_type": "execute_result"
    },
    {
     "data": {
      "text/plain": [
       "'C:/Users/khanh/code/DATA_SCIENCE/data/clean_images/test/images/33274.jpg'"
      ]
     },
     "execution_count": 161,
     "metadata": {},
     "output_type": "execute_result"
    },
    {
     "data": {
      "text/plain": [
       "'C:/Users/khanh/code/DATA_SCIENCE/data/clean_images/test/labels/33274.txt'"
      ]
     },
     "execution_count": 161,
     "metadata": {},
     "output_type": "execute_result"
    },
    {
     "data": {
      "text/plain": [
       "'C:/Users/khanh/code/DATA_SCIENCE/data/clean_images/test/images/33275.jpg'"
      ]
     },
     "execution_count": 161,
     "metadata": {},
     "output_type": "execute_result"
    },
    {
     "data": {
      "text/plain": [
       "'C:/Users/khanh/code/DATA_SCIENCE/data/clean_images/test/labels/33275.txt'"
      ]
     },
     "execution_count": 161,
     "metadata": {},
     "output_type": "execute_result"
    },
    {
     "data": {
      "text/plain": [
       "'C:/Users/khanh/code/DATA_SCIENCE/data/clean_images/test/images/33276.jpg'"
      ]
     },
     "execution_count": 161,
     "metadata": {},
     "output_type": "execute_result"
    },
    {
     "data": {
      "text/plain": [
       "'C:/Users/khanh/code/DATA_SCIENCE/data/clean_images/test/labels/33276.txt'"
      ]
     },
     "execution_count": 161,
     "metadata": {},
     "output_type": "execute_result"
    },
    {
     "data": {
      "text/plain": [
       "'C:/Users/khanh/code/DATA_SCIENCE/data/clean_images/test/images/11029.jpg'"
      ]
     },
     "execution_count": 161,
     "metadata": {},
     "output_type": "execute_result"
    },
    {
     "data": {
      "text/plain": [
       "'C:/Users/khanh/code/DATA_SCIENCE/data/clean_images/test/labels/11029.txt'"
      ]
     },
     "execution_count": 161,
     "metadata": {},
     "output_type": "execute_result"
    },
    {
     "data": {
      "text/plain": [
       "'C:/Users/khanh/code/DATA_SCIENCE/data/clean_images/test/images/11030.jpg'"
      ]
     },
     "execution_count": 161,
     "metadata": {},
     "output_type": "execute_result"
    },
    {
     "data": {
      "text/plain": [
       "'C:/Users/khanh/code/DATA_SCIENCE/data/clean_images/test/labels/11030.txt'"
      ]
     },
     "execution_count": 161,
     "metadata": {},
     "output_type": "execute_result"
    },
    {
     "data": {
      "text/plain": [
       "'C:/Users/khanh/code/DATA_SCIENCE/data/clean_images/test/images/11031.jpg'"
      ]
     },
     "execution_count": 161,
     "metadata": {},
     "output_type": "execute_result"
    },
    {
     "data": {
      "text/plain": [
       "'C:/Users/khanh/code/DATA_SCIENCE/data/clean_images/test/labels/11031.txt'"
      ]
     },
     "execution_count": 161,
     "metadata": {},
     "output_type": "execute_result"
    },
    {
     "data": {
      "text/plain": [
       "'C:/Users/khanh/code/DATA_SCIENCE/data/clean_images/test/images/11032.jpg'"
      ]
     },
     "execution_count": 161,
     "metadata": {},
     "output_type": "execute_result"
    },
    {
     "data": {
      "text/plain": [
       "'C:/Users/khanh/code/DATA_SCIENCE/data/clean_images/test/labels/11032.txt'"
      ]
     },
     "execution_count": 161,
     "metadata": {},
     "output_type": "execute_result"
    },
    {
     "data": {
      "text/plain": [
       "'C:/Users/khanh/code/DATA_SCIENCE/data/clean_images/test/images/11033.jpg'"
      ]
     },
     "execution_count": 161,
     "metadata": {},
     "output_type": "execute_result"
    },
    {
     "data": {
      "text/plain": [
       "'C:/Users/khanh/code/DATA_SCIENCE/data/clean_images/test/labels/11033.txt'"
      ]
     },
     "execution_count": 161,
     "metadata": {},
     "output_type": "execute_result"
    },
    {
     "data": {
      "text/plain": [
       "'C:/Users/khanh/code/DATA_SCIENCE/data/clean_images/test/images/16894.jpg'"
      ]
     },
     "execution_count": 161,
     "metadata": {},
     "output_type": "execute_result"
    },
    {
     "data": {
      "text/plain": [
       "'C:/Users/khanh/code/DATA_SCIENCE/data/clean_images/test/labels/16894.txt'"
      ]
     },
     "execution_count": 161,
     "metadata": {},
     "output_type": "execute_result"
    },
    {
     "data": {
      "text/plain": [
       "'C:/Users/khanh/code/DATA_SCIENCE/data/clean_images/test/images/16895.jpg'"
      ]
     },
     "execution_count": 161,
     "metadata": {},
     "output_type": "execute_result"
    },
    {
     "data": {
      "text/plain": [
       "'C:/Users/khanh/code/DATA_SCIENCE/data/clean_images/test/labels/16895.txt'"
      ]
     },
     "execution_count": 161,
     "metadata": {},
     "output_type": "execute_result"
    },
    {
     "data": {
      "text/plain": [
       "'C:/Users/khanh/code/DATA_SCIENCE/data/clean_images/test/images/16896.jpg'"
      ]
     },
     "execution_count": 161,
     "metadata": {},
     "output_type": "execute_result"
    },
    {
     "data": {
      "text/plain": [
       "'C:/Users/khanh/code/DATA_SCIENCE/data/clean_images/test/labels/16896.txt'"
      ]
     },
     "execution_count": 161,
     "metadata": {},
     "output_type": "execute_result"
    },
    {
     "data": {
      "text/plain": [
       "'C:/Users/khanh/code/DATA_SCIENCE/data/clean_images/test/images/16897.jpg'"
      ]
     },
     "execution_count": 161,
     "metadata": {},
     "output_type": "execute_result"
    },
    {
     "data": {
      "text/plain": [
       "'C:/Users/khanh/code/DATA_SCIENCE/data/clean_images/test/labels/16897.txt'"
      ]
     },
     "execution_count": 161,
     "metadata": {},
     "output_type": "execute_result"
    },
    {
     "data": {
      "text/plain": [
       "'C:/Users/khanh/code/DATA_SCIENCE/data/clean_images/test/images/46264.jpg'"
      ]
     },
     "execution_count": 161,
     "metadata": {},
     "output_type": "execute_result"
    },
    {
     "data": {
      "text/plain": [
       "'C:/Users/khanh/code/DATA_SCIENCE/data/clean_images/test/labels/46264.txt'"
      ]
     },
     "execution_count": 161,
     "metadata": {},
     "output_type": "execute_result"
    },
    {
     "data": {
      "text/plain": [
       "'C:/Users/khanh/code/DATA_SCIENCE/data/clean_images/test/images/11647.jpg'"
      ]
     },
     "execution_count": 161,
     "metadata": {},
     "output_type": "execute_result"
    },
    {
     "data": {
      "text/plain": [
       "'C:/Users/khanh/code/DATA_SCIENCE/data/clean_images/test/labels/11647.txt'"
      ]
     },
     "execution_count": 161,
     "metadata": {},
     "output_type": "execute_result"
    },
    {
     "data": {
      "text/plain": [
       "'C:/Users/khanh/code/DATA_SCIENCE/data/clean_images/test/images/36681.jpg'"
      ]
     },
     "execution_count": 161,
     "metadata": {},
     "output_type": "execute_result"
    },
    {
     "data": {
      "text/plain": [
       "'C:/Users/khanh/code/DATA_SCIENCE/data/clean_images/test/labels/36681.txt'"
      ]
     },
     "execution_count": 161,
     "metadata": {},
     "output_type": "execute_result"
    },
    {
     "data": {
      "text/plain": [
       "'C:/Users/khanh/code/DATA_SCIENCE/data/clean_images/test/images/36682.jpg'"
      ]
     },
     "execution_count": 161,
     "metadata": {},
     "output_type": "execute_result"
    },
    {
     "data": {
      "text/plain": [
       "'C:/Users/khanh/code/DATA_SCIENCE/data/clean_images/test/labels/36682.txt'"
      ]
     },
     "execution_count": 161,
     "metadata": {},
     "output_type": "execute_result"
    },
    {
     "data": {
      "text/plain": [
       "'C:/Users/khanh/code/DATA_SCIENCE/data/clean_images/test/images/36684.jpg'"
      ]
     },
     "execution_count": 161,
     "metadata": {},
     "output_type": "execute_result"
    },
    {
     "data": {
      "text/plain": [
       "'C:/Users/khanh/code/DATA_SCIENCE/data/clean_images/test/labels/36684.txt'"
      ]
     },
     "execution_count": 161,
     "metadata": {},
     "output_type": "execute_result"
    },
    {
     "data": {
      "text/plain": [
       "'C:/Users/khanh/code/DATA_SCIENCE/data/clean_images/test/images/36685.jpg'"
      ]
     },
     "execution_count": 161,
     "metadata": {},
     "output_type": "execute_result"
    },
    {
     "data": {
      "text/plain": [
       "'C:/Users/khanh/code/DATA_SCIENCE/data/clean_images/test/labels/36685.txt'"
      ]
     },
     "execution_count": 161,
     "metadata": {},
     "output_type": "execute_result"
    },
    {
     "data": {
      "text/plain": [
       "'C:/Users/khanh/code/DATA_SCIENCE/data/clean_images/test/images/8152.jpg'"
      ]
     },
     "execution_count": 161,
     "metadata": {},
     "output_type": "execute_result"
    },
    {
     "data": {
      "text/plain": [
       "'C:/Users/khanh/code/DATA_SCIENCE/data/clean_images/test/labels/8152.txt'"
      ]
     },
     "execution_count": 161,
     "metadata": {},
     "output_type": "execute_result"
    },
    {
     "data": {
      "text/plain": [
       "'C:/Users/khanh/code/DATA_SCIENCE/data/clean_images/test/images/8153.jpg'"
      ]
     },
     "execution_count": 161,
     "metadata": {},
     "output_type": "execute_result"
    },
    {
     "data": {
      "text/plain": [
       "'C:/Users/khanh/code/DATA_SCIENCE/data/clean_images/test/labels/8153.txt'"
      ]
     },
     "execution_count": 161,
     "metadata": {},
     "output_type": "execute_result"
    },
    {
     "data": {
      "text/plain": [
       "'C:/Users/khanh/code/DATA_SCIENCE/data/clean_images/test/images/8154.jpg'"
      ]
     },
     "execution_count": 161,
     "metadata": {},
     "output_type": "execute_result"
    },
    {
     "data": {
      "text/plain": [
       "'C:/Users/khanh/code/DATA_SCIENCE/data/clean_images/test/labels/8154.txt'"
      ]
     },
     "execution_count": 161,
     "metadata": {},
     "output_type": "execute_result"
    },
    {
     "data": {
      "text/plain": [
       "'C:/Users/khanh/code/DATA_SCIENCE/data/clean_images/test/images/480.jpg'"
      ]
     },
     "execution_count": 161,
     "metadata": {},
     "output_type": "execute_result"
    },
    {
     "data": {
      "text/plain": [
       "'C:/Users/khanh/code/DATA_SCIENCE/data/clean_images/test/labels/480.txt'"
      ]
     },
     "execution_count": 161,
     "metadata": {},
     "output_type": "execute_result"
    },
    {
     "data": {
      "text/plain": [
       "'C:/Users/khanh/code/DATA_SCIENCE/data/clean_images/test/images/39768.jpg'"
      ]
     },
     "execution_count": 161,
     "metadata": {},
     "output_type": "execute_result"
    },
    {
     "data": {
      "text/plain": [
       "'C:/Users/khanh/code/DATA_SCIENCE/data/clean_images/test/labels/39768.txt'"
      ]
     },
     "execution_count": 161,
     "metadata": {},
     "output_type": "execute_result"
    },
    {
     "data": {
      "text/plain": [
       "'C:/Users/khanh/code/DATA_SCIENCE/data/clean_images/test/images/39769.jpg'"
      ]
     },
     "execution_count": 161,
     "metadata": {},
     "output_type": "execute_result"
    },
    {
     "data": {
      "text/plain": [
       "'C:/Users/khanh/code/DATA_SCIENCE/data/clean_images/test/labels/39769.txt'"
      ]
     },
     "execution_count": 161,
     "metadata": {},
     "output_type": "execute_result"
    },
    {
     "data": {
      "text/plain": [
       "'C:/Users/khanh/code/DATA_SCIENCE/data/clean_images/test/images/39770.jpg'"
      ]
     },
     "execution_count": 161,
     "metadata": {},
     "output_type": "execute_result"
    },
    {
     "data": {
      "text/plain": [
       "'C:/Users/khanh/code/DATA_SCIENCE/data/clean_images/test/labels/39770.txt'"
      ]
     },
     "execution_count": 161,
     "metadata": {},
     "output_type": "execute_result"
    },
    {
     "data": {
      "text/plain": [
       "'C:/Users/khanh/code/DATA_SCIENCE/data/clean_images/test/images/42800.jpg'"
      ]
     },
     "execution_count": 161,
     "metadata": {},
     "output_type": "execute_result"
    },
    {
     "data": {
      "text/plain": [
       "'C:/Users/khanh/code/DATA_SCIENCE/data/clean_images/test/labels/42800.txt'"
      ]
     },
     "execution_count": 161,
     "metadata": {},
     "output_type": "execute_result"
    },
    {
     "data": {
      "text/plain": [
       "'C:/Users/khanh/code/DATA_SCIENCE/data/clean_images/test/images/54159.jpg'"
      ]
     },
     "execution_count": 161,
     "metadata": {},
     "output_type": "execute_result"
    },
    {
     "data": {
      "text/plain": [
       "'C:/Users/khanh/code/DATA_SCIENCE/data/clean_images/test/labels/54159.txt'"
      ]
     },
     "execution_count": 161,
     "metadata": {},
     "output_type": "execute_result"
    },
    {
     "data": {
      "text/plain": [
       "'C:/Users/khanh/code/DATA_SCIENCE/data/clean_images/test/images/38162.jpg'"
      ]
     },
     "execution_count": 161,
     "metadata": {},
     "output_type": "execute_result"
    },
    {
     "data": {
      "text/plain": [
       "'C:/Users/khanh/code/DATA_SCIENCE/data/clean_images/test/labels/38162.txt'"
      ]
     },
     "execution_count": 161,
     "metadata": {},
     "output_type": "execute_result"
    },
    {
     "data": {
      "text/plain": [
       "'C:/Users/khanh/code/DATA_SCIENCE/data/clean_images/test/images/38164.jpg'"
      ]
     },
     "execution_count": 161,
     "metadata": {},
     "output_type": "execute_result"
    },
    {
     "data": {
      "text/plain": [
       "'C:/Users/khanh/code/DATA_SCIENCE/data/clean_images/test/labels/38164.txt'"
      ]
     },
     "execution_count": 161,
     "metadata": {},
     "output_type": "execute_result"
    },
    {
     "data": {
      "text/plain": [
       "'C:/Users/khanh/code/DATA_SCIENCE/data/clean_images/test/images/38167.jpg'"
      ]
     },
     "execution_count": 161,
     "metadata": {},
     "output_type": "execute_result"
    },
    {
     "data": {
      "text/plain": [
       "'C:/Users/khanh/code/DATA_SCIENCE/data/clean_images/test/labels/38167.txt'"
      ]
     },
     "execution_count": 161,
     "metadata": {},
     "output_type": "execute_result"
    },
    {
     "data": {
      "text/plain": [
       "'C:/Users/khanh/code/DATA_SCIENCE/data/clean_images/test/images/51173.jpg'"
      ]
     },
     "execution_count": 161,
     "metadata": {},
     "output_type": "execute_result"
    },
    {
     "data": {
      "text/plain": [
       "'C:/Users/khanh/code/DATA_SCIENCE/data/clean_images/test/labels/51173.txt'"
      ]
     },
     "execution_count": 161,
     "metadata": {},
     "output_type": "execute_result"
    },
    {
     "data": {
      "text/plain": [
       "'C:/Users/khanh/code/DATA_SCIENCE/data/clean_images/test/images/27533.jpg'"
      ]
     },
     "execution_count": 161,
     "metadata": {},
     "output_type": "execute_result"
    },
    {
     "data": {
      "text/plain": [
       "'C:/Users/khanh/code/DATA_SCIENCE/data/clean_images/test/labels/27533.txt'"
      ]
     },
     "execution_count": 161,
     "metadata": {},
     "output_type": "execute_result"
    },
    {
     "data": {
      "text/plain": [
       "'C:/Users/khanh/code/DATA_SCIENCE/data/clean_images/test/images/27535.jpg'"
      ]
     },
     "execution_count": 161,
     "metadata": {},
     "output_type": "execute_result"
    },
    {
     "data": {
      "text/plain": [
       "'C:/Users/khanh/code/DATA_SCIENCE/data/clean_images/test/labels/27535.txt'"
      ]
     },
     "execution_count": 161,
     "metadata": {},
     "output_type": "execute_result"
    },
    {
     "data": {
      "text/plain": [
       "'C:/Users/khanh/code/DATA_SCIENCE/data/clean_images/test/images/10283.jpg'"
      ]
     },
     "execution_count": 161,
     "metadata": {},
     "output_type": "execute_result"
    },
    {
     "data": {
      "text/plain": [
       "'C:/Users/khanh/code/DATA_SCIENCE/data/clean_images/test/labels/10283.txt'"
      ]
     },
     "execution_count": 161,
     "metadata": {},
     "output_type": "execute_result"
    },
    {
     "data": {
      "text/plain": [
       "'C:/Users/khanh/code/DATA_SCIENCE/data/clean_images/test/images/10284.jpg'"
      ]
     },
     "execution_count": 161,
     "metadata": {},
     "output_type": "execute_result"
    },
    {
     "data": {
      "text/plain": [
       "'C:/Users/khanh/code/DATA_SCIENCE/data/clean_images/test/labels/10284.txt'"
      ]
     },
     "execution_count": 161,
     "metadata": {},
     "output_type": "execute_result"
    },
    {
     "data": {
      "text/plain": [
       "'C:/Users/khanh/code/DATA_SCIENCE/data/clean_images/test/images/30373.jpg'"
      ]
     },
     "execution_count": 161,
     "metadata": {},
     "output_type": "execute_result"
    },
    {
     "data": {
      "text/plain": [
       "'C:/Users/khanh/code/DATA_SCIENCE/data/clean_images/test/labels/30373.txt'"
      ]
     },
     "execution_count": 161,
     "metadata": {},
     "output_type": "execute_result"
    },
    {
     "data": {
      "text/plain": [
       "'C:/Users/khanh/code/DATA_SCIENCE/data/clean_images/test/images/3340.jpg'"
      ]
     },
     "execution_count": 161,
     "metadata": {},
     "output_type": "execute_result"
    },
    {
     "data": {
      "text/plain": [
       "'C:/Users/khanh/code/DATA_SCIENCE/data/clean_images/test/labels/3340.txt'"
      ]
     },
     "execution_count": 161,
     "metadata": {},
     "output_type": "execute_result"
    },
    {
     "data": {
      "text/plain": [
       "'C:/Users/khanh/code/DATA_SCIENCE/data/clean_images/test/images/3342.jpg'"
      ]
     },
     "execution_count": 161,
     "metadata": {},
     "output_type": "execute_result"
    },
    {
     "data": {
      "text/plain": [
       "'C:/Users/khanh/code/DATA_SCIENCE/data/clean_images/test/labels/3342.txt'"
      ]
     },
     "execution_count": 161,
     "metadata": {},
     "output_type": "execute_result"
    },
    {
     "data": {
      "text/plain": [
       "'C:/Users/khanh/code/DATA_SCIENCE/data/clean_images/test/images/3343.jpg'"
      ]
     },
     "execution_count": 161,
     "metadata": {},
     "output_type": "execute_result"
    },
    {
     "data": {
      "text/plain": [
       "'C:/Users/khanh/code/DATA_SCIENCE/data/clean_images/test/labels/3343.txt'"
      ]
     },
     "execution_count": 161,
     "metadata": {},
     "output_type": "execute_result"
    },
    {
     "data": {
      "text/plain": [
       "'C:/Users/khanh/code/DATA_SCIENCE/data/clean_images/test/images/3345.jpg'"
      ]
     },
     "execution_count": 161,
     "metadata": {},
     "output_type": "execute_result"
    },
    {
     "data": {
      "text/plain": [
       "'C:/Users/khanh/code/DATA_SCIENCE/data/clean_images/test/labels/3345.txt'"
      ]
     },
     "execution_count": 161,
     "metadata": {},
     "output_type": "execute_result"
    },
    {
     "data": {
      "text/plain": [
       "'C:/Users/khanh/code/DATA_SCIENCE/data/clean_images/test/images/12648.jpg'"
      ]
     },
     "execution_count": 161,
     "metadata": {},
     "output_type": "execute_result"
    },
    {
     "data": {
      "text/plain": [
       "'C:/Users/khanh/code/DATA_SCIENCE/data/clean_images/test/labels/12648.txt'"
      ]
     },
     "execution_count": 161,
     "metadata": {},
     "output_type": "execute_result"
    },
    {
     "data": {
      "text/plain": [
       "'C:/Users/khanh/code/DATA_SCIENCE/data/clean_images/test/images/28562.jpg'"
      ]
     },
     "execution_count": 161,
     "metadata": {},
     "output_type": "execute_result"
    },
    {
     "data": {
      "text/plain": [
       "'C:/Users/khanh/code/DATA_SCIENCE/data/clean_images/test/labels/28562.txt'"
      ]
     },
     "execution_count": 161,
     "metadata": {},
     "output_type": "execute_result"
    },
    {
     "data": {
      "text/plain": [
       "'C:/Users/khanh/code/DATA_SCIENCE/data/clean_images/test/images/28563.jpg'"
      ]
     },
     "execution_count": 161,
     "metadata": {},
     "output_type": "execute_result"
    },
    {
     "data": {
      "text/plain": [
       "'C:/Users/khanh/code/DATA_SCIENCE/data/clean_images/test/labels/28563.txt'"
      ]
     },
     "execution_count": 161,
     "metadata": {},
     "output_type": "execute_result"
    },
    {
     "data": {
      "text/plain": [
       "'C:/Users/khanh/code/DATA_SCIENCE/data/clean_images/test/images/5304.jpg'"
      ]
     },
     "execution_count": 161,
     "metadata": {},
     "output_type": "execute_result"
    },
    {
     "data": {
      "text/plain": [
       "'C:/Users/khanh/code/DATA_SCIENCE/data/clean_images/test/labels/5304.txt'"
      ]
     },
     "execution_count": 161,
     "metadata": {},
     "output_type": "execute_result"
    },
    {
     "data": {
      "text/plain": [
       "'C:/Users/khanh/code/DATA_SCIENCE/data/clean_images/test/images/5305.jpg'"
      ]
     },
     "execution_count": 161,
     "metadata": {},
     "output_type": "execute_result"
    },
    {
     "data": {
      "text/plain": [
       "'C:/Users/khanh/code/DATA_SCIENCE/data/clean_images/test/labels/5305.txt'"
      ]
     },
     "execution_count": 161,
     "metadata": {},
     "output_type": "execute_result"
    },
    {
     "data": {
      "text/plain": [
       "'C:/Users/khanh/code/DATA_SCIENCE/data/clean_images/test/images/5308.jpg'"
      ]
     },
     "execution_count": 161,
     "metadata": {},
     "output_type": "execute_result"
    },
    {
     "data": {
      "text/plain": [
       "'C:/Users/khanh/code/DATA_SCIENCE/data/clean_images/test/labels/5308.txt'"
      ]
     },
     "execution_count": 161,
     "metadata": {},
     "output_type": "execute_result"
    },
    {
     "data": {
      "text/plain": [
       "'C:/Users/khanh/code/DATA_SCIENCE/data/clean_images/test/images/1270.jpg'"
      ]
     },
     "execution_count": 161,
     "metadata": {},
     "output_type": "execute_result"
    },
    {
     "data": {
      "text/plain": [
       "'C:/Users/khanh/code/DATA_SCIENCE/data/clean_images/test/labels/1270.txt'"
      ]
     },
     "execution_count": 161,
     "metadata": {},
     "output_type": "execute_result"
    },
    {
     "data": {
      "text/plain": [
       "'C:/Users/khanh/code/DATA_SCIENCE/data/clean_images/test/images/1271.jpg'"
      ]
     },
     "execution_count": 161,
     "metadata": {},
     "output_type": "execute_result"
    },
    {
     "data": {
      "text/plain": [
       "'C:/Users/khanh/code/DATA_SCIENCE/data/clean_images/test/labels/1271.txt'"
      ]
     },
     "execution_count": 161,
     "metadata": {},
     "output_type": "execute_result"
    },
    {
     "data": {
      "text/plain": [
       "'C:/Users/khanh/code/DATA_SCIENCE/data/clean_images/test/images/7648.jpg'"
      ]
     },
     "execution_count": 161,
     "metadata": {},
     "output_type": "execute_result"
    },
    {
     "data": {
      "text/plain": [
       "'C:/Users/khanh/code/DATA_SCIENCE/data/clean_images/test/labels/7648.txt'"
      ]
     },
     "execution_count": 161,
     "metadata": {},
     "output_type": "execute_result"
    },
    {
     "data": {
      "text/plain": [
       "'C:/Users/khanh/code/DATA_SCIENCE/data/clean_images/test/images/7651.jpg'"
      ]
     },
     "execution_count": 161,
     "metadata": {},
     "output_type": "execute_result"
    },
    {
     "data": {
      "text/plain": [
       "'C:/Users/khanh/code/DATA_SCIENCE/data/clean_images/test/labels/7651.txt'"
      ]
     },
     "execution_count": 161,
     "metadata": {},
     "output_type": "execute_result"
    },
    {
     "data": {
      "text/plain": [
       "'C:/Users/khanh/code/DATA_SCIENCE/data/clean_images/test/images/7653.jpg'"
      ]
     },
     "execution_count": 161,
     "metadata": {},
     "output_type": "execute_result"
    },
    {
     "data": {
      "text/plain": [
       "'C:/Users/khanh/code/DATA_SCIENCE/data/clean_images/test/labels/7653.txt'"
      ]
     },
     "execution_count": 161,
     "metadata": {},
     "output_type": "execute_result"
    },
    {
     "data": {
      "text/plain": [
       "'C:/Users/khanh/code/DATA_SCIENCE/data/clean_images/test/images/35278.jpg'"
      ]
     },
     "execution_count": 161,
     "metadata": {},
     "output_type": "execute_result"
    },
    {
     "data": {
      "text/plain": [
       "'C:/Users/khanh/code/DATA_SCIENCE/data/clean_images/test/labels/35278.txt'"
      ]
     },
     "execution_count": 161,
     "metadata": {},
     "output_type": "execute_result"
    },
    {
     "data": {
      "text/plain": [
       "'C:/Users/khanh/code/DATA_SCIENCE/data/clean_images/test/images/35279.jpg'"
      ]
     },
     "execution_count": 161,
     "metadata": {},
     "output_type": "execute_result"
    },
    {
     "data": {
      "text/plain": [
       "'C:/Users/khanh/code/DATA_SCIENCE/data/clean_images/test/labels/35279.txt'"
      ]
     },
     "execution_count": 161,
     "metadata": {},
     "output_type": "execute_result"
    },
    {
     "data": {
      "text/plain": [
       "'C:/Users/khanh/code/DATA_SCIENCE/data/clean_images/test/images/35281.jpg'"
      ]
     },
     "execution_count": 161,
     "metadata": {},
     "output_type": "execute_result"
    },
    {
     "data": {
      "text/plain": [
       "'C:/Users/khanh/code/DATA_SCIENCE/data/clean_images/test/labels/35281.txt'"
      ]
     },
     "execution_count": 161,
     "metadata": {},
     "output_type": "execute_result"
    },
    {
     "data": {
      "text/plain": [
       "'C:/Users/khanh/code/DATA_SCIENCE/data/clean_images/test/images/35282.jpg'"
      ]
     },
     "execution_count": 161,
     "metadata": {},
     "output_type": "execute_result"
    },
    {
     "data": {
      "text/plain": [
       "'C:/Users/khanh/code/DATA_SCIENCE/data/clean_images/test/labels/35282.txt'"
      ]
     },
     "execution_count": 161,
     "metadata": {},
     "output_type": "execute_result"
    },
    {
     "data": {
      "text/plain": [
       "'C:/Users/khanh/code/DATA_SCIENCE/data/clean_images/test/images/18068.jpg'"
      ]
     },
     "execution_count": 161,
     "metadata": {},
     "output_type": "execute_result"
    },
    {
     "data": {
      "text/plain": [
       "'C:/Users/khanh/code/DATA_SCIENCE/data/clean_images/test/labels/18068.txt'"
      ]
     },
     "execution_count": 161,
     "metadata": {},
     "output_type": "execute_result"
    },
    {
     "data": {
      "text/plain": [
       "'C:/Users/khanh/code/DATA_SCIENCE/data/clean_images/test/images/18071.jpg'"
      ]
     },
     "execution_count": 161,
     "metadata": {},
     "output_type": "execute_result"
    },
    {
     "data": {
      "text/plain": [
       "'C:/Users/khanh/code/DATA_SCIENCE/data/clean_images/test/labels/18071.txt'"
      ]
     },
     "execution_count": 161,
     "metadata": {},
     "output_type": "execute_result"
    },
    {
     "data": {
      "text/plain": [
       "'C:/Users/khanh/code/DATA_SCIENCE/data/clean_images/test/images/18073.jpg'"
      ]
     },
     "execution_count": 161,
     "metadata": {},
     "output_type": "execute_result"
    },
    {
     "data": {
      "text/plain": [
       "'C:/Users/khanh/code/DATA_SCIENCE/data/clean_images/test/labels/18073.txt'"
      ]
     },
     "execution_count": 161,
     "metadata": {},
     "output_type": "execute_result"
    },
    {
     "data": {
      "text/plain": [
       "'C:/Users/khanh/code/DATA_SCIENCE/data/clean_images/test/images/13591.jpg'"
      ]
     },
     "execution_count": 161,
     "metadata": {},
     "output_type": "execute_result"
    },
    {
     "data": {
      "text/plain": [
       "'C:/Users/khanh/code/DATA_SCIENCE/data/clean_images/test/labels/13591.txt'"
      ]
     },
     "execution_count": 161,
     "metadata": {},
     "output_type": "execute_result"
    },
    {
     "data": {
      "text/plain": [
       "'C:/Users/khanh/code/DATA_SCIENCE/data/clean_images/test/images/268.jpg'"
      ]
     },
     "execution_count": 161,
     "metadata": {},
     "output_type": "execute_result"
    },
    {
     "data": {
      "text/plain": [
       "'C:/Users/khanh/code/DATA_SCIENCE/data/clean_images/test/labels/268.txt'"
      ]
     },
     "execution_count": 161,
     "metadata": {},
     "output_type": "execute_result"
    },
    {
     "data": {
      "text/plain": [
       "'C:/Users/khanh/code/DATA_SCIENCE/data/clean_images/test/images/54514.jpg'"
      ]
     },
     "execution_count": 161,
     "metadata": {},
     "output_type": "execute_result"
    },
    {
     "data": {
      "text/plain": [
       "'C:/Users/khanh/code/DATA_SCIENCE/data/clean_images/test/labels/54514.txt'"
      ]
     },
     "execution_count": 161,
     "metadata": {},
     "output_type": "execute_result"
    },
    {
     "data": {
      "text/plain": [
       "'C:/Users/khanh/code/DATA_SCIENCE/data/clean_images/test/images/54515.jpg'"
      ]
     },
     "execution_count": 161,
     "metadata": {},
     "output_type": "execute_result"
    },
    {
     "data": {
      "text/plain": [
       "'C:/Users/khanh/code/DATA_SCIENCE/data/clean_images/test/labels/54515.txt'"
      ]
     },
     "execution_count": 161,
     "metadata": {},
     "output_type": "execute_result"
    },
    {
     "data": {
      "text/plain": [
       "'C:/Users/khanh/code/DATA_SCIENCE/data/clean_images/test/images/54516.jpg'"
      ]
     },
     "execution_count": 161,
     "metadata": {},
     "output_type": "execute_result"
    },
    {
     "data": {
      "text/plain": [
       "'C:/Users/khanh/code/DATA_SCIENCE/data/clean_images/test/labels/54516.txt'"
      ]
     },
     "execution_count": 161,
     "metadata": {},
     "output_type": "execute_result"
    },
    {
     "data": {
      "text/plain": [
       "'C:/Users/khanh/code/DATA_SCIENCE/data/clean_images/test/images/54517.jpg'"
      ]
     },
     "execution_count": 161,
     "metadata": {},
     "output_type": "execute_result"
    },
    {
     "data": {
      "text/plain": [
       "'C:/Users/khanh/code/DATA_SCIENCE/data/clean_images/test/labels/54517.txt'"
      ]
     },
     "execution_count": 161,
     "metadata": {},
     "output_type": "execute_result"
    },
    {
     "data": {
      "text/plain": [
       "'C:/Users/khanh/code/DATA_SCIENCE/data/clean_images/test/images/34284.jpg'"
      ]
     },
     "execution_count": 161,
     "metadata": {},
     "output_type": "execute_result"
    },
    {
     "data": {
      "text/plain": [
       "'C:/Users/khanh/code/DATA_SCIENCE/data/clean_images/test/labels/34284.txt'"
      ]
     },
     "execution_count": 161,
     "metadata": {},
     "output_type": "execute_result"
    },
    {
     "data": {
      "text/plain": [
       "'C:/Users/khanh/code/DATA_SCIENCE/data/clean_images/test/images/34285.jpg'"
      ]
     },
     "execution_count": 161,
     "metadata": {},
     "output_type": "execute_result"
    },
    {
     "data": {
      "text/plain": [
       "'C:/Users/khanh/code/DATA_SCIENCE/data/clean_images/test/labels/34285.txt'"
      ]
     },
     "execution_count": 161,
     "metadata": {},
     "output_type": "execute_result"
    },
    {
     "data": {
      "text/plain": [
       "'C:/Users/khanh/code/DATA_SCIENCE/data/clean_images/test/images/34286.jpg'"
      ]
     },
     "execution_count": 161,
     "metadata": {},
     "output_type": "execute_result"
    },
    {
     "data": {
      "text/plain": [
       "'C:/Users/khanh/code/DATA_SCIENCE/data/clean_images/test/labels/34286.txt'"
      ]
     },
     "execution_count": 161,
     "metadata": {},
     "output_type": "execute_result"
    },
    {
     "data": {
      "text/plain": [
       "'C:/Users/khanh/code/DATA_SCIENCE/data/clean_images/test/images/34287.jpg'"
      ]
     },
     "execution_count": 161,
     "metadata": {},
     "output_type": "execute_result"
    },
    {
     "data": {
      "text/plain": [
       "'C:/Users/khanh/code/DATA_SCIENCE/data/clean_images/test/labels/34287.txt'"
      ]
     },
     "execution_count": 161,
     "metadata": {},
     "output_type": "execute_result"
    },
    {
     "data": {
      "text/plain": [
       "'C:/Users/khanh/code/DATA_SCIENCE/data/clean_images/test/images/34288.jpg'"
      ]
     },
     "execution_count": 161,
     "metadata": {},
     "output_type": "execute_result"
    },
    {
     "data": {
      "text/plain": [
       "'C:/Users/khanh/code/DATA_SCIENCE/data/clean_images/test/labels/34288.txt'"
      ]
     },
     "execution_count": 161,
     "metadata": {},
     "output_type": "execute_result"
    },
    {
     "data": {
      "text/plain": [
       "'C:/Users/khanh/code/DATA_SCIENCE/data/clean_images/test/images/34289.jpg'"
      ]
     },
     "execution_count": 161,
     "metadata": {},
     "output_type": "execute_result"
    },
    {
     "data": {
      "text/plain": [
       "'C:/Users/khanh/code/DATA_SCIENCE/data/clean_images/test/labels/34289.txt'"
      ]
     },
     "execution_count": 161,
     "metadata": {},
     "output_type": "execute_result"
    },
    {
     "data": {
      "text/plain": [
       "'C:/Users/khanh/code/DATA_SCIENCE/data/clean_images/test/images/33357.jpg'"
      ]
     },
     "execution_count": 161,
     "metadata": {},
     "output_type": "execute_result"
    },
    {
     "data": {
      "text/plain": [
       "'C:/Users/khanh/code/DATA_SCIENCE/data/clean_images/test/labels/33357.txt'"
      ]
     },
     "execution_count": 161,
     "metadata": {},
     "output_type": "execute_result"
    },
    {
     "data": {
      "text/plain": [
       "'C:/Users/khanh/code/DATA_SCIENCE/data/clean_images/test/images/32516.jpg'"
      ]
     },
     "execution_count": 161,
     "metadata": {},
     "output_type": "execute_result"
    },
    {
     "data": {
      "text/plain": [
       "'C:/Users/khanh/code/DATA_SCIENCE/data/clean_images/test/labels/32516.txt'"
      ]
     },
     "execution_count": 161,
     "metadata": {},
     "output_type": "execute_result"
    },
    {
     "data": {
      "text/plain": [
       "'C:/Users/khanh/code/DATA_SCIENCE/data/clean_images/test/images/32520.jpg'"
      ]
     },
     "execution_count": 161,
     "metadata": {},
     "output_type": "execute_result"
    },
    {
     "data": {
      "text/plain": [
       "'C:/Users/khanh/code/DATA_SCIENCE/data/clean_images/test/labels/32520.txt'"
      ]
     },
     "execution_count": 161,
     "metadata": {},
     "output_type": "execute_result"
    },
    {
     "data": {
      "text/plain": [
       "'C:/Users/khanh/code/DATA_SCIENCE/data/clean_images/test/images/32521.jpg'"
      ]
     },
     "execution_count": 161,
     "metadata": {},
     "output_type": "execute_result"
    },
    {
     "data": {
      "text/plain": [
       "'C:/Users/khanh/code/DATA_SCIENCE/data/clean_images/test/labels/32521.txt'"
      ]
     },
     "execution_count": 161,
     "metadata": {},
     "output_type": "execute_result"
    },
    {
     "data": {
      "text/plain": [
       "'C:/Users/khanh/code/DATA_SCIENCE/data/clean_images/test/images/11274.jpg'"
      ]
     },
     "execution_count": 161,
     "metadata": {},
     "output_type": "execute_result"
    },
    {
     "data": {
      "text/plain": [
       "'C:/Users/khanh/code/DATA_SCIENCE/data/clean_images/test/labels/11274.txt'"
      ]
     },
     "execution_count": 161,
     "metadata": {},
     "output_type": "execute_result"
    },
    {
     "data": {
      "text/plain": [
       "'C:/Users/khanh/code/DATA_SCIENCE/data/clean_images/test/images/11275.jpg'"
      ]
     },
     "execution_count": 161,
     "metadata": {},
     "output_type": "execute_result"
    },
    {
     "data": {
      "text/plain": [
       "'C:/Users/khanh/code/DATA_SCIENCE/data/clean_images/test/labels/11275.txt'"
      ]
     },
     "execution_count": 161,
     "metadata": {},
     "output_type": "execute_result"
    },
    {
     "data": {
      "text/plain": [
       "'C:/Users/khanh/code/DATA_SCIENCE/data/clean_images/test/images/11276.jpg'"
      ]
     },
     "execution_count": 161,
     "metadata": {},
     "output_type": "execute_result"
    },
    {
     "data": {
      "text/plain": [
       "'C:/Users/khanh/code/DATA_SCIENCE/data/clean_images/test/labels/11276.txt'"
      ]
     },
     "execution_count": 161,
     "metadata": {},
     "output_type": "execute_result"
    },
    {
     "data": {
      "text/plain": [
       "'C:/Users/khanh/code/DATA_SCIENCE/data/clean_images/test/images/8140.jpg'"
      ]
     },
     "execution_count": 161,
     "metadata": {},
     "output_type": "execute_result"
    },
    {
     "data": {
      "text/plain": [
       "'C:/Users/khanh/code/DATA_SCIENCE/data/clean_images/test/labels/8140.txt'"
      ]
     },
     "execution_count": 161,
     "metadata": {},
     "output_type": "execute_result"
    },
    {
     "data": {
      "text/plain": [
       "'C:/Users/khanh/code/DATA_SCIENCE/data/clean_images/test/images/8141.jpg'"
      ]
     },
     "execution_count": 161,
     "metadata": {},
     "output_type": "execute_result"
    },
    {
     "data": {
      "text/plain": [
       "'C:/Users/khanh/code/DATA_SCIENCE/data/clean_images/test/labels/8141.txt'"
      ]
     },
     "execution_count": 161,
     "metadata": {},
     "output_type": "execute_result"
    },
    {
     "data": {
      "text/plain": [
       "'C:/Users/khanh/code/DATA_SCIENCE/data/clean_images/test/images/8142.jpg'"
      ]
     },
     "execution_count": 161,
     "metadata": {},
     "output_type": "execute_result"
    },
    {
     "data": {
      "text/plain": [
       "'C:/Users/khanh/code/DATA_SCIENCE/data/clean_images/test/labels/8142.txt'"
      ]
     },
     "execution_count": 161,
     "metadata": {},
     "output_type": "execute_result"
    },
    {
     "data": {
      "text/plain": [
       "'C:/Users/khanh/code/DATA_SCIENCE/data/clean_images/test/images/8143.jpg'"
      ]
     },
     "execution_count": 161,
     "metadata": {},
     "output_type": "execute_result"
    },
    {
     "data": {
      "text/plain": [
       "'C:/Users/khanh/code/DATA_SCIENCE/data/clean_images/test/labels/8143.txt'"
      ]
     },
     "execution_count": 161,
     "metadata": {},
     "output_type": "execute_result"
    },
    {
     "data": {
      "text/plain": [
       "'C:/Users/khanh/code/DATA_SCIENCE/data/clean_images/test/images/8145.jpg'"
      ]
     },
     "execution_count": 161,
     "metadata": {},
     "output_type": "execute_result"
    },
    {
     "data": {
      "text/plain": [
       "'C:/Users/khanh/code/DATA_SCIENCE/data/clean_images/test/labels/8145.txt'"
      ]
     },
     "execution_count": 161,
     "metadata": {},
     "output_type": "execute_result"
    },
    {
     "data": {
      "text/plain": [
       "'C:/Users/khanh/code/DATA_SCIENCE/data/clean_images/test/images/34927.jpg'"
      ]
     },
     "execution_count": 161,
     "metadata": {},
     "output_type": "execute_result"
    },
    {
     "data": {
      "text/plain": [
       "'C:/Users/khanh/code/DATA_SCIENCE/data/clean_images/test/labels/34927.txt'"
      ]
     },
     "execution_count": 161,
     "metadata": {},
     "output_type": "execute_result"
    },
    {
     "data": {
      "text/plain": [
       "'C:/Users/khanh/code/DATA_SCIENCE/data/clean_images/test/images/34930.jpg'"
      ]
     },
     "execution_count": 161,
     "metadata": {},
     "output_type": "execute_result"
    },
    {
     "data": {
      "text/plain": [
       "'C:/Users/khanh/code/DATA_SCIENCE/data/clean_images/test/labels/34930.txt'"
      ]
     },
     "execution_count": 161,
     "metadata": {},
     "output_type": "execute_result"
    },
    {
     "data": {
      "text/plain": [
       "'C:/Users/khanh/code/DATA_SCIENCE/data/clean_images/test/images/39444.jpg'"
      ]
     },
     "execution_count": 161,
     "metadata": {},
     "output_type": "execute_result"
    },
    {
     "data": {
      "text/plain": [
       "'C:/Users/khanh/code/DATA_SCIENCE/data/clean_images/test/labels/39444.txt'"
      ]
     },
     "execution_count": 161,
     "metadata": {},
     "output_type": "execute_result"
    },
    {
     "data": {
      "text/plain": [
       "'C:/Users/khanh/code/DATA_SCIENCE/data/clean_images/test/images/39445.jpg'"
      ]
     },
     "execution_count": 161,
     "metadata": {},
     "output_type": "execute_result"
    },
    {
     "data": {
      "text/plain": [
       "'C:/Users/khanh/code/DATA_SCIENCE/data/clean_images/test/labels/39445.txt'"
      ]
     },
     "execution_count": 161,
     "metadata": {},
     "output_type": "execute_result"
    },
    {
     "data": {
      "text/plain": [
       "'C:/Users/khanh/code/DATA_SCIENCE/data/clean_images/test/images/7600.jpg'"
      ]
     },
     "execution_count": 161,
     "metadata": {},
     "output_type": "execute_result"
    },
    {
     "data": {
      "text/plain": [
       "'C:/Users/khanh/code/DATA_SCIENCE/data/clean_images/test/labels/7600.txt'"
      ]
     },
     "execution_count": 161,
     "metadata": {},
     "output_type": "execute_result"
    },
    {
     "data": {
      "text/plain": [
       "'C:/Users/khanh/code/DATA_SCIENCE/data/clean_images/test/images/4112.jpg'"
      ]
     },
     "execution_count": 161,
     "metadata": {},
     "output_type": "execute_result"
    },
    {
     "data": {
      "text/plain": [
       "'C:/Users/khanh/code/DATA_SCIENCE/data/clean_images/test/labels/4112.txt'"
      ]
     },
     "execution_count": 161,
     "metadata": {},
     "output_type": "execute_result"
    },
    {
     "data": {
      "text/plain": [
       "'C:/Users/khanh/code/DATA_SCIENCE/data/clean_images/test/images/4116.jpg'"
      ]
     },
     "execution_count": 161,
     "metadata": {},
     "output_type": "execute_result"
    },
    {
     "data": {
      "text/plain": [
       "'C:/Users/khanh/code/DATA_SCIENCE/data/clean_images/test/labels/4116.txt'"
      ]
     },
     "execution_count": 161,
     "metadata": {},
     "output_type": "execute_result"
    },
    {
     "data": {
      "text/plain": [
       "'C:/Users/khanh/code/DATA_SCIENCE/data/clean_images/test/images/6988.jpg'"
      ]
     },
     "execution_count": 161,
     "metadata": {},
     "output_type": "execute_result"
    },
    {
     "data": {
      "text/plain": [
       "'C:/Users/khanh/code/DATA_SCIENCE/data/clean_images/test/labels/6988.txt'"
      ]
     },
     "execution_count": 161,
     "metadata": {},
     "output_type": "execute_result"
    },
    {
     "data": {
      "text/plain": [
       "'C:/Users/khanh/code/DATA_SCIENCE/data/clean_images/test/images/13024.jpg'"
      ]
     },
     "execution_count": 161,
     "metadata": {},
     "output_type": "execute_result"
    },
    {
     "data": {
      "text/plain": [
       "'C:/Users/khanh/code/DATA_SCIENCE/data/clean_images/test/labels/13024.txt'"
      ]
     },
     "execution_count": 161,
     "metadata": {},
     "output_type": "execute_result"
    },
    {
     "data": {
      "text/plain": [
       "'C:/Users/khanh/code/DATA_SCIENCE/data/clean_images/test/images/13025.jpg'"
      ]
     },
     "execution_count": 161,
     "metadata": {},
     "output_type": "execute_result"
    },
    {
     "data": {
      "text/plain": [
       "'C:/Users/khanh/code/DATA_SCIENCE/data/clean_images/test/labels/13025.txt'"
      ]
     },
     "execution_count": 161,
     "metadata": {},
     "output_type": "execute_result"
    },
    {
     "data": {
      "text/plain": [
       "'C:/Users/khanh/code/DATA_SCIENCE/data/clean_images/test/images/13026.jpg'"
      ]
     },
     "execution_count": 161,
     "metadata": {},
     "output_type": "execute_result"
    },
    {
     "data": {
      "text/plain": [
       "'C:/Users/khanh/code/DATA_SCIENCE/data/clean_images/test/labels/13026.txt'"
      ]
     },
     "execution_count": 161,
     "metadata": {},
     "output_type": "execute_result"
    },
    {
     "data": {
      "text/plain": [
       "'C:/Users/khanh/code/DATA_SCIENCE/data/clean_images/test/images/5075.jpg'"
      ]
     },
     "execution_count": 161,
     "metadata": {},
     "output_type": "execute_result"
    },
    {
     "data": {
      "text/plain": [
       "'C:/Users/khanh/code/DATA_SCIENCE/data/clean_images/test/labels/5075.txt'"
      ]
     },
     "execution_count": 161,
     "metadata": {},
     "output_type": "execute_result"
    },
    {
     "data": {
      "text/plain": [
       "'C:/Users/khanh/code/DATA_SCIENCE/data/clean_images/test/images/5077.jpg'"
      ]
     },
     "execution_count": 161,
     "metadata": {},
     "output_type": "execute_result"
    },
    {
     "data": {
      "text/plain": [
       "'C:/Users/khanh/code/DATA_SCIENCE/data/clean_images/test/labels/5077.txt'"
      ]
     },
     "execution_count": 161,
     "metadata": {},
     "output_type": "execute_result"
    },
    {
     "data": {
      "text/plain": [
       "'C:/Users/khanh/code/DATA_SCIENCE/data/clean_images/test/images/5079.jpg'"
      ]
     },
     "execution_count": 161,
     "metadata": {},
     "output_type": "execute_result"
    },
    {
     "data": {
      "text/plain": [
       "'C:/Users/khanh/code/DATA_SCIENCE/data/clean_images/test/labels/5079.txt'"
      ]
     },
     "execution_count": 161,
     "metadata": {},
     "output_type": "execute_result"
    },
    {
     "data": {
      "text/plain": [
       "'C:/Users/khanh/code/DATA_SCIENCE/data/clean_images/test/images/5080.jpg'"
      ]
     },
     "execution_count": 161,
     "metadata": {},
     "output_type": "execute_result"
    },
    {
     "data": {
      "text/plain": [
       "'C:/Users/khanh/code/DATA_SCIENCE/data/clean_images/test/labels/5080.txt'"
      ]
     },
     "execution_count": 161,
     "metadata": {},
     "output_type": "execute_result"
    },
    {
     "data": {
      "text/plain": [
       "'C:/Users/khanh/code/DATA_SCIENCE/data/clean_images/test/images/10525.jpg'"
      ]
     },
     "execution_count": 161,
     "metadata": {},
     "output_type": "execute_result"
    },
    {
     "data": {
      "text/plain": [
       "'C:/Users/khanh/code/DATA_SCIENCE/data/clean_images/test/labels/10525.txt'"
      ]
     },
     "execution_count": 161,
     "metadata": {},
     "output_type": "execute_result"
    },
    {
     "data": {
      "text/plain": [
       "'C:/Users/khanh/code/DATA_SCIENCE/data/clean_images/test/images/10526.jpg'"
      ]
     },
     "execution_count": 161,
     "metadata": {},
     "output_type": "execute_result"
    },
    {
     "data": {
      "text/plain": [
       "'C:/Users/khanh/code/DATA_SCIENCE/data/clean_images/test/labels/10526.txt'"
      ]
     },
     "execution_count": 161,
     "metadata": {},
     "output_type": "execute_result"
    },
    {
     "data": {
      "text/plain": [
       "'C:/Users/khanh/code/DATA_SCIENCE/data/clean_images/test/images/10528.jpg'"
      ]
     },
     "execution_count": 161,
     "metadata": {},
     "output_type": "execute_result"
    },
    {
     "data": {
      "text/plain": [
       "'C:/Users/khanh/code/DATA_SCIENCE/data/clean_images/test/labels/10528.txt'"
      ]
     },
     "execution_count": 161,
     "metadata": {},
     "output_type": "execute_result"
    },
    {
     "data": {
      "text/plain": [
       "'C:/Users/khanh/code/DATA_SCIENCE/data/clean_images/test/images/10529.jpg'"
      ]
     },
     "execution_count": 161,
     "metadata": {},
     "output_type": "execute_result"
    },
    {
     "data": {
      "text/plain": [
       "'C:/Users/khanh/code/DATA_SCIENCE/data/clean_images/test/labels/10529.txt'"
      ]
     },
     "execution_count": 161,
     "metadata": {},
     "output_type": "execute_result"
    },
    {
     "data": {
      "text/plain": [
       "'C:/Users/khanh/code/DATA_SCIENCE/data/clean_images/test/images/10530.jpg'"
      ]
     },
     "execution_count": 161,
     "metadata": {},
     "output_type": "execute_result"
    },
    {
     "data": {
      "text/plain": [
       "'C:/Users/khanh/code/DATA_SCIENCE/data/clean_images/test/labels/10530.txt'"
      ]
     },
     "execution_count": 161,
     "metadata": {},
     "output_type": "execute_result"
    },
    {
     "data": {
      "text/plain": [
       "'C:/Users/khanh/code/DATA_SCIENCE/data/clean_images/test/images/47440.jpg'"
      ]
     },
     "execution_count": 161,
     "metadata": {},
     "output_type": "execute_result"
    },
    {
     "data": {
      "text/plain": [
       "'C:/Users/khanh/code/DATA_SCIENCE/data/clean_images/test/labels/47440.txt'"
      ]
     },
     "execution_count": 161,
     "metadata": {},
     "output_type": "execute_result"
    },
    {
     "data": {
      "text/plain": [
       "'C:/Users/khanh/code/DATA_SCIENCE/data/clean_images/test/images/49278.jpg'"
      ]
     },
     "execution_count": 161,
     "metadata": {},
     "output_type": "execute_result"
    },
    {
     "data": {
      "text/plain": [
       "'C:/Users/khanh/code/DATA_SCIENCE/data/clean_images/test/labels/49278.txt'"
      ]
     },
     "execution_count": 161,
     "metadata": {},
     "output_type": "execute_result"
    },
    {
     "data": {
      "text/plain": [
       "'C:/Users/khanh/code/DATA_SCIENCE/data/clean_images/test/images/49282.jpg'"
      ]
     },
     "execution_count": 161,
     "metadata": {},
     "output_type": "execute_result"
    },
    {
     "data": {
      "text/plain": [
       "'C:/Users/khanh/code/DATA_SCIENCE/data/clean_images/test/labels/49282.txt'"
      ]
     },
     "execution_count": 161,
     "metadata": {},
     "output_type": "execute_result"
    },
    {
     "data": {
      "text/plain": [
       "'C:/Users/khanh/code/DATA_SCIENCE/data/clean_images/test/images/8767.jpg'"
      ]
     },
     "execution_count": 161,
     "metadata": {},
     "output_type": "execute_result"
    },
    {
     "data": {
      "text/plain": [
       "'C:/Users/khanh/code/DATA_SCIENCE/data/clean_images/test/labels/8767.txt'"
      ]
     },
     "execution_count": 161,
     "metadata": {},
     "output_type": "execute_result"
    },
    {
     "data": {
      "text/plain": [
       "'C:/Users/khanh/code/DATA_SCIENCE/data/clean_images/test/images/8770.jpg'"
      ]
     },
     "execution_count": 161,
     "metadata": {},
     "output_type": "execute_result"
    },
    {
     "data": {
      "text/plain": [
       "'C:/Users/khanh/code/DATA_SCIENCE/data/clean_images/test/labels/8770.txt'"
      ]
     },
     "execution_count": 161,
     "metadata": {},
     "output_type": "execute_result"
    },
    {
     "data": {
      "text/plain": [
       "'C:/Users/khanh/code/DATA_SCIENCE/data/clean_images/test/images/8771.jpg'"
      ]
     },
     "execution_count": 161,
     "metadata": {},
     "output_type": "execute_result"
    },
    {
     "data": {
      "text/plain": [
       "'C:/Users/khanh/code/DATA_SCIENCE/data/clean_images/test/labels/8771.txt'"
      ]
     },
     "execution_count": 161,
     "metadata": {},
     "output_type": "execute_result"
    },
    {
     "data": {
      "text/plain": [
       "'C:/Users/khanh/code/DATA_SCIENCE/data/clean_images/test/images/34815.jpg'"
      ]
     },
     "execution_count": 161,
     "metadata": {},
     "output_type": "execute_result"
    },
    {
     "data": {
      "text/plain": [
       "'C:/Users/khanh/code/DATA_SCIENCE/data/clean_images/test/labels/34815.txt'"
      ]
     },
     "execution_count": 161,
     "metadata": {},
     "output_type": "execute_result"
    },
    {
     "data": {
      "text/plain": [
       "'C:/Users/khanh/code/DATA_SCIENCE/data/clean_images/test/images/34816.jpg'"
      ]
     },
     "execution_count": 161,
     "metadata": {},
     "output_type": "execute_result"
    },
    {
     "data": {
      "text/plain": [
       "'C:/Users/khanh/code/DATA_SCIENCE/data/clean_images/test/labels/34816.txt'"
      ]
     },
     "execution_count": 161,
     "metadata": {},
     "output_type": "execute_result"
    },
    {
     "data": {
      "text/plain": [
       "'C:/Users/khanh/code/DATA_SCIENCE/data/clean_images/test/images/34817.jpg'"
      ]
     },
     "execution_count": 161,
     "metadata": {},
     "output_type": "execute_result"
    },
    {
     "data": {
      "text/plain": [
       "'C:/Users/khanh/code/DATA_SCIENCE/data/clean_images/test/labels/34817.txt'"
      ]
     },
     "execution_count": 161,
     "metadata": {},
     "output_type": "execute_result"
    },
    {
     "data": {
      "text/plain": [
       "'C:/Users/khanh/code/DATA_SCIENCE/data/clean_images/test/images/30693.jpg'"
      ]
     },
     "execution_count": 161,
     "metadata": {},
     "output_type": "execute_result"
    },
    {
     "data": {
      "text/plain": [
       "'C:/Users/khanh/code/DATA_SCIENCE/data/clean_images/test/labels/30693.txt'"
      ]
     },
     "execution_count": 161,
     "metadata": {},
     "output_type": "execute_result"
    },
    {
     "data": {
      "text/plain": [
       "'C:/Users/khanh/code/DATA_SCIENCE/data/clean_images/test/images/30694.jpg'"
      ]
     },
     "execution_count": 161,
     "metadata": {},
     "output_type": "execute_result"
    },
    {
     "data": {
      "text/plain": [
       "'C:/Users/khanh/code/DATA_SCIENCE/data/clean_images/test/labels/30694.txt'"
      ]
     },
     "execution_count": 161,
     "metadata": {},
     "output_type": "execute_result"
    },
    {
     "data": {
      "text/plain": [
       "'C:/Users/khanh/code/DATA_SCIENCE/data/clean_images/test/images/1172.jpg'"
      ]
     },
     "execution_count": 161,
     "metadata": {},
     "output_type": "execute_result"
    },
    {
     "data": {
      "text/plain": [
       "'C:/Users/khanh/code/DATA_SCIENCE/data/clean_images/test/labels/1172.txt'"
      ]
     },
     "execution_count": 161,
     "metadata": {},
     "output_type": "execute_result"
    },
    {
     "data": {
      "text/plain": [
       "'C:/Users/khanh/code/DATA_SCIENCE/data/clean_images/test/images/1173.jpg'"
      ]
     },
     "execution_count": 161,
     "metadata": {},
     "output_type": "execute_result"
    },
    {
     "data": {
      "text/plain": [
       "'C:/Users/khanh/code/DATA_SCIENCE/data/clean_images/test/labels/1173.txt'"
      ]
     },
     "execution_count": 161,
     "metadata": {},
     "output_type": "execute_result"
    },
    {
     "data": {
      "text/plain": [
       "'C:/Users/khanh/code/DATA_SCIENCE/data/clean_images/test/images/1174.jpg'"
      ]
     },
     "execution_count": 161,
     "metadata": {},
     "output_type": "execute_result"
    },
    {
     "data": {
      "text/plain": [
       "'C:/Users/khanh/code/DATA_SCIENCE/data/clean_images/test/labels/1174.txt'"
      ]
     },
     "execution_count": 161,
     "metadata": {},
     "output_type": "execute_result"
    },
    {
     "data": {
      "text/plain": [
       "'C:/Users/khanh/code/DATA_SCIENCE/data/clean_images/test/images/1175.jpg'"
      ]
     },
     "execution_count": 161,
     "metadata": {},
     "output_type": "execute_result"
    },
    {
     "data": {
      "text/plain": [
       "'C:/Users/khanh/code/DATA_SCIENCE/data/clean_images/test/labels/1175.txt'"
      ]
     },
     "execution_count": 161,
     "metadata": {},
     "output_type": "execute_result"
    },
    {
     "data": {
      "text/plain": [
       "'C:/Users/khanh/code/DATA_SCIENCE/data/clean_images/test/images/1176.jpg'"
      ]
     },
     "execution_count": 161,
     "metadata": {},
     "output_type": "execute_result"
    },
    {
     "data": {
      "text/plain": [
       "'C:/Users/khanh/code/DATA_SCIENCE/data/clean_images/test/labels/1176.txt'"
      ]
     },
     "execution_count": 161,
     "metadata": {},
     "output_type": "execute_result"
    },
    {
     "data": {
      "text/plain": [
       "'C:/Users/khanh/code/DATA_SCIENCE/data/clean_images/test/images/1177.jpg'"
      ]
     },
     "execution_count": 161,
     "metadata": {},
     "output_type": "execute_result"
    },
    {
     "data": {
      "text/plain": [
       "'C:/Users/khanh/code/DATA_SCIENCE/data/clean_images/test/labels/1177.txt'"
      ]
     },
     "execution_count": 161,
     "metadata": {},
     "output_type": "execute_result"
    },
    {
     "data": {
      "text/plain": [
       "'C:/Users/khanh/code/DATA_SCIENCE/data/clean_images/test/images/3677.jpg'"
      ]
     },
     "execution_count": 161,
     "metadata": {},
     "output_type": "execute_result"
    },
    {
     "data": {
      "text/plain": [
       "'C:/Users/khanh/code/DATA_SCIENCE/data/clean_images/test/labels/3677.txt'"
      ]
     },
     "execution_count": 161,
     "metadata": {},
     "output_type": "execute_result"
    },
    {
     "data": {
      "text/plain": [
       "'C:/Users/khanh/code/DATA_SCIENCE/data/clean_images/test/images/16578.jpg'"
      ]
     },
     "execution_count": 161,
     "metadata": {},
     "output_type": "execute_result"
    },
    {
     "data": {
      "text/plain": [
       "'C:/Users/khanh/code/DATA_SCIENCE/data/clean_images/test/labels/16578.txt'"
      ]
     },
     "execution_count": 161,
     "metadata": {},
     "output_type": "execute_result"
    },
    {
     "data": {
      "text/plain": [
       "'C:/Users/khanh/code/DATA_SCIENCE/data/clean_images/test/images/16579.jpg'"
      ]
     },
     "execution_count": 161,
     "metadata": {},
     "output_type": "execute_result"
    },
    {
     "data": {
      "text/plain": [
       "'C:/Users/khanh/code/DATA_SCIENCE/data/clean_images/test/labels/16579.txt'"
      ]
     },
     "execution_count": 161,
     "metadata": {},
     "output_type": "execute_result"
    },
    {
     "data": {
      "text/plain": [
       "'C:/Users/khanh/code/DATA_SCIENCE/data/clean_images/test/images/16582.jpg'"
      ]
     },
     "execution_count": 161,
     "metadata": {},
     "output_type": "execute_result"
    },
    {
     "data": {
      "text/plain": [
       "'C:/Users/khanh/code/DATA_SCIENCE/data/clean_images/test/labels/16582.txt'"
      ]
     },
     "execution_count": 161,
     "metadata": {},
     "output_type": "execute_result"
    },
    {
     "data": {
      "text/plain": [
       "'C:/Users/khanh/code/DATA_SCIENCE/data/clean_images/test/images/47912.jpg'"
      ]
     },
     "execution_count": 161,
     "metadata": {},
     "output_type": "execute_result"
    },
    {
     "data": {
      "text/plain": [
       "'C:/Users/khanh/code/DATA_SCIENCE/data/clean_images/test/labels/47912.txt'"
      ]
     },
     "execution_count": 161,
     "metadata": {},
     "output_type": "execute_result"
    },
    {
     "data": {
      "text/plain": [
       "'C:/Users/khanh/code/DATA_SCIENCE/data/clean_images/test/images/47914.jpg'"
      ]
     },
     "execution_count": 161,
     "metadata": {},
     "output_type": "execute_result"
    },
    {
     "data": {
      "text/plain": [
       "'C:/Users/khanh/code/DATA_SCIENCE/data/clean_images/test/labels/47914.txt'"
      ]
     },
     "execution_count": 161,
     "metadata": {},
     "output_type": "execute_result"
    },
    {
     "data": {
      "text/plain": [
       "'C:/Users/khanh/code/DATA_SCIENCE/data/clean_images/test/images/47915.jpg'"
      ]
     },
     "execution_count": 161,
     "metadata": {},
     "output_type": "execute_result"
    },
    {
     "data": {
      "text/plain": [
       "'C:/Users/khanh/code/DATA_SCIENCE/data/clean_images/test/labels/47915.txt'"
      ]
     },
     "execution_count": 161,
     "metadata": {},
     "output_type": "execute_result"
    },
    {
     "data": {
      "text/plain": [
       "'C:/Users/khanh/code/DATA_SCIENCE/data/clean_images/test/images/47916.jpg'"
      ]
     },
     "execution_count": 161,
     "metadata": {},
     "output_type": "execute_result"
    },
    {
     "data": {
      "text/plain": [
       "'C:/Users/khanh/code/DATA_SCIENCE/data/clean_images/test/labels/47916.txt'"
      ]
     },
     "execution_count": 161,
     "metadata": {},
     "output_type": "execute_result"
    },
    {
     "data": {
      "text/plain": [
       "'C:/Users/khanh/code/DATA_SCIENCE/data/clean_images/test/images/53476.jpg'"
      ]
     },
     "execution_count": 161,
     "metadata": {},
     "output_type": "execute_result"
    },
    {
     "data": {
      "text/plain": [
       "'C:/Users/khanh/code/DATA_SCIENCE/data/clean_images/test/labels/53476.txt'"
      ]
     },
     "execution_count": 161,
     "metadata": {},
     "output_type": "execute_result"
    },
    {
     "data": {
      "text/plain": [
       "'C:/Users/khanh/code/DATA_SCIENCE/data/clean_images/test/images/24041.jpg'"
      ]
     },
     "execution_count": 161,
     "metadata": {},
     "output_type": "execute_result"
    },
    {
     "data": {
      "text/plain": [
       "'C:/Users/khanh/code/DATA_SCIENCE/data/clean_images/test/labels/24041.txt'"
      ]
     },
     "execution_count": 161,
     "metadata": {},
     "output_type": "execute_result"
    },
    {
     "data": {
      "text/plain": [
       "'C:/Users/khanh/code/DATA_SCIENCE/data/clean_images/test/images/24042.jpg'"
      ]
     },
     "execution_count": 161,
     "metadata": {},
     "output_type": "execute_result"
    },
    {
     "data": {
      "text/plain": [
       "'C:/Users/khanh/code/DATA_SCIENCE/data/clean_images/test/labels/24042.txt'"
      ]
     },
     "execution_count": 161,
     "metadata": {},
     "output_type": "execute_result"
    },
    {
     "data": {
      "text/plain": [
       "'C:/Users/khanh/code/DATA_SCIENCE/data/clean_images/test/images/24043.jpg'"
      ]
     },
     "execution_count": 161,
     "metadata": {},
     "output_type": "execute_result"
    },
    {
     "data": {
      "text/plain": [
       "'C:/Users/khanh/code/DATA_SCIENCE/data/clean_images/test/labels/24043.txt'"
      ]
     },
     "execution_count": 161,
     "metadata": {},
     "output_type": "execute_result"
    },
    {
     "data": {
      "text/plain": [
       "'C:/Users/khanh/code/DATA_SCIENCE/data/clean_images/test/images/24044.jpg'"
      ]
     },
     "execution_count": 161,
     "metadata": {},
     "output_type": "execute_result"
    },
    {
     "data": {
      "text/plain": [
       "'C:/Users/khanh/code/DATA_SCIENCE/data/clean_images/test/labels/24044.txt'"
      ]
     },
     "execution_count": 161,
     "metadata": {},
     "output_type": "execute_result"
    },
    {
     "data": {
      "text/plain": [
       "'C:/Users/khanh/code/DATA_SCIENCE/data/clean_images/test/images/52687.jpg'"
      ]
     },
     "execution_count": 161,
     "metadata": {},
     "output_type": "execute_result"
    },
    {
     "data": {
      "text/plain": [
       "'C:/Users/khanh/code/DATA_SCIENCE/data/clean_images/test/labels/52687.txt'"
      ]
     },
     "execution_count": 161,
     "metadata": {},
     "output_type": "execute_result"
    },
    {
     "data": {
      "text/plain": [
       "'C:/Users/khanh/code/DATA_SCIENCE/data/clean_images/test/images/26390.jpg'"
      ]
     },
     "execution_count": 161,
     "metadata": {},
     "output_type": "execute_result"
    },
    {
     "data": {
      "text/plain": [
       "'C:/Users/khanh/code/DATA_SCIENCE/data/clean_images/test/labels/26390.txt'"
      ]
     },
     "execution_count": 161,
     "metadata": {},
     "output_type": "execute_result"
    },
    {
     "data": {
      "text/plain": [
       "'C:/Users/khanh/code/DATA_SCIENCE/data/clean_images/test/images/5794.jpg'"
      ]
     },
     "execution_count": 161,
     "metadata": {},
     "output_type": "execute_result"
    },
    {
     "data": {
      "text/plain": [
       "'C:/Users/khanh/code/DATA_SCIENCE/data/clean_images/test/labels/5794.txt'"
      ]
     },
     "execution_count": 161,
     "metadata": {},
     "output_type": "execute_result"
    },
    {
     "data": {
      "text/plain": [
       "'C:/Users/khanh/code/DATA_SCIENCE/data/clean_images/test/images/5795.jpg'"
      ]
     },
     "execution_count": 161,
     "metadata": {},
     "output_type": "execute_result"
    },
    {
     "data": {
      "text/plain": [
       "'C:/Users/khanh/code/DATA_SCIENCE/data/clean_images/test/labels/5795.txt'"
      ]
     },
     "execution_count": 161,
     "metadata": {},
     "output_type": "execute_result"
    },
    {
     "data": {
      "text/plain": [
       "'C:/Users/khanh/code/DATA_SCIENCE/data/clean_images/test/images/5796.jpg'"
      ]
     },
     "execution_count": 161,
     "metadata": {},
     "output_type": "execute_result"
    },
    {
     "data": {
      "text/plain": [
       "'C:/Users/khanh/code/DATA_SCIENCE/data/clean_images/test/labels/5796.txt'"
      ]
     },
     "execution_count": 161,
     "metadata": {},
     "output_type": "execute_result"
    },
    {
     "data": {
      "text/plain": [
       "'C:/Users/khanh/code/DATA_SCIENCE/data/clean_images/test/images/5797.jpg'"
      ]
     },
     "execution_count": 161,
     "metadata": {},
     "output_type": "execute_result"
    },
    {
     "data": {
      "text/plain": [
       "'C:/Users/khanh/code/DATA_SCIENCE/data/clean_images/test/labels/5797.txt'"
      ]
     },
     "execution_count": 161,
     "metadata": {},
     "output_type": "execute_result"
    },
    {
     "data": {
      "text/plain": [
       "'C:/Users/khanh/code/DATA_SCIENCE/data/clean_images/test/images/5798.jpg'"
      ]
     },
     "execution_count": 161,
     "metadata": {},
     "output_type": "execute_result"
    },
    {
     "data": {
      "text/plain": [
       "'C:/Users/khanh/code/DATA_SCIENCE/data/clean_images/test/labels/5798.txt'"
      ]
     },
     "execution_count": 161,
     "metadata": {},
     "output_type": "execute_result"
    },
    {
     "data": {
      "text/plain": [
       "'C:/Users/khanh/code/DATA_SCIENCE/data/clean_images/test/images/5799.jpg'"
      ]
     },
     "execution_count": 161,
     "metadata": {},
     "output_type": "execute_result"
    },
    {
     "data": {
      "text/plain": [
       "'C:/Users/khanh/code/DATA_SCIENCE/data/clean_images/test/labels/5799.txt'"
      ]
     },
     "execution_count": 161,
     "metadata": {},
     "output_type": "execute_result"
    },
    {
     "data": {
      "text/plain": [
       "'C:/Users/khanh/code/DATA_SCIENCE/data/clean_images/test/images/45250.jpg'"
      ]
     },
     "execution_count": 161,
     "metadata": {},
     "output_type": "execute_result"
    },
    {
     "data": {
      "text/plain": [
       "'C:/Users/khanh/code/DATA_SCIENCE/data/clean_images/test/labels/45250.txt'"
      ]
     },
     "execution_count": 161,
     "metadata": {},
     "output_type": "execute_result"
    },
    {
     "data": {
      "text/plain": [
       "'C:/Users/khanh/code/DATA_SCIENCE/data/clean_images/test/images/8957.jpg'"
      ]
     },
     "execution_count": 161,
     "metadata": {},
     "output_type": "execute_result"
    },
    {
     "data": {
      "text/plain": [
       "'C:/Users/khanh/code/DATA_SCIENCE/data/clean_images/test/labels/8957.txt'"
      ]
     },
     "execution_count": 161,
     "metadata": {},
     "output_type": "execute_result"
    },
    {
     "data": {
      "text/plain": [
       "'C:/Users/khanh/code/DATA_SCIENCE/data/clean_images/test/images/8958.jpg'"
      ]
     },
     "execution_count": 161,
     "metadata": {},
     "output_type": "execute_result"
    },
    {
     "data": {
      "text/plain": [
       "'C:/Users/khanh/code/DATA_SCIENCE/data/clean_images/test/labels/8958.txt'"
      ]
     },
     "execution_count": 161,
     "metadata": {},
     "output_type": "execute_result"
    },
    {
     "data": {
      "text/plain": [
       "'C:/Users/khanh/code/DATA_SCIENCE/data/clean_images/test/images/8959.jpg'"
      ]
     },
     "execution_count": 161,
     "metadata": {},
     "output_type": "execute_result"
    },
    {
     "data": {
      "text/plain": [
       "'C:/Users/khanh/code/DATA_SCIENCE/data/clean_images/test/labels/8959.txt'"
      ]
     },
     "execution_count": 161,
     "metadata": {},
     "output_type": "execute_result"
    },
    {
     "data": {
      "text/plain": [
       "'C:/Users/khanh/code/DATA_SCIENCE/data/clean_images/test/images/8960.jpg'"
      ]
     },
     "execution_count": 161,
     "metadata": {},
     "output_type": "execute_result"
    },
    {
     "data": {
      "text/plain": [
       "'C:/Users/khanh/code/DATA_SCIENCE/data/clean_images/test/labels/8960.txt'"
      ]
     },
     "execution_count": 161,
     "metadata": {},
     "output_type": "execute_result"
    },
    {
     "data": {
      "text/plain": [
       "'C:/Users/khanh/code/DATA_SCIENCE/data/clean_images/test/images/8962.jpg'"
      ]
     },
     "execution_count": 161,
     "metadata": {},
     "output_type": "execute_result"
    },
    {
     "data": {
      "text/plain": [
       "'C:/Users/khanh/code/DATA_SCIENCE/data/clean_images/test/labels/8962.txt'"
      ]
     },
     "execution_count": 161,
     "metadata": {},
     "output_type": "execute_result"
    },
    {
     "data": {
      "text/plain": [
       "'C:/Users/khanh/code/DATA_SCIENCE/data/clean_images/test/images/34792.jpg'"
      ]
     },
     "execution_count": 161,
     "metadata": {},
     "output_type": "execute_result"
    },
    {
     "data": {
      "text/plain": [
       "'C:/Users/khanh/code/DATA_SCIENCE/data/clean_images/test/labels/34792.txt'"
      ]
     },
     "execution_count": 161,
     "metadata": {},
     "output_type": "execute_result"
    },
    {
     "data": {
      "text/plain": [
       "'C:/Users/khanh/code/DATA_SCIENCE/data/clean_images/test/images/52503.jpg'"
      ]
     },
     "execution_count": 161,
     "metadata": {},
     "output_type": "execute_result"
    },
    {
     "data": {
      "text/plain": [
       "'C:/Users/khanh/code/DATA_SCIENCE/data/clean_images/test/labels/52503.txt'"
      ]
     },
     "execution_count": 161,
     "metadata": {},
     "output_type": "execute_result"
    },
    {
     "data": {
      "text/plain": [
       "'C:/Users/khanh/code/DATA_SCIENCE/data/clean_images/test/images/52504.jpg'"
      ]
     },
     "execution_count": 161,
     "metadata": {},
     "output_type": "execute_result"
    },
    {
     "data": {
      "text/plain": [
       "'C:/Users/khanh/code/DATA_SCIENCE/data/clean_images/test/labels/52504.txt'"
      ]
     },
     "execution_count": 161,
     "metadata": {},
     "output_type": "execute_result"
    },
    {
     "data": {
      "text/plain": [
       "'C:/Users/khanh/code/DATA_SCIENCE/data/clean_images/test/images/36900.jpg'"
      ]
     },
     "execution_count": 161,
     "metadata": {},
     "output_type": "execute_result"
    },
    {
     "data": {
      "text/plain": [
       "'C:/Users/khanh/code/DATA_SCIENCE/data/clean_images/test/labels/36900.txt'"
      ]
     },
     "execution_count": 161,
     "metadata": {},
     "output_type": "execute_result"
    },
    {
     "data": {
      "text/plain": [
       "'C:/Users/khanh/code/DATA_SCIENCE/data/clean_images/test/images/36902.jpg'"
      ]
     },
     "execution_count": 161,
     "metadata": {},
     "output_type": "execute_result"
    },
    {
     "data": {
      "text/plain": [
       "'C:/Users/khanh/code/DATA_SCIENCE/data/clean_images/test/labels/36902.txt'"
      ]
     },
     "execution_count": 161,
     "metadata": {},
     "output_type": "execute_result"
    },
    {
     "data": {
      "text/plain": [
       "'C:/Users/khanh/code/DATA_SCIENCE/data/clean_images/test/images/50833.jpg'"
      ]
     },
     "execution_count": 161,
     "metadata": {},
     "output_type": "execute_result"
    },
    {
     "data": {
      "text/plain": [
       "'C:/Users/khanh/code/DATA_SCIENCE/data/clean_images/test/labels/50833.txt'"
      ]
     },
     "execution_count": 161,
     "metadata": {},
     "output_type": "execute_result"
    },
    {
     "data": {
      "text/plain": [
       "'C:/Users/khanh/code/DATA_SCIENCE/data/clean_images/test/images/50834.jpg'"
      ]
     },
     "execution_count": 161,
     "metadata": {},
     "output_type": "execute_result"
    },
    {
     "data": {
      "text/plain": [
       "'C:/Users/khanh/code/DATA_SCIENCE/data/clean_images/test/labels/50834.txt'"
      ]
     },
     "execution_count": 161,
     "metadata": {},
     "output_type": "execute_result"
    },
    {
     "data": {
      "text/plain": [
       "'C:/Users/khanh/code/DATA_SCIENCE/data/clean_images/test/images/40853.jpg'"
      ]
     },
     "execution_count": 161,
     "metadata": {},
     "output_type": "execute_result"
    },
    {
     "data": {
      "text/plain": [
       "'C:/Users/khanh/code/DATA_SCIENCE/data/clean_images/test/labels/40853.txt'"
      ]
     },
     "execution_count": 161,
     "metadata": {},
     "output_type": "execute_result"
    },
    {
     "data": {
      "text/plain": [
       "'C:/Users/khanh/code/DATA_SCIENCE/data/clean_images/test/images/40854.jpg'"
      ]
     },
     "execution_count": 161,
     "metadata": {},
     "output_type": "execute_result"
    },
    {
     "data": {
      "text/plain": [
       "'C:/Users/khanh/code/DATA_SCIENCE/data/clean_images/test/labels/40854.txt'"
      ]
     },
     "execution_count": 161,
     "metadata": {},
     "output_type": "execute_result"
    },
    {
     "data": {
      "text/plain": [
       "'C:/Users/khanh/code/DATA_SCIENCE/data/clean_images/test/images/54340.jpg'"
      ]
     },
     "execution_count": 161,
     "metadata": {},
     "output_type": "execute_result"
    },
    {
     "data": {
      "text/plain": [
       "'C:/Users/khanh/code/DATA_SCIENCE/data/clean_images/test/labels/54340.txt'"
      ]
     },
     "execution_count": 161,
     "metadata": {},
     "output_type": "execute_result"
    },
    {
     "data": {
      "text/plain": [
       "'C:/Users/khanh/code/DATA_SCIENCE/data/clean_images/test/images/54342.jpg'"
      ]
     },
     "execution_count": 161,
     "metadata": {},
     "output_type": "execute_result"
    },
    {
     "data": {
      "text/plain": [
       "'C:/Users/khanh/code/DATA_SCIENCE/data/clean_images/test/labels/54342.txt'"
      ]
     },
     "execution_count": 161,
     "metadata": {},
     "output_type": "execute_result"
    },
    {
     "data": {
      "text/plain": [
       "'C:/Users/khanh/code/DATA_SCIENCE/data/clean_images/test/images/54343.jpg'"
      ]
     },
     "execution_count": 161,
     "metadata": {},
     "output_type": "execute_result"
    },
    {
     "data": {
      "text/plain": [
       "'C:/Users/khanh/code/DATA_SCIENCE/data/clean_images/test/labels/54343.txt'"
      ]
     },
     "execution_count": 161,
     "metadata": {},
     "output_type": "execute_result"
    },
    {
     "data": {
      "text/plain": [
       "'C:/Users/khanh/code/DATA_SCIENCE/data/clean_images/test/images/54344.jpg'"
      ]
     },
     "execution_count": 161,
     "metadata": {},
     "output_type": "execute_result"
    },
    {
     "data": {
      "text/plain": [
       "'C:/Users/khanh/code/DATA_SCIENCE/data/clean_images/test/labels/54344.txt'"
      ]
     },
     "execution_count": 161,
     "metadata": {},
     "output_type": "execute_result"
    },
    {
     "data": {
      "text/plain": [
       "'C:/Users/khanh/code/DATA_SCIENCE/data/clean_images/test/images/38213.jpg'"
      ]
     },
     "execution_count": 161,
     "metadata": {},
     "output_type": "execute_result"
    },
    {
     "data": {
      "text/plain": [
       "'C:/Users/khanh/code/DATA_SCIENCE/data/clean_images/test/labels/38213.txt'"
      ]
     },
     "execution_count": 161,
     "metadata": {},
     "output_type": "execute_result"
    },
    {
     "data": {
      "text/plain": [
       "'C:/Users/khanh/code/DATA_SCIENCE/data/clean_images/test/images/47834.jpg'"
      ]
     },
     "execution_count": 161,
     "metadata": {},
     "output_type": "execute_result"
    },
    {
     "data": {
      "text/plain": [
       "'C:/Users/khanh/code/DATA_SCIENCE/data/clean_images/test/labels/47834.txt'"
      ]
     },
     "execution_count": 161,
     "metadata": {},
     "output_type": "execute_result"
    },
    {
     "data": {
      "text/plain": [
       "'C:/Users/khanh/code/DATA_SCIENCE/data/clean_images/test/images/47085.jpg'"
      ]
     },
     "execution_count": 161,
     "metadata": {},
     "output_type": "execute_result"
    },
    {
     "data": {
      "text/plain": [
       "'C:/Users/khanh/code/DATA_SCIENCE/data/clean_images/test/labels/47085.txt'"
      ]
     },
     "execution_count": 161,
     "metadata": {},
     "output_type": "execute_result"
    },
    {
     "data": {
      "text/plain": [
       "'C:/Users/khanh/code/DATA_SCIENCE/data/clean_images/test/images/47086.jpg'"
      ]
     },
     "execution_count": 161,
     "metadata": {},
     "output_type": "execute_result"
    },
    {
     "data": {
      "text/plain": [
       "'C:/Users/khanh/code/DATA_SCIENCE/data/clean_images/test/labels/47086.txt'"
      ]
     },
     "execution_count": 161,
     "metadata": {},
     "output_type": "execute_result"
    },
    {
     "data": {
      "text/plain": [
       "'C:/Users/khanh/code/DATA_SCIENCE/data/clean_images/test/images/47088.jpg'"
      ]
     },
     "execution_count": 161,
     "metadata": {},
     "output_type": "execute_result"
    },
    {
     "data": {
      "text/plain": [
       "'C:/Users/khanh/code/DATA_SCIENCE/data/clean_images/test/labels/47088.txt'"
      ]
     },
     "execution_count": 161,
     "metadata": {},
     "output_type": "execute_result"
    },
    {
     "data": {
      "text/plain": [
       "'C:/Users/khanh/code/DATA_SCIENCE/data/clean_images/test/images/41167.jpg'"
      ]
     },
     "execution_count": 161,
     "metadata": {},
     "output_type": "execute_result"
    },
    {
     "data": {
      "text/plain": [
       "'C:/Users/khanh/code/DATA_SCIENCE/data/clean_images/test/labels/41167.txt'"
      ]
     },
     "execution_count": 161,
     "metadata": {},
     "output_type": "execute_result"
    },
    {
     "data": {
      "text/plain": [
       "'C:/Users/khanh/code/DATA_SCIENCE/data/clean_images/test/images/41172.jpg'"
      ]
     },
     "execution_count": 161,
     "metadata": {},
     "output_type": "execute_result"
    },
    {
     "data": {
      "text/plain": [
       "'C:/Users/khanh/code/DATA_SCIENCE/data/clean_images/test/labels/41172.txt'"
      ]
     },
     "execution_count": 161,
     "metadata": {},
     "output_type": "execute_result"
    },
    {
     "data": {
      "text/plain": [
       "'C:/Users/khanh/code/DATA_SCIENCE/data/clean_images/test/images/42495.jpg'"
      ]
     },
     "execution_count": 161,
     "metadata": {},
     "output_type": "execute_result"
    },
    {
     "data": {
      "text/plain": [
       "'C:/Users/khanh/code/DATA_SCIENCE/data/clean_images/test/labels/42495.txt'"
      ]
     },
     "execution_count": 161,
     "metadata": {},
     "output_type": "execute_result"
    },
    {
     "data": {
      "text/plain": [
       "'C:/Users/khanh/code/DATA_SCIENCE/data/clean_images/test/images/39408.jpg'"
      ]
     },
     "execution_count": 161,
     "metadata": {},
     "output_type": "execute_result"
    },
    {
     "data": {
      "text/plain": [
       "'C:/Users/khanh/code/DATA_SCIENCE/data/clean_images/test/labels/39408.txt'"
      ]
     },
     "execution_count": 161,
     "metadata": {},
     "output_type": "execute_result"
    },
    {
     "data": {
      "text/plain": [
       "'C:/Users/khanh/code/DATA_SCIENCE/data/clean_images/test/images/39410.jpg'"
      ]
     },
     "execution_count": 161,
     "metadata": {},
     "output_type": "execute_result"
    },
    {
     "data": {
      "text/plain": [
       "'C:/Users/khanh/code/DATA_SCIENCE/data/clean_images/test/labels/39410.txt'"
      ]
     },
     "execution_count": 161,
     "metadata": {},
     "output_type": "execute_result"
    },
    {
     "data": {
      "text/plain": [
       "'C:/Users/khanh/code/DATA_SCIENCE/data/clean_images/test/images/39411.jpg'"
      ]
     },
     "execution_count": 161,
     "metadata": {},
     "output_type": "execute_result"
    },
    {
     "data": {
      "text/plain": [
       "'C:/Users/khanh/code/DATA_SCIENCE/data/clean_images/test/labels/39411.txt'"
      ]
     },
     "execution_count": 161,
     "metadata": {},
     "output_type": "execute_result"
    },
    {
     "data": {
      "text/plain": [
       "'C:/Users/khanh/code/DATA_SCIENCE/data/clean_images/test/images/15291.jpg'"
      ]
     },
     "execution_count": 161,
     "metadata": {},
     "output_type": "execute_result"
    },
    {
     "data": {
      "text/plain": [
       "'C:/Users/khanh/code/DATA_SCIENCE/data/clean_images/test/labels/15291.txt'"
      ]
     },
     "execution_count": 161,
     "metadata": {},
     "output_type": "execute_result"
    },
    {
     "data": {
      "text/plain": [
       "'C:/Users/khanh/code/DATA_SCIENCE/data/clean_images/test/images/15294.jpg'"
      ]
     },
     "execution_count": 161,
     "metadata": {},
     "output_type": "execute_result"
    },
    {
     "data": {
      "text/plain": [
       "'C:/Users/khanh/code/DATA_SCIENCE/data/clean_images/test/labels/15294.txt'"
      ]
     },
     "execution_count": 161,
     "metadata": {},
     "output_type": "execute_result"
    },
    {
     "data": {
      "text/plain": [
       "'C:/Users/khanh/code/DATA_SCIENCE/data/clean_images/test/images/23692.jpg'"
      ]
     },
     "execution_count": 161,
     "metadata": {},
     "output_type": "execute_result"
    },
    {
     "data": {
      "text/plain": [
       "'C:/Users/khanh/code/DATA_SCIENCE/data/clean_images/test/labels/23692.txt'"
      ]
     },
     "execution_count": 161,
     "metadata": {},
     "output_type": "execute_result"
    },
    {
     "data": {
      "text/plain": [
       "'C:/Users/khanh/code/DATA_SCIENCE/data/clean_images/test/images/54416.jpg'"
      ]
     },
     "execution_count": 161,
     "metadata": {},
     "output_type": "execute_result"
    },
    {
     "data": {
      "text/plain": [
       "'C:/Users/khanh/code/DATA_SCIENCE/data/clean_images/test/labels/54416.txt'"
      ]
     },
     "execution_count": 161,
     "metadata": {},
     "output_type": "execute_result"
    },
    {
     "data": {
      "text/plain": [
       "'C:/Users/khanh/code/DATA_SCIENCE/data/clean_images/test/images/54417.jpg'"
      ]
     },
     "execution_count": 161,
     "metadata": {},
     "output_type": "execute_result"
    },
    {
     "data": {
      "text/plain": [
       "'C:/Users/khanh/code/DATA_SCIENCE/data/clean_images/test/labels/54417.txt'"
      ]
     },
     "execution_count": 161,
     "metadata": {},
     "output_type": "execute_result"
    },
    {
     "data": {
      "text/plain": [
       "'C:/Users/khanh/code/DATA_SCIENCE/data/clean_images/test/images/54418.jpg'"
      ]
     },
     "execution_count": 161,
     "metadata": {},
     "output_type": "execute_result"
    },
    {
     "data": {
      "text/plain": [
       "'C:/Users/khanh/code/DATA_SCIENCE/data/clean_images/test/labels/54418.txt'"
      ]
     },
     "execution_count": 161,
     "metadata": {},
     "output_type": "execute_result"
    },
    {
     "data": {
      "text/plain": [
       "'C:/Users/khanh/code/DATA_SCIENCE/data/clean_images/test/images/37312.jpg'"
      ]
     },
     "execution_count": 161,
     "metadata": {},
     "output_type": "execute_result"
    },
    {
     "data": {
      "text/plain": [
       "'C:/Users/khanh/code/DATA_SCIENCE/data/clean_images/test/labels/37312.txt'"
      ]
     },
     "execution_count": 161,
     "metadata": {},
     "output_type": "execute_result"
    },
    {
     "data": {
      "text/plain": [
       "'C:/Users/khanh/code/DATA_SCIENCE/data/clean_images/test/images/37313.jpg'"
      ]
     },
     "execution_count": 161,
     "metadata": {},
     "output_type": "execute_result"
    },
    {
     "data": {
      "text/plain": [
       "'C:/Users/khanh/code/DATA_SCIENCE/data/clean_images/test/labels/37313.txt'"
      ]
     },
     "execution_count": 161,
     "metadata": {},
     "output_type": "execute_result"
    },
    {
     "data": {
      "text/plain": [
       "'C:/Users/khanh/code/DATA_SCIENCE/data/clean_images/test/images/37314.jpg'"
      ]
     },
     "execution_count": 161,
     "metadata": {},
     "output_type": "execute_result"
    },
    {
     "data": {
      "text/plain": [
       "'C:/Users/khanh/code/DATA_SCIENCE/data/clean_images/test/labels/37314.txt'"
      ]
     },
     "execution_count": 161,
     "metadata": {},
     "output_type": "execute_result"
    },
    {
     "data": {
      "text/plain": [
       "'C:/Users/khanh/code/DATA_SCIENCE/data/clean_images/test/images/48340.jpg'"
      ]
     },
     "execution_count": 161,
     "metadata": {},
     "output_type": "execute_result"
    },
    {
     "data": {
      "text/plain": [
       "'C:/Users/khanh/code/DATA_SCIENCE/data/clean_images/test/labels/48340.txt'"
      ]
     },
     "execution_count": 161,
     "metadata": {},
     "output_type": "execute_result"
    },
    {
     "data": {
      "text/plain": [
       "'C:/Users/khanh/code/DATA_SCIENCE/data/clean_images/test/images/48341.jpg'"
      ]
     },
     "execution_count": 161,
     "metadata": {},
     "output_type": "execute_result"
    },
    {
     "data": {
      "text/plain": [
       "'C:/Users/khanh/code/DATA_SCIENCE/data/clean_images/test/labels/48341.txt'"
      ]
     },
     "execution_count": 161,
     "metadata": {},
     "output_type": "execute_result"
    },
    {
     "data": {
      "text/plain": [
       "'C:/Users/khanh/code/DATA_SCIENCE/data/clean_images/test/images/48342.jpg'"
      ]
     },
     "execution_count": 161,
     "metadata": {},
     "output_type": "execute_result"
    },
    {
     "data": {
      "text/plain": [
       "'C:/Users/khanh/code/DATA_SCIENCE/data/clean_images/test/labels/48342.txt'"
      ]
     },
     "execution_count": 161,
     "metadata": {},
     "output_type": "execute_result"
    },
    {
     "data": {
      "text/plain": [
       "'C:/Users/khanh/code/DATA_SCIENCE/data/clean_images/test/images/48343.jpg'"
      ]
     },
     "execution_count": 161,
     "metadata": {},
     "output_type": "execute_result"
    },
    {
     "data": {
      "text/plain": [
       "'C:/Users/khanh/code/DATA_SCIENCE/data/clean_images/test/labels/48343.txt'"
      ]
     },
     "execution_count": 161,
     "metadata": {},
     "output_type": "execute_result"
    },
    {
     "data": {
      "text/plain": [
       "'C:/Users/khanh/code/DATA_SCIENCE/data/clean_images/test/images/39889.jpg'"
      ]
     },
     "execution_count": 161,
     "metadata": {},
     "output_type": "execute_result"
    },
    {
     "data": {
      "text/plain": [
       "'C:/Users/khanh/code/DATA_SCIENCE/data/clean_images/test/labels/39889.txt'"
      ]
     },
     "execution_count": 161,
     "metadata": {},
     "output_type": "execute_result"
    },
    {
     "data": {
      "text/plain": [
       "'C:/Users/khanh/code/DATA_SCIENCE/data/clean_images/test/images/39890.jpg'"
      ]
     },
     "execution_count": 161,
     "metadata": {},
     "output_type": "execute_result"
    },
    {
     "data": {
      "text/plain": [
       "'C:/Users/khanh/code/DATA_SCIENCE/data/clean_images/test/labels/39890.txt'"
      ]
     },
     "execution_count": 161,
     "metadata": {},
     "output_type": "execute_result"
    },
    {
     "data": {
      "text/plain": [
       "'C:/Users/khanh/code/DATA_SCIENCE/data/clean_images/test/images/3447.jpg'"
      ]
     },
     "execution_count": 161,
     "metadata": {},
     "output_type": "execute_result"
    },
    {
     "data": {
      "text/plain": [
       "'C:/Users/khanh/code/DATA_SCIENCE/data/clean_images/test/labels/3447.txt'"
      ]
     },
     "execution_count": 161,
     "metadata": {},
     "output_type": "execute_result"
    },
    {
     "data": {
      "text/plain": [
       "'C:/Users/khanh/code/DATA_SCIENCE/data/clean_images/test/images/18778.jpg'"
      ]
     },
     "execution_count": 161,
     "metadata": {},
     "output_type": "execute_result"
    },
    {
     "data": {
      "text/plain": [
       "'C:/Users/khanh/code/DATA_SCIENCE/data/clean_images/test/labels/18778.txt'"
      ]
     },
     "execution_count": 161,
     "metadata": {},
     "output_type": "execute_result"
    },
    {
     "data": {
      "text/plain": [
       "'C:/Users/khanh/code/DATA_SCIENCE/data/clean_images/test/images/18781.jpg'"
      ]
     },
     "execution_count": 161,
     "metadata": {},
     "output_type": "execute_result"
    },
    {
     "data": {
      "text/plain": [
       "'C:/Users/khanh/code/DATA_SCIENCE/data/clean_images/test/labels/18781.txt'"
      ]
     },
     "execution_count": 161,
     "metadata": {},
     "output_type": "execute_result"
    },
    {
     "data": {
      "text/plain": [
       "'C:/Users/khanh/code/DATA_SCIENCE/data/clean_images/test/images/18782.jpg'"
      ]
     },
     "execution_count": 161,
     "metadata": {},
     "output_type": "execute_result"
    },
    {
     "data": {
      "text/plain": [
       "'C:/Users/khanh/code/DATA_SCIENCE/data/clean_images/test/labels/18782.txt'"
      ]
     },
     "execution_count": 161,
     "metadata": {},
     "output_type": "execute_result"
    },
    {
     "data": {
      "text/plain": [
       "'C:/Users/khanh/code/DATA_SCIENCE/data/clean_images/test/images/22749.jpg'"
      ]
     },
     "execution_count": 161,
     "metadata": {},
     "output_type": "execute_result"
    },
    {
     "data": {
      "text/plain": [
       "'C:/Users/khanh/code/DATA_SCIENCE/data/clean_images/test/labels/22749.txt'"
      ]
     },
     "execution_count": 161,
     "metadata": {},
     "output_type": "execute_result"
    },
    {
     "data": {
      "text/plain": [
       "'C:/Users/khanh/code/DATA_SCIENCE/data/clean_images/test/images/22751.jpg'"
      ]
     },
     "execution_count": 161,
     "metadata": {},
     "output_type": "execute_result"
    },
    {
     "data": {
      "text/plain": [
       "'C:/Users/khanh/code/DATA_SCIENCE/data/clean_images/test/labels/22751.txt'"
      ]
     },
     "execution_count": 161,
     "metadata": {},
     "output_type": "execute_result"
    },
    {
     "data": {
      "text/plain": [
       "'C:/Users/khanh/code/DATA_SCIENCE/data/clean_images/test/images/22752.jpg'"
      ]
     },
     "execution_count": 161,
     "metadata": {},
     "output_type": "execute_result"
    },
    {
     "data": {
      "text/plain": [
       "'C:/Users/khanh/code/DATA_SCIENCE/data/clean_images/test/labels/22752.txt'"
      ]
     },
     "execution_count": 161,
     "metadata": {},
     "output_type": "execute_result"
    },
    {
     "data": {
      "text/plain": [
       "'C:/Users/khanh/code/DATA_SCIENCE/data/clean_images/test/images/45318.jpg'"
      ]
     },
     "execution_count": 161,
     "metadata": {},
     "output_type": "execute_result"
    },
    {
     "data": {
      "text/plain": [
       "'C:/Users/khanh/code/DATA_SCIENCE/data/clean_images/test/labels/45318.txt'"
      ]
     },
     "execution_count": 161,
     "metadata": {},
     "output_type": "execute_result"
    },
    {
     "data": {
      "text/plain": [
       "'C:/Users/khanh/code/DATA_SCIENCE/data/clean_images/test/images/45320.jpg'"
      ]
     },
     "execution_count": 161,
     "metadata": {},
     "output_type": "execute_result"
    },
    {
     "data": {
      "text/plain": [
       "'C:/Users/khanh/code/DATA_SCIENCE/data/clean_images/test/labels/45320.txt'"
      ]
     },
     "execution_count": 161,
     "metadata": {},
     "output_type": "execute_result"
    },
    {
     "data": {
      "text/plain": [
       "'C:/Users/khanh/code/DATA_SCIENCE/data/clean_images/test/images/45321.jpg'"
      ]
     },
     "execution_count": 161,
     "metadata": {},
     "output_type": "execute_result"
    },
    {
     "data": {
      "text/plain": [
       "'C:/Users/khanh/code/DATA_SCIENCE/data/clean_images/test/labels/45321.txt'"
      ]
     },
     "execution_count": 161,
     "metadata": {},
     "output_type": "execute_result"
    },
    {
     "data": {
      "text/plain": [
       "'C:/Users/khanh/code/DATA_SCIENCE/data/clean_images/test/images/34066.jpg'"
      ]
     },
     "execution_count": 161,
     "metadata": {},
     "output_type": "execute_result"
    },
    {
     "data": {
      "text/plain": [
       "'C:/Users/khanh/code/DATA_SCIENCE/data/clean_images/test/labels/34066.txt'"
      ]
     },
     "execution_count": 161,
     "metadata": {},
     "output_type": "execute_result"
    },
    {
     "data": {
      "text/plain": [
       "'C:/Users/khanh/code/DATA_SCIENCE/data/clean_images/test/images/34067.jpg'"
      ]
     },
     "execution_count": 161,
     "metadata": {},
     "output_type": "execute_result"
    },
    {
     "data": {
      "text/plain": [
       "'C:/Users/khanh/code/DATA_SCIENCE/data/clean_images/test/labels/34067.txt'"
      ]
     },
     "execution_count": 161,
     "metadata": {},
     "output_type": "execute_result"
    },
    {
     "data": {
      "text/plain": [
       "'C:/Users/khanh/code/DATA_SCIENCE/data/clean_images/test/images/34068.jpg'"
      ]
     },
     "execution_count": 161,
     "metadata": {},
     "output_type": "execute_result"
    },
    {
     "data": {
      "text/plain": [
       "'C:/Users/khanh/code/DATA_SCIENCE/data/clean_images/test/labels/34068.txt'"
      ]
     },
     "execution_count": 161,
     "metadata": {},
     "output_type": "execute_result"
    },
    {
     "data": {
      "text/plain": [
       "'C:/Users/khanh/code/DATA_SCIENCE/data/clean_images/test/images/34069.jpg'"
      ]
     },
     "execution_count": 161,
     "metadata": {},
     "output_type": "execute_result"
    },
    {
     "data": {
      "text/plain": [
       "'C:/Users/khanh/code/DATA_SCIENCE/data/clean_images/test/labels/34069.txt'"
      ]
     },
     "execution_count": 161,
     "metadata": {},
     "output_type": "execute_result"
    },
    {
     "data": {
      "text/plain": [
       "'C:/Users/khanh/code/DATA_SCIENCE/data/clean_images/test/images/401.jpg'"
      ]
     },
     "execution_count": 161,
     "metadata": {},
     "output_type": "execute_result"
    },
    {
     "data": {
      "text/plain": [
       "'C:/Users/khanh/code/DATA_SCIENCE/data/clean_images/test/labels/401.txt'"
      ]
     },
     "execution_count": 161,
     "metadata": {},
     "output_type": "execute_result"
    },
    {
     "data": {
      "text/plain": [
       "'C:/Users/khanh/code/DATA_SCIENCE/data/clean_images/test/images/403.jpg'"
      ]
     },
     "execution_count": 161,
     "metadata": {},
     "output_type": "execute_result"
    },
    {
     "data": {
      "text/plain": [
       "'C:/Users/khanh/code/DATA_SCIENCE/data/clean_images/test/labels/403.txt'"
      ]
     },
     "execution_count": 161,
     "metadata": {},
     "output_type": "execute_result"
    },
    {
     "data": {
      "text/plain": [
       "'C:/Users/khanh/code/DATA_SCIENCE/data/clean_images/test/images/404.jpg'"
      ]
     },
     "execution_count": 161,
     "metadata": {},
     "output_type": "execute_result"
    },
    {
     "data": {
      "text/plain": [
       "'C:/Users/khanh/code/DATA_SCIENCE/data/clean_images/test/labels/404.txt'"
      ]
     },
     "execution_count": 161,
     "metadata": {},
     "output_type": "execute_result"
    },
    {
     "data": {
      "text/plain": [
       "'C:/Users/khanh/code/DATA_SCIENCE/data/clean_images/test/images/406.jpg'"
      ]
     },
     "execution_count": 161,
     "metadata": {},
     "output_type": "execute_result"
    },
    {
     "data": {
      "text/plain": [
       "'C:/Users/khanh/code/DATA_SCIENCE/data/clean_images/test/labels/406.txt'"
      ]
     },
     "execution_count": 161,
     "metadata": {},
     "output_type": "execute_result"
    },
    {
     "data": {
      "text/plain": [
       "'C:/Users/khanh/code/DATA_SCIENCE/data/clean_images/test/images/31840.jpg'"
      ]
     },
     "execution_count": 161,
     "metadata": {},
     "output_type": "execute_result"
    },
    {
     "data": {
      "text/plain": [
       "'C:/Users/khanh/code/DATA_SCIENCE/data/clean_images/test/labels/31840.txt'"
      ]
     },
     "execution_count": 161,
     "metadata": {},
     "output_type": "execute_result"
    },
    {
     "data": {
      "text/plain": [
       "'C:/Users/khanh/code/DATA_SCIENCE/data/clean_images/test/images/14736.jpg'"
      ]
     },
     "execution_count": 161,
     "metadata": {},
     "output_type": "execute_result"
    },
    {
     "data": {
      "text/plain": [
       "'C:/Users/khanh/code/DATA_SCIENCE/data/clean_images/test/labels/14736.txt'"
      ]
     },
     "execution_count": 161,
     "metadata": {},
     "output_type": "execute_result"
    },
    {
     "data": {
      "text/plain": [
       "'C:/Users/khanh/code/DATA_SCIENCE/data/clean_images/test/images/14738.jpg'"
      ]
     },
     "execution_count": 161,
     "metadata": {},
     "output_type": "execute_result"
    },
    {
     "data": {
      "text/plain": [
       "'C:/Users/khanh/code/DATA_SCIENCE/data/clean_images/test/labels/14738.txt'"
      ]
     },
     "execution_count": 161,
     "metadata": {},
     "output_type": "execute_result"
    },
    {
     "data": {
      "text/plain": [
       "'C:/Users/khanh/code/DATA_SCIENCE/data/clean_images/test/images/14739.jpg'"
      ]
     },
     "execution_count": 161,
     "metadata": {},
     "output_type": "execute_result"
    },
    {
     "data": {
      "text/plain": [
       "'C:/Users/khanh/code/DATA_SCIENCE/data/clean_images/test/labels/14739.txt'"
      ]
     },
     "execution_count": 161,
     "metadata": {},
     "output_type": "execute_result"
    },
    {
     "data": {
      "text/plain": [
       "'C:/Users/khanh/code/DATA_SCIENCE/data/clean_images/test/images/21494.jpg'"
      ]
     },
     "execution_count": 161,
     "metadata": {},
     "output_type": "execute_result"
    },
    {
     "data": {
      "text/plain": [
       "'C:/Users/khanh/code/DATA_SCIENCE/data/clean_images/test/labels/21494.txt'"
      ]
     },
     "execution_count": 161,
     "metadata": {},
     "output_type": "execute_result"
    },
    {
     "data": {
      "text/plain": [
       "'C:/Users/khanh/code/DATA_SCIENCE/data/clean_images/test/images/6456.jpg'"
      ]
     },
     "execution_count": 161,
     "metadata": {},
     "output_type": "execute_result"
    },
    {
     "data": {
      "text/plain": [
       "'C:/Users/khanh/code/DATA_SCIENCE/data/clean_images/test/labels/6456.txt'"
      ]
     },
     "execution_count": 161,
     "metadata": {},
     "output_type": "execute_result"
    },
    {
     "data": {
      "text/plain": [
       "'C:/Users/khanh/code/DATA_SCIENCE/data/clean_images/test/images/6458.jpg'"
      ]
     },
     "execution_count": 161,
     "metadata": {},
     "output_type": "execute_result"
    },
    {
     "data": {
      "text/plain": [
       "'C:/Users/khanh/code/DATA_SCIENCE/data/clean_images/test/labels/6458.txt'"
      ]
     },
     "execution_count": 161,
     "metadata": {},
     "output_type": "execute_result"
    },
    {
     "data": {
      "text/plain": [
       "'C:/Users/khanh/code/DATA_SCIENCE/data/clean_images/test/images/30664.jpg'"
      ]
     },
     "execution_count": 161,
     "metadata": {},
     "output_type": "execute_result"
    },
    {
     "data": {
      "text/plain": [
       "'C:/Users/khanh/code/DATA_SCIENCE/data/clean_images/test/labels/30664.txt'"
      ]
     },
     "execution_count": 161,
     "metadata": {},
     "output_type": "execute_result"
    },
    {
     "data": {
      "text/plain": [
       "'C:/Users/khanh/code/DATA_SCIENCE/data/clean_images/test/images/35380.jpg'"
      ]
     },
     "execution_count": 161,
     "metadata": {},
     "output_type": "execute_result"
    },
    {
     "data": {
      "text/plain": [
       "'C:/Users/khanh/code/DATA_SCIENCE/data/clean_images/test/labels/35380.txt'"
      ]
     },
     "execution_count": 161,
     "metadata": {},
     "output_type": "execute_result"
    },
    {
     "data": {
      "text/plain": [
       "'C:/Users/khanh/code/DATA_SCIENCE/data/clean_images/test/images/51113.jpg'"
      ]
     },
     "execution_count": 161,
     "metadata": {},
     "output_type": "execute_result"
    },
    {
     "data": {
      "text/plain": [
       "'C:/Users/khanh/code/DATA_SCIENCE/data/clean_images/test/labels/51113.txt'"
      ]
     },
     "execution_count": 161,
     "metadata": {},
     "output_type": "execute_result"
    },
    {
     "data": {
      "text/plain": [
       "'C:/Users/khanh/code/DATA_SCIENCE/data/clean_images/test/images/51114.jpg'"
      ]
     },
     "execution_count": 161,
     "metadata": {},
     "output_type": "execute_result"
    },
    {
     "data": {
      "text/plain": [
       "'C:/Users/khanh/code/DATA_SCIENCE/data/clean_images/test/labels/51114.txt'"
      ]
     },
     "execution_count": 161,
     "metadata": {},
     "output_type": "execute_result"
    },
    {
     "data": {
      "text/plain": [
       "'C:/Users/khanh/code/DATA_SCIENCE/data/clean_images/test/images/51115.jpg'"
      ]
     },
     "execution_count": 161,
     "metadata": {},
     "output_type": "execute_result"
    },
    {
     "data": {
      "text/plain": [
       "'C:/Users/khanh/code/DATA_SCIENCE/data/clean_images/test/labels/51115.txt'"
      ]
     },
     "execution_count": 161,
     "metadata": {},
     "output_type": "execute_result"
    },
    {
     "data": {
      "text/plain": [
       "'C:/Users/khanh/code/DATA_SCIENCE/data/clean_images/test/images/51118.jpg'"
      ]
     },
     "execution_count": 161,
     "metadata": {},
     "output_type": "execute_result"
    },
    {
     "data": {
      "text/plain": [
       "'C:/Users/khanh/code/DATA_SCIENCE/data/clean_images/test/labels/51118.txt'"
      ]
     },
     "execution_count": 161,
     "metadata": {},
     "output_type": "execute_result"
    },
    {
     "data": {
      "text/plain": [
       "'C:/Users/khanh/code/DATA_SCIENCE/data/clean_images/test/images/2320.jpg'"
      ]
     },
     "execution_count": 161,
     "metadata": {},
     "output_type": "execute_result"
    },
    {
     "data": {
      "text/plain": [
       "'C:/Users/khanh/code/DATA_SCIENCE/data/clean_images/test/labels/2320.txt'"
      ]
     },
     "execution_count": 161,
     "metadata": {},
     "output_type": "execute_result"
    },
    {
     "data": {
      "text/plain": [
       "'C:/Users/khanh/code/DATA_SCIENCE/data/clean_images/test/images/2322.jpg'"
      ]
     },
     "execution_count": 161,
     "metadata": {},
     "output_type": "execute_result"
    },
    {
     "data": {
      "text/plain": [
       "'C:/Users/khanh/code/DATA_SCIENCE/data/clean_images/test/labels/2322.txt'"
      ]
     },
     "execution_count": 161,
     "metadata": {},
     "output_type": "execute_result"
    },
    {
     "data": {
      "text/plain": [
       "'C:/Users/khanh/code/DATA_SCIENCE/data/clean_images/test/images/2324.jpg'"
      ]
     },
     "execution_count": 161,
     "metadata": {},
     "output_type": "execute_result"
    },
    {
     "data": {
      "text/plain": [
       "'C:/Users/khanh/code/DATA_SCIENCE/data/clean_images/test/labels/2324.txt'"
      ]
     },
     "execution_count": 161,
     "metadata": {},
     "output_type": "execute_result"
    },
    {
     "data": {
      "text/plain": [
       "'C:/Users/khanh/code/DATA_SCIENCE/data/clean_images/test/images/26546.jpg'"
      ]
     },
     "execution_count": 161,
     "metadata": {},
     "output_type": "execute_result"
    },
    {
     "data": {
      "text/plain": [
       "'C:/Users/khanh/code/DATA_SCIENCE/data/clean_images/test/labels/26546.txt'"
      ]
     },
     "execution_count": 161,
     "metadata": {},
     "output_type": "execute_result"
    },
    {
     "data": {
      "text/plain": [
       "'C:/Users/khanh/code/DATA_SCIENCE/data/clean_images/test/images/26548.jpg'"
      ]
     },
     "execution_count": 161,
     "metadata": {},
     "output_type": "execute_result"
    },
    {
     "data": {
      "text/plain": [
       "'C:/Users/khanh/code/DATA_SCIENCE/data/clean_images/test/labels/26548.txt'"
      ]
     },
     "execution_count": 161,
     "metadata": {},
     "output_type": "execute_result"
    },
    {
     "data": {
      "text/plain": [
       "'C:/Users/khanh/code/DATA_SCIENCE/data/clean_images/test/images/26549.jpg'"
      ]
     },
     "execution_count": 161,
     "metadata": {},
     "output_type": "execute_result"
    },
    {
     "data": {
      "text/plain": [
       "'C:/Users/khanh/code/DATA_SCIENCE/data/clean_images/test/labels/26549.txt'"
      ]
     },
     "execution_count": 161,
     "metadata": {},
     "output_type": "execute_result"
    },
    {
     "data": {
      "text/plain": [
       "'C:/Users/khanh/code/DATA_SCIENCE/data/clean_images/test/images/26551.jpg'"
      ]
     },
     "execution_count": 161,
     "metadata": {},
     "output_type": "execute_result"
    },
    {
     "data": {
      "text/plain": [
       "'C:/Users/khanh/code/DATA_SCIENCE/data/clean_images/test/labels/26551.txt'"
      ]
     },
     "execution_count": 161,
     "metadata": {},
     "output_type": "execute_result"
    },
    {
     "data": {
      "text/plain": [
       "'C:/Users/khanh/code/DATA_SCIENCE/data/clean_images/test/images/13684.jpg'"
      ]
     },
     "execution_count": 161,
     "metadata": {},
     "output_type": "execute_result"
    },
    {
     "data": {
      "text/plain": [
       "'C:/Users/khanh/code/DATA_SCIENCE/data/clean_images/test/labels/13684.txt'"
      ]
     },
     "execution_count": 161,
     "metadata": {},
     "output_type": "execute_result"
    },
    {
     "data": {
      "text/plain": [
       "'C:/Users/khanh/code/DATA_SCIENCE/data/clean_images/test/images/13687.jpg'"
      ]
     },
     "execution_count": 161,
     "metadata": {},
     "output_type": "execute_result"
    },
    {
     "data": {
      "text/plain": [
       "'C:/Users/khanh/code/DATA_SCIENCE/data/clean_images/test/labels/13687.txt'"
      ]
     },
     "execution_count": 161,
     "metadata": {},
     "output_type": "execute_result"
    },
    {
     "data": {
      "text/plain": [
       "'C:/Users/khanh/code/DATA_SCIENCE/data/clean_images/test/images/13688.jpg'"
      ]
     },
     "execution_count": 161,
     "metadata": {},
     "output_type": "execute_result"
    },
    {
     "data": {
      "text/plain": [
       "'C:/Users/khanh/code/DATA_SCIENCE/data/clean_images/test/labels/13688.txt'"
      ]
     },
     "execution_count": 161,
     "metadata": {},
     "output_type": "execute_result"
    },
    {
     "data": {
      "text/plain": [
       "'C:/Users/khanh/code/DATA_SCIENCE/data/clean_images/test/images/35606.jpg'"
      ]
     },
     "execution_count": 161,
     "metadata": {},
     "output_type": "execute_result"
    },
    {
     "data": {
      "text/plain": [
       "'C:/Users/khanh/code/DATA_SCIENCE/data/clean_images/test/labels/35606.txt'"
      ]
     },
     "execution_count": 161,
     "metadata": {},
     "output_type": "execute_result"
    },
    {
     "data": {
      "text/plain": [
       "'C:/Users/khanh/code/DATA_SCIENCE/data/clean_images/test/images/35607.jpg'"
      ]
     },
     "execution_count": 161,
     "metadata": {},
     "output_type": "execute_result"
    },
    {
     "data": {
      "text/plain": [
       "'C:/Users/khanh/code/DATA_SCIENCE/data/clean_images/test/labels/35607.txt'"
      ]
     },
     "execution_count": 161,
     "metadata": {},
     "output_type": "execute_result"
    },
    {
     "data": {
      "text/plain": [
       "'C:/Users/khanh/code/DATA_SCIENCE/data/clean_images/test/images/35609.jpg'"
      ]
     },
     "execution_count": 161,
     "metadata": {},
     "output_type": "execute_result"
    },
    {
     "data": {
      "text/plain": [
       "'C:/Users/khanh/code/DATA_SCIENCE/data/clean_images/test/labels/35609.txt'"
      ]
     },
     "execution_count": 161,
     "metadata": {},
     "output_type": "execute_result"
    },
    {
     "data": {
      "text/plain": [
       "'C:/Users/khanh/code/DATA_SCIENCE/data/clean_images/test/images/35611.jpg'"
      ]
     },
     "execution_count": 161,
     "metadata": {},
     "output_type": "execute_result"
    },
    {
     "data": {
      "text/plain": [
       "'C:/Users/khanh/code/DATA_SCIENCE/data/clean_images/test/labels/35611.txt'"
      ]
     },
     "execution_count": 161,
     "metadata": {},
     "output_type": "execute_result"
    },
    {
     "data": {
      "text/plain": [
       "'C:/Users/khanh/code/DATA_SCIENCE/data/clean_images/test/images/54886.jpg'"
      ]
     },
     "execution_count": 161,
     "metadata": {},
     "output_type": "execute_result"
    },
    {
     "data": {
      "text/plain": [
       "'C:/Users/khanh/code/DATA_SCIENCE/data/clean_images/test/labels/54886.txt'"
      ]
     },
     "execution_count": 161,
     "metadata": {},
     "output_type": "execute_result"
    },
    {
     "data": {
      "text/plain": [
       "'C:/Users/khanh/code/DATA_SCIENCE/data/clean_images/test/images/54888.jpg'"
      ]
     },
     "execution_count": 161,
     "metadata": {},
     "output_type": "execute_result"
    },
    {
     "data": {
      "text/plain": [
       "'C:/Users/khanh/code/DATA_SCIENCE/data/clean_images/test/labels/54888.txt'"
      ]
     },
     "execution_count": 161,
     "metadata": {},
     "output_type": "execute_result"
    },
    {
     "data": {
      "text/plain": [
       "'C:/Users/khanh/code/DATA_SCIENCE/data/clean_images/test/images/54889.jpg'"
      ]
     },
     "execution_count": 161,
     "metadata": {},
     "output_type": "execute_result"
    },
    {
     "data": {
      "text/plain": [
       "'C:/Users/khanh/code/DATA_SCIENCE/data/clean_images/test/labels/54889.txt'"
      ]
     },
     "execution_count": 161,
     "metadata": {},
     "output_type": "execute_result"
    },
    {
     "data": {
      "text/plain": [
       "'C:/Users/khanh/code/DATA_SCIENCE/data/clean_images/test/images/46171.jpg'"
      ]
     },
     "execution_count": 161,
     "metadata": {},
     "output_type": "execute_result"
    },
    {
     "data": {
      "text/plain": [
       "'C:/Users/khanh/code/DATA_SCIENCE/data/clean_images/test/labels/46171.txt'"
      ]
     },
     "execution_count": 161,
     "metadata": {},
     "output_type": "execute_result"
    },
    {
     "data": {
      "text/plain": [
       "'C:/Users/khanh/code/DATA_SCIENCE/data/clean_images/test/images/46172.jpg'"
      ]
     },
     "execution_count": 161,
     "metadata": {},
     "output_type": "execute_result"
    },
    {
     "data": {
      "text/plain": [
       "'C:/Users/khanh/code/DATA_SCIENCE/data/clean_images/test/labels/46172.txt'"
      ]
     },
     "execution_count": 161,
     "metadata": {},
     "output_type": "execute_result"
    },
    {
     "data": {
      "text/plain": [
       "'C:/Users/khanh/code/DATA_SCIENCE/data/clean_images/test/images/46173.jpg'"
      ]
     },
     "execution_count": 161,
     "metadata": {},
     "output_type": "execute_result"
    },
    {
     "data": {
      "text/plain": [
       "'C:/Users/khanh/code/DATA_SCIENCE/data/clean_images/test/labels/46173.txt'"
      ]
     },
     "execution_count": 161,
     "metadata": {},
     "output_type": "execute_result"
    },
    {
     "data": {
      "text/plain": [
       "'C:/Users/khanh/code/DATA_SCIENCE/data/clean_images/test/images/46174.jpg'"
      ]
     },
     "execution_count": 161,
     "metadata": {},
     "output_type": "execute_result"
    },
    {
     "data": {
      "text/plain": [
       "'C:/Users/khanh/code/DATA_SCIENCE/data/clean_images/test/labels/46174.txt'"
      ]
     },
     "execution_count": 161,
     "metadata": {},
     "output_type": "execute_result"
    },
    {
     "data": {
      "text/plain": [
       "'C:/Users/khanh/code/DATA_SCIENCE/data/clean_images/test/images/46175.jpg'"
      ]
     },
     "execution_count": 161,
     "metadata": {},
     "output_type": "execute_result"
    },
    {
     "data": {
      "text/plain": [
       "'C:/Users/khanh/code/DATA_SCIENCE/data/clean_images/test/labels/46175.txt'"
      ]
     },
     "execution_count": 161,
     "metadata": {},
     "output_type": "execute_result"
    },
    {
     "data": {
      "text/plain": [
       "'C:/Users/khanh/code/DATA_SCIENCE/data/clean_images/test/images/5632.jpg'"
      ]
     },
     "execution_count": 161,
     "metadata": {},
     "output_type": "execute_result"
    },
    {
     "data": {
      "text/plain": [
       "'C:/Users/khanh/code/DATA_SCIENCE/data/clean_images/test/labels/5632.txt'"
      ]
     },
     "execution_count": 161,
     "metadata": {},
     "output_type": "execute_result"
    },
    {
     "data": {
      "text/plain": [
       "'C:/Users/khanh/code/DATA_SCIENCE/data/clean_images/test/images/5633.jpg'"
      ]
     },
     "execution_count": 161,
     "metadata": {},
     "output_type": "execute_result"
    },
    {
     "data": {
      "text/plain": [
       "'C:/Users/khanh/code/DATA_SCIENCE/data/clean_images/test/labels/5633.txt'"
      ]
     },
     "execution_count": 161,
     "metadata": {},
     "output_type": "execute_result"
    },
    {
     "data": {
      "text/plain": [
       "'C:/Users/khanh/code/DATA_SCIENCE/data/clean_images/test/images/5635.jpg'"
      ]
     },
     "execution_count": 161,
     "metadata": {},
     "output_type": "execute_result"
    },
    {
     "data": {
      "text/plain": [
       "'C:/Users/khanh/code/DATA_SCIENCE/data/clean_images/test/labels/5635.txt'"
      ]
     },
     "execution_count": 161,
     "metadata": {},
     "output_type": "execute_result"
    },
    {
     "data": {
      "text/plain": [
       "'C:/Users/khanh/code/DATA_SCIENCE/data/clean_images/test/images/5636.jpg'"
      ]
     },
     "execution_count": 161,
     "metadata": {},
     "output_type": "execute_result"
    },
    {
     "data": {
      "text/plain": [
       "'C:/Users/khanh/code/DATA_SCIENCE/data/clean_images/test/labels/5636.txt'"
      ]
     },
     "execution_count": 161,
     "metadata": {},
     "output_type": "execute_result"
    },
    {
     "data": {
      "text/plain": [
       "'C:/Users/khanh/code/DATA_SCIENCE/data/clean_images/test/images/11944.jpg'"
      ]
     },
     "execution_count": 161,
     "metadata": {},
     "output_type": "execute_result"
    },
    {
     "data": {
      "text/plain": [
       "'C:/Users/khanh/code/DATA_SCIENCE/data/clean_images/test/labels/11944.txt'"
      ]
     },
     "execution_count": 161,
     "metadata": {},
     "output_type": "execute_result"
    },
    {
     "data": {
      "text/plain": [
       "'C:/Users/khanh/code/DATA_SCIENCE/data/clean_images/test/images/11946.jpg'"
      ]
     },
     "execution_count": 161,
     "metadata": {},
     "output_type": "execute_result"
    },
    {
     "data": {
      "text/plain": [
       "'C:/Users/khanh/code/DATA_SCIENCE/data/clean_images/test/labels/11946.txt'"
      ]
     },
     "execution_count": 161,
     "metadata": {},
     "output_type": "execute_result"
    },
    {
     "data": {
      "text/plain": [
       "'C:/Users/khanh/code/DATA_SCIENCE/data/clean_images/test/images/8855.jpg'"
      ]
     },
     "execution_count": 161,
     "metadata": {},
     "output_type": "execute_result"
    },
    {
     "data": {
      "text/plain": [
       "'C:/Users/khanh/code/DATA_SCIENCE/data/clean_images/test/labels/8855.txt'"
      ]
     },
     "execution_count": 161,
     "metadata": {},
     "output_type": "execute_result"
    },
    {
     "data": {
      "text/plain": [
       "'C:/Users/khanh/code/DATA_SCIENCE/data/clean_images/test/images/8858.jpg'"
      ]
     },
     "execution_count": 161,
     "metadata": {},
     "output_type": "execute_result"
    },
    {
     "data": {
      "text/plain": [
       "'C:/Users/khanh/code/DATA_SCIENCE/data/clean_images/test/labels/8858.txt'"
      ]
     },
     "execution_count": 161,
     "metadata": {},
     "output_type": "execute_result"
    },
    {
     "data": {
      "text/plain": [
       "'C:/Users/khanh/code/DATA_SCIENCE/data/clean_images/test/images/24162.jpg'"
      ]
     },
     "execution_count": 161,
     "metadata": {},
     "output_type": "execute_result"
    },
    {
     "data": {
      "text/plain": [
       "'C:/Users/khanh/code/DATA_SCIENCE/data/clean_images/test/labels/24162.txt'"
      ]
     },
     "execution_count": 161,
     "metadata": {},
     "output_type": "execute_result"
    },
    {
     "data": {
      "text/plain": [
       "'C:/Users/khanh/code/DATA_SCIENCE/data/clean_images/test/images/37646.jpg'"
      ]
     },
     "execution_count": 161,
     "metadata": {},
     "output_type": "execute_result"
    },
    {
     "data": {
      "text/plain": [
       "'C:/Users/khanh/code/DATA_SCIENCE/data/clean_images/test/labels/37646.txt'"
      ]
     },
     "execution_count": 161,
     "metadata": {},
     "output_type": "execute_result"
    },
    {
     "data": {
      "text/plain": [
       "'C:/Users/khanh/code/DATA_SCIENCE/data/clean_images/test/images/37649.jpg'"
      ]
     },
     "execution_count": 161,
     "metadata": {},
     "output_type": "execute_result"
    },
    {
     "data": {
      "text/plain": [
       "'C:/Users/khanh/code/DATA_SCIENCE/data/clean_images/test/labels/37649.txt'"
      ]
     },
     "execution_count": 161,
     "metadata": {},
     "output_type": "execute_result"
    },
    {
     "data": {
      "text/plain": [
       "'C:/Users/khanh/code/DATA_SCIENCE/data/clean_images/test/images/37651.jpg'"
      ]
     },
     "execution_count": 161,
     "metadata": {},
     "output_type": "execute_result"
    },
    {
     "data": {
      "text/plain": [
       "'C:/Users/khanh/code/DATA_SCIENCE/data/clean_images/test/labels/37651.txt'"
      ]
     },
     "execution_count": 161,
     "metadata": {},
     "output_type": "execute_result"
    }
   ],
   "source": [
    "import os\n",
    "import shutil\n",
    "images_path = \"C:/Users/khanh/code/DATA_SCIENCE/data/clean_images/images/\"\n",
    "labels_path = \"C:/Users/khanh/code/DATA_SCIENCE/data/clean_images/labels/\"\n",
    "\n",
    "test_images_path = \"C:/Users/khanh/code/DATA_SCIENCE/data/clean_images/test/images/\"\n",
    "test_labels_path = \"C:/Users/khanh/code/DATA_SCIENCE/data/clean_images/test/labels/\"\n",
    "link_list = np.array(link_list)\n",
    "for i in test_image_link:\n",
    "    index = np.where(link_list == i)\n",
    "    index = index[0].astype(int)[0]\n",
    "    name_file_txt = link_path_list1[index]\n",
    "    \n",
    "    if not os.path.exists(images_path + name_file_txt.replace('txt','jpg')):\n",
    "        continue\n",
    "    if not os.path.exists(labels_path + name_file_txt):\n",
    "        continue\n",
    "        \n",
    "    if os.path.exists(test_images_path + name_file_txt.replace('txt','jpg')):\n",
    "        os.remove(test_images_path + name_file_txt.replace('txt','jpg'))\n",
    "    if os.path.exists(test_labels_path + name_file_txt):\n",
    "        os.remove(test_labels_path + name_file_txt)\n",
    "        \n",
    "    shutil.move(images_path + name_file_txt.replace('txt','jpg'), test_images_path)\n",
    "    shutil.move(labels_path + name_file_txt, test_labels_path)"
   ]
  },
  {
   "cell_type": "code",
   "execution_count": 165,
   "id": "27b58596",
   "metadata": {
    "scrolled": true
   },
   "outputs": [
    {
     "name": "stdout",
     "output_type": "stream",
     "text": [
      "0 area_119.0\n",
      "1 area_110.0\n",
      "2 area_36.0\n",
      "3 area_11.0\n",
      "4 area_129.0\n",
      "5 area_86.0\n",
      "6 area_73.0\n",
      "7 area_74.0\n",
      "8 area_10.0\n",
      "9 area_100.0\n",
      "10 area_80.0\n",
      "11 area_113.0\n",
      "12 area_96.0\n",
      "13 area_13.0\n",
      "14 area_112.0\n",
      "15 area_108.0\n",
      "16 area_17.0\n",
      "17 area_30.0\n",
      "18 area_107.0\n",
      "19 area_106.0\n",
      "20 area_79.0\n",
      "21 area_102.0\n",
      "22 area_121.0\n",
      "23 area_27.0\n",
      "24 area_111.0\n",
      "25 area_19.0\n",
      "26 area_24.0\n",
      "27 area_98.0\n",
      "28 area_103.0\n",
      "29 area_101.0\n",
      "30 area_12.0\n",
      "31 area_53.0\n",
      "32 area_76.0\n",
      "33 area_109.0\n",
      "34 area_116.0\n",
      "35 area_99.0\n",
      "36 area_26.0\n",
      "37 area_14.0\n",
      "38 area_75.0\n",
      "39 area_77.0\n",
      "40 area_115.0\n",
      "41 area_21.0\n",
      "42 area_31.0\n",
      "43 area_20.0\n",
      "44 area_34.0\n",
      "45 area_117.0\n",
      "46 area_29.0\n",
      "47 area_16.0\n",
      "48 area_32.0\n",
      "49 area_81.0\n",
      "50 area_105.0\n",
      "51 area_118.0\n",
      "52 area_57.0\n",
      "53 area_33.0\n",
      "54 area_64.0\n",
      "55 area_40.0\n",
      "56 area_44.0\n",
      "57 area_50.0\n",
      "58 area_3.0\n",
      "59 area_90.0\n",
      "60 area_54.0\n",
      "61 area_43.0\n",
      "62 area_78.0\n",
      "63 area_39.0\n",
      "64 area_87.0\n",
      "65 area_51.0\n",
      "66 area_123.0\n",
      "67 area_82.0\n",
      "68 area_47.0\n",
      "69 area_4.0\n",
      "70 area_35.0\n",
      "71 area_42.0\n",
      "72 area_2.0\n",
      "73 area_56.0\n",
      "74 area_65.0\n",
      "75 area_8.0\n",
      "76 area_84.0\n",
      "77 area_1.0\n",
      "78 area_49.0\n",
      "79 area_60.0\n",
      "80 area_6.0\n",
      "81 area_83.0\n",
      "82 area_28.0\n",
      "83 area_7.0\n",
      "84 area_45.0\n",
      "85 area_128.0\n",
      "86 area_89.0\n",
      "87 area_120.0\n",
      "88 region_13.0\n",
      "89 region_5.0\n",
      "90 region_2.0\n",
      "91 region_12.0\n",
      "92 region_3.0\n",
      "93 region_4.0\n",
      "94 region_9.0\n",
      "95 region_10.0\n",
      "96 region_6.0\n",
      "97 region_7.0\n",
      "98 region_8.0\n",
      "99 region_1.0\n",
      "100 company_ad\n",
      "101 images\n",
      "102 brand_Honda\n",
      "103 brand_Piaggio\n",
      "104 brand_Suzuki\n",
      "105 brand_Yamaha\n",
      "106 brand_Kymco\n",
      "107 brand_Hãng khác\n",
      "108 brand_RebelUSA\n",
      "109 brand_Bazan\n",
      "110 brand_GPX\n",
      "111 brand_MV Agusta\n",
      "112 brand_SYM\n",
      "113 brand_Harley Davidson\n",
      "114 brand_Ducati\n",
      "115 brand_Brixton\n",
      "116 brand_Visitor\n",
      "117 brand_Kawasaki\n",
      "118 brand_Keeway\n",
      "119 brand_Sachs\n",
      "120 brand_Daelim\n",
      "121 brand_Benelli\n",
      "122 brand_Detech\n",
      "123 brand_Peugeot\n",
      "124 brand_Euro Reibel\n",
      "125 brand_Halim\n",
      "126 brand_Taya\n",
      "127 brand_Royal Enfield\n",
      "128 brand_Hyosung\n",
      "129 brand_KTM\n",
      "130 brand_Sanda\n",
      "131 brand_Regal Raptor\n",
      "132 brand_Triumph\n",
      "133 brand_Vento\n",
      "134 brand_Nioshima\n",
      "135 model_Vario\n",
      "136 model_Sprint\n",
      "137 model_Dream\n",
      "138 model_Sonic\n",
      "139 model_SH\n",
      "140 model_Lead\n",
      "141 model_Dòng khác\n",
      "142 model_GD\n",
      "143 model_Nvx\n",
      "144 model_Air Blade\n",
      "145 model_@\n",
      "146 model_Wave\n",
      "147 model_Exciter\n",
      "148 model_Winner X\n",
      "149 model_Vespa\n",
      "150 model_PCX\n",
      "151 model_Liberty\n",
      "152 model_Candy Hi\n",
      "153 model_Click\n",
      "154 model_Winner\n",
      "155 model_SH Mode\n",
      "156 model_CBR\n",
      "157 model_Nouvo\n",
      "158 model_Demon 150GR\n",
      "159 model_Future\n",
      "160 model_Dragster\n",
      "161 model_Vision\n",
      "162 model_Scoopy\n",
      "163 model_Demon 150GN\n",
      "164 model_Notus\n",
      "165 model_CG125Fi\n",
      "166 model_Attila\n",
      "167 model_TFX\n",
      "168 model_Sirius\n",
      "169 model_FZ\n",
      "170 model_Legend 200\n",
      "171 model_Beat\n",
      "172 model_Jupiter\n",
      "173 model_Cub\n",
      "174 model_LX\n",
      "175 model_Shark\n",
      "176 model_CB\n",
      "177 model_Medley\n",
      "178 model_67\n",
      "179 model_Zip\n",
      "180 model_Luvias\n",
      "181 model_Satria\n",
      "182 model_Street\n",
      "183 model_GSX\n",
      "184 model_R\n",
      "185 model_Spacy\n",
      "186 model_Taurus\n",
      "187 model_Mio\n",
      "188 model_BX 150\n",
      "189 model_Phoenix\n",
      "190 model_Janus\n",
      "191 model_Grande\n",
      "192 model_MSX 125\n",
      "193 model_Hayate\n",
      "194 model_MT\n",
      "195 model_Acruzo\n",
      "196 model_W175\n",
      "197 model_Fly\n",
      "198 model_PS\n",
      "199 model_Citi\n",
      "200 model_Blackster\n",
      "201 model_Z300\n",
      "202 model_SCR\n",
      "203 model_Galaxy\n",
      "204 model_Amici\n",
      "205 model_Sport / Xipo\n",
      "206 model_Elegant\n",
      "207 model_Viva\n",
      "208 model_Smash\n",
      "209 model_GTS\n",
      "210 model_Axelo\n",
      "211 model_Monster\n",
      "212 model_Blade\n",
      "213 model_Dylan\n",
      "214 model_ADV 150\n",
      "215 model_Primavera\n",
      "216 model_Rebel\n",
      "217 model_CD\n",
      "218 model_Bonus\n",
      "219 model_Nozza\n",
      "220 model_TNT\n",
      "221 model_K-Pipe\n",
      "222 model_Angela\n",
      "223 model_Raider\n",
      "224 model_Freego\n",
      "225 model_Giorno\n",
      "226 model_Xbike\n",
      "227 model_Vespa S125\n",
      "228 model_YB125\n",
      "229 model_Husky\n",
      "230 model_Win\n",
      "231 model_Sanda Boss\n",
      "232 model_Elizabeth\n",
      "233 model_Espero\n",
      "234 model_ZX6R\n",
      "235 model_Django\n",
      "236 model_Legend 150S\n",
      "237 model_Magic\n",
      "238 model_Max\n",
      "239 model_Bella\n",
      "240 model_Wolf\n",
      "241 model_Epicuro\n",
      "242 model_Vulcan\n",
      "243 model_KSR\n",
      "244 model_EN\n",
      "245 model_CDR\n",
      "246 model_Nova\n",
      "247 model_Cuxi\n",
      "248 model_Elite\n",
      "249 model_Chaly\n",
      "250 model_Crystal\n",
      "251 model_Beverly\n",
      "252 model_Rock\n",
      "253 model_GZ\n",
      "254 model_Kawasaki\n",
      "255 model_GT\n",
      "256 model_BN 302\n",
      "257 model_YAZ\n",
      "258 model_TRK\n",
      "259 model_Star\n",
      "260 model_ZX10R\n",
      "261 model_Like MMC\n",
      "262 model_Latte\n",
      "263 model_Legend Gentleman 200\n",
      "264 model_KPR\n",
      "265 model_Royal\n",
      "266 model_XMAX\n",
      "267 model_Sapphire\n",
      "268 model_Impulse\n",
      "269 model_ET8\n",
      "270 model_Joyride\n",
      "271 model_Shadow\n",
      "272 model_Z1000\n",
      "273 model_Z125\n",
      "274 model_Classic 500\n",
      "275 model_Like Fi\n",
      "276 model_Bios\n",
      "277 model_E-FIVE\n",
      "278 model_Duke 250\n",
      "279 model_Duke 200\n",
      "280 model_Jockey Fi\n",
      "281 model_VS125\n",
      "282 model_Yass\n",
      "283 model_RFS\n",
      "284 model_Besbi125\n",
      "285 model_Cruiser\n",
      "286 model_Cello\n",
      "287 model_Triumph Bonneville T100\n",
      "288 model_Rebellian\n",
      "289 model_Intruder\n",
      "290 model_Interceptor 650\n",
      "291 model_Estrella\n",
      "292 model_Leo\n",
      "293 model_Rebell\n",
      "294 model_Best\n",
      "295 model_Monkey\n",
      "296 model_Ninja\n",
      "297 model_People 16 Fi\n",
      "298 model_Symphony\n",
      "299 model_Nio Fi 50cc\n",
      "300 model_Revo\n",
      "301 model_NM-X\n",
      "302 model_390\n",
      "303 year\n",
      "304 km\n",
      "305 type_Tay ga\n",
      "306 type_Xe số\n",
      "307 type_Tay côn/Moto\n",
      "308 capacity_100 - 175 cc\n",
      "309 capacity_Không biết\n",
      "310 capacity_50 - 100 cc\n",
      "311 capacity_Dưới 50 cc\n",
      "312 capacity_Trên 175 cc\n",
      "313 price\n"
     ]
    }
   ],
   "source": [
    "count = 0\n",
    "for i in train_set.columns:\n",
    "    print(count, i)\n",
    "    count+=1"
   ]
  },
  {
   "cell_type": "code",
   "execution_count": 166,
   "id": "455977b7",
   "metadata": {},
   "outputs": [],
   "source": [
    "train_set = train_set.values\n",
    "test_set = test_set.values"
   ]
  },
  {
   "cell_type": "code",
   "execution_count": 167,
   "id": "46563f72",
   "metadata": {},
   "outputs": [
    {
     "name": "stdout",
     "output_type": "stream",
     "text": [
      "min year: 1980\n",
      "max - min year: 42\n",
      "mean km: 27312.64467833646\n",
      "std km: 26587.651077460952\n"
     ]
    }
   ],
   "source": [
    "# 302 model_390\n",
    "# 303 year\n",
    "# 304 km\n",
    "# 305 type_Tay ga\n",
    "# 306 type_Xe số\n",
    "# 307 type_Tay côn/Moto\n",
    "# 308 capacity_100 - 175 cc\n",
    "# 309 capacity_Không biết\n",
    "# 310 capacity_50 - 100 cc\n",
    "# 311 capacity_Dưới 50 cc\n",
    "# 312 capacity_Trên 175 cc\n",
    "# 313 price\n",
    "train_year = train_set[:,303]\n",
    "train_km = train_set[:,304]\n",
    "test_year = test_set[:,303]\n",
    "test_km = test_set[:,304]\n",
    "print('min year:', np.min(train_year))\n",
    "print('max - min year:', np.max(train_year) - np.min(train_year))\n",
    "print('mean km:', np.mean(train_km))\n",
    "print('std km:', np.std(train_km))"
   ]
  },
  {
   "cell_type": "code",
   "execution_count": 168,
   "id": "0b332d80",
   "metadata": {},
   "outputs": [],
   "source": [
    "# Normalize year column using Linear Scaling\n",
    "train_year_normalized = (train_year - np.min(train_year)) / (np.max(train_year) - np.min(train_year))\n",
    "test_year_normalized = (test_year - np.min(train_year)) / (np.max(train_year) - np.min(train_year))\n",
    "# Normalize km column using Z-Score normalization\n",
    "train_km_normalized = (train_km - np.mean(train_km)) / np.std(train_km)\n",
    "test_km_normalized = (test_km - np.mean(train_km)) / np.std(train_km)\n",
    "# Replace the original columns with the normalized columns\n",
    "train_set[:, 303] = train_year_normalized\n",
    "train_set[:, 304] = train_km_normalized\n",
    "test_set[:, 303] = test_year_normalized\n",
    "test_set[:, 304] = test_km_normalized"
   ]
  },
  {
   "cell_type": "code",
   "execution_count": 174,
   "id": "edc3754c",
   "metadata": {},
   "outputs": [],
   "source": [
    "# np.savetxt(\"C:/Users/khanh/code/DATA_SCIENCE/data/using_images/train_set.csv\", train_set, fmt=\"%s\")\n",
    "# np.savetxt(\"C:/Users/khanh/code/DATA_SCIENCE/data/using_images/test_set.csv\", test_set, fmt=\"%s\")"
   ]
  },
  {
   "cell_type": "code",
   "execution_count": 189,
   "id": "98f136a5",
   "metadata": {},
   "outputs": [],
   "source": [
    "train_set = pd.DataFrame(train_set)\n",
    "test_set = pd.DataFrame(test_set)\n",
    "train_set.to_csv(\"C:/Users/khanh/code/DATA_SCIENCE/data/using_images/train_set.csv\", index=False)\n",
    "test_set.to_csv(\"C:/Users/khanh/code/DATA_SCIENCE/data/using_images/test_set.csv\", index=False)"
   ]
  }
 ],
 "metadata": {
  "kernelspec": {
   "display_name": "Python 3 (ipykernel)",
   "language": "python",
   "name": "python3"
  },
  "language_info": {
   "codemirror_mode": {
    "name": "ipython",
    "version": 3
   },
   "file_extension": ".py",
   "mimetype": "text/x-python",
   "name": "python",
   "nbconvert_exporter": "python",
   "pygments_lexer": "ipython3",
   "version": "3.10.9"
  }
 },
 "nbformat": 4,
 "nbformat_minor": 5
}
