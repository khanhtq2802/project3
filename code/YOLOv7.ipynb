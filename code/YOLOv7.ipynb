{
 "cells": [
  {
   "cell_type": "markdown",
   "metadata": {
    "id": "84sNOLQsNS5f"
   },
   "source": [
    "##### Download data, upzip, clone YOLOv7"
   ]
  },
  {
   "cell_type": "code",
   "execution_count": null,
   "metadata": {
    "id": "Y75CUeQNNLdO"
   },
   "outputs": [],
   "source": [
    "pip install -U --no-cache-dir gdown --pre"
   ]
  },
  {
   "cell_type": "code",
   "execution_count": null,
   "metadata": {
    "id": "DFhcCvjKqhOY"
   },
   "outputs": [],
   "source": [
    "!apt-get install unrar"
   ]
  },
  {
   "cell_type": "code",
   "execution_count": null,
   "metadata": {
    "id": "lSoC2bkLNZeT"
   },
   "outputs": [],
   "source": [
    "! gdown --id 1CywMXvjvk7fXscJv65V72S7hxRM0ig9m\n",
    "!unrar x motor_image.rar"
   ]
  },
  {
   "cell_type": "code",
   "execution_count": 6,
   "metadata": {
    "colab": {
     "base_uri": "https://localhost:8080/"
    },
    "executionInfo": {
     "elapsed": 6205,
     "status": "ok",
     "timestamp": 1676190656854,
     "user": {
      "displayName": "Khanh Tran",
      "userId": "03496311326104607074"
     },
     "user_tz": -420
    },
    "id": "AOTMmue2OJc-",
    "outputId": "9f2a9ae7-3509-43d5-da9d-9f5877ffdadf"
   },
   "outputs": [
    {
     "name": "stdout",
     "output_type": "stream",
     "text": [
      "/content\n",
      "Cloning into 'yolov7'...\n",
      "remote: Enumerating objects: 1127, done.\u001b[K\n",
      "remote: Total 1127 (delta 0), reused 0 (delta 0), pack-reused 1127\u001b[K\n",
      "Receiving objects: 100% (1127/1127), 69.94 MiB | 17.19 MiB/s, done.\n",
      "Resolving deltas: 100% (521/521), done.\n"
     ]
    }
   ],
   "source": [
    "%cd /content/\n",
    "!git clone https://github.com/WongKinYiu/yolov7.git\n",
    "%cd /content/yolov7\n",
    "!pip install -r requirements.txt"
   ]
  },
  {
   "cell_type": "markdown",
   "metadata": {
    "id": "j4xfAIVK6g4O"
   },
   "source": [
    "##### clean images"
   ]
  },
  {
   "cell_type": "code",
   "execution_count": null,
   "metadata": {
    "id": "VxXZGzyx6uRc"
   },
   "outputs": [],
   "source": [
    "import os\n",
    "import matplotlib\n",
    "import matplotlib.pyplot as plt\n",
    "folder = \"/content/motor_image/images/\"\n",
    "list_images = os.listdir(folder)\n",
    "for i in list_images:\n",
    "    try:\n",
    "        matplotlib.image.imread(folder + i)\n",
    "    except:\n",
    "        os.remove(folder + i)\n",
    "        print(i)"
   ]
  },
  {
   "cell_type": "markdown",
   "metadata": {
    "id": "DjpQyIlO6p9g"
   },
   "source": [
    "#####process"
   ]
  },
  {
   "cell_type": "code",
   "execution_count": 26,
   "metadata": {
    "colab": {
     "base_uri": "https://localhost:8080/"
    },
    "executionInfo": {
     "elapsed": 2537094,
     "status": "ok",
     "timestamp": 1676196781145,
     "user": {
      "displayName": "Khanh Tran",
      "userId": "03496311326104607074"
     },
     "user_tz": -420
    },
    "id": "ElXgeaXpwIwK",
    "outputId": "b7c1f62c-890f-442f-8d27-a25dfc6d3da5"
   },
   "outputs": [
    {
     "name": "stdout",
     "output_type": "stream",
     "text": [
      "/content/yolov7\n",
      "YOLOR 🚀 v0.1-121-g2fdc7f1 torch 1.13.1+cu116 CUDA:0 (Tesla T4, 15109.875MB)\n",
      "\n",
      "Fusing layers... \n",
      "RepConv.fuse_repvgg_block\n",
      "RepConv.fuse_repvgg_block\n",
      "RepConv.fuse_repvgg_block\n",
      "Model Summary: 306 layers, 36905341 parameters, 6652669 gradients\n",
      " Convert model to Traced-model... \n",
      " traced_script_module saved! \n",
      " model is traced! \n",
      "\n",
      "/usr/local/lib/python3.8/dist-packages/torch/functional.py:504: UserWarning: torch.meshgrid: in an upcoming release, it will be required to pass the indexing argument. (Triggered internally at ../aten/src/ATen/native/TensorShape.cpp:3190.)\n",
      "  return _VF.meshgrid(tensors, **kwargs)  # type: ignore[attr-defined]\n"
     ]
    }
   ],
   "source": [
    "%cd /content/yolov7\n",
    "!python detect.py --source /content/motor_image/images --nosave --classes 3"
   ]
  },
  {
   "cell_type": "markdown",
   "metadata": {
    "id": "zrDki83g_5fM"
   },
   "source": [
    "#####Resize images"
   ]
  },
  {
   "cell_type": "code",
   "execution_count": 27,
   "metadata": {
    "executionInfo": {
     "elapsed": 507097,
     "status": "ok",
     "timestamp": 1676197288235,
     "user": {
      "displayName": "Khanh Tran",
      "userId": "03496311326104607074"
     },
     "user_tz": -420
    },
    "id": "OUW9EQM8-Q0E"
   },
   "outputs": [],
   "source": [
    "import os\n",
    "from PIL import Image\n",
    "\n",
    "# Define the folder where the images are located\n",
    "folder = \"/content/cropped_images/images\"\n",
    "\n",
    "# Iterate over all images in the folder\n",
    "for filename in os.listdir(folder):\n",
    "    if filename.endswith(\".jpg\"):\n",
    "        # Open the image using PIL\n",
    "        img = Image.open(os.path.join(folder, filename))\n",
    "        # Resize the image to desired size\n",
    "        img_resized = img.resize((224,224))\n",
    "        # Save the resized image with a new name\n",
    "        img_resized.save(os.path.join(folder, filename))"
   ]
  },
  {
   "cell_type": "code",
   "execution_count": 28,
   "metadata": {
    "colab": {
     "base_uri": "https://localhost:8080/",
     "height": 53
    },
    "executionInfo": {
     "elapsed": 14475,
     "status": "ok",
     "timestamp": 1676197304340,
     "user": {
      "displayName": "Khanh Tran",
      "userId": "03496311326104607074"
     },
     "user_tz": -420
    },
    "id": "nFMWDNAZA2ne",
    "outputId": "25ec947e-d030-4fc4-e205-bf4e15d6b625"
   },
   "outputs": [
    {
     "name": "stdout",
     "output_type": "stream",
     "text": [
      "/content\n"
     ]
    },
    {
     "data": {
      "application/vnd.google.colaboratory.intrinsic+json": {
       "type": "string"
      },
      "text/plain": [
       "'/content/drive/MyDrive/Project Data Science/data/cropped_images.zip'"
      ]
     },
     "execution_count": 28,
     "metadata": {},
     "output_type": "execute_result"
    }
   ],
   "source": [
    "import shutil\n",
    "%cd /content/\n",
    "shutil.make_archive('/content/cropped_images', 'zip', 'cropped_images')\n",
    "shutil.copy2('/content/cropped_images.zip', '/content/drive/MyDrive/Project Data Science/data/cropped_images.zip')"
   ]
  }
 ],
 "metadata": {
  "accelerator": "GPU",
  "colab": {
   "authorship_tag": "ABX9TyPquctcs2ub065LvoAzrWXt",
   "machine_shape": "hm",
   "mount_file_id": "1SLzdOoJ78-4Gsj5mt_NoQTkL1P954f3b",
   "provenance": []
  },
  "gpuClass": "standard",
  "kernelspec": {
   "display_name": "Python 3 (ipykernel)",
   "language": "python",
   "name": "python3"
  },
  "language_info": {
   "codemirror_mode": {
    "name": "ipython",
    "version": 3
   },
   "file_extension": ".py",
   "mimetype": "text/x-python",
   "name": "python",
   "nbconvert_exporter": "python",
   "pygments_lexer": "ipython3",
   "version": "3.10.9"
  }
 },
 "nbformat": 4,
 "nbformat_minor": 1
}
